{
 "cells": [
  {
   "cell_type": "markdown",
   "metadata": {},
   "source": [
    "# Специальные проверки\n",
    "\n",
    "Часто наши данные довольно сложно анализировать из-за того, что в них содержатся дубликаты или незаполненные значения. Дублирующие и незаполненные поля могут привести к нежелательным дублям при объединении источников или к занулением всех значений при агрегации или математических операциях (в Python пустое значение NaN в операциях ведет себя следующим образом: `NaN + 2 == NaN`). Как найти и избавиться от таких значений?"
   ]
  },
  {
   "cell_type": "code",
   "execution_count": null,
   "metadata": {},
   "outputs": [],
   "source": [
    "import pandas as pd\n",
    "orders = pd.read_excel('Superstore.xls')"
   ]
  },
  {
   "cell_type": "markdown",
   "metadata": {},
   "source": [
    "## Дубликаты\n",
    "Для работы с дубликатами есть 2 важные функции: `duplicated()` и `drop_duplicates()` (обе функции запускаются от имени таблицы). Функция `duplicated()` является фильтром и позволяет найти дублирующиеся строки:"
   ]
  },
  {
   "cell_type": "code",
   "execution_count": null,
   "metadata": {},
   "outputs": [],
   "source": [
    "# Найдем все строки, в которых Order ID и Customer ID повторяются\n",
    "orders.loc[orders.loc[:, ['Order ID', 'Customer ID']].duplicated(), :]"
   ]
  },
  {
   "cell_type": "markdown",
   "metadata": {},
   "source": [
    "**Обратите внимание!** По умолчанию функция помечает как дубликат все строки, кроме первой."
   ]
  },
  {
   "cell_type": "markdown",
   "metadata": {},
   "source": [
    "Попробуйте найти дубликаты только по столбцам 'Order ID', 'Order Date', 'Ship Date', 'Ship Mode', 'Customer ID', 'Customer Name'. Сравните получившуюся таблицу с полученной в предыдущей ячейке. "
   ]
  },
  {
   "cell_type": "code",
   "execution_count": null,
   "metadata": {},
   "outputs": [],
   "source": []
  },
  {
   "cell_type": "markdown",
   "metadata": {},
   "source": [
    "Чтобы найти наоборот, не дубликаты, а не дублирующиеся значения, нужно инвертировать результат использования `duplicated()`. Для инверсии используется символ `~`.\n",
    "\n",
    "Добавление параметра `keep=False` в функцию `duplicated(...)` позволит пометить как дубликаты все дублирующие строки, включая первую."
   ]
  },
  {
   "cell_type": "code",
   "execution_count": null,
   "metadata": {},
   "outputs": [],
   "source": [
    "# Найдем всех покупателей, которые заказали только один товар, и информацию о их покупках\n",
    "orders.loc[~orders.loc[:, 'Customer Name'].duplicated(keep=False), :]"
   ]
  },
  {
   "cell_type": "markdown",
   "metadata": {},
   "source": [
    "Иногда нужно просто взять таблицу и удалить из нее все дубликаты. Это делается функцией `drop_duplicates()`."
   ]
  },
  {
   "cell_type": "code",
   "execution_count": null,
   "metadata": {},
   "outputs": [],
   "source": [
    "orders.loc[:, ['Customer ID','Customer Name']].drop_duplicates()"
   ]
  },
  {
   "cell_type": "markdown",
   "metadata": {},
   "source": [
    "Применение параметра `keep=False` также приведет к удалению всех дублирующих строк, включая первую."
   ]
  },
  {
   "cell_type": "markdown",
   "metadata": {},
   "source": [
    "На листе Returns находятся данные о возвратах, однако данные были внесены с ошибками и информация о возврате дублирована по количеству товаров в заказе. Посчитайте реальное количество возвратных заказов."
   ]
  },
  {
   "cell_type": "code",
   "execution_count": null,
   "metadata": {},
   "outputs": [],
   "source": []
  },
  {
   "cell_type": "markdown",
   "metadata": {},
   "source": [
    "## Пустые ячейки\n",
    "\n",
    "Чтобы найти незаполненные ячейки, можно использовать функцию `isna()`. Результатом выполнения этой функции будет таблица с теми же столбцами и строками, но заполненная `True` там, где значения отсутствует, и False в остальных случаях:"
   ]
  },
  {
   "cell_type": "code",
   "execution_count": null,
   "metadata": {},
   "outputs": [],
   "source": [
    "orders.isna()"
   ]
  },
  {
   "cell_type": "markdown",
   "metadata": {},
   "source": [
    "Совместное использование с функциями `all()` и `any()` позволит определить, в каких столбцах все или хотя бы одно значение отсутствует соответственно:"
   ]
  },
  {
   "cell_type": "code",
   "execution_count": null,
   "metadata": {},
   "outputs": [],
   "source": [
    "orders.isna().any()"
   ]
  },
  {
   "cell_type": "markdown",
   "metadata": {},
   "source": [
    "Это позволит нам быстро находить записи, в которых значения незаполненны. Для этого функцию `isna()` применим к интересующей нас колонке и используем как фильтр:"
   ]
  },
  {
   "cell_type": "code",
   "execution_count": null,
   "metadata": {},
   "outputs": [],
   "source": [
    "orders.loc[orders.loc[:, 'Postal Code'].isna(), :]"
   ]
  },
  {
   "cell_type": "markdown",
   "metadata": {},
   "source": [
    "Заполнить эти значения можно по старинке присваиванием с фильтром:"
   ]
  },
  {
   "cell_type": "code",
   "execution_count": null,
   "metadata": {},
   "outputs": [],
   "source": [
    "orders.loc[:, 'Postal Code 1'] = orders.loc[orders.loc[:, 'Postal Code'].isna(), 'Postal Code'] = 'Без индекса'\n",
    "orders"
   ]
  },
  {
   "cell_type": "markdown",
   "metadata": {},
   "source": [
    "Либо с помощью короткого синтаксиса `fillna()`, который автоматически подставит фильтры где нужно (удобно, когда в качестве параметра указывается колонка). `fillna()` можно использовать с таблицей целиком."
   ]
  },
  {
   "cell_type": "code",
   "execution_count": null,
   "metadata": {},
   "outputs": [],
   "source": [
    "orders.loc[:, 'Postal Code 2'] = orders.loc[:, 'Postal Code'].fillna('Без индекса')\n",
    "orders"
   ]
  },
  {
   "cell_type": "markdown",
   "metadata": {},
   "source": [
    "Если мы хотим избавиться от строк с дубликатами совсем, то можем использовать метод `dropna()`:"
   ]
  },
  {
   "cell_type": "code",
   "execution_count": null,
   "metadata": {},
   "outputs": [],
   "source": [
    "orders = orders.dropna(subset=['Postal Code'])\n",
    "orders"
   ]
  }
 ],
 "metadata": {
  "kernelspec": {
   "display_name": "Python 3",
   "language": "python",
   "name": "python3"
  },
  "language_info": {
   "codemirror_mode": {
    "name": "ipython",
    "version": 3
   },
   "file_extension": ".py",
   "mimetype": "text/x-python",
   "name": "python",
   "nbconvert_exporter": "python",
   "pygments_lexer": "ipython3",
   "version": "3.8.6"
  }
 },
 "nbformat": 4,
 "nbformat_minor": 4
}
