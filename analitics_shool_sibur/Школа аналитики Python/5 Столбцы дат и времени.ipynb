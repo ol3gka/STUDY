{
 "cells": [
  {
   "cell_type": "markdown",
   "metadata": {},
   "source": [
    "# Работа с датами в таблицах\n",
    "\n",
    "Даты являются третьим по популярности типом данных в таблицах после чисел и строк. Работа с ними чем-то похожа на работу с текстовыми столбцами: для них выделена отдельная категория функций."
   ]
  },
  {
   "cell_type": "code",
   "execution_count": 1,
   "metadata": {},
   "outputs": [],
   "source": [
    "import pandas as pd\n",
    "orders = pd.read_excel('Superstore.xls')"
   ]
  },
  {
   "cell_type": "markdown",
   "metadata": {},
   "source": [
    "## Операции с датами\n",
    "\n",
    "С датами можно совершать операции вычитания. Например, найдем время, которое потребовалось для доставки товара с момента его оформления:"
   ]
  },
  {
   "cell_type": "code",
   "execution_count": 3,
   "metadata": {},
   "outputs": [
    {
     "data": {
      "text/plain": [
       "0      -3 days\n",
       "1      -3 days\n",
       "2      -4 days\n",
       "3      -7 days\n",
       "4      -7 days\n",
       "         ...  \n",
       "9989   -2 days\n",
       "9990   -5 days\n",
       "9991   -5 days\n",
       "9992   -5 days\n",
       "9993   -5 days\n",
       "Length: 9994, dtype: timedelta64[ns]"
      ]
     },
     "execution_count": 3,
     "metadata": {},
     "output_type": "execute_result"
    }
   ],
   "source": [
    "orders['Order Date'] - orders['Ship Date']"
   ]
  },
  {
   "cell_type": "markdown",
   "metadata": {},
   "source": [
    "В результате этой операции мы получаем уже не дату, а интервал. Интервал времени можно прибавлять и отнимать у дат, получая тем самым другие даты. Попробуем найти дату окончания гарантии на товар (1 год с момента покупки):"
   ]
  },
  {
   "cell_type": "markdown",
   "metadata": {},
   "source": [
    "Команда `pd.DateOffset(...)` создает интервал времени с заданными вами настройками:\n",
    "* years – год\n",
    "* months – месяц\n",
    "* days – день\n",
    "* hours – час\n",
    "* minutes – минута\n",
    "* seconds – секунда"
   ]
  },
  {
   "cell_type": "code",
   "execution_count": 15,
   "metadata": {},
   "outputs": [
    {
     "data": {
      "text/plain": [
       "Timestamp('2023-03-18 11:50:33.407602')"
      ]
     },
     "execution_count": 15,
     "metadata": {},
     "output_type": "execute_result"
    }
   ],
   "source": [
    "pd.Timestamp.now()+pd.DateOffset(days=3)"
   ]
  },
  {
   "cell_type": "markdown",
   "metadata": {},
   "source": [
    "Командой `pd.Timestamp()` можно аналогично получать конкретные дату и время:"
   ]
  },
  {
   "cell_type": "code",
   "execution_count": 5,
   "metadata": {},
   "outputs": [
    {
     "data": {
      "text/plain": [
       "Timestamp('2023-03-15 11:39:23.973877')"
      ]
     },
     "execution_count": 5,
     "metadata": {},
     "output_type": "execute_result"
    }
   ],
   "source": [
    "pd.Timestamp(year=2023, month=1, day=1)"
   ]
  },
  {
   "cell_type": "markdown",
   "metadata": {},
   "source": [
    "Для получения текущей даты можно использовать:"
   ]
  },
  {
   "cell_type": "code",
   "execution_count": null,
   "metadata": {},
   "outputs": [],
   "source": [
    "pd.Timestamp.now()"
   ]
  },
  {
   "cell_type": "markdown",
   "metadata": {},
   "source": [
    "## Получение части даты\n",
    "Дата, как и интервал, состоят из лет, месяцев и т.д. Получить конкретную часть даты или времени можно следующим образом:"
   ]
  },
  {
   "cell_type": "code",
   "execution_count": 9,
   "metadata": {},
   "outputs": [
    {
     "data": {
      "text/plain": [
       "0        8\n",
       "1        8\n",
       "2       12\n",
       "3       11\n",
       "4       11\n",
       "        ..\n",
       "9989    21\n",
       "9990    26\n",
       "9991    26\n",
       "9992    26\n",
       "9993     4\n",
       "Name: Order Date, Length: 9994, dtype: int64"
      ]
     },
     "execution_count": 9,
     "metadata": {},
     "output_type": "execute_result"
    }
   ],
   "source": [
    "orders['Order Date']\n",
    "orders.loc[:, 'Order Date'].dt.day"
   ]
  },
  {
   "cell_type": "markdown",
   "metadata": {},
   "source": [
    "## Сравнение дат\n",
    "К датам применимы обычные операторы сравнения: `==`, `!=`, `<=`, `>=`, `<`, `>` "
   ]
  },
  {
   "cell_type": "code",
   "execution_count": null,
   "metadata": {},
   "outputs": [],
   "source": [
    "in_one_day = orders.loc[:, 'Order Date'] ==orders.loc[:, 'Ship Date']\n",
    "orders.loc['in_one_day'] = "
   ]
  },
  {
   "cell_type": "markdown",
   "metadata": {},
   "source": [
    "## Задания"
   ]
  },
  {
   "cell_type": "markdown",
   "metadata": {},
   "source": [
    "Попробуйте установить столбец с планируемой датой доставки (Estimated Delivery Date) \n",
    "\n",
    "* через 7 дня после даты заказа для стандартного класса\n",
    "* через 5 дней – для 2 класса\n",
    "* через 3 дня – для 1 класса\n",
    "* В тот же день для заказов с доставкой в день покупки (Same Day)\n",
    "\n",
    "*Hint: Для выполнения этого задания вам понадобятся одновременно фильтры и интервалы дат. Если при сохранении в столбец вы использовали один и тот же фильтр слева и справа от знака `=` – обновятся только те строки, которые подходят под этот фильтр, а остальные останутся неизменными.*"
   ]
  },
  {
   "cell_type": "code",
   "execution_count": 89,
   "metadata": {},
   "outputs": [
    {
     "name": "stderr",
     "output_type": "stream",
     "text": [
      "C:\\ProgramData\\Anaconda3\\lib\\site-packages\\ipykernel_launcher.py:4: SettingWithCopyWarning: \n",
      "A value is trying to be set on a copy of a slice from a DataFrame\n",
      "\n",
      "See the caveats in the documentation: https://pandas.pydata.org/pandas-docs/stable/user_guide/indexing.html#returning-a-view-versus-a-copy\n",
      "  after removing the cwd from sys.path.\n"
     ]
    }
   ],
   "source": [
    "l = {'Standard Class':pd.DateOffset(days=7), 'Second Class':pd.DateOffset(days=5), 'First Class':pd.DateOffset(days=3),'Same Day':pd.DateOffset(days=0)}\n",
    "orders['Estimated Delivery Date'] = orders['Order Date']\n",
    "for i,j in l.items():\n",
    "    orders.loc[:,'Estimated Delivery Date'][orders['Ship Mode'].str.contains(i)] =  orders.loc[:,'Estimated Delivery Date'][orders['Ship Mode'].str.contains(i)]+j"
   ]
  },
  {
   "cell_type": "code",
   "execution_count": 90,
   "metadata": {},
   "outputs": [
    {
     "data": {
      "text/html": [
       "<div>\n",
       "<style scoped>\n",
       "    .dataframe tbody tr th:only-of-type {\n",
       "        vertical-align: middle;\n",
       "    }\n",
       "\n",
       "    .dataframe tbody tr th {\n",
       "        vertical-align: top;\n",
       "    }\n",
       "\n",
       "    .dataframe thead th {\n",
       "        text-align: right;\n",
       "    }\n",
       "</style>\n",
       "<table border=\"1\" class=\"dataframe\">\n",
       "  <thead>\n",
       "    <tr style=\"text-align: right;\">\n",
       "      <th></th>\n",
       "      <th>Order Date</th>\n",
       "      <th>Estimated Delivery Date</th>\n",
       "      <th>Ship Mode</th>\n",
       "    </tr>\n",
       "  </thead>\n",
       "  <tbody>\n",
       "    <tr>\n",
       "      <th>0</th>\n",
       "      <td>2017-11-08</td>\n",
       "      <td>2017-11-13</td>\n",
       "      <td>Second Class</td>\n",
       "    </tr>\n",
       "    <tr>\n",
       "      <th>1</th>\n",
       "      <td>2017-11-08</td>\n",
       "      <td>2017-11-13</td>\n",
       "      <td>Second Class</td>\n",
       "    </tr>\n",
       "    <tr>\n",
       "      <th>2</th>\n",
       "      <td>2017-06-12</td>\n",
       "      <td>2017-06-17</td>\n",
       "      <td>Second Class</td>\n",
       "    </tr>\n",
       "    <tr>\n",
       "      <th>3</th>\n",
       "      <td>2016-10-11</td>\n",
       "      <td>2016-10-18</td>\n",
       "      <td>Standard Class</td>\n",
       "    </tr>\n",
       "    <tr>\n",
       "      <th>4</th>\n",
       "      <td>2016-10-11</td>\n",
       "      <td>2016-10-18</td>\n",
       "      <td>Standard Class</td>\n",
       "    </tr>\n",
       "    <tr>\n",
       "      <th>...</th>\n",
       "      <td>...</td>\n",
       "      <td>...</td>\n",
       "      <td>...</td>\n",
       "    </tr>\n",
       "    <tr>\n",
       "      <th>9989</th>\n",
       "      <td>2015-01-21</td>\n",
       "      <td>2015-01-26</td>\n",
       "      <td>Second Class</td>\n",
       "    </tr>\n",
       "    <tr>\n",
       "      <th>9990</th>\n",
       "      <td>2018-02-26</td>\n",
       "      <td>2018-03-05</td>\n",
       "      <td>Standard Class</td>\n",
       "    </tr>\n",
       "    <tr>\n",
       "      <th>9991</th>\n",
       "      <td>2018-02-26</td>\n",
       "      <td>2018-03-05</td>\n",
       "      <td>Standard Class</td>\n",
       "    </tr>\n",
       "    <tr>\n",
       "      <th>9992</th>\n",
       "      <td>2018-02-26</td>\n",
       "      <td>2018-03-05</td>\n",
       "      <td>Standard Class</td>\n",
       "    </tr>\n",
       "    <tr>\n",
       "      <th>9993</th>\n",
       "      <td>2018-05-04</td>\n",
       "      <td>2018-05-09</td>\n",
       "      <td>Second Class</td>\n",
       "    </tr>\n",
       "  </tbody>\n",
       "</table>\n",
       "<p>9994 rows × 3 columns</p>\n",
       "</div>"
      ],
      "text/plain": [
       "     Order Date Estimated Delivery Date       Ship Mode\n",
       "0    2017-11-08              2017-11-13    Second Class\n",
       "1    2017-11-08              2017-11-13    Second Class\n",
       "2    2017-06-12              2017-06-17    Second Class\n",
       "3    2016-10-11              2016-10-18  Standard Class\n",
       "4    2016-10-11              2016-10-18  Standard Class\n",
       "...         ...                     ...             ...\n",
       "9989 2015-01-21              2015-01-26    Second Class\n",
       "9990 2018-02-26              2018-03-05  Standard Class\n",
       "9991 2018-02-26              2018-03-05  Standard Class\n",
       "9992 2018-02-26              2018-03-05  Standard Class\n",
       "9993 2018-05-04              2018-05-09    Second Class\n",
       "\n",
       "[9994 rows x 3 columns]"
      ]
     },
     "execution_count": 90,
     "metadata": {},
     "output_type": "execute_result"
    }
   ],
   "source": [
    "orders[['Order Date','Estimated Delivery Date','Ship Mode']]"
   ]
  },
  {
   "cell_type": "markdown",
   "metadata": {},
   "source": [
    "Сравните получившиеся даты с фактическими датами доставки (Ship Date). Сколько посылок не были доставлены вовремя?\n",
    "\n",
    "Для того, чтобы узнать длину таблицы, поместите ее внутрь команды `len(...)`."
   ]
  },
  {
   "cell_type": "code",
   "execution_count": 106,
   "metadata": {},
   "outputs": [
    {
     "data": {
      "text/plain": [
       "2215"
      ]
     },
     "execution_count": 106,
     "metadata": {},
     "output_type": "execute_result"
    }
   ],
   "source": [
    "orders['at_time'] = orders['Estimated Delivery Date'] <= orders['Ship Date']\n",
    "list(orders['at_time'].value_counts())[1]"
   ]
  }
 ],
 "metadata": {
  "kernelspec": {
   "display_name": "Python 3",
   "language": "python",
   "name": "python3"
  },
  "language_info": {
   "codemirror_mode": {
    "name": "ipython",
    "version": 3
   },
   "file_extension": ".py",
   "mimetype": "text/x-python",
   "name": "python",
   "nbconvert_exporter": "python",
   "pygments_lexer": "ipython3",
   "version": "3.7.4"
  }
 },
 "nbformat": 4,
 "nbformat_minor": 4
}
