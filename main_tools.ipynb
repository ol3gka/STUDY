{
  "nbformat": 4,
  "nbformat_minor": 0,
  "metadata": {
    "colab": {
      "provenance": [],
      "toc_visible": true,
      "authorship_tag": "ABX9TyNFEde72fdC0PXTQKF0C1ab",
      "include_colab_link": true
    },
    "kernelspec": {
      "name": "python3",
      "display_name": "Python 3"
    },
    "language_info": {
      "name": "python"
    }
  },
  "cells": [
    {
      "cell_type": "markdown",
      "metadata": {
        "id": "view-in-github",
        "colab_type": "text"
      },
      "source": [
        "<a href=\"https://colab.research.google.com/github/ol3gka/STUDY/blob/main/main_tools.ipynb\" target=\"_parent\"><img src=\"https://colab.research.google.com/assets/colab-badge.svg\" alt=\"Open In Colab\"/></a>"
      ]
    },
    {
      "cell_type": "markdown",
      "source": [
        "# MAIN STRUCTURES\n",
        "Все структуры данных в python представляют из себя объекты\n",
        "\n",
        "1)числовые объекты (целые числа, дробные, комлексные) numbers 1,1.2\n",
        "\n",
        "2)строка string 'aao'\n",
        "\n",
        "3)кортеж tuple (1,2,3)\n",
        "\n",
        "4)множество set {1,2,3}\n",
        "\n",
        "5)список list [1,'a',2]\n",
        "\n",
        "6)словарь dictionary {1:'a',2:'e'}\n",
        "\n",
        "Изменяемые: \n",
        "Неизменяемы:"
      ],
      "metadata": {
        "id": "Zu2zgHUt-D-E"
      }
    },
    {
      "cell_type": "markdown",
      "source": [
        "## NUMBERS"
      ],
      "metadata": {
        "id": "mp00S4zc-Mdz"
      }
    },
    {
      "cell_type": "code",
      "source": [
        "print(f\"\"\"\n",
        "{5 / 1.7}\n",
        "{5 // 1.7}\n",
        "{int(5/1.7)}\n",
        "{round(5/1.7)}\n",
        "{5 % 1.7}\"\"\")"
      ],
      "metadata": {
        "colab": {
          "base_uri": "https://localhost:8080/"
        },
        "id": "kf_3s2zf-Os2",
        "outputId": "6d9e4898-f977-403d-e4d2-f7003e774b17"
      },
      "execution_count": 4,
      "outputs": [
        {
          "output_type": "stream",
          "name": "stdout",
          "text": [
            "\n",
            "2.9411764705882355\n",
            "2.0\n",
            "2\n",
            "3\n",
            "1.6\n"
          ]
        }
      ]
    },
    {
      "cell_type": "code",
      "source": [],
      "metadata": {
        "id": "MFtZ9OCS-X71"
      },
      "execution_count": null,
      "outputs": []
    }
  ]
}