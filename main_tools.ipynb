{
  "nbformat": 4,
  "nbformat_minor": 0,
  "metadata": {
    "colab": {
      "provenance": [],
      "toc_visible": true,
      "authorship_tag": "ABX9TyObvslRbnSFnbtssk0sWWxX",
      "include_colab_link": true
    },
    "kernelspec": {
      "name": "python3",
      "display_name": "Python 3"
    },
    "language_info": {
      "name": "python"
    }
  },
  "cells": [
    {
      "cell_type": "markdown",
      "metadata": {
        "id": "view-in-github",
        "colab_type": "text"
      },
      "source": [
        "<a href=\"https://colab.research.google.com/github/ol3gka/STUDY/blob/main/main_tools.ipynb\" target=\"_parent\"><img src=\"https://colab.research.google.com/assets/colab-badge.svg\" alt=\"Open In Colab\"/></a>"
      ]
    },
    {
      "cell_type": "markdown",
      "source": [
        "# MAIN STRUCTURES\n",
        "свойства python - динамическая типизация и полиморфизм (результат выполнения операторов зависит от типа данных, к которому их применяют); компитяция в байт код; a=3, b=a - разделяемая сылка (2 имени/переменных ссылаются на один объект '3')\n",
        "\n",
        "**Все структуры данных в python представляют из себя объекты**\n",
        "\n",
        "1)числовые объекты (целые, дробные, комлексные) numbers 1,1.2\n",
        "\n",
        "2)строка str 'aao'\n",
        "\n",
        "3)кортеж tuple (1,2,3)\n",
        "\n",
        "4)множество set {1,2,3}\n",
        "\n",
        "5)список list [1,'a',2]\n",
        "\n",
        "6)словарь dict {1:'a',2:'e'}\n",
        "\n",
        "**Изменяемые: список, словарь, множетсво**\n",
        "\n",
        "**Неизменяемы: числа, строки, кортеж**\n",
        "\n",
        "из-за того, что объекты неизменяемые, любая операция над объектом должна быть перепресвоенна, при это ссылка на объект будет уже ссылаться на другой, новый instance, который создался функцией: \n",
        "\n",
        "a = 'aaa'\n",
        "\n",
        "a = a.replace('a','b') \n",
        "\n",
        "help(str), dir(str) или help(str.append) - вызвать методы классов, shift+tab внутри функции, чтобы получить справку (можно несеольеко раз жать)"
      ],
      "metadata": {
        "id": "Zu2zgHUt-D-E"
      }
    },
    {
      "cell_type": "markdown",
      "source": [
        "## NUMBERS"
      ],
      "metadata": {
        "id": "mp00S4zc-Mdz"
      }
    },
    {
      "cell_type": "code",
      "source": [
        "print(f\"\"\"{5 / 1.7}\n",
        "{5 // 1.7}\n",
        "{int(5/1.7)}\n",
        "{round(5/1.7)}\n",
        "{5 % 1.7}\"\"\")"
      ],
      "metadata": {
        "colab": {
          "base_uri": "https://localhost:8080/"
        },
        "id": "kf_3s2zf-Os2",
        "outputId": "62d8a369-35e1-4e8f-fe57-9037e5e5b2b4"
      },
      "execution_count": 13,
      "outputs": [
        {
          "output_type": "stream",
          "name": "stdout",
          "text": [
            "2.9411764705882355\n",
            "          2.0\n",
            "          2\n",
            "          3\n",
            "          1.6\n"
          ]
        }
      ]
    },
    {
      "cell_type": "code",
      "source": [
        "print(f\"\"\"{12121.22223:,.2f}\n",
        "{12121.22223:,}\n",
        "{12121.22223:.2e}\"\"\")"
      ],
      "metadata": {
        "colab": {
          "base_uri": "https://localhost:8080/"
        },
        "id": "jO4jjKqOR2xc",
        "outputId": "e1e9fbb2-b46a-4c66-d123-c3e86befae2e"
      },
      "execution_count": 24,
      "outputs": [
        {
          "output_type": "stream",
          "name": "stdout",
          "text": [
            "12,121.22\n",
            "12,121.22223\n",
            "1.21e+04\n"
          ]
        }
      ]
    },
    {
      "cell_type": "code",
      "source": [
        "# Первый прием, операция ==, предусматривает проверку, имеют ли два ссылаемых объекта одинаковые значения; \n",
        "# такой метод почти всегда используется для проверок на предмет равенства в Python. \n",
        "# Второй прием, операция is, проверяет идентичность — она возвращает True, только если оба имени указывают на точно тот же самый объ­ект, \n",
        "# поэтому операция is является гораздо более строгой формой проверки равенс­ тва и редко применяется в большинстве программ.\n",
        "l=[1,2,3]; m=[1,2,3]\n",
        "print(f\"\"\"{l==m}\n",
        "{l is m}\"\"\") # но для чисел оба будет тру - из-за кэширования"
      ],
      "metadata": {
        "id": "vxsxotr1TUB9",
        "outputId": "da3f088c-4f1b-4c41-aa4b-ef166dd59409",
        "colab": {
          "base_uri": "https://localhost:8080/"
        }
      },
      "execution_count": 20,
      "outputs": [
        {
          "output_type": "stream",
          "name": "stdout",
          "text": [
            "True\n",
            "False\n"
          ]
        }
      ]
    },
    {
      "cell_type": "markdown",
      "source": [
        "# LIST"
      ],
      "metadata": {
        "id": "b-1gSoyWOLA2"
      }
    },
    {
      "cell_type": "code",
      "source": [
        "# Список - изменяемый объект:\n",
        "L_1 =[1,2,3]; L_2 = L_1 # l2 ссылается на объект [1,2,3]\n",
        "L_1[0]=100; L_2\n",
        "# Поэтому для того, чтобы избежать подификации нужно скопировать список\n",
        "# есть 3 метода: l2=l1[:] - не будет работать с словарями и множествами (так как не являются последовательностями), l2=l1.copy(), l2=list(l1)"
      ],
      "metadata": {
        "colab": {
          "base_uri": "https://localhost:8080/"
        },
        "id": "l7L_YSdbONV0",
        "outputId": "0de327dd-7ade-475b-aef3-1bdbf5ddf0a5"
      },
      "execution_count": 21,
      "outputs": [
        {
          "output_type": "execute_result",
          "data": {
            "text/plain": [
              "[100, 2, 3]"
            ]
          },
          "metadata": {},
          "execution_count": 21
        }
      ]
    },
    {
      "cell_type": "code",
      "source": [],
      "metadata": {
        "id": "3pMD75smQaQw"
      },
      "execution_count": null,
      "outputs": []
    }
  ]
}