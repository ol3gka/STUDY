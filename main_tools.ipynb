{
  "nbformat": 4,
  "nbformat_minor": 0,
  "metadata": {
    "colab": {
      "provenance": [],
      "toc_visible": true,
      "authorship_tag": "ABX9TyO4Sy62F8vVBmrWHpsGO82A",
      "include_colab_link": true
    },
    "kernelspec": {
      "name": "python3",
      "display_name": "Python 3"
    },
    "language_info": {
      "name": "python"
    }
  },
  "cells": [
    {
      "cell_type": "markdown",
      "metadata": {
        "id": "view-in-github",
        "colab_type": "text"
      },
      "source": [
        "<a href=\"https://colab.research.google.com/github/ol3gka/STUDY/blob/main/main_tools.ipynb\" target=\"_parent\"><img src=\"https://colab.research.google.com/assets/colab-badge.svg\" alt=\"Open In Colab\"/></a>"
      ]
    },
    {
      "cell_type": "markdown",
      "source": [
        "# MAIN STRUCTURES\n",
        "свойства python - динамическая типизация и полиморфизм (результат выполнения операторов зависит от типа данных, к которому их применяют); компитяция в байт код; a=3, b=a - разделяемая сылка (2 имени/переменных ссылаются на один объект '3')\n",
        "\n",
        "**Все структуры данных в python представляют из себя объекты**\n",
        "\n",
        "* числовые объекты (целые, дробные, комлексные) `numbers` 1,1.2 Числа\n",
        "\n",
        "* строка `str` 'aao' Последовательности\n",
        "\n",
        "* кортеж `tuple` (1,2,3) Последовательности\n",
        "\n",
        "* множество `set` {1,2,3} ни отоб­ражение, ни последовательность\n",
        "\n",
        "* список `list` [1,'a',2] Последовательности\n",
        "\n",
        "* словарь `dict` {1:'a',2:'e'} Отображения\n",
        "\n",
        "**Изменяемые: список, словарь, множетсво**\n",
        "\n",
        "**Неизменяемы: числа, строки, кортеж**\n",
        "\n",
        "из-за того, что объекты неизменяемые, любая операция над объектом должна быть перепресвоенна, при это ссылка на объект будет уже ссылаться на другой, новый instance, который создался функцией: \n",
        "\n",
        "`a = 'aaa'`\n",
        "\n",
        "`a = a.replace('a','b')`\n",
        "\n",
        "`help(str)`, `dir(str)` или `help(str.append)` - вызвать методы классов, `shift+tab` внутри функции (`pd.read_excel(/shift+tab/)`), чтобы получить справку (можно несеольеко раз жать); `tab` работает так: `pd./tab/` - покажет методы библиотеки\n",
        "\n",
        "* списки, словари и кортежи способны содержать в себе объекты любых видов\n",
        "* множества могут содержать неизменяемые объекты любых видов\n",
        "* списки, словари и кортежи допускают вложение на произвольную глубину\n",
        "* списки, словари и множества способны динамически увеличиваться и умень­ шаться"
      ],
      "metadata": {
        "id": "Zu2zgHUt-D-E"
      }
    },
    {
      "cell_type": "code",
      "source": [
        "from sklearn.datasets import make_regression\n",
        "import matplotlib.pyplot as plt\n",
        "import numpy as np\n",
        "from datetime import datetime\n",
        "import pandas as pd"
      ],
      "metadata": {
        "id": "H5CwBVutCGxB"
      },
      "execution_count": null,
      "outputs": []
    },
    {
      "cell_type": "markdown",
      "source": [
        "## NUMBERS"
      ],
      "metadata": {
        "id": "mp00S4zc-Mdz"
      }
    },
    {
      "cell_type": "code",
      "source": [
        "print(f\"\"\"{5 / 1.7}\n",
        "{5 // 1.7} # целочисленное деление\n",
        "{int(5/1.7)} # деление с округлением в меньшую сторону\n",
        "{round(5/1.7)}\n",
        "{5 % 1.7}\"\"\")"
      ],
      "metadata": {
        "colab": {
          "base_uri": "https://localhost:8080/"
        },
        "id": "kf_3s2zf-Os2",
        "outputId": "a8b4bdc6-fea0-438d-dd36-6e389ac96f2b"
      },
      "execution_count": null,
      "outputs": [
        {
          "output_type": "stream",
          "name": "stdout",
          "text": [
            "2.9411764705882355\n",
            "2.0 # целочисленное деление\n",
            "2\n",
            "3\n",
            "1.6\n"
          ]
        }
      ]
    },
    {
      "cell_type": "code",
      "source": [
        "print(f\"\"\"{12121.22223:,.2f}\n",
        "{12121.22223:,}\n",
        "{12121.22223:.2e}\"\"\")"
      ],
      "metadata": {
        "colab": {
          "base_uri": "https://localhost:8080/"
        },
        "id": "jO4jjKqOR2xc",
        "outputId": "e1e9fbb2-b46a-4c66-d123-c3e86befae2e"
      },
      "execution_count": null,
      "outputs": [
        {
          "output_type": "stream",
          "name": "stdout",
          "text": [
            "12,121.22\n",
            "12,121.22223\n",
            "1.21e+04\n"
          ]
        }
      ]
    },
    {
      "cell_type": "markdown",
      "source": [
        "## SYNTAXIS"
      ],
      "metadata": {
        "id": "MYaQBHCR9u-L"
      }
    },
    {
      "cell_type": "code",
      "source": [
        "# Первый прием, операция ==, предусматривает проверку, имеют ли два ссылаемых объекта одинаковые значения; \n",
        "# такой метод почти всегда используется для проверок на предмет равенства в Python. \n",
        "# Второй прием, операция is, проверяет идентичность — она возвращает True, только если оба имени указывают на точно тот же самый объ­ект, \n",
        "# поэтому операция is является гораздо более строгой формой проверки равенс­тва и редко применяется в большинстве программ.\n",
        "l=[1,2,3]; m=[1,2,3]\n",
        "print(f\"\"\"{l==m}\n",
        "{l is m}\"\"\") # но для чисел оба будет тру - из-за кэширования"
      ],
      "metadata": {
        "colab": {
          "base_uri": "https://localhost:8080/"
        },
        "id": "vxsxotr1TUB9",
        "outputId": "da3f088c-4f1b-4c41-aa4b-ef166dd59409"
      },
      "execution_count": null,
      "outputs": [
        {
          "output_type": "stream",
          "name": "stdout",
          "text": [
            "True\n",
            "False\n"
          ]
        }
      ]
    },
    {
      "cell_type": "code",
      "source": [
        "print(f'aa\\taa\\taa')\n",
        "for x in range(1, 6):\n",
        "    print(f'{x:02}\\t{x*x:3}\\t{x*x*x*x*x:4}')"
      ],
      "metadata": {
        "colab": {
          "base_uri": "https://localhost:8080/"
        },
        "id": "OoFphpv5003K",
        "outputId": "2c755e3a-dca2-4328-8dfd-4497ef0e7a16"
      },
      "execution_count": null,
      "outputs": [
        {
          "output_type": "stream",
          "name": "stdout",
          "text": [
            "aa\taa\taa\n",
            "01\t  1\t   1\n",
            "02\t  4\t  32\n",
            "03\t  9\t 243\n",
            "04\t 16\t1024\n",
            "05\t 25\t3125\n"
          ]
        }
      ]
    },
    {
      "cell_type": "code",
      "source": [
        "# путь через косые черты\n",
        "# open(г’С:\\Python33\\Lib\\pdb.py')\n",
        "# open('С:/Python33/Lib/pdb.py')\n",
        "# open(’C:\\\\Fython33\\\\Lib\\\\pdb.py’) "
      ],
      "metadata": {
        "colab": {
          "base_uri": "https://localhost:8080/"
        },
        "id": "-ZCwPKca99hF",
        "outputId": "9302ae88-5834-499d-d0e8-1fd5ff0dd2fc"
      },
      "execution_count": null,
      "outputs": [
        {
          "output_type": "execute_result",
          "data": {
            "text/plain": [
              "{'ws': 'sds', 'wd': 40}"
            ]
          },
          "metadata": {},
          "execution_count": 46
        }
      ]
    },
    {
      "cell_type": "code",
      "source": [
        "int(' 12 ')"
      ],
      "metadata": {
        "id": "BGlWJw-RFohA",
        "outputId": "5ac590ab-c1ff-4534-e927-5ec8fef77d07",
        "colab": {
          "base_uri": "https://localhost:8080/"
        }
      },
      "execution_count": null,
      "outputs": [
        {
          "output_type": "execute_result",
          "data": {
            "text/plain": [
              "12"
            ]
          },
          "metadata": {},
          "execution_count": 18
        }
      ]
    },
    {
      "cell_type": "code",
      "source": [
        "device = torch.device(\"cuda\" if torch.cuda.is_available() else \"cpu\")\n",
        "print(f\"Using device: {device}\\t\" + (f\"{torch.cuda.get_device_name(0)}\" if torch.cuda.is_available() else \"CPU\"))"
      ],
      "metadata": {
        "id": "P_1BZwSumDnx"
      },
      "execution_count": null,
      "outputs": []
    },
    {
      "cell_type": "code",
      "source": [
        "s = 'aao'\n",
        "try:\n",
        "   int(s)\n",
        "except:\n",
        "  print('write a number!')\n",
        "else:\n",
        "  print(s+2)"
      ],
      "metadata": {
        "colab": {
          "base_uri": "https://localhost:8080/"
        },
        "id": "_HIhFVXSCbH2",
        "outputId": "35abc0c4-267a-44af-9761-c4cf7ca11813"
      },
      "execution_count": 2,
      "outputs": [
        {
          "output_type": "stream",
          "name": "stdout",
          "text": [
            "write a number!\n"
          ]
        }
      ]
    },
    {
      "cell_type": "code",
      "source": [
        "(a, b, c) = [1,2,3]\n",
        "print(a,c)\n",
        "(a, b, c) = (1,2,3)\n",
        "print(a,c)\n",
        "a, *b, c = (1,2,4,5,3)\n",
        "print(a,b)"
      ],
      "metadata": {
        "colab": {
          "base_uri": "https://localhost:8080/"
        },
        "id": "dg2d_x9-I9VA",
        "outputId": "3d88b0f7-a7d0-4d17-fe69-31485934e7ec"
      },
      "execution_count": 14,
      "outputs": [
        {
          "output_type": "stream",
          "name": "stdout",
          "text": [
            "1 3\n",
            "1 3\n",
            "1 [2, 4, 5]\n"
          ]
        }
      ]
    },
    {
      "cell_type": "code",
      "source": [
        "import numpy as np\n",
        "s = 'smap'\n",
        "s[2:10500]"
      ],
      "metadata": {
        "colab": {
          "base_uri": "https://localhost:8080/",
          "height": 36
        },
        "id": "wsVgzUCjKx63",
        "outputId": "ec4adab3-2ebf-4486-c828-fee2982adcc9"
      },
      "execution_count": 13,
      "outputs": [
        {
          "output_type": "execute_result",
          "data": {
            "text/plain": [
              "'ap'"
            ],
            "application/vnd.google.colaboratory.intrinsic+json": {
              "type": "string"
            }
          },
          "metadata": {},
          "execution_count": 13
        }
      ]
    },
    {
      "cell_type": "code",
      "source": [
        "l = [1,2,3,4,5]\n",
        "ll = [list(l)]*4\n",
        "ll[0][1] = 99\n",
        "ll"
      ],
      "metadata": {
        "id": "sLUHzVdtYX-f"
      },
      "execution_count": null,
      "outputs": []
    },
    {
      "cell_type": "code",
      "source": [
        "# дополнительные присваивания. Дополненное присваивание работает на любом типе, который поддерживает подразумеваемую бинарную операцию. Работает быстрее.\n",
        "x = 1; y = 0\n",
        "x |= y # x &= y\n",
        "x"
      ],
      "metadata": {
        "colab": {
          "base_uri": "https://localhost:8080/"
        },
        "id": "cKPdkhQJYYpH",
        "outputId": "cd29188a-8af8-4d76-e5aa-095ff759fe76"
      },
      "execution_count": 20,
      "outputs": [
        {
          "output_type": "execute_result",
          "data": {
            "text/plain": [
              "1"
            ]
          },
          "metadata": {},
          "execution_count": 20
        }
      ]
    },
    {
      "cell_type": "markdown",
      "source": [
        "## STRING (строка)\n",
        "Cтроки Python относятся к категории неизменяемых последовательнос­тей, а это означает, что содержащиеся в них символы имеют позиционный порядок слева направо и не могут быть модифицированы на месте. Список, кортеж - тоже последовательности, поэтому операции над ними будет теми"
      ],
      "metadata": {
        "id": "b-1gSoyWOLA2"
      }
    },
    {
      "cell_type": "code",
      "source": [
        "# Список - изменяемый объект:\n",
        "L_1 =[1,2,3]; L_2 = L_1 # l2 ссылается на объект [1,2,3]\n",
        "L_1[0]=100; L_2\n",
        "# Поэтому для того, чтобы избежать модификации нужно скопировать список\n",
        "# есть 3 метода: l2=l1[:] - не будет работать с словарями и множествами (так как не являются последовательностями), l2=l1.copy(), l2=list(l1), dict(), set()"
      ],
      "metadata": {
        "colab": {
          "base_uri": "https://localhost:8080/"
        },
        "id": "l7L_YSdbONV0",
        "outputId": "0de327dd-7ade-475b-aef3-1bdbf5ddf0a5"
      },
      "execution_count": null,
      "outputs": [
        {
          "output_type": "execute_result",
          "data": {
            "text/plain": [
              "[100, 2, 3]"
            ]
          },
          "metadata": {},
          "execution_count": 21
        }
      ]
    },
    {
      "cell_type": "code",
      "source": [
        "# Выражения:\n",
        "# 1) Конкатенация s1+s2 \n",
        "# 2) Нарезание (извлечение частей) s[1:3] \n",
        "# 3) Индексация s[1]\n",
        "# Строковые методы:\n",
        "s = 'a1a2a3'\n",
        "print(f\"\"\"{s.find('a2a')}\n",
        "{s.replace('a3','a4')}\n",
        "{s.split('a')}\n",
        "{s.endswith('a3')}\n",
        "      \"\"\")\n",
        "import re\n",
        "re.match('a(.*)2', s)"
      ],
      "metadata": {
        "colab": {
          "base_uri": "https://localhost:8080/"
        },
        "id": "fyCLs_Nxb7wX",
        "outputId": "ef06173b-0820-4226-8c7a-a1c71cc4431d"
      },
      "execution_count": null,
      "outputs": [
        {
          "output_type": "stream",
          "name": "stdout",
          "text": [
            "2\n",
            "a1a2a4\n",
            "['', '1', '2', '3']\n",
            "True\n",
            "      \n"
          ]
        },
        {
          "output_type": "execute_result",
          "data": {
            "text/plain": [
              "<re.Match object; span=(0, 4), match='a1a2'>"
            ]
          },
          "metadata": {},
          "execution_count": 45
        }
      ]
    },
    {
      "cell_type": "markdown",
      "source": [
        "## LIST (список)"
      ],
      "metadata": {
        "id": "i92RViwTFyMc"
      }
    },
    {
      "cell_type": "code",
      "source": [
        "l = ['a','b','c']\n",
        "l.append('d')\n",
        "l.pop(1)\n",
        "l.pop()\n",
        "l\n",
        "# l[len(f)+1]='f'\n"
      ],
      "metadata": {
        "colab": {
          "base_uri": "https://localhost:8080/"
        },
        "id": "2V3zOClHF1RE",
        "outputId": "17ce11ca-e556-43f0-8fb9-33e449ed58c1"
      },
      "execution_count": null,
      "outputs": [
        {
          "output_type": "execute_result",
          "data": {
            "text/plain": [
              "['a', 'c']"
            ]
          },
          "metadata": {},
          "execution_count": 29
        }
      ]
    },
    {
      "cell_type": "code",
      "source": [
        "l = ['a','a','b']\n",
        "[i for i, x in enumerate(l) if x=='a']"
      ],
      "metadata": {
        "colab": {
          "base_uri": "https://localhost:8080/"
        },
        "id": "IRmbGof5MGZr",
        "outputId": "f9175925-f2c2-4660-aae4-edb90cb2beaf"
      },
      "execution_count": null,
      "outputs": [
        {
          "output_type": "execute_result",
          "data": {
            "text/plain": [
              "[0, 1]"
            ]
          },
          "metadata": {},
          "execution_count": 39
        }
      ]
    },
    {
      "cell_type": "code",
      "source": [
        "L = L + [5, 6] # Конкатенация: медленнее\n",
        "L.extend([7, 8]) # Быстрее, но на месте"
      ],
      "metadata": {
        "id": "73aWPJTJZstd"
      },
      "execution_count": null,
      "outputs": []
    },
    {
      "cell_type": "code",
      "source": [
        "L += [9, 10] # Отображается на L. extend ([9, 10]), т.е. выглядит как долгий формат чз +, но внутренне работает как extend\n",
        "\"\"\"Как правило, описанное поведение является желательным, но обратите внимание: отсюда вытекает, что присваивание += представляет собой изменение на месте для списков; \n",
        "таким образом, оно не в точности похоже на конкатенацию +, которая всегда создает новый объект.\"\"\""
      ],
      "metadata": {
        "id": "dwRjQqLpaOhI"
      },
      "execution_count": null,
      "outputs": []
    },
    {
      "cell_type": "markdown",
      "source": [
        "## DICTIONARY (словарь), кортеж (tuple) \n",
        "* Они поддерживают доступ по ключу, а не по смещению\n",
        "* Они являются неупорядоченными коллекциями произвольных объектов\n",
        "\n",
        "Словари являются отобра­ жениями, не последовательностями"
      ],
      "metadata": {
        "id": "32QClf8cBBRh"
      }
    },
    {
      "cell_type": "code",
      "source": [
        "keylist, valuelist = ['age','high','salary'], [10,20,30]\n",
        "d = dict(zip(keylist, valuelist))\n",
        "d['save'] = 2\n",
        "#############################\n",
        "print(f\"\"\"{'age' in d}\n",
        "{d.get('age')}\n",
        "{d.pop('salary')}\n",
        "{list(d.keys())} # keys(), items(), values(), zip() - это иттератор, поэтому приходится применять list\n",
        "\"\"\")\n",
        "del d['high']"
      ],
      "metadata": {
        "colab": {
          "base_uri": "https://localhost:8080/"
        },
        "id": "eMm0hkvHBGub",
        "outputId": "73b61054-bdb0-4958-dd2e-54b82135ff93"
      },
      "execution_count": null,
      "outputs": [
        {
          "output_type": "stream",
          "name": "stdout",
          "text": [
            "True\n",
            "10\n",
            "30\n",
            "['age', 'high', 'save'] #\n",
            "\n"
          ]
        }
      ]
    },
    {
      "cell_type": "code",
      "source": [
        "help(d.popitem)"
      ],
      "metadata": {
        "colab": {
          "base_uri": "https://localhost:8080/"
        },
        "id": "YrcCC1AlCyqp",
        "outputId": "9c24bbf2-2524-4a2a-8360-ed661e048828"
      },
      "execution_count": null,
      "outputs": [
        {
          "output_type": "stream",
          "name": "stdout",
          "text": [
            "Help on built-in function popitem:\n",
            "\n",
            "popitem() method of builtins.dict instance\n",
            "    Remove and return a (key, value) pair as a 2-tuple.\n",
            "    \n",
            "    Pairs are returned in LIFO (last-in, first-out) order.\n",
            "    Raises KeyError if the dict is empty.\n",
            "\n"
          ]
        }
      ]
    },
    {
      "cell_type": "code",
      "source": [
        "l1, l2 = [1,2,3,4], [5,6,7,8]\n",
        "print(f\"\"\"{dict.fromkeys(l1, l2)}\n",
        "{dict(zip(l1, l2))}\n",
        "{dict.fromkeys(l1, 0)}\n",
        "\"\"\")"
      ],
      "metadata": {
        "colab": {
          "base_uri": "https://localhost:8080/"
        },
        "id": "IxIEEtiY6Sqw",
        "outputId": "ccf1713e-3211-4140-9a97-55bf1ee1404e"
      },
      "execution_count": null,
      "outputs": [
        {
          "output_type": "stream",
          "name": "stdout",
          "text": [
            "{1: [5, 6, 7, 8], 2: [5, 6, 7, 8], 3: [5, 6, 7, 8], 4: [5, 6, 7, 8]}\n",
            "{1: 5, 2: 6, 3: 7, 4: 8}\n",
            "{1: 0, 2: 0, 3: 0, 4: 0}\n",
            "\n",
            "\n"
          ]
        }
      ]
    },
    {
      "cell_type": "code",
      "source": [
        "d = dict([('ws', 'sds'), ('ws', 40)])\n",
        "{'df':'sd', 'df':1}\n",
        "{index : val for (index, val) in zip(l1,l2)}"
      ],
      "metadata": {
        "colab": {
          "base_uri": "https://localhost:8080/"
        },
        "id": "YfJj4M0sGsIE",
        "outputId": "59b33c5d-7dc4-49d3-e51c-fd34e8e9c77a"
      },
      "execution_count": null,
      "outputs": [
        {
          "output_type": "execute_result",
          "data": {
            "text/plain": [
              "{1: 5, 2: 6, 3: 7, 4: 8}"
            ]
          },
          "metadata": {},
          "execution_count": 62
        }
      ]
    },
    {
      "cell_type": "code",
      "source": [
        "# кортеж не изменяемый, но внутренний список - да\n",
        "tuple_ = (1, 2, [3,4,5])\n",
        "tuple_[2].append(6)\n",
        "tuple_"
      ],
      "metadata": {
        "id": "1Sk82PLt4G0O",
        "outputId": "2821623b-9a83-4a96-87f0-3ef3cfba8293",
        "colab": {
          "base_uri": "https://localhost:8080/"
        }
      },
      "execution_count": null,
      "outputs": [
        {
          "output_type": "execute_result",
          "data": {
            "text/plain": [
              "(1, 2, [3, 4, 5, 6])"
            ]
          },
          "metadata": {},
          "execution_count": 2
        }
      ]
    },
    {
      "cell_type": "code",
      "source": [
        "t = (1,2,3)\n",
        "t = t[:2]+(4,)\n",
        "t.index(4)\n",
        "(t[0], *t[0:2])"
      ],
      "metadata": {
        "colab": {
          "base_uri": "https://localhost:8080/"
        },
        "id": "mcVGflCKxrH7",
        "outputId": "0de7cfbb-5a30-44ce-b9fb-c046b32ec0fa"
      },
      "execution_count": null,
      "outputs": [
        {
          "output_type": "execute_result",
          "data": {
            "text/plain": [
              "(1, 1, 2)"
            ]
          },
          "metadata": {},
          "execution_count": 17
        }
      ]
    },
    {
      "cell_type": "code",
      "source": [
        "a, b = 1, 2\n",
        "print(a, b)"
      ],
      "metadata": {
        "id": "31vd2Ufe07Br",
        "outputId": "866aa8fd-07bc-4407-d901-f940f9b1bed6",
        "colab": {
          "base_uri": "https://localhost:8080/",
          "height": 133
        }
      },
      "execution_count": null,
      "outputs": [
        {
          "output_type": "error",
          "ename": "SyntaxError",
          "evalue": "ignored",
          "traceback": [
            "\u001b[0;36m  File \u001b[0;32m\"<ipython-input-23-d8473f1f5376>\"\u001b[0;36m, line \u001b[0;32m2\u001b[0m\n\u001b[0;31m    print(a, /n ,b)\u001b[0m\n\u001b[0m             ^\u001b[0m\n\u001b[0;31mSyntaxError\u001b[0m\u001b[0;31m:\u001b[0m invalid syntax\n"
          ]
        }
      ]
    },
    {
      "cell_type": "markdown",
      "source": [
        "### Множества {1,2,3} (set) и Логические выражения\n",
        "Представления (dict.items()) элементов тоже подобны множествам, если они хешируемы, т.е.\n",
        "если содержат только неизменяемые объекты (т.е. можно применять логические выражения): "
      ],
      "metadata": {
        "id": "lsGboZnkWjVZ"
      }
    },
    {
      "cell_type": "code",
      "source": [
        "{'a','b','c','b','a'}"
      ],
      "metadata": {
        "colab": {
          "base_uri": "https://localhost:8080/"
        },
        "id": "G0Q3UMZkXP-V",
        "outputId": "b0eadf04-b112-4d58-e2c7-c79cf00fec8c"
      },
      "execution_count": null,
      "outputs": [
        {
          "output_type": "execute_result",
          "data": {
            "text/plain": [
              "{'a', 'b', 'c'}"
            ]
          },
          "metadata": {},
          "execution_count": 12
        }
      ]
    },
    {
      "cell_type": "code",
      "source": [
        "dict([('ws', 'sds'), ('ws', 40)]).keys() # множество - словарь без значений (только ключи)"
      ],
      "metadata": {
        "colab": {
          "base_uri": "https://localhost:8080/"
        },
        "id": "EvMFm9zTWpdo",
        "outputId": "8c276a67-d15b-46ce-da1b-2d1995a4a891"
      },
      "execution_count": null,
      "outputs": [
        {
          "output_type": "execute_result",
          "data": {
            "text/plain": [
              "dict_keys(['ws'])"
            ]
          },
          "metadata": {},
          "execution_count": 72
        }
      ]
    },
    {
      "cell_type": "code",
      "source": [
        "set_ = {1,1,1} # у множества должны быть уникальные ключи\n",
        "set_.add(2)\n",
        "set_"
      ],
      "metadata": {
        "id": "vNPh7g6qWr51"
      },
      "execution_count": null,
      "outputs": []
    },
    {
      "cell_type": "code",
      "source": [
        "## Логические выражения\n",
        "print(f\"\"\"{ {'1','2','3'} | {'5', '6', '7'} }\n",
        "{ {'1','2','3'} & {'3', '2', '1'} }\n",
        "\"\"\")"
      ],
      "metadata": {
        "colab": {
          "base_uri": "https://localhost:8080/"
        },
        "id": "5erqzu4UWzeD",
        "outputId": "56b41d23-879a-4559-ba93-3d12b0792263"
      },
      "execution_count": null,
      "outputs": [
        {
          "output_type": "stream",
          "name": "stdout",
          "text": [
            "{'3', '1', '6', '2', '5', '7'}\n",
            "{'2', '3', '1'}\n",
            "\n"
          ]
        }
      ]
    },
    {
      "cell_type": "code",
      "source": [
        "d = {'a':1, 'b':2}\n",
        "set_ = {'a', 'b', 'c'}\n",
        "d.items() | set_"
      ],
      "metadata": {
        "colab": {
          "base_uri": "https://localhost:8080/"
        },
        "id": "01PhBKD_YpuO",
        "outputId": "41ada41a-75f1-4ec9-805d-c0c0c2180ccc"
      },
      "execution_count": null,
      "outputs": [
        {
          "output_type": "execute_result",
          "data": {
            "text/plain": [
              "{('a', 1), ('b', 2), 'a', 'b', 'c'}"
            ]
          },
          "metadata": {},
          "execution_count": 96
        }
      ]
    },
    {
      "cell_type": "code",
      "source": [
        "dict(d.items() | {('c',3), ('d',4)})"
      ],
      "metadata": {
        "colab": {
          "base_uri": "https://localhost:8080/"
        },
        "id": "ebWC8aieZO9G",
        "outputId": "c2836f51-26c1-46a3-996b-9da0b43e39c0"
      },
      "execution_count": null,
      "outputs": [
        {
          "output_type": "execute_result",
          "data": {
            "text/plain": [
              "{'b': 2, 'c': 3, 'a': 1, 'd': 4}"
            ]
          },
          "metadata": {},
          "execution_count": 102
        }
      ]
    },
    {
      "cell_type": "code",
      "source": [
        "for i, k in enumerate(sorted(d)):\n",
        "  print(i,k)"
      ],
      "metadata": {
        "colab": {
          "base_uri": "https://localhost:8080/"
        },
        "id": "9o7J6RqfaokB",
        "outputId": "36152b66-5d22-4604-f62c-094e05f3a671"
      },
      "execution_count": null,
      "outputs": [
        {
          "output_type": "stream",
          "name": "stdout",
          "text": [
            "0 a\n",
            "1 b\n"
          ]
        }
      ]
    },
    {
      "cell_type": "code",
      "source": [
        "for i, k in d.items():\n",
        "  print(i,k)"
      ],
      "metadata": {
        "colab": {
          "base_uri": "https://localhost:8080/"
        },
        "id": "ScAfP93Xby_0",
        "outputId": "252da2e9-7585-4cd8-d199-93ef05a3c6b2"
      },
      "execution_count": null,
      "outputs": [
        {
          "output_type": "stream",
          "name": "stdout",
          "text": [
            "a 1\n",
            "b 2\n"
          ]
        }
      ]
    },
    {
      "cell_type": "code",
      "source": [
        "d.get('a')"
      ],
      "metadata": {
        "colab": {
          "base_uri": "https://localhost:8080/"
        },
        "id": "nkiQVhQDcLRv",
        "outputId": "b9ec99fa-38f7-4f5a-eec2-97052f94c711"
      },
      "execution_count": null,
      "outputs": [
        {
          "output_type": "execute_result",
          "data": {
            "text/plain": [
              "1"
            ]
          },
          "metadata": {},
          "execution_count": 109
        }
      ]
    },
    {
      "cell_type": "markdown",
      "source": [
        "# DataFrame"
      ],
      "metadata": {
        "id": "QtqUKOb7Snmd"
      }
    },
    {
      "cell_type": "code",
      "source": [
        "# import datetime\n",
        "# x = datetime.datetime(2020, 5, 17)\n",
        "df = pd.DataFrame([[1,'a',3,pd.Timestamp(year=2023,month=1,day=1)],\n",
        "                   [4,'B',5,pd.Timestamp(year=2023,month=2,day=1)],\n",
        "                   [6,'c',7,pd.Timestamp.now()]],\n",
        "                  columns=['int1','str1','int2','date'])"
      ],
      "metadata": {
        "id": "a-XhlzH5T_hl"
      },
      "execution_count": null,
      "outputs": []
    },
    {
      "cell_type": "code",
      "source": [
        "df.info()"
      ],
      "metadata": {
        "colab": {
          "base_uri": "https://localhost:8080/"
        },
        "id": "8aXWzx4ESp-P",
        "outputId": "3656ecb3-08cb-434b-d83d-2d3195962a45"
      },
      "execution_count": null,
      "outputs": [
        {
          "output_type": "stream",
          "name": "stdout",
          "text": [
            "<class 'pandas.core.frame.DataFrame'>\n",
            "RangeIndex: 3 entries, 0 to 2\n",
            "Data columns (total 4 columns):\n",
            " #   Column  Non-Null Count  Dtype         \n",
            "---  ------  --------------  -----         \n",
            " 0   int1    3 non-null      int64         \n",
            " 1   str1    3 non-null      object        \n",
            " 2   int2    3 non-null      int64         \n",
            " 3   date    3 non-null      datetime64[ns]\n",
            "dtypes: datetime64[ns](1), int64(2), object(1)\n",
            "memory usage: 224.0+ bytes\n"
          ]
        }
      ]
    },
    {
      "cell_type": "code",
      "source": [
        "df['str1'].str.lower()"
      ],
      "metadata": {
        "colab": {
          "base_uri": "https://localhost:8080/"
        },
        "id": "CbkKoCWQUiGU",
        "outputId": "36134582-77c9-474f-ed8d-b44b77fb85a7"
      },
      "execution_count": null,
      "outputs": [
        {
          "output_type": "execute_result",
          "data": {
            "text/plain": [
              "0    a\n",
              "1    b\n",
              "2    c\n",
              "Name: str1, dtype: object"
            ]
          },
          "metadata": {},
          "execution_count": 24
        }
      ]
    },
    {
      "cell_type": "code",
      "source": [
        "df.rename(columns={'int1':'float1'})"
      ],
      "metadata": {
        "colab": {
          "base_uri": "https://localhost:8080/",
          "height": 143
        },
        "id": "eGCbU8LwUt8L",
        "outputId": "47127eec-f1e4-40f0-b7b9-a350802f9ede"
      },
      "execution_count": null,
      "outputs": [
        {
          "output_type": "execute_result",
          "data": {
            "text/plain": [
              "   float1 str1  int2                       date\n",
              "0       1    a     3 2023-01-01 00:00:00.000000\n",
              "1       4    B     5 2023-02-01 00:00:00.000000\n",
              "2       6    c     7 2023-03-16 07:38:13.945314"
            ],
            "text/html": [
              "\n",
              "  <div id=\"df-454f38cd-eeeb-43b2-9cd6-8317726dbc32\">\n",
              "    <div class=\"colab-df-container\">\n",
              "      <div>\n",
              "<style scoped>\n",
              "    .dataframe tbody tr th:only-of-type {\n",
              "        vertical-align: middle;\n",
              "    }\n",
              "\n",
              "    .dataframe tbody tr th {\n",
              "        vertical-align: top;\n",
              "    }\n",
              "\n",
              "    .dataframe thead th {\n",
              "        text-align: right;\n",
              "    }\n",
              "</style>\n",
              "<table border=\"1\" class=\"dataframe\">\n",
              "  <thead>\n",
              "    <tr style=\"text-align: right;\">\n",
              "      <th></th>\n",
              "      <th>float1</th>\n",
              "      <th>str1</th>\n",
              "      <th>int2</th>\n",
              "      <th>date</th>\n",
              "    </tr>\n",
              "  </thead>\n",
              "  <tbody>\n",
              "    <tr>\n",
              "      <th>0</th>\n",
              "      <td>1</td>\n",
              "      <td>a</td>\n",
              "      <td>3</td>\n",
              "      <td>2023-01-01 00:00:00.000000</td>\n",
              "    </tr>\n",
              "    <tr>\n",
              "      <th>1</th>\n",
              "      <td>4</td>\n",
              "      <td>B</td>\n",
              "      <td>5</td>\n",
              "      <td>2023-02-01 00:00:00.000000</td>\n",
              "    </tr>\n",
              "    <tr>\n",
              "      <th>2</th>\n",
              "      <td>6</td>\n",
              "      <td>c</td>\n",
              "      <td>7</td>\n",
              "      <td>2023-03-16 07:38:13.945314</td>\n",
              "    </tr>\n",
              "  </tbody>\n",
              "</table>\n",
              "</div>\n",
              "      <button class=\"colab-df-convert\" onclick=\"convertToInteractive('df-454f38cd-eeeb-43b2-9cd6-8317726dbc32')\"\n",
              "              title=\"Convert this dataframe to an interactive table.\"\n",
              "              style=\"display:none;\">\n",
              "        \n",
              "  <svg xmlns=\"http://www.w3.org/2000/svg\" height=\"24px\"viewBox=\"0 0 24 24\"\n",
              "       width=\"24px\">\n",
              "    <path d=\"M0 0h24v24H0V0z\" fill=\"none\"/>\n",
              "    <path d=\"M18.56 5.44l.94 2.06.94-2.06 2.06-.94-2.06-.94-.94-2.06-.94 2.06-2.06.94zm-11 1L8.5 8.5l.94-2.06 2.06-.94-2.06-.94L8.5 2.5l-.94 2.06-2.06.94zm10 10l.94 2.06.94-2.06 2.06-.94-2.06-.94-.94-2.06-.94 2.06-2.06.94z\"/><path d=\"M17.41 7.96l-1.37-1.37c-.4-.4-.92-.59-1.43-.59-.52 0-1.04.2-1.43.59L10.3 9.45l-7.72 7.72c-.78.78-.78 2.05 0 2.83L4 21.41c.39.39.9.59 1.41.59.51 0 1.02-.2 1.41-.59l7.78-7.78 2.81-2.81c.8-.78.8-2.07 0-2.86zM5.41 20L4 18.59l7.72-7.72 1.47 1.35L5.41 20z\"/>\n",
              "  </svg>\n",
              "      </button>\n",
              "      \n",
              "  <style>\n",
              "    .colab-df-container {\n",
              "      display:flex;\n",
              "      flex-wrap:wrap;\n",
              "      gap: 12px;\n",
              "    }\n",
              "\n",
              "    .colab-df-convert {\n",
              "      background-color: #E8F0FE;\n",
              "      border: none;\n",
              "      border-radius: 50%;\n",
              "      cursor: pointer;\n",
              "      display: none;\n",
              "      fill: #1967D2;\n",
              "      height: 32px;\n",
              "      padding: 0 0 0 0;\n",
              "      width: 32px;\n",
              "    }\n",
              "\n",
              "    .colab-df-convert:hover {\n",
              "      background-color: #E2EBFA;\n",
              "      box-shadow: 0px 1px 2px rgba(60, 64, 67, 0.3), 0px 1px 3px 1px rgba(60, 64, 67, 0.15);\n",
              "      fill: #174EA6;\n",
              "    }\n",
              "\n",
              "    [theme=dark] .colab-df-convert {\n",
              "      background-color: #3B4455;\n",
              "      fill: #D2E3FC;\n",
              "    }\n",
              "\n",
              "    [theme=dark] .colab-df-convert:hover {\n",
              "      background-color: #434B5C;\n",
              "      box-shadow: 0px 1px 3px 1px rgba(0, 0, 0, 0.15);\n",
              "      filter: drop-shadow(0px 1px 2px rgba(0, 0, 0, 0.3));\n",
              "      fill: #FFFFFF;\n",
              "    }\n",
              "  </style>\n",
              "\n",
              "      <script>\n",
              "        const buttonEl =\n",
              "          document.querySelector('#df-454f38cd-eeeb-43b2-9cd6-8317726dbc32 button.colab-df-convert');\n",
              "        buttonEl.style.display =\n",
              "          google.colab.kernel.accessAllowed ? 'block' : 'none';\n",
              "\n",
              "        async function convertToInteractive(key) {\n",
              "          const element = document.querySelector('#df-454f38cd-eeeb-43b2-9cd6-8317726dbc32');\n",
              "          const dataTable =\n",
              "            await google.colab.kernel.invokeFunction('convertToInteractive',\n",
              "                                                     [key], {});\n",
              "          if (!dataTable) return;\n",
              "\n",
              "          const docLinkHtml = 'Like what you see? Visit the ' +\n",
              "            '<a target=\"_blank\" href=https://colab.research.google.com/notebooks/data_table.ipynb>data table notebook</a>'\n",
              "            + ' to learn more about interactive tables.';\n",
              "          element.innerHTML = '';\n",
              "          dataTable['output_type'] = 'display_data';\n",
              "          await google.colab.output.renderOutput(dataTable, element);\n",
              "          const docLink = document.createElement('div');\n",
              "          docLink.innerHTML = docLinkHtml;\n",
              "          element.appendChild(docLink);\n",
              "        }\n",
              "      </script>\n",
              "    </div>\n",
              "  </div>\n",
              "  "
            ]
          },
          "metadata": {},
          "execution_count": 25
        }
      ]
    },
    {
      "cell_type": "code",
      "source": [
        "df.describe()"
      ],
      "metadata": {
        "colab": {
          "base_uri": "https://localhost:8080/",
          "height": 300
        },
        "id": "pR_OV9BCVQUC",
        "outputId": "eb69dd4f-6a8c-4dae-eb27-0839c2221753"
      },
      "execution_count": null,
      "outputs": [
        {
          "output_type": "execute_result",
          "data": {
            "text/plain": [
              "           int1  int2\n",
              "count  3.000000   3.0\n",
              "mean   3.666667   5.0\n",
              "std    2.516611   2.0\n",
              "min    1.000000   3.0\n",
              "25%    2.500000   4.0\n",
              "50%    4.000000   5.0\n",
              "75%    5.000000   6.0\n",
              "max    6.000000   7.0"
            ],
            "text/html": [
              "\n",
              "  <div id=\"df-e378e5b2-0802-4595-a30d-340d8f477c0a\">\n",
              "    <div class=\"colab-df-container\">\n",
              "      <div>\n",
              "<style scoped>\n",
              "    .dataframe tbody tr th:only-of-type {\n",
              "        vertical-align: middle;\n",
              "    }\n",
              "\n",
              "    .dataframe tbody tr th {\n",
              "        vertical-align: top;\n",
              "    }\n",
              "\n",
              "    .dataframe thead th {\n",
              "        text-align: right;\n",
              "    }\n",
              "</style>\n",
              "<table border=\"1\" class=\"dataframe\">\n",
              "  <thead>\n",
              "    <tr style=\"text-align: right;\">\n",
              "      <th></th>\n",
              "      <th>int1</th>\n",
              "      <th>int2</th>\n",
              "    </tr>\n",
              "  </thead>\n",
              "  <tbody>\n",
              "    <tr>\n",
              "      <th>count</th>\n",
              "      <td>3.000000</td>\n",
              "      <td>3.0</td>\n",
              "    </tr>\n",
              "    <tr>\n",
              "      <th>mean</th>\n",
              "      <td>3.666667</td>\n",
              "      <td>5.0</td>\n",
              "    </tr>\n",
              "    <tr>\n",
              "      <th>std</th>\n",
              "      <td>2.516611</td>\n",
              "      <td>2.0</td>\n",
              "    </tr>\n",
              "    <tr>\n",
              "      <th>min</th>\n",
              "      <td>1.000000</td>\n",
              "      <td>3.0</td>\n",
              "    </tr>\n",
              "    <tr>\n",
              "      <th>25%</th>\n",
              "      <td>2.500000</td>\n",
              "      <td>4.0</td>\n",
              "    </tr>\n",
              "    <tr>\n",
              "      <th>50%</th>\n",
              "      <td>4.000000</td>\n",
              "      <td>5.0</td>\n",
              "    </tr>\n",
              "    <tr>\n",
              "      <th>75%</th>\n",
              "      <td>5.000000</td>\n",
              "      <td>6.0</td>\n",
              "    </tr>\n",
              "    <tr>\n",
              "      <th>max</th>\n",
              "      <td>6.000000</td>\n",
              "      <td>7.0</td>\n",
              "    </tr>\n",
              "  </tbody>\n",
              "</table>\n",
              "</div>\n",
              "      <button class=\"colab-df-convert\" onclick=\"convertToInteractive('df-e378e5b2-0802-4595-a30d-340d8f477c0a')\"\n",
              "              title=\"Convert this dataframe to an interactive table.\"\n",
              "              style=\"display:none;\">\n",
              "        \n",
              "  <svg xmlns=\"http://www.w3.org/2000/svg\" height=\"24px\"viewBox=\"0 0 24 24\"\n",
              "       width=\"24px\">\n",
              "    <path d=\"M0 0h24v24H0V0z\" fill=\"none\"/>\n",
              "    <path d=\"M18.56 5.44l.94 2.06.94-2.06 2.06-.94-2.06-.94-.94-2.06-.94 2.06-2.06.94zm-11 1L8.5 8.5l.94-2.06 2.06-.94-2.06-.94L8.5 2.5l-.94 2.06-2.06.94zm10 10l.94 2.06.94-2.06 2.06-.94-2.06-.94-.94-2.06-.94 2.06-2.06.94z\"/><path d=\"M17.41 7.96l-1.37-1.37c-.4-.4-.92-.59-1.43-.59-.52 0-1.04.2-1.43.59L10.3 9.45l-7.72 7.72c-.78.78-.78 2.05 0 2.83L4 21.41c.39.39.9.59 1.41.59.51 0 1.02-.2 1.41-.59l7.78-7.78 2.81-2.81c.8-.78.8-2.07 0-2.86zM5.41 20L4 18.59l7.72-7.72 1.47 1.35L5.41 20z\"/>\n",
              "  </svg>\n",
              "      </button>\n",
              "      \n",
              "  <style>\n",
              "    .colab-df-container {\n",
              "      display:flex;\n",
              "      flex-wrap:wrap;\n",
              "      gap: 12px;\n",
              "    }\n",
              "\n",
              "    .colab-df-convert {\n",
              "      background-color: #E8F0FE;\n",
              "      border: none;\n",
              "      border-radius: 50%;\n",
              "      cursor: pointer;\n",
              "      display: none;\n",
              "      fill: #1967D2;\n",
              "      height: 32px;\n",
              "      padding: 0 0 0 0;\n",
              "      width: 32px;\n",
              "    }\n",
              "\n",
              "    .colab-df-convert:hover {\n",
              "      background-color: #E2EBFA;\n",
              "      box-shadow: 0px 1px 2px rgba(60, 64, 67, 0.3), 0px 1px 3px 1px rgba(60, 64, 67, 0.15);\n",
              "      fill: #174EA6;\n",
              "    }\n",
              "\n",
              "    [theme=dark] .colab-df-convert {\n",
              "      background-color: #3B4455;\n",
              "      fill: #D2E3FC;\n",
              "    }\n",
              "\n",
              "    [theme=dark] .colab-df-convert:hover {\n",
              "      background-color: #434B5C;\n",
              "      box-shadow: 0px 1px 3px 1px rgba(0, 0, 0, 0.15);\n",
              "      filter: drop-shadow(0px 1px 2px rgba(0, 0, 0, 0.3));\n",
              "      fill: #FFFFFF;\n",
              "    }\n",
              "  </style>\n",
              "\n",
              "      <script>\n",
              "        const buttonEl =\n",
              "          document.querySelector('#df-e378e5b2-0802-4595-a30d-340d8f477c0a button.colab-df-convert');\n",
              "        buttonEl.style.display =\n",
              "          google.colab.kernel.accessAllowed ? 'block' : 'none';\n",
              "\n",
              "        async function convertToInteractive(key) {\n",
              "          const element = document.querySelector('#df-e378e5b2-0802-4595-a30d-340d8f477c0a');\n",
              "          const dataTable =\n",
              "            await google.colab.kernel.invokeFunction('convertToInteractive',\n",
              "                                                     [key], {});\n",
              "          if (!dataTable) return;\n",
              "\n",
              "          const docLinkHtml = 'Like what you see? Visit the ' +\n",
              "            '<a target=\"_blank\" href=https://colab.research.google.com/notebooks/data_table.ipynb>data table notebook</a>'\n",
              "            + ' to learn more about interactive tables.';\n",
              "          element.innerHTML = '';\n",
              "          dataTable['output_type'] = 'display_data';\n",
              "          await google.colab.output.renderOutput(dataTable, element);\n",
              "          const docLink = document.createElement('div');\n",
              "          docLink.innerHTML = docLinkHtml;\n",
              "          element.appendChild(docLink);\n",
              "        }\n",
              "      </script>\n",
              "    </div>\n",
              "  </div>\n",
              "  "
            ]
          },
          "metadata": {},
          "execution_count": 26
        }
      ]
    },
    {
      "cell_type": "code",
      "source": [
        "mask1 = df.int1 == 1\n",
        "mask2 = df.int2 == 3\n",
        "df[mask1 & mask2]"
      ],
      "metadata": {
        "colab": {
          "base_uri": "https://localhost:8080/",
          "height": 81
        },
        "id": "hR_15WaIXNdX",
        "outputId": "6ee04b87-a7d9-4c11-ce68-4162b3219719"
      },
      "execution_count": null,
      "outputs": [
        {
          "output_type": "execute_result",
          "data": {
            "text/plain": [
              "   int1 str1  int2       date\n",
              "0     1    a     3 2023-01-01"
            ],
            "text/html": [
              "\n",
              "  <div id=\"df-825b0713-e461-4d04-abc4-8a9a6f10f2a9\">\n",
              "    <div class=\"colab-df-container\">\n",
              "      <div>\n",
              "<style scoped>\n",
              "    .dataframe tbody tr th:only-of-type {\n",
              "        vertical-align: middle;\n",
              "    }\n",
              "\n",
              "    .dataframe tbody tr th {\n",
              "        vertical-align: top;\n",
              "    }\n",
              "\n",
              "    .dataframe thead th {\n",
              "        text-align: right;\n",
              "    }\n",
              "</style>\n",
              "<table border=\"1\" class=\"dataframe\">\n",
              "  <thead>\n",
              "    <tr style=\"text-align: right;\">\n",
              "      <th></th>\n",
              "      <th>int1</th>\n",
              "      <th>str1</th>\n",
              "      <th>int2</th>\n",
              "      <th>date</th>\n",
              "    </tr>\n",
              "  </thead>\n",
              "  <tbody>\n",
              "    <tr>\n",
              "      <th>0</th>\n",
              "      <td>1</td>\n",
              "      <td>a</td>\n",
              "      <td>3</td>\n",
              "      <td>2023-01-01</td>\n",
              "    </tr>\n",
              "  </tbody>\n",
              "</table>\n",
              "</div>\n",
              "      <button class=\"colab-df-convert\" onclick=\"convertToInteractive('df-825b0713-e461-4d04-abc4-8a9a6f10f2a9')\"\n",
              "              title=\"Convert this dataframe to an interactive table.\"\n",
              "              style=\"display:none;\">\n",
              "        \n",
              "  <svg xmlns=\"http://www.w3.org/2000/svg\" height=\"24px\"viewBox=\"0 0 24 24\"\n",
              "       width=\"24px\">\n",
              "    <path d=\"M0 0h24v24H0V0z\" fill=\"none\"/>\n",
              "    <path d=\"M18.56 5.44l.94 2.06.94-2.06 2.06-.94-2.06-.94-.94-2.06-.94 2.06-2.06.94zm-11 1L8.5 8.5l.94-2.06 2.06-.94-2.06-.94L8.5 2.5l-.94 2.06-2.06.94zm10 10l.94 2.06.94-2.06 2.06-.94-2.06-.94-.94-2.06-.94 2.06-2.06.94z\"/><path d=\"M17.41 7.96l-1.37-1.37c-.4-.4-.92-.59-1.43-.59-.52 0-1.04.2-1.43.59L10.3 9.45l-7.72 7.72c-.78.78-.78 2.05 0 2.83L4 21.41c.39.39.9.59 1.41.59.51 0 1.02-.2 1.41-.59l7.78-7.78 2.81-2.81c.8-.78.8-2.07 0-2.86zM5.41 20L4 18.59l7.72-7.72 1.47 1.35L5.41 20z\"/>\n",
              "  </svg>\n",
              "      </button>\n",
              "      \n",
              "  <style>\n",
              "    .colab-df-container {\n",
              "      display:flex;\n",
              "      flex-wrap:wrap;\n",
              "      gap: 12px;\n",
              "    }\n",
              "\n",
              "    .colab-df-convert {\n",
              "      background-color: #E8F0FE;\n",
              "      border: none;\n",
              "      border-radius: 50%;\n",
              "      cursor: pointer;\n",
              "      display: none;\n",
              "      fill: #1967D2;\n",
              "      height: 32px;\n",
              "      padding: 0 0 0 0;\n",
              "      width: 32px;\n",
              "    }\n",
              "\n",
              "    .colab-df-convert:hover {\n",
              "      background-color: #E2EBFA;\n",
              "      box-shadow: 0px 1px 2px rgba(60, 64, 67, 0.3), 0px 1px 3px 1px rgba(60, 64, 67, 0.15);\n",
              "      fill: #174EA6;\n",
              "    }\n",
              "\n",
              "    [theme=dark] .colab-df-convert {\n",
              "      background-color: #3B4455;\n",
              "      fill: #D2E3FC;\n",
              "    }\n",
              "\n",
              "    [theme=dark] .colab-df-convert:hover {\n",
              "      background-color: #434B5C;\n",
              "      box-shadow: 0px 1px 3px 1px rgba(0, 0, 0, 0.15);\n",
              "      filter: drop-shadow(0px 1px 2px rgba(0, 0, 0, 0.3));\n",
              "      fill: #FFFFFF;\n",
              "    }\n",
              "  </style>\n",
              "\n",
              "      <script>\n",
              "        const buttonEl =\n",
              "          document.querySelector('#df-825b0713-e461-4d04-abc4-8a9a6f10f2a9 button.colab-df-convert');\n",
              "        buttonEl.style.display =\n",
              "          google.colab.kernel.accessAllowed ? 'block' : 'none';\n",
              "\n",
              "        async function convertToInteractive(key) {\n",
              "          const element = document.querySelector('#df-825b0713-e461-4d04-abc4-8a9a6f10f2a9');\n",
              "          const dataTable =\n",
              "            await google.colab.kernel.invokeFunction('convertToInteractive',\n",
              "                                                     [key], {});\n",
              "          if (!dataTable) return;\n",
              "\n",
              "          const docLinkHtml = 'Like what you see? Visit the ' +\n",
              "            '<a target=\"_blank\" href=https://colab.research.google.com/notebooks/data_table.ipynb>data table notebook</a>'\n",
              "            + ' to learn more about interactive tables.';\n",
              "          element.innerHTML = '';\n",
              "          dataTable['output_type'] = 'display_data';\n",
              "          await google.colab.output.renderOutput(dataTable, element);\n",
              "          const docLink = document.createElement('div');\n",
              "          docLink.innerHTML = docLinkHtml;\n",
              "          element.appendChild(docLink);\n",
              "        }\n",
              "      </script>\n",
              "    </div>\n",
              "  </div>\n",
              "  "
            ]
          },
          "metadata": {},
          "execution_count": 34
        }
      ]
    },
    {
      "cell_type": "code",
      "source": [
        "df.date.dt.year"
      ],
      "metadata": {
        "colab": {
          "base_uri": "https://localhost:8080/"
        },
        "id": "nnv5s-dMYMjM",
        "outputId": "d861ec25-0918-49a7-cdfc-155a725e3a4d"
      },
      "execution_count": null,
      "outputs": [
        {
          "output_type": "execute_result",
          "data": {
            "text/plain": [
              "0    2023\n",
              "1    2023\n",
              "2    2023\n",
              "Name: date, dtype: int64"
            ]
          },
          "metadata": {},
          "execution_count": 29
        }
      ]
    },
    {
      "cell_type": "code",
      "source": [
        "print(f'''{df.int1.unique()} \n",
        "{df.int1.nunique()}''')"
      ],
      "metadata": {
        "colab": {
          "base_uri": "https://localhost:8080/"
        },
        "id": "od1RRAZVY-OO",
        "outputId": "9922fd61-d042-48d3-91f8-9c3b826764cf"
      },
      "execution_count": null,
      "outputs": [
        {
          "output_type": "stream",
          "name": "stdout",
          "text": [
            "[1 4 6]\n",
            "3\n"
          ]
        }
      ]
    },
    {
      "cell_type": "code",
      "source": [
        "datetime.today().strftime('%Y_%m_%d')"
      ],
      "metadata": {
        "colab": {
          "base_uri": "https://localhost:8080/",
          "height": 35
        },
        "id": "549JR5fmoLjv",
        "outputId": "56a09276-8e55-4450-cd8e-95dbddfa11a5"
      },
      "execution_count": null,
      "outputs": [
        {
          "output_type": "execute_result",
          "data": {
            "text/plain": [
              "'2023_03_16'"
            ],
            "application/vnd.google.colaboratory.intrinsic+json": {
              "type": "string"
            }
          },
          "metadata": {},
          "execution_count": 50
        }
      ]
    },
    {
      "cell_type": "markdown",
      "source": [
        "# Task of gradient descent for linear regression\n",
        "## ONE dimentional case"
      ],
      "metadata": {
        "id": "tuK6q1iIzkpb"
      }
    },
    {
      "cell_type": "code",
      "source": [
        "n, m = int(1e4), 3 # размерность x\n",
        "x, y, coef = make_regression(n_samples=n, n_features=m,\n",
        "                       n_informative=m, noise=10, random_state=10, coef=True, bias=False)\n",
        "y = y.reshape(n, 1)\n",
        "\n",
        "fig, ax = plt.subplots(1,1, figsize=(14, 5))\n",
        "ax.plot(x, y, linestyle='', marker='o', markersize=4, c='b', label='y')\n",
        "ax.plot(x, coef*x, linestyle='-', marker='o', markersize=0, c='r', label='y_pred')\n",
        "ax.legend(loc='upper left', fontsize=8);"
      ],
      "metadata": {
        "colab": {
          "base_uri": "https://localhost:8080/",
          "height": 320
        },
        "id": "srItOheQzr59",
        "outputId": "0bab4501-d95f-4cf7-b642-f82e6e665186"
      },
      "execution_count": null,
      "outputs": [
        {
          "output_type": "display_data",
          "data": {
            "text/plain": [
              "<Figure size 1008x360 with 1 Axes>"
            ],
            "image/png": "[encoded data removed]"
          },
          "metadata": {
            "needs_background": "light"
          }
        }
      ]
    },
    {
      "cell_type": "code",
      "source": [
        "# Добавляем колонку единиц в x для симмуляции bias\n",
        "x_new = np.concatenate((np.ones((x.shape[0],1)), x),axis=1)"
      ],
      "metadata": {
        "id": "uXRr9Zad0cdQ"
      },
      "execution_count": null,
      "outputs": []
    },
    {
      "cell_type": "markdown",
      "source": [
        "## Normal equastion"
      ],
      "metadata": {
        "id": "GZGPE8AT5ZdT"
      }
    },
    {
      "cell_type": "code",
      "source": [
        "%%time\n",
        "### normal equestion\n",
        "# Matrix multiplication is O(n³), inversion is also O(n³). \n",
        "# This is actually slower than gradient descent for even modest sized datasets\n",
        "theta_best_values  = np.linalg.inv(x_new.T.dot(x_new)).dot(x_new.T).dot(y)\n",
        "theta_best_values"
      ],
      "metadata": {
        "colab": {
          "base_uri": "https://localhost:8080/"
        },
        "id": "aOwcI_984eje",
        "outputId": "cf7fdd05-4ff3-4a0c-8ac5-db2880680f4a"
      },
      "execution_count": null,
      "outputs": [
        {
          "output_type": "stream",
          "name": "stdout",
          "text": [
            "CPU times: user 1.52 ms, sys: 2.96 ms, total: 4.48 ms\n",
            "Wall time: 4.49 ms\n"
          ]
        },
        {
          "output_type": "execute_result",
          "data": {
            "text/plain": [
              "array([[ 0.10420723],\n",
              "       [59.08037742],\n",
              "       [17.41747938],\n",
              "       [93.2164548 ]])"
            ]
          },
          "metadata": {},
          "execution_count": 482
        }
      ]
    },
    {
      "cell_type": "code",
      "source": [
        "# Считаем для примера \n",
        "x_sample = np.array([[1, 1, 8],\n",
        "                     [2, 4, 18]])\n",
        "x_sample = np.concatenate((np.ones((x_sample.shape[0],1)), x_sample),axis=1)\n",
        "y_sample = x_sample.dot(theta_best_values)\n",
        "y_sample"
      ],
      "metadata": {
        "colab": {
          "base_uri": "https://localhost:8080/"
        },
        "id": "qe68ryaZ4xQE",
        "outputId": "9b530016-92ef-4e73-bee9-41b58090c5b7"
      },
      "execution_count": null,
      "outputs": [
        {
          "output_type": "execute_result",
          "data": {
            "text/plain": [
              "array([[ 822.33370246],\n",
              "       [1865.83106605]])"
            ]
          },
          "metadata": {},
          "execution_count": 483
        }
      ]
    },
    {
      "cell_type": "markdown",
      "source": [
        "## Gradient descent"
      ],
      "metadata": {
        "id": "Sdac5-nB5SpD"
      }
    },
    {
      "cell_type": "code",
      "source": [
        "%%time\n",
        "b, k, l, loss, theta = 0, 30, 1e-2, [], np.zeros((m+1,1))\n",
        "for i in range(1,1000,1):\n",
        "    y_pred = x_new.dot(theta)\n",
        "    loss.append(1/n*np.sum((y-y_pred)**2))\n",
        "    for i in range(0, m+1):\n",
        "        theta[i] = theta[i]-l*(2/n*np.sum((y_pred-y)*x_new[:,i].reshape(n,1)))    \n",
        "print(theta)\n",
        "plt.plot(np.array(loss))"
      ],
      "metadata": {
        "colab": {
          "base_uri": "https://localhost:8080/",
          "height": 390
        },
        "id": "frmKGlFq5VfO",
        "outputId": "9888c3e4-18bf-41c5-c7ea-657cdb65ddc0"
      },
      "execution_count": null,
      "outputs": [
        {
          "output_type": "stream",
          "name": "stdout",
          "text": [
            "[[ 0.10420725]\n",
            " [59.08037724]\n",
            " [17.41747932]\n",
            " [93.21645462]]\n",
            "CPU times: user 255 ms, sys: 186 ms, total: 440 ms\n",
            "Wall time: 236 ms\n"
          ]
        },
        {
          "output_type": "execute_result",
          "data": {
            "text/plain": [
              "[<matplotlib.lines.Line2D at 0x7f35c65d6af0>]"
            ]
          },
          "metadata": {},
          "execution_count": 484
        },
        {
          "output_type": "display_data",
          "data": {
            "text/plain": [
              "<Figure size 432x288 with 1 Axes>"
            ],
            "image/png": "[encoded data removed]"
          },
          "metadata": {
            "needs_background": "light"
          }
        }
      ]
    },
    {
      "cell_type": "markdown",
      "source": [
        "## Multidimentional case of linear regro\n",
        "## LINEAR CLASS"
      ],
      "metadata": {
        "id": "xBzs3E0v5ztQ"
      }
    },
    {
      "cell_type": "code",
      "source": [
        "class LinearRegression:\n",
        "  L=1e-3\n",
        "  def __init__(self, X: np.ndarray, y: np.ndarray):\n",
        "    self.X = X\n",
        "    self.X_new = np.concatenate((np.ones((X.shape[0],1)), X),axis=1)\n",
        "    self.y = y\n",
        "    self.theta = np.zeros((X.shape[1]+1,1))\n",
        "    self.loss = []\n",
        "\n",
        "  def predict(self):\n",
        "    y_pred = self.X_new.dot(self.theta)\n",
        "    return y_pred\n",
        "\n",
        "  def update_coef(self, l=L):\n",
        "    n = len(y)\n",
        "    for i in range(len(self.theta)):\n",
        "      y_pred = self.predict()\n",
        "      self.theta[i] = self.theta[i] - l*((2/n)*np.sum((y_pred-self.y)*self.X_new[:,i].reshape(n,1)))\n",
        "\n",
        "  def train(self, n=100, l=L):\n",
        "    for i in range(n):\n",
        "      self.loss.append(1/n*np.sum((self.predict()-self.y)**2))\n",
        "      self.update_coef(l)\n",
        "\n",
        "  def loss_plot(self):\n",
        "    fig, ax = plt.subplots(1,1, figsize=(10,4))\n",
        "    ax.plot(self.loss, linestyle='-', markersize=0, marker='o', c='b', label='loss')\n",
        "    ax.legend(loc='upper right', fontsize=8);"
      ],
      "metadata": {
        "id": "7286bX-X5_Ht"
      },
      "execution_count": null,
      "outputs": []
    },
    {
      "cell_type": "code",
      "source": [
        "np.linalg.inv(x_new.T.dot(x_new)).dot(x_new.T).dot(y)"
      ],
      "metadata": {
        "colab": {
          "base_uri": "https://localhost:8080/"
        },
        "id": "zKcsetNOcLZX",
        "outputId": "6303cf0d-bcf2-470f-f665-c5b36e45e455"
      },
      "execution_count": null,
      "outputs": [
        {
          "output_type": "execute_result",
          "data": {
            "text/plain": [
              "array([[ 0.10420723],\n",
              "       [59.08037742],\n",
              "       [17.41747938],\n",
              "       [93.2164548 ]])"
            ]
          },
          "metadata": {},
          "execution_count": 486
        }
      ]
    },
    {
      "cell_type": "code",
      "source": [
        "reg = LinearRegression(x, y)\n",
        "reg.train(1000, 1e-2)\n",
        "reg.theta"
      ],
      "metadata": {
        "colab": {
          "base_uri": "https://localhost:8080/"
        },
        "id": "DS7Xt2EFcxqN",
        "outputId": "823945a9-dde5-4ec5-a736-2fec9f62461d"
      },
      "execution_count": null,
      "outputs": [
        {
          "output_type": "execute_result",
          "data": {
            "text/plain": [
              "array([[ 0.10420725],\n",
              "       [59.08037724],\n",
              "       [17.41747933],\n",
              "       [93.21645462]])"
            ]
          },
          "metadata": {},
          "execution_count": 487
        }
      ]
    },
    {
      "cell_type": "code",
      "source": [
        "plt.plot(reg.loss)"
      ],
      "metadata": {
        "colab": {
          "base_uri": "https://localhost:8080/",
          "height": 283
        },
        "id": "CwKa65WlWJxR",
        "outputId": "da00c8d7-bd66-48aa-a146-a6ada3576dc1"
      },
      "execution_count": null,
      "outputs": [
        {
          "output_type": "execute_result",
          "data": {
            "text/plain": [
              "[<matplotlib.lines.Line2D at 0x7f35c66d32b0>]"
            ]
          },
          "metadata": {},
          "execution_count": 488
        },
        {
          "output_type": "display_data",
          "data": {
            "text/plain": [
              "<Figure size 432x288 with 1 Axes>"
            ],
            "image/png": "[encoded data removed]"
          },
          "metadata": {
            "needs_background": "light"
          }
        }
      ]
    },
    {
      "cell_type": "code",
      "source": [],
      "metadata": {
        "id": "DjI5WfwQWNKy"
      },
      "execution_count": null,
      "outputs": []
    },
    {
      "cell_type": "markdown",
      "source": [
        "## EXPERIMENTS"
      ],
      "metadata": {
        "id": "T4hf1ef5g0Vs"
      }
    },
    {
      "cell_type": "code",
      "source": [
        "x = np.array([[4*i + np.random.normal(i,10,1)[0]] for i in range(n)])\n",
        "x_new = np.concatenate((np.ones((x.shape[0],1)), x),axis=1)\n",
        "y = np.array([[10+4*i] for i in range(n)])"
      ],
      "metadata": {
        "id": "LaGbTiNog3mE"
      },
      "execution_count": null,
      "outputs": []
    },
    {
      "cell_type": "code",
      "source": [
        "class LinearRegression:\n",
        "  L=1e-3\n",
        "  def __init__(self, X: np.ndarray, y: np.ndarray):\n",
        "    self.X = X\n",
        "    self.X_new = np.concatenate((np.ones((X.shape[0],1)), X),axis=1)\n",
        "    self.y = y\n",
        "    self.theta = np.ones((X.shape[1]+1,1))\n",
        "    self.loss = []\n",
        "\n",
        "  def predict(self):\n",
        "    y_pred = self.X_new.dot(self.theta)\n",
        "    return y_pred\n",
        "\n",
        "  def update_coef(self, l=L):\n",
        "    n = len(y)\n",
        "    y_pred = self.predict()\n",
        "    for i in range(len(self.theta)):\n",
        "      self.theta[i] = self.theta[i] - l*((2/n)*np.sum((y_pred-self.y)*self.X_new[:,i].reshape(n,1)))\n",
        "\n",
        "  def train(self, n=100, l=L):\n",
        "    for i in range(n):\n",
        "      self.loss.append(1/n*np.sum((self.predict()-self.y)**2))\n",
        "      self.update_coef(l)\n",
        "\n",
        "  def loss_plot(self):\n",
        "    fig, ax = plt.subplots(1,1, figsize=(10,4))\n",
        "    ax.plot(self.loss, linestyle='-', markersize=0, marker='o', c='b', label='loss')\n",
        "    ax.legend(loc='upper right', fontsize=8);"
      ],
      "metadata": {
        "id": "8sGTiX4_SSl9"
      },
      "execution_count": null,
      "outputs": []
    },
    {
      "cell_type": "code",
      "source": [
        "x_new"
      ],
      "metadata": {
        "colab": {
          "base_uri": "https://localhost:8080/"
        },
        "id": "eQ_uJdEjjriP",
        "outputId": "825841db-5d5c-43d2-fd4b-8fd3ff04f2ec"
      },
      "execution_count": null,
      "outputs": [
        {
          "output_type": "execute_result",
          "data": {
            "text/plain": [
              "array([[ 1.00000000e+00, -2.24236441e+00],\n",
              "       [ 1.00000000e+00,  4.00044985e+00],\n",
              "       [ 1.00000000e+00,  1.29057390e+01],\n",
              "       ...,\n",
              "       [ 1.00000000e+00,  4.99897877e+04],\n",
              "       [ 1.00000000e+00,  4.99904382e+04],\n",
              "       [ 1.00000000e+00,  4.99932818e+04]])"
            ]
          },
          "metadata": {},
          "execution_count": 537
        }
      ]
    },
    {
      "cell_type": "code",
      "source": [
        "np.linalg.inv(x_new.T.dot(x_new)).dot(x_new.T).dot(y)"
      ],
      "metadata": {
        "colab": {
          "base_uri": "https://localhost:8080/"
        },
        "id": "5qeJTuif7x4_",
        "outputId": "ec7d502f-890a-4cac-abb1-614b19924665"
      },
      "execution_count": null,
      "outputs": [
        {
          "output_type": "execute_result",
          "data": {
            "text/plain": [
              "array([[9.90117442],\n",
              "       [0.80000599]])"
            ]
          },
          "metadata": {},
          "execution_count": 532
        }
      ]
    },
    {
      "cell_type": "code",
      "source": [
        "reg = LinearRegression(x, y)\n",
        "reg.train(10, 1e-8)\n",
        "reg.theta"
      ],
      "metadata": {
        "colab": {
          "base_uri": "https://localhost:8080/"
        },
        "id": "URV4X0Y67hSW",
        "outputId": "0d713863-dd85-410a-a898-85b0cd4b5966"
      },
      "execution_count": null,
      "outputs": [
        {
          "output_type": "execute_result",
          "data": {
            "text/plain": [
              "array([[5.32867722e+06],\n",
              "       [1.77612746e+11]])"
            ]
          },
          "metadata": {},
          "execution_count": 538
        }
      ]
    },
    {
      "cell_type": "code",
      "source": [
        "reg.loss_plot()"
      ],
      "metadata": {
        "colab": {
          "base_uri": "https://localhost:8080/",
          "height": 276
        },
        "id": "_nKjRxruh82B",
        "outputId": "5c2e3491-0234-4187-bc47-98bd9f32ddbc"
      },
      "execution_count": null,
      "outputs": [
        {
          "output_type": "display_data",
          "data": {
            "text/plain": [
              "<Figure size 720x288 with 1 Axes>"
            ],
            "image/png": "[encoded data removed]"
          },
          "metadata": {
            "needs_background": "light"
          }
        }
      ]
    },
    {
      "cell_type": "code",
      "source": [],
      "metadata": {
        "id": "D24fP9pVQe02"
      },
      "execution_count": null,
      "outputs": []
    }
  ]
}