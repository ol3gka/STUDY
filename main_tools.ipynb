{
  "nbformat": 4,
  "nbformat_minor": 0,
  "metadata": {
    "colab": {
      "provenance": [],
      "toc_visible": true,
      "authorship_tag": "ABX9TyMdVxI6oRWd954zUg8+QqQX",
      "include_colab_link": true
    },
    "kernelspec": {
      "name": "python3",
      "display_name": "Python 3"
    },
    "language_info": {
      "name": "python"
    }
  },
  "cells": [
    {
      "cell_type": "markdown",
      "metadata": {
        "id": "view-in-github",
        "colab_type": "text"
      },
      "source": [
        "<a href=\"https://colab.research.google.com/github/ol3gka/STUDY/blob/main/main_tools.ipynb\" target=\"_parent\"><img src=\"https://colab.research.google.com/assets/colab-badge.svg\" alt=\"Open In Colab\"/></a>"
      ]
    },
    {
      "cell_type": "markdown",
      "source": [
        "# MAIN STRUCTURES\n",
        "свойства python - динамическая типизация и полиморфизм (результат выполнения операторов зависит от типа данных, к которому их применяют); компитяция в байт код; a=3, b=a - разделяемая сылка (2 имени/переменных ссылаются на один объект '3')\n",
        "\n",
        "**Все структуры данных в python представляют из себя объекты**\n",
        "\n",
        "* числовые объекты (целые, дробные, комлексные) `numbers` 1,1.2 Числа\n",
        "\n",
        "* строка `str` 'aao' Последовательности\n",
        "\n",
        "* кортеж `tuple` (1,2,3) Последовательности\n",
        "\n",
        "* множество `set` {1,2,3} ни отоб­ражение, ни последовательность\n",
        "\n",
        "* список `list` [1,'a',2] Последовательности\n",
        "\n",
        "* словарь `dict` {1:'a',2:'e'} Отображения\n",
        "\n",
        "**Изменяемые: список, словарь, множетсво**\n",
        "\n",
        "**Неизменяемы: числа, строки, кортеж**\n",
        "\n",
        "из-за того, что объекты неизменяемые, любая операция над объектом должна быть перепресвоенна, при это ссылка на объект будет уже ссылаться на другой, новый instance, который создался функцией: \n",
        "\n",
        "`a = 'aaa'`\n",
        "\n",
        "`a = a.replace('a','b')`\n",
        "\n",
        "`help(str)`, `dir(str)` или `help(str.append)` - вызвать методы классов, `shift+tab` внутри функции (`pd.read_excel(/shift+tab/)`), чтобы получить справку (можно несеольеко раз жать); `tab` работает так: `pd./tab/` - покажет методы библиотеки\n",
        "\n",
        "* списки, словари и кортежи способны содержать в себе объекты любых видов\n",
        "* множества могут содержать неизменяемые объекты любых видов\n",
        "* списки, словари и кортежи допускают вложение на произвольную глубину\n",
        "* списки, словари и множества способны динамически увеличиваться и умень­ шаться"
      ],
      "metadata": {
        "id": "Zu2zgHUt-D-E"
      }
    },
    {
      "cell_type": "code",
      "source": [
        "from sklearn.datasets import make_regression\n",
        "import matplotlib.pyplot as plt\n",
        "import numpy as np\n",
        "from datetime import datetime\n",
        "import pandas as pd"
      ],
      "metadata": {
        "id": "H5CwBVutCGxB"
      },
      "execution_count": null,
      "outputs": []
    },
    {
      "cell_type": "markdown",
      "source": [
        "## NUMBERS"
      ],
      "metadata": {
        "id": "mp00S4zc-Mdz"
      }
    },
    {
      "cell_type": "code",
      "source": [
        "print(f\"\"\"{5 / 1.7}\n",
        "{5 // 1.7} # целочисленное деление\n",
        "{int(5/1.7)} # деление с округлением в меньшую сторону\n",
        "{round(5/1.7)}\n",
        "{5 % 1.7}\"\"\")"
      ],
      "metadata": {
        "colab": {
          "base_uri": "https://localhost:8080/"
        },
        "id": "kf_3s2zf-Os2",
        "outputId": "a8b4bdc6-fea0-438d-dd36-6e389ac96f2b"
      },
      "execution_count": null,
      "outputs": [
        {
          "output_type": "stream",
          "name": "stdout",
          "text": [
            "2.9411764705882355\n",
            "2.0 # целочисленное деление\n",
            "2\n",
            "3\n",
            "1.6\n"
          ]
        }
      ]
    },
    {
      "cell_type": "code",
      "source": [
        "print(f\"\"\"{12121.22223:,.2f}\n",
        "{12121.22223:,}\n",
        "{12121.22223:.2e}\"\"\")"
      ],
      "metadata": {
        "colab": {
          "base_uri": "https://localhost:8080/"
        },
        "id": "jO4jjKqOR2xc",
        "outputId": "e1e9fbb2-b46a-4c66-d123-c3e86befae2e"
      },
      "execution_count": null,
      "outputs": [
        {
          "output_type": "stream",
          "name": "stdout",
          "text": [
            "12,121.22\n",
            "12,121.22223\n",
            "1.21e+04\n"
          ]
        }
      ]
    },
    {
      "cell_type": "markdown",
      "source": [
        "## SYNTAXIS"
      ],
      "metadata": {
        "id": "MYaQBHCR9u-L"
      }
    },
    {
      "cell_type": "code",
      "source": [
        "# Первый прием, операция ==, предусматривает проверку, имеют ли два ссылаемых объекта одинаковые значения; \n",
        "# такой метод почти всегда используется для проверок на предмет равенства в Python. \n",
        "# Второй прием, операция is, проверяет идентичность — она возвращает True, только если оба имени указывают на точно тот же самый объ­ект, \n",
        "# поэтому операция is является гораздо более строгой формой проверки равенс­тва и редко применяется в большинстве программ.\n",
        "l=[1,2,3]; m=[1,2,3]\n",
        "print(f\"\"\"{l==m}\n",
        "{l is m}\"\"\") # но для чисел оба будет тру - из-за кэширования"
      ],
      "metadata": {
        "colab": {
          "base_uri": "https://localhost:8080/"
        },
        "id": "vxsxotr1TUB9",
        "outputId": "da3f088c-4f1b-4c41-aa4b-ef166dd59409"
      },
      "execution_count": null,
      "outputs": [
        {
          "output_type": "stream",
          "name": "stdout",
          "text": [
            "True\n",
            "False\n"
          ]
        }
      ]
    },
    {
      "cell_type": "code",
      "source": [
        "print(f'aa\\taa\\taa')\n",
        "for x in range(1, 6):\n",
        "    print(f'{x:02}\\t{x*x:3}\\t{x*x*x*x*x:4}')"
      ],
      "metadata": {
        "colab": {
          "base_uri": "https://localhost:8080/"
        },
        "id": "OoFphpv5003K",
        "outputId": "2c755e3a-dca2-4328-8dfd-4497ef0e7a16"
      },
      "execution_count": null,
      "outputs": [
        {
          "output_type": "stream",
          "name": "stdout",
          "text": [
            "aa\taa\taa\n",
            "01\t  1\t   1\n",
            "02\t  4\t  32\n",
            "03\t  9\t 243\n",
            "04\t 16\t1024\n",
            "05\t 25\t3125\n"
          ]
        }
      ]
    },
    {
      "cell_type": "code",
      "source": [
        "# путь через косые черты\n",
        "# open(г’С:\\Python33\\Lib\\pdb.py')\n",
        "# open('С:/Python33/Lib/pdb.py')\n",
        "# open(’C:\\\\Fython33\\\\Lib\\\\pdb.py’) "
      ],
      "metadata": {
        "colab": {
          "base_uri": "https://localhost:8080/"
        },
        "id": "-ZCwPKca99hF",
        "outputId": "9302ae88-5834-499d-d0e8-1fd5ff0dd2fc"
      },
      "execution_count": null,
      "outputs": [
        {
          "output_type": "execute_result",
          "data": {
            "text/plain": [
              "{'ws': 'sds', 'wd': 40}"
            ]
          },
          "metadata": {},
          "execution_count": 46
        }
      ]
    },
    {
      "cell_type": "code",
      "source": [
        "int(' 12 ')"
      ],
      "metadata": {
        "id": "BGlWJw-RFohA",
        "outputId": "5ac590ab-c1ff-4534-e927-5ec8fef77d07",
        "colab": {
          "base_uri": "https://localhost:8080/"
        }
      },
      "execution_count": null,
      "outputs": [
        {
          "output_type": "execute_result",
          "data": {
            "text/plain": [
              "12"
            ]
          },
          "metadata": {},
          "execution_count": 18
        }
      ]
    },
    {
      "cell_type": "code",
      "source": [
        "device = torch.device(\"cuda\" if torch.cuda.is_available() else \"cpu\")\n",
        "print(f\"Using device: {device}\\t\" + (f\"{torch.cuda.get_device_name(0)}\" if torch.cuda.is_available() else \"CPU\"))"
      ],
      "metadata": {
        "id": "P_1BZwSumDnx"
      },
      "execution_count": null,
      "outputs": []
    },
    {
      "cell_type": "code",
      "source": [
        "s = 'aao'\n",
        "try:\n",
        "   int(s)\n",
        "except:\n",
        "  print('write a number!')\n",
        "else:\n",
        "  print(s+2)"
      ],
      "metadata": {
        "colab": {
          "base_uri": "https://localhost:8080/"
        },
        "id": "_HIhFVXSCbH2",
        "outputId": "35abc0c4-267a-44af-9761-c4cf7ca11813"
      },
      "execution_count": null,
      "outputs": [
        {
          "output_type": "stream",
          "name": "stdout",
          "text": [
            "write a number!\n"
          ]
        }
      ]
    },
    {
      "cell_type": "code",
      "source": [
        "(a, b, c) = [1,2,3]\n",
        "print(a,c)\n",
        "(a, b, c) = (1,2,3)\n",
        "print(a,c)\n",
        "a, *b, c = (1,2,4,5,3)\n",
        "print(a,b)"
      ],
      "metadata": {
        "colab": {
          "base_uri": "https://localhost:8080/"
        },
        "id": "dg2d_x9-I9VA",
        "outputId": "3d88b0f7-a7d0-4d17-fe69-31485934e7ec"
      },
      "execution_count": null,
      "outputs": [
        {
          "output_type": "stream",
          "name": "stdout",
          "text": [
            "1 3\n",
            "1 3\n",
            "1 [2, 4, 5]\n"
          ]
        }
      ]
    },
    {
      "cell_type": "code",
      "source": [
        "import numpy as np\n",
        "s = 'smap'\n",
        "s[2:10500]"
      ],
      "metadata": {
        "colab": {
          "base_uri": "https://localhost:8080/",
          "height": 36
        },
        "id": "wsVgzUCjKx63",
        "outputId": "ec4adab3-2ebf-4486-c828-fee2982adcc9"
      },
      "execution_count": null,
      "outputs": [
        {
          "output_type": "execute_result",
          "data": {
            "text/plain": [
              "'ap'"
            ],
            "application/vnd.google.colaboratory.intrinsic+json": {
              "type": "string"
            }
          },
          "metadata": {},
          "execution_count": 13
        }
      ]
    },
    {
      "cell_type": "code",
      "source": [
        "l = [1,2,3,4,5]\n",
        "ll = [list(l)]*4\n",
        "ll[0][1] = 99\n",
        "ll"
      ],
      "metadata": {
        "id": "sLUHzVdtYX-f"
      },
      "execution_count": null,
      "outputs": []
    },
    {
      "cell_type": "code",
      "source": [
        "# дополнительные присваивания. Дополненное присваивание работает на любом типе, который поддерживает подразумеваемую бинарную операцию. Работает быстрее.\n",
        "x = 1; y = 0\n",
        "x |= y # x &= y\n",
        "x"
      ],
      "metadata": {
        "colab": {
          "base_uri": "https://localhost:8080/"
        },
        "id": "cKPdkhQJYYpH",
        "outputId": "cd29188a-8af8-4d76-e5aa-095ff759fe76"
      },
      "execution_count": null,
      "outputs": [
        {
          "output_type": "execute_result",
          "data": {
            "text/plain": [
              "1"
            ]
          },
          "metadata": {},
          "execution_count": 20
        }
      ]
    },
    {
      "cell_type": "markdown",
      "source": [
        "## STRING (строка)\n",
        "Cтроки Python относятся к категории неизменяемых последовательнос­тей, а это означает, что содержащиеся в них символы имеют позиционный порядок слева направо и не могут быть модифицированы на месте. Список, кортеж - тоже последовательности, поэтому операции над ними будет теми"
      ],
      "metadata": {
        "id": "b-1gSoyWOLA2"
      }
    },
    {
      "cell_type": "code",
      "source": [
        "# Список - изменяемый объект:\n",
        "L_1 =[1,2,3]; L_2 = L_1 # l2 ссылается на объект [1,2,3]\n",
        "L_1[0]=100; L_2\n",
        "# Поэтому для того, чтобы избежать модификации нужно скопировать список\n",
        "# есть 3 метода: l2=l1[:] - не будет работать с словарями и множествами (так как не являются последовательностями), l2=l1.copy(), l2=list(l1), dict(), set()"
      ],
      "metadata": {
        "colab": {
          "base_uri": "https://localhost:8080/"
        },
        "id": "l7L_YSdbONV0",
        "outputId": "0de327dd-7ade-475b-aef3-1bdbf5ddf0a5"
      },
      "execution_count": null,
      "outputs": [
        {
          "output_type": "execute_result",
          "data": {
            "text/plain": [
              "[100, 2, 3]"
            ]
          },
          "metadata": {},
          "execution_count": 21
        }
      ]
    },
    {
      "cell_type": "code",
      "source": [
        "# Выражения:\n",
        "# 1) Конкатенация s1+s2 \n",
        "# 2) Нарезание (извлечение частей) s[1:3] \n",
        "# 3) Индексация s[1]\n",
        "# Строковые методы:\n",
        "s = 'a1a2a3'\n",
        "print(f\"\"\"{s.find('a2a')}\n",
        "{s.replace('a3','a4')}\n",
        "{s.split('a')}\n",
        "{s.endswith('a3')}\n",
        "      \"\"\")\n",
        "import re\n",
        "re.match('a(.*)2', s)"
      ],
      "metadata": {
        "colab": {
          "base_uri": "https://localhost:8080/"
        },
        "id": "fyCLs_Nxb7wX",
        "outputId": "ef06173b-0820-4226-8c7a-a1c71cc4431d"
      },
      "execution_count": null,
      "outputs": [
        {
          "output_type": "stream",
          "name": "stdout",
          "text": [
            "2\n",
            "a1a2a4\n",
            "['', '1', '2', '3']\n",
            "True\n",
            "      \n"
          ]
        },
        {
          "output_type": "execute_result",
          "data": {
            "text/plain": [
              "<re.Match object; span=(0, 4), match='a1a2'>"
            ]
          },
          "metadata": {},
          "execution_count": 45
        }
      ]
    },
    {
      "cell_type": "markdown",
      "source": [
        "## LIST (список)"
      ],
      "metadata": {
        "id": "i92RViwTFyMc"
      }
    },
    {
      "cell_type": "code",
      "source": [
        "l = ['a','b','c']\n",
        "l.append('d')\n",
        "l.pop(1)\n",
        "l.pop()\n",
        "l\n",
        "# l[len(f)+1]='f'\n"
      ],
      "metadata": {
        "colab": {
          "base_uri": "https://localhost:8080/"
        },
        "id": "2V3zOClHF1RE",
        "outputId": "17ce11ca-e556-43f0-8fb9-33e449ed58c1"
      },
      "execution_count": null,
      "outputs": [
        {
          "output_type": "execute_result",
          "data": {
            "text/plain": [
              "['a', 'c']"
            ]
          },
          "metadata": {},
          "execution_count": 29
        }
      ]
    },
    {
      "cell_type": "code",
      "source": [
        "l = ['a','a','b']\n",
        "[i for i, x in enumerate(l) if x=='a']"
      ],
      "metadata": {
        "colab": {
          "base_uri": "https://localhost:8080/"
        },
        "id": "IRmbGof5MGZr",
        "outputId": "f9175925-f2c2-4660-aae4-edb90cb2beaf"
      },
      "execution_count": null,
      "outputs": [
        {
          "output_type": "execute_result",
          "data": {
            "text/plain": [
              "[0, 1]"
            ]
          },
          "metadata": {},
          "execution_count": 39
        }
      ]
    },
    {
      "cell_type": "code",
      "source": [
        "L = L + [5, 6] # Конкатенация: медленнее\n",
        "L.extend([7, 8]) # Быстрее, но на месте"
      ],
      "metadata": {
        "id": "73aWPJTJZstd"
      },
      "execution_count": null,
      "outputs": []
    },
    {
      "cell_type": "code",
      "source": [
        "L += [9, 10] # Отображается на L. extend ([9, 10]), т.е. выглядит как долгий формат чз +, но внутренне работает как extend\n",
        "\"\"\"Как правило, описанное поведение является желательным, но обратите внимание: отсюда вытекает, что присваивание += представляет собой изменение на месте для списков; \n",
        "таким образом, оно не в точности похоже на конкатенацию +, которая всегда создает новый объект.\"\"\""
      ],
      "metadata": {
        "id": "dwRjQqLpaOhI"
      },
      "execution_count": null,
      "outputs": []
    },
    {
      "cell_type": "code",
      "source": [
        "l=[1,2,3,4,5]\n",
        "l[2:2]=[20,30]\n",
        "l"
      ],
      "metadata": {
        "id": "WMlH1KRtmPVT"
      },
      "execution_count": null,
      "outputs": []
    },
    {
      "cell_type": "markdown",
      "source": [
        "## DICTIONARY (словарь), кортеж (tuple) \n",
        "* Они поддерживают доступ по ключу, а не по смещению\n",
        "* Они являются неупорядоченными коллекциями произвольных объектов\n",
        "\n",
        "Словари являются отобра­ жениями, не последовательностями"
      ],
      "metadata": {
        "id": "32QClf8cBBRh"
      }
    },
    {
      "cell_type": "code",
      "source": [
        "keylist, valuelist = ['age','high','salary'], [10,20,30]\n",
        "d = dict(zip(keylist, valuelist))\n",
        "d['save'] = 2\n",
        "#############################\n",
        "print(f\"\"\"{'age' in d}\n",
        "{d.get('age')}\n",
        "{d.pop('salary')}\n",
        "{list(d.keys())} # keys(), items(), values(), zip() - это иттератор, поэтому приходится применять list\n",
        "\"\"\")\n",
        "del d['high']"
      ],
      "metadata": {
        "colab": {
          "base_uri": "https://localhost:8080/"
        },
        "id": "eMm0hkvHBGub",
        "outputId": "73b61054-bdb0-4958-dd2e-54b82135ff93"
      },
      "execution_count": null,
      "outputs": [
        {
          "output_type": "stream",
          "name": "stdout",
          "text": [
            "True\n",
            "10\n",
            "30\n",
            "['age', 'high', 'save'] #\n",
            "\n"
          ]
        }
      ]
    },
    {
      "cell_type": "code",
      "source": [
        "help(d.popitem)"
      ],
      "metadata": {
        "colab": {
          "base_uri": "https://localhost:8080/"
        },
        "id": "YrcCC1AlCyqp",
        "outputId": "9c24bbf2-2524-4a2a-8360-ed661e048828"
      },
      "execution_count": null,
      "outputs": [
        {
          "output_type": "stream",
          "name": "stdout",
          "text": [
            "Help on built-in function popitem:\n",
            "\n",
            "popitem() method of builtins.dict instance\n",
            "    Remove and return a (key, value) pair as a 2-tuple.\n",
            "    \n",
            "    Pairs are returned in LIFO (last-in, first-out) order.\n",
            "    Raises KeyError if the dict is empty.\n",
            "\n"
          ]
        }
      ]
    },
    {
      "cell_type": "code",
      "source": [
        "l1, l2 = [1,2,3,4], [5,6,7,8]\n",
        "print(f\"\"\"{dict.fromkeys(l1, l2)}\n",
        "{dict(zip(l1, l2))}\n",
        "{dict.fromkeys(l1, 0)}\n",
        "\"\"\")"
      ],
      "metadata": {
        "colab": {
          "base_uri": "https://localhost:8080/"
        },
        "id": "IxIEEtiY6Sqw",
        "outputId": "ccf1713e-3211-4140-9a97-55bf1ee1404e"
      },
      "execution_count": null,
      "outputs": [
        {
          "output_type": "stream",
          "name": "stdout",
          "text": [
            "{1: [5, 6, 7, 8], 2: [5, 6, 7, 8], 3: [5, 6, 7, 8], 4: [5, 6, 7, 8]}\n",
            "{1: 5, 2: 6, 3: 7, 4: 8}\n",
            "{1: 0, 2: 0, 3: 0, 4: 0}\n",
            "\n",
            "\n"
          ]
        }
      ]
    },
    {
      "cell_type": "code",
      "source": [
        "d = dict([('ws', 'sds'), ('ws', 40)])\n",
        "{'df':'sd', 'df':1}\n",
        "{index : val for (index, val) in zip(l1,l2)}"
      ],
      "metadata": {
        "colab": {
          "base_uri": "https://localhost:8080/"
        },
        "id": "YfJj4M0sGsIE",
        "outputId": "59b33c5d-7dc4-49d3-e51c-fd34e8e9c77a"
      },
      "execution_count": null,
      "outputs": [
        {
          "output_type": "execute_result",
          "data": {
            "text/plain": [
              "{1: 5, 2: 6, 3: 7, 4: 8}"
            ]
          },
          "metadata": {},
          "execution_count": 62
        }
      ]
    },
    {
      "cell_type": "code",
      "source": [
        "# кортеж не изменяемый, но внутренний список - да\n",
        "tuple_ = (1, 2, [3,4,5])\n",
        "tuple_[2].append(6)\n",
        "tuple_"
      ],
      "metadata": {
        "id": "1Sk82PLt4G0O",
        "outputId": "2821623b-9a83-4a96-87f0-3ef3cfba8293",
        "colab": {
          "base_uri": "https://localhost:8080/"
        }
      },
      "execution_count": null,
      "outputs": [
        {
          "output_type": "execute_result",
          "data": {
            "text/plain": [
              "(1, 2, [3, 4, 5, 6])"
            ]
          },
          "metadata": {},
          "execution_count": 2
        }
      ]
    },
    {
      "cell_type": "code",
      "source": [
        "t = (1,2,3)\n",
        "t = t[:2]+(4,)\n",
        "t.index(4)\n",
        "(t[0], *t[0:2])"
      ],
      "metadata": {
        "colab": {
          "base_uri": "https://localhost:8080/"
        },
        "id": "mcVGflCKxrH7",
        "outputId": "0de7cfbb-5a30-44ce-b9fb-c046b32ec0fa"
      },
      "execution_count": null,
      "outputs": [
        {
          "output_type": "execute_result",
          "data": {
            "text/plain": [
              "(1, 1, 2)"
            ]
          },
          "metadata": {},
          "execution_count": 17
        }
      ]
    },
    {
      "cell_type": "code",
      "source": [
        "a, b = 1, 2\n",
        "print(a, b)"
      ],
      "metadata": {
        "id": "31vd2Ufe07Br",
        "outputId": "866aa8fd-07bc-4407-d901-f940f9b1bed6",
        "colab": {
          "base_uri": "https://localhost:8080/",
          "height": 133
        }
      },
      "execution_count": null,
      "outputs": [
        {
          "output_type": "error",
          "ename": "SyntaxError",
          "evalue": "ignored",
          "traceback": [
            "\u001b[0;36m  File \u001b[0;32m\"<ipython-input-23-d8473f1f5376>\"\u001b[0;36m, line \u001b[0;32m2\u001b[0m\n\u001b[0;31m    print(a, /n ,b)\u001b[0m\n\u001b[0m             ^\u001b[0m\n\u001b[0;31mSyntaxError\u001b[0m\u001b[0;31m:\u001b[0m invalid syntax\n"
          ]
        }
      ]
    },
    {
      "cell_type": "markdown",
      "source": [
        "### Множества {1,2,3} (set) и Логические выражения\n",
        "Представления (dict.items()) элементов тоже подобны множествам, если они хешируемы, т.е.\n",
        "если содержат только неизменяемые объекты (т.е. можно применять логические выражения): "
      ],
      "metadata": {
        "id": "lsGboZnkWjVZ"
      }
    },
    {
      "cell_type": "code",
      "source": [
        "{'a','b','c','b','a'}"
      ],
      "metadata": {
        "colab": {
          "base_uri": "https://localhost:8080/"
        },
        "id": "G0Q3UMZkXP-V",
        "outputId": "b0eadf04-b112-4d58-e2c7-c79cf00fec8c"
      },
      "execution_count": null,
      "outputs": [
        {
          "output_type": "execute_result",
          "data": {
            "text/plain": [
              "{'a', 'b', 'c'}"
            ]
          },
          "metadata": {},
          "execution_count": 12
        }
      ]
    },
    {
      "cell_type": "code",
      "source": [
        "dict([('ws', 'sds'), ('ws', 40)]).keys() # множество - словарь без значений (только ключи)"
      ],
      "metadata": {
        "colab": {
          "base_uri": "https://localhost:8080/"
        },
        "id": "EvMFm9zTWpdo",
        "outputId": "8c276a67-d15b-46ce-da1b-2d1995a4a891"
      },
      "execution_count": null,
      "outputs": [
        {
          "output_type": "execute_result",
          "data": {
            "text/plain": [
              "dict_keys(['ws'])"
            ]
          },
          "metadata": {},
          "execution_count": 72
        }
      ]
    },
    {
      "cell_type": "code",
      "source": [
        "set_ = {1,1,1} # у множества должны быть уникальные ключи\n",
        "set_.add(2)\n",
        "set_"
      ],
      "metadata": {
        "id": "vNPh7g6qWr51"
      },
      "execution_count": null,
      "outputs": []
    },
    {
      "cell_type": "code",
      "source": [
        "## Логические выражения\n",
        "print(f\"\"\"{ {'1','2','3'} | {'5', '6', '7'} }\n",
        "{ {'1','2','3'} & {'3', '2', '1'} }\n",
        "\"\"\")"
      ],
      "metadata": {
        "colab": {
          "base_uri": "https://localhost:8080/"
        },
        "id": "5erqzu4UWzeD",
        "outputId": "56b41d23-879a-4559-ba93-3d12b0792263"
      },
      "execution_count": null,
      "outputs": [
        {
          "output_type": "stream",
          "name": "stdout",
          "text": [
            "{'3', '1', '6', '2', '5', '7'}\n",
            "{'2', '3', '1'}\n",
            "\n"
          ]
        }
      ]
    },
    {
      "cell_type": "code",
      "source": [
        "d = {'a':1, 'b':2}\n",
        "set_ = {'a', 'b', 'c'}\n",
        "d.items() | set_"
      ],
      "metadata": {
        "colab": {
          "base_uri": "https://localhost:8080/"
        },
        "id": "01PhBKD_YpuO",
        "outputId": "41ada41a-75f1-4ec9-805d-c0c0c2180ccc"
      },
      "execution_count": null,
      "outputs": [
        {
          "output_type": "execute_result",
          "data": {
            "text/plain": [
              "{('a', 1), ('b', 2), 'a', 'b', 'c'}"
            ]
          },
          "metadata": {},
          "execution_count": 96
        }
      ]
    },
    {
      "cell_type": "code",
      "source": [
        "dict(d.items() | {('c',3), ('d',4)})"
      ],
      "metadata": {
        "colab": {
          "base_uri": "https://localhost:8080/"
        },
        "id": "ebWC8aieZO9G",
        "outputId": "c2836f51-26c1-46a3-996b-9da0b43e39c0"
      },
      "execution_count": null,
      "outputs": [
        {
          "output_type": "execute_result",
          "data": {
            "text/plain": [
              "{'b': 2, 'c': 3, 'a': 1, 'd': 4}"
            ]
          },
          "metadata": {},
          "execution_count": 102
        }
      ]
    },
    {
      "cell_type": "code",
      "source": [
        "for i, k in enumerate(sorted(d)):\n",
        "  print(i,k)"
      ],
      "metadata": {
        "colab": {
          "base_uri": "https://localhost:8080/"
        },
        "id": "9o7J6RqfaokB",
        "outputId": "36152b66-5d22-4604-f62c-094e05f3a671"
      },
      "execution_count": null,
      "outputs": [
        {
          "output_type": "stream",
          "name": "stdout",
          "text": [
            "0 a\n",
            "1 b\n"
          ]
        }
      ]
    },
    {
      "cell_type": "code",
      "source": [
        "for i, k in d.items():\n",
        "  print(i,k)"
      ],
      "metadata": {
        "colab": {
          "base_uri": "https://localhost:8080/"
        },
        "id": "ScAfP93Xby_0",
        "outputId": "252da2e9-7585-4cd8-d199-93ef05a3c6b2"
      },
      "execution_count": null,
      "outputs": [
        {
          "output_type": "stream",
          "name": "stdout",
          "text": [
            "a 1\n",
            "b 2\n"
          ]
        }
      ]
    },
    {
      "cell_type": "code",
      "source": [
        "d.get('a')"
      ],
      "metadata": {
        "colab": {
          "base_uri": "https://localhost:8080/",
          "height": 169
        },
        "id": "nkiQVhQDcLRv",
        "outputId": "bc7b190e-e100-45ac-ef5a-8438f129e9a9"
      },
      "execution_count": null,
      "outputs": [
        {
          "output_type": "error",
          "ename": "NameError",
          "evalue": "ignored",
          "traceback": [
            "\u001b[0;31m---------------------------------------------------------------------------\u001b[0m",
            "\u001b[0;31mNameError\u001b[0m                                 Traceback (most recent call last)",
            "\u001b[0;32m<ipython-input-1-2c0c2d9f50e9>\u001b[0m in \u001b[0;36m<cell line: 1>\u001b[0;34m()\u001b[0m\n\u001b[0;32m----> 1\u001b[0;31m \u001b[0md\u001b[0m\u001b[0;34m.\u001b[0m\u001b[0mget\u001b[0m\u001b[0;34m(\u001b[0m\u001b[0;34m'a'\u001b[0m\u001b[0;34m)\u001b[0m\u001b[0;34m\u001b[0m\u001b[0;34m\u001b[0m\u001b[0m\n\u001b[0m",
            "\u001b[0;31mNameError\u001b[0m: name 'd' is not defined"
          ]
        }
      ]
    },
    {
      "cell_type": "markdown",
      "source": [
        "# Опреаторы и синтаксис\n",
        "(присваивания, выражений и вывода)\n",
        "## Операторы выражений\n",
        "Результат выражения не сохраняется, поступать так имеет смысл, толь­ ко когда выражение делает что-то полезное в виде побочного эффекта. Выражения используются как операторы обычно в:\n",
        "* 1) Для вызова функций `spam(eggs, ham)`, процедур \n",
        "* 2) Вызов метода `spam.ham(eggs)`\n",
        "* 3) `spam` вывод переменных в интерактивном интерпретаторе\n",
        "* 4) `print(a, b, c, sep='')` вывод результатов операций \n",
        "* 5) `yield x ** 2` выдача значений в операторах выражений "
      ],
      "metadata": {
        "id": "wJJ1I3j_Rx1r"
      }
    },
    {
      "cell_type": "markdown",
      "source": [
        "# Итераторы и генераторы\n",
        "`range`, `zip`, `map`, `items` - итерируемые объекты, а вот `dataloader` -  иттератор, `items` - генератор\n",
        "\n",
        " цикл for может работать с любым типом последовательности в Python, включая списки, кортежи и строки. Итераторы работают внутри Python со скоростью скомпилированного кода С, а версия с циклом while запускает байт-код Python че­ рез виртуальную машину Python"
      ],
      "metadata": {
        "id": "Ij3K0_jRsvxY"
      }
    },
    {
      "cell_type": "code",
      "source": [
        "r = range(10) # итерируемый объект # The range object is iterable. However, it's not an iterator.\n",
        "r_ = iter(range(10)) # итератор, Получение объекта итератора из итерируемого объекта\n",
        "next(r_) # Продвижение на следующий результат\n",
        "print(next(iter(r)), next(iter(r)), next(r_), next(r_))"
      ],
      "metadata": {
        "colab": {
          "base_uri": "https://localhost:8080/"
        },
        "id": "iHGlAZgL3PoK",
        "outputId": "a617abc2-fdec-4657-cecc-107e2eac2901"
      },
      "execution_count": null,
      "outputs": [
        {
          "output_type": "stream",
          "name": "stdout",
          "text": [
            "0 0 0 1\n"
          ]
        }
      ]
    },
    {
      "cell_type": "code",
      "source": [
        "k, v = ['a', 'b', 'c'], [1,2,3]\n",
        "d = dict(zip(k, v))\n",
        "d.items()"
      ],
      "metadata": {
        "colab": {
          "base_uri": "https://localhost:8080/"
        },
        "id": "ToLoUFkB7W0d",
        "outputId": "33b8e13b-9a76-428b-98b5-16d09a83e80b"
      },
      "execution_count": null,
      "outputs": [
        {
          "output_type": "execute_result",
          "data": {
            "text/plain": [
              "dict_items([('a', 1), ('b', 2), ('c', 3)])"
            ]
          },
          "metadata": {},
          "execution_count": 10
        }
      ]
    },
    {
      "cell_type": "code",
      "source": [
        "next(iter(d.items()))"
      ],
      "metadata": {
        "colab": {
          "base_uri": "https://localhost:8080/"
        },
        "id": "Js-FKAeX7qgn",
        "outputId": "c689aaed-c041-4c49-d818-0e473c06b8f6"
      },
      "execution_count": null,
      "outputs": [
        {
          "output_type": "execute_result",
          "data": {
            "text/plain": [
              "('a', 1)"
            ]
          },
          "metadata": {},
          "execution_count": 12
        }
      ]
    },
    {
      "cell_type": "code",
      "source": [
        "# встроенная функция range - возвращает итерируемый объект, который генерирует числа в диапазоне по запросу вместо \n",
        "# построения результирующего списка в памяти, range допускает множество итераторов (итератор с множеством проходов), \n",
        "# а zip, map, filter - нет (c одним проходом)\n",
        "r, z = range(10), zip([1,2,3],[4,5,6])\n",
        "r_1, z_1 = iter(r), iter(z)\n",
        "r_2, z_2 = iter(r), iter(z)\n",
        "print(next(r_1), next(r_2), next(z_1), next(z_2))"
      ],
      "metadata": {
        "colab": {
          "base_uri": "https://localhost:8080/"
        },
        "id": "kmsKaMFj0Ic8",
        "outputId": "cd464377-4c27-4642-d931-78f186bf7c4b"
      },
      "execution_count": null,
      "outputs": [
        {
          "output_type": "stream",
          "name": "stdout",
          "text": [
            "0 0 (1, 4) (2, 5)\n"
          ]
        }
      ]
    },
    {
      "cell_type": "markdown",
      "source": [
        "# DataFrame"
      ],
      "metadata": {
        "id": "QtqUKOb7Snmd"
      }
    },
    {
      "cell_type": "code",
      "source": [
        "# import datetime\n",
        "# x = datetime.datetime(2020, 5, 17)\n",
        "df = pd.DataFrame([[1,'a',3,pd.Timestamp(year=2023,month=1,day=1)],\n",
        "                   [4,'B',5,pd.Timestamp(year=2023,month=2,day=1)],\n",
        "                   [6,'c',7,pd.Timestamp.now()]],\n",
        "                  columns=['int1','str1','int2','date'])"
      ],
      "metadata": {
        "id": "a-XhlzH5T_hl"
      },
      "execution_count": null,
      "outputs": []
    },
    {
      "cell_type": "code",
      "source": [
        "df.info()"
      ],
      "metadata": {
        "colab": {
          "base_uri": "https://localhost:8080/"
        },
        "id": "8aXWzx4ESp-P",
        "outputId": "3656ecb3-08cb-434b-d83d-2d3195962a45"
      },
      "execution_count": null,
      "outputs": [
        {
          "output_type": "stream",
          "name": "stdout",
          "text": [
            "<class 'pandas.core.frame.DataFrame'>\n",
            "RangeIndex: 3 entries, 0 to 2\n",
            "Data columns (total 4 columns):\n",
            " #   Column  Non-Null Count  Dtype         \n",
            "---  ------  --------------  -----         \n",
            " 0   int1    3 non-null      int64         \n",
            " 1   str1    3 non-null      object        \n",
            " 2   int2    3 non-null      int64         \n",
            " 3   date    3 non-null      datetime64[ns]\n",
            "dtypes: datetime64[ns](1), int64(2), object(1)\n",
            "memory usage: 224.0+ bytes\n"
          ]
        }
      ]
    },
    {
      "cell_type": "code",
      "source": [
        "df['str1'].str.lower()"
      ],
      "metadata": {
        "colab": {
          "base_uri": "https://localhost:8080/"
        },
        "id": "CbkKoCWQUiGU",
        "outputId": "36134582-77c9-474f-ed8d-b44b77fb85a7"
      },
      "execution_count": null,
      "outputs": [
        {
          "output_type": "execute_result",
          "data": {
            "text/plain": [
              "0    a\n",
              "1    b\n",
              "2    c\n",
              "Name: str1, dtype: object"
            ]
          },
          "metadata": {},
          "execution_count": 24
        }
      ]
    },
    {
      "cell_type": "code",
      "source": [
        "df.rename(columns={'int1':'float1'})"
      ],
      "metadata": {
        "colab": {
          "base_uri": "https://localhost:8080/",
          "height": 143
        },
        "id": "eGCbU8LwUt8L",
        "outputId": "47127eec-f1e4-40f0-b7b9-a350802f9ede"
      },
      "execution_count": null,
      "outputs": [
        {
          "output_type": "execute_result",
          "data": {
            "text/plain": [
              "   float1 str1  int2                       date\n",
              "0       1    a     3 2023-01-01 00:00:00.000000\n",
              "1       4    B     5 2023-02-01 00:00:00.000000\n",
              "2       6    c     7 2023-03-16 07:38:13.945314"
            ],
            "text/html": [
              "\n",
              "  <div id=\"df-454f38cd-eeeb-43b2-9cd6-8317726dbc32\">\n",
              "    <div class=\"colab-df-container\">\n",
              "      <div>\n",
              "<style scoped>\n",
              "    .dataframe tbody tr th:only-of-type {\n",
              "        vertical-align: middle;\n",
              "    }\n",
              "\n",
              "    .dataframe tbody tr th {\n",
              "        vertical-align: top;\n",
              "    }\n",
              "\n",
              "    .dataframe thead th {\n",
              "        text-align: right;\n",
              "    }\n",
              "</style>\n",
              "<table border=\"1\" class=\"dataframe\">\n",
              "  <thead>\n",
              "    <tr style=\"text-align: right;\">\n",
              "      <th></th>\n",
              "      <th>float1</th>\n",
              "      <th>str1</th>\n",
              "      <th>int2</th>\n",
              "      <th>date</th>\n",
              "    </tr>\n",
              "  </thead>\n",
              "  <tbody>\n",
              "    <tr>\n",
              "      <th>0</th>\n",
              "      <td>1</td>\n",
              "      <td>a</td>\n",
              "      <td>3</td>\n",
              "      <td>2023-01-01 00:00:00.000000</td>\n",
              "    </tr>\n",
              "    <tr>\n",
              "      <th>1</th>\n",
              "      <td>4</td>\n",
              "      <td>B</td>\n",
              "      <td>5</td>\n",
              "      <td>2023-02-01 00:00:00.000000</td>\n",
              "    </tr>\n",
              "    <tr>\n",
              "      <th>2</th>\n",
              "      <td>6</td>\n",
              "      <td>c</td>\n",
              "      <td>7</td>\n",
              "      <td>2023-03-16 07:38:13.945314</td>\n",
              "    </tr>\n",
              "  </tbody>\n",
              "</table>\n",
              "</div>\n",
              "      <button class=\"colab-df-convert\" onclick=\"convertToInteractive('df-454f38cd-eeeb-43b2-9cd6-8317726dbc32')\"\n",
              "              title=\"Convert this dataframe to an interactive table.\"\n",
              "              style=\"display:none;\">\n",
              "        \n",
              "  <svg xmlns=\"http://www.w3.org/2000/svg\" height=\"24px\"viewBox=\"0 0 24 24\"\n",
              "       width=\"24px\">\n",
              "    <path d=\"M0 0h24v24H0V0z\" fill=\"none\"/>\n",
              "    <path d=\"M18.56 5.44l.94 2.06.94-2.06 2.06-.94-2.06-.94-.94-2.06-.94 2.06-2.06.94zm-11 1L8.5 8.5l.94-2.06 2.06-.94-2.06-.94L8.5 2.5l-.94 2.06-2.06.94zm10 10l.94 2.06.94-2.06 2.06-.94-2.06-.94-.94-2.06-.94 2.06-2.06.94z\"/><path d=\"M17.41 7.96l-1.37-1.37c-.4-.4-.92-.59-1.43-.59-.52 0-1.04.2-1.43.59L10.3 9.45l-7.72 7.72c-.78.78-.78 2.05 0 2.83L4 21.41c.39.39.9.59 1.41.59.51 0 1.02-.2 1.41-.59l7.78-7.78 2.81-2.81c.8-.78.8-2.07 0-2.86zM5.41 20L4 18.59l7.72-7.72 1.47 1.35L5.41 20z\"/>\n",
              "  </svg>\n",
              "      </button>\n",
              "      \n",
              "  <style>\n",
              "    .colab-df-container {\n",
              "      display:flex;\n",
              "      flex-wrap:wrap;\n",
              "      gap: 12px;\n",
              "    }\n",
              "\n",
              "    .colab-df-convert {\n",
              "      background-color: #E8F0FE;\n",
              "      border: none;\n",
              "      border-radius: 50%;\n",
              "      cursor: pointer;\n",
              "      display: none;\n",
              "      fill: #1967D2;\n",
              "      height: 32px;\n",
              "      padding: 0 0 0 0;\n",
              "      width: 32px;\n",
              "    }\n",
              "\n",
              "    .colab-df-convert:hover {\n",
              "      background-color: #E2EBFA;\n",
              "      box-shadow: 0px 1px 2px rgba(60, 64, 67, 0.3), 0px 1px 3px 1px rgba(60, 64, 67, 0.15);\n",
              "      fill: #174EA6;\n",
              "    }\n",
              "\n",
              "    [theme=dark] .colab-df-convert {\n",
              "      background-color: #3B4455;\n",
              "      fill: #D2E3FC;\n",
              "    }\n",
              "\n",
              "    [theme=dark] .colab-df-convert:hover {\n",
              "      background-color: #434B5C;\n",
              "      box-shadow: 0px 1px 3px 1px rgba(0, 0, 0, 0.15);\n",
              "      filter: drop-shadow(0px 1px 2px rgba(0, 0, 0, 0.3));\n",
              "      fill: #FFFFFF;\n",
              "    }\n",
              "  </style>\n",
              "\n",
              "      <script>\n",
              "        const buttonEl =\n",
              "          document.querySelector('#df-454f38cd-eeeb-43b2-9cd6-8317726dbc32 button.colab-df-convert');\n",
              "        buttonEl.style.display =\n",
              "          google.colab.kernel.accessAllowed ? 'block' : 'none';\n",
              "\n",
              "        async function convertToInteractive(key) {\n",
              "          const element = document.querySelector('#df-454f38cd-eeeb-43b2-9cd6-8317726dbc32');\n",
              "          const dataTable =\n",
              "            await google.colab.kernel.invokeFunction('convertToInteractive',\n",
              "                                                     [key], {});\n",
              "          if (!dataTable) return;\n",
              "\n",
              "          const docLinkHtml = 'Like what you see? Visit the ' +\n",
              "            '<a target=\"_blank\" href=https://colab.research.google.com/notebooks/data_table.ipynb>data table notebook</a>'\n",
              "            + ' to learn more about interactive tables.';\n",
              "          element.innerHTML = '';\n",
              "          dataTable['output_type'] = 'display_data';\n",
              "          await google.colab.output.renderOutput(dataTable, element);\n",
              "          const docLink = document.createElement('div');\n",
              "          docLink.innerHTML = docLinkHtml;\n",
              "          element.appendChild(docLink);\n",
              "        }\n",
              "      </script>\n",
              "    </div>\n",
              "  </div>\n",
              "  "
            ]
          },
          "metadata": {},
          "execution_count": 25
        }
      ]
    },
    {
      "cell_type": "code",
      "source": [
        "df.describe()"
      ],
      "metadata": {
        "colab": {
          "base_uri": "https://localhost:8080/",
          "height": 300
        },
        "id": "pR_OV9BCVQUC",
        "outputId": "eb69dd4f-6a8c-4dae-eb27-0839c2221753"
      },
      "execution_count": null,
      "outputs": [
        {
          "output_type": "execute_result",
          "data": {
            "text/plain": [
              "           int1  int2\n",
              "count  3.000000   3.0\n",
              "mean   3.666667   5.0\n",
              "std    2.516611   2.0\n",
              "min    1.000000   3.0\n",
              "25%    2.500000   4.0\n",
              "50%    4.000000   5.0\n",
              "75%    5.000000   6.0\n",
              "max    6.000000   7.0"
            ],
            "text/html": [
              "\n",
              "  <div id=\"df-e378e5b2-0802-4595-a30d-340d8f477c0a\">\n",
              "    <div class=\"colab-df-container\">\n",
              "      <div>\n",
              "<style scoped>\n",
              "    .dataframe tbody tr th:only-of-type {\n",
              "        vertical-align: middle;\n",
              "    }\n",
              "\n",
              "    .dataframe tbody tr th {\n",
              "        vertical-align: top;\n",
              "    }\n",
              "\n",
              "    .dataframe thead th {\n",
              "        text-align: right;\n",
              "    }\n",
              "</style>\n",
              "<table border=\"1\" class=\"dataframe\">\n",
              "  <thead>\n",
              "    <tr style=\"text-align: right;\">\n",
              "      <th></th>\n",
              "      <th>int1</th>\n",
              "      <th>int2</th>\n",
              "    </tr>\n",
              "  </thead>\n",
              "  <tbody>\n",
              "    <tr>\n",
              "      <th>count</th>\n",
              "      <td>3.000000</td>\n",
              "      <td>3.0</td>\n",
              "    </tr>\n",
              "    <tr>\n",
              "      <th>mean</th>\n",
              "      <td>3.666667</td>\n",
              "      <td>5.0</td>\n",
              "    </tr>\n",
              "    <tr>\n",
              "      <th>std</th>\n",
              "      <td>2.516611</td>\n",
              "      <td>2.0</td>\n",
              "    </tr>\n",
              "    <tr>\n",
              "      <th>min</th>\n",
              "      <td>1.000000</td>\n",
              "      <td>3.0</td>\n",
              "    </tr>\n",
              "    <tr>\n",
              "      <th>25%</th>\n",
              "      <td>2.500000</td>\n",
              "      <td>4.0</td>\n",
              "    </tr>\n",
              "    <tr>\n",
              "      <th>50%</th>\n",
              "      <td>4.000000</td>\n",
              "      <td>5.0</td>\n",
              "    </tr>\n",
              "    <tr>\n",
              "      <th>75%</th>\n",
              "      <td>5.000000</td>\n",
              "      <td>6.0</td>\n",
              "    </tr>\n",
              "    <tr>\n",
              "      <th>max</th>\n",
              "      <td>6.000000</td>\n",
              "      <td>7.0</td>\n",
              "    </tr>\n",
              "  </tbody>\n",
              "</table>\n",
              "</div>\n",
              "      <button class=\"colab-df-convert\" onclick=\"convertToInteractive('df-e378e5b2-0802-4595-a30d-340d8f477c0a')\"\n",
              "              title=\"Convert this dataframe to an interactive table.\"\n",
              "              style=\"display:none;\">\n",
              "        \n",
              "  <svg xmlns=\"http://www.w3.org/2000/svg\" height=\"24px\"viewBox=\"0 0 24 24\"\n",
              "       width=\"24px\">\n",
              "    <path d=\"M0 0h24v24H0V0z\" fill=\"none\"/>\n",
              "    <path d=\"M18.56 5.44l.94 2.06.94-2.06 2.06-.94-2.06-.94-.94-2.06-.94 2.06-2.06.94zm-11 1L8.5 8.5l.94-2.06 2.06-.94-2.06-.94L8.5 2.5l-.94 2.06-2.06.94zm10 10l.94 2.06.94-2.06 2.06-.94-2.06-.94-.94-2.06-.94 2.06-2.06.94z\"/><path d=\"M17.41 7.96l-1.37-1.37c-.4-.4-.92-.59-1.43-.59-.52 0-1.04.2-1.43.59L10.3 9.45l-7.72 7.72c-.78.78-.78 2.05 0 2.83L4 21.41c.39.39.9.59 1.41.59.51 0 1.02-.2 1.41-.59l7.78-7.78 2.81-2.81c.8-.78.8-2.07 0-2.86zM5.41 20L4 18.59l7.72-7.72 1.47 1.35L5.41 20z\"/>\n",
              "  </svg>\n",
              "      </button>\n",
              "      \n",
              "  <style>\n",
              "    .colab-df-container {\n",
              "      display:flex;\n",
              "      flex-wrap:wrap;\n",
              "      gap: 12px;\n",
              "    }\n",
              "\n",
              "    .colab-df-convert {\n",
              "      background-color: #E8F0FE;\n",
              "      border: none;\n",
              "      border-radius: 50%;\n",
              "      cursor: pointer;\n",
              "      display: none;\n",
              "      fill: #1967D2;\n",
              "      height: 32px;\n",
              "      padding: 0 0 0 0;\n",
              "      width: 32px;\n",
              "    }\n",
              "\n",
              "    .colab-df-convert:hover {\n",
              "      background-color: #E2EBFA;\n",
              "      box-shadow: 0px 1px 2px rgba(60, 64, 67, 0.3), 0px 1px 3px 1px rgba(60, 64, 67, 0.15);\n",
              "      fill: #174EA6;\n",
              "    }\n",
              "\n",
              "    [theme=dark] .colab-df-convert {\n",
              "      background-color: #3B4455;\n",
              "      fill: #D2E3FC;\n",
              "    }\n",
              "\n",
              "    [theme=dark] .colab-df-convert:hover {\n",
              "      background-color: #434B5C;\n",
              "      box-shadow: 0px 1px 3px 1px rgba(0, 0, 0, 0.15);\n",
              "      filter: drop-shadow(0px 1px 2px rgba(0, 0, 0, 0.3));\n",
              "      fill: #FFFFFF;\n",
              "    }\n",
              "  </style>\n",
              "\n",
              "      <script>\n",
              "        const buttonEl =\n",
              "          document.querySelector('#df-e378e5b2-0802-4595-a30d-340d8f477c0a button.colab-df-convert');\n",
              "        buttonEl.style.display =\n",
              "          google.colab.kernel.accessAllowed ? 'block' : 'none';\n",
              "\n",
              "        async function convertToInteractive(key) {\n",
              "          const element = document.querySelector('#df-e378e5b2-0802-4595-a30d-340d8f477c0a');\n",
              "          const dataTable =\n",
              "            await google.colab.kernel.invokeFunction('convertToInteractive',\n",
              "                                                     [key], {});\n",
              "          if (!dataTable) return;\n",
              "\n",
              "          const docLinkHtml = 'Like what you see? Visit the ' +\n",
              "            '<a target=\"_blank\" href=https://colab.research.google.com/notebooks/data_table.ipynb>data table notebook</a>'\n",
              "            + ' to learn more about interactive tables.';\n",
              "          element.innerHTML = '';\n",
              "          dataTable['output_type'] = 'display_data';\n",
              "          await google.colab.output.renderOutput(dataTable, element);\n",
              "          const docLink = document.createElement('div');\n",
              "          docLink.innerHTML = docLinkHtml;\n",
              "          element.appendChild(docLink);\n",
              "        }\n",
              "      </script>\n",
              "    </div>\n",
              "  </div>\n",
              "  "
            ]
          },
          "metadata": {},
          "execution_count": 26
        }
      ]
    },
    {
      "cell_type": "code",
      "source": [
        "mask1 = df.int1 == 1\n",
        "mask2 = df.int2 == 3\n",
        "df[mask1 & mask2]"
      ],
      "metadata": {
        "colab": {
          "base_uri": "https://localhost:8080/",
          "height": 81
        },
        "id": "hR_15WaIXNdX",
        "outputId": "6ee04b87-a7d9-4c11-ce68-4162b3219719"
      },
      "execution_count": null,
      "outputs": [
        {
          "output_type": "execute_result",
          "data": {
            "text/plain": [
              "   int1 str1  int2       date\n",
              "0     1    a     3 2023-01-01"
            ],
            "text/html": [
              "\n",
              "  <div id=\"df-825b0713-e461-4d04-abc4-8a9a6f10f2a9\">\n",
              "    <div class=\"colab-df-container\">\n",
              "      <div>\n",
              "<style scoped>\n",
              "    .dataframe tbody tr th:only-of-type {\n",
              "        vertical-align: middle;\n",
              "    }\n",
              "\n",
              "    .dataframe tbody tr th {\n",
              "        vertical-align: top;\n",
              "    }\n",
              "\n",
              "    .dataframe thead th {\n",
              "        text-align: right;\n",
              "    }\n",
              "</style>\n",
              "<table border=\"1\" class=\"dataframe\">\n",
              "  <thead>\n",
              "    <tr style=\"text-align: right;\">\n",
              "      <th></th>\n",
              "      <th>int1</th>\n",
              "      <th>str1</th>\n",
              "      <th>int2</th>\n",
              "      <th>date</th>\n",
              "    </tr>\n",
              "  </thead>\n",
              "  <tbody>\n",
              "    <tr>\n",
              "      <th>0</th>\n",
              "      <td>1</td>\n",
              "      <td>a</td>\n",
              "      <td>3</td>\n",
              "      <td>2023-01-01</td>\n",
              "    </tr>\n",
              "  </tbody>\n",
              "</table>\n",
              "</div>\n",
              "      <button class=\"colab-df-convert\" onclick=\"convertToInteractive('df-825b0713-e461-4d04-abc4-8a9a6f10f2a9')\"\n",
              "              title=\"Convert this dataframe to an interactive table.\"\n",
              "              style=\"display:none;\">\n",
              "        \n",
              "  <svg xmlns=\"http://www.w3.org/2000/svg\" height=\"24px\"viewBox=\"0 0 24 24\"\n",
              "       width=\"24px\">\n",
              "    <path d=\"M0 0h24v24H0V0z\" fill=\"none\"/>\n",
              "    <path d=\"M18.56 5.44l.94 2.06.94-2.06 2.06-.94-2.06-.94-.94-2.06-.94 2.06-2.06.94zm-11 1L8.5 8.5l.94-2.06 2.06-.94-2.06-.94L8.5 2.5l-.94 2.06-2.06.94zm10 10l.94 2.06.94-2.06 2.06-.94-2.06-.94-.94-2.06-.94 2.06-2.06.94z\"/><path d=\"M17.41 7.96l-1.37-1.37c-.4-.4-.92-.59-1.43-.59-.52 0-1.04.2-1.43.59L10.3 9.45l-7.72 7.72c-.78.78-.78 2.05 0 2.83L4 21.41c.39.39.9.59 1.41.59.51 0 1.02-.2 1.41-.59l7.78-7.78 2.81-2.81c.8-.78.8-2.07 0-2.86zM5.41 20L4 18.59l7.72-7.72 1.47 1.35L5.41 20z\"/>\n",
              "  </svg>\n",
              "      </button>\n",
              "      \n",
              "  <style>\n",
              "    .colab-df-container {\n",
              "      display:flex;\n",
              "      flex-wrap:wrap;\n",
              "      gap: 12px;\n",
              "    }\n",
              "\n",
              "    .colab-df-convert {\n",
              "      background-color: #E8F0FE;\n",
              "      border: none;\n",
              "      border-radius: 50%;\n",
              "      cursor: pointer;\n",
              "      display: none;\n",
              "      fill: #1967D2;\n",
              "      height: 32px;\n",
              "      padding: 0 0 0 0;\n",
              "      width: 32px;\n",
              "    }\n",
              "\n",
              "    .colab-df-convert:hover {\n",
              "      background-color: #E2EBFA;\n",
              "      box-shadow: 0px 1px 2px rgba(60, 64, 67, 0.3), 0px 1px 3px 1px rgba(60, 64, 67, 0.15);\n",
              "      fill: #174EA6;\n",
              "    }\n",
              "\n",
              "    [theme=dark] .colab-df-convert {\n",
              "      background-color: #3B4455;\n",
              "      fill: #D2E3FC;\n",
              "    }\n",
              "\n",
              "    [theme=dark] .colab-df-convert:hover {\n",
              "      background-color: #434B5C;\n",
              "      box-shadow: 0px 1px 3px 1px rgba(0, 0, 0, 0.15);\n",
              "      filter: drop-shadow(0px 1px 2px rgba(0, 0, 0, 0.3));\n",
              "      fill: #FFFFFF;\n",
              "    }\n",
              "  </style>\n",
              "\n",
              "      <script>\n",
              "        const buttonEl =\n",
              "          document.querySelector('#df-825b0713-e461-4d04-abc4-8a9a6f10f2a9 button.colab-df-convert');\n",
              "        buttonEl.style.display =\n",
              "          google.colab.kernel.accessAllowed ? 'block' : 'none';\n",
              "\n",
              "        async function convertToInteractive(key) {\n",
              "          const element = document.querySelector('#df-825b0713-e461-4d04-abc4-8a9a6f10f2a9');\n",
              "          const dataTable =\n",
              "            await google.colab.kernel.invokeFunction('convertToInteractive',\n",
              "                                                     [key], {});\n",
              "          if (!dataTable) return;\n",
              "\n",
              "          const docLinkHtml = 'Like what you see? Visit the ' +\n",
              "            '<a target=\"_blank\" href=https://colab.research.google.com/notebooks/data_table.ipynb>data table notebook</a>'\n",
              "            + ' to learn more about interactive tables.';\n",
              "          element.innerHTML = '';\n",
              "          dataTable['output_type'] = 'display_data';\n",
              "          await google.colab.output.renderOutput(dataTable, element);\n",
              "          const docLink = document.createElement('div');\n",
              "          docLink.innerHTML = docLinkHtml;\n",
              "          element.appendChild(docLink);\n",
              "        }\n",
              "      </script>\n",
              "    </div>\n",
              "  </div>\n",
              "  "
            ]
          },
          "metadata": {},
          "execution_count": 34
        }
      ]
    },
    {
      "cell_type": "code",
      "source": [
        "df.date.dt.year"
      ],
      "metadata": {
        "colab": {
          "base_uri": "https://localhost:8080/"
        },
        "id": "nnv5s-dMYMjM",
        "outputId": "d861ec25-0918-49a7-cdfc-155a725e3a4d"
      },
      "execution_count": null,
      "outputs": [
        {
          "output_type": "execute_result",
          "data": {
            "text/plain": [
              "0    2023\n",
              "1    2023\n",
              "2    2023\n",
              "Name: date, dtype: int64"
            ]
          },
          "metadata": {},
          "execution_count": 29
        }
      ]
    },
    {
      "cell_type": "code",
      "source": [
        "print(f'''{df.int1.unique()} \n",
        "{df.int1.nunique()}''')"
      ],
      "metadata": {
        "colab": {
          "base_uri": "https://localhost:8080/"
        },
        "id": "od1RRAZVY-OO",
        "outputId": "9922fd61-d042-48d3-91f8-9c3b826764cf"
      },
      "execution_count": null,
      "outputs": [
        {
          "output_type": "stream",
          "name": "stdout",
          "text": [
            "[1 4 6]\n",
            "3\n"
          ]
        }
      ]
    },
    {
      "cell_type": "code",
      "source": [
        "datetime.today().strftime('%Y_%m_%d')"
      ],
      "metadata": {
        "colab": {
          "base_uri": "https://localhost:8080/",
          "height": 35
        },
        "id": "549JR5fmoLjv",
        "outputId": "56a09276-8e55-4450-cd8e-95dbddfa11a5"
      },
      "execution_count": null,
      "outputs": [
        {
          "output_type": "execute_result",
          "data": {
            "text/plain": [
              "'2023_03_16'"
            ],
            "application/vnd.google.colaboratory.intrinsic+json": {
              "type": "string"
            }
          },
          "metadata": {},
          "execution_count": 50
        }
      ]
    },
    {
      "cell_type": "markdown",
      "source": [
        "# Task of gradient descent for linear regression\n",
        "## ONE dimentional case"
      ],
      "metadata": {
        "id": "tuK6q1iIzkpb"
      }
    },
    {
      "cell_type": "code",
      "source": [
        "n, m = int(1e4), 3 # размерность x\n",
        "x, y, coef = make_regression(n_samples=n, n_features=m,\n",
        "                       n_informative=m, noise=10, random_state=10, coef=True, bias=False)\n",
        "y = y.reshape(n, 1)\n",
        "\n",
        "fig, ax = plt.subplots(1,1, figsize=(14, 5))\n",
        "ax.plot(x, y, linestyle='', marker='o', markersize=4, c='b', label='y')\n",
        "ax.plot(x, coef*x, linestyle='-', marker='o', markersize=0, c='r', label='y_pred')\n",
        "ax.legend(loc='upper left', fontsize=8);"
      ],
      "metadata": {
        "colab": {
          "base_uri": "https://localhost:8080/",
          "height": 320
        },
        "id": "srItOheQzr59",
        "outputId": "0bab4501-d95f-4cf7-b642-f82e6e665186"
      },
      "execution_count": null,
      "outputs": [
        {
          "output_type": "display_data",
          "data": {
            "text/plain": [
              "<Figure size 1008x360 with 1 Axes>"
            ],
            "image/png": "[encoded data removed]"
          },
          "metadata": {
            "needs_background": "light"
          }
        }
      ]
    },
    {
      "cell_type": "code",
      "source": [
        "# Добавляем колонку единиц в x для симмуляции bias\n",
        "x_new = np.concatenate((np.ones((x.shape[0],1)), x),axis=1)"
      ],
      "metadata": {
        "id": "uXRr9Zad0cdQ"
      },
      "execution_count": null,
      "outputs": []
    },
    {
      "cell_type": "markdown",
      "source": [
        "## Normal equastion"
      ],
      "metadata": {
        "id": "GZGPE8AT5ZdT"
      }
    },
    {
      "cell_type": "code",
      "source": [
        "%%time\n",
        "### normal equestion\n",
        "# Matrix multiplication is O(n³), inversion is also O(n³). \n",
        "# This is actually slower than gradient descent for even modest sized datasets\n",
        "theta_best_values  = np.linalg.inv(x_new.T.dot(x_new)).dot(x_new.T).dot(y)\n",
        "theta_best_values"
      ],
      "metadata": {
        "colab": {
          "base_uri": "https://localhost:8080/"
        },
        "id": "aOwcI_984eje",
        "outputId": "cf7fdd05-4ff3-4a0c-8ac5-db2880680f4a"
      },
      "execution_count": null,
      "outputs": [
        {
          "output_type": "stream",
          "name": "stdout",
          "text": [
            "CPU times: user 1.52 ms, sys: 2.96 ms, total: 4.48 ms\n",
            "Wall time: 4.49 ms\n"
          ]
        },
        {
          "output_type": "execute_result",
          "data": {
            "text/plain": [
              "array([[ 0.10420723],\n",
              "       [59.08037742],\n",
              "       [17.41747938],\n",
              "       [93.2164548 ]])"
            ]
          },
          "metadata": {},
          "execution_count": 482
        }
      ]
    },
    {
      "cell_type": "code",
      "source": [
        "# Считаем для примера \n",
        "x_sample = np.array([[1, 1, 8],\n",
        "                     [2, 4, 18]])\n",
        "x_sample = np.concatenate((np.ones((x_sample.shape[0],1)), x_sample),axis=1)\n",
        "y_sample = x_sample.dot(theta_best_values)\n",
        "y_sample"
      ],
      "metadata": {
        "colab": {
          "base_uri": "https://localhost:8080/"
        },
        "id": "qe68ryaZ4xQE",
        "outputId": "9b530016-92ef-4e73-bee9-41b58090c5b7"
      },
      "execution_count": null,
      "outputs": [
        {
          "output_type": "execute_result",
          "data": {
            "text/plain": [
              "array([[ 822.33370246],\n",
              "       [1865.83106605]])"
            ]
          },
          "metadata": {},
          "execution_count": 483
        }
      ]
    },
    {
      "cell_type": "markdown",
      "source": [
        "## Gradient descent"
      ],
      "metadata": {
        "id": "Sdac5-nB5SpD"
      }
    },
    {
      "cell_type": "code",
      "source": [
        "%%time\n",
        "b, k, l, loss, theta = 0, 30, 1e-2, [], np.zeros((m+1,1))\n",
        "for i in range(1,1000,1):\n",
        "    y_pred = x_new.dot(theta)\n",
        "    loss.append(1/n*np.sum((y-y_pred)**2))\n",
        "    for i in range(0, m+1):\n",
        "        theta[i] = theta[i]-l*(2/n*np.sum((y_pred-y)*x_new[:,i].reshape(n,1)))    \n",
        "print(theta)\n",
        "plt.plot(np.array(loss))"
      ],
      "metadata": {
        "colab": {
          "base_uri": "https://localhost:8080/",
          "height": 390
        },
        "id": "frmKGlFq5VfO",
        "outputId": "9888c3e4-18bf-41c5-c7ea-657cdb65ddc0"
      },
      "execution_count": null,
      "outputs": [
        {
          "output_type": "stream",
          "name": "stdout",
          "text": [
            "[[ 0.10420725]\n",
            " [59.08037724]\n",
            " [17.41747932]\n",
            " [93.21645462]]\n",
            "CPU times: user 255 ms, sys: 186 ms, total: 440 ms\n",
            "Wall time: 236 ms\n"
          ]
        },
        {
          "output_type": "execute_result",
          "data": {
            "text/plain": [
              "[<matplotlib.lines.Line2D at 0x7f35c65d6af0>]"
            ]
          },
          "metadata": {},
          "execution_count": 484
        },
        {
          "output_type": "display_data",
          "data": {
            "text/plain": [
              "<Figure size 432x288 with 1 Axes>"
            ],
            "image/png": "[encoded data removed]"
          },
          "metadata": {
            "needs_background": "light"
          }
        }
      ]
    },
    {
      "cell_type": "markdown",
      "source": [
        "## Multidimentional case of linear regro\n",
        "## LINEAR CLASS"
      ],
      "metadata": {
        "id": "xBzs3E0v5ztQ"
      }
    },
    {
      "cell_type": "code",
      "source": [
        "class LinearRegression:\n",
        "  L=1e-3\n",
        "  def __init__(self, X: np.ndarray, y: np.ndarray):\n",
        "    self.X = X\n",
        "    self.X_new = np.concatenate((np.ones((X.shape[0],1)), X),axis=1)\n",
        "    self.y = y\n",
        "    self.theta = np.zeros((X.shape[1]+1,1))\n",
        "    self.loss = []\n",
        "\n",
        "  def predict(self):\n",
        "    y_pred = self.X_new.dot(self.theta)\n",
        "    return y_pred\n",
        "\n",
        "  def update_coef(self, l=L):\n",
        "    n = len(y)\n",
        "    for i in range(len(self.theta)):\n",
        "      y_pred = self.predict()\n",
        "      self.theta[i] = self.theta[i] - l*((2/n)*np.sum((y_pred-self.y)*self.X_new[:,i].reshape(n,1)))\n",
        "\n",
        "  def train(self, n=100, l=L):\n",
        "    for i in range(n):\n",
        "      self.loss.append(1/n*np.sum((self.predict()-self.y)**2))\n",
        "      self.update_coef(l)\n",
        "\n",
        "  def loss_plot(self):\n",
        "    fig, ax = plt.subplots(1,1, figsize=(10,4))\n",
        "    ax.plot(self.loss, linestyle='-', markersize=0, marker='o', c='b', label='loss')\n",
        "    ax.legend(loc='upper right', fontsize=8);"
      ],
      "metadata": {
        "id": "7286bX-X5_Ht"
      },
      "execution_count": null,
      "outputs": []
    },
    {
      "cell_type": "code",
      "source": [
        "np.linalg.inv(x_new.T.dot(x_new)).dot(x_new.T).dot(y)"
      ],
      "metadata": {
        "colab": {
          "base_uri": "https://localhost:8080/"
        },
        "id": "zKcsetNOcLZX",
        "outputId": "6303cf0d-bcf2-470f-f665-c5b36e45e455"
      },
      "execution_count": null,
      "outputs": [
        {
          "output_type": "execute_result",
          "data": {
            "text/plain": [
              "array([[ 0.10420723],\n",
              "       [59.08037742],\n",
              "       [17.41747938],\n",
              "       [93.2164548 ]])"
            ]
          },
          "metadata": {},
          "execution_count": 486
        }
      ]
    },
    {
      "cell_type": "code",
      "source": [
        "reg = LinearRegression(x, y)\n",
        "reg.train(1000, 1e-2)\n",
        "reg.theta"
      ],
      "metadata": {
        "colab": {
          "base_uri": "https://localhost:8080/"
        },
        "id": "DS7Xt2EFcxqN",
        "outputId": "823945a9-dde5-4ec5-a736-2fec9f62461d"
      },
      "execution_count": null,
      "outputs": [
        {
          "output_type": "execute_result",
          "data": {
            "text/plain": [
              "array([[ 0.10420725],\n",
              "       [59.08037724],\n",
              "       [17.41747933],\n",
              "       [93.21645462]])"
            ]
          },
          "metadata": {},
          "execution_count": 487
        }
      ]
    },
    {
      "cell_type": "code",
      "source": [
        "plt.plot(reg.loss)"
      ],
      "metadata": {
        "colab": {
          "base_uri": "https://localhost:8080/",
          "height": 283
        },
        "id": "CwKa65WlWJxR",
        "outputId": "da00c8d7-bd66-48aa-a146-a6ada3576dc1"
      },
      "execution_count": null,
      "outputs": [
        {
          "output_type": "execute_result",
          "data": {
            "text/plain": [
              "[<matplotlib.lines.Line2D at 0x7f35c66d32b0>]"
            ]
          },
          "metadata": {},
          "execution_count": 488
        },
        {
          "output_type": "display_data",
          "data": {
            "text/plain": [
              "<Figure size 432x288 with 1 Axes>"
            ],
            "image/png": "[encoded data removed]"
          },
          "metadata": {
            "needs_background": "light"
          }
        }
      ]
    },
    {
      "cell_type": "markdown",
      "source": [
        "# Сложность алгоритмов\n"
      ],
      "metadata": {
        "id": "LgGfjN2geZVr"
      }
    },
    {
      "cell_type": "markdown",
      "source": [
        "![Скриншот 26-04-2023 10.33.04.png](data:image/png;base64,iVBORw0KGgoAAAANSUhEUgAAA4IAAAR1CAYAAADvOXtOAAAACXBIWXMAABJ0AAASdAHeZh94AAAgAElEQVR4nOzdf1wU970v/pe6MVhtgo0nGVts2RZ7JDEXvLEPl4Q+jpurJ67FVlI8RyycY/cYD3KMJyXEryWGkq2hfgmlHuKlfqmlni9U7MWKLVZM4XbNt6jrDSlwMYFbSJc0tI7pJm5TrFu7Ot8/ZmZ3dnd22eWHIPt6Ph7zEHdnZz7z4/OZz/szM5/PLK/XK4GIiIiIiIjixuypTgARERERERHdXgwEiYiIiIiI4gwDQSIiIiIiojjDQJCIiIiIiCjOMBAkIiIiIiKKMwwEaWYRm5FvMMAQ7bTHDs9Y1uPuQ3PlLmx6bKnOcjegbnCiN2z6Ec9WYfuah5FkMMCwLBPbKx1wj2N5novlyHykCt3jSdSIA+WPrURVz3gWEqPBOmzwHftyOG7jqomIxspRppZbS5G5eRdqzopTnSQius0YCNLM8rs+2GOYPXt5MhJiXcdQI/KXP4xNe2rQfNEZ8JVxVTaKTlbDmhLrQu8kbtj3ZiJpzW7Une2DCACDDtTtyUTWPseYAmt3eyk2fLkUjrUrsGysyXLZUboxB6UXH8eKvx3rQmLlRuuBUrTCisICAUAXnMO3a91ERGPlhPOS/2/H8RrsWrMS+ceckX5ERDMMA0GaWR4pwbDXC69mGjiSDQDIPTYc8LnX60VTnjHGFYho3JOPRphRcip0eQPnmlCRFesy7yzdB7Kwdr8DWFWI+jdc8raLbbCtAhxl30ZzLIGQV0Rr2VosX1cOuzjGwByAeKYUa9PXovysCGxcgeSxLGQMPBdr8MIhEcKeXHwtMwPABTiv3J51ExGNnRG5x5Vrl2cEA+eqYU0R0Zj3LTS7pjptRHS7MBCkGc6DoUvNANKxYqkw/qWdrcFzxwFLWS1s68a/vDvOYB1eKHYAQi7qf1iN3LRE+fNFZhS9WASgGX3vRLEcrxvdJ8uxaXkSNuyzy3cVIWBFamxBtLunGeWblyIpSw4kAUBYmYrbE4qLaP5OKbphgW2rGYsXGQGI6HPy8SoiuoMYEmBcVYjaH1UgHXW40D2mFyaI6A7EQJBmuH50tQFA5McFxYuNKN+WiaXKu15JaRuw66Adolc7lxutDeUQYYU14wqqtq3Fw0nK+xXbqnyBiJazYVP07ygONWKTwYCVB0LfknMeXguDQfvumxN16wwwrKtD6IM83ShPMsCg875ddNsZXvfJGrQCsJTZkJsc+F3Cmgp4vV7YHotiOZXLsTKnFM2DAszP1KO2WADwJFZ8Jrp0AADeKMfyRzah9LgTwuoi1B8qggDgyeXJo/1yQnjaq/DccUDYU4QtKUDC3whIB2AfDBMIekXYD2reK12Wie37mtE3Ejib/N7OLrQGv3DpsWO3wQDDzlbfu5ie9t2+c2nTMb31dqPqMeVc054Pg3VYO8r7s7tO+dYC+x41TR70HduNDWlJMBiS8HBeFRzK3QP3uRrs2qi+M7oBu4/1hT4mLNpRs3MTMpeNcv4p6Vt5oBtwOVClnrPa5Y70oXnfdmVZgWmJfV92o+oR/fyk7mP//oi0LeHek3Wj72S5/53apIexYWdNUHqVPB2Ubz09NchPS4LBsAmNQwDgQGnQeTCxaQ0nmm2ArxwLf27tht0TYbmGpcjcVo7mN7Wp60bVMgMMyzahrl/zy1O7YDAYsLtds8ChZuzOWgqDYamyH/T3KwDfeZa0P+ib4LyqbKteGQ8A7jebUe67HiTh4Y27UHMucO9qj42nvxG7lbySlJaPKnVelwM1Ozf4risb9jQGlQ9jOPZhuAdbA65hG/Y0w/nQo3gSgNMVuAz/u4T609rDmlzj7kPjnk1Ym5Y0+ryR0hfDPg0/aa+ZY9h30ZTZ2rLKv0R0H8yX057T6C9T3E60HtyllJ/hzvXIYrk++OeP7tjJ9RW9d+wj5KHgZOjuSyda92yQy/AyzVv00V4PtHUjdzdq8tS8o3edmcDrVbiyqT9wzu5KubzZdKRP89NW7Aqu43mdaFb2w1LNcXIPtmryveY8G0+nC7Hwer0SJ04zdhpuknIBCRvrpQHdeUakzgMWSQAk6EzCxlr/78QmyQpIWGORLILO/IJZsp0bCVh2W7H+ctUp+8iAb/6RM0USAKnozEhQGl1SSwEkoEhqG1E+c7VIhYCEvR2h2zRYL2WHfBfDdoabRtqkEgESYJWa+nul+mKLZAQkCKlSblmT1OuO9rgMS00FFqnwQIvUK3olr3dAql0DCWuiSINmGj5eKFkKqqWWSy7J6/VKA4fMEmCWavtvx7nVKVWsggRY/OtTz7W8Jmk45Ji0SIWrwuz7PO25GWFfvFEhpQOS+ZD/nOmsTPcvqyz0XBhuyPZ/X9AiuZTPXScLI56XgfuxU6pIg4RlVqlopyl03q1NUmdDrs65ZQk4Fq4zJZIp3PmXF5g/1fRlP1Okk9fSpYr2Dsmmsz+FPW3SyFj2pZJnhH2dIfuwc58gr/MNTfpes0XYlqDj7+6UKrIE/f28yiZ1qPlGzdPFmm0YrJdyfdtvkzq8XsnbXyuZg86DwPMhMA/ElNZwU7TboCnHwk7astjdK9XmhVkuTP7yVN03QedxR5kgAblS07C6vA6pJE1znrwRuaxUz7PCky7/52KbVBImr0LIleoHtcsYkTorw5WrpoDrgXxsUiVrcaHO8bBKTRe1x9o/WQ5rjnOMxz7cNHDMKpfdwedDca1UnQMpu2FYM7+SjyIc05LX/PtfL1/qzht2inWfRlqf5poZ676LssxWzyHtdXtAWx6q5fJQ+OUBRqmkPfi6rzfFdn2I6dj56iuafaZOemVTmCl0X45IHWX+64Z6bsVyPVDLlNxDTTrnlyDlNmi3eWKuV17PgFQfqWy6qB4vtX4GCSiUWlzK78/ZJAGQco8N+/fDXv/5ml4pX2uGT+mVB8qUUiK1RV2vGvvEQJDTzJ5eK5ELFp0KntfrlbxvVEgmQDJurZY6BjUFsbtXKQT8FUBt5dm0s9Y/v8cldTYomXlVtdTrW75SIOkU2nLQIki2i/7P5ApndlBFQ16OTQiqQF0MLmT8k27lJobtDDsp68SaXClX74K2qkLqHMsxihTURj2phXGJXFme5EkNsAIDD+U4pQXvBzVoFCTLvjZpQC3YxU5JrgQL/kqAGkzq7IvhY7lBF251m62SdStCA1B3m1QkQDKts0ip0Asg9c61Aal+Y9B+1FbCVxVKteeG5W12tUhFasVVsEi2U72Sy6Okq1i+gNrOKcvor5UsygW0sKFTcikVjZGhNsmmBBjW466g9Kn7TG0w8Eq9By2BeXBI2W+XquXl59T790EM+1KtaATkmYD9oakcqQ0tKdlSRfuANOJR9/eA1LLHFHg8vS6ppUBQ0lsvdYrK5yPDyryair5SkfM3Dg1I9TmQsKpEahkOn3b/NCw15QUdu5jSGilvRbkN3ggBiVIR95fFI1Kbcp4IWTapTa88DcpLvQfNmu0LrhQrFS3BIlVcDCz70nWPrRpIatM6INWug+62tu1TgpOtTQENKoKSL+rfcCllwYg0fEqp5K5T06atLJqkwsMd0vBIYF4JPtddp4rkZWsaeGI69mGmkXNKw4BgkWyac8L1Rr1UuEqQBCEoEAwbBKiBgz8QHzhskSvmh/x5PHBfa4L2MFPs+1RvmzukEgReM2Pbd9GX2SFlqZLnTHtapGE1v6l5SDBLJcd7NftmRHK1K8dD08ARdorp+hDbsdOtZ6iTcu3XNlyHLysC9+XIayVSOgQp91Cvf/vGeD0QBLM8vyfonBBsE3u98gVtgmR+RlMOeEck1xu1coPNuqB63aVqyazZ/8EN0+p+sFR2+veD2CIVCpCE1SVS0yWX/xiNuKQ2JXjWK7cmemIgyGlGT3JmHFtmCqzQ+O/uCcV6Bbb6fbZUP6R8FrbQVgtLTeuRWuEUbKHBlM7dioEj2WGDt9DKTSzbGWFfHlHvLgmSeW+Tr8IyMtTia0HXFt5RTxGC2ugn5SIW7R2O8UwjHZItTacF0Veh0B5Xf8XGVNYR2pqqtBr6Kl5Kw4XevujYG/7CXV8W2uDQWWmSIBRJtYeCKwhqOm2hFaiRNqkIQftRbQBIKwm48+NvbTaFnIeBlSOX1LQVEpAulbymE3SolQJfZUVNX2jFQw3YhIKg46zXmBDDvlTPbX9FIGi5vsqRWqELvjPk1c+rSgNMcAu31+uVvENKkKZU9AMqcq5eqXarUQKEkCcEQs8DdVIqv75jF2Naw00xbEOkgCSkgUoJ0JCj97TGiNS2R6cce6NCrlQeGQgsX129Uv0zZkkIumPk36965Zt6/vrT6jpulVvr9+rkVV+QqDYKKMGC7v4dloN4Xx5T8qpOHlCvUab9QcchpGEglmMfbtJ5kkGbv04pd+K1gWDYIEBp6NQE6x1lSvkXchdD2dchjWRh0hfLPtU2/qhTSKNDbPsu+jI78Hx39dRK1hRIEIqiv5MTw9222K4PsR27SOWBXD4GNlyHO37aYHL4VIlkDgmaxno9CL7zp5QTwfWucV+vvL4yT/f4hz2X5H0q5NVLAx7NeeFxSb0NRZJZCL88vUnvTvNkTQYQzVhu9HfbAZiRviwx/Fz9rThxqg9DQxdwYVB+KPv6kB2OQQDIxcIFgP9dQyteKbYgdGkJSE3PBtAM5+8AJAF4uwuNAHJD3lkbQtdJAGvS4UuWR/msYAWC53ZfuoBmAIW+5bjR72gGUKTz3qMTb3WIgFCIB4OGsIhuO8O7MtQMAEjfexwtZSZf754JSRbYvl+NC8t3oe5SP2o3miIvKDjFfV0Qx9uZz1AfukQgPd2IaJbiad+NBeuqgj4VYLs4jJJHIv/W2fASSnv87wZqf784BQDOo+8dwJIIAG5cOFMDEVa8UmAK7RF1VQmGvSX+ZfddgH7HRt043wIgbQWM6lfKNgsrU2FOzgbKRFwB5I5yXM2oKXYgu6EeD/YvBZCref9yCF0NAPJSQ841/J8u/AKB+1E+PoD1hSKYtOeIux/d7QC2PgtrmnYhIpzd3QDWw5gMQLTjxBEAW59H0WM63bmmPIgMAK1DItwABDV9aRV4PqhX3/5LvwCQjqKnsgOP89tdOAEgO+WBse1Lj5wfLlxwwP2ICYkG+TNneytOQNMBkfsCWg+JABqRn9KI/NCtkXnlt0K67UfhQDoqvpYb2oFRUi6avLm+/w5dagQAlP+dAeXKZ6ayDtjWaPeZE285gtKu6jmP09AcuxjTGk4s2+A/t0LLsaFLJ6Ati7tbq9CNdFR8XWe5SEDq8gwAzRDfB6Dms7QteH7rd7Fp61I0qrPuy4RhHwDBjKKT9ShZFXiOqft1+zIDtuttoC+tIuwn6wBY8fxOnbwKIx40ATjjhOgC8P4vcPQikL7/2ZD3pQEBuce88O0ZJa+G5gH1GmXFs1vTA5YgDnShG8B6o7p3Yjj24Vw8jaqLQPr+b+oOcZSwLAPZqEHqEv9S5Pyv05GX6ERXD4Di4CF/zuOCww3LGs1VUuyGvV1v3uDtiH2fCumpIdvs7u+GHdprZiz7LpYy2yGf7yhHpsGXa2E7Z4M5+HrqEeE4eQLnh4fQ394lvzfoFdGnDMEkJC4ctcfsmMo0xHbsPINdQfUMlVrfKBz9HX71PD+Zj6UGpcQRclF/0OrP42O+HhTh2c3BJUUCkpdnB3wy7usV1DIPQFkmFpSF21gPPAHvMqZjywtWfDcnH0sb1M/KkZlQDkCA+ZkW1O8NPZ88ww40nzyPy8P9aO12yh9e7oP9TRGAgMSFk98FOgNBmsGU4AoZIUGRzAPHvjXI1L68rEoxwggnnL6C1QN3D4A8CzIWhVnb4AUA2TB+Qv5/2EJbLSy3PegvHJUKuDl9WUiQ2d8dWIHybZfeMAnDDrS2AyjQXnBj2c7RmFGYp3NxTElFBhDTGI5q2uReXfWC2hiWolzEipZHNwrhZdGp86kZqZ8Y5YeuVnynrBUAIO5fiwX79WbqhvgHD4AEAP3oOgRgoxnpYc4bP7VSqLMvhvtwIcKFOzHBCHUMQ1OSB45DL6FuVQU6NwO/WofACsLgW7gA/UqjWvn070f1+FhhyQw6M5Xgq3CjOeicDQoG3umTG0TWZeg0oABwX5V7jU0W5O/V9OU+jqCqsXzBTqvA42mBiwit8MS2L42fs8AEO1qLM7GoODSJuSnKnvo/XajR24YggiEBgIg+RzeAEjyaNtovlIqqhnlfJ1r2pAfmNbUyo1OhFvsuBB67mNIaTizbgAjnlhN9nSIAq1IWi+jrlhusgo+lb82iE4AZwn2aD71AQvIyucwKmt+4LhdfXR1cUQzdr8GEZWpah9DXgAhlvBtXRQAwQlgEiB3y/i7JSNebOYCaV61ZOnnlJICCbJiD1ikHsJoGnFiOfRiiU84nheYwaf5dH5qRjSc/5Uu5kv91ggCloVM75E+6xQZTWSnK1y3yNWZojTY8kLodsezT0MAltNEhtn0XQ5mtnO9+ZtgutqDkkaCtHGpEfmY+GkM6GxJgTBGAQTGKTs5iK9NiPXZyI5teo3l/aMN1GOox8VlmRdOpWmRrN22M1wPzjmzonRVXBpsBqMHgBFyvfGXeaBKQEBxBJSRjWQrgHAz6PGU9creZQxq8nMfy8fm8RoSeFkYYBcApxtiB3hix11CaudSAS6d1GgA8Z8uRU+aAsLoItac6MeByweUakcdV6qiAGQDUAc6HnegDgJTF+i2uHjtOHxIBYQWMSYC/0A7trVQtLLV3CtUKeEbI8AndON8sIiCY1dwJCp7b3WlHMwIDypi2c1QZvlazAENOXMBolUo9/bjQgHGP/dffeRRANlakRLcQY15TyBiQXm89skcJhruPvICaKEaH6Bq6LP8hXpbPm3RjFENahA/w1eMa7sKdsDARApy4/D6AwaN4qUxE0YuFSPcMob8dQIb/7p/aWv64TqVRrXxmLPetRb4TnrYMxqBKkbPLDhHpSF4SdMENCgbEd+We1LR3GQK27WwzagBYlsnbpqbv0WXJgTN6+uRzJSP4TqZ68X8y8K5nDPsSaUU49Vo1CrOUuwtCKiwF1bBtA7SNOaKzCwBQ8lrwuRM4De9JByDC2QEgR+fOa8hOUCuqbRjxuNB5KBd9e7PwVPDg3uqdz5AKtRsX2uUKkZoHYktrODFsAyKcW+oTD5rKlrMDQGa4O1jd+EV9NyBkKOUpgBEHytetxIZDHny13YXOynQAZtRecqH3UC6uH9mO/AOOwJ7/tPs1aLtHzhQB0PQyrObVcGW8y47mQwDWLUNyAiAOyQ1/qZ/SmzmQeid7mTE4r/wKdhFIT1kcVDnVuYMVw7EPZ2iwGUAGjA/ofeuBvbUOWGOBSd3nav7XCQLkhs7Au00Jj5TgVE8TitbpLX/04YFi36d6gYvS6CCY8V/Va2Ys+y6GMls934vOjMArdqI2rw+lX3pK6d3Xn566nfloFI3I3t+EjkvDcLlcGPF44fUOo2mbEGY7gsVYpsV07NS7YjqN5j3ncUIEYHpw1P2hHpPafi9GhlpQcm8dNn2lHA5NL6tjvR4kLpgXOrPHjtOHAaRlIDVJs83juF4BQ3AeB7CxHgMRys3A+oIHjv1rsTKrBp6tbXBdrEA6APOhXrh6apE7UoftX6mCQ1s4DdZhV14jxJRsVBzvQO+wpl423IQdDyCq4HsiMBCkGUsNuMI9LtPffRoizLAdqoB1XTqMiYlITJSLUefJOtQBMKcoBWuSESsAoONX6AtZkgeOyhdQLgKm4vWQH4zsx4VD0C201UqB9k5hSOuvstzuAy9gdw8Cg9krTjQDyEgO2qoRB6q+WQdAgHmFv8iOaTsjSFiQDuA0ut4M/saJxn2lsEdqaQ4nQlAbPfXCvwKpyWNeyOiGG/HSHvmOVGe4i8NgPbIB2AeH5AppYiIWA8AlZ0irn+dcKVYaDNhwRKnsh9sXrmaU7pSPq/aO1+XBbgBKw8MDRmSgG+4REa0HStGa8zKK1iTo3mkeGjwP/UqjTuXTfRlDPdBpKAjf0BEcDAiL5TTbe3XuwvrOWQuyM42a9OlUjMLeNdep8MS0L2WJjxWi+mQvhr1eeId70XLwSRjdCNhGwbgCAHChT2dbhhqRn2SAYVuz0i34vRCWA+hwYkhn3k0GA5L2Kl2Lv9OH81AqcoZEpG+zwbZORGPxDwKGWgj3qJf7ZCmePoKAPBBbWsOJYRsA9HfWQPfcCnnk+F4YTQCOd6FP58lUZ8NL2N0DCFvNyEgAACcad+ag9GwybD9uQclqKOd/Bh5clojUbS/j5Rygu6wOrdrhLLT7NWgdIYGEsFg+Vzre0hmSxwPHwZdQB8CSI7fs37soFcAF+VWAwNSjcbMBhqRS5dipeXX0vKL5Qg5gNfkulmMfzgPJ8usLXf2hO91zsQov7Bdh2ay5czGk3GkKCQLU/B98x8KNobY6HD0jwLy3BcMeuVzs3Bfd8ECx71OdwMWjCZjUX8ey72IoswPK0kXpsO61wSI24rnDmiED3P3oPgOguBb1xdkwLROQmJgo300asePoAU05HkmsZVpMxy7MI90j3ah6fje6ofeKS7DAY5KQZEHJi0UQLpbipeP+HBXz9eDSCfk77/WQ2Z0NVSgXAcvTyt3CCbheAckw5gA42YWhkGzigWNfZsgQG85jTyFnrx3JZcfRsscMXB5SGvZTkfiQFS9XZgM9pag74y9t3f3daAVQdLAeRRtNSBX89TJP+1F5+elG+VycbJP9EiInTlM1qT1NhXvZVu0gIvug2guVVxoRe6WW/dm+rrX9v1U7L1B6A1N7/RJ7paa9ZqWXM0036hdtUjr8XQT7J/UlYm0XzepL8JpORrTLDerx0XvOpnRo0KZ0WjMiDZ+rlQpXmSTTKkjBvUHGtp0RJuUFaqwqlOp7lA4fxE6pXumiOequ6DVT+N4aY5jUDk6i6XVtzJPaw6EQOa1qWnwdt6jH1iQVHh+QXxT3jEgD7TZ5WAShUGoRA4+r+UCvb53D56rlzgcQfM4E9/DWIdkAyZyTLaUj3ddhRmhPchF6F9TrtCBCZwPhepgL6f1WHXZFsEi29mFfL4ByL4VKD437OoM6BghNX9he//Q6ZYppX4abQnse9LrkXt4gWKSKc8p54BmRBtorpOyU0I4I5I6bBMlS2eHr6c6/3f559bZN7bhE2wFTRxkkwCxV96jn27DUcUAzFID22MWY1nBTtNvg9XTKnSjpdAiibp+2nOncL5fPcu+cyrzuAX/vnEKu1DQkr0/tft5/noR2DqWWJdoeTGPrKVLtxELuKVIt40c0ZRxW2aRO9bxROg0RsiqkDjF0XpOv7I8hr0TIdzEd+3CT2kGP0iOn/5xQyqOgDjaGj1nDlM/KNgV0UKU5TgGdYsQwPNAE7FO9YRRi23fRltmRziGr1KSe02o5klYktai9HHtGpIFztVLRaqXH2Cj3TSxlWkzHTu30aadmiKFLTVKJmr6oOp/TOyY6ndLEdD1Qe22GhBSrVOs7Z11S52Hl+AXVu8Z9vfJ6pd4Dyvm2s0ka0JYDz8h1MkFT1/D1wqspG+RlajqTUesF2k5zlI5/0os19Un3gNRxWO5YJqTeN4kTA0FOM3RSC2m9LvKVaahJd9wmQJCMKcHdCXuDxvQKmlKsUtOg199dO8JVtHQql5ogM2AScqXqA4WhFRmly+HA+U1SyRmX1LFPuxzlAhXrdoadAscDCpiCxhLzVc71ekHVTJF7LFV72huly3Hd8ZMmeFKD4OAuo0Om0J4IfReKkCmoh0Nfl9qBk2lPtWTLCjpnQnp4848Xpb1IhfZuFqF3QZ2LaNje4sL2MKff++2A7rhNyvbtbNHs0/DpC9vrn15PerHsy3DTYHCPmKNti0kqPDkQsoxweU/bA57utqmBuWa4Arl7fp28f9AmWXQqQDGlNcJ+iLwNmspaQGU9+NgFlcWRxpwTLFLFGyMB2xDQa6lybAIa2tRxTjUV3Eg9RdqA0B4nI5XxqwqlFm36veHHGdNLa7R5JVy+i/XY608RynDNPlfzlPy5prEqOG9oGl90j5P2PI5qeKDx7lP94D/WfRddma1fVqm9PfobcEakzn1h9nmKUQ5m9Ho+DZ6iLdPGcOz8YwQH7/NqqTraYZnCHBP5Gh/Yw3nU1wNfL9Y2qULvvAjqXXairleRyiYhq0LqdPuXmysEp0NZZkCDmE4vyCOdYddhTDFKQPB4npM3MRDkNEMnpZAeJRAZuVQvFWWlKoWSUTLlFErV7cOSK9ydKrFDqi6wSKlKoSk8ZJasZU1Sr3on72KFf5D1A52hLbQ63Vp7vV55PL/gAdpdatfioRWZkTeqpdyH5Jb61M02qemScnEabJKsDykFprbVKtbtDDuNSL3HbZJ1lVG5kJkk6/4W/zhL6vrUQaUjtlKPMvaVsq9Gay0N3+o/UZP/TsHod0413VkP+j939Wj2v5AqWQqqpTad4Nb1WoVyXCEZ18nHSL0Yas+Z0Dup6r60BI6JFtxlu7JPQ+9U611E9caaClx/SDfmEe7ODrdXS4U5JqUV3n8ORpU/1G3RqzQfModUNGLZl2HLhnDbqG6L5niat1ZILYNhzo3hNqliq2a7t9qkph5X6LaF3ElTKw/aY+qSOvbnKuWP0XceyWnV7949prSGmyJuQ6dUkQKlLKr2V5KiOHZeV6/UVGaVzMpxCilP1YpWmEHrg/OjfJdRPRciDFkQaeiM4TapuiBbMil3WoyrsqXCA22aMeE0k2dYattv1cxrlWzHewPO/VHzSkijh5rvAoehGcuxD1eeBZThOuXR8HGrfL6kWKQinQaD4G3S3hXpCD7+sQ4PFMM+1R0bUjf4j33fjVpmhytL1aAqaMiEDs02+c/z3iiH1VDSFEWZFuux831+qV4qWmdU0per7HMlD0XxtE/YY6IEsIFj7kZ5PVAaedMrOyWvZ0BqKlbqXkKqZCmu95cTAflmYq5XatmkLQeKDmvGAPQ1WgQ16KrLDK77qCfD/tAAACAASURBVNuiHSZG7NCUq4KUulo51y+Fv05PxjTL6/VKIKIZpBvlSSthLxtA27axv3lHRERENBXE4/lI2tyIojMjqFgT/JYvTRR2FkM00yg90YX2QEpEREQ0/cmd6EXfGziNDQNBohlG7gWrEBkPTXVKiIiIiGKl9GI92b2BEweUJ5ppErOq4fVOdSqIiIiIxkAdQqVAfxxomjh8R5CIiIiIiCjO8NFQIiIiIiKiOMNAkIiIiIiIKM4wECQiIiIiIoozDASJiIiIiIjiDANBIiIiIiKiOMNAkIiIiIiIKM4wECQiIiIiIoozDASJiIiIiIjiDANBIiIiIiKiOMNAkIiIiIiIKM4wECQiIiIiIoozDASJiIiIiIjiDANBIiIiIiKiOMNAkIiIiIiIKM4wECQiIiIiIoozDASJiIiIiIjiDANBIiIiIiKiOMNAkIiIiIiIKM4YopnJ6/UCAGbPZtxIdDvcunULt25JMBjmTHVSiO54zE9EREShogoE//D+B5AkabLTQkQahjlz4L15c6qTQTQjzJo1i9cxIiIijagCwTmzZ+MjH5mHhISEyU4PEQF4/4OrSEhIwEc+Mm+qk0J0x7t+3YM/X7+O+z62cKqTQkRENG1EFQjOmjULs2fPhmEOH6shuh1mzQIMhjnMc0QTYPZsXsOIiIiC8aU/IiIiIiKiOMNAkIiIiIiIKM4wECQiIiIiIoozDASJiIiIiIjiDANBIiIiIiKiOMNAkIiIiIiIKM4wECQiIiIiIoozDASJiIiIiIjiDANBIiIiIiKiOMNAkIiIiIiIKM4wECQiIiIiIoozDASJiIiIiIjiDANBIiIiIiKiODO9A0HRgcZ927E2LQkGg0GZkvDwmu3YfcQO0TPVCSSaedw9zajauQEPJxn8+S7pYazdVo7mHvdUJ49oehtuxCaDJu9EM+1zTHWqiYgoDk3TQNCN7oObsDQpE/lldbC/KWq+E9F3tg5V29YiKWUtSttZMSWaECN9qNu2FIse2YTdh1rRF5Dt+mA/UopNjyzC0m116BuZslQSERER0QQwTHUCQnng2JeFzDK1hVRA6uYt2JFlRqqQAPeQHfbjjag54wREO8rXLYez4Zeo32yc0lQT3dE83ajJy8KuU0r0J6QiN28H1q9OhZDghvOsHc3HatA6CDi7hvDHqU0t0Z1hWzXaNqfqf9ffiLU7625veoiIiDSmXSDoPrUbOWoQmGJF/Zla5CZr5zAje6sNJWdKkZNVDgdENObtgnllC6wpU5BgojueB90HdvqCQGG1DcePl8CU6J/DvDob1r0lsDcchbiiEKYFU5RUojtJ0n+FebVJ/7t5F25vWoiIiIJMs0CwG3XfqIFcHTWh4kfBQaCfsM6G+iN9WLq1GUArSo/YsWWfGQkA4PXAPRLFC4QJiUhMCP7QA3d/N7rE6wCAhckZSE8OnskDt9sDIAGJygI8w924MHgZHk8CFi/PQHpSyIJlI050dw7hqscDT8JCJC83IXVR8DxuuL0IWL5/1W64PWryE5EQ8JUb8lc6v9N8n7AgEQnBR16zXC3deWlmcbWiZq/S+CLk4pUjgUGgj0GAeWtR2MX4zz+93yYiUSd49Lj60H1JxHUAmCdgRVpqUJ5U85r+MnzrjPSdmh/GmK98swx148LQVfk/C5OR8ZAxct5Q87r8AySvTIdxQXDaRhNF2mlm8V2//Mfa3e9A19DVsNeMmMt+j4huRx+uAliYEuF6pa5bvA5AwIrVqQgpGrTn+Wh5OPiaq813Idca9Vp8FR5PAhIWpyIjTQjJmxG3XS/faOoHutc3nf0fsD5NOTBPWIH0ZfrlBRHRHcHr9UqjTZfFK9KHf/rTqPONezpnkwRAAiBha5PkGvU3HZJNUOZHodTi8i8H6nIiTNkNwwHLG7lULxWtFkLmE1aXSG2iZr1D9VI2IAHpUsUbA1LLM2Z/ugEJECRLZac0ok2rq1eqD5kPEmCUsg8EzttRpn5nkzqCtnm4IVv5LluqH9J+NyzV5yi/y6mXhoN+N3LOJpmUddrOab5zd0q12/TSpTMvp9s2/V4Ub0+eCzinIKXv7xzbcnx5IsxU1hE4v9ghVeQYdeY1Stn7OzR5f0Tq2JsufyfkSk0B53yHZAuz/IGGXOWcTpdKXhuRvN6x5qvw5QIEs1TU0BuYz71eyet1SW1lFskYsm2CZH6mSRrwaPLqaJOSlyOlndPo0x8//FC6fOW927M+bV4IPu+1k/Y6pZ3P93mh1DLYKVWH5BOTVHhyQLOsMZT9AfnVItX266dx+Fiu5toQfO65pI792TrnuVGyHtbkC826gq+52rJHe60Zbq+QslNC84OwukhqGfRGve26+Uaz30OvbwNSfZ6gv7xwZVaKVaq9NDLl5zgnTpw4jWWaVvd6nANdUPunyF6TEdryGCIdGXkAKgHgBLreroblkcA5jKvMSP6o5gOviL6zfb71qDxvlGPNqlI4AAirrbDmWbACXWhtqEPd2XKs/VICOl4tCXokrhtVX/g8RCyEpaAE5gVO/KChEX2iiNbiLJQuH0TFmgQAbrTuWYv8wyIAI0w5Fjy+DOhqPoHWN51ofiYLpcvUeSeBqxW7vyxvWyAn6javxPYzAGCCda8VltVGJPLdlbgy1N/s+3t9Rvo4lyYgdXUqBAMAXMdQuwPO4FlGHCj/UiZKLwKAEZaCXJiTgaGz8ru/zXsycdnTgfa9JiQgAabil1F0eC2qxEY8vX8LzActkcsGVyu+U9wIEYBQ/DJKHhtHvhpqxFNr8tEoQnlv8qtYsUhEV/1RNL5pR1XeWlyG9h1lN1p3LseGQ3IJY1xlRXb2MiQM2dF4qBX2Yyfg2JmBxCQzzGv8qxEv2eXOeYRUmJcL/i+SRi8FaaY6gacyayAuMMFavAPCiHwOOeFAzcZdSO+P4nWIsGW/VitKD7TiyeB8NWJH1TONIddKmYjmrSuxqUG+pmUXfw1PmhbiquMEvlPZjLpta3E9YYzv7vdUIX/NbtgBCA+Zsd5iQaLrBJqPOOA8W4UNO5dh4JQVk9ErQPeBfOQ36GzxcDPyTZvkciAlG0U7n0TGoqu4cPI7qDpeh+1rrmNeR33YJ5iIiKaraRUIXhnyV0hXGIUIc6oSsDBRACACECFedgNBVcSvVrWhZJXmg+FGbErOR3PAXE4c/YZysVxXi1/6LjLZyM5ZD+HvMlF+sRQvHc9Fy9bAy4/4KSvafmKDWXlUp6hgPTal5KMZIqoON6NoTS4EJMKypx7VKU6k5llhVjeteAtK/y4T5T0iqk7aUbJmlArumDjRWPwUavSu5oN2NJ6R/zQf/B5qC5RODfjuShwR4exX/85G6ifGuJgrTshnjRm2hnpkCwDgQLkhE6UBM3pg35+jBIEm2M61o2SVEqgVl2DLvjXILHPAUbYTVWs75O8WmFFyqBBHN9ZAPPQCavLN/t+E8MBx8AX5fBcK8b1i8zge23KibqcaBOaiXlvRK96B9Vs/j/wGEY15u7E+swm5SYDnbBWeUoJAU5kazAJAEWz7nOh2LUR6ciJQ2QaLbz0iGjcnIf84gMwS1B/LRXDpNzTmbaA7lwisqUXvQStSFwBAEUpyS5H5d+XoRitKjzlg3Rvm/UMAEcv+4DXp5Kvuwy+gKsxvPWdr8HSDCEBA0ZlefyPmxlxYlm/C0q3NaCz+AawbbTBHubU+aYV4+QhwfoEFWzaqj6IWYcdqebk4U4PmHiuK0mJdcGSei+XYWawXMntgP/S0Ug4Uoa2zAmalQTh7swUrNi9F/vFGPHfYiux94ylviIhuv2k6fEQMEvxVpqueMQ4sqAmICgueDGxpXGDCk/nyXZLWs90hraPZTxf6gkAAQLIF1gLl7+Nd6FOTlGxGYbEmCFSWvX6D8vfJrkmp7DkbdiO/QYRlnSXifIkLePkijLlpyHPVreSNVCyO1IbjuYDW/Uou2vosCgMCugSYtv4bsgEA3ahp6/Z9k5hVglfyBADdKC2qQTfC6KlB8b5uAAJyD5TAEvz+bSw05UL6M88GtfYbkbujUAnYmnGiQwTgwYUz5cp+sOLZAlNgpTDRiPSU8Tb1eHDV7Ybb7YbHO85F0bRXuEMNAmUJjz2JLUoAJHa8FXq3XSO6st+Cwp0WAN0o/eZR//KGG/FSsQNAOnLzgn+vOc/TirAl6EkWY5YVhQAg1uHCm0E/9V6PkBZVAtLzilC4MfB9RGPmk76yoWsgiug2FiMOlBeWwiFYYFkT9J2mzEov3uILApVUwZJXCAAQj1xAP4iI7izTKhB8QPC3Hfa9G11B73H7q4SpS6K5ixjK3d8Nu/J3zcZFIYP9rixW1hFVoJmIhb5kOCG69NIsou+iHfazdvxK3UwRUXYeEYPBOuza2gyssuGbz2SEfp+yHoV5SlX2u99B3UUn3G433FcnPCU0bSVCSFb/bkbfO2NbyuWhLvmPjUY8EGlGUfRVNs2m9NA74ElGrFBnveTUNLwIyC57RX4U7uJubMrahdLKo/Ddu3YcRVXZdqz9wm44AJh2fg+2nHDlQSkyg/J4Ul5z6GxXhnzlwuPpy0K//4QRaq5qHhwCcBnioPLBGhPSxxOEhlWODYsWYdGiRViQYIBh2QbsOugAR1ONFwIWL1X+bBdxJdxso5X9Pq0Qsp6HLQ3Ame3YfUxu0LAffA7NAISCb+LZdcGNhP3oalP+7NmNlUF5ybBoA2oAACLgBWBI8DWINH+3EXaXfH3xuN0QXaOcuV4P3EPdsJ+1w97Z5zvPdRtBjucjKSgtmWWRF68sDfZ9OSjvEZB74HlsCS6U/k8XfqH82V28MqR+sGijvLWTcg0nIppk0+rRUOPDZgiwQwTQ2NmH7+WE9hAWqBvnW9S/C7Hib8e2Xo/nqj8Nwe8UatNnMkb12Icc0NqDPnXDcbAULx2Ux2KbdJ5ulP/zdrTCgtr/LEH6++U6MwnIPtyJtuWlKK8/ge2P1WD7bUgaTScJSF6eDSgPS5++0A3bY7G+J+hGf7dyvqcIWBxp1vedvuAtccE8nRkegHEjgJNhfn+3/Ci480wNys9oPj9Tg92+/wuYNwElm3jZf78l8aM6OT/JiFRA85j5H+FUnyxLnAe9rRs/I0xrkuVl/2kI9outqHmmFb8a6UT7nnQ+ljbjaRtuwoiq7Nf4qAmFLxaiZmMNml+ug+NhAVWVIgALbM9YIHSGvi/uUSPQ4HdaA5KaitT7AAhmbCkQ0HhIBC6WYq1Qqj+/dvn9zajaV4qaY6Hv80808fhTyK8UIRS34Xs5yWg+HjSD1+NLg/CQGalhCrjElNTIjWBERNPQtLojiLQMWNVrSmUVjo4SMLlP1aGqR/nPVjMyxvjUlbDEP+Bv9ostaDvTpjvVPmOK6h2+K6IaBCYoXVM70bh1OTKfqUHriBnW/fVoOdeLYZcLLXvGlubIrsJeuROlFwXkNlRH7lDAICBjbToS/yK/72HZU4+Wg9bJSBRNU0aTxfe+WveBOrTq3MWOrB9dSuCWnZ4aORh5wH8X7cKQXhXvCpy6QWA3qr6yCXVvikBaEVoGXXC5WlCifr2nBS6XC73HCpEOEfYDG7DrcLgH52zo8Hrh1UzDDdkhc2nLBd0nFIad6Av8BYyZyp8DlyepAvtVVKpl0rkBDByR0+3YWwc7bwvGATfEIeVPATp5LYayXyMx62uwrQPQU4qd/1SDVgDCniJs0f295jxf/jXUhrleth2rRnYKACTCcqATbQcKYXlIucCnmGBeY4U1L7TRyXOxHGuWb0LpsT7MyylC7fE2dA664OqpRWgu1cipx3BQvu4oi7zdnoFGPPdMI8RVNhzfG+b9Pk2Zlfp0bdj6QdPB7EnpwIaIaDJNr0AwwYzCA2pHCa3Y/s+laA1Tm3K/UYX8As2Yg09nj72jlb9dIb/TAOBo+4VxPt7RjfPqLYI1ZqQLgKf9u0pPZGZUt7ehtjgXllWpEBITsXAymvA7yvFcmQNC3suwjdZr24gDVYW70DwICMX1aNqXC8uK5ElIFE1bKU+isECpoIk1eKq4Dn1hggrnyd3YfTwwwPK0n1A6pDDDsnKUx7OTUpHhe8fpV6HvOPX/yncvPd2U6us0RTz2EnZfBAABhS+WwJKciMTEhf6KW8JCJCYmIjXHhue3yh+1FuxG43Dk5ESkKRfs3X0h5YLn0gXf3cDC9GUABKSalIptTyvO34YXhvzvTV2Ge2Ty10dTzHUBdvWOVV4GQh5YjqXsD2DElhdsSAfQ3dMNIBsvF4Tr+ERznrc3wx7NEy4GAead1WjpGZaDtP4OtJ2phW1dcBo1HbftbEHvsQpYN5qRnpyIxHsn/h573Z7n0CiaYKsqCuoRXENTZtlP2iO+l0lEdKeZXoEgACHHhpeV99ZwsRwbkpZi0546NJ+V36mzn6zD7ryHsXzVbiVIFJDbUD++HsQSzdhSJl/YxMp8PHW4WxmEFoBHhOPIbmx4bDuah0J/euFwHey+OyhudFe+gN3KXUrLZjOMANzuy/rrHWpEXcM40h2OKEIUcvHKvtxRWig9cFTulHtwHHcPi3TnSoSl7HsoVFr/xYbteHj5Wmw/2CznOTXfbV6KpTlVqNqcj91nlBYalx3l36iSG2TW5cI86h2IdGx5TmnXP1OK0sP+937g7kPd/nIlEMzGszlKZXPEjqpiJeRaZ8PXsiI1+SQi++kKyH0pNuO5g/axN+xoy4X9L6D8jKZVSmxF+TeVd4PSbNiyRk5TelahcnfVjvI9VXBoyoa+Y7uxIascjgkL2NxwNPx3ORgVUiFMyjuJNJV+8L1GONUT2OtEc9lLkB/UFFCyLiO0vI667A+VsMqKZ3Pkv02VzyM3Kfy86TnPKg0QSoPtsD+XuftbUZWXiQ37HWPIe3+EeEnvczccDXWY6P6sRVGEad9BFIXthRgILLO2I39vK0TfMXGj70wV8h/bgPKLfEOQiO480+odQZkRuUcuQUjehPx9dohworlyO5or9ee1Hv4pqscyVlGABJieOQjb2RyUnhXRWLASjQXB8wjAmT5kF6QGfCqe1X/nQcirR7Uy1ISQboYFjWiFHbs2ZqJ746NAZytOn72K1NUmYDDcKE+lyDSEe5+iGfnJBuQDsJ3zBg6RAQFFR76H7AgXcgBwn9qNHKWHxcJDtvH1sEh3tkUWVJ9pQcK2p1B1VgREO+qesUNvNEnj1n/DjlQ7Nhm0w7CYYHtxS1SVT2FzBZrau7HpiBONBQ/r5DUjrMcqlIqoB44Dzynd2AsoKY5iHWmF+GZxFdZWihArX0BNbscYG4q05YID5VlJCHnbSjDDVlMEk1qPTLGiusGOz+c1Qjy1G5nC7qAfmJDxZhFMESuekeiVCQJyK78KM1txZhznkXwsPZIf8rmp7DhKVusd8OjKfn0Ccg92ImHzVaSvGeU94aRcVByzo3tzHZwXy7EhWec9xFUnYN9qgiWmPtyWIWOrAOwXgYNP4XNDT8KSdBnn25vhgBnmNEDsGX0pUVtXi/oo3q3VllmO/RuQtD90HlOTHdZVlpChX4iIprNpd0dQlghzWRsu9begusCC1OCSNcUEa1k9OoYHULt1lHeSorXAhJIznWjbb4Up4K6GgNSsItRevISWoCAQALIPtqB2W6qm8DfCUtyEXx7WtMimWFF9sgiWFACDDtRVVuH0H9JR1N6JtmPPo3CCrxymsuOwjTY4/VAjni6ogQgB5me+h5KId1koLiRbUHHmEjqP22BdFRxuCUjNKkR1+zAGDufCOEfzVUo2Kl47hZJHos2JRmQffh29DUX+d4Z86yhCfc/rqM1R1j94FC+VyY0VqdteQaFu5TdYAsw7X4H1IQGAA7u/1Tj2x7nClgtGmLZWoK2zLWRMQ+PmenS2VyA3eNs229DUcyrCGIixUo9J59gG7qZpr+RYW+Djk0Iqcg904tRek+51L6qyP5JF6cjeaIYx3GOSGsacWrzeU4+irNTA4CfFBOv+Fgy8WhFjEAgACTDvOYXqzakQIKLvVA2qDnVj4cZ69Dra8HJ+pHETYyTkov5gtAPThyuzAOMqKypODaC9kkEgEd15Znm9Xmm0mf7geh/z538EH5k3Of3gRcPjdsuPmRgSkRjFRWqi1peQmBh6wdUMSp/dMIymzQLgccPtCTN/yHITkJg4zsqgJg2hdwTpTveey4UF8+dPaZ6D1wP3iPy4k+55PeKG2zsB5/KIG24vkLAgUelcafqKWC7oUbct2vlpUlz785/x5+se/M19H5vqpIzuYjkMj8l3fX1l+0TltcmilhUTeX1Wr6nTsVy4g8osIqJI7pgi7HZXpGJeX0IiorlGs0JIdwzDKBXPBYlj76BpMpZzG8Scf++gbaNpbLqfR6OVFWMR5TV1Skz340FEFKVp+mgoERERERERTZY75o7gtLLACMv+CmQASDROUZOlIRHGNWaYE83I+NupSQIREU2w+1agYn8FAMgDshMREU2SO+YdQaJ4Mi3eESSaIe6odwSJiIhuEz4aSkREREREFGcYCBIREREREcUZBoJERERERERxhoEgERERERFRnGEgSEREREREFGcYCBJNR6P25UtERERENHYMBImIiIiIiOIMA0EiIiIiIqI4w0CQiIiIiIgozjAQJCIiIiIiijMMBImIiIiIiOIMA0EiIiIiIqI4Y4hlZklin/ZEtxPzHNHEYX4iIiLym+X1eke9Ml6+8h4voES3mWHOHHhv3pzqZBDNCLNmzeJ1jIiISCOqO4KzZ83CXXPnIiHh7slODxEB+NOfRjB7zhwkLpg/1UkhuuN5PH/Bjb/+Fffe89GpTgoREdG0Ed2jobNmYY5hDmbPmTPJySEiAMAs4O65dzHPEU0Ag8EA700v8xMREZEGO4shIiIiIiKKMwwEiYiIiIiI4gwDQSIiIiIiojjDQJCIiIiIiCjOMBAkIiIiIiKKMwwEiYiIiIiI4gwDQSIiIiIiojjDQJCIiIiIiCjOMBAkIiIiIiKKMwwEiYiIiIiI4gwDQSIiIiIiojhjmOoEqG7duoVbN29NdTLiwpw5szFrNtsAiIiIiIji1bQJBAHgwz/9CQbDtErSjOP1erEw8d6pTgbFo5vX0POzFlxb9SQefWDumBdzrf8UTolp+MfVSyYwcURERETxZdpFXcL9f4NZs2ZNdTJmpFu3buF3l8WpTgbFo5tXcf47O1F5JRff/cLYg0AAmL9kCa6WP41//823UG5NxfwJSiIRERFRPJl2gSARTS9Xf3MWPz/+Kn7e04crV28AAObeIyD10SfxDzl/j7SPjxbYXUPPoZ0o70hDyQ+z8MCcUeYeeBUn/ufdWF2wGrr3/OanoeCbm7Fjx9fxjUWHUPlFYSybRURERBTX+KIYEem6NnAK5V/diPydB3A+4THs2v8/cOr0aZxqOYn/+NqjGHmtBs9v+wf8e30frkVaTudhlP/sGlY/+294NNztu5s3cOU3r6O54l+R/+//gR/99C18EClxn9qMkvwH0H/oG/jRO2PfRiIiIqJ4xTuCRBTo5jX0HN2DFxvfBh54AsU/+HesfkDz/Zy5WLJqG/7jFQHFhTXob/w6vnFvmDtz13tQX/kqrn3qn/CPulFgDw6t/zpOAcDc+Zg/5xpuRJnMJV/8J6z+0Uv40cFTWP1yFh4Y/SdEREREpOAdQSLyu3kV57+zHc83vo0bi7LwjYNBQaDWx7Pw73lLANxA/6H/wM+vhs5yteMYTn0IpD35BJboPhKaBuuxJvzox6dx6mQTSh6PIa3zH0PWF+bjxpv/iVNvxvA7IiIiImIgSEQq5V2+X1wF5qaiYH8h0kbpiWXJ8s8pnbX04Oe/DO6I6F2cPdED4HNYu2ph2GXMvWc+5s8bW4qXff4JzMc1/Kz1XNR3EomIiIiIgWCMetHz5SK89V68p4FmIvldPvm23pJ/fAZZH4/iRwsFX4cu/f1vBwZj776On78DYNnnkHrPxKbVZ+nnYJ4L3Og4h87rk7QOIiIiohnoDgwEe9HzZRMc6lTbe5vW+z7e+vpTuP7EV/Hg/cGfa9Lz9Z/i8qSm42Hc/y/Ahzuq8ZtJXQ/FFfVdPgCYuxr5X4xyjL6bN/BX9W/xKrRPh14b6MG7AOYv/8zkvb83JwXL/guAG6+jj53GEBEREUXtDgwEH0bajx0w/diB+5+4fWv9Te0X8CFK8KntDwd9cx8e/Jacnk/9y6PjXs/l00WjBpOL11fh/ieO4r1JDzopXqjv8gHA3LVPhO/dM9jv38Xb6t9zAO1AEoN9rwMAUpM/OUGp1DMfQvJ8ANfQ97bOS4pEREREpOsODASnwHs/xQevAvM2fxGLpzotik9vLIHh1+V4r2eqU0J3PvVdPgCYi79/NC36Xw74T8C5n1kC/5uAIt5VIkRh4eQO+b5wkRxo/ubd307qeoiIiIhmEgaCUfjNyXJ4P1uC+6OvH0+++7+Ijz0BXD/Gu4I0Tq4enPM9VpmGZZ+J9ociel73dxDz6EOpmu+u4srvAeAzeGCSx3V44ONyIHjjwxF2GENEREQUpRk8jmAver78FPz9R2zB/T/ehU+r/+2phsMG3P/dZHywoxxe5eN5pQ6kBQR878PjBAyff2zcdwN/U2vCe69qPvhsCT71LfkuY+B35/HOl8uh1s1D0yT79KoteO/VIbCPDBqX3//W/77pPUsgRNuxy7vn8bN+5e+5q/HoSu2DoTfw1w8BYC7u0h02YgLNuUv+V3lHkeMJEhEREY1uhgaCchD413/5GUzr7wMgv3v3zperAW0wiKN4b8cW3P9jBz6tzmOrxm8C5vk9/vpr4K7N940rRZdPF+E9Zwk+9WP9x0s/vd2BT29X0vDL1b4AMaLFyTDgLDzvAbh/tJmJwrgJ/520jwsIP9BDoP4zjXhX+XtJXi4eHeMQEERERER0+83IR0Mvn/4Brn+2BJ9Y7w/eFq//KubhKP4U8E7do7jnu/6gH/eifwAAIABJREFUb/EnkkMX9p7T3yvieP36LK5O+LAP5/FXPhtK4/Gxj8V+F+3qWRz72TX570VZKPhClL2MEhEREdG0MEPvCAL4dXnA45WqmG9a3G/EXROQnMXrqwAU4Z0dJjgAyEFoVdBQFGPxKO6aLj3Y0J3p/iVIBXAFAH4vRvF45VWc/c4BdN6Af+D5kIz1MSz8OIDf38Bfb05CmrVuKk01wsKo72YSERERxbuZGwhq3r8bn4/jrs8Cf/7d+0Da+B4PXby+CovXy39fPl2Ed3YU4a3xBIOXh+BFMhL4WCiNx7zP4dHH5+LsL24AH57H6wPbsGxpuJmv4e3GfajuvAHMFZD1DVuYgecXYP5CAL9/G1euAIhmcPoxuvJ7pbfQ+QsChq8gIiIiovBm5KOhi1euhuHX5fjd6fcnYGn3IcEIeH95bkJ751y8crVuFL74E8lRP0L6m4tHgSfMmvcZicZiLh7d8SKyFgGAiObaU7iidxfv5jX01O3Bc/V9uDEvDf/y8isoWBFuaIiFWPIZOSwTr16bpHTLrrrkQHDZEnYTQ0RERBStO++OYE81HLajmg+eguNVIKBX0Pu/iJXfBTp3fAGO72t/HNRzaJQ+vbEEH+wox3s9X8Ti4N473/spOjW9jvp7/Ax89DOkx1DIvYGG3A1M24X7nzDhPd8jpOF6De3Fn14F5pUGD3BPNAbz01BQ9TxuPPcyfv5mDXYUiSgpzsV/+fh8zL0h4u2LP0f9f55A5xXgM9kvosT6OTwwSm+gKZ9NA/A6+oZ+CyA17Hw3rl2THx+9/lv8b9/o9G/jf/eLSPn4RwEAd82fj7m667sGcegagPlI/awQ61YTERERxa1ZXq9XGm2mK39wISHhbtx9992TlpBbt27B7f4jkj6+GLNmzZq09YzVb2pNcq+fE/K46fiNJT23bt3C7y6LWJh4L2bNnpE3g2eMP/7xj/jIvHm4a+5tftjx5jW8+8sW/OjMz9H37ge4cvUG5t4jYGHyMqx+9An8/bo0PBBtkt49gR3/ehjvLivE96uywrx3KOJUkRWH+nW/VKSi4AffRpbeAm724NCXv45TWI2Sxt3suZR03fjLDXj+4sE990Q7NgoREdHMd+fdEZwin97+M3i+/gW8U2vE4u1Texfu8ukivPfqFtwfZigKojGbMx9LVm9G8erN41/Wks/h7z91GN/vfx19H2bhAd06uICsqtPIGus6Bl6H/QYw9/HHsJJBIBEREVHUeFsoavfhwW99D/Ne/QHemvAhIGLRi/e+j4BhL4impyVY/aT8eGjbxauTsob+X76Ka5iPL1geY0cxRERERDFgIBiTh5H244kY8uFOTwNRdBZmbkbWPUDPiVfx7kQPI3HtHE797Bqw7J+R9dAEL5uIiIhohmMgSESTZ14a8v9tNea+cww/Oj+xvYe++9P/F2dvpOJfisO9f0hERERE4TAQJKJJNf/z/4ZvfGE+zn77v2PCYsF3jqG8/gqWFTyH7Ekco5CIiIhoppp2ncW43v9gqpNARBNqPtIKvo3iq8+isuwUvrs/a9ShJyK61oNDLxzD/Pxv48UvcsgIIiIiorGYVoHggvnhBqemibLAMK0OOcWLOQJWf70WC3/WgrddN/BA1GNQhLr27rtYaH0FlauXTGACiYiIiOLLtBlHkIj8pmwcQaIZiOMIEhERheI7gkRERERERHGGgSAREREREVGcYSBIREREREQUZxgIEhERERERxRkGgkRERERERHGGgSAREREREVGcYSBIREREREQUZxgIEhERERERxRkGgkRERERERHGGgSAREREREVGcYSBIREREREQUZwzRzihJEm7dkiYzLUSkcevWLeY5ogkgSXI+Yn4iIiLym+X1eke9Ml75gws3b968HekhIsVdBgP+6vVOdTKIZoQ5c2bj5s1bU50MIiKiaSPqO4IfXTAf8xISJjMtRKR4/6obc+fOxcLEe6c6KUR3vD9fv47rnr/g/kX3TXVSiIiIpo2oAsHZs2Zhzpw5MBiijhuJaBxmAbjrLgPzHNEEmDNnDmbPns38REREpMHOYoiIiIiIiOIMA0EiIiIiIqI4w0CQiIiIiIgozjAQJCIiIiIiijMMBImIiIiIiOIMA0EiIiIiIqI4w0CQiIiIiIgozjAQJCIiIiIiijMMBImIiIiIiOIMA0EiIiIiIqI4w0CQiIiIiIgozhimOgEqr/cm/nLjxlQng6apOXNmI+Huu6c6GUREREREM8K0CQQB4I8ffoi5c+dOdTJomrl58ybuveejU50MGq+bI+hq+QmumTYhUxh7Ph/p+wl+cnkFvvL4JycwcURERETxZVoFggBw/6L7MGvWrKlOBk0jvxevTHUSaLxufoCOygKUX/4K6jaMr7FnwZJP4gNbAQoGK1G5/UEsmKAkEhEREcWTaRcIEtH08sHbv0Drj1rR2v0mxA/kx7fn3ivgocc2Ycs/WrDiE6MFdiPoOliAstfSUfY/vgRhzihz/7oVTT+/G/9t5+PQvee3YAWe/tZXYN1WjJL761C9URjLZhERERHFNXYWQ0S6Rn79E5Tlrcc//GslfpmQiWe/fRLt7e1of/U0DhV/Hn+yv4Ln/nkjCo68hZFIy/lf/w9ebBnB4//XLmSGu3138wbEty+iqdyKfyj8Nn548k28HylxyV9B2VYBbx0swQ+HxryJRERERHGLgSARBbo5gq4jBfiHwlfwv/DfUNJwGoeKvoQVS5Q7f3Pm4pMZ/4pDh57Gg3NvYLChGCUnRf1lXe/CD/7vVowkfwV5ulFgF15ZswZrnliPvKe/hR9e+C2i7TLqkxuteHzub/HDAz9BmLUTERERURgMBInI7+YH6Ki04rmGQdz4my/hpUPP4vFwT15+4kso3vpJADfw1sFvo/WD0Fk+eO0ofvJHYEWOBZ/UfSR0Bf71xydxsqUd7adP4htrYkjrgkxs3LAANy79AD+5FMPviIiIiIiBIEXv8ukiOGp7x/DL9/HW103o6ZnwJNGEUt7la/sAmPsgnq58GitG6Ynlkw+vUjpr6ULr/xd8X+63+J/HuwCsgiXjY2GXMffeBVgwb2wpfnC1BQswgp/8rCPqO4lEREREdEcGgr3o+bIJDnUaU2BCoeT9GjZY66nGO98H7tn48BiWfR8e3LwF121FeOu9/5+9u4+K6jz3//8m6CgOIUVTRRN8jl/BWso5GilqS0wTj0rEh5oYTU4bjUaaaFpjvq3Yxod+g02rpmIbjUbTnkRrmmhFQaNpLK3GgNIfmdqAS8UIJDqgwpEwwQxgfn/M8DTMwIAMA8zntVZWhtl79r6G5Qz72vd1X/etxCieZJvLZxvW6z9nGXF3ufGi4JCahi7Z2efrJ2MFGRy6CITdS/gdrRpqrWH3cr8BrH//ByfLPXQOERERkU6oAyaCI4nYk07UnnR6T7zVY9lGqjIPNtqWQor2k7lmFwEvbCC8d/1Nlw8urU3Ka/5L4oLjMSKWMGA+lMY72SbeVz2XD8AwgXnT3Fyjr8pam/xdvkbd6tCyMx+RDwSOvAeP9fX0v4cR3wKsJ/n4oqdOIiIiItL5aPkIadKFfYlUDkvgrggXOwxLYMDaqfRt4jh9Jz9B0fYFFB+cy+DJvVo7TLkF1XP5AAwTJ7nu7unos3zOVz/2h7oLSZzLzgBgxCBPLvweSMjAQDhZxsfniyHMdQmqiIiIiNTqgCOC0qaK9lN8GAJmN53oNW0kvedHU7l9p0YF25XquXwABiaNi3T/lWezah4bhvanNg0zk2/PEEN6enbJ9569bYnm+bw8j55HREREpDPpxCOCpzHNXEDdaUNd5qcyanKvhtvOTiF9e/UPc+i9ZwmDb+lc0QRtrltGadvOC6l03T2F0rP2pyduI2rhyGbsY3NhaxRFh2t/DnghnYia0bqWHwegQc+OyxepZA49XY0GNlPfUTF8tj2NG0VA7yZ3l7ZwJYtjF6t/iGTEUHdfaCYro7ZBzLiRI+psK8Z8CWAoIR5e7z2k3wAgG2upBSv1RyVFRERExLlOmgheI3v5AirmpxLltATRNs/Qtt8UvhhfnSC29Fx/4/Y96VTnShe2RlEUn8QFh4SyfM0UW0xre9nm3cUvwDSmbhLX9D4XtkZR9EkCA/bYR+iK9pMZH4XphYbH4YV0oiJw7zjVCaSDy59dhGExDRPEus4mkjczkerxmACHWOrpPYiuJFJxGSWC7UXd8s47+hPibmOXgmMk59gfGybwnXvrpmBfYr0OYMDgdNmIVuRvP699jqKH804RERGRTqFTl4ZWHvuAyx4/Sy/C19ZP+AaPmeN0z9oRSaD3VHpOhPKM0+7vU7Sf4sPRBP2kTplmI8epScZ6D6Jr3Y3OjuNC+acnGt3ed/IGouzNe6L2pDNgfjTla5peKqLiMzXoaTeqqG340i8Ed2fZZafsJN/+uP8PH2NcC5eAEBEREZG210lHBHsRvjaV7OVTakeq3Gxo0hKXDy4lb7tjwuQ8GWzgk0+4zMjG46q3zwlK46NId9ynOR1UL1+kkoF0d2NELuDuaPjE/UP3nbyCkmNTKM04DRGul5roepeaxbQbvXoSAjiuAtio4qPsPFBme/z1OBY/5MmGMCIiIiLS2jppIgi2ZLA6XbKVgOYtB1o7GaxeX29zeu2cQFMS6WvcfP2gQU3HU28fx/mHLdB3IF1wb55e37sGknf2Iu4v0XaJirPQZXw/55uLPqGCaHp4IiOXlukzgHDsieAlsxvllcUcXbeODCu1C883GA3sRc+7gM+sWKs8EHNdVfbxzL693B7NFBEREfF1nbo0tFYvgsdHO32++yA3SkhNSa7Xx2vgNKY1u5oOyZRE0eHoxhdod9yn91h6DDtB6cv7b63ktfcgunKCLzKryzMbNtap0XcgXdjF502Uela7sHUB5cyhp4s5l5cz06gcFkOw5ge2HwH38p0H7PPsrh8j42xjO5dx/s1VrDtpBUMIcb9MdLHwfCCBwQDnMTdrqLH5zJfss1ONRjWKEREREXFTxxsRNCWRXi/RWkD6Yajf7dNZYjOH3nsajgYOXriNz2cuqNPspJldQyPmEjRsSp1yzWiCXkigYs3FBrtWbnfsTrqhwXka38dJyatdow1aGhhJxOYEMuOrzxVN0OZUur48hQrHXXtPpefERIp27+dyRMPfX4POoxO3EbXHVXJ7jZJjJ+gyfoVHSnSlpQyMe/pF4j56nuQrZt5+JZlJ6+MIcWzyUlVG1vZlrPjzeawBkTy1fiWzhrlaGqIn/Yca4N9WzMVlgOeWkCguss1UDB+gf1UiIiIi7vKrrKz8qqmdrly9htHYgx4BnusGUVlZRdHVq9zdry9+fn4eO4932BLTivmNdSd1Zx8vKdpPZnwiXZuVbDZkm0s5sNnLc1wyF3JH0O1079at5SfvYIquXCUw0OjRz1wDV46z/ieJHDJbMQybxcrlc4nsF4jBaub8h4d4fcfbZJhh6MyVrFo4pmGi6KDsvRVMeymDwIeT2Lcw3OV+1rIyW/loeT5vv7iEnTkA4czdlMCsfrYE0hAY6KL7aBlHE6aReDKQWZv28VRYC9+7dGqWL77gi/IbfL2XiodFRESqdbwRQWl7vacy6oWLpK9ZSnZL5yfWzKVs7hqN0ma+Po7n/vhnZv09mTcPHmLTc8mYi60Y7gih56Bw7v/+iyyeHEmIm/WXgcO/RX8yyD99DjPhLuYdmjm0/DE25Tg+n83OxY+xE4BwFr+ZRJyzA1Sd4+OPAMO9jBjo5vsUERERESWC4qaIJQyYv5S8fadhYSPzGp26RvbuXQS8kH5rTW7E8/wD6T9hLgkT5t76sULHMGngq7yac5Ls63Eu1icMIW7TX4lr6TnOnuR9Kxge+A73avkKEREREbcpEWwT1QvY3+o+3tV38oYWzu2r28FVfEd/7v9+JK+uy+DQh8VM+K/WL8vLTjtEGYHMmjJOjWJEREREmsFHuoaKiDf0/O4c4u6ArHcOkd/ay0iUHWffgTIIe4K4b7TysUVEREQ6OSWCIuI5AZE8sWQChos7efN4WaseOn/fDo5aw3nqZ3FNrHsoIiIiIo6UCIqIRwV+dwkvPhTI0ZeSaLVc8OJOVv3BTPgzCcxyuo6hiIiIiDSm3c0RLLpy1dshiEirCiTymSQSSpaQ+PNkdjhbo7A5yrLYtHwngT9MInGaxgJFREREWqJdJYJfCwrydggi4gn+IUz4xQ6CDyRz/oqVEHfXoHCirCCfngu2kDShfysGKCIiIuJb2s2C8iJSyysLyot0UlpQXkREpCHNERQREREREfExSgRFRERERER8jBJBERERERERH6NEUERERERExMcoERQREREREfExSgRFRERERER8jBJBERERERERH6NEUERERERExMcoERQREREREfExSgRFRERERER8jBJBERERERERH9PFnZ1ufvUVVVVVVFRWejoeEQG+AioqKqjo2tXboYh0eFVVVdy8eVN/w0REROrwq6ys/KqpnQqvXKWqqqot4hERu65duujCVaSV+PvfRlXVTW+HISIi0m64NSII0KNHAN26dfNkLCJiV3q9FIPBQODtgd4ORaTDs35p5caXXxIc/DVvhyIiItJuuJ0I+vn54efn58lYRKSaH9x2mz5zIq3B9vcLfZ5ERETqULMYERERERERH6NEUERERERExMcoERQREREREfExSgRFRERERER8jBJBERERERERH6NEUERERERExMcoERQREREREfExSgRFRERERER8jBJBERERERERH6NEUERERERExMcoERQREREREfExXbwdQLWbN29SWVHp7TDEztDN4O0QREREOgTrl1ZvhyCtzO82P7p27ertMEQ8qt0kggBlFgvdu3XzdhiCEkHxgCoLptQDWMbMILpPy/99Wc6kkGKO4JGY0FYMTkSk5b60fon/bf7eDkNaSVVVFd0Duns7DBGPa1eJIMCdvXri5+fn7TB81vXSUqzWCm+HIZ1NVQknXn6GdYWPsnnKrd1kMIaGUpK4mGcvrCVxXhjGVgpRRORWBAQEEGjs4e0wpBWYC4u8HYJIm2h3iaCItC8lF9I48s5hjphyKCyxlT8ZgkIIi57Bw99/kIh+TSV2FkxbniHxeAQJO2Pp08RNc8u5w+x9vxsxi2JwOuZnjGDRL2cTH7+clXduYd3UkJa8LZE2UkLar5/jjbMQeP/zbHw0zNsBiYiIAGoWIyIuWM6lkPjENB5/5rec6D6WJb/6MykHD5JyYB8bfxJN2d9fYcWTD/PsGzlYGjtO5mskplqIee5pol0N31VZKbxwir/8+ikef3Yjb+3Pprix4AbMJuHxPpzZspK38lr+HkU8ruQk76WZKbxkJvetA5wo93ZAIiIiNkoERaS+KgumNxbz+LOvkMl9LHt9HxuXxBIRah/58zcQOuZJNm76EcMNVnL/tJyV+83Oj1Vu4o11h7EMmM0jTrNAE1smTyb2oWnMX/prdmcU4G7LhdCp/02MoYC3fpdCYUvep0gbKHh/LyYMDB8RBtYTnMhSUxEREWkflAiKSK2qEk68vJAVf8rFemcsK3/3LDF9XOzbL5ZnHwsFrJzZspEjJQ13KTm+m5RSiJgxkVCnJaERzNv9Nm/tOUjKvrdJmNCMWI1jiZ1ixPrxH0n5uBmvE2krVTkceacADNHMmD+WUKykpf4NJx8VERGRNqdEsIO7sDWKzIPXHJ49jWnmUrI111maxT6X72gJGMJY9KsfEdFEJ5bQb4y2N2sxceSY46hgAWl7TcBoHhgT7PIYhiAjxoCWRTx8/ESMWEg99IHbI4kibcWacYDUUjA8MJHo4fcxPRLI2ktagYsXlFuwlFqwVjnZVmXFUmrB4qK01Goxk/uvU2SeKcDSxIfBarGdx9l/Ts9dff7CXExnCrA0cgKri+PWPbZtn0aOYan/PqvjdRabs22NHr+x37HtgFgKcjBdMLv8XUsrKdpP5swkLnjq+KYk0pfv57Knji/SCXTAZjGnMc1cQM3388RtRC0c6c2AvObywaUUHZ5D7z29HLaMpPd8yItP4sKeJQz2SnTS0djm8tnGKkIf+TGx/dx4UXAIocAZ4MyZXKxTQ6hpHVNwiiN5wPDRhAV5JGS4ZzT3GfaScvwDMp8eS3QLE0qR1ldCWmoaVoxMj4kAYOz9o0nKOsXud3OYvqBh0xjTjlmsSIXYFw+yKNJh479e45EVKTBlLSlPR9Q8bTmXwsbE1zhRWCfxMYQQvSSRhAnOGimZOfKLeWw54zzqBueuKiDt978m6d3cejdbDH3GMi/hx8TeU/dukYkds5eT4vzQ9mNX7xPLiwd/RITDPpasV1i0IoWSmvdZHW8Yi15fT2y9CgVn2xo/vsvfcamJt9Zt5K1Mc/33ec8MEhKeZJSryohmunxwKXnbT9h/iiZo8wbCe7fOsTuW05jiE2F+queuUSLmErR7CnlbB9HXR68TRZrSARPBkUTsSQdso2G3Nuh1jezlU/hifCqjJjsmU+2cKYm87RC02Xmi13fyBso/jaJo+UAC1k6lb5sHKB1K9Vw+AEMMj091c42+Kis1i42YSygBqq+XLOdMFADGbwyhla6hGvIfyvBvQkrmKXLyIHq4p04k0kwlJ/l7FjDgUR4cYXvK+O0HiTGcIi31ACceC7v1GxdnXmPe0r1U9BnNIz+ZTcyY/pB7mDdefo0T655je7+dzHfymaiwAv0msmRBND3tz+XuX8kbWQ47VplJ+dlitnwMfcY/Sfwj0YTdWUFBxmE2b9nLlmez+fTFrSyKdCwdiODxlTMY4vBs8MAm3k9hCitXp7R96azFxJZnlpNy1cCQ6c8S/1/jCDWYyTm2m81v7mXVUzksemW9ezfHmtB38gb6TsY2GhafdmsHMyWRvgZ6d7gbvtfIXr6A8onbiLqVa6+i/WTGJ1I5LIEBTq9zehG+dhummQvIvLsDXueJtAGVhnZI18jevQsmPtHoncTB0xLocjaRIlPbRSYdU/VcPrCXsbm7ON+lAnKrH/tD3YUkzuecAiBsYP9WitIZIyEDjYCFnFzNvJL2w9YkBoZPiq5dBiXANq+11ZrGDH+Udb9az+bXVvP4A2GEBhkJjZxBwk9nYKSE1PedffkXUngB6BfB2DGjGWX/b7iTJKfk6Ea2fGwleMpqkpbPYNTgEIxBoQx/4Ek2bnqS4ZSQ8tKfONOgzDKU4XWOXf3fENcV4rakc91rXODW1hltiTO7/h8pVw0MX7SFjQsmMjzUiLHPEEZ9fwVJP5+I0ZrDlt8f1tzO1mLaSenZaIKmtXSU7hrZy6NIfxl6TGxq35H0nh9N5fadnitBFenAlAh2RO5+ifaeSs+JUL5bNfLSmOq5fAAGHox2LKZq5JXnai80DUNCqb3OM1NgzxBDgj275HvwnbZE80JBvkfPI+K26iYxRPDg+PrlmcOjJ2JstaYxRkK/GdZwbc7QoYQB1tyChh11S0swA/QJpvFPppkPDpmAMB75fkTDffvFMiMGKE0hrRWaNZ3543NsOTeEefMedLGHlQpX8/puRZWJtFQLGB7k8SkNS2mNo2Ywox+QdYQPrnrg/D7HvRvZjbl88EW+GJ9K1NqpdHdj/76TnyCAXRQ36KcgIh2wNNRdDnMJgS7zq0sDHLadnUL69uof5jSvzKK6NGPzQIrjE6m0Px3wQjoR9a6nbWWopWedxVMbLy+k0nV3nf2czIG8/NlFGBZDsBtfooPHzKHo8EU0511cumrig5q1+CIY7ljP5ZIZ06naBjHRI+rOeSqh8BLAEPp4rC7Upk+//kAO1tIyrOCF8QSR+mqaxEyIJcZxFGzERGYP2Mv2rL2kFUxkupMq7CPr5nHKsWy0vNGVNW2qrFgstmLtQFf7lJgpAIb0a+qDWcinZwCGEOp0VwNDhodBWg7nL5rhm87mI7rHkvUKL74DsS+uIZY/sqXe1hBChxngTC4fnChg+vfdLFvnCOuezGzwfWB1zL6vFnDeCgzvT4jTzsahDI8ELuXwaQFwp5unv0UXtkZRdLjOE3XKH+vPM4SimbtqpsnUv65oSu30mJ6fTqk9n5NSywbxOFybXD64lLxjMQyYfZG8NbvszzqbA3mJirMQMLvlc/b6Tt7QzOkuI7l9IhR9eglQeahIXZ00EbTVn1fMT3VRf149z7C15gjuoig+mqDN6YT3tn8hrqnbqMWeBA7aRtRa+5df0X4y46eQSf1zl6+ZYot7bS/7PgswjamfVJZ/egIGPeHeF2HfgXQhjRtFgE9OSJcmXcqvLZkJCiXE3cYuBSdIrW44YYghelTdSy4rFaUABro6vbhqRf5dbf93mKMo4h0WTrybZrspkbmd+Ce3N9jDlowUuGwa0yylBaQlv8Zf3jWRW9J0uaklN4dCICK05Ylbq7KcYvtLtiY4j0cawXGeIhARM4M+7+7mzI6nmPGXEILtSXLZVXOTHVI7ossHl1L0SQID9jif318zz7CV5ghWbp9C0cRtRO0ZSfVN6c8OjqWv/drkwtYoh3hs+6TjcKP6bCJ5a+bQe086g6tf9/J+LtdNKos+oYJoerRx44KAu6Ph2CdcZqR6JojU0UkTQZvKYx9weXJbNEqpf9er7+QnKNq+gM9NSyCC2lLOn9T5wuw9lbvmp5HnEGO9u3m9p9JzYiJFGachovq117jxCTCoOfGdoOIySgTFuSpqu+T1C6GxaTx1nXn3T1R3wQ997FF17BQBKDnOe5lAUBgxMUNcjFAXYtp/igIXTWMeXLajYdfQrFeIXeHQj/NSCst+9Apn/Ifw4A9WsGRMOKF3GjH4m9gy2Xn3zvM5tnLPwQNb9vbqqbrFLKzKTMqqFzkS/N9sXuSk/LTa8P9m+6sRpBw6zIfHz2A2hhIRNoTBw/vz6Tu/JsXp5K8HWfaak66hv5/MitTmhVnhjWTzbBolRVPp2xZ/t+uN7tnm1NWlZUiuAAAgAElEQVRcmxTtp/gwBLxQ91pqJBEvzCF9zd+4sHBknSS0fkXV4GkJFMc7vI/LF2sqp1xpMPrYWt1Vz6o6SsRRJ00EexG+NpXs5VPIm5lIHjgtdfC0is+uQUT1aN9Aujv7EnPni+mTunexetF9EJQ2K5JouuoWmLjSsyd9oOFcosaUpLE71WJ7fGcsi6a4W64l0rlVN4npE/djljzq6nNh5UTZwyQeTeNE5o+JHt+SgmYzKete4Yx1LMveXkGMO1Nxyz/gvfesMGAsEU2WOA5l+ChIyczkTB5EDHDcXoIpMxcwEjasJaOLFVxI/Q1vnBvColdmE9pU5UCfCGJ/GEHsD+s+aSZlfwtOXe+4QwgLgjNnssktj6WP4w2tqhxMGQCjm1E2f2v6Tt4ALCUvPgpbj3QvLDNR79rE1TXERTeqjRxuRPcdSBcuNnrqwQvTGbywOcG6adhAdL9SpL5O3CymF+Fr04nak07UnlSCSCSvjRcW7XqXG+Wm7nwxDRpUL4ENuDvanhy64fJFKl0loSIAvUOpKU67ZHajgUUJaS//lkwrtQvPN/hH3JPgfuCxBg91VdkXsAgJdns0U8QjaprEhBI7rrGbIwZGRUdjANLebWnTmEI+vQAQjGM/JsvHp3DaL/TdvaRZHTqZumRk9AMxGDDz1ltpWBw+x5asP9mWmxjwKA+2aNmWv/HGjly+ueTnrbIsQ8uF8WBcKJDGG+/kNthamPqafb7ng0R7aj1UJ/pO3mC/fklnwHwojV9K9q2tl9U8biVN7lxbOCSRvQfRtTo5bEO2KTWDVBYq4qATJ4J19SJ4fLTT57sPspeQNvZyUxLpM6NIn5nkVvvhC1sXUD4sgd7VNSkR9xHALoq2nq7dqWg/n20/QcDsRkYpTUkUHW7YHbTvXQPtZSNuxJKxCybe18HWGJI2FTCa6An2EYnSE5w619jOFnL/9P9IyrSCIYTYlWtcXMQFYgwGyKWwWUONzVd4yd4t1BioRjHiVdVNYoicQUwTmZZhzENMCQKy9pJW0Pi+zoXxzXEG4Ag7tpyioNSCpSCHI9sW8/hLJgw1SUsJuRmnOLJtMfHbcuDOGTzppDumM8bxT7NySjDWtF/z+NKNpKSdIjPjFEfeWMmS1SmUGMJY9IsZbiSVzlgxPrCa5yd4//ZN6MOrWTTCQMGfnmP+C//DkYxTZGakkZK0mPgtOVjvjGVl/Fivfb/0HRXjvHyr70C6sIvPG10iyr7UwswoMt3pmul4bdJ7LD2GnaD05bo30k9jWrOLLvPnNnJtcY3slxOpbNAdtB9dh0F5xmlXL/SA03x+GALGaFF5EUcdrzTUlER6TUcqgAWkH4b6tekNO4batjdMugYv3MbnMxfUlpA2t2soACcorSnhwFZvv7buF85IIvbYFjVNr1P33rCzqG3Sdv0OphsaxhIxl6BhUyjddxoWNvbFZv/ye0FfftIYA9Hxq4n913JSrpr5y9YUHvxVbMOW9FUWTH/8GavfycUaEMH8X/2c6fe4qkcLJnSIAT62Yi6xQBON6m9FyVVbIjjceWtDkTZSQlpqGlYMPDj1vqZHp/3DePCRIaRuy21h0xgD0fFreaRgOW/tX0n8fsBgZPiEp9n4ejQFLz9M4iWAfN5bvZIUwHDPDFb94kmGu93AyUjEoq1sDP0963b9jS2/rv4DZiB0zGxWPf3fjGphF01Dnxksm9fIvMC25B9C7K+2ELJjIxvf3U1Spv15g5Hh//Us8fMnMqRVAm3YPbz62qFuf4CGc+Rs1wsNSkOrew2sqb3+aF7XULvDda9Nahvf2TiZauPyPLsadDBt2LCvF+Gz55C+5nWyp7Ww3LXBdWCiPTYXJbSmv1HOnNqb8yJSw6+ysvKrpnYqvHKV7t270a1bN48FcvPmTf73f69zd7+++Pn5eew8rc6URPqai61Qv29LXivc/RJ347w1nb6aMTfyemkpVmsFPYw93I5cWt/169fpERBAV0Mb3oO++gFJz/+GI4VWDPfMIGHZo3yznxGD1UxuxhHe+ONeMgthyPQVJMwb3TBRdGA5upJH1p3C+P31vDXP9UWu1WKxlY+W57P3ped46wxAGI9seJ4Z/W4HoKvRiMHp+SykvTCLdZlGpm94m/ktKlGTzs76pZUbX94gKKgNa/vaUrkFS0Ujn5NyCxZ/I8Zb/Tpp6jydhO07qSvGIPd/YZ9//jmBxkACO9TfzjodzRu9qdw025IWA928kd56521aM6+t7MyFRXQP6E7Xrl09GJuI93W8EUGxiVjCgPlLyYuvu0xFrcsHl1J02PkoqIhTd45lyWvfYvqxA7z17hE2/yyFwhIrhqAQggcOJ2b6auL/K4I+bl4bGe+JIJRTFPw7l0LCXCzrYObIL+ax5Yzj8zm8tXQebwEQxqLX1xPr7ABV5znzL8AwmrAGzSxEfESAEWNjE7oCjK0z8tbUeToJg9GoMnOP6kX4WluVVObdt7p8V2NsS4mVT9zmYikxEVEi2IH1nbyB8k+jKD44l8H1vuROU7Qdgjbf2tpC4oP8jYTGzGZZzOxbP1boaB4c8Brbz5wipzSWPk4HY0KI3XCQ2Jae49wp/mYFw4SxjPKBC1QRkc5hJBGbE8iM38mFyR66VjHtpJQEBnh81FGk41JpqNSj0tD2wSuloR5Q8t5yHn/ZRMRPdvLiA63fFOLMtlks+wtM/83bzB/R6oeXTqLTl4aK13XM0lBxRaWh4it8pGuoiHhD8LjZxAaBae9hClp7GQnLB6SkWmD4D4hVEigiIiLSLEoERcRzAiJ4/OkYDHm7eeuEpVUPXbD/f0izhjF/WayL+YciIiIi4ooSQRHxKNtaZEbS1v+eVssF83aT+EYhwxc9z3SvLkYtIiIi0jG1u2Yx5qIr3g7B53Xx78R9wcULjEQsWs+ykudYtyqFzc7WKGwOi4ktv9iN8fH1rJ7q3sLYIiKe9nlZGZ+XlXk7DBERt7WrRDDo9tu9HYKIeIJ/CDHLtxKceoDcq1b6uLsGhROWggKC521iXUxoKwYoItJyAd3VtlhEOp520zVURGp1lq6hIu2BuoaKiIg0pDmCIiIiIiIiPkaJoIiIiIiIiI9RIigiIiIiIuJjlAiKiIiIiIj4GCWCIiIiIiIiPkaJoIiIiIiIiI9RIigiIiIiIuJjlAiKiIiIiIj4GCWCIiIiIiIiPkaJoIiIiIiIiI9RIigiIiIiIuJjuri7482bX3GzqsqTsYhIDT8qKirx9/f3diAiHV7VzZv6GyYiIuLAr7Ky8qumdrpy9RoVlZVtEY+I2BkMXbFaK7wdhkin0KVLFyr1d0xERKSG2yOCX7sjiB4BAZ6MRUTsiq5cpUdAAHf27OntUEQ6PMsXX/BF+Q36hfTxdigiIiLthuYIioiIiIiI+BglgiIiIiIiIj5GiaCIiIiIiIiPUSIoIiIiIiLiY5QIioiIiIiI+BglgiIiIiIiIj5GiaCIiIiIiIiPUSIoIiIiIiLiY5QIioiIiIiI+BglgiIiIiIiIj5GiaCIiIiIiIiPUSIoIiIiIiLiY7p4O4BqlZVVfFFe7u0wpJUF3R7o7RCkvagqI+tAMpaoWYwLMbT4MGU5ySRfjmTuhP6tGJyISMuVfl7m7RB8gp+fH7cHGr0dhkin0W4SQYAyi4UeAQHeDkNayRfl5UoExaaqmOPrFpF4eS47Hmp5EggQGNqf4jWLWHR+HesWhqN/YSLibV9arXTt0q4uqTqdr776ii76HYu0qnb3ieoZ/DX8/Py8HYbcIqu1QiO8nURx7lEOvXWIQx99jLnYCoDhjhBGjJ3FnEcmEXlXU4ldGVm/W8Sqv3+LVX+OI8S/ib3PHuLtI924/5kJOB3zC4xk8dq5zHtyGQm9d5A0LaQlb0tEpFV169aNQGMPb4fRaV29VuztEEQ6Hc0RFBGnys4ms+qxyTz81DqOdR/Hc+v38de//pW/Hj7IlmXj+fxvm3j+B9NY9IdsGiuKKjv5KqsPlDHhp0sY52r4rsqKOTeDtxPn8fCP1rNz38dcayy4gXNZ9cMQsn+XwM6LLX6LIm2gmKOJj/HYDx5j0ZvZ3g5GRESkhhJBEamvqoysPyzi4R9t4iT3k/DmQbYsjSMy1D7y52+g/7efYsuWxYQbrJx/cxkJ+8zOj1WexesvHaJs4Fwec5oFZrHpe9/jexMn89jitez8MB+rm2H2nzaPCYZ8dv42GRdnF/G+4gwOHTVj/szM+V37OK5CCRERaSeUCIpIrapijq+bx/Nvnsf69The3PIcE1xVXt4Vx7If9gesZP9uPYecVO0U/30Xydch8vuT6O+0JDSSp/bsY9+Bv/LXg/tY+b1mxBo4jmkPBWL99+sk/7sZrxNpQ/l/fZssDIR/Ixysx/nHP9291SEiIuJZSgRFxM4+l++9YjCEs3jdYiKb6MTSf+QYe7OWLA79w3FcLp/338kCxjDp2z1dHsNwRyCBLewRFR4ziUDKSE497vZIokibqcrm0Fv5YBjHw0+Npz9Wjh54H810EhGR9kCJoABwYWsUmQcdZ2VdI3t5FCaTV0KSNmaby2e7RO0/Zxlxd7nxouCQmoYu2dnn6ydjBRkcugiE3Uv4Ha0aaq1h93K/Aax//wcnVXIn7Yz1w30kXwfDxEmMC7ufWf8J/PNt3i9w8YLyMsqul2GtcrKtykrZ9TLKXPw7t5aZOf9RBhk5+ZQ1cVfEWmY7j7P/nJ67+vzm82Tl5FPWyAmsLo5b99i2fRo5Rln991kdr7PYnG1r9PiN/Y5tB6SsIJusXLPL37WISGfR7rqGNu00ppkLqPl+nriNqIUjvRmQWy4fXEre9hP2n6IJ2ryB8N5eDanG5YNLKTo8h957ejls6UX47Dmkr1lKdjuKVzygei4fgGEC86a5uUZflbU2+bt8jWKgupK07MxH5AOBI+/BY309/e9hxLcg+eRJPr4I48I8dSKR5irm/QNHsRLIrPsjARj/vTGs/2cGO1OymRUf3uAVWVun8fwBiHvpryz+T4eNH73KtJ8mw0O/4a/PRtY8XXY2mXVrXuW4uU7iYwhh3E/WseoBZ588M4eWP8amHOdRNzh3VT5HNyay7mD9Gz2GkHE89cIy4obVLRvI4tWZz5Ps/ND2Y1fvE8dv/rqYSId9yv65iXk/Taa45n1WxxvO4jeTiKv3lpxta/z4Ln/H17PY+dJ6dp4013+fw2ax8oWnGNNKX2Lt+Vrg1jlcnw1LYMDaqfSts0f99w9d5qcyarLjtYeItJUOmAiOJGJPOmAbxSq6pWNdI3v5FL4Y7/kvor6TN9B3MlC0n8z4NI+eq1lMSeRth6DNSxjsbHvEEgbMX0pefBIX9rjYRzq86rl8YB+9cHdxvs/yOV/92B/qLiRxLjsDgBGDPLnweyAhAwPhZBkfny+GMNclqCJtqjiDo/8EBs5l0jdsTwWOm8SElzM4emAfx38YzrhbXTY351UeW/w21pAxzF02l/u/3R/OH2LHulc5/tISXr37zzzl5OaI1QrcNYnnFo2j+hNzft8KXv+nw45VZpKfW8Smf0PId59i8ZzxjLjTSv6Hh0j6/dts+lE2+S/tYPF/On5hRPLEL7/PUIdnew1q4v2Yk0n4RXLbl86WZbFp0fMkXzEwdOZzLIkdT/+uZj7+x5ts+sPbrJj3MYu3JblXJdGEVr0WMCWRvgZ6t7O/zQEvpBMR4Xxbzfuvvv5qy8BEpIEOmAhK67lG9u5dMHFbo3ck+05+gqLtCyg+OJfBunPXCVXP5QMwMGmc4z30Rl55NqvmsWFof2rTMDP59gwxpKdnl3zv2bs/kM35vDxAiaC0D7YmMRAeO752PcwAW4Ojo3tsTWPGjWtqDc4mhM0lad14DCPDa9fn/M9ZrFpRzLQfv03ykSyeCnP8PF/GnAvcG8n4b1fP8QXDScAhESx+bz2b/m2l50O/YcuzkTX7hv/XU2wZ2ZMlP3iV5MSd3P/npwiv1wyqP+HfHtNgNK5RVWaSf/Uq5zFAG8/4zX5jNclXDIQ/U3dd0qGMeXgVIwau57GEQ2xKOsT4lybpG0ZEOhXNEfRlpp2Uno0maFpTpbUj6T0/msrtO7nQJoFJm7qSxbGL1T9EMsLxNr5LZrIyahvEjBs5os62YsyXAIYS4uH13kP6DQDAWmpRwxhpH6qbxBDJpO/U/wCEj59EYKs1jQmk/7fqJIHVQu9hBGA9n99waZXrJbbn+gTT+C0aM8dSs4Bw5j4S2XDfu+J4eAJwPZn3T7f4DdTI3r6ETWeH8tTCSS72sLqe13crqrJ4/0AZGCbxxEMNv6wC753FrLuAfx7i2BUPnF9ExIs68YigQ606dWvRHbadnUL69uof5rSozMKx7t1Zbbw7LmyNouhw7c/OSiwc93GssbeVzG4jatonZMYnUgk4e1+XP7sIw2IIdmN+Qt9RMXy2PY0bRUCnmc8gQP3yzjv6E+JuY5eCYyRXzzMyTOA799Yd3fgS63UAAwany0a0In/7eR3mKIp4S02TmAfiuN9xCOkbk5g78G1e/efbvF8wiVmhDV9/6KXHyHAsGy13I22sstY0cjG62qfkMnnA0Lub+ut0mfwcgHvo7/RDZWBoeDgczebcRTN8q+WfvLJ/bmLVnyHupUTieJ1N9baG0P//GCDnPMc+yGfWw+6Wmh9i7Q8ycBxztTr+Gq/kc84KhPWnr9Pvqv6E/wfwWTb5+cDX3Tz9LXL8O1/3msLxeqNo5q6aaTKacycizdFJE8FrZC9fQMX8VKKcfiFWzzNsnTmCti/saII2p9/SpO8LW6Mo+iSBAXvsCWTRfjLjozDVSQYvH1zK52PSiVpof5EpifQ1UzDd5ZAwHl5A+uE59N6TzmD7+yzaeh+D6zTWKf/0BAx6wr1ktfcgupJIxWWUCHY2VXUKsfqFuF36lJ2yk3z74/4/fOzW5zuJdAplHD94FCtgOLmFeT/Y0mAPWzKS77JpTLNcz+foX17lzwezOF/c9Jh42blszMCk0HZyy6Qsg1cTbU1wnvjPwAblqQCR988i5OBOsrfOY/I7IfS0f9eUXTE32SG1I7p8cGn9awEHNfPsbnmOYMMb5jVaeDNbRDqWTpoI2lQe+4DLkz38RVa0n+LDEPDCLXb+KtpP8eFogjbXibf3VHpOTKQo4zRE2BK4vpM31H8/EfcRwC4nB6w7AtiL4PHRlB77hMuMtL/+Gjc+AZqavO+g4rNrEKG7jZ1Kr56EQMMSssYUH2XngTLb46/HsfghTzaEEelAio9x6CRwRzj333dPgxEpGzNZ+zLId9E0ZtJP32zYNfSfm/jeTx36cX6WzJIFm8j2H8qk+StZFjWC/l8PxOCfxabvOe/eeS7bVu45tJnf/U5V3WIWVmUm+eerORT8BDuecVJ+Wi3sCd7c8S2SUw9x/B/ZXDYOIDJ8KEPDB5D/ViLJuc5eNInlf3TSNXTj93j+QPPCtFY0b/9WcTaNkqKp9PXojdfa5nsi4ps6aSLYi/C1qWQvn0LezETywMN3t6Lp2ioHPkFpfBQNvpYn1nlctL9OuWetBoMxwwbWe662U1e1XnQfBKXNjLDrXUoCO50+AwjHngheMrtRXlnM0XXryLBSu/B8g3+Aveh5F/CZh+b11FV9Mdq3lxo5iNdVN4kJmb6M5x5zdYPEynHLNFa9d5R/nFzGuO+2pGmMmeRfbSLbOo6EfauY4E5PpvLjHDpshYHjiWyyxPEeRtwLySczyL64mMiBjtuLyTp5HghkxP9pyeiilfMHEnn97FAWb5tL/6ZKyEMiiZsfSdz8uk+aSf5LC05d77j3MOIOyM75mPPlcYQ4fpdVZfPRhwBjmjF/+tb0nbwBWEpezfVAZ1tmQkTai06aCIItGaxOqWylkXnLgXZd6tDUl/1pTPGJUK/k1Vba0RIBd0dDvVHCRhR9QgXR9Gi/vzxpqYB7+c4DBo6+Z4Xrx8g4+xThw1ztXMb5N1ex7qQVDCHE/TLRRUv1QAKDgc/OYzYDrdB23RXzpTzbA6PRxeiLSBupaRLTn7jvNjZKbuDeseMwvHeUowffZ9F3W9KN8jL5uQC9CHZIAsv+fZIsJ68wH/wzR60OnUxdCuTeiRMwnDzKzl1HifvpBALrJGtl/9xpW25i4FwmtWj9zvd5fStE/uTNVlmWoeXCmTS9P2//4Sg73nqYcT+sn+2ZD2yxz/ecxDh350+3gro3by8fXEpevCfW81VpqIiv85GuobbSSGfPdx9kLyFt7OWmJNJnRpE+M6lh18zeY+kx7ASl8U62NUf1cV7e33gsDi5sdfEl7oa+dw20l580ve/lzDQq3WwsIx2NgXFPv0jc1wHMvP1KMmZno3hVZWRtXcaSP2RjDYjkqd9ucbJ+WLWe9B9qS8vMxWUeitumuMg2UzF8gC5ZxLuqm8Twn7O430kTmLoM355G3B3AP9/m/YKWnG0Ekd81AId49XcZ5F8vo6wgm0ObF/Hwi1kYapKWYs5/mMGhzYuYtzkbvj6LRU66YzoT+N0lvPhQT6xHE3l48XqSj2aQ8WEGh/6wgkW/SKbYEM7i1bPcSCqdsRI48UWWP+D9cfz+jyay+BsG8t9cwmMJr3PowwwyPjxK8oZFzPtdNtavx/Hi0+O8dqOp76gY53ft+w6kC7v43NTSI9tKQ6Oc/ackUMQndLwRQVMS6WvqzolbQPphqD8nztldrjn0djLxevDCbXw+c0FtCWmzu4baRh4vbI2q17mr/t0024hk6dnaV1WXgNZ2+HJSzmpX2znUtoxD3vbaLqdd5m8jaNgCWjSFIWIuQcOmULrvNCxsbAmJa5QcO0GX8Sv0h6GzCoxkcdIqrD9J5NC/NzFvsZmVy+cS2S8Qg9XM+Q8P8fqOt8kww9CZL7Jq4ZiGLesd3PN/IoEMPv4kH3DdEMNaVmYrHy3P56Oa9qXn+CjHzD39bImmITDQRffRMswXy2h5eZpIaynm/QNHsWJg0rT7mx7h8w9n0pyhJG8+38KmMQbGPb2OuXnL2LlvBfP2AYZAwr+3hC1vjiN/3TRWfQqQx6FfrCAZMAybxYurHdf8a0wgkc/sYMuAJBLfeJ9NiYdqzt3/23N5cckTjGlhF01DyCyWL2xkXmBb8g8hbv0OQrauZ/3Bnaw/aX/eEEj45OdYsnASQ1slUHeuBZx0DMV2HdBgNLD3VO6an0bemtopJeoaKiLN4VdZWflVUztduXoNo7EHPQI81xawsrKKoqtXubtfX/z8/Dx2HnFgSiJ9zcVGS1JtraoHNitBtlorKLxyhX4hfVotVF9SdOUqgYFGj37mnKoqI//vybx58BDZ+cWYi60Y7gih56Bw7h83iUmTIwlx97Z4wdvMe+JV8sMW8+amOBfzDs0kL36MTTlON9qFs/jNJOKcHaAqi00PPU8yE1i1J0GdS8Upyxdf8EX5Db7ey/ujTx5RXkaZtZEbJuVllPkHEnirQ1pNnaeTsN2cMhB4h/u/sCvXigk0Ggk09vBgZO2dfaqKk2WvGmp+1/ar14rp0qULtwe6XBxFRJqp440ISuuKWMKA+UvJi0/igrNEz5RE3nYI2tzS9tTSofgH0n/CXBImzL31Y4WOYdLAV3k15yTZ1+NcrE8YQtymvxLX0nOcPcn7VjA88B3uVRIoviogkMDG/v0HBLbOyFtT5+kkDIGBmm8sIj7BR+YISmP6Tt5A74m7KD54zWHLNbJ377r1pTHER/Xn/u/bykMPfejGYtgtkJ12iDICiZvivfk7IiJSq3xNlK2vwvKGPQ8uH1xq77lQv0RWRLxDI4ICwOCF6U5G/Op2XhVpvp7fnUPctiyS3zlE/gNutIhvjrLj7DtQBmGLiftGKx5XRERaoOl1CRsuZSUi3qQRQRHxnIBInlgyAcPFnbx5vHW7h+bv28FRazhP/czV/EMRERERcUWJoIh4lK0FfSBHX0qi1XLBiztZ9Qcz4c8kMMura5CJiIiIdExKBEXEwwKJfCaJhHs/IvHnLtYobI6yLDYt30ngD5NInKaxQBEREZGWaHdzBC+ZC70dgoi0Nv8QJvxiB8EHkjl/xUqI22tQNFRWkE/PBVtImtCyZaxFRDzhemkp10tLvR1Gp9alS7u7bBXp0NrVOoJVVbc6VCDtTbdu6uXYEl5bR1CkE+r06wiK1335pdXbIfgMXVeItJ52c2ulSxd/unTpxCvUioiISKek5EREOiLNERQREREREfExSgRFRERERER8jBJBERERERERH6NEUERERERExMcoERQREREREfExSgRFRERERER8jBJBERERERERH6NEUERERERExMcoERQREREREfExSgRFRERERER8jBJBERERERERH9PFnZ2+AiqsFdzw8/NwOCICgJ8f5Te+5DZ95kRumbWikps3b3Ljxg1vhyIiItJu+FVWVn7V1E6FV65y8+bNtohHROz8/f2pqqrydhgincJtt/lx82aTf+5ERER8hlsjggA9egTQrVs3T8YiInbXr18noHs3uhoM3g5FpMOzfmnlxpc3CA6+w9uhiIiItBuaIygiIiIiIuJjlAiKiIiIiIj4GCWCIiIiIiIiPkaJoIiIiIiIiI9RIigiIiIiIuJjlAiKiIiIiIj4GCWCIiIiIiIiPkaJoIiIiIiIiI9RIigiIiIiIuJjlAiKiIiIiIj4GCWCIiIiIiIiPqaLtwOodvPmTcrKLN4OwyfcHmjE7zbdAxARERER8VXtJhEEqKyspGfw17wdRqdWXPK/3g5BfFWVBVPqASxjZhDdx+DtaNqU5UwKKeYIHokJ9XYoIiIiIkA7SwQBegQE4Ofn5+0wOqWbN296OwTxVVUlnHj5GdYVPsrmKb6VBAIYQ0MpSVzMsxfWkjgvDKO3AxIRERGf1+4SQRFpX0oupHHkncMcMeVQWGIFwBAUQlj0DB7+/oNE9GsqsbNg2vIMiccjSNgZSx//OpsKU1j27F5KAk/+pcoAACAASURBVIHyYgpLrAxZsION00M89Xa8wxjBol/OJj5+OSvv3MK6qZ3s/YmIiEiHo4liIuKU5VwKiU9M4/FnfsuJ7mNZ8qs/k3LwICkH9rHxJ9GU/f0VVjz5MM++kUNjs3stma+RmGoh5rmniXYcCrvzQVZv3UTiI0PsSaaRb4Z10iRpwGwSHu/DmS0reSvP28GIiIiIr1MiKCL1VVkwvbGYx599hUzuY9nr+9i4JJaIUPvIn7+B0DFPsnHTjxhusJL7p+Ws3G92fqxyE2+sO4xlwGweaZAF2o5lDDJCmf31hvsYdY9n3lZ7EDr1v4kxFPDW71Io9HYwIiIi4tOUCIpIraoSTry8kBV/ysV6Zywrf/csMX1c7NsvlmcfCwWsnNmykSMlDXcpOb6blFKImDGRUP+G220s5GTl2h5GRxDmcr9OwDiW2ClGrB//kZSPvR2MiIiI+DIlgiJiZ5/Ld7QEDGEs+tWPiGiiq0noN0bbG5+YOHLMcVSwgLS9JmA0D4wJdn2Qqmz+lWl7OHxEOJ29lczw8RMxYiH10AdYvR2MiIiI+KwOmAiexjQzivTq/7ae9vD5rpG9vM75ZiZxwSPnsb2vzIPX3NrP8/GIr7HN5bMN64U+8mNi+7nxouAQqhdEOHMmt35iU3CKI3nA8NGEBTVyjHMmPgAghNHfaCRh7CzuGc19BrAe/4DMcm8HIyIiIr6qA3YNHUnEnnQALmyNouiWjnWN7OVT+GJ8KqMm92p0zy7zm96nbdS+f0xJpK/xbjTSSVTP5QMwxPD4VDfXu6uyUlH92FxCCVBdSWo5Z6IAMH5jCK6qSwEKsk7YzmscjsH0a+J/eoKCUiuG4Aim/OT/Mn9U+0wOLQVp7N3xJ1KyCrBYDRhHzGB1woN8eSyTksj7iAl1MZzqP5Th34SUzFPk5EH08LaNW0RERAQ6ZCIoIq2tei4fgOGBiQ27e7pyqYDc6sf+1CvrPJ9zCoCwgf0bOYCF3Bx7SakljTeOxJKw4c+M6lNB2vq5rHvhGSpe3MqiyPa18l5h6nLif2+CEf/Nb/5nNkOMBfzlZ4tZNne3bYcREPGbWJynsEZCBhoh00JObgkMb5+JroiIiHRuHbA0VERaV/VcPgADD0ZHuP/Kc6aax4YhoXUSHzMF9gwxJLiRJK78IzLt8wMNI37E5o0/YlQ/A/gbiZlwH1BCytbDFLgdkeeVHF1J/O9NtmY6q2YzJAjwD2X6M7NrRj77/EeEiyTQJvhOW3J8oSDf0+GKiIiIONWJRwRPY5q5gLpTcGrLOx22nZ1C+vbqH+bQe88SBt/SuaIJ2ryB8N6O+9lKUUvPutoOXe+C7OVRlJ61PzFxG1ELRzYrGpFmuWrig5p17SIYPsTdF5oxnaptEBM9IqzOthIKLwEMoU9jdaF5OdjGDYfw+E8cFpv372rfx0Ru6QxCG5tn2FZK0tiYdAorEPH4o/Wb6XQ1EAgUYmD08MZLa/v06w/kYC0twwqdvkGOiIiItD+dNBG8RvbyBVTMTyXK6by+6nl27s8RbPxcf+P2PelUj6Nc2BpFUXwSF5qdUEL5mim2uNf2gqL9ZMYvwDQmnQj3B2lEmudSfm3DoaBQQtxNuApOkHrG/tgQQ/SouumMlYpSAANdG1kOomZ+YFAEYQ7NaUouVRedllFWDrSDRPDMO78n0woQw5Rx9cf8rLnn7WWybiTT1Umuw7xKERERkbbSSRNBm8pjH3B58lT6evQsvQhfu6TeM4PHzKHosKt90xs9Wr2mNL2n0nNiIkUZpyFCo4LiIVXUdvvsF9JoSWNdZ979U03JZuhjjxId0NwTl2D6/+wjiv8R1uCmSe7ZHPuj/oTc2cSRjq5k/rpTLV6OwTB9PXsXhDW+U5WJtFSL7fGoe4lweL8XztnGNpvskioiIiLSDnTSRLAX4WtTyV4+hbyZieQBDEtgwFrPJIWXDy4lb/sJh2fntN4JPvmEy4z0cEIrPqtnT/oAhc15TUkau6uTojtjWTTFzS6jdVWd54J9UfVRo77lUB6ZgynD/nD4kEYWo7cJnrCavROaH0KzfJrDKXum2SdsCPVnPhZgOmH7fTTVJVVERESkPeikiSDUH32zlYDmLQdaOxk0JZG3HYI2p9fO+WvtZR0GDVISKJ7TO5Qw7IngJbMbpYolpL38W1uJZPXC8w1GA3sS3A+4ZKWiysVhrhZia5USQtgQh4YyeSZO2LuYRkwa2z4Sq+Jie7JsYPQIh8S3NJecS7aHY78ZBlgo+Nd5GBKB01UkquyLboQEuz0CKyIiItKafKRraC+Cx0c7fb77IHsJaaud6zSmNbtcbKtenH4p2e4sgGhKouhwNEHTVBYqHhQwmugJ9vG40hOcOtfYzhZy//T/SMq0giGE2JVrXCw8H4gxGCCXQldDjQGBBAIQjLF7/U1njuyxJV13zuDxCe0kVQow2EcBh3C3Q2ZqNZ3E1vx0NN8cBuQdYNXP/gdTmfNDFV6ydws1BqpRjIiIiHhFxxsRNCWRXi/RWkD6Yajf7bNhx1Db9oajgYMXbuPzmQtqS0ib2zU0Yi5Bw6ZQGh+FbfwxmqAXEqhYc7GZb6wfXYdB+XbHDqYbmt1wRqR5DETHryb2X8tJuWrmL1tTePBXDh08AaosmP74M1a/k4s1IIL5v/o50+9xtTREMKFDDPCxFXOJBXCyX9AQIgZAZp7DqOGlFF5LtdhHG59keBNloW1mQBijDZBmdYjXYmLHtjTb435hDAmCwrRTFA4YS4SLocySq7ZEcHhouxjrFBERER/U8RLBiCVE7VnSxE7VXUHd0Zx9nXHRAGZPM/ZtcpuIhxkjWLRhBdbnf8ORj18hfqmZhGWP8s1+RgxWM7kZR3jjj3vJLIQh01eTMG90w0TRwdBhEcApci7mA84asYQSM2s0b6w7xd6/nOLBRaPhQgobf/kKZxjC9BddjTZ6ScBYYqcGk/ZOLkfezeHBeWF0vZTGlhW/5ZR/CAbMWMvKsJSaSH0nl1E//DnOZ05aMF+0Jcdhw0La9C2IiIiIVOt4iaCIeMadY1ny2reYfuwAb717hM0/S6GwxIohKITggcOJmb6a+P+KoI+btYzGeyII5RQF/86lkDCn8/yCJ6xms/E1fvPyizySajtXWPSzbPzhRNtC7e3M8B9sZeOdv2fdH5/jkXfAEBRGzKJNvBHTk9x3fk3Cm3tZNjuFPlNXk+SqpLXqPGf+BRhGEzagTcMXERERqeFXWVn5VVM7FV65Svfu3ejWrZvHArl58yb/+7/XubtfX/z8/Dx2nuarXgS++ueWLDjfmhzLXt2P5+bNm3x22Uzw1+7A7zYfmR7aQV2/fp0eAQF0NXTkGWQF/CX+KbbnjWbZ7tXEtMPEzivOvMYjS/dSMWEFu5eN1RzBNmD90sqNL28QFKR/hCIiItU0Itik9layeaulrCJtJZSYGRFsf/kU72WUEPNAO2n64mVnjh3GgpHpk5QEioiIiPdoWEhEPCZ43Gxig8C09zAFrpaR8CWWD0hJtcDwHxA7wtvBiIiIiC9TIiginhMQweNPx2DI281b9gXXfVnB/v8hzRrG/GWx7WNtRBEREfFZ7a40tKKy0tshiEgrMo5/mpX/MrFi/e+J/o//S7SrFSc6u7zdJL5RyPBFq5nenrqhioiIiE9qd4lgYdEVb4cgIq3KSMSi9SwreY51q1LY7GyNws7OYmLLL3ZjfHw9q6dqyQgRERHxvnaTCN5222307KlmEiKdkn8IMcu3Epx6gNyrVvq4uwZFJ2EpKCB43ibWxThfWVBERESkrbWb5SNEpFbnWD5CpH3Q8hEiIiINqVmMiIiIiIiIj1EiKCIiIiIi4mOUCIqIiIiIiPgYJYIiIiIiIiI+RomgiIiIiIiIj1EiKCIiIiIi4mOUCIqIiIiIiPgYJYIiIiIiIiI+RomgiIiIiIiIj1EiKCIiIiIi4mOUCIqIiIiIiPiYLu7sdJufH1arlaqqm56OR0QAP7/bKL9xg4rKKm+HItLhVVVV8dVX8MUX5d4ORUREpN1wKxEE4Cv46islgiJtwc8Pbt7UZ06kVXz1FX5++jyJiIjU5XYiaDT2oEdAgCdjERG7oitXuT3QqM+cSCuwfPEFX5TfoFdwsLdDERERaTc0R1BERERERMTHKBEUERERERHxMUoERUREREREfIwSQRERERERER+jRFBERERERMTHKBEUERERERHxMUoERUREREREfIwSQRERERERER+jRFBERERERMTHKBEUERERERHxMUoERUREREREfIwSQRERERERER/TxdsBVKusrOJaSYm3w5BOrpvBwNfuCPJ2GCIiIiIiXtVuEkGAqqoq7uzZ09thSCd148svuXnzprfD8GllHyWTXDaGWeNCMHg7mOYoOMrOj0KIeyicQG/H4ozVzPE9GRgnxxF5R2M7lpF9IBnzt+YyIbStghMREZH2qF0lggDdu3fDz8/P22FIJ3Tjyy+9HYJPK/57IoteMjN3W1yHSgLLzu4k4cfJ3PPLHe0zCQQwhDA04H3mLcpi2bpVTLjL1Y6B9O9XzKqnFnHu1+t46hvt9h2J/P/s3X9cVHW++PFXlzxFTPqFSkbbGU3QFdwiNg3zx41w01ASf6RWaiVWQhu0m9he4ZborrgltgW7CqXQrlqp+QNFTUtzVyVRvEgleBVchU0HM7jazFJHye8fMyPDzDAMxI9R3s/Ho0cj8znnfObMOXPO+3w+n/dHCCFEG/O4QFAI4WFUA0Xbcvlo516OnjJgVAEU/PqFEvnYDKIfDMTPy/UqjIcziP39Pu59dS3RdkGK8fMMEjMLMAJqtYHqWj2zcrKZ5AktVl/nkvSbHIxPZhN/n2cHTdpxqSSVTCYlMQPfd+MJbaS6mvviSXsyhphXktC+m+7wfQghhBCic5BkMUII5+oMFCyLZfToaSR/VEHgYylkb/qUTz/9lG1r05ja4zTrUmOZ9nQKu792sR5jAVmpuRgjkkh40DE6UbvfT/QjYfTyMlBdCyihBPZss0/lvjoD6/6YQUnPGaQ8oe/o2rhBw7CEJCIu5JKcvg+ji5L6J1KY0bOEjHmrqahrtwp2HoYicpclE/v0NMaN/hWjJ05j2gvJ5OyuwCj7WwghhIeQQFAI4ahyOylPx5C8voIBz2ey9q8LmRERiJ+lT6fiF0z0q5ksfNQP1bCP1MQMipxGHipFKxax/YKeqU8Oc9q10i8gjMgnZjBCa/nDsFAGNNHC2B4MW1LJKlWImB6N3gPq4xbNMKY9qUfdnU7OEbXxcl56oqdHoJxaTdo2Q/vV77qnUrIqltHT5pCxvoCyr6tR7tDi51WN4XgBq1NjmPx0Y+eKEEII0b4kEBRCNGA8vpqEWUvYZ4DgF7NZPDkQjdNASEPo8wlEKMA3ucxfWeJYpHoX728xwn2TiOztYqO1Rzhw0PwyODiw48cQ1pWQu7IEukUzbphndwm1px89iVCqyf1gF9UuymmGjSO6m0rJe7mUSCtVK1Hw0yigHUZ8xlq27djG2r+uYtXabXy6LZvZw/xQDbkk/2UfLsJ0IYQQol1IICjcdnbbyxx458tOX4frmmVMXIkKfo8uJHWc1nV573sZfK/5pXHLLorsAoqKT9dRBIT9ajgu8wGfOoo5DtQSdm8T22wH6uebyL0AmlHDCb5WWgOt/IYTeT9weB27Kl2U8wpm+CgNXMhl0+cSlrQW7bh0tq1KITrID8X22FH0RP4ugQhA/eQfHKztoAoKIYQQFtdgspgvKZ74HFevoaPeZfDzd3dkha4T5v3KawcICXHydnE6p1dA12Udu697jJ7BuYnPUfizrQwcfVuH1uW6Yx0TpwJKBAkzQ93IkqnB19/yUi2gpDKe0N7W9yoo2FkBBHP/3a7XVHF4r3lMmxJGcIcniVE5uH8fKgqR9wV3dGVaQEPw/cFwsITtn1cwSdf4+Mbg+0agrM1l3/6DqMOGdXxL7PXOW0+vO4GvTagq4G33fq2RilNHOfvDbfT6eSBa+/cB9YLRrjVRQdPNyTdXp2I0quCloNE4/2bVC0ZUbw1O31aNGKsqOKH60dffz2Ed5no0sm1ANRpRvTRovM2fy+jOswYXdXVZv55a83bst+9OS7eicVi20e01Fry7Woe7y1nLNfZ9WL5PRaOpf8Bg2a8N/mZXvlnbsOVq3S6Wcev4tdm+aqyg7Muz8LMBBPZ0si1Xx46iQVFdH4fmbRhR6yxl3Dgv7Lfd6D6oNWI4c4JqpS96fyf7tIltWY9R6/pbfMzWqRjPlHH0Xz9w210DCNTKL7lw3zUYCN5NyPoDAJx8ZzDnftK6vqVk7hj+Pdxzgoqz217m9N5wei0aS4+OrozVuc0ULngf79cOENy9oytzNyHLkiiMG0PxnY0EraJFzGPizK/1T07D3R6R6qWra6D6W6C35Z8XyjhyCug2gL4uG/mMlJVYxqm5Gh9YZ6Ti7+vI+miXJXupgqZ3KJN+M5epNtMgGD5JJSl9NxW1CvqIRFJ/F4HWWMb2FVnkfFZEdS0o3fQMm55EwrhAJ8FuGUcPqkAYAwLd2weeRvvzAWgooeJIGcbJ+sYD+sABhJJLwcGjlDGMazHsvaac2suur4He9xJoO9+joYCsBfNZd9z2jlchcFoaac/Yzl1ZRNbEOeQ6rFhB/8BU4hOn1s8j+c12kqZlUBIUz6qMaOxPQcOmBGL+XELgi6tIt235N5aRm55K1u6KBgGn0m8S8+bPIuwO23pEs/jTeELt1m08nEHM73KpfnQxn74UStE745izxY3900hdG7hQxOrXl7D6oMGxfq/NIkwLYGD73GlklLqxTUsdm2LYlsS0Pzvp/t7EOtxdzlou2P77AKgzkDs7hoyvAolflU605W3rfo1+/VPi77Nb95Esxv0u1/1t2HG5bocP2czj9xfxrJqvZ/vcZFbbLKNoh5H4esPpb1weO48uJl2ZT8J6I6GJa1n8iJN+J5XriJ2RheHhFDb9bhiK9bxAQ2TqKmbf38ivoyGXhBjzg1GHfXChiJx581n3le1DGYXAifNIfT6sPou2y3PQeowGW77TFhyzdQYK3klh/voyu3NhKmlvzCD42hrVIDrINRgIivZ2clMql/slcaenBF3dx+I3KpVzH27mbIgHBczXMuuYOACCif6Vu1kyDVScsL5WwDaIKztKAcDP++JybbbjA+8OdtoqZTyeS9q8DPZd0BKZkEL2w4H4YWD367GkvrKIHqsWEuEHnFpN0utHCHtrEzGbx5GyO5UkryJu27eL70bPI339YrReZeTMimX1nxPg9k0kDbPbouEERy8A3fRoXU7O7sF69mUAUHDkKCeIcLhRv6qbFn03KLhwlBPfQPAd7VjHTuBq612tgaMHcsl5ZzsV+BH9YnT9OVG9neSYJRR4BRL54gyiBw9AYzrIujfSyF2VyKI7V7HwYfsb3AiS1idwPwBGKj7LJOXPOcxJ9WPt65Guu2ED6pEMEv5c4jhOsc5A7n8nkPEVaB+cxexnIunb1Yjh8HZysteRtSOSsGlN/DYYckl6NbfB+NReUQtZeH/9v6s/z2DJNgPa0bOJf8Cmtt69XNfdWERG7Bxyv1EInDibhKjh6LsYOPqPVWS8t47kmKPEv5tO9J1+hM1ciNamJa5sUzI5hyH0mYU8FmCzzu69XH+eBrREvhzPMF/LP8s/Ivm9IteL1KktW+4qlaJlCWR85aHdt1ty/NbsIjW2DPU/40mfOxw9FezNTSdjkznxmG92PKF2rYkO3xtA914EK1PRr8+i6KNdVDwyyeFaU5K3mgo0TBpj3+PByPY/rSZy1Swn3f+N7MvOMveOcXjLcgxeCCQ6KZFJ92nRUM2JHdkseieZWHUx2S+505vGXnOP2Wq2vxrDkoMQODqeGdFhDPAxcvCjNNI2rSYxtRerUiOa/C0QQgJB4dq5zVTvAO/XPCvg6jMuieq4VM4Vj6WHpwSo1zDrmDgAgkZYnqq7obaME+XWfwSit3mSa6i0RIj+vq4virbjA+92vGyppTkkzl5NmepH9OuZNvP5aYkYNYLU3bkc/SdE+KnsW7OaivviSfuFhtO7zKUqPtmF5sVsMq8+AQ/k3rth9SmV3YePkjTMLkz6uoISgJ7aa/ci2s3X/PRZPUHFNxDaaIDnh7YncKGMiq8BCQRbkbPWOz1Tl2Yyo5/NLalfJLPf0mL0D0V/9cFDBPGLfqBi8hIKNu/F8LB9a8Kt+HbTWM4rDcHjkkgoGU3K7jJOQ5PBVNbruRgVBXP/1HrVnywh4ysVzSMLyUwMu7r+wIgZLIyY0fRHrjOQ+8csylDAJsz0CwgjzOZG1lC1GjDg1yeUsAfcHxNcsnI+ud8oBL+YbdOiFUjY5BQG9F7CtKTtZKRvZ/jrkWjvDWuwz5SDwGHQB4UR1lQLlxNn/1UGBBI4KMzSKmpdqeuAzrxcGKFDwwizfr9uLGdlPJzFok1GnHxdnqElx+/XBvqmriX+amtcMJEvpnHrxcmk7M7l/b9PJdSuda/x720Ek+7LYsnh1Wz/ahKzfmHzVu0+Nm0xQu9ZRP6i4VKa3nqUU+tI+yCSbLuHG+rhHNJ2qwQGBFJWXmb7Dvv+kkzuNxoiU9Ns6q8hdHIKaWoMMe9lsH1CS+bBVZp9zEb+Nh2tSUto7/orbMSLqfxQOZklBzex1xBxtfVYiMZcx8livqR44mAO2PxXuO1bu/fGcPE4XF4xxqZcOid/8rbs1lGcbv57gyQnlmXmbuYs5m6uByYO5vSKfDieymmb9RUXN9yatazz983rLS7+lpK5NuWcJFhpuB6bcZe2zp7iMk9yq6cFW92Hcks/uPT1t02XFU06eqQ+i6Hm7r6uu2bZKilin/X1nWENAo7qcxUABP7M9SMEQ0mReXxgt+E24wstaovIWrCaMhU0E1McJnUvObwXlGHmLpx1Ryn6u2pJTGOgzNLAqUQk2SW9UTGZGq+PsdrSTbWX1v394HF6oA0AqMbo4rOCFm0vAJXvLnjiXea17DYGjIsm2vJf5AN6FCpY/ZsEsr5qOH+EXz/bm2jrH3uZu4+WVnC2yW0ZOHsS6K3F9SCHananJpNLNLOetO/3bGDv1iJAz9QpYS1o0YCSFQlkHA9k1vORLVi6CXVF7NpiBCWSGY86npma+ycx6U7g8Hb2ftP6m1e/V4G+6Jv1sMRITRWAFt+W9C6o3s2iV3Nh3Cym2reGeZDmH7/DGebQJVPDsFGRKEDR/zhprW5864yYHI0GI7lbG2bjrf57LrtVCH1shENLofHuaSREKFS8n0au7Qw6dRWsW5aL8Y5JTB5p11uk9iD/+ESFOycxyUmXUv1DkQRSwd7D7TQlzx2BDYJAMz96BWiAEvPDPSGacJ22CH5LydznuDRzK4Odjv2zjjNsjTGC5iQrtts6u+1lTk9Mh/UJ9AEISWDwst4Uxj1HcdgBQkLM9avtl1Q/FvD5A/R5vukxgiffGcy5fybRa73l/XObKYwbTLFdkpfaBWPgtQMMDrGWsW67kfVYk8XYOfv1KegX7pDToOPdxs13wcV/nYEmbn1EU6qpKKu/fA64y91uoSr7Pt1+9cKrHzO8wcX2h1rzza7rRANGSg5bnrjeNwD7W9Pqv79P7jcAGiLDLSPYVCPGqhPsWpNF1sdGQl+KJaIbUNeLyFcz8btfAxcOcqQcQCFytP38hWUcPWx+pb3N8dgxmr4zv+hybQ+4VxRwGLfprFwX8/8NNdVwDYe+nkdPxIvxRNj8ZXblOhJmZbHulUX0tXZntmdNMIGC5nbggpMyVFDyeYHl3DNR8Wk2Od8PI+l1x65xtgybUkg7Ekj8u/GEHUogo8G7Z6koBQglsAUJm4yHM0hZC9GvpxJNjt26W8E3FZxQgSA9PZz+pugJ/iXwdQkVFbRy67YBw2kgQNvMnjHVnP26Jcthbl1dkEZRv3iy48Io+E3je3T769MocEg81PjkMWUrE5m20fqvHgQ/Esm00RGOwVxLuHX8NuJOPYFAydlvac6vkXJfNFN755L1yVq2Pz3M0gpWwa6PikCJIPpBZyeaL8NiZhG8O4Os7H2MSDJfJwxb0sg5pRDx6lSCa5IaLlJ9lgqAb9aR9PR2x1XWGc1dov91tmHty3NIfHqdQ3FjKz+wuJp85lYtUNZkeSHgug0EzS7v3c/Z0W3bpfHsthxzQGcTSPYYPYNzK57ju+IEsAZn3ccy8LVTHFiQTsnMU1w8/iTd1zezbuc2U71jCF2X2SxnHS9X8CWE1Gf0vHHm1vrAsPtddGlqPY2o/Vc+EN6cWravf/6Ts9ztUd1Wrz0q2GQq0/q52RZQvYvcTyxhoBJBzKPuBpA26o5SZBkfGDboXocxHEf+UXT19br4X7EOwNsPrV8vgh+JJm1VJMHW662XH4HW8UZlRy0dr4YR+nO7bZ4qYu8FAA3D72tBnYVoKd0kEp/MJea9AjbtrybiUcvxWmegaMtq3v9oL0cN9llBnSki51XbroUK+gd64ePqocvX60j9cxmBL2YTfScYDv2kT9KQsYCsVHNikhn3aeBwK67bE9SdpqwUeETfvEclF8oo+boFywGGTalkHA8k/t1otF6t28Kk6EIJCzT/2qpVRexdmcrulZss4ytbsMJmH7+tTc+Ix0LJSisiZ2MJ0XHB8NV2Vp8C/fPTGNbYk2xtNInP5BLzXho5o+4n/q59ZLxTgnJ/ErEPalA32ZW/WI0B4O5JxI9rPJOYoh/QOh/LDYbDuaz+YB17SwzuZeYVws51GgjeRvCirZTMHcPpiamcBrBtfWttx1Prt2PD4bcnJIHuowZzbsUQui6ztBY2Wz4X4wZzwP7Po5qxirOnuExvbnYjA6j3z4bAP5ux7vZ2110SBP5kftzWA3AnW5mNko9yLMGWQnBcTOMXW1eOH2EvAIHc65Di7ARHj1he3p/EptQIt7urVZRaWkuCBhBooaIUAQAAIABJREFUV6+KfdvNF/NukQzv14I6C/ETKBo/wGBJIoI5+cRzc8i9oCVs8izSRgy3pKI3kBvfWBZBu2yddebESckxRcRnpzuOCzIWkZGYRVlECmubmhu0ueoM5P73fLb7ziD7xZYkyWg99RmMW1llGUVAcGBzEstw9YFU8M/7Nmsx4+EMEpaVEfHqWrcCs8jfrXLM7Hk4g1/9zjG/LIA+fCrxNsfB7K/XkfB0Fhl/2c2IZvzOmivbkuO3EXWq+Xfbi2ZPZeP3YDQR6UXs3rKJfc8EwtZcjIQyq4nEZ/qJ8URvnEPusnXo71tHgapnxvPmJCsO4bevFj1Q4tWDAQ80o/t0wAzSnGQNbfb+acBI0dsxzNliRHv/JGYtGcFwnRaNRsGwKaHxTLVC2LlOA0EwB4PWcMncBfT0XKAtgkE3g8yz2142d8d87RSn49I5ub4lweAQui5786dN49CjNzeyh+/PAU2sp8edvTl9/JTz8YMd6lu+/yfcOLxnR1fkOqCg12uxXvYM1UZo6hJXmkXKWnPXI79HF5LqZMzObbeZ1+lqXiTD/x61jA8MZYCzGx7LvbI22Nk0D42ppqjQ/FkcxztWsPcTy3u/skwW/00ZBTV+hPUzt874+WqBErh0bT9eNSeW0OLXRM9p682z1veaTY3jWVTV2i/Xqeqz5rGz1v1dtCKZ3G+0TF26ihktfTDhVZ84adcBA9ENgr1qClasNk/1kGDfTdpWL/S/AL4qoORUvON4XadUyrakknM8kPh3p6J3d765ltD2ZUA3KCk9SllttOMcdXUlHPkc2mLal4qDuzCgJ/q+5gTR1q7zeobf24xz6/8KyFljbl1NeLCdwuo7hzMiKIuS777DjV//Blrl+LWo/vIgZYAmuG/zE3V5D2PcOD92r93N9k294BMV5eFoRjS1Iu9QZiREsP33OWScAs2j85jUu5Gy1mPw4AGO1Ea07OFnazmcQ/KWarTTMln1zDU6z5HwCNdxshhbt+E7fIjTv998l6ULqavFrclenCSS6TEwnBuPp/L1tiaSllgnZP/tWHqEJNB91PucsySKabC+O3vD8T3UOJsgsftQbumXz8U/OS7XLN3vogv5/LvQNnlOI8lievTmRt7nu2Jnb1rVJ6YpbHQ/tFYZi3P7+ffxIdwyUMYHtgb9g/Xp7Av2H8ToqvA3+0hdsI5qQLkvnvRGWgE03cxX4LJ/NXa0qpSVmJ9aKv95P8FA2XuT+VXKbsv2b8PPEhz6uZj4t/p4ERW2Fa4t4ehX5pfD77WbGa90O+u+BtAQOTwYMLL7T7Es2lX/7Ffpdqv5afRpg+MTYXt1avO647R1+avOYigH8ENzs6tylrFPwK3uTuQtGmfIJWH0OKb9PpcyJ2OjjAczSFlvhG7RRN6vANVU/FMF/PDralf46yIOnnF/09XfmAPMW33szsbydWRtgUmvxRPq8g7fj+FjwlAwsPqtXAz2D3AMJZQ5jGnaRc47ZYT+NqVlXQqbJZjI8XpgN9lrHMc/GbZkknsBlIcjGdaa074Y97HqvQoIimZ4c8ZOfp3L2k/UZi9XtjaLXCaR0p6tq8YyjpYDt97azG229Pg9QZl9IhNjEav/aklWFNmyGU2DH5tBKFCwIocCNEQ7TBnhnObBGGYFAUoEiTNDXSwTTOQU8zGY/k6R43WyzkDJkQrX189WUn3mBCrg9//svrE6A0UHK9qhBuJ6ce21CBanc2DB+zZ/eI4DOwCepPvVFjZngY3zMXl9nn+X7yY+Z9O103Y9bug+loHLoDBuDAdW2G/PvJ6z217m9Ip8bpy59WpLXv12T1Fruz1r91Gb7p/eVxPBOOny6lDGHfWTspvrPISuy7bS5U9jcOhZ46Fz9p0t3MPlfuH4dvgE99cJ3SRSX9xLzJ9LUPdlknP4focMnQBUbifllSXs+0ZB+0gS6b8dVj95rh0/XV8USlCrahp5ynyUIkvK0dDgvkAFBZ9VEzzeOgGxnuFj9OS8U0HZabvB9xYVH6eQmFbC8LRVxN9ruXxfnY4izGF8YH0LZCTDfwGcymXVQT1T42xuPKwJC84YXCYsUI9kEZO0DoOqEPpyNotHu24taOvyDVyosQSxfdG7XKwawxmA4AZTf4gW8rqNXloo+XsGsX/Pwq9fKGHBWhS+o+If+yiqVkEJZNL8GZZ50vwIHaKHr0pYnZlL39gR6LHMi7fSgOYO3EgWA9X/u5nVa4vgjmgeG2Z3pqkQ+GK6+Ua3CX4R8czaWkTGVxnExJcx67FhaL2t6y+g+t7ZrEq1nadQRTNqMXMd5jlsG/onUokvjCFjVQLTjk9i6qPB+GHC8PlasraVod4RzeJfu3fz36TqMgoO7mXzqnUUqBB6722c/ryg4RCQcssN95kSCj5XoXtf+nKCEyeOkPOXdZThx6QX7LsEuqYSSHyas7ntWk/1ySIKPjd/Z6aqI+z6KJcC1Y/oya5ajJ1p6fFbQtZz0zgyeSpjf+4HF0rM+/kbBe20xBZMvWCtzgiiH86g6BMVek91mDKicVqi/5BN34t+TU7Crp+YSnx+DBlb5jD5fyOYOnYEgd3M58i69QVU1GqZlJHNrKC2fbDmd+9w9JRQsiaT3J/HMqInGEr2suovORh8tNAu4ai4Hlx7gWBIAoPXJzRRyJoV1B1ulG1qm93HMnD92Ebf7jH6TXqMdn+7fSwZRJ2z7fLqjLP1Ovmbszo3st6m5+xrqk6tWQY4t5mvV+Tj/dqbHhOYXg+041JJV+eT8E4Rua/G8u3zScSOCkarqBjPHGXXuiyytpWBdhjxSxOJ7tfEFfOuAYSSS8H/nqCCCByf8d6E4g2olgQ1X61m3dehzPrP+tsm/WjL+I0dOayO7MvUfhqoUzGc2kfukjTW1dxP/NJsom3mZbs6HcWdweb05Tb8bteag9Pb/dBcKGP1W6sxjltItO2Nxx2W7j8XKjBcgOBGWheO7svFoAKoFO0soHp0tMvuTG1dvoEzJzgKcP8AXI5OumCg4gLQbQB9JWHoT3fHMGb/dS3Rn2SRlb2LouMFbD9ueU/RoI+YQXzMJEJt9rV+YipJ/5tI2t8zSNiXgTnxy1Rmr0rhth0xxLzjbEMNk8Uo3bQM+NVsUmZGOoyJVe6LJ8ndcYFeWqKXrEL7TgqLtmwnI9WSGdFbT9jkhaRND2twDCraScx9vh1brry0RC/JRvvOEpZsW82Sg9aKaAgePZuE5yMJbK3K/HM7yWn1Y+yKPkhpfOa/wzkkHwYeXcxikkneAngHMik11a0AvJ5C6ItJbd66ati2hORt9dv0u3cEs1+bRWS/5gcvLTt+o0l6S88/FmSQvMryOMNbT8SLSSS4SMLSNIV7fxkKnxQRNsVxygiXuukb/a1vwHqOrFxC1vrd5KTtvrpt/QNTWfjrGe7Pw/tT6CaR+rujJP5pHxnx+8gAFH0YUxPXknLbdmJmZLVDJcT14IbLly9faarQN+e/xcfnFm7xbrsO0Zcv13Hu/Hl+1rMHN9xwQ5ttR7RQcToHFpz66eMTf7L66TqaO+VHzf9d4Mcff+T/dbPvw+J5zn1zHo3Gp03PuUYZisjd+BHbD5zG8I0Bo6rgd6eeviHDGREdSUSAu+FIBeuejSHrVDDxq5wksAAM2+YQ82YRBASjP1PGrc9ns9h+vOGFMravyCLnsyKqawFFgzb4fiJHTyP6QT0auyfnZe9NJnaVsZFWtGqKlqUwf0sJRjQET55H6vRQu3Wo7Ht9HCmfQPTr2xyTMFh9ncuc2AyK6rRE/z7TeQtqe5a3YU0WoH8+m+zJLm6HDmcw+ne58HAKm37XSi0pHsj073/z79rvueO2dh4HaU2l76WgaarrrWrEWAuKRtPElCvtR71gRFU0aDxv/iDAmi5fQdOtDY5cS7KV4BdX2Uxe3whDLgnTMih5dDGfvjgAYy1Nf9/XG7eO3yIyfjXHPF7Vmuyo1oixzo3zwy2Wa07NJNLXtm2rqlWbHoPusP7GePB5KjzbtdciKDpGSAK9Zr7M6U1fwvN3N12+jZzdlkPtqHcbmR9StAptKNFxoUTH/dQV6QkbqSfrnRIOfmkkWusYyGhHL2bbQxWUHPkW5ecDCPRzcjHtFkjky4uJfNm9rQY+s5ZPn2nsXT9C49LZ5PKzKdw/dBjKJ7vZdbiE+PsaGa9yZzSLt0S7V6n2KH+VkZKDJYCeyAdcPxMvObwLFYWIofdft0Fgh/Jqxg2iosHTYgelm8ajjwtF44H181LQdGTq1I7S0uPXW9NqLcrq4VzLlBGR7RIEggccg835jRHCiU6SLEa0hh6j32RwBwaBnlIH4T79ryaZB+9/updGpzf21hP8QKjzILCDKA+MI7obGHfspcRF1lOPVL2X7QeB+yYxwtVYm7oS9u4wJy4Z94Dn7HshhGi+anatNU8ZMamJKSOEEPUkEBRCtB2/ETz5qAYOr2P7qY6uTDN4BRM9PRgu5LJp37U16L5i2zqK0BA9eYTLMYXGfZvIvQDB06Pb7em5ENeMmzRo79TSy9eN9iovBb87tQR2v7Xt63VNuwnNnVq0d2q4qbVX/XUB+wxaAic/2fSUEUKIq2SMoOg0ZIxgBzHuI3VyCvuGpbA2qblZ6TpQXQWrZ8WQwwyys9p4jrTWYtnXByMWsirRxYTH1s/mPYtVb01Cey18tp+gw8YICiGEEB7M48YI/qBe25M4CyHsaIaR8PtojvwulfSha0lqr0mSfyovPVPnx1PwXAYpHwwne5qndzcysi89ld3dolkc6yIIBCo+SCHnTDDx717/QaAQQgghnPOoQPCGG27g/LeNjiQS4ifzvtnl7NqijWjuiyf9d9+S8HoSuYHp7TD5dCu5M5rUNwwkvpJIRlB2szJ3tjfDpiRSvxxGSrrricONhzNIfF/DjLdSr53vQQghhBCtzmO6hgoh6l1XXUNtGI/kkmsMY9Iwredl+3Olcjerj2iJfjTYM7u2qgb2rS/AZ3Q0oS7nwjJSsiUXw71TiWjppM3XIOkaKoQQQjiSQFAID3S9BoJCdAQJBIUQQghHkjVUCCGEEEIIIToZCQSFEEIIIYQQopORQFAIIYQQQgghOhkJBIUQQgghhBCik5FAUAghhBBCCCE6GQkEhRBCCCGEEKKTkUBQCCGEEEIIIToZCQSFEEIIIYQQopORQFAIIYQQQgghOhkJBIUQQgghhBCik5FAUAghhBBCCCE6mRsuX758palC56urAbjR68Y2r5AQAi7XXebHuh9RFKWjqyLENe9y3WWuXLlClxu7dHRVhBBCCI/hXmR3xfq/JmNGIUQruHLFfNrJOSfET3flyhXLOSXnkxBCCGHlViBY9+OP3HzzTdx0001tXR8hBHDhwgVu8fami7QICvGTqT+ofP/D93h7e3d0VYQQQgiPIWMEhRBCCCGEEKKTkUBQCCGEEEIIIToZCQSFEEIIIYQQopORQFAIIYQQQgghOhkJBIUQQgghhBCik5FAUAghhBBCCCE6GQkEhfBYN3R0BYQQQgghxHVKAkEhPJZMfi2EEEIIIdqGBIJCCCGEEEII0clIICiEEEIIIYQQnYwEgkIIIYQQQgjRyUggKIQQQgghhBCdzI0dXQGrH3/8kQsXLnZ0NQRwk6Jwi88tHV0NIYQQQgghRBvxmEAQ4MqVK3S//baOrkan9v0PP6Cqlzq6GuI6ZfoijzzjQMYP0aJ0dGWao3IPa77wJ2pMED4dXRdnVAP5mwrxeSSKkK6uCpo4tnULhnseJ1zXXpUTQgghhCfyqEAQQFEUbrhB5k/rKN//8ENHV0Fcp2r2vkHCkiqmLI26poJA04kPmTdnC4Hz3vHMIBBA0RJw82fEvVhMwh+TCe/ZWEEfdD2rWRgfT/nCPzJzgMd+IiGEEEK0MY8LBIUQHkY1UPxxHht35VN62oBJBVDw7RvCyPFPETU8AF8v16swFS0lYVE+IXNXE2UXpJgKlpL0biFGQK0xUFOrY2ZWFuM9ocXqTB7z5vwN05QsYkM9O2jyH7uAxGNTSf2vpfgue4GQRqrrE/oCqVNmEZf8Gv5Llzh8H0IIIYToHCRZjBDCuToDhe/GM2FcDPM3VhIwPpnMtdvI27aNDasXMUVbycY34pn57EL2nHGxHtMhVryehyl8DnHDHaMT9Y5BjBk5EJ2XgZpaQAmhjycEJ3UGNqYt5ViPp0ia7AlRaVN8GPLrOYRfzGP+X/ZjclFSN/m/md6jlMzff0hlXbtVsPOoKibv3Xm89GwMU8aNZsLjMcx8aR4r91Rikv0thBDCQ0ggKIRwVLmD1GdjSdlYSVBMBiuXz2d6eAC+lj6dim8QUXMzmDfGF7VqP2n/tZRip5GHSvF7b7Dzoo4pU4Y67Vrp22cQIyc/Tbi/5Q9DQghqooWxPVRtXcyKYwrhTz6KzgPq4xafoUyZokPds5SVX6iNl/PSEfVkOMrpD3n7Y0P71e+6p3Lsg3gmzJhL5sZDlJ+pRrldi69XNVUnDrHmjVlMf7axc0UIIYRoXxIICiEaMJ34kMT4t8mvgv6xmSx8LAAfp4GQDyExLxCuAOfzSH2/1LFIzWes3WqC0AmM7OVio7VHKCw0v+zfP6DjxxDWlZL3fil0jSJqiGd3CbWne2QCIdSQt+YzalyU8xnyKGO6qhxbmccxaaVqJQq+Pgr4DyX2zdVs2LKJlcuzWbF6E3mbskgY4otalcf8ZftxEaYLIYQQ7UICwVb3JcUTX6bkXGevg7gmWcbEHVPBd8x85o/Vui7vfS8D7zG/NG39jGK7gKJy1waKgYEjhuHraj2nSzkEgJZBIU1ssx2oBVvYehF8Rg6l/7XSGmjlO4yHBwJFG9hT6aKcVxBDR/rAxTzyCiQsaS3+Y5ewISeZqP6+KLbHjqJj5OwXCAfU3fsprO2gCgohhBAW12CymC8pnvgcV6+ho95l8PN3N1H2SbqvT6BPm9ftW0rmPkftqHcJ6d7mG3PhbrrPhNNx6Zxsl88trgvWMXEqoIQT90yIG1kyffC1dulUCzn2Lwi52vJXSeGuSiCIgU1kp6wsyjePaVMG0v9nLf4ErUSlMD8fFYWRoUEdXZkW8CFoYBAUlrKzoJLxusbHN/YPfQjlozzy8w+hDhna8S2x1ztvPbqewBkT6iXA2+79WhOVp0uoUv3Q9Q3A3/59QL1oouEEP13w6erkm6tTMZkugVcXfHycf7PqRROXbvbB6duqCVNVBWWXfAn093NYh7kejWwbUE0mLv2HDz7e5s9lcmdWIhd1dVm/Hlrzduy3705Ldxcfh2Ub3d73LViHu8tZyzX2fVi+zy4+PvUPGCz7tcHf7Mo3axu2XK3bxTJuHb8221dNlZz8ygA9g+nT08m2XB07XXzocsn1cWjeholLdZYybpwX9ttudB/Umqg6W0ZNl0B0/k72aRPbsh6j1vW3+JitUzGdKaf0jIpv7yAC/OWXXLjvGgwE7yZk/QEATr4zmLZv9PqWkrlj+PfwrQwc7XqOw5PvjOEiSfRqNDBtPz1Gv0ntvwZzbm5vvBeNpUdHV0h4PPOYOPNr3ZQncLdH5KWrjUkGaqoBayB4sZzi00DXIAL9nS5qYaK81DJOzdX4wDoTlXvXs2LjHkv2UgWfXiFMePEVptgEmlW73yDlL3uorFXQhf+GlNnh+JvK2fneclb+vZiaWlC66hjy5CvEjQ1wEuyWU1qoAoPoH+DePvA0/v2C8KGUyi/KMT2mazygDwjmHvIoLCzlJEPp356V7IxO7zcnVuoVQoDtfI9Vh1iRupCNJ2xbZhUCnlhE6nTbuSuLyX58LnkOK1bQhT1O7G8fr59H8vxO5s1YyrH+L7DizSjsT8GqzbOJyyylT2w2abYt/6Zy8v7yBtl7Kht0X1X6TiDp1WcZeLttPaJYuO0FQuzWbSpaSmxyHjVjFpH36xCKsyeRvNWN/dNIXRu4WMyatLdZU2hwrF/Sswz0BzCw89UYMo+5sU1LHZtS9fFrzMx00v29iXW4u5y1XH/77wOgzkDef8WSeTSA2JwlRFl2kHW/Ri3cRmyo3bq/WM6U5Dz3t2HH5bodPmQzj98BL7DiVR07X53HGptlFP+hJCxsOP2Ny2NnzCLSlD+QuNFEyG9Xs/BhJ/1OKjfw0qzlVEUk82HiUBTreYEPIxe8R8LARn4dq/JInGV+MOqwDy4Ws/L3f2DjUZPNMagQMD6ZlJhB9Vm0XZ6D1mM0yPKdtuCYrTNQmL2Q1I3ldufC46SmPkX/a2tUg+gg12Ag2Bz1QWObO7eZ6h3g/ZrnBF19xiVRHZfKueKx9Gj6Oic6M+uYOACCGBPhbpZMA5Xl1tcK2AZx5SUUAvQLxOXabMcHDgh22iplOpHH279fSv5FLSN/nUxmRAC+GNizJJ605Dfwz5lPuC9w+kNS0ooZuHgd07dOInXPG6T8RzF+n3+G8ZFk0j5YhL9XOStfjGdN5my4fS2JQ+y2WFVO6UWgqw6ty8nZPVjPQIKAwi9KKCPc4Ub9qq7+6LpC4cVSys5D/9vbsY6dwNXWu1oDpQV5rMzeQSW+RMVF1Z8TNTtImfU2hV4BjIx9ijFhwWhMh9j45lvkfTCXxXfmkBJhf4MbTuKHv2YQAN9RuWcFCzP/RvLrvqxcOMp1N2xA/WIpiZmljuMU6wzkpcwm8yj4D3+WhGmjCOz2HYb/2cnKv25gxSejGPhEE78NVXnMm5/XYHyqPnI+KQPr/11dsIz0jw34P/IScWF+9W9461zX3VRM5otzyTuvEDD+JeIeGYZOMVC690OWrdpAyqxSYpcuIaqnH4OemY/Wpvtt+eZ5rCyCkOnzGW/bTeYOvevP04CWkQlxDLFW8uQGUlYWu16kTm3ZclepFL87m8yjHtp9uyXHb81nLH6xnEvD40hLHIaOCvZvXUrmZnPiMd+sFwixa010+N4A7tDTv8sT6DYup3jDZ1Q+PMHhWnPs4w+oxIfxkfY9HkzsTP+AkTnPOun+byL/r8vNvWMc3rIcgxcDiHrlN4z/pRYN1ZTt/Btp2fNIUBeR+Wt3etPYa+4xW8PO+bGkF0LAIy8wPWogQT4mDm18i/TNH5L0up4VC8Kb/C0Q4joPBNvPyU2pXO6XxJ2eFHB1H4vfqFTOfbiZsyGeE6AKz2MdEwdA/4cY5PKRvI3acspPWv8RwM9snuRWWSNEf1/XF0Xb8YG/cLxsqcf+RtJ/fUi56kvUwgyb+fy0hD/8EGl78jh2CsJ9VfLXfUhlaBypA3yo2GMuVbn7M3xiM3n76hPwAO75Baw5rbKnqJTEIXYn7ZkKjgH01F67F9GuvmgB1HIqz0NIowGeL/49gYvl/OsMIIFgK3LWeqdjytsZTO9rc0vqO4qXFmsx+oegu/rgIZzY3/9A5dS3KczbT1WEfWuCBt+uPpbzyof+Y+cQd2w/qXvKqYAmg6nstDxMigJqwzvdmt1vk3lUxefh+aT/dtDV9QeEP0VK+FNNf+Q6A3lpyzmJAjZhpm+fQQy0uZGtqvoQMODbO4SBYe6PCT72/h/IO6/QPzbTpkUrgIGPJZPe+21iXttB5l92MHThKPzvGdRgn3UpBIpA138QA5tq4XLCcKYcCKDPwEGWVlFAOQS4DujMyw3iniGDGGj9ft1YzspUtJy0zSacfF2eoSXH7xkDgQtWE3u1NS6IkbF/RHNxKql78li77wlC7Fr3Gv/eHmJ86HLSiz5g59EJzBxg81btfvK2mqDXs4wc0HApn146lNMbeHvtKJbZPdxQi/7K23tUAvoEUH6y3PYd8pfNI++8DyMX/NGm/j6EPJZM6qVZxK1cys6xLZkHV2n2MTsyYQn+Ji0hveqvsOGxC1Arp5JeuIX9VeFXW4+FaMx1mizmW0rmDubARMt/czdz1mm5LymeaFNu4mAKt31r994YLh6HyyvG2JRL52SD9XzL9/+EG4cP9bhgq0/Yk3D8FJKXQLhS+kX+1ds2n18EuO6aZetYMfnW1z0HNQg4as5XABDQ0/XaqkqLzeMDuw6xGV9oUVtMduqHlKvgM/6/HSZ1P1a0H5Sh5i6cdaV8sU+1JKYxcNLSwKmEz7FLeqNicpG+31RTZX6h83d/P3gcf/z7ANS4/KygRasDUDFe8MS7zGuZH/3HRhFl+W9kmA6FStbMmc2Kow2/FN++tjfR1j/q6dMVOFZB0xN8VFH1T6CXFj+X5WrY8/o88ogiZop9v2cD+7cXAzoef2xQC1o04NhfZ5N5IoCYmJEtWLoJdcXs2WoCZSTTxzgGjz4DJzChJ1C0k/3nW3/zl2pVIABdsx6WmDD/nPjj25LeBTV7WDw/D8Y+yxQPHuzf/ON3KA84dMn0YcjDI1GA4qKSZmTV9SX8sSh8MLF1e8NsvDX78tijQsiEhxxaCk2/eIK4cIXKNW+RV2XzRl0lG9/Jw3T7BMaPsOstUnuI/N0q9JzIeCddSnUPjiKASvYXtdOUPLcHNAgCzXzRB/gApeaHe0I04TptEbyN4EXmLqFnt73M6b3OypgTu1yauZXBTsf+WbuVujNG8AyXjkOXx12PIewQPXpzI3v4/hzQoQlshOeqobK8/vIZ1NvdrlIq+bt2Xr3w6h4Z2uBi+0Ot+Wa3i8tEAyZKiyxPXH8Z5JDYqGbfh+SdB/Bh5HBL4hbVhKmqjM8+Wk72JyZCfj2T8K5AnZ6H52bgN9AHLh6i+CSAwshH7OcvLKf0f8yv/P0cb5uNRqP5hXJtD7jvooDDuM1Gy4Ghphro+Iyt1w8d4bHmLKFWCZUbSIxfzsbkNwiwdme2Z00wgYLmduCikzJUcqzgkCVpjInK3X9j5fdDSVzo2DXOVtXmP5D+RQCxS19gUOFsMhu+y7+OAYTQp9mtGeZxgQs/gqiFC4jir3brbgXnKylTgf56tE5/U3T0DwXOlPKvSlq5dduAoRLoo23mGVJN1ZmWLIe5dTX1Lb7o+wLLnhvIoTmNF92ZFsMhh8Rr/qlCAAAgAElEQVRD1Y2WP/l+EjM3W//lT9DIUUx5JNwxmGsJt47fRvTU0wc4ZqihBtx+EKeEPsrjvfJYsXsDO6cPtbSCVbJnQzEo4YwZ5uxE82XI08/Sf89Ssv+6n4deMV8nqra+xcrTCuFznyCo5rWGi9RUUQlwfj0pz+50XGXdd+Yu0WeqaPBbevKvJD27waG4sZUfWFxNPqPRAuVNlhcCrttA0H2X9+7n7Oif2G3y3D+5BHRppTq1vnwunUUCQdGIH8AmU5nW1822gJrP2LrbEgYq4Uwf04K7x7oSvrCMDxw48F6HMRzFe4uvvt748mg2Anj74u+rJ2hkFKk5o+hvvVvw8iUgzHLBLy/hCwCGcE9fu22eLib/IoAPQ0JbUGchWko3gZem5BG38hB5+TWEj7Ecr3UGireuYe3GfZRWmdxoDSlm5XzbroUKurBwNK4eupzZwOLMcvrEZhLVE6pcFG020yFWvG5OTDI91AeKWnPlHqCukpPHgId1zeslcLGc0jMtWA6o2ryYzBMBxC6Nwt+rdVuYuuhCGBRgvmNRq4rZ//4b7Hl/i2V8ZQtW2Ozjt7XpCJ8Qwoo/FbNycylRzwXB0R18eBp0MU8wpLGMrv5RvDR9C3Er32Llw4OI7Z3PsuxSlIGvMHO4D+pmu/IXq82tmwMmEje28UxiXXTtl226qiiPNWs2sP+YAZN06hAt0IkDwdsIXrSVkrljOD0xldMA/ZLo1ZIMm93v8uAgEGAIXTytz6rwIH74aQF3spXZOLbxb5ZRLgr9n3uq8YutKyeK2Q9AACEOKc7KOPaF5eXAV1izINzt7mqVxwrNNyP9gwmwq1dl/k7zTXDXUQy1DxKFaGOKjy9ggLofzH8wFZMZN5e8i1oGTnyW1PBhllT0BvJebiyLoF22zjpz4qSUWcXEZi1xHBdkKibzv5ZzMjyZlU3NDdpcdQbyUhay0/cplsW2JElG67nUVjfC/yqnGOgf0MwHR5YHUv37BTZrMVPRUhLfLSd87mq3ArORidmOmT2LlhKV7JhfFkA3fAqxNsdBwpkNJD67nMzMPTy0wP3fWXNlW3L8NqJONbdye9HsqWx8h0UR/pdi9mzdQv60ANieh4kQZo5w/Z3pxr1AVO5c8t7ZwM9+uZ5CVcf0meYkKw4PS3y16IBjXlqCwprRfbrP06Q6yRra7P3TgInivzxP8lYT/gMnMPOPDzFU54+Pj0LV5tmNZ6oVws51OkbQXeYupIPXH2Dw+q10JZXTjY4ndKUnXfrBpa+/bbpoezt7isv05mZpDRSNUtDp6m8KDDUuB5WZHVvOwo/MeQF9x8xnvpMxO35+5r+5mhep6nipZXxgCEHObngsN3b+Qc6meWhMDcX/Y36C7jjesZL8XZb3Rlgmiz9fTuGJ+hyHvtaJET0yM4P7zDfFWnxdDxq7evOsbaqgcE8Tx01NlXnsrHV/F783j7zzWqYsziZl+ij669yY482elzlxEmopewrsW4+qOfTeG+QRxbxf23eTtqXnZwMACjl22t0NX+Lk1sVknwgg9tXH0bk731xL+AcQ1BU4VkK5s0HvdaUUF0BbTPtSeegzqtAxNLQ5QbS167yOofc0I+3UhUJW/ikPxswnbng7hdU9hxDeHzAaMTZz0VY5fi1qjh6iHPAJCmh+oi7voUSN9QV1Dzu3bGDnbhUlIsp59+sGy4Uw/dfhKKf/RuZGEz5jXmB8Y13prcdg4UGKOzrxQtFfmb+1Bv8nlrBiwVOM7K9zfw5OIWx08kDQ1m34Dh/i9O8332XpQupi2abLgG1ymuJGE4a1VhmzkwXvw6iHZFJ54ZJuWH06+8L8Q7gMBc/vJy11AzWAEvoCaY20Ami6mq/A5Wca64SmUn7M/NRSGT6I/kD5yqlE/WGPZft++FqCQ1+fxtvca04UU2lb4doSjh01vxx6j10XnWM72HAGwIeRQ4IAE3vS41m8p/7mWemmMT+Nrqxquvtcndq87jhtXf6qKqpOAvjic7OrcpaxT4BGIzcRP1lVHonjJjNzUR7lTsZGmQqXsnCjCbpG8fBABaih8pQK+DomEzlTTGEzkj3UnDd/kRrNrQ3fOLmB7K0wPukFQlzGFb4MjRyEgoE1f86jyv4BTlUp5Q5jmj5jZXY59yT8d8u6FDZLECOjdcAeVn7kOP6pautytl4EJWIkQ1pz2hfTftasqoT+jzKkOQ2CZ/LYsFtt9nIn1y8njwkkt2frqqmcYycBjQZNsxZs6fFbzkn790zFrFlpSVb0cMu6VvYf/xQhQOF7f6MQH8Y4TBnhnM/wp4jpDyjhvPRMiItlghj5mPkYXJZd7HidrDNw7ItK19fPVlJzxjx3oG83u6OkzkBxYUU71EBcL669rqHF6RxY8L7NH57jwA6AJ+m+PsEc8JzbTGFcKpevlsm3dP8cQtdlbxLcHczB1HN22TSfpPt6x66hfZ5/l+8mPlffhdR2W9YyHjln35d8twO8X+v4Ce6Fh9NNICV2P3GZpaj577KyaJBDhk4AKneQmvw2+ecV/B+eQ1rC0PrJc+346gJQKEWtqsEETm5qSvnCknL0nqBAoJLCv9fQf2x/S1kdQx7RsTK7kpOVdoPvrdX5ZCFJfyph6B9ziL3Hcvm+Oh3FIO7p17B8fQvkKIYOAE5vYU2hjsefs7nxsCYsOGNwmbBA/WI5ca9toEpVCEnIZOEjrlsL2rp8AxdrLJn6AtC5HJxUY05mQVCDqT9EC3n5oveHY3uX8tLe5fj2DWFQkD8KRir35lNco4ISwPhXn7bMk+ZLSJgOjpay5t08Ap97CB2WefE+MLiZLAaqj+exZn0x3B7F+AfszjQV+sQuYWb/pqvv+2AcMduLyTy6lLiXy4kZPwStt3X9h6i55yVWLLCdp1DF5+FFzHGY57Bt6CbPJ/Z/Ysn8YDYzT0xgypgg/DBhKFhP9sflqLdHsTDOvZv/JtWUU1i4n7z3N1CoQsg9vlQWHKLStsxJy7/OlFJYoMIdgQRQRnl5MSszN1COL+Oft+8S6JpKALF/dDa3XeupOVVMYYG57saqYvZszKNQ9SXqsSHNDD5bevyWsuKFGIonTiGqnx9cLDXv5/MK/k/8pgVTL1ir8xBjIpZRvFuFXk84TBnROC1RKVkEXvBrchJ23fj5xBbEkrl1LtOPhzMl6iECuprPkY2bDlFZq2X8m5nM7N+2D9Z87xmKjlKOfbSCvH4zeagnGErzWZP5N6p8/KFdwlFxPbj2AsGQBAavT3BdpvtYBq4f28SKmjPZvBtl3Zqzz51ttlYZOPnOc9T2S6KXxwSmwpP5j13AYvUPzMkuJm9+PNUxc5j5cBD+iorpTCmfbVxO9sfl4D+U2Ld/Q1TfJq6YvYO5hzwKj5dRSTiO96EKXW4GVEuCmqMfsOFMCDOH1wc8usgXiNo8l7xP/saakQuY0tcH6lSqTueT9/ZbbKwZROzb7xBlMy/b1ekoegYRYPeU2vd2f3NwersfPhfLWfPnDzGOnU+DPDe3m7v/HLtYieEi9G+kdaE0P48qFUCleFchNY9EuezO1NblGzhTRinAwGBcjk66WEXlRaBrEIHX7lwZnuP2oSQsv5cxu5eT/d5nFJ84xM4TlvcUH3ThTxH79ARCbPa1bvx8Ek8kkb53KYn5SzEnfnmchJxk/HbOIi7b2YYaJotRumoJiniJpGdGOYyJVULjmOPuuEAvLVF/zEGb/QcWb91B5hs7zH/31jFw4nxSnxzU4BhU/CeQGNOOLVdeWqL+mIk2+23e/vhD0gutFfGh/yMvETdzFAGtVZlTO0j5U/0Yu+K1Cxuf+a/ob6QUAWMWsZB5pGwFvAMYv2CBWwF4PYWQ2Dlt3rpa9fHbpHxcv03fex4iIelZRvZtfvDSsuM3isTFevJTl5HygaXLg7eO8NhXXCZhaZpCyC9DYHcxAyc5ThnhUlddo7/1DVjPkfffYsWmPaz8056r29aFPU5K7FMMbI/fUt0EUhJLSUrfT+bL+8kEFN0gpvx2NUm+O4ibtbwdKiGuBzdcvnz5SlOFqr45z80338RNN93UZhX58ccf+b//u8DPevbghhtuaLPttC3zVBMX73qXwc93bCvc2W0vc3pFb4eWy6ZcuHgRVb3ELT63tFndRNMuXLjALd7edOmIKQyqisnbvIFPCioxnDdgUhV8e+oIuGco4VGjCO/jbjhSyca4Waw4HURsjpMEFkDVx3OJSy+GPkHozpajiclkof14w4vl7HxvOSv/XkxNLaD44N9/ECMfeYKo4Tp87J6cl6+cyksfmBppRauh+N0/kLq1FBM+9J/438x/MsRuHSr5aZNJ3Q1RCzc5JmGwOpNHcvxSiuu0RM3LcN6C2p7lbViTBehislj2mIvboaKlTEjOg4hkPkxspZYUD6T+oPL9D9/TtWtr9hl0gzWVvleXpsfvqCZM30MXHx+Uthxr1wzqRROXuvjg05JEUO3AnC6/Cz5d2+DItSRb6R+bbTN5fSOq8kicsZRjYxaRFxuE6Xs633gtt47fYjJHzyXPNtlRrQnTj26cH26xXHNqJpC2um1bVa3a9Bh0h/U3xoPPU+HZrr0WQY92G8GL3qV4Yg4l46xdUDvCl5xbAV2XNS8IFAIA/xCingsh6rmfuiIdA0foWJFdSuFRE1H+joGM/yOL2PBgJce+qKZLvyACfJ1cTLsGMDJhESOb6AhgFTB9NXnTG3vXl5DnlrDG5WdTGDhkCMruPXxWVEpsaCPjVXpGsXB9lHuVao/yV5koLSwFdIwMc/1M/FjRZ6gohA8ZdN0GgR3KS3H/BlFpeZKNtqJ09fHo40Lx8cD6eSn4dGTq1I7S0uPX26fVWpTVoi2WKSNGtUsQCB5wDDbnN0YIJyRZTKu7m5D1HRkEekodhADdiAnmwfu79lHTWCFvHf3DQpwHgR1ECXuUMV3BtHM/x1xkPfVINfv4pBAInUC4qziwrpT9O82JS6LCPGffCyFE89Ww5yPzlBHjm5gyQghRTwJBIUTb8X2IyWN8oGgDO91OSe8BvIKIejIILuaRl39tDbqv/HgDxfgQ9dhDLscUmvK3sPUi9H8yqt2engtxzVA0+PfUove9temyXl3w66kl4I7m5dzsfBR8emrx76mh1QcanTlIfpWWgMceb3rKCCHEVTJGUDQgYwQ9Q4eOEWxtpv2kTV1I/pBkVr7iah4zD1NXyZoXZ7GSp1j25zaeI621WPb1oQfnk/1bFxMeWz+b97OsWDwB/2vhs/0EHTZGUAghhPBgHjdGsPb77zu6CkKI1uQzlLh5URQnL2bZA/eS2F6TJP9UXjqmvPoCh15YSuraoSx7wtO7G5nI/8ti9nSNYuHzLoJAoHLtH1h5NojYpdd/ECiEEEII5zyqRfC774xttn7hvi433igtgh3sumoRtKjavZDE9GqmLF3SDpNPtx7T0eUkJX9G0Lx3mpW5s71VbZ5N3Ef+JL75CkNub7ycqWgpsfPLiVpsmY6jE5AWQSGEEMKRxwSCQoh612MgCGD6Io8840DGD9F6XrY/Vyr3sOYLf6LGBHlm11bVQP6mQnweiSLEZaxj4tjWLRjuedx1IpnrjASCQgghhCMJBIXwQNdrIChER5BAUAghhHAkWUOFEEIIIYQQopORQFAIIYQQQgghOhkJBIUQQgghhBCik5FAUAghhBBCCCE6GQkEhRBCCCGEEKKTkUBQCCGEEEIIIToZCQSFEEIIIYQQopORQFAIIYQQQgghOhkJBIUQQgghhBCik5FAUAghhBBCCCE6GQkEhRBCCCGEEKKTueHy5ctXmir0zbfVAPzHf0jcKER7+PHHH/nxxx+58cYbO7oqQlzzfqz7kStcwcvLq6OrIoQQQngMt+4yb7gBbrjhBrrcKBdRIdrDpUs/gpxzQrSKS1eucOXKFTmfhBCiVdzQ0RUQrcStQPDKj1e4xcebW7y927o+Qgjg3Dfn0Wh85JwTohWY/v1v/l37PV1vvbWjqyKEEEJ4DOnrKYQQQgghhBCdjASCQgghhBBCCNHJSCAohBBCCCGEEJ2MBIJCCCGEEEII0clIICiEEEIIIYQQnYwEgv+fvXsPj7K88z/+DocHQqZhExQCmogSKAnSmBUhhbDFUKUQICiltmhtgXJqJe1abJew1YBrWCu4behWDoLdKlRFhCCHxQpiQRow/EJKM2EhIEmsDAESEyegDwn8/pgZMjnOcJhMkvm8risXk5l77uc7E0f45D6JiIiIiIgEGAVBERERERGRAKMgKCIiIiIiEmAUBEVERERERAKMgqCIiIiIiEiAURAUEREREREJMJ38XYDLlStX/F2C+ElQUJC/SxARERERCSitJgjW1Fym9Nw5f5chLcwSEkLoVyz+LkNEREREJKC0miDo0qvnrf4uQVrI55/b/V2CtDD74Syy7MOYkhiB4etrFWSRdTqeR5OifHwlERERkban1QXBzp06aaqgSDtU9kEGc5638ejqFJ+HQABLZBRli+cwp3ApS2fFonFnERERkVqtLgiKSCtj2sjdnsVb7+4l/5QNuwlgED4gnrHfnkbKN6IJ79h8F/ZDy5nz7D7u+dWbpNzWVCsrKyensqGi3t19Z7P25SnUH9czP8hg3LO7G+0pKX07aYnxzFvyKNN/NJ+0nmvJnBTh8aWKiIiIBIqg6upqj7u0nD13npCQbnQLDvZZIdXVNZSeO8ftfXprRDBAnC8rp0OHDloj2IjSs+ewWEJ8+pnzqMbGgVXpLNpYCBHDmDJ9GimJ0YQbYJZZ2fHfGaz8wAYRicx/Pp2kpgKe/QDLfrCQXfem82ZaYrMjc2aFHRM4/sZ0nnqzzHmvhSm/2czsu+vXZ2K32zj+1lIW/smKeWsis1MfY2RsBOEWC4YznBa/Np3pf4BpL6/l0b438H5Im1V14QIXLn7BrT3C/V2KiIhIq6HjI0SkoZIdpP9gOgs3FjNo1gre/J/nmJbkCIEARngsKb9awXMTwjFt+8iYv5zcRpd8muSuWcKOiigendp8CAQwuluwdIfyU2VgGM4ppHaytu3DrN+4o4GlexTxwwdhYGHKwnSmfD2aiO61IRAgatJ0koxi1v0mC9v1vRsiIiIi7Y6CoIjUYT+2jtTZy9hng9gn1vLCd6KxNDr100L8rFSSDOBsFotetTZsUraL9e/Y4d4pjO3rZQEXD5N9EIalppHS3XGX+ecsdpU13tz2f/nYjdEMjWmiP0sikyZYMP/+Cll/97IGERERkXZOQVBEav0ji7SfvYLVhPAJz5HhaV1d8D0k3OO4aX9nF7k1dR8ufm8DucCwb47E60l5p/I5SASxAxMZ+4hrZWAuG94rbqSxSaHVCvcMon8z6xRjR43F0tTIooiIiEgAaoNB8Ah5kxPIdn2tOuLvglqfvMza92dyAnl5/i5I2oQaGxv+czlWEzCSSJ0R78VOmxbCejlvmgewlrg/VsyBd4uBWIYO9n4dqM2ai737SOL7QtQ3pxDv6u2NHVhr6rfOJ3cfxA71sCvogKGMNsD84C8cvOh1KSIiIiLtVhsMgoOJ25hNwsZseo650b7OY12QQM728x7aucJnJidv9JItIS6VhI3ZJGxczQ1vNZKX6eF1O97D2uD5JNbSG72o+IPtnQxWFjhuR019jEQvs5t56WoPlLl/lCoKOXwK6D6I/l5v2GnHeqgQ7h1ENED4aFIecC5MrMhi81/rjeedsnLAtDDoqx4u0LE/g+4BzIPkn/K2FhEREZH2qw0GwZZ1clUC2ZPfp/OM4f4upVU6uSqZyjtXO4NnNnfMgMq5bSQwS60aK1lX1/jFkvJNbw9ht1F83HXbAPfpmYX5HAD4av8GRz80XUc+uQchdnCsc6MYg8TkFOdon8nud3bhvlSw7MgBbMZohg7w1LGFiL4WwE5+YROLDUVEREQCiIJgc/IyKWU1CRtTCfN3La3UXbOySZg1+Or3vYeMohPr+VzTUdsU86+byXKd3xczmmHejuBdLOT4Cdc30US5HSFhK3EmxF5h3h/mfuwwe4lg2GC3FYV3j6099uHQBnZdnX5qYj3ieX2gS3hPRxwtLCrythoRERGRdqsdHyh/hLzJM3FfDtRpxjaGjOvR8LFjyWSvcX0zlZ4bU7kLHFMs41qu4pZ2evuTFK3Z73ZP7Wuv/1jp5PW4ZnzWvo/SXuQfrt1ExTK4P17P5LTmss91+7ZhxN9a+1BZqWNzl+jbe3tdh2MH0GHE9nW/N4qUHybxSvpuTIpZ93YuKT+Nx6CQ/EMQPdXD+kCniD53AFbMyipMcI44ioiIiASmdhoEz2NdMJNLM7aR0GhgcawzdLRL5sJIHweb0i3kzM2gurHHxqx2jKh50+ZmysukaE1fem580RF66+k97kV6j3O0y15MbTj24HTOHqqZSng7DtDtTxnFhbVr7wbd6e1ETpN97+24GiCjkkfWmQL65UXHwYKGF6N1DnasB62Q+B0G1XvEuPdfSDR2s9sE+zvr2fX9eMZW5rK3wsLIWC9ja0dn9Dt9njLwPuyKiIiItEPtNAg6VO/9kNPjJuL9eISP9JzIkI0Tb7zNTbeez/NS4WaFtrxMitbsp9OMhV6FRmktTHDbjTMi3MuJnGW7yPqzMwYaSUyf4PVKwMbVHCf/MMTOjW04WhfsOAtw90Y7kMuOv9gYGWLFxkju8bg+UERERETqa6drBHsQu2QboWRQ5NrNcsEWTvu7rNYkLpWEp6dycfFNOmYiL5Psxes1bbRNCqfHdfy2xPrWK+QCYBA7dzqJN7pFbYmVA2a99YFuYsc/enXE0bp1Bxs+OgBD4xnk9YijiIiIiLi04xHBHsQuyXbedkwBLVoALPHDCGFrnBoKzmMmUh238zLJXpxA3tPZxF3rCKFCYBtnEBUVAdgAsJXZwdOqu4KVpL/p2H0zfMJzZExoONGyRw9Hn2aDs/8aZzt8AFuD9YFuIkcz5d6VLDsEnFrHulMQPde79YEA1DhHL3v38P5wexEREZF2qh0HQXc9CBs5nMq9De/veidU+noKaaudGuom7n6CWd/w/t596URG01NIFQLbhahvpBD1h5UUAwc+PIj9gaSmA9bZfWQs3kAZYNw7j8wnGj943tI9HLBR+MlpPK/IMym0Nr4+sFY4oycksfzQbue6RAvx3q4PBGyfOncLDQnRRjEiIiIS8NpeEHQGj1ozyd4JdXb7bGTHUMfjDcPeXbNW8/nkmRRNzqCIev00GKXbf3X3zODrGTlrISdXJVC60+2OxQlkQ52RxYY7hjp3A63/mnpO5LYZeyhy9YH7rqHnsb7u+FlUr3HfeRXq/jyk1YucQsYTe5n+OyvmvhW8cmgo8+5tJN6V7CD9F8vYd9Yg4ltpZP5rIuFNTM0Mj+yPgRXzTDkexxhr8sndB9EzopsNacbXJ5HSfTcbKoBrXB/o2sU09g6/rxoWERER8bug6urqK54anT13npCQbnQLvtFFQE2rrq6h9Nw5bu/Tm6CgIJ9dR1qP82XldOjQgdCveD25L2CUnj2HxRLi089cQ3YK31xE6qpcTCOCxFlpzBkTS4RhYv80n10bVrJyeyFEJDL76fmkDPDwc6vYzcLJGRzoPoXMjbOJbaSJWWGn7Fw+e19dxsp9ZViGTuOZuSn0v8WCpYmXXvzmdKavKoahaWzOaGbkst5r2502iYyDFqYs38zsGK+eJO1E1YULXLj4Bbf20KRgERERl7Y3IigiPmIh+jsvsP1fcsna9BY7NmUwZ5UNu2kQflsU/eNGMn9lBkn9vPzHdPdo7ukLB07lc9wGDWZxns1i/veWY3W7y37wFZ46+ArGpBfY/kR8o91GTZhO0h/SsQ29lvWBjh1JMYYyqK+3TxIRERFpvxQERaSuiHhS5saTMvdGO4pi2INRrFxl5eAROykR9WLbrSlkvpdy7d0GJ5K2/b1re86xg+wywXjgXxjakoOsIiIiIq1UOz0+QkRag6hvTiEeOPDeXsr8WId1zw7sWEhJTtRGMSIiIiIoCIqIL4WPZuoECxzawI5TfqrBvo/N79ghZhopd/upBhEREZFWRkFQRHzIIH7GfJKMYtat34fdDxUUb17LbjOW2f+W4vEQCxEREZFA0erWCF64cNFzIxFpOyyJpD6bwuFfZpA54k3SvtGCu8SeWkf6H2zEPrGWKbe13GVFREREWrtWFQQ7d+rE53Z/jBmIv3Tp0sXfJUgLsNw7j8xfnif1+TSyojNJaYlQZs9l+YJ1WH6YScYkjQWKiIiIuGs1QbBTp47ceksPf5chIj4S8UA6a2/NIutjG+ZtET7ftMVeUkz4zBVkJkX5+EoiIiIibU+rOVBeRGr550B5kfZJB8qLiIg0pM1iREREREREAoyCoIiIiIiISIBREBQREREREQkwCoIiIiIiIiIBRkFQREREREQkwCgIioiIiIiIBBgFQRERERERkQCjICgiIiIiIhJgFARFREREREQCjIKgiIiIiIhIgFEQFBERERERCTBB1dXVVzw1Kj133tE4KMjnBYkIXLlyhStXrtChg35XI3Kj9HkSERFpqJM3jYKCgggKgo4dvWouIjfo0qVLBAUF0amTPnMiN6qmpoaamhp9nkRERNx49bfi5cuX6dq1C126dPF1PSICmOaXdAsOprNh+LsUkTbP/NLki8s1BAd39XcpIiIirYbmyYiIiIiIiAQYBUEREREREZEAoyAoIiIiIiISYBQERUREREREAoyCoIiIiIiISIBREBQREREREQkwCoIiIiIiIiIBRkFQREREREQkwCgIioiIiIiIBBgFQRERERERkQCjICgiIiIiIhJgOvm7AJcrV674uwRp44KCgvxdgoiIiIhIm9CqguBnn1X4uwxpozp17Eho91B/lyEiIiIi0ia0miDo0rtXL3+XIG2MecmkoqLS32WIF6r+tpWt9iE8NDwCw9fXOrqVrbY4HhkV6eMriYiIiLQ9rSWLxWIAACAASURBVC4IduzYQVP85JqYl/xdgXijfO+vSV12hkd+P97nIRAgJDKS8ox5/PTkEjKmxxDSAtcUERERaStaXRAUkVbGtJH3v1vZtGs/BUU2qkwAg7D+cTz40OOMH9mPsI7Nd1GV+3tSl+wnbsE6xvdpqlUBa777czbVH9y940e89NLD1B/XM/f+moeX7Gm0p1H/vpn5w+OY8+x3mTt3Ac/csoKlEyM8vVIRERGRgBFUXV3tcZeWM2fP0bVrF7p06eKzQi5fvsxnn1Vwe5/eGhGUa3Lh4kUqKirb1RrBiooKugUH09loibGzJtTYyFn7HBmbTkCv+3joB48zfng/wgwwywt4d8ULrN1rg14jSH1uIaOaCnhVH5E54xn2/PNCXv3FiGZH5szKKi4BhW/NYuFb5c57Q3johQ3MGFS/PpOqqjMUvv0bFr1ZgHnLCGb85LsMj4kgLCQEwxlOS/40m7mvwvdfWskjd9zQOyJtlPmlyRdffkFoaPv5f4SIiMiN0vERItJQyU4yfjSH9E0lxExfzqsvL+L7oxwhEMAIi2H8guU8kxyGeeZDlv7b78mraqwjk7w//Jp3KyN55JHmQyCAERpCSCiUnyoHw3BOIa1i244PMes37mgQEhpJXEIMnQnhoV8u5KFh/egVWhsCASInPs4oo4Q3freVM9f3boiIiIi0OwqCIlJH1fHXmT/vt+w/AwPnrOC5b/cjpNGpnyHETf8xowzg3FYy1hc0bFL+Pm9uq4L4h3nQ29G4i4fJyYEhP3mKZOcAjrl7K3vKG29+5lgBVcb9DBnYRH8hIxifHIKZ/z9szfeyBhEREZF2TkFQRGp9upVnnvojR00IS17EIk/r6oLvYcjXHDertr1PXk3dh0t2vU0eMGR0ImHe1lBUwEdEEDNgBA9+27UyMI9Nu0oaaWxy4mgBfC2W6GbWKQ4cOYaQpkYWRURERAJQGwyCR8ibnEC262vVER9f7zzWBW7Xm5zJSZ9cx/G6craf96qd7+uRgFNjY9PS33PUBIxRzP1hnBc7bYYQ5jrxxczh6Cfuj5WQs6sEiGHIIO/37DxTkEdV6HDi7oDI0Q8T5+rtrZ0cranfuoC/7YeBQwY2X2v/+7jfAHPfh+Rc9LoUERERkXarDQbBwcRtzCZhYzY9x9xoX46Q5zl8QacZ20jYmE3CxlTuutHL3pDa15/w9FS/ViLty5ltL7DmqON25CPfY7iX2e3S1SE2G+Vlbg9UniCvCAiNIdrr40GrKMg9Af8c4/ichd1PcpJzYWLlVrYeqDeeV1TAR2YIMQM8jFx2jGbg1wDzIwqKvK1FREREpP1qg0FQRG66mgK2Xl3jF0NykreHsNsoOeG6bYD79MwTVnIABkQ3OPqh6Tqs/C0HBg6KdW4UYzB87HjnaJ/Jnm3v475UsPzvH3HGuJ8h/T11HEJE3xCgioITTSw2FBEREQkgCoIignngHba5zu8beD/3eTuCd/EEJ67OTe7H7W5HSJxxJcReYd4f5n48jw+J4L673VYUDhrDd10bzeS+zZ6rSwVNCvI9rw90CbslCoCTJcXeViMiIiLSbrXjA+WPkDd5Ju7LgTrN2MaQcT0aPnYsmew1rm+m0vOap3/Wv9ZwQl96kdie9dudx7ogmcpjTT0OnW8D64IEKo857xizmoRZg6+pGpFrVfC3/Vc3UQm5ux9ez+Q8msd+1+0+9xF3S+1D5eccgatfH697c+4AOoSBdXYYjST5+6N49T/2YFLC61vySP5JHAYnKPh/0O8RD+sDnXr1iQIKMCvtmIAfT2gUERER8bt2GgTPY10wk0sztpEwrkcjjzvW2bmC2YWRroB4vdd6n69szL66qcXJVQmUzs3k5HWsJ7y4ONlR95IeULqFnLkzyRuWTVyc5+d6r2FIvmpAGncsmUjvm3k5aeXKKTlRu/Yupm+Ul88z2b/r3asBMvJbI+pMAf3youNgwc5ejNY5VFGQUwDDHyam3iNG/AiGG3vYY0LVttfZMzWOByvz2F8ZwvAYD+sDXTp2dvxpK6ccvA+7IiIiIu1QOw2CDtV7P+T0OF+Hmh7ELkmtc89dw6ZSurOpttnN9lY7agn0nEj4mAxKDxyBuJs5KugKwiIAX4LbbpwRYV5O5Cx/n227nTHQGMX3k71eCdi4mkKO/g0GzoxtOFoX7DgLcM+mKiCPd/faGGEp4AyJxHlcHygiIiIi9bXTINiD2CXbsC5IpmhyBkXg05Gu09ufpGjN/nr33sQdPT/+mNMM1iid+Eg44RHA0Wt71tFNfyQPAIOBMx9nePANlvFJAR+ZETx4d+MnDg781veI3PQyJcDRHe/y9p0fwZBfEOP1iKOIiIiIuLTTIAh1R98cU0CLFgA3OwzmZVK0BkJfyq5d85eXSfbim3iNO++8ySFQU0PFnUFkZARgA8BWXgWeVt0dfZnn3nLsvhmWvIhFyQ2nZ4aHO/q81ODsv8adyfuIMw3WB7qJvJ+H4l8mMxcoep03iqDfTO/WBwJQc8nxZ0SY94fbi4iIiLRTAbJraA/CRg5v9P6udzqnkN60ax0hb/H6Jh5zHU7/JNZSL7rKy6R053BCJ93szWLcziKs/3VdIdD1upo/k/H09ifJnpxA9oItTb7f3rSRmy8ycfzV9X05+z+iqrnG5z5kacbblANG/I9ZOqfxg+ctoY64deLTM15UYHLiaAEMj2uwPrBWGKOSR7lNGw3ha96uDwTOfOrcLTTEoo1iREREJOC1vRHBvEyy6wStmWTvhLq7fTY24jWVnhsbhpy7Zq3m88kza6eQXuuuoXGPEjogmcq5CTjGH4cT+nQalxafusYX1ofOA+Dimvo7mL7o5wPsJSBEPkz6nA+Zu6IAc/9qXs29jznxjcS7kp1kLPwt+88Z9HrgKZamjiCsiamZYZH9MCjAPFOOxzHGmgL+th/6/aBfsyHNGDaB5NA9bKoErnF9oGsX04GR2iZGREREpO0FwbhUEjamemh0LZuh3OjGKU1sALPxGtp6fKy186723uNepPe4G28jvtFr4mJeMP+Dp9bmsXXRPMqmP8WMB2LoZZhUfVrA+5teZu3/noBeI5jz258xvr+HSZl9Y/kaW8k5VkgJoxjYSBOzsoryc1b2r/8NW00Iyd1D3pAJRN8SQkhjaw47xvDgtyPZtLYEhsRdw/rAKmynHHE0ZoD3o4giIiIi7VXbC4Ii4iMh9Pv2Et4emcfWLW/z5y0vkLrWRpVpENYnkn5fG0Hq7xYz6i4vV9iF9iPuDsgpKqDwDAysPxB3bitpj/++zh41VTl/ZGHOHzEmLuHtOY2fmRKZ/DijXnsO25BrWR/o2JEU4z5imlqDKCIiIhJAFAS9VH11yub1HDh/M9Wf9noTdycVAegVx/iZcYyfeaMdRTJkdCRr1haQk1/F+F71Ytst41m6ffy1dxs8gvmbt1/bc45/xPsmGEkjGHKju5uKiIiItAMKgh61timbOgNQ2o7I0Q8Tt/a35OzaR3nSGL/t1nl0706qCOGhsSO0UYyIiIgIAbNrqIj4Rdj9fCc5BHLf5t0iP9VQ9SFbt1XBwB8wfpCfahARERFpZRQERcSHDOJ++DNGGSW88caHzR9L4SMlW/7IHjOGGfPHo/1CRURERBxa3dRQe5U//qkoIj4TMoK5z4wnb+ELvPT1e5g/0ustXm5c0etkvHqGgXMW8VCflrusiIiISGvXqoKgYRhcuPiFv8uQNqhDR6/PERA/CIn/MUvnlzN/2dNs7beM8S0RyqryWPGr1wn5/jIWTdSRESIiIiLuWk0Q7NChAxZLC44UiEiL6pW0kBW3bGXrKRtmnwifb9pSVVJC2PTlLB0V6eMriYiIiLQ9QdXV1Vc8NTpz9hxdu3ahS5cuLVGTSMCrqKigW3AwnQ3tcSlyo8wvTb748gtCQ0P9XYqIiEiroc1iREREREREAoyCoIiIiIiISIBREBQREREREQkwCoIiIiIiIiIBRkFQREREREQkwCgIioiIiIiIBBgFQRERERERkQCjICgiIiIiIhJgFARFREREREQCjIKgiIiIiIhIgFEQFBERERERCTBB1dXVVzw1Kj133tE4yOf1iAhwxfmp1GdO5MZduXKFK1egQwd9oERERFw6edOoQ4cOdOzYAaNzZ1/XIyLAxS++gCsQHNzV36WItHmmeYnqmmq6BQf7uxQREZFWw6sgeOXyZboEd9VfoiItpKrqAhZLiD5zIjfFBaov1hDSrZu/CxEREWk1tEZQREREREQkwCgIioiIiIiIBBgFQRERERERkQCjICgiIiIiIhJgFARFREREREQCjIKgiIiIiIhIgFEQFBERERERCTAKgiIiIiIiIgFGQVBERERERCTAKAiKiIiIiIgEmE7+LsClurqGS9WX/F2GeKljx44YnTv7uwwREREREbkOrSYIApR/VkGnTq2qJGlETU0NPcLD/F2GtEH2w1lk2YcxJTECw9fXKsgi63Q8jyZF+fhKIiIiIm1Pq0tdET1vJSgoyN9lSDM++fS0v0uQNqjsgwzmPG/j0dUpPg+BAJbIKMoWz2FO4VKWzorF0gLXFBEREWkrWl0QFJFWxrSRuz2Lt97dS/4pG3YTwCB8QDxjvz2NlG9EE96x+S7sh5Yz59l93POrN0m5ralWVlZOTmVDRb27+85m7ctTqD+uZ36QwbhndzfaU1L6dtIS45m35FGm/2g+aT3XkjkpwuNLFREREQkUQdXV1Vc8NTp77jwhId3oFhzss0Kqq2soPXeO2/v01ohgK/fJp6fpER6mNYI+VHr2HBZLiE8/cx7V2DiwKp1FGwshYhhTpk8jJTGacAPMMis7/juDlR/YICKR+c+nk9RUwLMfYNkPFrLr3nTeTEtsdmTOrLBjAsffmM5Tb5Y577Uw5TebmX13/fpM7HYbx99aysI/WTFvTWR26mOMjI0g3GLBcIbT4temM/0PMO3ltTza9wbeD2mzqi5c4MLFL7i1R7i/SxEREWk1tGuoiDRUsoP0H0xn4cZiBs1awZv/8xzTkhwhEMAIjyXlVyt4bkI4pm0fGfOXk2tvrCOT3DVL2FERxaNTmw+BAEZ3C5buUH6qDAzDOYXUTta2fZj1G3c0sHSPIn74IAwsTFmYzpSvRxPRvTYEAkRNmk6SUcy632Rhu753Q0RERKTdURAUkTrsx9aROnsZ+2wQ+8RaXvhONJZGp35aiJ+VSpIBnM1i0avWhk3KdrH+HTvcO4Wxfb0s4OJhsg/CsNQ0Uro77jL/nMWussab2/4vH7sxmqExTfRnSWTSBAvm318h6+9e1iAiIiLSzikIikitf2SR9rNXsJoQPuE5Mjytqwu+h4R7HDft7+wit6buw8XvbSAXGPbNkXg9Ke9UPgeJIHZgImMfca0MzGXDe8WNNDYptFrhnkH0b2adYuyosViaGlkUERERCUAKgiLiUGNjw38ux2oCRhKpM+K92GnTQlgv503zANYS98eKOfBuMRDL0MHe79lps+Zi7z6S+L4Q9c0pxLt6e2MH1pr6rfPJ3QexQz3sCjpgKKMNMD/4Cwcvel2KiIiISLvVLoLg6e1Pkr1gC9d2qMF5rAsSyJ7s/Lrm59/sfrx3evuTtdebnEBeXuPtTq5q7vF6dU9+EmupL6uW1s72TgYrCxy3o6Y+RqKX2c28dLUHys67PVBRyOFTQPdB9Pd6w0471kOFcO8gogHCR5PygHNhYkUWm/9abzzvlJUDpoVBX/VwgY79GXQPYB4k/5S3tYiIiIi0X+0iCF6fHsQuySZhYzZ3zBjeCvpx8DrUDkjjjo2O68bFXc+VautOeClN54gEuhorWVfX+MWS8k1vD2G3UXzcddsA9+mZhfkcAPhq/wZHPzRdRz65ByF2cKxzoxiDxOQU52ifye53duG+VLDsyAFsxmiGDvDUsYWIvhbATn5hE4sNRURERAJIAAfB9u+uWTcSFCWQmH/dTJbr/L6Y0QzzdgTvYiHHT7i+iSbK7QgJW4kzIfYK8/4w92OH2UsEwwa7rSi8e2ztsQ+HNrDr6vRTE+sRz+sDXcJ7OuJoYVGRt9WIiIiItFsKgiJC/uHaTVQsg/vj9UxOay77XLdvG0b8rbUPlZU6NneJvr2313U4dgAdRmxf93ujSPlhknOEsJh1b+c6ay0k/xBE3+thfaBTRJ87ADArq7RhjIiIiAS8tjkjsHQLOXMzqHa/b8Coeo2OkDd5JrX7Qkyl58ZU7mqB8ppyclUCpTvd7hiQxh1LJtK7wWP7KZqcgWvcIvjpaxvVO739SYrW7Hd+N5zQl14ktueNVi/tVxnFhbXRaNCd3k7kNNn33o6roSoqeWSdKaBfXnQcLGh4MVrnYMd60AqJ32FQvUeMe/+FRGM3u02wv7OeXd+PZ2xlLnsrLIyM9TK2dnSuNTx9njLwPuyKiIiItENtLwg6Q2Dnp7MZ4gxHp7c/SdFe90aOEHhpxjYSxvWobTM5E/wUBk9vf5LSj9O4Y6Mj+NV316xs7prlei2jrgbE69F73Iv0Hofzvdpz/UVLgDDBbTfOiHAvJ3KW7SLrz84YaCQxfYLXKwEbV3Oc/MMQO9e1PtBNsOMswN0b7UAuO/5iY2SIFRsjucfj+kARERERqa/NTQ09uTmD6jGrmx0hO739FS4OSOM2ZwgE6D1uGsGs5/MmdthsEcf2UK6dOaXVCafHdfzWwfrWK+QCYBA7dzqJwTdYRomVA2a99YFuYsc/enXE0bp1Bxs+OgBD4xnk9YijiIiIiLi0sRHB83zxMXQa2cdz02MZdaZXutzov1WvV+9xLwJPUjQ3gWxAUzal9TCIiooAbADYyuzgadVdwUrS33Tsvhk+4TkyJjScaNmjh6NPs8HZf42zHT6ArcH6QDeRo5ly70qWHQJOrWPdKYie6936QABqnKOXvXt4f7i9iIiISDvVxoJgD7reCZWffAr0aL6p2/q71uLqlE2cU0DnPolVYVBagahvpBD1h5UUAwc+PIj9gaSmA9bZfWQs3kAZYNw7j8wnGj943tI9HLBR+MlpPK/IMym0Nr4+sFY4oycksfzQbue6RAvx3q4PBGyfOn8tFBLScOqpiIiISIBpc1NDg28fDjvf56Tz+7obozj0HjKKTscy+Mf28w07aCV6DxnVaArvfVtfTSGVlhc5hYwnnGvz9q3glUP2xtuV7CA9NZ3dZw0ivpXOaxkpRDQxNTM8sr+jvzPlNNFbrZp8cvdB9Fejmw1pxtcnkdLd9d21rQ907WIae0dr+vWQiIiIiH+0sRFBx6jaxU8SKJ28nlKAMatJeLov2a+7Neo5kSEvQc7cZLLXuD/bbefQBjuPunbqvMYpm17202DHUBy7gTa4TlwqPcckUHp1Cum17hp6HuuCZCqP1d5T6eyr04xtDBnnYSRVAlbEpAwyzUWkrsol61dzOD8rjTljYokwTOyf5rNrw0pWbi+EiETm/X4+KQM8TMq8cxDxZHHg/45TTBKxjTQxK+yUnctn76vLyDLBcmgXuUNT6H+LBUtj87g7xjL2kSg2rCq+xvWBdmynHFNeB31V+4WKiIiIBFVXV1/x1OjsufOEhHSjW7DvVthVV9dQeu4ct/fpTVBQkM+u0x7cjJ1F63DuLtrNywD8yaen6REehtG58824ujSi9Ow5LJYQn37mmmTLJWvTW+zILsJ21obdNAi/LYr+cSMZnTKWpH7errArZsOPprPyVCzzXsskpX7+OptF6veWY23kmcakF9j+RHzj3V7cR8bkdGyzXiNzkpehriaX5ROeIosk0jem3fjGNtKmVF24wIWLX3BrD60OFRERcWlzI4Ii4mMR8aTMjSdl7o12FMWwB6NYucrKwSN2UiLqjSDemkLmeynX3m1wImnb37u25xw7yC4TjAf+haEKgSIiIiJtb42gOB3LoGhyAtmTE8i7riMxzmNd4Hh+dp2prSI3T9Q3pxAPHHhvL2V+rMO6Zwd2LKQkJ2qjGBERERE0Itgmue8+ev16ELsk23MzkRsRPpqpE1aS+84Gdpway6N9/VCDfR+b37FDzDxS7vbD9UVERERaIY0IiogPGcTPmE+SUcy69fs87x7qA8Wb17LbjGX2v6V4PMRCREREJFAoCIqIb1kSSX02BcvuDDI/aOEoeGod6X+wEftEGlNua9lLi4iIiLRmrW5q6Lnz/lxJJCK+YLl3Hpm/PE/q82lkRWeS0hKhzJ7L8gXrsPwwkwxvdxcVERERCRCtKgiGfsXDuWTSKhiGjo2QaxfxQDprb80i62Mb5m0RPt+0xV5STPjMFWQmRfn4SiIiIiJtT6s5R1BEavn1HEGRdkbnCIqIiDSkNYIiIiIiIiIBRkFQREREREQkwCgIioiIiIiIBBgFQRERERERkQCjICgiIiIiIhJgFARFREREREQCjIKgiIiIiIhIgFEQFBERERERCTAKgiIiIiIiIgFGQVBERERERCTAKAiKiIiIiIgEmE7eNrxy5QqXL1/2ZS0i4uby5cv6zIncBFeuXAHQ50lERMRNUHV19RVPjc6eO8+l6uqWqEdEnAyjM6Z5yd9liLQLnTp1olp/j4mIiFzl1Yjg5StX6BbcDaOL4et6RASorKykU8dOdPunEH+XItLmmV9+yZemyT/90z/5uxQREZFWw+upoUEdoEOHIF/WIiJOQUHQsWMHfeZEboIOHToQFKS/w0RERNxpsxiRVkv/aBURERER31AQFGm1PC7fFRERERG5LgqCIiIiIiIiAUZBUKTV0tRQEREREfENBUGRVktTQ0VERETENxQERUREREREAoyCoIiIiIiISIBREBQREREREQkwCoIiIiIiIiIBRkFQREREREQkwCgIioiIiIiIBJhO/i7A5fLly9RU1/i7DAkAnY3O/i5BRERERMSvWk0QBPjcbsfQP9LFhzp27Ehn9N+Yv1T9bStb7UN4aHgEhq+vdXQrW21xPDIq0sdXEhEREWl7WlUQBOh5yy0EBQX5uwxph8o/q6Dmskad/aV8769JXXaGR34/3uchECAkMpLyjHn89OQSMqbHENIC1xQRERFpK1pdEBSRVsa0kfe/W9m0az8FRTaqTACDsP5xPPjQ44wf2Y+wjs13UZX7e1KX7CduwTrG92mqVQFrvvtzNlXWu/uOH/HSSw9Tf1zP3PtrHl6yp9GeRv37ZuYPj2POs99l7twFPHPLCpZOjPD0SkVEREQCRlB1dfUVT43OnD1H165d6NKli88KuXz5Mp99VsHtfXprRFB8wjUiGBwc7O9SPKqoqKBbcDCdjZYYO2tCjY2ctc+RsekE9LqPh37wOOOH9yPMALO8gHdXvMDavTboNYLU5xYyqqmAV/URmTOeYc8/L+TVX4xodmTOrKziElD41iwWvlXuvDeEh17YwIxB9eszqao6Q+Hbv2HRmwWYt4xgxk++y/CYCMJCQjCc4bTkT7OZ+yp8/6WVPHLHDb0j0kaZX5p88eUXhIaG+rsUERGRVkO7hopIQyU7yfjRHNI3lRAzfTmvvryI749yhEAAIyyG8QuW80xyGOaZD1n6b78nr6qxjkzy/vBr3q2M5JFHmg+BAEZoCCGhUH6qHAzDOYW0im07PsSs37ijQUhoJHEJMXQmhId+uZCHhvWjV2htCASInPg4o4wS3vjdVs5c37shIiIi0u4oCIpIHVXHX2f+vN+y/wwMnLOC577dj5BGp36GEDf9x4wygHNbyVhf0LBJ+fu8ua0K4h/mQW9H4y4eJicHhvzkKZKdAzjm7q3sKW+8+ZljBVQZ9zNkYBP9hYxgfHIIZv7/sDXfyxpERERE2jkFQfHa6e1Pkr3qSMDX0K59upVnnvojR00IS17EIk/r6oLvYcjXHDertr1PXr29eEp2vU0eMGR0ImHe1lBUwEdEEDNgBA9+27UyMI9Nu0oaaWxy4mgBfC2W6GbWKQ4cOYaQpkYWRURERAJQGwyCR8ibnEC260uhoGXkZVK0BkInDfZrGb3HTSN450xytp/3ax3tUo2NTUt/z1ETMEYx94dxXuy0GUJYL+dNM4ejn7g/VkLOrhIghiGDvN+z80xBHlWhw4m7AyJHP0ycq7e3dnK0waavBfxtPwwcMrD5Wvvfx/0GmPs+JOei16WIiIiItFttMAgOJm5jNgkbs+k55kb7Oo91QYJChSelW8hZvJ7gp18ktqe/ixlM3EtpsCaZvDx/19K+nNn2AmuOOm5HPvI9hnuZ3S5dHWKzUV7m9kDlCfKKgNAYons1fF7jqijIPQH/HMNdAGH3k5zkXJhYuZWtB+qN5xUV8JEZQswADyOXHaMZ+DXA/IiCIm9rEREREWm/2mAQlJZ2cnMG1QPS6BnnuW2L6DmR8DFw8fUtnPZ3Le1FTQFbr67xiyE5ydtD2G2UnHDdNsB9euYJKzkAA6IbHP3QdB1W/pYDAwfFOjeKMRg+drxztM9kz7b3cV8qWP73jzhj3M+Q/p46DiGibwhQRcGJJhYbioiIiAQQBUFpXukWynZC8Hcn0tvftbi5a1IanY5lUKpRwZvCPPAO21zn9w28n/u8HcG7eIITJ13f9ON2tyMkzrgSYq8w7w9zP57Hh0Rw391uKwoHjeG7ro1mct9mz9WlgiYF+Z7XB7qE3RIFwMmSYm+rEREREWm32vGB8kfImzwT9+VAnWZsY8i4Hg0fO5ZM9hrXN1PpuTHVMS3tGq7D09n0/MeTFK3Z77h7zGoSZtVdT3dyVQKlO2u/D346mzjnKNvp7U9S9Mk0ejLT0WbM6jq3a/s6j3VBMpXHGntdzn7WQOhLdadxnlyVQOnHadyxpDbQNVfPVadPUc1UwlvLaKBLzxF0GwAX/nEe4nr4u5o2r+Bv+69uohJydz+8nsl5NI/9rtt97iPultqHys85Ale/Pl735twBdAgD6+wwGkny90fx6n/swaSE17fkkfyTOAxOUPD/oN8jHtYHOvXqEwUUYFbaMQE/nX+fOQAAIABJREFUntAoIiIi4nftNAiex7pgJpdmbCNhXGMhwbHO0BWqLoysDVLX6+LiBIrGrCZh44uONXVzZ5I3rDZYXQ1iG51BrHQLOXMTyHMPXztnUjZjGwlPryN78UxKx6wm4en3yV78PidnDeYuVwi8czUJS5zBsHQLOXOTycHxGnqPm0bpmplcyDkPV1/TET7fCcFP1wuBnuoBTv/jFAwYRes7gr0HXe+Eyk8+BRQEb0w5JSdq197F9I3y8nkm+3e9ezVARn5rRJ0poF9edBws2NmL0TqHKgpyCmD4w8TUe8SIH8FwYw97TKja9jp7psbxYGUe+ytDGB7jYX2gS8fOjj9t5ZSD92FXREREpB1q11NDq/d+2HJryNxH7ZyjVZf+4dyEpnQLZTuHE/qvbtMrXevcDrjvejqV8KvhbSo9640okreOymPD6+7c2XMit80Y7vZaB9OzzvdA3vtcZCpfcQU8r+uBi5/sp1X7+GOtE7xhX4LbbpwRYV5O5Cx/n227nTHQGMX3k71eCdi4mkKO/s19faCbYMdZgA55vLvXRtWJAs6QSJzH9YEiIiIiUl87HRHsQeySbVgXJFM0OYMigAF1p0XebJ3cF0fRg9gl2fVa7KdybgL17+Wadz7tS9fGdu48durqVNfeQ0bxjzUZlOZNpHfceayvr6fTjG31prt6V0/w7cPh42utsQXdeWerWrt4cwW10HXCCY8Ajl7bs45u+iOOJZoGA2c+zvAbHTb+pICPzAgevLvxEwcHfut7RG56mRLg6I53efvOj2DIL4jxesRRRERERFzaaRCEumHMMaWyaAHgwzDYvOEN1u3dVAP61k7f7DmR8DEZlB44Ar0/5sKx4XT71/rTJ72rp/dtfSlyC5mtx3m++Bg6jezjuWmbdaWFrmMQGRkB2ACwlVeBp1V3R1/mubccu2+GJS9iUXLD6Znh4Y4+LzU4+69xZ/I+4kyD9YFuIu/nofiXycwFil7njSLoN9O79YEA1Fxy/BkR5v3h9iIiIiLtVLueGlqrB2Ejhzd6f9c7vZhCmpfpPMA+k5PNtWtKzxF0G7Cfyv+6weMO4u4nmPWUrnKbvlm6hX+s2d9gV8+7JqXRaef7WHP2UD1mWt3Ady319O5LJ9bzebO7czrOY8ye3NyZjDerjVPph46AO0TrA2+GyMTxV9f35ez/iKrmGp/7kKUZb1MOGPE/Zumcxg+et4Q64taJT894UYHJiaMFMDyuwfrAWmGMSh7lNm00hK95uz4QOPOpc7fQEIs2ihEREZGA1/ZGBPMyyV683u2OmWTvhLq7fTbcMdTxeMPRwLtmrebzyTNrp5Be866h3mhkqqpTozt1NmkwcRtXkzfZ9Zqb6aPnCLoNyKByzXBCX6q31vBa6nGNLr6+hdNxrecIidM5e6geMIowvx9w70stNTUUiHyY9DkfMndFAeb+1byaex9z4huJdyU7yVj4W/afM+j1wFMsTR1BWBNTM8Mi+2FQgHmmHI9jjDUF/G0/9PtBv2ZDmjFsAsmhe9hUCVzj+kDXLqYDI7VNjIiIiEhQdXW1x/lnZ86eo2vXLnTp0sVnhVy+fJnPPqvg9j69CQpqwX8Ai2elW8iZm0HnawqtPnSd9ZR/VkHN5RqCg1vfHqj1VVRU0C04mM5GS45dVXHirf/gqbV5mEYEw6c/xYwHYuhlmFR9WsD7m15m7f+egF4jmJ72M8b39zAps3IP6d/9NTmhD7P09R8xsJEmZmUV5ees7F//G9bsLydkyOOkzZxA9C0hhDTxYyp5azZz15bAkF/wxuJRXk4NrWLP01NYmhPCQy9uYEZjxUi7ZX5p8sWXXxAaGurvUkRERFqNtjciKC2v50SGPH2K7MVPYvXlOkevHCFvbgbM2NY6Qmm7EkK/by/h7ZF5bN3yNn/e8gKpa21UmQZhfSLp97URpP5uMaPu8nKFXWg/4u6AnKICCs/AwPoDcee2kvb47+vsUVOV80cW5vwRY+IS3p7T+A84MvlxRr32HLYh17I+0LEjKcZ9xDS1BlFEREQkgCgIinfiUrljxpMUbT4C9Y+1aEGnt7/CxTGrmzgfUm6KXnGMnxnH+Jk32lEkQ0ZHsmZtATn5VYzvVS+23TKepdvHX3u3wSOYv3n7tT3n+Ee8b4KRNIIhrX9AWERERMTnAmSzGLkZeo97sfasxACuQbwXOfph4oCcXfso92MdR/fupIoQkseO0EYxIiIiIigIiogvhd3Pd5JDIPdt3i3y3Nwnqj5k67YqGPgDxg/yUw0iIiIirYyCoIj4kEHcD3/GKKOEN974sPljKXykZMsf2WPGMGP+eLRfqIiIiIiDgqCI+FbICOY+M56QPS/w0t4WjoJFr5Px6hkGznmKh/q07KVFREREWrNWt1lM6blz/i5B2rGOHZs49E58KiT+xyydX878ZU+ztd8yxrdEKKvKY8WvXifk+8tYNNH7g+dFREREAkGrCoJf+YrF3yWIiI/0SlrIilu2svWUDbNPhM83bakqKSFs+nKWjor08ZVERERE2p5Wc6C8iNTyz4HyIu2TDpQXERFpSGsERUREREREAoyCoIiIiIiISIBREBQREREREQkwCoIiIiIiIiIBRkFQREREREQkwCgIioiIiIiIBBgFQRERERERkQCjICgiIiIiIhJgFARFREREREQCjIKgiIiIiIhIgFEQFBERERERCTCdvG14+fIVamou+7IWEXFTXVNDB33mRG7Y5cuXuXIF/R0mIiLiJqi6uvqKp0Znzp6jpqamJeoREafOnTpxqbra32WItAsdO3ZQEBQREXHj1YhgUFAQoaFfIbhrV1/XIyLAufNldA3uSnhwsL9LEWnzLly8yBcXv+CWnj38XYqIiEir4V0QBDoEBdGxg5YUirSEIKBjhw76zIncBB2CgkB/h4mIiNShvxVFREREREQCjIKgiIiIiIhIgFEQFBERERERCTAKgiIiIiIiIgFGQVBERERERCTAKAiKiIiIiIgEGAVBERERERGRAKMgKCIiIiIiEmAUBEVERERERAKMgqCIiIiIiEiAURAUEREREREJMJ38XYBLdXUNX3z5hb/LkABgCQnxdwkiIiIiIn7VaoIgQOXndrp26eLvMqQd69BBg+D+ZD+cRZZ9GFMSIzB8fa2CLLJOx/NoUpSPryQiIiLS9rSqIAhwS49wgoKC/F2GtEPln1Vw+fJlf5cRsMo+yGDO8zYeXZ3i8xAIYImMomzxHOYULmXprFgsLXBNERERkbai1QVBEWllTBu527N469295J+yYTcBDMIHxDP229NI+UY04R2b78J+aDlznt3HPb96k5TbmmplZeXkVDZU1Lu772zWvjyF+uN65gcZjHt2d6M9JaVvJy0xnnlLHmX6j+aT1nMtmZMiPL5UERERkUARVF1dfcVTo7PnzhMS0o1uwcE+K6S6uobSc+e4vU9vjQiKT7hGBP+pe6i/S/Go9Ow5LJYQn37mPKqxcWBVOos2FkLEMKZMn0ZKYjThBphlVnb8dwYrP7BBRCLzn08nqamAZz/Ash8sZNe96byZltjsyJxZYccEjr8xnafeLHPea2HKbzYz++769ZnY7TaOv7WUhX+yYt6ayOzUxxgZG0G4xYLhDKfFr01n+h9g2strebTvDbwf0mZVXbjAhYtfcGuP8Ba4mpVXfpDBLq/bR/Po0nTG3urDkkRERBqhEUERaahkB+kLlrPPBvGzVvDM5GgsbqN+RngsKb9aQVTodJ56Zx8Z85cTtnoe8Q1SnknumiXsqIhi2tTmQyCA0d2CgZ3yU2VgGBimiYmdrG37mHZ3Yt0ppR0NLN2jiB8+CONPxaQsTGdK/bAIRE2aTtL6dNb9JovRv0lB44LiW19i/4cNm9ftwzFrfFiOiIhIE7RzhojUYT+2jtTZy9hng9gn1vLCd+qGwFoW4melkmQAZ7NY9Kq1YZOyXax/xw73TmFsXy8LuHiY7IMwLDWNlO6Ou8w/Z7GrrPHmtv/Lx26MZmhME/1ZEpk0wYL591fI+ruXNYjcsFjmvfYe773X1NcLpPi7RBERCWgKgiJS6x9ZpP3sFawmhE94jgxP6+qC7yHhHsdN+zu7yK03slH83gZygWHfHInXk/JO5XOQCGIHJjL2EdfKwFw2vFfcSGOTQqsV7hlE/2bWKcaOGovFObJoeluHiIiISDumIMgR8iYnkD05k5M3q8u8zJvbnw+d3v4k2ZMTyNl+3odXcb3Hzq9VR3x4LbluNTY2/OdyrCZgJJE6I96LnTYthPVy3jQPYC1xf6yYA+8WA7EMHez9np02ay727iOJ7wtR35xCvKu3N3ZgbTCFLp/cfRA71MOuoAOGMtoA84O/cPCi16WI+Jdpx15iJfeEDXtT/93WmNgr7NjtTf+Kw6yw0+TD7tdopJFZYcde0cSTTTv2CrvHqa2OPty/buDXMV7V2/xXnXovengNZvP1mhU2Cg9bKW6sD+f709R7bzb1c/Pm5y4ichNojeBNdx7r6+vpNGMbd/noCqe3P0nR3lHcsWQivX10jZtrMHEbswE4uSqB0hvq6wh5k2fC09nExd2M2sTF9k4GKwsct6OmPkail9nNvHS1B8rOA32d31YUcvgU0H0Q/b1emGfHeqgQ7n2MaIDw0aQ8sJzcP5tQkcXmv04jNtFtpeApKwdMCyO/6uECHfsz6B7IOniQ/FOQ2NQ0UpHWoCKXdc8vY91BW50RbGPAFJ55ejbD3P9zP7uDtMeWY42Zx2vLG66BtW1OZfrvrEQ/8VrdnXPthWRlZrByd3HDayyazbBbAXJZOfkpskjhhffmXf2lDAAFr/DYz9dh6zeb134zpZm1t64+6jOI+vqjzJv/KPHdPb0h11pv81Kef4959zqrWzWJp96pe1/tNXNZPvMpss42fP1lB1eS/nwWVveQaESQOCud+ZOisQC27Wk89jsrsfXfe8rYnf4YGfsMxma8xs+HOv+fVlPMjufTWV7nNRpEfGM26f+aQrTOwBGRm0xB0C2k3BSlH3Lh2FTCl/S4eX36UO9xL9J7nL+rEL+rsZJ1dY1fLCnf9PYQdhvFx123DXCfnlmYzwGAr/ZvcPRD03Xkk3sQYn8a69wYxiAxOQXLnzdgx2T3O7uYkzj26jTTsiMHsBmjGTrAU8cWIvpa4KCd/MIyiGmJ3SNFroM9l+VzniLrrEH05J+TOn4kUZ1t5P/lNZb/YQMLp+czb3VmM8ew1DIPLyf1d9aG06FrbGT9eyrL/w4R35jNz384lv6hdmyHdvDK2g2s3DmWYY8186mtsbJy8TpsxDLv36YQ4eH4GIck0jamMtTxIil+fwXpv3uFpzLCefP5sc1PHb/meuOZ9uy3Hb9MclO4eSGvHPKmVgAbWf++kKyzDR+xH1rOnLQsyoKjmZI2n5R7I7BUHmfXhpWsXPUmh7+Z1uwv0sr+vIyl+0zCJzzH7KGW2tf48zks/7uFxFkvMH1Mf8KxYzu0gaVLl5N6HtYuS/HyvRYR8Y6C4E12cnMG1WNW+2w0UMQXzL9uJst1fl/M6LojDs25WMjxE65vooly+8eprcSZEHuFeX+Y+7HD7CWCKYPd/ll491ge7buBlaeAQxvYVTKWKZEAJtYjVrhnUrPrA13Ce0YBVgqLisD7FYsiLcr66iKyzhrEPuF+9mU0w76TzqC+y3gsbQfLM3cw0lN4suey8vks7IYBZt0oWPbnZSz/u4nlW8+xYv4w5+fTQnTSNJ5Lmua5xjXpbDhrEPtEmleB1OErhHW3XL1W7KQ0Uq3jSN9diKdP5LXXG0Xs14fVHcEEjIOAl0HQtjmDlcfAgLpBusbKuowsyohl9opMprhef/d4Up5cQcqTHjou282y/zqAeWsKC9ym3xdvTGP5301i52aSPtn1c7cQnTSPpR0/5zvPrmTtX8eSlmg01bOIyDVrY0HwPNYFyVQeG07oSy8S29Nx7+ntT1K0Zj/B1zRd0NWX89sBaQ2nWuZlkr0Yer7Ul7K5GVQ77276Okf4fOdwQl8a3OB+x3TGbXR+3e2aY1aTMMu9bb2agE4ztjFknGN08eSqBEp3uh7ZT9HkDIo81tSEvEyyF6+/+m3D5ztquTByG+GfJNdet7H36WYp3UKO2/tcp676jy1O4Oo4ri9rChD5h2s3UbEM7u/9EQvWXPa5bt82jHi3s9DKSh2bu0Tf7v1PxrED6DBi+7rfG0XKD5N4JX03JsWsezuXlJ/GY1BI/iGInuphfaBTRJ87ACtmZRUmoH9OSatTk8uud+xgpDBtQsNPoWXoFKbctoNXDu1g79mxpDR59mAZuzMWkkUK86YeZ/kf3Hf0tbF3Wy4QxaOPDPP+lzQuBStJf7MM4+55pHnaTKpZNk6fBPpG0Pz8mRus93oUrCT1d4VE/3Q2/X+7vO5U08O7yKoA44HvXEMIdilj99KlHDDDSfnlbLfjdorZu60YSOI74xr5uSeOZjS72XEon7TE+vFWROT6tbEg2IPYJdmOQPRfWzi9ZCK98zKvIwTW9vX/2bv7uCjrfP/jL1OncGZxwULMwHsDzIiTJYt4jumWq6h4k93YzW6aKbvJ7padjngqdY94trSz4Z68S93d1LXMFAPNdjX2qCwk/XByBY+pKVSOpHAkRmwE+/0xM9wOzCD3zPv5ePgIZ665ru9MzOX1ub6fz+cLzpq7urbbQkHcDAK2Z9Dfue2SJE5vj68163du90ZKB48iIMD1nkqXxMDLGURWBDazMQ93jtsRBPZbR+QyR3BYsIusuBiysAeD/Z/JoP8zTVQjGB5P5PZ4KoLUOpStj6FwViqR23tUbPvV7hH0Gt/Uqa9HMccl0vXlDIa5+v8YMIlh2yehGsHmUEjeycp73kP6eZrIaePgX/dUBJDBMSOrpYB+V1oCULGwu3sl5HySA9EPMaTGM4a7/5low37226Dkgy3seyKCccXZHLhkYmSYhxejnR2h37mLFILWE5S255s8PrcBocH0cvm9CSbsn4CvcsjLA+oIBC07F7H8yEDmrZvH8MPxrKz27DnycgEiGBjk6cDyyPl7JrbSPPas20ahTwTP/1tD1+R07AMAK3l/3cDGK9Ek/Ha6m9Tx6xlvI5Rks3LJNpj4GokTYeMb1Z+25H+ODQi7faDHN5MKT2eT+Xd/Cj/dyMpPIHDaAubcVeXV5eewfAVwkKS5j7O61h5sFAJ8kUchEcpnEJEm084CQbv+z6RyZUEMX+2GgvX2xizNFxRE4buqMujr1btvxSxcdRcpOpBOl5EL6wzOqo0zoB9dqz5p3myf6fx1lRnCgEn0npXG2QOHODe+lWa8xq6rmJGEW+k6GK7W+4LGKc08CuE1Z1SledmgSre7QH8P77kX7iP5L44w0DCamRM9rgR0rfxzjh2BsLiw2hdYPva1APdvLwGy2fM/FkYac7Awkrvc1geKeJGvtpH4+5MMfHYDsb3BcrgpdprNxpeyK/7mHx3NoAZPzVXfh71ZTB+MbarmrYTM1YvtzXFmRWAi2/1LPGDZvYKFux1/MQxk+N19qp/jSqz2QK/3GJ6aG113oBcwSEGgiDSpdhkIQg/Cfp1AVlwipWPXEdnks1PXwbyZ4hMzCGhUk5i+3ORqNvHEGTp+B+mhhG9fh3nabDKcaai1UmelefjToxeQ27BX5by30XGZZCAsbibRPo0cRn4OmbZAxg11fakTNuExgrevIQ/ISdnDtv6ZcG8CQ9rUhaRI87LVdyeuJJuV89dwcvQi3m1U2mZNjq6Z5Tbyds5n7qqVxNt+wKbE0Q0ITGp03iy3sP+3c1k4M5t5G5KIbQNT9JadCSz+0J+n3ppXJW2z8Sq6hhZmsvIXC0lOmIth5bvMcXYv7u5nn10tMdHnR8MJa7pDi4jUq52uI+hMI0zF94vZzbwGnmdOZ26Bsfc1T5OYwX1p7DV2+2Dv4Bq5PYPI7evw2Ttbaw62CAPBwZVXYZbCEvcvcdQJgWPheRf1TD162B9zt8ZYxXGPZGKpVR9YRdAYpjvbu5/ZzOb9MPBuz+oDASh3zF726qG76tI2BQ5iSHcg9xgnXd39K8/hyN8BhjOkZktMCslcv4xkYlkaH13P96IPwXcAZJJzpoHj62wgeFoCc+4wYPtkOav/5sG5os59BTJ67Biw5bAvw1LPho0YbwPYziSTuPYkA59N5LG+dW8X2HcQBiAn52Ttbqzu+A9nzoux+FPIthWbyas4Nw5iyL3ApQNkn2n42EVErlc7DAQvkrNgNqVj1xEebp8ZZH0MZnMrDqlgF4V7o/Cd3IjZq/D78GELBVUDn4JdfLU+HZ9HqqeF9urdF06kUdS4BfnauKH8YKyrx+3pqaWZChCbUvC/xFbU6WQe+oR6L+++OUjikm0UAoa755H0rOuF503d7eHWyS/PeTACGydzciA6olZ9YCV/xkwcXSWlykSEp/WBgOVrR1K30ahGMdJGhTFuSjCwnw3vnKz1rOWD1Y5GJeOIrrn23qltrPkApr/sbjbLn5ExwzFgYfPvkrHUvFFjyeGkiyUTKgUS+8JThGFjf9IaMhsRCxZ+Y28o9QNjfQNu7Hg9s2/9Gk7eNZ9F7mZSh46xN+nZn8SaT2u8+fIS8nLz6j1/Gu56iud/YoIzG1m+0xkAm4geP7ru91heQt6RkxR6eFNNRMRT7Sw11N4opJQZBDgbqjjr6JZEklWlw6ZbtTpUOrtwVu9I6olzWWmUDR6FXwNeU5uL1Ejq6AYaHk/A2EgK4io7Zza0WU71DqRUduFsjnTMGh1KwfkeZxDgbLrjomOovRtozbE404KrfE7qGtp4QdNJfPYAM3+fg+3gajZ+ei/z7nZxcZa/h0X/uoKD3xgI/EkCSb+Oxr+O1Ez/oEEYyMF2vogSqH/mrvwY2Qdh4Kz6GzAYfjSZ2O772XYJaGB9oLOLaVgf/aZI2xX8aCLzsmayclM8j5+YzmMTw/DHiuXv77Jm90lst8Ty2i+ia39PbDDw2aTKdMN6+I+ex5zUbFb+YyUz551kzoPRBPpA4f/uYvO7mRTe9TybEutZnqL3dOb/bA8z/7CHFX8YzaZnIzy4uVK1WYzzWNlwSywP1rfoXlOM1wO27uN4LcGDVNfOYTw2P5Z9LyaT/NJcLA89xqTb/aHUwsH31rDnhD/TV25gTmhdn4iJ4XPnM3r/IvavTyR5hD0t1hAdz9KJR3jhg5XM/OknxD44hrt6GrGeP8jOt/eRcwmGz9/E0p8on0FEmk47CwRdL/5+XYuiV3ShrEd4PJHb3T12lIL16fi8/Ho9gYircXv6mGvODqLXy/3rK7uq1v+YByo6lNbDk/8f17OteCxwciJJtsXEr80m+aW5XHwmgbljwwg02Cj5+ph9seTdJyEwmnlvzid2sJukzH5DiCCZzP/9nDxGu6x7sV0qofDCMQ68vYJkG5g+3Uf2vbEMutmEyVU+dOcwxj0czLa1eXBvRAPqA0uwnLGHo0NubwPFSCJ16RxI7IoNBK5dwYrdm1nxieNxg4mw8c8T/8w4Brr46hnubsByDp0DiV2xicC1i1j2wR5WJu6xP+4TzPCHlrL8ieFuA6LgRxOYkx7Pmp3LWPOjDa5vHFVTvVmMoXsgQ378PItmjWOgu9qHJhhvvQyBTK+2nEP9THfPY8ObwST95xr2b1pBpn0nmO4Yw/NvzmHcYDdhsSmauQnjyEncw5r/TGb4ilgCO5uI+OUGVt++hqR1+9j2+0y2Vd3vsjmMc3fOFRFpoE5lZWXfu9vomwsXMRq70c2n+SrVysrKKbhwgdtu7UWnTp2a7ThNzrnWoIvlJKRtKfq/S1y7do0fdvdt7aG4VfDNBUwmY7N+5+pkySZ5x3vsyTiL5RsLJTYD/r2DGRQ+kjGx4xg9wNNLrjy2PT2TNWfCmLfJRTOIb5KJf3QlOS5eaZj8GrufrWO9rNKDJE5bhOWZTVUW3HajPJuVE18gmdEs2p7Q+MY20q5YL1/mcukVbunR/mZTbCUl2MoNmLo3X0Kz7VIJNkMdN1/aoDY1XlsJJaVgMJkasFSOB0pLKLE1w35FRKpQICheQ4Fgy8t7dyYz1+Yx/MWdLL2/Fe9m565h8rxt2O5fxM4XXaTVSYfWngNBERGR5tIOm8WISHsR/OPpRACZfz1gXyerleSk7aEEE7ExCgJFREREQIGgiDQn/zHMmGiCT7ex50wrjaHkIDs/KIHQp4i9o5XGICIiItLGKBAUkWZkIGLWfEYb8ti85WD9y1I0k7ydG9hvC2POv8WiNjEiIiIidgoERaR5maKJ/00spv2JJDVmAerrcWYzi/5gIezZBKb3btlDi4iIiLRlbW75CEtBE6wMK1IHQ9eurT0Er2S6ex5JL14k/rcJJA9MIrYlgrKSbFYu2IzpZ0kketpdVERERMRLtKlA0O+H3Vt7CCLSTALvX8SGW5JJ/sKCrXdgszdtKcnPw3/2apJGBzfzkURERETanzazfISIVOooy0eItAVaPkJERKQ21QiKiIiIiIh4GQWCIiIiIiIiXkaBoIiIiIiIiJdRICgiIiIiIuJlFAiKiIiIiIh4GQWCIiIiIiIiXkaBoIiIiIiIiJdRICgiIiIiIuJlFAiKiIiIiIh4GQWCIiIiIiIiXkaBoIiIiIiIiJfp4slG3wPl5eVcvXq1mYcjIgB06oTt6lW6dvHoKyoi9SgvL+fatWv6N0xERKSKTmVlZd+72+ibCxe5WlbWEuMREQeDoSs2my5cRZpCly5dKNO/YyIiIhU8mm649v33GI3duPHGG5t7PCICXLp0iRsNBkwmU2sPRaTds31n48p3V/D392vtoYiIiLQZqhEUERERERHxMgoERUREREREvIwCQRERERERES+jQFBERERERMTLKBAUERERERHxMgoERUREREREvIwCQRERERERES+jQFBERERERMTLKBAUERERERHxMgoERUREREREvIwCQREREREXVfFMAAAgAElEQVQRES+jQFBERERERMTLdGntAThdu3aNq7arrT0M8VDXrl24oXPn1h6GiIhIq/vuynetPYQ2rauhKzfcoLkHkbamzQSCANbLl+nm49PawxA3Sq9coXvXH7T2MKQdsn6WQkrJMKZEBWJo7mMdTyHFEs7Do4Ka+Ugi4u1sV2107dK1tYfRJl0uLeWHhu6tPQwRcaFNBYIA/n4/pFOnTq09DKnHl1+fa+0hSDtUdOBV4lec5+E3JzR7EAhgDAqiKHEevzy9jMSZoRhb4Jgi4r1uvPFGTMZurT2MNufyV6WtPQQRqUObCwRFpI2xWTB/mMKOfenknrVgtQEY8BsUzgNTnmTCyAH4uckStma/SfyydMIXbGbCrXVtlcv6R55nR3GNh/s8zapVU6k5r2c78CpTl6W53NOof9/J/Khw5v7mEeLiFvDKzatZPinQ3TsVaQZFpL36PG+fANOYF3jj0dDWHpCIiAigZjEiUpdyC1nr5jF18kwW78hnwJSFrH53Nym7d/P+5mU8HJjPjlfnMevppaR9Xc9+rIdZ/9sUrKNeIG5kffNyoTyxdhvvbN3G0gf9Kh8++2c+OlZ7a0PUr3hn6xqWPhRqn2G8eQSzXlnJ+q3biB/umHPs8wgJT/Tk+OpXeOdswz8CkUYr+oS/pFk4/7WFU+98QLomR0REpI1QICgiteXvJfHpuSzakU/ozJW8/dZinhg1AD9HfGXwC2XCgpW8EuOH7fwhlv/bm5itrnZkw/yHV/moOIiHHx7hNj3T4GvE6AtFZ4rAYHCkkFpJ3XMIW82NOxsw+gYRHhlKV4xMeXEhU4YPoKevEUOVGcqgSU8yypDPO79P4fz1fRoi1y1/3/uYMRAyJBRs6aRn1/pNFhERaRUKBEWkGuvnW5k/7w3Sz0PI3NUsfXAARpepn0bCZ/6cUQbgQgqJW3Jrb1L0Me+mWiFiKg/08XAApUfIyoJhv3iBGF/7Q7b9KaQVud78/IlcrIb7GBZSx/6MI5gQY8R27I+kuJhZFGk25bl89F4+GKKYOmsEQdhIS/2YOn6VRUREWpQCQS9wem0kWbsv1nj0KOZpz5FT0CpDkrbq6xReeeFPHLeBX8xiFrurq/O5i2F32n+0pn6Mubz60/bZEBg2Jhq/Wi+uw9lcDhNI6OARPPCgszLQzI59+S42tnHqeC7cGcbAeuoUQ0aOxVjXzKJIM7FlfkBqMRjuH0tUyH1MiQCy3yfN1a8yQKkVa7EVW7mL58ptWIutWOtILbVZLZz67DBZx/Mddbz1jMtqP46rPy6P7Tz++VOYj+djrecAtjr2W3Xf9m3q2Ye1+vt0jtfV2Fw9V+/+6/uM7TvEmp+L+bSlzs9aRKSjaIfNYo5injabivPz2HVEPjO0NQfUpp3b/RwFe2cQsL1HjWeGEjALzsYlcXp7PP1bZXRSvxbunltuYcfyNzluAwyjiPtZuAedNo349XT8aMvi+JcQXjHzl0/WvnwglGFDPO/ZeT7XjNU3ivA+EOQ7lfANb2AG8t/by/EpTxNSLeDL5bN0CJkZUv9YB93DfYb3STl4iKxfjCBKq9RIsysiLTUNG0amjAoHYMSYe0jKPszWD3OZMrt20xjzhuksTIUJS3czN6LGk5+9xcMLUyBmGSm/CK942Pp5Cm8kvkX6+SqBjyGQqPhEEka7upFj4aOXZrL6uOtR1zp2eT5p//0qSR+eqnYTxdBzBDMTfsWEQVW/eWY2PLKAFNe7duzbuc0Elu7+OeE1trFmv8nchSkUVbxP53hDmbtxBRN6Vt3a1XP177/Oz7jYzDvL3+CdLEv19zloKgkJTzOsJ03i3O7nOLs+3fG3KHxXvU5YQNPs2yVzEhlLtlT8tcusVIaNr3k94M5FchbEUHzC+fcWGLeItIh2GAgOJXx7BmCf6WrchJb95HZ55PWcGNsBcxJn14PvKteBXq/xr1P6ZSQFC/ris2wSvVp8gFK/71v0aOdTX2O94+Iw6OFHifIwdrtacdVkoagQcAaCxacwnwV8Qxno8UWUldzsU/BPj9h/Z/3uI2b0Ksz7bVCcQkrmk4REVVl84mwuh21Goga7mbnsPJCQOyEl6zC5ZyGqrjRSkaZS9Al/ywb6PMoDQ+wPGX/0AKMMh0lL/YD0x0Mbf0Pi+FvMfO59rva8h4d//QijhgfDqb28/V9vkb78edbfuplZLn7Xr9qAW8cSPzsKf8djp3a9wtvZNTYst5Dyb/NYfQx6jnyauIejCL35KvmZe1m1+n1W/zKHL5euZW5EzZNFOE+8MpUBNR716+vm/ZxP4ZXFKS2fOms1s/rZBaRcMDBgyi+J+0k0QQYLuQe2smrT+yyak8vcN1fU0/HYc73Gv06v8UDBLrLi0hq3M3MSGUsgwO3N3BkebFOfHoQts193Ncm4RaTNUGpoh3WRnK1bYOxT9d616z85gS4nEikwt9zIpA0qzyWlosYvlJjRni7CbiH/lPNnA1SdrTuVQxbA4IG1ln6oexw5fJYFIUPCHI1iDESNm+CY7atdX1X0j8OcN9zHsEHudmwksK8RsJJ7ShVa0vycadEh46Iqf/997PWqTdY0JuRRlv/nCla9tZgn7g8lyNdIUMRUEl6cipEiUve5OrGf5/xp4NZwRgy/h2GOPyEugpyi/W+w+pgNv5jFJC2YyrD+gRh9gwi5/2neWPk0IRSR8ts/c7xWmmUQIVX27fwzoL788HILKcvf4nSLrDJa3fEt/0HKBQMhc1fzxuyxhAQZMfYcwLAHF5L072Mx2nJZ/d97VdspIh2OAsGOyryZ4hNR+E52kzYbMAn/sVC6dRdaJt57OWuZAAi5j3s8ncErPcWp086/DOC2KheT550RYk8/zxdz/9zMIQK5544qV4xDxvKIc5axWn2Vjdxj7usDnfxuDgbgdH6ep6MRuT7OJjGE88DI6rPVIVFjMTZZ0xgjQXeG0rPm73/QQEIB26n82p1yi4uwgAffSwuH9piBUB5+0EWa+K0TmDoKKE4hrQmaMB3/4/Os/nwAM2c+UMcWNq7WVdfXGOVm0lKtYHiAJ2JqZxYYh01l6q1A9kccutAMxxcRaUXtMDXUUzVqCamaG1/juRMxZKx3/uX6Uiiq5/0DgxPoUy3dsmaOfc1cffuYeDmVrlurbFelBtJ+DGrl5p9eG+moA6wc97mvzsDgUfh5kMPff/gMCvaeQXXx3iv3s/SKuhjjHQPwOJPzuJmK3/pb7yH85sqnii7YA64Bt3peXGPvADqMkGodRoOIeWIUb/9HGjby2brLTMwvwjFwitz/BwMedlMf6NDz1mAgF1txCTZohXkH8RYVTWJGT2BUzVmwIWN5pM/7rM9+n7T8sUxxMV3+0fKZHK6ZNlpa6P7A5Tas1qsAmOrapshCPp58L8/z5XGAAQS53NTAgJBQSMvl5BkL3OkmPbse1uw3WfoeTFi6hAn8kdXVng0kaLABjp/iUHo+Ux70NL/gI5Y/nVXre26rGX1fyOekDQgJJtDlDaUgQiKAr3P5Mh+42dU2Tc/+73qVB6pcU9S83iiYtqWiTOb6agArj+fzcgbhNQsrRaTD6qCB4EVyFszm6qxUIl2eEJ11hk1TI2g/gUbhuyqjjjRMRxDYbx2RyxwzdAW7yIqLIYvqxy5dEmMf97Iejm1mYx5uPzH3Gv8UBetncznrIlQJIL/dCz4vVw9eS79Mh35PeVb316svXUjjSgGg4m8vVET+qco0tdC+wR6+zkb6vo8qAsign4yolgL6Xal9YcGuHszW2VnJzcqFqKnUbKNhiBhBlCGNNBtYU7eSNiOcB4rNpBcbiQr18AK0c1f7fy1FFIHnwa5Ig1hJ/zDNfrMhaz1xT6+vtYU9GMmvs2lMgxTnk5b8Fjs+NHOqyH26qfVULueB8KDrD9yalPUw639rb4LzRIQRatYpAuGjptLzw60c3zCHqTsC8XMEySUXLG47pLZH53Y/R8EXCfTZ7rp2v6LO0OMaQRER1zpoIGhXduAQ58Y3cxOUgl0U7gWfl+vpoOVM0/x1lTTNgEn0npXG2RpjrHY3L2AS/mMTKcg8CuFDsXf6jKr+GvPHlA5OoE+1O3gXufIF0K8hbySdq+dQIOiVvoMqKVeBfh4mchZ9TOp+x1WYYRRPxHhcCeha+UmOfwYhs8Nqz9Y5aqvSdlgBMx8dsDDClMt5ogl3Wx8o0oKKDvKXLMA3lFGjBtQx83we867D5NfRNOaB+Rtqdw3NfpMJC2v04/w6hfk/f5PjnQfwwE8XEj88jKCbjRg6m1k93nX3zpO59nTP/n2v7+1VU97IKKzcQsqipXzk9ySr5tbTpTjkSdavCSdlz17+fvA4FmMQ4aED6B8SzJfvvUrKaVcveoD5b7noGvrf41mY2rBhXm2NYPNEGkUFk+jVQv8m938mg/7PtMyxRKTt6KCBYA/ClqWSsyCGs9MSOQsuUjWbUhRd3e64Lze5OqGf8CAl84svOMdQelE5K1hgnkSvcHtDmC4jU2u8rx7c1A+KXe+tDp68B+mY/PEPBOpoJ1+X4zv+hL0VhYGQ2U82vgPil7kctgXywB2uO0qE/ORRgna8RT5wfM9HvN/vMAz7V0I9nnEUaX7OJjE9Y39F/KN13RyxkV7yEIn700jP+hVRI68nUdlCyvI3OW4bwfxtCxnlyf2b0kP85S826DOiWhq3awMJGQYpWVkcP1t1WRinIsxZpwAjoe669rp0ldOpr/H25wOY++YjBLn7HvcMZ8LPwpnws6oPWkjZdR2HrrbfAYT6wvHjOZwqnUDPmuex8lzMmQD3EFKzDWoz6TX+deA5zsZFYu/VqeUaRKR5dOBmMfZ2x5HbM4jcnooviZxd0AYbogzui9vr5379qgR6Q/nBWCjNPAoFh7h8Ygb+LtJafW6LcgSQHjh3hrK6AlXxAgaCqqSJWYqs7l9y/C2WvmcvtvGLWcxiF00W/P3tj3na4OG8+TDna9UHVhHkWJAb4OxW3kmDARGe1QcCUG6vnSLQz/PF7UUaoqJJTBATouubITcwLCoKA5D24fU2jTnPl6cB/Kg5iW89dhiX/UI/fJ80W41OpnUycs/9ozBg4Z130rDW+B5bs/9sX26iz6M8cF3LsXzM2xtOcWf8vzfJsgzXL5QHYoOANN5+71StZ8+nvuWo93yAKN+WG1Wv8a87rl8y6DMLiuOeI6dx62WJiNTSgQPBqnrgNzLK5eM39XOkkNb3cnMSGdMiyZiWRK0MlIARdBucTnGci+ecwu/Dhy0UrD1a+VjBLr5an47PI/XMUpqT7LWHNTp/9p+cQJe9G8n6r0SY9ZjrNQJ793WkltT3xuxOZ26BsfepxsCLBUVPqLgwzEo/TL2h4IVDLE98nyLAEPFzlteR0mXytYdbp76u1bfQBRunjudCVHit+sBKfoyKGVUl1c7InZ7WBwLnv3Z0CzWa1ChGmkVF992IqYxyE2kZhk8kxpcanXAbIpQ7ow3AR2xYfZj8YivW/Fw+WjePJ35rxlARtBRxKvMwH62bR9y6XLh5Kk+7uHHjinHkL3glxg9b2qs88dwbpKQdJivzMB+9/Qrxi1MoMoQy96Wpni8PU40N4/2LeWF069+WCXpoMXOHGMj/8/PMevlPfJR5mKzMNFKS5hG3OhfbzRN4JW5Eq503eg0b5Tp9q1dfurCFb5tg+afTayPJmBaJWUtJiXiV9pcaak4iY8mWKg/MJmMvVO/2WbtjqP352kFX/2fW8e202ZUppA3uGmqfeTy9NrJa567qqahDCd++DvM051jtXHXnKltfs4Pp67XH4qwd3DuDgGV1NLkJfwzfwTEU7zwKz9S3hISz2YybZSakYwuayqK5h+wXPenreDv7HheLRAP5e0lc+AbpFwz0vP8FlsePwK+OlC6/oAEYyMV2vggr1D9zV57LZ+kw4Kd11VTZ2S+e09hRDDSwPtDZxTTEdQtEkUYqIi01DRsGHph0n/tZ586hPPDwAFLXnbrOpjEGouKW8XD+At7Z9QpxuwCDkZDRv+CNjVHk/9dDJH4NkMdfFr9CCmAYNJVFLz1NiMfp1EbC567ljaD/ZvmWj1n9qvMfMANBwx9h0S+eZNh1dtE09JzK/Jn11AW2pM6BTPjP1QRueIM3PtxKUpbjcYORkJ/8krhZYxnQJAOt3T282JH+WbU/QK2OodivF2qlhjp7DSxxppBef9dQEfFOncrKyr53t9H5by5w0003cuONNzbbQK5du8b//d8lbru1F506dWq247Rd9uD1qocn8dNrIymgcmkJl8xJZCw5U29twem1kfbuZA2on/zy63N09/0BN3RWcVZzuXTpEt18fOhqaMl70FZOvfcfvLDBjM0QSNTMF5h1fyg9DTasX+fy8Y632PDhKeg5gpkJv2LCIDdXRsVpLHrkVbJ8p7J869O4yh6zFVspupBD+pbfsT69COOwJ0mYPZGBNxsx1pEznf/eHOI25MOwf+WdJaM8vJC0kvbydJZnGZny+jZmXVcqm7RXtu9sXPnuCr6+LZjb15JKrVivQlejEYOr03KpFWtnI8bGnk7cHaeDsFmtXC3vitHX8w/s22+/xWQ0YTJ2a8aRXYem7ixasIusuDS6NaBmMf+rr/nhD7tzww1ekoQm0o60vxlBsbeW3juDgO1uZvHC4+kz6znOxiVx2sU/ApX7aebOqtJOGBnw4DLeH2kmZdf7/GXXa8RvsGC1GfC7NYgBd44g/vdLGNXfw1Qu3wGE94Gss7mcPA8hNSfiLqSQ8OSb1XrUWLP+xMKsP2GYtIz357pezCoo5klGbVqKZVhD6gPtHUkx3ENoXTWIIu2VT903Tiqeb4njdBAGo1Hp4yLiFRQItiOV6SKep6/2Gv86pV9GUrj7MfpXm2k8SsF68F2l9Yekhp7hTJgdzoTZjd1REMPGBLF+Qy5Zx6xM6FnjUvTmCSzfPaHhu/UZwfyduxv2ms8P87ENDKNHMMwLLmRFRCptqShdub7U0Zopra56LohIe6TUUGkwpYY2v9ZJDW0GRXtZ+NgbmCN+ydtLx7Zat87j66YzfwdMeW0bs4a00iCk1XT41FBpdW02NbQNUGqoSNulb6WINB+/+3goxgjZ7/PR2VYag/UQKalWCPkpExQEioiIiAAKBEWkWRkI/9mvGGXI5513DtW/LEUzyd/1J9JsocyaPwH1CxURERGxUyAoIs3LOIK4VyZgTHuNVQdaOBQ8u5XEt88TMvcFprTqotUiIiIibUubaxbztcWTxadFpD0xRvyc5fOLmL/iZVIGrGBCSwRlVjOrX9qK8YkVLJ7k+cLzIiLX41JxMZeKi1t7GCIiHmtTgWD37irkF+moeo5eyOqbU0g5Y8F2a2Czt2e35ufjN3Mly0cFNfORRMTbdeumJjEi0v60ma6hIlKpw3QNFWkD1DVURESkNtUIioiIiIiIeBkFgiIiIiIiIl5GgaCIiIiIiIiXUSAoIiIiIiLiZRQIioiIiIiIeBkFgiIiIiIiIl5GgaCIiIiIiIiXUSAoIiIiIiLiZRQIioiIiIiIeBkFgiIiIiIiIl5GgaCIiIiIiIiX6eLJRp06deLatWuUl5c393hEBOjU6QZsV69yQ+fOrT0UkXavvLyc779H/4aJiIhU0amsrOx7dxsVXLiof0BFWljXLl24WlbW2sMQ6RA6d+6sf8dERESq8GxGEOju+wO6+fg083BEBKDgmwt06+aj75xIE7Bevszl0iv06hnQ2kMRERFpM1QjKCIiIiIi4mUUCIqIiIiIiHgZBYIiIiIiIiJeRoGgiIiIiIiIl1EgKCIiIiIi4mUUCIqIiIiIiHgZBYIiIiIiIiJeRoGgiIiIiIiIl1EgKCIiIiIi4mUUCIqIiIiIiHgZBYIiIiIiIiJeRoGgiIiIiIiIl+nS2gNwKisrx3r5cmsPQzzk43MThq5dW3sYIiIiIiJyHdrUjKD18mU6dUJ/2vify6Wlrf2rIu1UyZFkNh+0YGuJY+Ums3l/XgscSUTaupY899gsB9m8M5uS8hY4mIhII7SZGUGnH3bvTqdOnVp7GFIP62UFgtJwhX9LZO5vLTy2LhZDCxzPFBRM4ZK5zD25nOXPhGFqgWOKSNvT0ucewy0DMaXNZOaR+SS9NJrAzi1wUBGR69DmAkERaWNsFrJ3J/PeRwc4dsZCiQ3AgP/gCMY9+BSx/zIQfzcXOiWfrmTubw5y10vvEtu7rq1yWDMtnm2Xajzcdw4b3ppOcM1h/S2R8b/Z73JPoxftJiE6gnnLHmPm0/NJCNhA0uRAt29VRNqQdnvuCST2PxI49tAi4n/vx4ZfRuhGlIi0SZ3Kysq+d7fRNxcuYjR2o5uPT7MNpKysnIILF7jt1l6aEWzjvvz6HD38/VQj2IwKvrmAyWRs1u+cW+UWMtcuYvH2kxA4nOkznyI2eiD+BrAV5rDnvxNZ8zcLBEYz/7eLGF3XRVZJJit+upB9dy/i3YToei+IbJdKsAGfvzOTF94tdDxqYvrvdjLnjprjs1FSYuHz95az8M852G6JZk7844wMC8TfZMLguEDM2zSTmX+Ap97awGN9G/F5SLtlvXyZy6VXuKWHf2sPRTzRQc49JX9L5KHfHCT6pXdJ+BeFgiLS9mhGUERqy9/DogUrOWiBiGdW88q0gZiq3Hk3+IcR+9Jqgn1n8sIHB0mcvxK/dfOIqHWtYyN7/TL2XArmqRn1X4gBGLqbMFBC0ZlCMBgw2GzYKCE59SBP3RFdPa2rswFT92AiooZg+HMesQsXMb3mBRsQPHkmo7csYvPvkhnzu1g0LyjNJWf94yT+TwNe8M8JbJoV1mzjaZc60LnHFP04j/Xdz8bVGxl37zwiWvG+noiIK22qWYyItL6SE5uJn7OCgxYIe3YDrz1U/UKskomIZ+IZbQC+SWbx2zm1Nyncx5YPSuDu6Yzr6+EASo+Q8QkMj08gtrv9IdtfktlX6Hpzy/8eo8QwhntD69ifKZrJE03Y/rGR5H94OAaR6/BdiQXLVw34U/Jdaw+5Telw557OwYx7MAK+SWbL3+rYiYhIK1Ig2M6dXhtJ1u6L1/HKo5inPUdOQZMPSdqzr5JJ+NVGcmzgP3Epie7q6nzuIvIu+48lH+wju0aXvLy/biMbGP7jkXiclHfmGJ8QSFhINOMedlbnZLPtr646gNo4mZMDdw1hUD21QmGjxmFy3N1via6B4p0ifvlX/vrX6n82PWuf8Qt7dlOt5/76y4hWHnEb0kHPPf4/GsdwIPu9faiHsYi0Ne0wEDyKeVokGc4/a4+29oBazbndz1Gwdwb+43u4fP70WvtnZDa7enYoAbOgOC6J0806Smk3yi1s+8+V5NgAw2jiZ3nS4MCEX0/Hj7ZMcvKrPpdH5kd5QBj3DvW8PsaSk01J95FE9IXgH0/Heamc984ecmq1Yz9G9kEIu9dNV9DB9zLGALa//Q+fqOmtSNvSkc893cPsM4Zn9pCZX9+GIiItrx0GgkMJ355B5PYMAsY2dl8XyVlwvTNqrcycxNn14Lsqnv7XuYte418nYOwWChbs4lyTDk7aI8sHiazJtf8cPONxoj28frJdrdgDhVW/SpdOcuQM0H0IgzwuzCsh59OTcPcQBgL4jyH2fkd1zqVkdv69xnzemRwybSaG3O7mAJ0HMeQuwPYJx854OhaRlmO7ZOHkkRzyLpVgc7X+XLmNkksllLi6keHqOVuJ/TFXU+DO7V0+6eF4qm1cQkl+DtmnLK7H50aHPvcQyKChJiCPI8dLPB2MiEiLaIeBoMBFcrZugbFPERZQ91b9n7EHzOHh9WwzOYEuJxIpcDlrKF6jPIfkijqbMGJ/XLNhel0s5H3u/NkAVVOkTh4jE+D2QbXar9c9jmNkfwJhQ8MczRkMRMfEOu6429j/wT6qVtoUHs3EYhjDvYPd7dhEYF8TUMKxk6rVkbYjb/8K5k78MeOnPc7c+fHMnDaZ8RMfZ9HOk9UXJD+yhsnTJjN5bXbtnbh4zrI7gcnTJpOw21J7+2/2kDBtMpMX7KHmsyVHNhI/bXz18Uyey5pPXHxvyvPYkziT8eMnM/mpeF6Y8ziTJ47n8d8kc9LTmKfDn3sguN8QALL/93M3W4qItCwFgu2ReTPFJ6LwnTy08fsKmIT/WCjdqllBb2b7+06SnWtohY5huKd30UtP8vkp518GElyljbsl33HR09PP8zW0ThzhAIEMH1qlqueOcZXLPny6jX0V6VU2co66r9Fx8g+wXxKePHvW09GINCvLznjmJu4hr3s0c36zmk3bd7Jh5fNM71vIwd/PZebvs2nJOaSST1cyc/5mTt48joQ1m9i5fSc7N77GnLsL2ZYwl5WfVhlNuYXk5+eyYn8J9z7zGhu272Tn9k2sThiH6e8rif/3ZCzuZhLxjnOPyd/+pmwn89BtKBFpSzpwIFijlnBa1RRQ53MxFJ+AsvUxVbZrYM2cOcn+moJdZFU5Vu26PHsaquvxVI7JbK6xnYsayHNfnYHBo/CrYzbw3O7nqhzHfUOY/sNnwIkzqHTKex07UtlExTR0kOdLLORkc9D5c+/hRNxS+VRhgb01wsDbenk8DnsXvuGE9a36aDCxPxvtuEufx+b3sx1jPcmxT2Hg3W5qdBwCb+0DgK3YqoYx0voK97Di9znYboll6epFTP/RQAK7mwgOHceclRuYEwqFHyxmc0t1ui09SNJLyRR2H8crK+YxekAgpu4mTEERTH9pOU/1LSR51Z6Khid52xNY+Q8bYXFJLHooguDuJkzdAxk4eh7LXxwN/1jDhprplC54w7mHwEB7umlRSYsG9iIi7nTQQPAiOQtmc3VWKpGOesLI7RkMq2iq4qwzTMV3MHSptt311NxtoSAujW6r7PvoMyuK0iVVA8qL5CyIobjfusrjrEqA9TG16hNLl8RweWRqxTZd9s6uFVSWfpkO/fpR1z9xvca/Xvl6T4bfq/ArtAQAACAASURBVC9dOMMVdRD1UoXknay8YBvSz9NkKhsH/7qn4iIuOGZktTSs70rtlzwGD+6Y25WQ80kOREcwpMYzhrv/mWhHuU7JB1vs7dzPZHPgkomIMA8vHTs7dnDuou7KS6uz/M8esoGwh6fXXgOvcyCxD44GSkhOq5EKerV5bmPYPvkf9tsgcMp0htcaTzBjxg2EMwfItgDkcSA1DxjNQ+Nrf/9M0WMYg439nx5zc1TvOfcYAL4qpB12JBCRDqxDLyhfduAQ58ZPqjNgajpR+K56vaJer9f4pyhYP5tvzfEQTmUq56+rpHIGTKL3rDTO1hhjl1mplQFrwCT8xyZSkHkUwp2vvciVL4B+Tf0e0rl6Dqin5lA6KhtUSeEK9PcwmapwH8l/cVyKGUYzc6LH1TiulX/OsSMQFhdWffFmAB/7WoD7t5cA2ez5HwsjjTlYGMldHtToiLQ1587a6+IGBbkOJgy3DyGM/eT8bx4WIggMDiYMyPn7QTIvDWd4d8+Oc/Lt+Ty+o8aD5SW1boYUXrDPohXuSODxv7jYUYn9FXkW4JZzWL4COEjS3MdZXWtjm33/X+RRSEQ9yzfo3CMi0po6aCDYg7BlqeQsiOHstETOAgxOoM+ylggKK1396iKEO2ch+3KTqyDLk5TML77gHEMdY+/BTf2guAnHaRdF15b8cKQN8adHLyC3Ya/KeW8j9rkKA2FxM4n2aeQw8nPItAUybqjry8awCY8RvH0NeUBOyh629c+EexMY4vFdf5F27JaRTI5eQ87BPSx89ACBtziCptJCLIWNnyUsvGhvGzNkyjweHFDXVgb63A6UWO2BXu8xPDU3uu5AL2CQmzX8dO4REWlNHTQQBHswmOH42Z6aeXYB0ILBYNfertf3q2ZwX9z+G1YjDdTntig4UDU4bKRzZyirK1AVL2AgODgQHP0DLYUl4K7yJXcNi961zxD4T1xK4sTasxo9etj36bb1vIPlSCaWWjU6VQSNYfrda1jxKXBmM5vPwMA4D2t0AModF8u9eni+wLRIaym31ahl9Wf0S+8y8G/JbPv4ANl5JfS6fTjB/QYS3TmTF9YedLmbgU8sJ6nm4uyWZOIfX0lOlYfszZRyMPQcwvAfuflW+fjZa/lKTPT50XDCGvreKnjPuccG0NsfD64KRERaTAetEaypB34jo1w+flM/RwppfS83JzWokczptbMpHZxAgHPZhvD78GELBVUbvxTs4qv16fg8Uk9gak6iYG/t7qC9eveFE2kUNVFN3+nMLTD2vutej1Dav+B/ia2osck89En9DQ2+OUjikm0UAoa755H0rOvFn03d7eHWyS896Udr42SO6xqdSv6MmTi6SupWA2p0AMvXjm6hRmPt9C+RFjYobDgAmbl5Lp8vPPoJJ6nRQKWzieDRj/H8b1az6Y+beC1hHvMeHUfEgMaHF4G3D8EEZB4+4kEzpUEMuRe4dIDsM407rjece7BYOAnga9K5R0TalPYXCFYEZZEU7AX2znYRpNXuGHp2fV8CXMwG9n9mHT4nEjl7vV1DAUinOK7yWAWsI7LasYYSvn0dPhVjjSQjLpGuL9de469aB9MlELD99dprBYY/hu/gdIp31u4oWq07aVwiZVXGVrMxjfOz+nYv+AxvgqUopP0Kmk7is476mIOr2fhpHZdj+XtYFL+I/d8YCPzJIjYlxhJYR3qUf9Ag+/7OF7nvlFd+jOyDMPD2gfVeKBl+NJnYitqohtXoODsJhvVRDrS0PtOPxjHaAJYtm9h/qcaTJdls/mM2EMxj465/vq1BQh1LJexPYo2r778lh+x85+MmosePxoCFzb9zsUxEeQl5R05S6MmMnBece0oKHas1Dgz2vCuqiEgLaH+poeHxRG6Pd7ORvSuoZzzY1u0xqzeLacyYqjWLqVMPwh6ZQcaSjeRMrnncqimx7jlnL/vUs+i8eIfAyYkk2RYTvzab5JfmcvGZBOaODSPQYKPk62Ps27aGNbtPQmA0896cT+xgN4lR/YYQQTKZ//s5eYx2mT5mu1RC4YVjHHh7Bck2MH26j+x7Yxl0swmTq5zpzmGMeziYbWvz4N6IBtTolGA5Y087G3K7LsWkDTBFE/+bWI68mEzi43lkz3qI6J5GuJTDrk3byPzGQNiziUwPaqkBBTN98TwOzF5J8osPcWz0Y8TeNxB/CsnZvY1tf8/DFjidpA1zCDOAITqepROP8MIHK5n500+IfXAMd/U0Yj1/kJ1v7yPnEgyfv4mlP3GfiN2xzz2Q94W9e+rwsEGev0hEpAW0v0BQ7MLj6TPrOc7GJXH6upa8sK83WLB3BgHbW7aJjrRVJgY+9Bq7/zmb5B3vsWdHInPXWiixGfDvHcyg8JHMX5PI6AEeVth1H8hdfSHzzDE+t0CtTKpvkpn/aPU6pZJPNvLCJxsxTH6N3c9GuNxt8MSZjP7DIiz3NqRGx94VEMO9DOnr6YtEmpfp7nlseDOYpFc3su/3iexxPG4IHs5jic/z1L0tXM3aO5akPwayMWkN2/ZvZMV+x+M+wQx/fCnznhheZRbORMQvN7D69jUkrdvHtt9nss0+ekx3jOH5ZXMY5y5gq9CBzz1Y+PxoCRDMXSGev0pEpCV0Kisr+97dRt9cuIjR2I1uPo1tzVW3srJyCi5c4LZbe9GpU6dmO06TMyeRseSMBzOC7hzFPM2+9qH7GcFKp9dGUnhbw15TebyNdL2OcX/59Tl6+Pth6Nq1gccUTxV8cwGTydis37mWkPfuTGauzWP4iztZen8rXgTlrmHyvG3Y7l/EzhejVafjZayXL3O59Aq39GjDbYLKbZSU2MDHhKkt/II6x2OoY4asptIS7JubGrB+X/NpM+eeS/tZOC2RzL5z2PDWdBq50IWISJNqfzWCbU14PJGu6vgazJ462tCArv8zDX9N5fGaYtwidQv+8XQigMy/HmjVRdxz0vZQgonYGAWB0kZ1NmDq3kaCQKgcj6f3onxMmLq3jSAQ2s65p/Dve8gEIh4coyBQRNocBYIi0nz8xzBjogk+3caeM600hpKD7PygBEKfIvaOVhqDiLSstnDuKc9jz3vZ0D2WGf/ShmejRcRrKRAUkWZkIGLWfEYb8ti85aD7Dn7NIG/nBvbbwpjzb7Hq2CfiNVr/3FNycBObz5gY9+JTRLTvLH8R6aAUCIpI83J0RzTtTyTpby18OXZmM4v+YCHs2QSm927ZQ4tIK2vNc0/JQZJ+ux/TxFeYc6+axIhI29TmuoZ+dc7S2kMQkSZmunseSS9eJP63CSQPTCK2JYKykmxWLtiM6WdJJE7WXKCIN2qVc0+5heR/T+TIvyxidR2L3ouItAVtqmvote+vNdv+pempa2jz6ShdQ2sqOZJMcslwpkcHNnvTlpLcZJLPRfDYaLVo8HbtomuoNKuWPPfYLAfZlmEkdmIEpjbSPEdExJU2EwiKSKWOGgiKtAYFgiIiIrWpRlBERERERMTLKBAUERERERHxMgoERUREREREvIwCQRERERERES+jQFBERERERMTLKBAUERERERHxMgoERUREREREvIwCQRERERERES+jQFBERERERMTLKBAUERERERHxMgoERUREREREvEwXj7bq1InvbFf5vpkHIyJ2nW64gculV/SdE2kC39mu8v3332MtLW3toYiIiLQZncrKytxea57/5gLff69LUpGWdMMNN3Dt2rXWHoZIh9CpE+ifMRERkUqezQgCPj43ceONNzbnWETE4dKlS/jcdCNdDYbWHopIu2f7zsaV767Qvbtvaw9FRESkzVCNoIiIiIiIiJdRICgiIiIiIuJlFAiKiIiIiIh4GQWCIiIiIiIiXkaBoIiIiIiIiJdRICgiIiIiIuJlFAiKiIiIiIh4GQWCIiIiIiIiXkaBoIiIiIiIiJdRICgiIiIiIuJlFAiKiIiIiIh4GQWCIiIiIiIiXqZLaw/A6dq1a1y5cqW1hyHikW7durX2ENol62cppJQMY0pUIIbmPtbxFFIs4Tw8KqiZjyQiIiLS/rSZQBDgypXv+IHJ1NrDEKmX7aqttYfQLhUdeJX4Fed5+M0JzR4EAhiDgihKnMcvTy8jcWYoxhY4poiIiEh70aYCQYDuvj+gU6dOrT0MEZeKv/22tYfQ8mwWzB+msGNfOrlnLVhtAAb8BoXzwJQnmTByAH6d69+FNftN4pelE75gMxNurWurXNY/8jw7ims83OdpVq2aSs15PduBV5m6LM3lnkb9+07mR4Uz9zePEBe3gFduXs3ySYHu3qmIiIiI1+hUVlb2vbuNzn9zgZtuupEbb7yx2QZy7do1/u//LnHbrb0UCEqbVfztt1z57juMxuadX7p06RLdfHzoamiJubM6lFvI2rCUxB2noOc9TPnpk0yIGoCfAWxFuXy0+jU2HLBAzxHEL13IqLoCPOthkma9Qto/LeTtfx1R78ycrdjKVeDke8+w8L0ix6NGpry2jVlDao7PhtV6npPv/47F7+Ziu3kEs37xCFGhgfgZjRgcwWn+n+cQ9zY8sWoND/dp1Cci7ZTtOxtXvruCr69vaw9FRESkzVCzGBGpLX8viU/PZdGOfEJnruTttxbzxCh7EAhg8AtlwoKVvBLjh+38IZb/25uYra52ZMP8h1f5qDiIhx+uPwgEMPgaMfpC0ZkiMBgcKaRWUvccolZCbmcDRt8gwiND6YqRKS8uZMrwAfT0rQwCAYImPckoQz7v/D6F89f3aYiIiIh0OAoERaQa6+dbmT/vDdLPQ8jc1Sx9cABGl6mfRsJn/pxRBuBCColbcmtvUvQx76ZaIWIqD3g6G1d6hKwsGPaLF4hxTODY9qeQVuR68/MncrEa7mNYSB37M45gQowR27E/knLMwzGIiIiIdHAKBEWk0tcpvPLCnzhuA7+YxSx2V1fncxfD7rT/aE39GHN59afz972PGRg2Jho/T8dwNpfDBBI6eAQPPOisDDSzY1++i41tnDqeC3eGMbCeOsWQkWMx1jWzKCIiIuKFFAg2yFHM054jp8Dbx9A453Y/R8bao14/hjan3MKO5W9y3AYYRhH3s3APOm0a8evp+NGWxfEvqz6XT9a+fCCUYUM8r6k8n2vG6htFeB8IGjOVcOfe3tvL8fKaW+fyWTqEDAupf6yD7uE+A9gOHiKr1OOhiIiIiHRYHTwQPIp5WiQZ05I43eh9XSRnwWxKxz5FWEDNxyPJmOb4s2AX5xp9rPoMJWAWFMc15D3ZPwezuRmH5SlzEmfXg+/kobUer/gMW2CsvcY/hc/e2WTtvti8B2pHzqe+xvrj9p+DHn6UKA9jt8rVNCwUFVZ5ovgU5rOAbygDe9Z+nWtWcrNPwT+F0h/A7z5iRjsKE4tTSMmsMZ93NpfDNiOhg93MXHYeSMidgO0wuWc9HYuIiIhIx9XBA8Gmc3ptDMUk0OeZGgEMPQhblkHk9gz6zIpq9HHO7X7ObTDZa/zrBIzdQoGHQee53RspHZxAQLj7bZtVwS6ylmzB5+XXawTTQHg8kdsziNy+Dp9GH8iTwHco4asSYH1M2wiQW1t5LikVNX6hxIz2dBF2C/mnnD8boGp65qkcsgAGD6y19EPd48jhsywIGRLmaBRjIGrcBMdsn4201I+pWipY9I/DnDfcx7BB7nZsJLCvEbCSe6qOYkMRERERL9LBA8GhhG/PIHJ7vH124XoV7KJwL/g8MoleTTW0Ruo/OYEuJxIpcBvEXKToQHqbGPvpnYmUtYWA1ClgEv5joXRrc8/itn22zA9Ida7fF3If93g6g1d6ilMVU9MDuK3KEhLnnRFiTz/PF3P/3MwhArnnjioVhUPG8oiz0Uz2+6RVlArayD3mvj7Qye/mYABO5+d5OhoRERGRDquDB4JNo80FMOB5EGPeTPGJGfygtcfeBoNpaEhA3bHlfpZe0UTFeMcAPM7kPG4m3fnzrfcQfnPlU0UX7AHXgFs93pujA+gwQqp1GA0i5olRjhnCfLbuMjvGeorc/wcDItzUBzr0vNUeCNqKS9QwRkRERLxel9YeQMMcxTxtI11fHsXlJYmUEYVv1Z9XOVMOL5KzIIbiE46XDU6gz7IaAYg5iYwlELCqL4VxiZQ5HvZ5OYPwakHTRa58AV1Gjmh0AHN6bSQFe6s8UGVc1Z9L5+y0RJylTLXHZNd/+AwK9p6hvt4XpzO30GVWarUZ0XO7n+Psl08RwGz7Mceuq/ZzZJX013O7n+Ps+vTKF1d9vmAXWXH2ILny83V+9jMIqDoTe+4MZczAv7EBqfOYVR6q+HxqPrckkgznz65+BwACRtBtMFz+6iKE92jk4NqrIvJPVYZGoX2DPXydjfR9H1UEVUE/GVEtBfS7UvvCgl09mK2zs5KblQtRUwmt8YwhYgRRhjTSbGBN3UrajHAeKDaTXmwkKtRNfaBT5672/1qKKALPg10RERGRDqidBYIA6RQv6UvA9lSuLIiheAn4rkqF/4rhctZFGN8DZ90eOAKZA3XtawsFcTMI2J5Bf+e2S5I4XS2V9GuunoCujzQuSDi3+zkKvkigz3bXM2L9n8mg/zPO8Y5yHbTU1KsvXUjjSgFQs+YOHLNwUXRb5WLse2dTOCuVyJc3k7FkNgVj1xH58sdkLPmY088Mtb9/cxJfsZDI7T0q9pcVN5us21IZNr4HBExi2PZ+mKfN5qvdI+g1voe9lrJmEAic++oMDB7VyPq/o5jjEun6cgbDXAWUAZMYtn2Sfbtps6GOALq6HtzUD4q//Brw1kDwO6jSjTPQz8NEzqKPSd3vCAMNo3gixuNKQNfKT3L8MwiZ7awPrMLHvhZg2g4rYOajAxZGmHI5TzThbusDRURERKSmdpka2mXWYxVBRpdZC2s3HvFYFL6rKgOWXr371t6k4AuuXu/uazqRRlGTL/uQztU6ckPPZaVRNngUfi4/nxn4j+9R8XNArSY4QHi8PeBzcsyeVedsurKUnN1JFOyt/pk6lX6ZXvOF1600sxmWffjiCy+uE/TH38NJtaqO7/gT9oxaAyGznySqsV1+vszlsK1GfWAVIT95tGLG8fiej3g/6zAMCyfU4xlHEREREXFqhzOCLSygH12bYDe9xr8OPMfZOGe6YtVU1saIoqvLqcOjFKxPx+fl1xuR0mqfWauZetplZI0HAibRe1YaZ9dvweflDJfvyee2KPjiugfiMJTw7eswT5tNhjONtkYq63Xr169N1S62LANBQYGABQBLkRXcVd0df4ul79m7b/rFLGZxTO1I0t/fvs+rtdb+c+28+TDna9UHVhF0H1Mi3iIpGzi7lXfOwoDZntUHAlDuuKUT6Of54vYiIiIiHVS7nBFsWbfSdTBc/arx6831Gv+6Y4mEDPrMguK4Ri4Mf+4MZfTlJlfBpPljSmlMkxjnuonrKsYcuT0V31ozgjjWBuxLwKoEri5x/Z569e4LJ+qvZ/SMsxOsY6mJvbMbuTC8owa0artLLxQUPaFiti0r/TDW+ja+cIjlie9TBBgifs7yua4Xnjf52sOtU1+f92AENk4dz4Wo8Fr1gZX8GBUzqkraqJE7Pa0PBM5/7egWajTVTj0VERER8TIKBN2y15CVHTjUpKmDvYaNcjkdaw+YPEshPZ25Bcbe52JpjIvkbN1SLYW2KZzbvbSyAY9TxdqA8fQPmETvuha779WXLmzh2ybtzjmUH4x19bg9ePcohbTgEJdPRNFtmLfWBzoETWXR3FB7gJS+jrez6wgF8/eS+NxS0i4Y6Hn/QtYvmUDPOlIz/YIG2Pd3vqj+wBKgPJfP0mHAoAH1BmmG4ROJ8XX+rWH1gc4upiFBahMjIiIi0jFTQ2t1lnR24by+dMz+kxMojEukwDyJXjVn2Dw8Vq2OoeA6jTI8noCxkRTEVXa8dN019Cjf7gWfl12kRTqDm183JrjpQdgjM8hYUj0NM2BsOoXOTcxJZCzZAmPXVTRv6TV+IUUHYiiYdoYrVT/rgEn4j02kYOsuzoXXboRT6/Nxdvx01aW06gsHJ9BnWc3PoAdhv04gK67K2OvoGlp/HaV36TlpCa/Z/oMXNphJWTyPwpkvMOv+UHoabFi/zuXjHW+x4cNT0HMEc9/4FRMGuUnK7Bv2/9m7//io6jvf4y8Ej8ZM4RIUBi0jSkAJUsiVEsTQYtDS8MNgMdgFWgssBFqTthrXS1g14CWsJXi7iVsJlqRdwSqRmgiSpUpKS0SCsCGLDBaCQhAZAoSGToweidw/ZiaZTCbJhCTk1/v5ePgwzJyc850z35mcz/l+P58v32Ir+46UcJKJ3OlnE/NiJRfO2dn96q/ZakJw0U6Kx0wn9MZggv3lHPYczvceHsSbmSebmR9YieO4a8rr8GFXkBApIiIi0sX0uHTp0uWmNjpz9hzXX38d1113XZs15Ouvv+bvf6/gmzcPpEePHm12nCv18bpxrqqfgVTzvAoaa8/H68ZRRivlzrUmdyB3bUDVPK+CK2jPxX/8gy++/JLg4IAz065IRUUFNwQFca3RDpMYzxSz9a0/8k7hSRznHFSaBn1vHsSQb93LxGmTmXh7oBl2J3lzSRzrTwxncdYapvkOxJ3bSuKPf8NHfn7TeHAVf1zcwJtS9R6p/7QSx/xMUh8MMKirLmbtzKVsZSJJf/iXlhe2kU7F/NLkiy+/oHfv3k1vLCIi0k10zRHBNnD7ItdyFSfW3cbAdg6wTm97nLLts+nvdymKRkYK21v/BxnzzHH2rHgce6sUymkJ11IULHi7YwSlHcmAUUxbOIppC1u6o0GMmTSI9ZmH2XeokmkDfILnG6eRum1a83cbdC+JOdua9ztHP+DPJhhR9zJGQaCIiIiIcgQD14+wVS8TtD2rZQVeWuwgZevxu0SDi6uYSocNbkYluArl5LTBEhDNcHpbFlWTX667PIa0ukGTfsAoYN+OAi60Yzs+2rWdSoKZGn2vCsWIiIiIoKmhIs3SLaaGtiqT4v+Yw7K3Q/jRSxk80tDSEG2p8j1S56xk5+0/Zf0L01CpmO5HU0NFRETq04igiLQhg1E/+QUTjZO8/vp7TVcPbQMn3/pPdprDWZCoIFBERETEQ4GgiLSt4HtZ8uw0gneu5qVdVzkUPPEaKa+c4c7FT/JQ914qUkRERKSODlks5vLlJmerikgnEhz+U1ITL5C45hm2DlnDtKsRlFUWs/bp1wj+0RqWB1pdVERERKSb6HCB4Kefteay7SKt77rrOnveXvsYELWMtTduZetxB+bN1jYv2lJ58iR956eTOnFQGx9JREREpPPpQMViNAooncc117RtQaOuUyxGpP2pWIyIiEh9HWZEsK0vrEVERERERMRFxWJERERERES6GQWCIiIiIiIi3YwCQRERERERkW5GgaCIiIiIiEg3o0BQRERERESkm1EgKCIiIiIi0s0oEBQREREREelmFAiKiIiIiIh0MwoERUREREREuhkFgiIiIiIiIt1Mr0A2uuaaHnz5pcmlS9Vt3R4RAXr0uIbPq76g11eX2rspIp3e119/zeXLUFn5eXs3RUREpMMIKBCEHvToAT16tG1jRMSlRw+4fFmfOZFWcfmy/oaJiIj4CCwQvHyZ4OAbuCEoqI2bIyIAZWfP8Q1LsD5zIq2g8vPP+bzqC0L+1/9q76aIiIh0GMoRFBERERER6WYUCIqIiIiIiHQzCgRFRERERES6GQWCIiIiIiIi3YwCQRERERERkW5GgaCIiIiIiEg3o0BQRERERESkm1EgKCIiIiIi0s0oEBQREREREelmFAiKiIiIiIh0MwoERUREREREuhkFgiIiIiIiIt1Mr/ZugMelS9WcPX++vZshHVTf/9WH66+7rr2bISIiIiLSJXSYQBDg8uXL9L+xX3s3QzqY8xf+3t5NkFbiPJBLrjOC2EgrRlsf63AuuafDmRNla+MjiYiIiHQ+HSoQBDAMgx49erR3M0SklZX/JYXFzzuY83JMmweBAJZBNspXLGZxSSqpi8KwXIVjioiIiHQWHS4QFJEOxnRQtC2XN/60i0PHHThNAIOQYeFEPzyPmO+GEtKz8V0496ez+LkCRj+9iZhbGtrKTsbMBLIrfB4eHEfmb2PxHdcz/5LClOfy/e4pKnkbSZHhxK+aw/x/TiSpfyZpM6xNvlQRERGR7qLHpUuXLje10dlz5wkOvoEbgoLarCGXLlVTdu4c37x5oEYEpY7PHGfo0/sb3SpHsOzsOSyW4Db9zDWp2kHhumSWby4BawSx8+cRExlKiAFmuZ28/0gh4y8OsEaS+HwyUQ0FeM5C1jy6jB13J7MpKbLRkTmzwokJHH19Pk9uKnc/aiH21znE3eXbPhOn08HRN1JZ9gc75k2RxCXMZUKYlRCLBcMdnJZumM/838G832YyZ3ALzod0WpWff87nVV9wU7+Q9m6KiIhIh6GqoSJS38k8kh+dz7LNpYxYtJZNv1/JvChXEAhghIQR8/RaVk4PwXQUkJKYTpHT345MitavIq/CxpzZjQeBAEYfC5Y+cOF4ORiGewqpk9y3CzB9N+5pYOljI3z8CAwsxC5LJvaeUKx9aoNAANuM+UQZpWz8dS6OKzsbIiIiIl2OAkERqcN5ZCMJcWsocEDYY5msnhWKxe/UTwvhixKIMoCzuSx/xV5/k/IdvLrFCXfHEj04wAZUHWDPXohISCKmj+sh851cdpT739zxt0M4jUmMHd7A/iyRzJhuwfwwi9wPA2yDiIiISBenQFBa1eltj7Nn3UGfR89jXzqO4uJ2aZI0x6lckn6Rhd2EkOkrSWkqry5oNONGu350btlBUXXdp0vfzaYIiLh/AgFPyjt+iL1YCbszkuhHPJmBRWS/W+pnY5MSux1Gj2BoI3mKYROjsTQ0sigiIiLSDXXCQPAgxTPHscfzX72gQ9pNcRon1kPvGSN9nuhH2A9nU7Xicexl7dIyCUS1g+x/S8duAkYUCQvCA6i0aaHvXmEcxgAAIABJREFUAPePZiH2k97PlVL4p1IgjLEjA6/Z6bAX4ewzgfDBYLs/lnDP3l7Pw17tu/UhigogbGwTVUGHjWWSAeZf/sreqoCbIiIiItJldcJAcCSjNu9h3OY99J/c0n25Rqr2bdNC9i1W9hb7VrxK0DMvENbfz/OjErh1AVxcksbHV71xEgjHlhQyDrt+ts2eS2SAsZv5Vc0eKPf+KFWUcOA40GcEQwMu2OnEvr8E7h5BKEDIJGIecCcmVuSS877PeN5xO4WmhRF3NHGAnkMZMRow93LoeKBtEREREem6OmEgKB3RxzkpXBqWRP9RDW8zcMo8gniVcgXeHU+1ndyaHL8wYu4PdBF2B6VHPT8b4D09s+QQhQB3DK239EPD7ThE0V4IGxnmLhRjEDk1xj3aZ5K/ZQfeqYLlBwtxGJMYO6ypHVuwDrYATg6VNJBsKCIiItKNKBCUlit7i/LtEPTDBxnY6IYj6b9gPJfWb9SoYAdjvp9Drmf9vuGTiAh0BK+qhKPHPP8Ixea1hITjpDtCHNA38MXcjxxgF1YiRnplFN4VXbvsw/5sdtRMPzWxH2w6P9AjpL8rHC05cSLQ1oiIiIh0WV14QfmDFM9ciHc6UK8FbzNmSr/6zx2Zyp71nn/Mpv/mBG5v5nF4Zg/9Tz3OifW7XQ9Pfplxi+rmyn28bhxl22v/HfTMHka5R9BOb3vclV/3Ut2plR+vG0fZJ0ncuqo2yGpsPzXP8zLjZnzCviUpXGrgdfnuh2F1j1Pbrt01/649h94bHecSswlpZDTQY+CYiZxav5MvygB/U0ilXRw6UFtExTJyKAHP5LQXUeD5+ZYIwm+qfaq8zFXcJfSbjd8e8OaqABpB2GDvR23E/CSKrOR8TErZ+MciYn4ejkEJh/ZD6Owm8gPdrDffCtgxL1ZignvEUURERKR76qKB4HnsSxfy1YK3GecbtACePEPXdlP5fIKf4KaZqlaM48Tklxm3+QVXvtyShRRH1AZoNQHdZnegVfYW+5aMo9gdxA2cMo+y9Qv5fN95qGnLQf6xHYKe8QkCG9lPje0L2bN9Nv037+F29+ssW3cft7uD09PbHq+7Hz9cQeBg+m9+wR1AHqR45lT2Ufd8nT51HIZNJKClz/vfxrWk8NVpFAh2GOWUltTm3o24LdCJnCYF7+bVBJC2qRPqTAH9ssq1sKARwGidixP7XjtEzmKEzzPG3d8h0sgn3wTnllfZ8aNwoi8WsavCwoSwAMPWnu7Q7/R5yiHwYFdERESkC+rSU0Mv7XqP01frYN4jgP3v5YZh8NUpdy5c2VuUbx9P7196BV39HyRkMlQVeqqeuqdNere5+M9UMZtveAK8gPbj4T0C2I++E8bDJ5/UPR9HdnKhwSqeBylbv5ugZ7xHEf20Eaj6dHf9X29CzbmRDsAEr2qc1pAAJ3KW7yD3HXcYaEQxf3rAmYD+VR/l0AHv/EAvQa61AF2KyPurA+dROw4mMLrJ/EARERER8dVFRwT7EbbqbexLp3JiZgonwO+0x9bU65s3+xx/j88Wu7m4ZBy+j+JV+dQ1bTKFsuIHGTjqPPbXXqXXgrd9pqk2vR8Ahg2uM0I3cMoLDJxS99/wOCdq9jW+3rRUcI101jvWsIl1/hn0zfHwie9Gjbv2lpaNwEprCqHfQOBw837L/kYWRQAYhC2ZT2RAQ8KNOGmn0LQSPdL/ioNh0+Zg25xBKWDfmkf27YUwNokRAY84ioiIiIhHFw0EoW4w5poaeWIp0IbBYOP8B1p19H+QkMkplBUehIGf8PmR8dzwS9+AKYD9BMg7ODy97XFOLHkcu8++ffMP/e7nlsGcOHKcgJZnK/uErxjPDe3zJohfBjabFXAA4Ch3QlNZd4czSN7kqr4ZMn0lKdPrT7Ts18+1T7Pe2n/+OQ4U4qiXH+hl0CRi785gzX7g+EY2HofQJYHlBwJQ7R69HNgv8MXtRURERLqoLj01tJZ7aqSfx6+/LYAppMVp7gXsr3ANvP73csOw3Vz8f281OVX19hlJ9Nr+Z+z7dnJp8ry6AV8z9tNcA8dM9LkrMJJvTIaqFQG85oGD6cWr/KO46eOc3reTS8Mm0lf5gR2K7bsxNfl9he/txdnYxmcLSFmRTTlg3B1P2mP+F5639HGFWyWfBtJbTUrsdogMr5cfWCuESdOjvKaNWggPND8QcHzmrhYaHKxCMSIiItLtdb4RweI09qx41euBhezZDnVz4upXDHU9X3808PZFL/OPmQtrp5A2u2poIPxMVXWrN+LW/15uGJbCxfXj6f3SyCvfTxPqVQx178M78Lx90R5gHGUzX8U7lbBe5VDPSOZrb3F6VGMjrue5sGs3vSYsa6dRWWnQoFhSHtvF/BftmAVrydo/lvi7/YR3J/NI/pc1FJw1sH4/ibRfRhLSwNTMkEFDMbBjnrlAk2OM1YcoKoDQBaGNBmnGPTOI6ZNPdgXQzPxATxXTsFvV+0RERER6XLp06XJTG509d57g4Bu4IailSUANu3SpmrJz5/jmzQPp0aNHmx1H2kjZW+xbksK1jQSktVVImxdof+Y4Q5/e3+D6665rlaZ2BmVnz2GxBLfpZ64+JyWblpOwrgjTsBK5KInFk8OwGibOzw6xIzuDjG0lYI0k7plEYoY1MSmzIp9lM1Mo7BNL2uY4wvxsYlY4KT93iF2vrCGjoBzL2Hk8uySGoTdasDTw0ks3zWf+ulIYm0ROSlSAU0Od5CfNIGWvhdj0HOKGB/RL0kVUfv45n1d9wU39NClYRETEo/ONCErH1P9BxjxznD0r6ucZAlCc5l4nsbVHW6X1WAidtZpt3yki9803yHszhcXrHDhNg5BbbAwdNYHEjBSihgR4Md0nlNGDofD4IY46oN4szrO5JP5TOnavh5x7s3hybxbGjNVseyzc725t0+cT9btkHGObkx/oqkiKMZYRgwP9JREREZGuS4GgtJ5RCdy64HFO5ByERd7TWl0VUH2nnkoHZQ0nZkk4MUtauiMbEd+zkbHOzt6DTmKsPmHbTTGkvRvT/N0GRZK07d3m/c6RvewwwXjgO4y9moOsIiIiIh1UNykWI1fLwCkv1K6nWMNVwbU5OYzSNdjujyUcKHx3F+Xt2A77zjycWIiZGqlCMSIiIiIoEBSRthQyidnTLbA/m7zj7dQGZwE5W5wwfB4xd7VTG0REREQ6GAWCItKGDMIXJBJllLLx1YLGl6VoI6U5meSbYcT9nxgCX2xCREREpGvrcDmCX3zxZXs3QURakyWShOdiOPBUCmn3biLpuwGXeGm54xtJ/p2DsMcyib3l6h1WREREpKPrUIFgz549uVBR0d7NEJFWZrk7nrSnzpPwfBK5oWnEXI2gzFlE+tKNWH6SRsoMjQWKiIiIeOswgWCvXj0ZcNON7d0MEWkj1geSybwpl9xPHJi3WNu8aIvzZCkhC9eSFmVr4yOJiIiIdD4dZkF5EanVPgvKi3RNWlBeRESkPhWLERERERER6WYUCIqIiIiIiHQzCgRFRERERES6GQWCIiIiIiIi3YwCQRERERERkW5GgaCIiIiIiEg3o0BQRERERESkm1EgKCIiIiIi0s0oEBQREREREelmFAiKiIiIiIh0MwoERUREREREupkely5dutzURufOlwPQs2fPNm+QiEB1dTVfX/6aa3td295NEen0qquruXz5Mr169WrvpoiIiHQYAf1VvAz06AE9evRo4+aICLg+c9BDnzmRVnAZz98xfZ5ERFpMX6VdRkCB4Ndff83111/Hdddd19btERHgy4oKbggK4lrDaO+miHR613xp8sWXX3B90PXt3RQREZEOQzmCIiIiIiIi3YwCQRERERERkW5GgaCIiIiIiEg3o0BQRERERESkm1EgKCIiIiIi0s0oEBQREREREelmFAiKiIiIiIh0MwoERUREREREuhkFgiIiIiIiIt2MAkEREREREZFuRoGgiIiIiIhIN6NAUEREREREpJvp1d4N8Pj666/5+98r2rsZ0kH16f0NevbqMN1VRERERKRT63BX1gP639TeTZAO5tz58vZugrSSyv/ZylbnGB4ab8Vo62N9tJWtjlE8MnFQGx9JREREpPPpcIHgtb160aNHj/Zuhoi0sgu7fkXCmjM88ptpbR4EAgQPGsSFlHh+/vEqUuYPJ/gqHFNERESks+hwgaCIdDCmg+L/2sqbO3Zz+ISDShPAoO/QUXzvoR8zbcIQ+vZsfBeVRb8hYdVuRi3dyLSbG9rqMOt/+ARvXvR5+NZ/5qWXfoDvuJ6561f8YNVOv3ua+K85JI4fxeLnfsiSJUt59sa1pD5obeqVioiIiHQbPS5dunS5qY3OnD3H9ddfx3XXXddmDfHkCH7z5oEaEZQ6PnOcwRJ8Q7fKEayoqOCGoCCuNa7G2FkDqh3sy1xJypvHYMC3eejRHzNt/BD6GmBeOMyf1q4mc5cDBtxLwsplTGwowKv8gLQFz7Lzfy/jlX+5t9GROfNiJV8BJW8sYtkbF9yPBvPQ6mwWjPBtn0ll5RlK/vhrlm86jHnjvSz42Q8ZP9xK3+BgDHdwevIPcSx5BX70UgaP3NqiMyKdlPmlyRdffkHv3r3buykiIiIdhqqGikh9J7eT8s+LSX7zJMPnp/PKb5fzo4muIBDA6DucaUvTeXZqX8wz75H6f35DcaW/HZkU/+5X/OniIB55pPEgEMDoHUxwb7hw/AIYhnsKaSVv572H6btxT4Pg3oMYNW441xLMQ08t46GIIQzoXRsEAgx68MdMNE7y+otbOXNlZ0NERESky1EgKCJ1VB59jcT4f2f3Gbhz8VpWPjyEYL9TP4MZNf+nTDSAc1tJefVw/U0u/JlNb1dC+A/4XqCjcVUH2LcPxvzsSaa6B3DM/K3svOB/8zNHDlNp3MeYOxvYX/C9TJsajHno92w9FGAbRERERLo4BYIiUuuzrTz75H/ykQl9py5neVN5dUGjGfMt14+Vb/+Z4uq6T5/c8UeKgTGTIukbaBtOHOYDrAwfdi/fe9iTGVjMmztO+tnY5NhHh+FbYYQ2kqd454TJBDc0sigiIiLSDXXuQLA4jT0zx9X+t+5ge7eoVXy8zvV6iovb8CA+565NjyWdQ7WDN1N/w0cmYExkyU9GBVBpM5i+A9w/mvv46FPv506yb8dJYDhjRgRes/PM4WIqe49n1K0waNIPGOXZ2xvb+ajad+vD/M9uuHPMnY23dei3uc8As+A99lUF3BQRERGRLqvzBoJlb7FvxasEPbOHcZvd/y0a2d6t6jxGJbjP28sEtXRfxWnsmZnGx63RLmk3Z95ezfqPXD8PeuSfGB9g7PZVzRCbgwveSz5ePEbxCaD3cEIH1P89/yo5XHQM/vdwbgfoex9To9yJiRe3srXQZzzvxGE+MIMZPqyJkcueodz5LcD8gMMnAm2LiIiISNfVaQPB0/t2cmlYEv1HNb1tZ3P7IldgO6oLvjbpoKoPs7Umx284U6MCXYTdwcljnp8N8J6eeczOPoBhofWWfmi4HXb+Zx/cOSLMXSjGYHz0NPdon8nOt/+Md6rghQ8/4IxxH2OGNrXjYKyDg4FKDh9rINlQREREpBvptIGgiLQes3ALb3vW77vzPr4d6Ahe1TGO1QwFD+GbXktInPFEiAP6Br6Y+9Fi3sPKt+/yyigcMZkfegrNFP2RnTWpgiaHDzWdH+jR90YbAB+fLA20NSIiIiJdVidbmO0gxTMXUpvis5sTM1NwzfQaT++XXiCsv/upsrfYtySFSzXb+jzv3hfP7KH/qcc5sX636+HJLzdjiul57EuncpEkbl31IAN92vnVgrcZM6VfwK/u9DavdtRrr3eb3+ba16Zy8QhX0ObmqdsmgNn035zA7X6eK5v5KmXun3v5e+3FaexZ8WqbtleuzOH/2V1TRCX4riEEPJPzo2JqesDN32bUjbVPXTjnCriG3Bzw3twVQMdwZ50Ko4OY+qOJvPJ/d2JyktfeKmbqz0ZhcIzD/w1DHmkiP9BtwM024DDmRScm0I4rNIqIiIi0u04WCI5k1OY9gDsI2TXRJwBzcweB1z6zhzHu6ZWntz3OiSWPY/cJrqpWjOPE5JcZt/kF9+8tpDgi0GmZ/Qj74Wz2rNjJhbIHGejZb/GfqWI2/ZsRBAIMnPICA6d42r+zwe2qVkyFZ/YwbhRX0OZmKE7jxPrB9N/8gitfq6H2FqexZwU1AaJ0Nhc4eaw29274YFuAv2eye8efagLIQd+/t84U0C+rXAsLXhvAaJ1LJYf3HYbxP2C4zzNG+L2MN3ay04TKt19j5+xRfO9iMbsvBjN+eBP5gR49r3X933GBCxB4sCsiIiLSBXXJqaEf56TUyx8cOGUZvYft5vN95+tu7D061f9ebhgGX53y2aYxo+bU2+/Hha/C5PvaLCjqteDt2qCv/21c20bHcXmVf7RWRVFPgRqNBnYwX4JXNU5r3wAncl74M2/nu8NAYyI/mhpwJqB/1SV89D/e+YFeglxrAboU86ddDiqPHeYMkYxqMj9QRERERHx1yUAQgNtuqz9SCFz69LM6/+7lndREP8JW7WnWdE7oR98J47m0fqOrambZW5RvH0/vGV0g2BmVwLhnZlO1QstMdG0hhAQ4qObtozf/E1d3MLhz4Y8Z39Lys58e5gPTJz/Qy53f/6eaEceP8v7EH/d9AGNGMTzgEUcRERER8ei6gWAD6gZ+rWPglHkEuUfOXNVMJ9K3f9O/1ynULDOxpyYoVDDY1RgMGlQbCTouVDb9Kx/9lpVvuKpv9p26nOVT60eSIe7o8qt6a//5d6b4A87Uyw/0Mug+Hgp3/3ziNV7fCUPCA8sPBKD6K9f/rX0DX9xeREREpIvqkoHg7RGzYfvCOgHL6W0ruXhkNiHNzNsLzEj6LxhPVeFbXNi1m6Af+slb7ApG3ed/zcGBg+kVyBRSzyL26w62QeOkJQZFTqsZbdu3+wMaDQXPvUdqyh+5ABjhPyV1sf+F5y29XeHWsc/OBNACk2MfHYbxo+rlB9bqy8SpE72mjQbzrUDzA4Ezn7mrhQZbVChGREREur1OViwmQKMSGPcM7Fkxjj01D85u02ImA8dM5NT6FC4OS+LWKyra4q5AeqT2kYtLXO33W4GzhT5eN46y7V4PeM6VV85k/Yqh7rb4vr7+D3LLgp2c8DrfbdFmaUODfkDy4vdYsvYw5u6XeaXo2ywO9xPendxOyrJ/Z/c5gwEPPElqwr30bWBqZt9BQzA4jHnmApXQ+Mhd9WH+ZzcMeXRIo0GaETGdqb138uZFoJn5gZ4qpncOUpkYERERkR6XLl263NRGZ86e4/rrr+O6665rs4Z8/fXX/P3vFXzz5oH06NGjzY4jnc9njjNYgm+gZ6+ued/Cn4qKCm4ICuJa42qOXVVy7I3/y5OZxZiGlfHzn2TBA8MZYJhUfnaYP7/5WzL/6xgMuJf5Sb9g2tAmJmVe3EnyD3/Fvt4/IPW1f+ZOP5uYFyu5cM7O7ld/zfrdFwge82OSFk4n9MZgghvIOTz5RhxLMk/CmH/h9RUTA5waWsnOZ2JJ3RfMQy9ks8BfY6TLMr80+eLLL+jdu3d7N0VERKTD6D5X1iLShGCGPLyKP04oZutbf+Sdt1aTkOmg0jToe/MghnzrXhJeXMHE2wPMsOs9hFG3wr4Thyk5A3f6DsSd20rSj3/DR14PVe77T5bt+0+MB1fxx8X+h9YHTf0xEzesxDGmOfmBroqkGN9meEM5iCIiIiLdiAJBEalrwCimLRzFtIUt3dEgxkwaxPrMw+w7VMm0AT5h243TSN02rfm7DbqXxJxtzfudox/wZxOMqHsZ09LqpiIiIiJdQJcsFiMiHcOgST9gFLBvRwEX2rEdH+3aTiXBTI2+V4ViRERERFAgKCJtqe99zJoaDEV/5E8n2qkNle+x9e1KuPNRpo1opzaIiIiIdDAKBEWkDRmM+skvmGic5PXX32t8WYo2cvKt/2SnOZwFidNQvVARERERlw6XI/h5VVV7N0FEWlPwvSx5dhrFy1bz0j2jSZwQcImXljvxGimvnOHOxct56Oard1gRERGRjq5DBYK9evXi4j+c7d0M6WC0nEjnFxz+U1ITL5C45hm2DlnDtKsRlFUWs/bp1wj+0RqWPxj4wvMiIiIi3UGHCQSvueYaevf+Rns3Q0TayICoZay9cStbjzswb7a2edGWypMn6Ts/ndSJg9r4SCIiIiKdT4dZUF5EarXPgvIiXZMWlBcREalPxWJERERERES6GQWCIiIiIiIi3YwCQRERERERkW5GgaCIiIiIiEg3o0BQRERERESkm1EgKCIiIiIi0s0oEBQREREREelmFAiKiIiIiIh0MwoERUREREREuhkFgiIiIiIiIt2MAkEREREREZFupselS5cuN7VR2blzXL4M11zT42q0SaTb+/pr18dSnzmRlrt8Gb7++mt69tS9TxGRltO1SVfRK5CNrulxDT169qBXr4A2F5EWMs2vuHz5MoZhtHdTRDq9r766BKDPk4iIiJeAIrvLly9zw/VB3BAU1NbtERGg7Ow5LJZgfeZEWkHl55/zedUX9PnGN9q7KSIiIh2G5smIiIiIiIh0MwoERUREREREuhkFgiIiIiIiIt2MAkEREREREZFuRoGgiIiIiIhIN6NAUEREREREpJtRICgiIiIiItLNKBAUERERERHpZhQIioiIiIiIdDMKBEVERERERLoZBYIiIiIiIiLdTK/2boDH119/3d5NkGa65hrdRxARERER6Yw6UCB4mbJz59q7GRKgG/uFYCgQFBERERHplDpMIOgxcED/9m6CNMFRdra9myCdUbWToi25VI6LJdJqtHdrugfTQcHmQoKnxBDep70bIyIiIh1JhwsEe/bsSY8ePdq7GSLSmqrLKUhdTMrpOWROVxB41RhWQoN2MH9xEYmpyUTd0t4NEhERkY6iwwWCItKxlB/LJ+/1PPIOHMJRbgJg9LEy4t5YZj8STfgtTQV2TopeXEzyX0aTvCkGa88GNqvIZ9nMFAp9HjYeSCbnqUh8j1K6YS7zf+fwsyMbcVmZxA7yemh/Ovc/lQtBIViDnDjKQ4nfkEaMtYmmtwPnO8uY8Xy9s0BUcg5JkfXOAhsfnU/WKT87GhxH5m9jsc1IIck+i+TEdPq+HE+4pY0aLm52sh5NYQehzElNJvqmRjb9MIu5q3dA6BzSno4m5Kq1UURERFVDRaQBziO5JM+dwqy4VHZdH8kTa3J49913eXf7NtYmTuAff07nyUdnsPh3dpyN7WdvBsu3OIl6KoHIxoIQSyRLN+eQs3kDT9xT+7D5Ti47yutvbpu1lpwNa3niAdflszEkhifSM8nZvLZuEAgwOo6czZkkRVITzHZUlu8uJWdzDjm/f4KImkdN8rfsoP5psBH7HzlsyHiCqJsADEJnPEFaVg456bHYXHskMiGJqIpclqUVNPpeSWv4EucpB45T5ZjVTW3qxHHKgaPMpGP3ShER6YoUCIpIXdVOin63mFk/TWcvk0jasI21j8cQPsg9GtXTwHZPHGvXxhNmmJRsSCQpx9/IHFBVRNbzeTgHz2Fuo1Gga7+WPhYsfcoptYNheEa/ish+t7T+9oYFizWUCf97KBBO/Kp4oofbsPTxM0LZ08DSx0bU/RMCPQvtx7C4zsPFUg5hUHMa9mez46S/zS1Yh0xg3G3A3fGkPBZN2CALliCvjSyRzJ1tw8xPI+uAQg4RERFRICgi3qrLKUidz5MbSjBvimHl2ieIamj65C0xJP7EBpjYX1xDnp9Ru/K/vEpuBYQ/HI2toSmhvo4XsavCQsxT8YS7Hyp9PQ97A6MrR+1FMDyS8C42r650/y6cfWJISqg5C2zcave/cfVRDh2AsHvCG5xeaJsSSzjl5P7B38iiiIiIdDcKBLuBj9eNY9+28z6PHqR45uPYy9qlSdIhuXP53ikHI4z41KbzyWwjI3BtUkTeX31HBUvZ8UYREEH0PYFHac6jdhyMZcTYScQ84B4Oq8gl531/I1ml2P/bxDJyKB0w3a8FnJTYHXD3CMZ+N4Yo92lwbsmhoMrP5iftFJoWRtzRyFkImUD0WBocWZQOqMpJ6eFCCg+U4PD3vgNmhRNnE//VmaJa5cTp9Posme5jHC7F2dhgcbWJ01FC0fuF2E86/U97Nf0cP4ABaNMZYNu9VTlxHCvCfrKBY1Sbrn000ADPMeudm8aOaTpxVjT8gswKByUH7JQ2to8mBLwPz/txuLTB1+jaX93zYzpLsft7Dz3nqxn9ydX3Gjm204nTu9+6j+F9XNNRQtH7RZQ4mu4optNJ6eEiShxNvUcB9sHG3m/P+ajy+XczznWj2zV03prqg031+wYP2sS58PPeeNri978qr23a6vvEt/0n7RQdc9TtU15tb07fDfQctHr/DKTNPieu2Z+zZuqExWIOUjxzITWvefLLjFs0sj0b1KGd3vY4Zdtn039zP59nRtJ/AZxYksbHmxO4vV1aJx2JK5fPNVZkm51ITCAVJvtasQF2wG4vwZxhrS3qcrKQvOPA8LGENWPpgkPFhTA2idFBBpapMVjeycbpzpFbHOlTUONsEYWnDCbdHRb4ATqD6kMU7YWIp0ZjBFmYMd1C/mYnmPnk/mUxkd+vG1iXHyzEYUxi7LDGdmohbGwY7LWT934psYNsbfoSpAUchWSsWE72Ee8//gahc1NJ/UkYtfdnisiY+SS5Tewu5vl3ib/b/RvrZvDkljDiN6Rg+69Elm0oqc1PNKxE/jKV5Ae8bihUOynZkkryugK8r4UMaySJz9etROvYlsTcF+uPWht9wpj0s0SeiPLX5xzkLZ1L+uGm2w5ARRFZzy4n+0OnV16lQejMZ0lZFEGIZ+bB2TyS5qZjHx7PhvQYnxtFnmOG1Ska5To3fo4J4CwifeGT5J6NYfW7tbMVAJwHskh6LhvnE27gAAAgAElEQVS798VaUCixT6cQNzawm2DlezNIfj637j4MK5GLkkmcEVr7nleXkv/vKaRuK6mTV2pYI4l7JpGYYd5379z94654Niy3kbd0GRu9+lSd99BzvgJoq+v8ePpe/fMB4Nyfzvyncimfvpp3f+5+1n2Mkhmr2RbjIHlpOgVencoYNofUX80jzOcGpPPARlalbqTQ4fN5mPksyYsi6hQga04fbPD9rraT9WgiGx2hxP0+jVjv8+O3P4EjJ4H5L9oJfWwDaTMauy3Z+HlrsE2B9vsGeM5LmL/2VTvIfWI+6R+G+v08+OV+X9vy+8S1fSl5zyeTnl9a53VbvxtH8i9jCLVwBX23gSevQv+scSCDGU818M1dp49dweesmTphIDiSUZv3AK6RrpYNaJ3HvnQqn094mzFTfAOljuv0tsc5sWsit656kIGNbVicxon10Psl/4HewCkvUPXpOMqWDiaoqX1J1+bJ5QMwopg/I8AgodqryMXp85RDzR9I50cHKIVmjtbZOfA+WB9yX/jcFc2cwdlkHMc9khVdpxCMaT+EnXBmhAZ8gCY5j+SRsW4ju+wOnCYYIeFMmj2bOdPD/X+hVzso3JTJG28WUFRugmHBGhbN/AVj+TLvVbL+XER5tZXIxFSSG5xn6+PIAXZhJXao6y9O2LQ52DZnUAoUvbGD0u97CsEAmNgP2mH0DIY2cTFgvWMEFuyUHijBOcuGCoh2QOV5LJu/hsKeoUQ/No+YcSOwVO4l+1ep5G5IZNUtG1j5gG9wEc685x7G92NQkrOMrP1+D8KOf5tPiTmJ+PQkJtwMpe/nkpaWS8HzCaTftIH40a5bOvb1c0nYZGIdO4cnfjSJCTfD0e2ZrFpXQEpiBtYNcYT59LvQBWtJneLu6xcPkfV/l5ObkoClfw5xd9VvjWkCt0TzxOLImhs9ftvuLCJ98ZPkVoQSk5RI7N1WLJS727OMxeZqMn8e3gb92kHuvy4j188Sup4LMeeQGJJ+FcvYGy1w8Sh561eRkbQY8/lM4u9uvEXO/eksTsqlPCiU2KREYu62Yrl4lB3ZGWSs28SB+5NchbaqHeQ+sZj0D8H63TjiZ09gxI0mpe/nkfYf2aT/1E6pv+Nd2EHK4hLM78STtnQCNkrZlZtGek4BKYnp9M2MJ7xPBPOes3pdbJfwxtNZFPnpW/1ua+p05ZL0dG6DU9DNv2WR8NNyQn70LGu/MwJL5SF2vbKGjIKNJP5rCJm/rg20ai50g0KJTUwg+h4bxrlD7Ho1nazNy5j/t3gy19SvRt3cPujNvj6ZjQ4IeyzJFQQ2wTyQTsKL9rYr+NSm/d6k6KUE0j9suPXhP1nJw0N8Hux/q9c/2uj7pKa/W4hctJr5k4cSghPH/mxSU9NJOI/rvW/NvsvV6Z9Um/XP7YUC0l/Io4GKC/U18TkLVCcMBCUw57G/9ipMfpmw/g1vdfuMJMqXpFBW/CADR1291knH4snlAzAmRzde3dPbqVJKPD/3pM4SD0ftriUQRtzWjJGnU4coqjCIuMvzOzYmPRxORmoRnhy52CW1o3+HDhbA8LhmjTg2zDU1dllOObZZK8lMCSekp4ljbwbJzz3J/DeiSUp7gkjva/CaO6kQ9pM0cv4pFMvZfFJ+mUJKfDbW7yeTmhDM/OcLKHirkPKomICWCHDYi3AaEYQNdj8waBKxd2ewZj9wfCN5H8Z6XcwcoqgAwhaFNX0hcPNQRgCFBw5xlKh6dxelNZWQlTiX7MaC8yo/f8JDonni11acA8Kx1fTrKOJXfUnprDUUvrULxwO+IxI2wu6JqPd+GnsBv4GgA8dtK9n0WAQWd/vCvh9PatA/mPVcPrl/2MGc0a7R97DZaayeYBA+vPaI4bOSST4/g4TNuew4EEeYzx12I8hV8AiAPhHEL51D4T9ncajEAXf53gw5jeMYMDacCfdE1PTh+m03KfiPZeSetRCdkkr8WM+WFsJnJZNqzmf+79LJ+0Fm/arBLeTISSHjiOv7rc7lclUBaU/nUt4nmpVr4onwNKlPOLFPp2LGzSfrpTxifut948ZHtZ2NKbmUE0bc2rTawKNPODGPryXm8dpNy99ZQ/qHJiHTV7PW68I/7PtxrB0ZQsKjGeSmbGTSJp/g/JSDoSmbvM5ZGNGPpfKNi7NIzs/l1b/MIfz7VsLv8X5vDPYCRQ30rQZVO8j9twxK6p+tWsdgQsYGr/cpovZ8fZhF7ocxru83z7kxwohfm1Y7S6VPBLFPj8AWNJdl/5XOmncmsNpnlkTz+qCXwxkkbyrHuCuepOkB3LhzFpHxfC5Ow3Df0WhtbdvvnfszWJXjpLHm24ZHENHQKBrQVt8npZuTSP/QJGxJGskzPdtbCI2KJ7XnP5j1XAaZ70eTFNlKfdfjKvRPx2cnXK/l7ggihnsedLARAgsEA/mcBUg5gl1V8UYuHhlP7xlNTJvt/yAhk6Hqtbc4fXVaJh2OJ5cPwCA6MvCvzdIjRTU/G6E2ryDHQak7QrSGBH6f0mk/QAmRhN9R+1hIgzlypdg/aL38QEdOEstyHBCVROqicEIMoKeB9Z54UpOjMRx5pKzIxeE199+xJcV1J7VPDIvnhrr+CFqjSJjvWvjB8dEJiEokM3Ula5cFFgSCE/v+EogMZ0TNYyFMmh7lDrSd5L5dUPvVfzyA/ECPPn1d58o8Sqmf0Q3pGEKGeQeBngdvJbQPcLi0Vb6rJ0TWXrR5WCKjiTaA/UXYPZ8zi63ORZuHLXQEYHL0ZNOXLeanJyjHwHqjn09AxQXXhc+Avo3fyKjay1/fMeGWWGLH1t/Sdl80oZSya3/A99MDcziDhBdLCF0SR7TPU+bev5JvgvWh2Nog0KOnjUnRoXB8F0WNNenADnIrwHhgVhPT8R3sersICGPOI35Gf26JYVYUUJHLjoO+T04gst45sxA5ORoDKPrv1hvNsq9PIP1IKHGLfM+WlyGTmOAbtPS0MWlaGOBk1wF3lWjPuZk8z8+5sRDxcCxWoOi/djU5KtJoH/SotpOxIptyI4y4/9PImrc1yslPWUYuMcTNbsVpKd7ast+X57Pq6VyYEccc3xG/Zmr975NSdr1dCkQxa0r97S2Rk5iESf7+Qy1ruD9XoX+Wl5UCNqx9r6yJAX3OAtSFRwR9cgmBXgs8U0B9njsylT3rPf+YTf9m58w1diwP1zTUi0ca3sY11fVlxs34hH1LUrjk056P142jbLtn692cmJnCCfe/gp7ZwyivEb3Tp47DsIn0bWQ00OP2iNmUbT9OC3JNpTM7W8Su455/hDMi4L9nDooKa//4RI4c4fVcOY7PAEKxNiNKO2ovgrviCPNe+iAokrk/sZG/rhTMfDZtn0/kDCtUlGA/BRNGt0J+oLOAzHWui6Ho+yPrXWRZxkYxycgj90PPHUgDKKdwpzsr4WZrnSDPEuJ+0cezyTsyh7jREQTMUwF0SVidEVYjci7zBueTcRzMdzaR92gkMVZPcZ0JjG40P9BjINYhwLFynJVAY4udSwuFMi+1Nt/Gr/3p3N9QnohHtekuHmBguRGoaMUm+uo5ENsQ4LCD8xVAkJ9tqtwFJ3oGN7ib8o+LKHzf/YmoOEDWfxRgm5tKQqSfpV0unOYEEPrNJpITyk9TCnA2m6RH8+o/X+10XWx9ehq8bw0dyyLx0ex6mzsDuRHiLCJ9RTZMX03KdMj6d58mnXNdEJa/mcTcd/z9vuvyr9RRt0neHCePYgJhd4Ti5+x4OU3pYYCh2PzuyyA0LAzy7Rw97oDRAXzx3mIjFLD7TOu/Us796SRvgpjnU4ghi/Rm/r510FDAjuP8ecBWe25ubaBvDA4jAsj9sJQTUOc7uDl9sPRwIYVmJaXb15J91iD88aTGP7dujpxkUg+EEv9yPBEfJDTz9eax6tHCeu+5WS9iuMJ+35RqB7krUikaFk/mkggKf9HcdysALfk+qT6N4xRAAWmL57K23i+artf9SSnlNFwtuzW1Xv80KT/nBG7FegV/g1v6OfPVRQPB89iXLuSrBW8zzm/unyfPsDVyBJs6lmebqVy87WXGrXKP0JW9xb4lU9mHz7G3L2TP9tn037yH292/V7buPm5fNJLbF+3h9kWB5QhWfbobbpsXWN7fwMH0YidflAEBBI7SxXhP7+xjwxroNMuTu8j1FHgwovjOWO8/aV9iVgAYGIEuG4GdvX81sT5U/0vddk80tnWuHDn7K7nYp8cRemAPhUSQdIe/fTWP8/088k2AMEL9zuHy/EEzyd9WQEJkVID5GCbml81szJG97DCtxI6sdxaI+J6NjHWlgJ2sN+3ELAnlwAeu4jojAjzPrnUJHZSfBwY3s21ydVQ7KNqykVff2MUhh7Ptco8C5DyeT/b6TeQdKKE8gDuGjm1rWLat9t9GnzAmWQ2oBnz6qetGBkQPauIi9mK5a+RwZCzxjSQFG7YRDT7XPE4K1y53FWlYEI6FonpblJ933Qgb8VB8/Ryq2hZxayt8R3V4zkIyUnJh+mrm3W1pYEry1dOcPlj0u2W17+5NkUSGBvDtfiqblBdLCH0sk5hbwPFBKzXcVxv1e0dOCulHQol/OQZrz1YeRW9CQN8nzkpXoHfLJOZ55Q7X03/oVQkCW1cJh/YDQ2zcGvD1kVsbfM66aCDocmnXe5yecnWKoDR6LM80zV96TdPs/yC3LNjJiXq/5z0i2Y++E8ZzcdcnnGZkM17Heb74BAggKbbWbr46jQLB7qjaa4a5z8hWY+xbN+JZ5t32k7lE+rvb1xyOoxyqkx/oxTtHrsKVR8Df9sKQOa2SH3j0b/Uv8hpUk18XQvh4G3xYCsdKOV1NzVQiZ7n7D6tRd5prIBx/O1Q3P9CL7f5YwtetoQhwbtlB0SI4tB9CZweQHyidg6c6ZYWViFlxpE6agG2ABYvhIDe+4eqaraUmT8jdlz3VEBkWTVxSIhFhNqx9jEZHM30rEzqPZJH008XML1nNhsfCfXKJXdMdQ5v6e+WpUNxzICO8cgmbNGQeqX6qhjZ1Lh05SSz/rxDm/bbhZXRC+rtqJhsDRhBxTwf4BFY385aBp9iXT35384/rIPdfl5PXdx6Zj7WgWI+7/QHfPPQuVuajOX3QU0nSPJ5N4k8zSP/FV3xjw0qiGvpj6CwiPTGDkqhkNjVaIbQx0Sz9vZ+qof9+f91KnVfa7xvh3J9OwkslRD29KbDq4C1wxd8nnjQGp4Vb74mgQ9QFb63+6TjKoQow7gtt3ih8a33OfHTRHMF+hK16m96kcGLmOPbMHMeepW2VAxfosQZzvb8g64jPlMxhg+uMng+c8gLjml3Rsx/XNysIBBjPtSob2j31C2n+lKDyfDZucbp+vimG+OktX4rA/Nsh7DQUOHnnyJnkvZvFrvecWO4e0TrrBzbnAsprU9vMZOKGAGYeWTmlrrWDHPmkZRYCIUQlLW5mgGxSYrf75Ad6CfFaW9HMI+93u9hVYSE8rGutotidFa1fRu5ZK3N+vYGVP4kmbJAFS4uu0puhvIi9x4A+Ixh6E+DIJeVFO2ZkEpt+8wQx94S6LtqayTIsmknDoTyngDoZPVUF5G03YfAEwpuaImUdyog+wN49HGjjPAbzeC4p60oIfSyFOYMbadIdI7AAhR8cuOJRW+vgoRi4l99pdMuhjBgLUIj9uL/nyynaWwIEmC8MlB/cSwlgCWvJqIpJyZYUMo6EEr98DrbmjnB4se/fBUD4HUOB2vPb4Lk5fIBdAGNHMLSJfTfYB70Yg2NJWhKGYRaSurYAp9+tyilcv4pcYliZUD+NoNW1dr//eyFZqbkwfSUJ323j1rfo+8Td3yt2UXS8bZsZqNbqn6V/zcWOQeTo5ozitt7nzFcXDQTBFaDtYdzmPYzb7A7U2jQYvMJj+QR+rSXom+Phk08Ca8Pp41xqKFCVrm/ArbV32z5zBFCKuJz81FQKTWoXnq/XifsRcguAGfDCyocOFMBdI+rmB3ox7plBjHv0z3xnI9mtlR8I3Hp7M/Zzl42awtmfFZJ3zEbkzEiue30xUybfz/3z0ygJjeWJ32SSFNnMy6tqdwXQkWEN3KE3iJwa4774MMn/Q3Yz8gNdXHdorYR0nhVzupFySj8xgRBCevs8daqIvZ+13pGOHvedDuak6JUsigDbI9Gu7wSHe9p4X99CLk7se5sxil7tzhnuY3Cd18OObZvINyFs2oSGq2rWCCP6ERuQT9q6ovoX6dUO7AdKG7h4b54d6zMoGZ1IclOjPcOjXYFifhoZ+/0c2WGn6GQTLRo5iZibGthHtZPSw57XZGHs5CgMHGx8NR+nz/eqc/9G13Ibg+cQPRwfRyk55fOQs4iNvy8CbMyJbsn36A6y1pUQ/svkwEeXPivhhO9pOZXL2i1OMKKI9pStHhZN7GAgP5ONR3y2r3aQ+9tcnBhETQkgIGugD/qyTkli3nAw81PJ2OvnvTuWTcYWiH2m4ZHi1tW6/b5kUwa5xJLciiNK0BbfJxYip7j7+6/rFmkDXJ+NAyWUB3h90Sxt2T+dhWS/Xgp9oom+uzk31a7gcxagLj01tJZnimX9x6+/DS42NYW0OI09K14lsEIyfo416j6CWFiT6wdA2VucWr+boGdeaPbU1YG3DObEkZ1cKHuQgQ0Eb4Fs4/FxoWuZCS0q300FjeU7Dxjkv2NCxS4Kj8QR1mBg4aRkQzKpe00wrMQ8l9LAl5IFS1/gVAkOB9DkF1cp9v82sT7QSNJ3T9cfxOx1ngmpEc2edtmQkNETsGGnFDslpdTPua8+QYl7GpltfG0byw/sopRw4pfEE76kFRpy0k6haSW6Xn6gF++1FQHGhgecH1hTqp8QLNe3pKHSNjzTje1sXJvL0MWTsOHg0F83kP6KA8tNtFqxGPtL85m7P5Y508MIoRz7lo1k7y3HsM4hcaY7LLsjnEgjl/ztGaSPTWJeWAjln+0iLz2dHdUNr0NZp1BHlYOCNzLIqzAI+3kMYZRT8v5Rjh7IIn1zCdwUy+JAyvQDtpkpxO+eT/qWJ5n1tyjmPDiJ0D5Q/re3yN5cSGmVldj0TOKGt2wI1ewTzeqkqABGyWzELo9n18J0cp+axaGoOcTcF+o6n9uyyX6/FNMaS1pmHGENNalnGHMSY9jxVC65Ty/GMWsOD94RUnvejoTUvCbLdxNYeeAAT25JYdanRcQ9HIk1yPX6N24qdJWxX+5vqQo7GQvncsCz7wo7b23IpvCsgXVuYguX2zCxTF7N0nprWzaiIo9l/3SU6AWziBwQTOWZAjatz6PENIj0nkXR08ac5fEULkxn4y/mUlLv3LiW0vBXAKbxPtiInlZin5hH3j9nkff/sojK9LnRaULoY2nE1Qu2205r9nuTUOJT66/92VJt8X1iRCawcvoBntySzvxH9xLz8CRGu/tLzis7sFdAROIGVn6/lbME26B/mqeKKPpbCXmZWRRUGEQ8NcfPDfTGXMHnLECdLxCsCco8FrJnO9QN0upX8XQ9Xz/Yu33Ry/xj5kKvCpzNrRoayLFGMmrzyxTP9LTVxbfSZ8BGJdB/8jjKloxjT0P7GjWH3sOmcjHnICxqbAmJg/xjOwQ908QyE9KFGUT+bCUxB54k96yD7N/kEu13AVQnResTWbapBDMonLg1zxI7rKFLwRBsoQZ8aOIod0JT9x4dRRSegvBhjY8LeOfIMWR0K60fCAyKIX5GNk/mlLPj3QLixta9w+ws2MEOaGAa7A7y359HeCvkCDkOFOIgnNBGL8y811aE0LubkR/oKdXfYOVBaW+2mSkk/S2R1L+kk1CQDhjY7pnDExuS6bd9PvPXtc5xYpLSsL2XTPrTG93TmgxsUfEkJcQQ6vnsB0WS8Ks5lC7dSO7T88nFXXTjZ2vZdE8pKTOT/a55VbdQh0HIsHDmPBfPvHusQBF5Ty9z7WtYLCuXN+OitKeVmDUbsL6yhozN+WSl5tccw3bPHFb+bB4RLe3XhpXYp+ICH+25JYa031vJSssgOz+LNZ4mBdmImLuS+B9FNLkMgeXueDJ/YyPt3zLI37AG1wqsBpa7JvHEb+KIHua5wLcQ/lgma29NI+WVHaSneKpIul9/wjwi/E6xjSHp1zb+uiKdZRvMmvZFPZZEQiMFSAJhWGNZuqiZo0vD41j9o3Iynkshz33xZPQJI/bpZOLG+lzo3hJDWqaVjNQ15NacG9f20YkJxH0/1O+xG++DTRg8h6RFu0hYl8uqdZF1Fms37o4n6YrzAq9Qq/V7g/DHktokL7Btvk8shP88k7V3ZJD28g6yXywk271vy12TeGJVHNENXoO0QBv0T8cHWSx70Q6GlcjHkklsZkB3RZ+zAPW4dOnS5aY2OnvuPMHBN3BDUFtMYnS5dKmasnPn+ObNA+nRo0ebHadbKU5jz4rj9H7phQYXlf943TjKPklqtAKpr08/O02/kL4Y117bak2VusrOnsNiCW7Tz1w9ZwtY88sU8hwmxrBYnl06h/CbLRimg5L388jKzKbQAaEznyV5UdMXN853ljHj+UIss9LIWeTnHqy7LH75Z7vI/XU6ucdMbNOTSHpkLNaQhvKiTAqen0HyO2bD+/XHc6y/Lmf+vxcBVmJSUpl3hwXDYnElf1c7yH8ugZQCJ6EzniVpQQQ2w6T8SDbJT2Rh7xlO/NrVdf+Insxm/rwMSjGwWEPqrqMUfCvhEyKJvi+aRlP4TCfOqnJK388lLS2XEtNGTFISsXdbCfG0zVdVASkzk8k3LcSm5wR+d/pwBjPis3GOTSInJdDKp51f5eef83nVF9zUrxPVlzOdOKuo7Z+txFOMwlMgw/PZaOo4ZoUTs6eBpTUSFqucOHu2PPfRdDoxqw0sV5C32CY8S30YFixX+tXdnPfdXXq/4W2LSL//SVfl03fdhUmqnDirW+l9bC5HLglz07EPj2eDu4CP6XRi9gzwfLXG+e0COlK/v6rfJ0329xZqy/5ZbeJ00iHeM1+db0RQAjcqgVsXPM6JJWl87GeU8/S2xynb7n+kVLqhmyJ54vebiP1LLhu25ZH+RC6OchOjj5WQ28KY9PBK4qeEYw3we8xy52hsFFJ68CgOwuoXdTmYwazE3DpJ1qVbUli8BcJ+vom06f4u2g0iZ8/D9k4W4Xc3I6/lQAYz6lQ4dJCbNJdcwojf4F7rraeVqORNhL2/kczNa1g8vRwTMEJCCZ+1kg3+7uz3HsGEIbDxmInT4fDJ03CQd6SQvPXphP88k9UNTH8rWjeLJ3PqnAVyUxa72vaHNFf+kC/P2oq/C2dsM/IDHX87hBOwjfZ/F106EOMqFYnpGdgFpdHH0rLKkt6CLK3S/wxLK7apNQR4LhvVnPc96AoColY6962lWe9ha5zfLqDD9Xtvbfl9ciX9vYVarX/2NLC01gymVqZAsIsbOOUFqj4dR/m2OdxeZ53Dg5St5/+3d+/BUdfnHsc/m5BN4sacCXrIAi4wRDoJtmxpkxoD9ASc4iXxAl5QGWw1FiMqdTC2BzgH0WmgougBOwUtYBW8oBIsBhjx0swAaZC0zNIDycHECuvBbExdyGEb+ZHL+WM3CbmQ3ZBsdpN9v2aYCbu//eVZIMAn3+/zfJW4rjfbYDHkRSdozIy5WjJjbt/vZbtaN4x7SS9VfKqjp2/pej7h9x/Vro8evYj73qFNH93Ru9f88FF9FODnsl4zV0uuCeD9NxzSi/lP6I+nJ+rBV9Z27bMxvtHRXWu1/Lf7dGjNi/rkx4Wa0c0/BJMf2aWPHgmotA7G3LlJH93Zm1ec0dFPj0oaoxuu6fuUVwAAMLgN4amhaDV+flnHQ+slefsWL7xlFOg7by+bdEC7/+x/Fumg8z/7tPtrSTPmdj9swTxcE29drsevl6QDOlI1sOV18c1e7f5U0g/v0LV9Gg6BwSw2wSrraKsSehqdiCEiVgmjrbKOTuhxUuaAiTZr+GirrCPM4buihV4ZUn+fROifT1YEAQTN8H+7R7f8/pD++O5unfhJ/559E3KXWWWVdKKySiearu7+vTWdUFWlJI2RNcTfdDmx6x0dUoJuufPaPpwZhsFuYt4WbckLdRUYGBN136tbdF+oy2j1rzdo+as3hLoK9KMh9fdJhP75ZEUQQPDET9Z9C2fI/MXr2rKvP074CiO2O7TiV1NlPfmK8n+6XO/85UT7mYlNhk785R0t/2m+Xjlp1dRfrejjiPY+OrNPW944oYTrF+u+Xp1dBAAAhqqwWxE84/GEugQA/ajt7Ktn1urHP1yiqeE0qaCPrD9Zri0/OqFPdm3R7rUFeuV/v2kbnT189FX6fk6BNt04Q2NC2iR+RvvWrtAn/3KLns2/OqwGRQAAgNAJq+MjTtXXB+3+6F+JlyZwfEQQheT4iGDyHc3w3Km52tTdGYUImpr3Fur+rVYtWbtEU7s9Y2zoG5THRwAAEGRhsyI4bFi0Lh+eFOoyAARDtFUz/nOTkt7/o6q+NmQN9AwK9I1Ro6qGa1W4/hZNDtPR1QAAIDTCZkUQQLshtyIIhBArggAAdMWwGAAAAACIMARBAAAAAIgwBEEAAAAAiDAEQQAAAACIMARBAAAAAIgwBEEAAAAAiDAEQQAAAACIMARBAAAAAIgwBEEAAAAAiDAEQQAAAACIMARBAAAAAIgwpsbGxhZ/F7m+rvNebDIFvSAAUktLi0ySxNcc0GctLS1qaWlRVBTf+wQAoNWwQC6KioqSyWTSsGEBXQ6gjwzDkMkkxcSYQ10KMOg1NTaqsalJZjNfTwAAtAoo2TU3NysuLlaxsbHBrgeApLNnv1V8XLxi+I8r0GfGWZOampsUF8e/YQAAtGKfDAAAAABEGIIgAAAAAEQYgiAAAAAARBiCIAAAAABEGIIgAAAAAEQYgiAAAAAARBiCIAAAAABEGIIgAAAAAEQYgiAAAAAARBiCIAAAAABEGIIgAAAAAESYYaEuoFVLc3OoSxgSTFFkewAAAAA9C7B45ucAAA4sSURBVJ8gKOnUqdOhLmNQu/TSBMUQBAEAAAD4ETZBsNXokdZQlzAo1dbVhboEwC/P4WIVn0nXrCyrzKEuZgAYrv3afiBBuTl2WaJDXQ0AAEC7sAuCJpNJJpMp1GUA6Gfuvau0cLVLc36XGxEhUJLMl6fIsjdf+Ycf03OLs5VMGAQAAGEi7IIggPBinHRoz84ifVh6VE6XR4YkxScpZdJ1mjXvJmWPT/J7D8+h32nhylLZF7+u3FGdn3WreOl8bXddKums3CfdMsY+oHXrZsvW/2/Hr8pNd6jgXU+nR23Ke+klzepcUMN+PXdboUq6u9GMpSoqmKLc5U+ocm6hCtYnaf3DdlmCUjUAAEDvmBobG1v8XeT6uk5xcbGKjY0NWiHNzc06deq0rhg1khXBi1BTW6u4uDjFxMSEuhT0g9OnT+uS+HjFmEO4duY6qI0rCrX9Myk5fbbm/ewmZY1NklmG3J/t0bpnNqjUJSVPe0wrftnDapfnoNbmPamSHyzV5l9O6TYIGR6Pzp3ZpzX3rVGpJMvtq7X1/rQgvrkeNHjkOSfpizeV/+9Fcvsetsxara0/71qTUe+Rq3qb1jz1liqNJGXd/5jmTJsoa5JFFt9vn2fvKs1bWaqsxa+rYBpRcKAZZw19e/ZbJSYmhroUAADCBpNFAHTh/LBQeQ8+qe1fpilvzeva+PS9yh6fJHO0pGizklJzteS3Tyn3ckOuvatUsN6hzmtoXoYcf1ilPfU2zZnTfQiUJLPFIovO6RvfzzMmpATjbQUm3iJLokWqc8ots1qzuGfn+ypt6Hq5OdEi2+QMpcVJlln/oSW3ZygluT0ESpIl627NGWuo5PevytHNPQAAAAYaQRDAeTyqfvNx/eKF/XIpTfkvrtSsCReIbxa77s/PllmSe+ev9daRbq5x/0lv7/RIk2dr5lg/n/nIQVVKkjKUbg91F6EhR/lBKf0hFeT43r9Rop373N1f7qpWRb1Z09MvsIoZbdPM2XaprlhvX+geAAAAA4ggCKCNa8cyPbG5QoaSlPvk093083Vk/u6PNEmS5NHOEkeX550fF8khKf3aqfLXSVhV4Xt9aobSQr6Dr1oVf5WS0yYq6/q723oVHUV/krObq41jR1Upu1J7WMhMuvo6pfdwDwAAgIE0+IJg7Q6V37ZIR2v775afv5wpR9f/wwbsq12LVHZbpu9H/9YGDJiTRXp2fYUMSebsBZo3OYBetsQktR74Yhyq6BRwnCr/2CkpTelX+btXhcr3GpKk5Ay7kntbe387WaHD9RZlTbZJtumaNdn3+PE3taeblc+KI6X+A2xiqtJTJR3/QOUkQQAAEGKDLwj2m7/JcdtafS4p/oos70O1O1S+eIe+6uWdRt74vDK3lSlz3ZI+j2H9atcilV1EDUDf1Kj4uQ2+rZk99/N10GR4p4hK0slv2nr8JEn11XIcl5SYpiv9JbuTFTpc7/3QPqF9NKe7/DUtf/BW5d54q/JWlsgVSE39wFPpULUylDZWkpKUnZPtO/LCo52797e/Z0mSU5XlhizfTfETYK268rsWSU45Puu+oxIAAGCgRHAQ/J5G5H2h2tsWqfbLcdKBRSp7aIVi7rpZI0NdGjDQjhRrc6Xv49SblO2nn6+Ny6nq1o87t/VVH1W5JH3nSr/HQHiDlyRlaNJ3fI8d+p0WLivSmezV2vpsrs7sfU0lxwOsq48qHAelqyYqLd77c/PVNynHt9pnfFKskvPb/OocOnjSrOmT/U85tY2bKEk6fKyqnysGAADonQgOgq0reUsV8/c31KD7lLmtTHZ7qKsCBpqh0t3FbVM/U7PTA96aaVRXtQfBCWM05rznXE7fM8lJflcXKxwHvR+MSlNKoqT6g9r8wh6NyX9RSyft15JlRfKoRu5verxNP6mQ44CU/AN7e19jdJpm3t7WKajtH7fv7TQq/PcHtrIkeX9ljWqnGBkDAABCaQgEwb/J4evP622fn7e3L0f/1D2K1ysXdY/e+PzlzPN6CTM7bAFtfe74xlLp2AodP++6YNYESBU6vK91s6NFad+x9nh1h1ceLm37uENwkuSuOyFJShnlL1Z6g5ckmSenyVZ/UOsf+S+d+fkrKrw5Qfv/8JaqGyTJrvHjAqvLqPfIaArwTXTmmwCacVXHdUxbzr3K9q16Ot99v+0YiM8/OyiNtwc24CbZqhRJcp/RmYssDwAAoD/0taUttBxrVfb0GxqWt1OZN17Wyxf/TbUbx2nEtucVv2uRakc/r8xbd6j8hR36yt7/20O/2rVItX9forHbur/3+PllGj/fe93xvdkau5ItqhggdU5VtTW9TVSKn0mhbRr268MPW19oU+7UjsHpbIN3jTHmQgfNtzqvP9Bm7NfS+eWyFbysgnTvOuL0+b+Q+2OXkq+9TTP9jR5VjYqfyNf6I4Z0ea4KX1oge3yA78fHe4xFlmZP6PREfIaypppV8okh1Rfr7X13y/6TM3KUemTJSgtsFTXarBiprZ/S35ZZAACAYBmkK4Klqn8oU2VPf6HEdWVK73UIlKTvyb5tocZLavjSt6ox4malBzOAHSuRm4miCDcdVs6SlRTg0Q3ufcUq8eVA84x7lXORqaa9P1Cq/rBYJ9Jn65rhRtuKnmXCdZqXf69mXug8w/PVlavkiK+ouj3682e9r6eqwtGhP7CdWVk35LZtc3Xs3i9XfbUqTkpTJvnvDwQAAAgngzQIZikx7x5Jpfpn+T/6fLfx84PfGzjyxuc1Nk/eAMsxEwgn5x0BEbCmChVt9u1ZNqfp/nlTusyKCVR7f+B1WvjLBcpwbtDSR+bqrgcKVXKylze7fLoeuDtFZpmVPO0xzbqqt9U4VXnI6LLNtc1V1+mu1kE6le9rT9GnKj9vwA0AAMBgMUiDoKT0hcpcdo8aN+YMmh66tmMmtpX5QiFhEGEgfoxsbdtBXXLX+39J5au/1vY6Sa0Hz3ezL3L4cG+8PNdjr157f6Ala6ZmZudq4fPrlZcqGa79WvtG56Ma/LEodd6LKtr1njYuzlayv22pnbm8E0A79we2syl7dut3jZza+nZJ4P2BktRk6JwkjRqu4b0sDQAAoD8N3iAoSfaFGpuXpYanB99AlZHp2d02aI4cPY4tpBhgNmVd3xp8Dqr0rz2fcefeu0qF77olmWV/eLXyL3DwfEKid02t+mQPp/+5qlXhC55t2yujrbL5yjHqz3mDU+UGzbnxSZUEEFL7wjh2VJXK0qTO/YHnSZqa2zY0RpIsPwiwP1CSXDXebbCJCRe9ggoAANAfBvewGHlX2Rq+zFTt05kqz9t5kf2CffEPHV2co/pj7Y/UP5SpMknDzqvn85czVftBx1fGLyvTxBGdbmdfqBHXZarWd4/W6zjWAsFkm/WU8g94h6yUbnpVjowFsneT75wfFmrJC/vlNls18/HVWjjtwtNbkmwpMqtChsstj9TtERLewSySOmyvrFGN73QGy7hkWSRV7v1A59Iflj3QlbeLVHG4VBp/r1J6GjATP0W5ORaVbPcG5t70B3rcvlCcYgs8PAIAAATB4AuCI25W+rabOzzUOnEzNC7TxJVlfq/qTY2hfT+ISNFW5S5frXMrHtfGQ8V66hG37v9VnmZOsMrc5JHzyJ+0/Q8btOczKXnaAq15ONd73l9Pxk3UJBWr/FiVnMpWajeXVB3zLeWnZpy3vdKqK9MsUqVHCTFmGc4ibdg5XHPWZHfft9dXDR556mtUsfctrdlpSIkOlRzKUG5KsiyJ3a/bpV5/t2zbN8jZy/5A5xdHJUnpaVf2R+UAAAAXbfAFQQDBYUnRrML3lHWoWMU7PtD2Zx7VJpdHRnySkq+4UvYpj2nN8mylBJrGElNkHyuVH69QlUtK7bIEZuhcgySzVTNvn9JhhSz1nt8o371Km958VLPfs2nm47/RnLGdX98f3CpeNlfrj5z3UP1BbV56UJvNuSp8b4G6XYy35WrejNe04mRG4P2BqlHVf3sk2WQPZAIqAABAEJkaGxtb/F3k+rpOcXGxio2NDVohzc3NOnXqtK4YNVImkylon2eoqqmtVVxcnGJiYkJdCvrB6dOndUl8vGLMg7uTzPnug3pok1PpBe9o+YwIDz/1JVp+1yqVj31A69bN5gzBAWScNfTt2W+VmBjkvcUAAAwig3tYDICwZrt2tuySyj/eJ3eoiwkx94EPVC7JPns6IRAAAIQcQRBA8CRN1505FulQkfYcD3UxIdTk1J4ih5SYqzunBqXTEQAAoFcIggCCyCz7zx5TttmprVv3q+eDKYYuT+mb2nrcopkFP5W9p4mkAAAAAyTshsXU/9+ZUJcAoD9ZpuihJ3PlWPqs1l3zfRVMi7BeQc9+rVtdIkvOSuWlR9h7BwAAYSusgmBcbKwMwwh1GYNSdFR0qEsALsgyeYGeK3CrYPUyFaesVu6oUFc0QJpqVLz8WTmmLtXafHu3ZykCAACEQtgEwaioKF1iuSTUZQAIkuQZS7X+8mIVf1EjY5RVg3seamCMump5pj2l9Tl2WfheDQAACCNhc3wEgHZD5fgIIBxwfAQAAF0xLAYAAAAAIgxBEAAAAAAiDEEQAAAAACIMQRAAAAAAIgxBEAAAAAAiDEEQAAAAACIMQRAAAAAAIgxBEAAAAAAiDEEQAAAAACIMQRAAAAAAIgxBEAAAAAAijKmxsbHF30VfuWplMpkUZTINRE1AxGuRFB0Vpebm5lCXAgx6UVFRam5p9n5hAQAASdKwQC66JD5ekmSOiQlqMQC8mpqb1dTUxNcc0A+Mc+cUHRWl6OjoUJcCAEDYCGhFEAAAAAAwdNAjCAAAAAARhiAIAAAAABGGIAgAAAAAEeb/AbAH9/nnmMOaAAAAAElFTkSuQmCC)"
      ],
      "metadata": {
        "id": "N_BC4-VXfA8k"
      }
    },
    {
      "cell_type": "markdown",
      "source": [
        "## EXPERIMENTS"
      ],
      "metadata": {
        "id": "T4hf1ef5g0Vs"
      }
    },
    {
      "cell_type": "code",
      "source": [
        "x = np.array([[4*i + np.random.normal(i,10,1)[0]] for i in range(n)])\n",
        "x_new = np.concatenate((np.ones((x.shape[0],1)), x),axis=1)\n",
        "y = np.array([[10+4*i] for i in range(n)])"
      ],
      "metadata": {
        "id": "LaGbTiNog3mE"
      },
      "execution_count": null,
      "outputs": []
    },
    {
      "cell_type": "code",
      "source": [
        "class LinearRegression:\n",
        "  L=1e-3\n",
        "  def __init__(self, X: np.ndarray, y: np.ndarray):\n",
        "    self.X = X\n",
        "    self.X_new = np.concatenate((np.ones((X.shape[0],1)), X),axis=1)\n",
        "    self.y = y\n",
        "    self.theta = np.ones((X.shape[1]+1,1))\n",
        "    self.loss = []\n",
        "\n",
        "  def predict(self):\n",
        "    y_pred = self.X_new.dot(self.theta)\n",
        "    return y_pred\n",
        "\n",
        "  def update_coef(self, l=L):\n",
        "    n = len(y)\n",
        "    y_pred = self.predict()\n",
        "    for i in range(len(self.theta)):\n",
        "      self.theta[i] = self.theta[i] - l*((2/n)*np.sum((y_pred-self.y)*self.X_new[:,i].reshape(n,1)))\n",
        "\n",
        "  def train(self, n=100, l=L):\n",
        "    for i in range(n):\n",
        "      self.loss.append(1/n*np.sum((self.predict()-self.y)**2))\n",
        "      self.update_coef(l)\n",
        "\n",
        "  def loss_plot(self):\n",
        "    fig, ax = plt.subplots(1,1, figsize=(10,4))\n",
        "    ax.plot(self.loss, linestyle='-', markersize=0, marker='o', c='b', label='loss')\n",
        "    ax.legend(loc='upper right', fontsize=8);"
      ],
      "metadata": {
        "id": "8sGTiX4_SSl9"
      },
      "execution_count": null,
      "outputs": []
    },
    {
      "cell_type": "code",
      "source": [
        "x_new"
      ],
      "metadata": {
        "colab": {
          "base_uri": "https://localhost:8080/"
        },
        "id": "eQ_uJdEjjriP",
        "outputId": "825841db-5d5c-43d2-fd4b-8fd3ff04f2ec"
      },
      "execution_count": null,
      "outputs": [
        {
          "output_type": "execute_result",
          "data": {
            "text/plain": [
              "array([[ 1.00000000e+00, -2.24236441e+00],\n",
              "       [ 1.00000000e+00,  4.00044985e+00],\n",
              "       [ 1.00000000e+00,  1.29057390e+01],\n",
              "       ...,\n",
              "       [ 1.00000000e+00,  4.99897877e+04],\n",
              "       [ 1.00000000e+00,  4.99904382e+04],\n",
              "       [ 1.00000000e+00,  4.99932818e+04]])"
            ]
          },
          "metadata": {},
          "execution_count": 537
        }
      ]
    },
    {
      "cell_type": "code",
      "source": [
        "np.linalg.inv(x_new.T.dot(x_new)).dot(x_new.T).dot(y)"
      ],
      "metadata": {
        "colab": {
          "base_uri": "https://localhost:8080/"
        },
        "id": "5qeJTuif7x4_",
        "outputId": "ec7d502f-890a-4cac-abb1-614b19924665"
      },
      "execution_count": null,
      "outputs": [
        {
          "output_type": "execute_result",
          "data": {
            "text/plain": [
              "array([[9.90117442],\n",
              "       [0.80000599]])"
            ]
          },
          "metadata": {},
          "execution_count": 532
        }
      ]
    },
    {
      "cell_type": "code",
      "source": [
        "reg = LinearRegression(x, y)\n",
        "reg.train(10, 1e-8)\n",
        "reg.theta"
      ],
      "metadata": {
        "colab": {
          "base_uri": "https://localhost:8080/"
        },
        "id": "URV4X0Y67hSW",
        "outputId": "0d713863-dd85-410a-a898-85b0cd4b5966"
      },
      "execution_count": null,
      "outputs": [
        {
          "output_type": "execute_result",
          "data": {
            "text/plain": [
              "array([[5.32867722e+06],\n",
              "       [1.77612746e+11]])"
            ]
          },
          "metadata": {},
          "execution_count": 538
        }
      ]
    },
    {
      "cell_type": "code",
      "source": [
        "reg.loss_plot()"
      ],
      "metadata": {
        "colab": {
          "base_uri": "https://localhost:8080/",
          "height": 276
        },
        "id": "_nKjRxruh82B",
        "outputId": "5c2e3491-0234-4187-bc47-98bd9f32ddbc"
      },
      "execution_count": null,
      "outputs": [
        {
          "output_type": "display_data",
          "data": {
            "text/plain": [
              "<Figure size 720x288 with 1 Axes>"
            ],
            "image/png": "[encoded data removed]"
          },
          "metadata": {
            "needs_background": "light"
          }
        }
      ]
    },
    {
      "cell_type": "code",
      "source": [
        "l=[1,2,3,4,5]\n",
        "l[2:2]=[20,30]\n",
        "l"
      ],
      "metadata": {
        "id": "uNNn7xzIj0dI",
        "outputId": "10316118-9650-4475-a738-69b2812e46da",
        "colab": {
          "base_uri": "https://localhost:8080/"
        }
      },
      "execution_count": 13,
      "outputs": [
        {
          "output_type": "execute_result",
          "data": {
            "text/plain": [
              "[1, 2, 20, 30, 3, 4, 5]"
            ]
          },
          "metadata": {},
          "execution_count": 13
        }
      ]
    },
    {
      "cell_type": "code",
      "source": [
        "l[2:2]"
      ],
      "metadata": {
        "id": "A0uCeIrekZCY",
        "outputId": "1034d7bf-625f-4352-851c-a8cb179c3018",
        "colab": {
          "base_uri": "https://localhost:8080/"
        }
      },
      "execution_count": 14,
      "outputs": [
        {
          "output_type": "execute_result",
          "data": {
            "text/plain": [
              "[]"
            ]
          },
          "metadata": {},
          "execution_count": 14
        }
      ]
    },
    {
      "cell_type": "code",
      "source": [
        "help(list)"
      ],
      "metadata": {
        "id": "D24fP9pVQe02",
        "colab": {
          "base_uri": "https://localhost:8080/"
        },
        "outputId": "2f5ddb9a-460d-49de-d994-9ad9928fb3e1"
      },
      "execution_count": 1,
      "outputs": [
        {
          "output_type": "stream",
          "name": "stdout",
          "text": [
            "Help on class list in module builtins:\n",
            "\n",
            "class list(object)\n",
            " |  list(iterable=(), /)\n",
            " |  \n",
            " |  Built-in mutable sequence.\n",
            " |  \n",
            " |  If no argument is given, the constructor creates a new empty list.\n",
            " |  The argument must be an iterable if specified.\n",
            " |  \n",
            " |  Methods defined here:\n",
            " |  \n",
            " |  __add__(self, value, /)\n",
            " |      Return self+value.\n",
            " |  \n",
            " |  __contains__(self, key, /)\n",
            " |      Return key in self.\n",
            " |  \n",
            " |  __delitem__(self, key, /)\n",
            " |      Delete self[key].\n",
            " |  \n",
            " |  __eq__(self, value, /)\n",
            " |      Return self==value.\n",
            " |  \n",
            " |  __ge__(self, value, /)\n",
            " |      Return self>=value.\n",
            " |  \n",
            " |  __getattribute__(self, name, /)\n",
            " |      Return getattr(self, name).\n",
            " |  \n",
            " |  __getitem__(...)\n",
            " |      x.__getitem__(y) <==> x[y]\n",
            " |  \n",
            " |  __gt__(self, value, /)\n",
            " |      Return self>value.\n",
            " |  \n",
            " |  __iadd__(self, value, /)\n",
            " |      Implement self+=value.\n",
            " |  \n",
            " |  __imul__(self, value, /)\n",
            " |      Implement self*=value.\n",
            " |  \n",
            " |  __init__(self, /, *args, **kwargs)\n",
            " |      Initialize self.  See help(type(self)) for accurate signature.\n",
            " |  \n",
            " |  __iter__(self, /)\n",
            " |      Implement iter(self).\n",
            " |  \n",
            " |  __le__(self, value, /)\n",
            " |      Return self<=value.\n",
            " |  \n",
            " |  __len__(self, /)\n",
            " |      Return len(self).\n",
            " |  \n",
            " |  __lt__(self, value, /)\n",
            " |      Return self<value.\n",
            " |  \n",
            " |  __mul__(self, value, /)\n",
            " |      Return self*value.\n",
            " |  \n",
            " |  __ne__(self, value, /)\n",
            " |      Return self!=value.\n",
            " |  \n",
            " |  __repr__(self, /)\n",
            " |      Return repr(self).\n",
            " |  \n",
            " |  __reversed__(self, /)\n",
            " |      Return a reverse iterator over the list.\n",
            " |  \n",
            " |  __rmul__(self, value, /)\n",
            " |      Return value*self.\n",
            " |  \n",
            " |  __setitem__(self, key, value, /)\n",
            " |      Set self[key] to value.\n",
            " |  \n",
            " |  __sizeof__(self, /)\n",
            " |      Return the size of the list in memory, in bytes.\n",
            " |  \n",
            " |  append(self, object, /)\n",
            " |      Append object to the end of the list.\n",
            " |  \n",
            " |  clear(self, /)\n",
            " |      Remove all items from list.\n",
            " |  \n",
            " |  copy(self, /)\n",
            " |      Return a shallow copy of the list.\n",
            " |  \n",
            " |  count(self, value, /)\n",
            " |      Return number of occurrences of value.\n",
            " |  \n",
            " |  extend(self, iterable, /)\n",
            " |      Extend list by appending elements from the iterable.\n",
            " |  \n",
            " |  index(self, value, start=0, stop=9223372036854775807, /)\n",
            " |      Return first index of value.\n",
            " |      \n",
            " |      Raises ValueError if the value is not present.\n",
            " |  \n",
            " |  insert(self, index, object, /)\n",
            " |      Insert object before index.\n",
            " |  \n",
            " |  pop(self, index=-1, /)\n",
            " |      Remove and return item at index (default last).\n",
            " |      \n",
            " |      Raises IndexError if list is empty or index is out of range.\n",
            " |  \n",
            " |  remove(self, value, /)\n",
            " |      Remove first occurrence of value.\n",
            " |      \n",
            " |      Raises ValueError if the value is not present.\n",
            " |  \n",
            " |  reverse(self, /)\n",
            " |      Reverse *IN PLACE*.\n",
            " |  \n",
            " |  sort(self, /, *, key=None, reverse=False)\n",
            " |      Sort the list in ascending order and return None.\n",
            " |      \n",
            " |      The sort is in-place (i.e. the list itself is modified) and stable (i.e. the\n",
            " |      order of two equal elements is maintained).\n",
            " |      \n",
            " |      If a key function is given, apply it once to each list item and sort them,\n",
            " |      ascending or descending, according to their function values.\n",
            " |      \n",
            " |      The reverse flag can be set to sort in descending order.\n",
            " |  \n",
            " |  ----------------------------------------------------------------------\n",
            " |  Class methods defined here:\n",
            " |  \n",
            " |  __class_getitem__(...) from builtins.type\n",
            " |      See PEP 585\n",
            " |  \n",
            " |  ----------------------------------------------------------------------\n",
            " |  Static methods defined here:\n",
            " |  \n",
            " |  __new__(*args, **kwargs) from builtins.type\n",
            " |      Create and return a new object.  See help(type) for accurate signature.\n",
            " |  \n",
            " |  ----------------------------------------------------------------------\n",
            " |  Data and other attributes defined here:\n",
            " |  \n",
            " |  __hash__ = None\n",
            "\n"
          ]
        }
      ]
    },
    {
      "cell_type": "code",
      "source": [],
      "metadata": {
        "id": "p98xAnV-jSba"
      },
      "execution_count": null,
      "outputs": []
    }
  ]
}