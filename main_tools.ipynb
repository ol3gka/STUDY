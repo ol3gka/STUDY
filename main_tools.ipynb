{
  "nbformat": 4,
  "nbformat_minor": 0,
  "metadata": {
    "colab": {
      "provenance": [],
      "toc_visible": true,
      "authorship_tag": "ABX9TyMQtfCzt9sfhXPar0PqOJo3",
      "include_colab_link": true
    },
    "kernelspec": {
      "name": "python3",
      "display_name": "Python 3"
    },
    "language_info": {
      "name": "python"
    }
  },
  "cells": [
    {
      "cell_type": "markdown",
      "metadata": {
        "id": "view-in-github",
        "colab_type": "text"
      },
      "source": [
        "<a href=\"https://colab.research.google.com/github/ol3gka/STUDY/blob/main/main_tools.ipynb\" target=\"_parent\"><img src=\"https://colab.research.google.com/assets/colab-badge.svg\" alt=\"Open In Colab\"/></a>"
      ]
    },
    {
      "cell_type": "markdown",
      "source": [
        "# MAIN STRUCTURES\n",
        "свойства python - динамическая типизация и полиморфизм (результат выполнения операторов зависит от типа данных, к которому их применяют); компитяция в байт код; a=3, b=a - разделяемая сылка (2 имени/переменных ссылаются на один объект '3')\n",
        "\n",
        "**Все структуры данных в python представляют из себя объекты**\n",
        "\n",
        "* числовые объекты (целые, дробные, комлексные) `numbers` 1,1.2\n",
        "\n",
        "* строка `str` 'aao'\n",
        "\n",
        "* кортеж `tuple` (1,2,3)\n",
        "\n",
        "* множество `set` {1,2,3}\n",
        "\n",
        "* список `list` [1,'a',2]\n",
        "\n",
        "* словарь `dict` {1:'a',2:'e'}\n",
        "\n",
        "**Изменяемые: список, словарь, множетсво**\n",
        "\n",
        "**Неизменяемы: числа, строки, кортеж**\n",
        "\n",
        "из-за того, что объекты неизменяемые, любая операция над объектом должна быть перепресвоенна, при это ссылка на объект будет уже ссылаться на другой, новый instance, который создался функцией: \n",
        "\n",
        "`a = 'aaa'`\n",
        "\n",
        "`a = a.replace('a','b')`\n",
        "\n",
        "`help(str)`, `dir(str)` или `help(str.append)` - вызвать методы классов, `shift+tab` внутри функции (`pd.read_excel(/shift+tab/)`), чтобы получить справку (можно несеольеко раз жать); `tab` работает так: `pd./tab/` - покажет методы библиотеки"
      ],
      "metadata": {
        "id": "Zu2zgHUt-D-E"
      }
    },
    {
      "cell_type": "markdown",
      "source": [
        "## NUMBERS and different rules"
      ],
      "metadata": {
        "id": "mp00S4zc-Mdz"
      }
    },
    {
      "cell_type": "code",
      "source": [
        "from sklearn.datasets import make_regression\n",
        "import matplotlib.pyplot as plt\n",
        "import numpy as np\n",
        "from datetime import datetime\n",
        "import pandas as pd"
      ],
      "metadata": {
        "id": "yHNIc9dhIowq"
      },
      "execution_count": 2,
      "outputs": []
    },
    {
      "cell_type": "code",
      "source": [
        "print(f\"\"\"{5 / 1.7}\n",
        "{5 // 1.7} # целочисленное деление\n",
        "{int(5/1.7)}\n",
        "{round(5/1.7)}\n",
        "{5 % 1.7}\"\"\")"
      ],
      "metadata": {
        "colab": {
          "base_uri": "https://localhost:8080/"
        },
        "id": "kf_3s2zf-Os2",
        "outputId": "a8b4bdc6-fea0-438d-dd36-6e389ac96f2b"
      },
      "execution_count": null,
      "outputs": [
        {
          "output_type": "stream",
          "name": "stdout",
          "text": [
            "2.9411764705882355\n",
            "2.0 # целочисленное деление\n",
            "2\n",
            "3\n",
            "1.6\n"
          ]
        }
      ]
    },
    {
      "cell_type": "code",
      "source": [
        "print(f\"\"\"{12121.22223:,.2f}\n",
        "{12121.22223:,}\n",
        "{12121.22223:.2e}\"\"\")"
      ],
      "metadata": {
        "colab": {
          "base_uri": "https://localhost:8080/"
        },
        "id": "jO4jjKqOR2xc",
        "outputId": "e1e9fbb2-b46a-4c66-d123-c3e86befae2e"
      },
      "execution_count": null,
      "outputs": [
        {
          "output_type": "stream",
          "name": "stdout",
          "text": [
            "12,121.22\n",
            "12,121.22223\n",
            "1.21e+04\n"
          ]
        }
      ]
    },
    {
      "cell_type": "code",
      "source": [
        "# Первый прием, операция ==, предусматривает проверку, имеют ли два ссылаемых объекта одинаковые значения; \n",
        "# такой метод почти всегда используется для проверок на предмет равенства в Python. \n",
        "# Второй прием, операция is, проверяет идентичность — она возвращает True, только если оба имени указывают на точно тот же самый объ­ект, \n",
        "# поэтому операция is является гораздо более строгой формой проверки равенс­тва и редко применяется в большинстве программ.\n",
        "l=[1,2,3]; m=[1,2,3]\n",
        "print(f\"\"\"{l==m}\n",
        "{l is m}\"\"\") # но для чисел оба будет тру - из-за кэширования"
      ],
      "metadata": {
        "colab": {
          "base_uri": "https://localhost:8080/"
        },
        "id": "vxsxotr1TUB9",
        "outputId": "da3f088c-4f1b-4c41-aa4b-ef166dd59409"
      },
      "execution_count": null,
      "outputs": [
        {
          "output_type": "stream",
          "name": "stdout",
          "text": [
            "True\n",
            "False\n"
          ]
        }
      ]
    },
    {
      "cell_type": "code",
      "source": [
        "print(f'aa\\taa\\taa')\n",
        "for x in range(1, 6):\n",
        "    print(f'{x:02}\\t{x*x:3}\\t{x*x*x*x*x:4}')"
      ],
      "metadata": {
        "colab": {
          "base_uri": "https://localhost:8080/"
        },
        "id": "OoFphpv5003K",
        "outputId": "2c755e3a-dca2-4328-8dfd-4497ef0e7a16"
      },
      "execution_count": null,
      "outputs": [
        {
          "output_type": "stream",
          "name": "stdout",
          "text": [
            "aa\taa\taa\n",
            "01\t  1\t   1\n",
            "02\t  4\t  32\n",
            "03\t  9\t 243\n",
            "04\t 16\t1024\n",
            "05\t 25\t3125\n"
          ]
        }
      ]
    },
    {
      "cell_type": "markdown",
      "source": [
        "## LIST (строки)\n",
        "Cтроки Python относятся к категории неизменяемых последовательнос­тей, а это означает, что содержащиеся в них символы имеют позиционный порядок слева направо и не могут быть модифицированы на месте. Список, кортеж - тоде последовательности, поэтому операции над ними будет теми"
      ],
      "metadata": {
        "id": "b-1gSoyWOLA2"
      }
    },
    {
      "cell_type": "code",
      "source": [
        "# Список - изменяемый объект:\n",
        "L_1 =[1,2,3]; L_2 = L_1 # l2 ссылается на объект [1,2,3]\n",
        "L_1[0]=100; L_2\n",
        "# Поэтому для того, чтобы избежать подификации нужно скопировать список\n",
        "# есть 3 метода: l2=l1[:] - не будет работать с словарями и множествами (так как не являются последовательностями), l2=l1.copy(), l2=list(l1)"
      ],
      "metadata": {
        "colab": {
          "base_uri": "https://localhost:8080/"
        },
        "id": "l7L_YSdbONV0",
        "outputId": "0de327dd-7ade-475b-aef3-1bdbf5ddf0a5"
      },
      "execution_count": null,
      "outputs": [
        {
          "output_type": "execute_result",
          "data": {
            "text/plain": [
              "[100, 2, 3]"
            ]
          },
          "metadata": {},
          "execution_count": 21
        }
      ]
    },
    {
      "cell_type": "code",
      "source": [
        "# Выражения:\n",
        "# 1) Конкатенация s1+s2 \n",
        "# 2) Нарезание (извлечение частей) s[1:3] \n",
        "# 3) Индексация s[1]\n",
        "# Строковые методы:\n",
        "s = 'a1a2a3'\n",
        "print(f\"\"\"{s.find('a2a')}\n",
        "{s.replace('a3','a4')}\n",
        "{s.split('a')}\n",
        "{s.endswith('a3')}\n",
        "      \"\"\")\n",
        "import re\n",
        "re.match('a(.*)2', s)"
      ],
      "metadata": {
        "colab": {
          "base_uri": "https://localhost:8080/"
        },
        "id": "fyCLs_Nxb7wX",
        "outputId": "ef06173b-0820-4226-8c7a-a1c71cc4431d"
      },
      "execution_count": null,
      "outputs": [
        {
          "output_type": "stream",
          "name": "stdout",
          "text": [
            "2\n",
            "a1a2a4\n",
            "['', '1', '2', '3']\n",
            "True\n",
            "      \n"
          ]
        },
        {
          "output_type": "execute_result",
          "data": {
            "text/plain": [
              "<re.Match object; span=(0, 4), match='a1a2'>"
            ]
          },
          "metadata": {},
          "execution_count": 45
        }
      ]
    },
    {
      "cell_type": "code",
      "source": [],
      "metadata": {
        "id": "JLXN8tMKfCgq"
      },
      "execution_count": null,
      "outputs": []
    },
    {
      "cell_type": "markdown",
      "source": [
        "# DataFrame"
      ],
      "metadata": {
        "id": "QtqUKOb7Snmd"
      }
    },
    {
      "cell_type": "code",
      "source": [
        "# import datetime\n",
        "# x = datetime.datetime(2020, 5, 17)\n",
        "df = pd.DataFrame([[1,'a',3,pd.Timestamp(year=2023,month=1,day=1)],\n",
        "                   [4,'B',5,pd.Timestamp(year=2023,month=2,day=1)],\n",
        "                   [6,'c',7,pd.Timestamp.now()]],\n",
        "                  columns=['int1','str1','int2','date'])"
      ],
      "metadata": {
        "id": "a-XhlzH5T_hl"
      },
      "execution_count": null,
      "outputs": []
    },
    {
      "cell_type": "code",
      "source": [
        "df.info()"
      ],
      "metadata": {
        "colab": {
          "base_uri": "https://localhost:8080/"
        },
        "id": "8aXWzx4ESp-P",
        "outputId": "3656ecb3-08cb-434b-d83d-2d3195962a45"
      },
      "execution_count": null,
      "outputs": [
        {
          "output_type": "stream",
          "name": "stdout",
          "text": [
            "<class 'pandas.core.frame.DataFrame'>\n",
            "RangeIndex: 3 entries, 0 to 2\n",
            "Data columns (total 4 columns):\n",
            " #   Column  Non-Null Count  Dtype         \n",
            "---  ------  --------------  -----         \n",
            " 0   int1    3 non-null      int64         \n",
            " 1   str1    3 non-null      object        \n",
            " 2   int2    3 non-null      int64         \n",
            " 3   date    3 non-null      datetime64[ns]\n",
            "dtypes: datetime64[ns](1), int64(2), object(1)\n",
            "memory usage: 224.0+ bytes\n"
          ]
        }
      ]
    },
    {
      "cell_type": "code",
      "source": [
        "df['str1'].str.lower()"
      ],
      "metadata": {
        "colab": {
          "base_uri": "https://localhost:8080/"
        },
        "id": "CbkKoCWQUiGU",
        "outputId": "36134582-77c9-474f-ed8d-b44b77fb85a7"
      },
      "execution_count": null,
      "outputs": [
        {
          "output_type": "execute_result",
          "data": {
            "text/plain": [
              "0    a\n",
              "1    b\n",
              "2    c\n",
              "Name: str1, dtype: object"
            ]
          },
          "metadata": {},
          "execution_count": 24
        }
      ]
    },
    {
      "cell_type": "code",
      "source": [
        "df.rename(columns={'int1':'float1'})"
      ],
      "metadata": {
        "colab": {
          "base_uri": "https://localhost:8080/",
          "height": 143
        },
        "id": "eGCbU8LwUt8L",
        "outputId": "47127eec-f1e4-40f0-b7b9-a350802f9ede"
      },
      "execution_count": null,
      "outputs": [
        {
          "output_type": "execute_result",
          "data": {
            "text/plain": [
              "   float1 str1  int2                       date\n",
              "0       1    a     3 2023-01-01 00:00:00.000000\n",
              "1       4    B     5 2023-02-01 00:00:00.000000\n",
              "2       6    c     7 2023-03-16 07:38:13.945314"
            ],
            "text/html": [
              "\n",
              "  <div id=\"df-454f38cd-eeeb-43b2-9cd6-8317726dbc32\">\n",
              "    <div class=\"colab-df-container\">\n",
              "      <div>\n",
              "<style scoped>\n",
              "    .dataframe tbody tr th:only-of-type {\n",
              "        vertical-align: middle;\n",
              "    }\n",
              "\n",
              "    .dataframe tbody tr th {\n",
              "        vertical-align: top;\n",
              "    }\n",
              "\n",
              "    .dataframe thead th {\n",
              "        text-align: right;\n",
              "    }\n",
              "</style>\n",
              "<table border=\"1\" class=\"dataframe\">\n",
              "  <thead>\n",
              "    <tr style=\"text-align: right;\">\n",
              "      <th></th>\n",
              "      <th>float1</th>\n",
              "      <th>str1</th>\n",
              "      <th>int2</th>\n",
              "      <th>date</th>\n",
              "    </tr>\n",
              "  </thead>\n",
              "  <tbody>\n",
              "    <tr>\n",
              "      <th>0</th>\n",
              "      <td>1</td>\n",
              "      <td>a</td>\n",
              "      <td>3</td>\n",
              "      <td>2023-01-01 00:00:00.000000</td>\n",
              "    </tr>\n",
              "    <tr>\n",
              "      <th>1</th>\n",
              "      <td>4</td>\n",
              "      <td>B</td>\n",
              "      <td>5</td>\n",
              "      <td>2023-02-01 00:00:00.000000</td>\n",
              "    </tr>\n",
              "    <tr>\n",
              "      <th>2</th>\n",
              "      <td>6</td>\n",
              "      <td>c</td>\n",
              "      <td>7</td>\n",
              "      <td>2023-03-16 07:38:13.945314</td>\n",
              "    </tr>\n",
              "  </tbody>\n",
              "</table>\n",
              "</div>\n",
              "      <button class=\"colab-df-convert\" onclick=\"convertToInteractive('df-454f38cd-eeeb-43b2-9cd6-8317726dbc32')\"\n",
              "              title=\"Convert this dataframe to an interactive table.\"\n",
              "              style=\"display:none;\">\n",
              "        \n",
              "  <svg xmlns=\"http://www.w3.org/2000/svg\" height=\"24px\"viewBox=\"0 0 24 24\"\n",
              "       width=\"24px\">\n",
              "    <path d=\"M0 0h24v24H0V0z\" fill=\"none\"/>\n",
              "    <path d=\"M18.56 5.44l.94 2.06.94-2.06 2.06-.94-2.06-.94-.94-2.06-.94 2.06-2.06.94zm-11 1L8.5 8.5l.94-2.06 2.06-.94-2.06-.94L8.5 2.5l-.94 2.06-2.06.94zm10 10l.94 2.06.94-2.06 2.06-.94-2.06-.94-.94-2.06-.94 2.06-2.06.94z\"/><path d=\"M17.41 7.96l-1.37-1.37c-.4-.4-.92-.59-1.43-.59-.52 0-1.04.2-1.43.59L10.3 9.45l-7.72 7.72c-.78.78-.78 2.05 0 2.83L4 21.41c.39.39.9.59 1.41.59.51 0 1.02-.2 1.41-.59l7.78-7.78 2.81-2.81c.8-.78.8-2.07 0-2.86zM5.41 20L4 18.59l7.72-7.72 1.47 1.35L5.41 20z\"/>\n",
              "  </svg>\n",
              "      </button>\n",
              "      \n",
              "  <style>\n",
              "    .colab-df-container {\n",
              "      display:flex;\n",
              "      flex-wrap:wrap;\n",
              "      gap: 12px;\n",
              "    }\n",
              "\n",
              "    .colab-df-convert {\n",
              "      background-color: #E8F0FE;\n",
              "      border: none;\n",
              "      border-radius: 50%;\n",
              "      cursor: pointer;\n",
              "      display: none;\n",
              "      fill: #1967D2;\n",
              "      height: 32px;\n",
              "      padding: 0 0 0 0;\n",
              "      width: 32px;\n",
              "    }\n",
              "\n",
              "    .colab-df-convert:hover {\n",
              "      background-color: #E2EBFA;\n",
              "      box-shadow: 0px 1px 2px rgba(60, 64, 67, 0.3), 0px 1px 3px 1px rgba(60, 64, 67, 0.15);\n",
              "      fill: #174EA6;\n",
              "    }\n",
              "\n",
              "    [theme=dark] .colab-df-convert {\n",
              "      background-color: #3B4455;\n",
              "      fill: #D2E3FC;\n",
              "    }\n",
              "\n",
              "    [theme=dark] .colab-df-convert:hover {\n",
              "      background-color: #434B5C;\n",
              "      box-shadow: 0px 1px 3px 1px rgba(0, 0, 0, 0.15);\n",
              "      filter: drop-shadow(0px 1px 2px rgba(0, 0, 0, 0.3));\n",
              "      fill: #FFFFFF;\n",
              "    }\n",
              "  </style>\n",
              "\n",
              "      <script>\n",
              "        const buttonEl =\n",
              "          document.querySelector('#df-454f38cd-eeeb-43b2-9cd6-8317726dbc32 button.colab-df-convert');\n",
              "        buttonEl.style.display =\n",
              "          google.colab.kernel.accessAllowed ? 'block' : 'none';\n",
              "\n",
              "        async function convertToInteractive(key) {\n",
              "          const element = document.querySelector('#df-454f38cd-eeeb-43b2-9cd6-8317726dbc32');\n",
              "          const dataTable =\n",
              "            await google.colab.kernel.invokeFunction('convertToInteractive',\n",
              "                                                     [key], {});\n",
              "          if (!dataTable) return;\n",
              "\n",
              "          const docLinkHtml = 'Like what you see? Visit the ' +\n",
              "            '<a target=\"_blank\" href=https://colab.research.google.com/notebooks/data_table.ipynb>data table notebook</a>'\n",
              "            + ' to learn more about interactive tables.';\n",
              "          element.innerHTML = '';\n",
              "          dataTable['output_type'] = 'display_data';\n",
              "          await google.colab.output.renderOutput(dataTable, element);\n",
              "          const docLink = document.createElement('div');\n",
              "          docLink.innerHTML = docLinkHtml;\n",
              "          element.appendChild(docLink);\n",
              "        }\n",
              "      </script>\n",
              "    </div>\n",
              "  </div>\n",
              "  "
            ]
          },
          "metadata": {},
          "execution_count": 25
        }
      ]
    },
    {
      "cell_type": "code",
      "source": [
        "df.describe()"
      ],
      "metadata": {
        "colab": {
          "base_uri": "https://localhost:8080/",
          "height": 300
        },
        "id": "pR_OV9BCVQUC",
        "outputId": "eb69dd4f-6a8c-4dae-eb27-0839c2221753"
      },
      "execution_count": null,
      "outputs": [
        {
          "output_type": "execute_result",
          "data": {
            "text/plain": [
              "           int1  int2\n",
              "count  3.000000   3.0\n",
              "mean   3.666667   5.0\n",
              "std    2.516611   2.0\n",
              "min    1.000000   3.0\n",
              "25%    2.500000   4.0\n",
              "50%    4.000000   5.0\n",
              "75%    5.000000   6.0\n",
              "max    6.000000   7.0"
            ],
            "text/html": [
              "\n",
              "  <div id=\"df-e378e5b2-0802-4595-a30d-340d8f477c0a\">\n",
              "    <div class=\"colab-df-container\">\n",
              "      <div>\n",
              "<style scoped>\n",
              "    .dataframe tbody tr th:only-of-type {\n",
              "        vertical-align: middle;\n",
              "    }\n",
              "\n",
              "    .dataframe tbody tr th {\n",
              "        vertical-align: top;\n",
              "    }\n",
              "\n",
              "    .dataframe thead th {\n",
              "        text-align: right;\n",
              "    }\n",
              "</style>\n",
              "<table border=\"1\" class=\"dataframe\">\n",
              "  <thead>\n",
              "    <tr style=\"text-align: right;\">\n",
              "      <th></th>\n",
              "      <th>int1</th>\n",
              "      <th>int2</th>\n",
              "    </tr>\n",
              "  </thead>\n",
              "  <tbody>\n",
              "    <tr>\n",
              "      <th>count</th>\n",
              "      <td>3.000000</td>\n",
              "      <td>3.0</td>\n",
              "    </tr>\n",
              "    <tr>\n",
              "      <th>mean</th>\n",
              "      <td>3.666667</td>\n",
              "      <td>5.0</td>\n",
              "    </tr>\n",
              "    <tr>\n",
              "      <th>std</th>\n",
              "      <td>2.516611</td>\n",
              "      <td>2.0</td>\n",
              "    </tr>\n",
              "    <tr>\n",
              "      <th>min</th>\n",
              "      <td>1.000000</td>\n",
              "      <td>3.0</td>\n",
              "    </tr>\n",
              "    <tr>\n",
              "      <th>25%</th>\n",
              "      <td>2.500000</td>\n",
              "      <td>4.0</td>\n",
              "    </tr>\n",
              "    <tr>\n",
              "      <th>50%</th>\n",
              "      <td>4.000000</td>\n",
              "      <td>5.0</td>\n",
              "    </tr>\n",
              "    <tr>\n",
              "      <th>75%</th>\n",
              "      <td>5.000000</td>\n",
              "      <td>6.0</td>\n",
              "    </tr>\n",
              "    <tr>\n",
              "      <th>max</th>\n",
              "      <td>6.000000</td>\n",
              "      <td>7.0</td>\n",
              "    </tr>\n",
              "  </tbody>\n",
              "</table>\n",
              "</div>\n",
              "      <button class=\"colab-df-convert\" onclick=\"convertToInteractive('df-e378e5b2-0802-4595-a30d-340d8f477c0a')\"\n",
              "              title=\"Convert this dataframe to an interactive table.\"\n",
              "              style=\"display:none;\">\n",
              "        \n",
              "  <svg xmlns=\"http://www.w3.org/2000/svg\" height=\"24px\"viewBox=\"0 0 24 24\"\n",
              "       width=\"24px\">\n",
              "    <path d=\"M0 0h24v24H0V0z\" fill=\"none\"/>\n",
              "    <path d=\"M18.56 5.44l.94 2.06.94-2.06 2.06-.94-2.06-.94-.94-2.06-.94 2.06-2.06.94zm-11 1L8.5 8.5l.94-2.06 2.06-.94-2.06-.94L8.5 2.5l-.94 2.06-2.06.94zm10 10l.94 2.06.94-2.06 2.06-.94-2.06-.94-.94-2.06-.94 2.06-2.06.94z\"/><path d=\"M17.41 7.96l-1.37-1.37c-.4-.4-.92-.59-1.43-.59-.52 0-1.04.2-1.43.59L10.3 9.45l-7.72 7.72c-.78.78-.78 2.05 0 2.83L4 21.41c.39.39.9.59 1.41.59.51 0 1.02-.2 1.41-.59l7.78-7.78 2.81-2.81c.8-.78.8-2.07 0-2.86zM5.41 20L4 18.59l7.72-7.72 1.47 1.35L5.41 20z\"/>\n",
              "  </svg>\n",
              "      </button>\n",
              "      \n",
              "  <style>\n",
              "    .colab-df-container {\n",
              "      display:flex;\n",
              "      flex-wrap:wrap;\n",
              "      gap: 12px;\n",
              "    }\n",
              "\n",
              "    .colab-df-convert {\n",
              "      background-color: #E8F0FE;\n",
              "      border: none;\n",
              "      border-radius: 50%;\n",
              "      cursor: pointer;\n",
              "      display: none;\n",
              "      fill: #1967D2;\n",
              "      height: 32px;\n",
              "      padding: 0 0 0 0;\n",
              "      width: 32px;\n",
              "    }\n",
              "\n",
              "    .colab-df-convert:hover {\n",
              "      background-color: #E2EBFA;\n",
              "      box-shadow: 0px 1px 2px rgba(60, 64, 67, 0.3), 0px 1px 3px 1px rgba(60, 64, 67, 0.15);\n",
              "      fill: #174EA6;\n",
              "    }\n",
              "\n",
              "    [theme=dark] .colab-df-convert {\n",
              "      background-color: #3B4455;\n",
              "      fill: #D2E3FC;\n",
              "    }\n",
              "\n",
              "    [theme=dark] .colab-df-convert:hover {\n",
              "      background-color: #434B5C;\n",
              "      box-shadow: 0px 1px 3px 1px rgba(0, 0, 0, 0.15);\n",
              "      filter: drop-shadow(0px 1px 2px rgba(0, 0, 0, 0.3));\n",
              "      fill: #FFFFFF;\n",
              "    }\n",
              "  </style>\n",
              "\n",
              "      <script>\n",
              "        const buttonEl =\n",
              "          document.querySelector('#df-e378e5b2-0802-4595-a30d-340d8f477c0a button.colab-df-convert');\n",
              "        buttonEl.style.display =\n",
              "          google.colab.kernel.accessAllowed ? 'block' : 'none';\n",
              "\n",
              "        async function convertToInteractive(key) {\n",
              "          const element = document.querySelector('#df-e378e5b2-0802-4595-a30d-340d8f477c0a');\n",
              "          const dataTable =\n",
              "            await google.colab.kernel.invokeFunction('convertToInteractive',\n",
              "                                                     [key], {});\n",
              "          if (!dataTable) return;\n",
              "\n",
              "          const docLinkHtml = 'Like what you see? Visit the ' +\n",
              "            '<a target=\"_blank\" href=https://colab.research.google.com/notebooks/data_table.ipynb>data table notebook</a>'\n",
              "            + ' to learn more about interactive tables.';\n",
              "          element.innerHTML = '';\n",
              "          dataTable['output_type'] = 'display_data';\n",
              "          await google.colab.output.renderOutput(dataTable, element);\n",
              "          const docLink = document.createElement('div');\n",
              "          docLink.innerHTML = docLinkHtml;\n",
              "          element.appendChild(docLink);\n",
              "        }\n",
              "      </script>\n",
              "    </div>\n",
              "  </div>\n",
              "  "
            ]
          },
          "metadata": {},
          "execution_count": 26
        }
      ]
    },
    {
      "cell_type": "code",
      "source": [
        "mask1 = df.int1 == 1\n",
        "mask2 = df.int2 == 3\n",
        "df[mask1 & mask2]"
      ],
      "metadata": {
        "colab": {
          "base_uri": "https://localhost:8080/",
          "height": 81
        },
        "id": "hR_15WaIXNdX",
        "outputId": "6ee04b87-a7d9-4c11-ce68-4162b3219719"
      },
      "execution_count": null,
      "outputs": [
        {
          "output_type": "execute_result",
          "data": {
            "text/plain": [
              "   int1 str1  int2       date\n",
              "0     1    a     3 2023-01-01"
            ],
            "text/html": [
              "\n",
              "  <div id=\"df-825b0713-e461-4d04-abc4-8a9a6f10f2a9\">\n",
              "    <div class=\"colab-df-container\">\n",
              "      <div>\n",
              "<style scoped>\n",
              "    .dataframe tbody tr th:only-of-type {\n",
              "        vertical-align: middle;\n",
              "    }\n",
              "\n",
              "    .dataframe tbody tr th {\n",
              "        vertical-align: top;\n",
              "    }\n",
              "\n",
              "    .dataframe thead th {\n",
              "        text-align: right;\n",
              "    }\n",
              "</style>\n",
              "<table border=\"1\" class=\"dataframe\">\n",
              "  <thead>\n",
              "    <tr style=\"text-align: right;\">\n",
              "      <th></th>\n",
              "      <th>int1</th>\n",
              "      <th>str1</th>\n",
              "      <th>int2</th>\n",
              "      <th>date</th>\n",
              "    </tr>\n",
              "  </thead>\n",
              "  <tbody>\n",
              "    <tr>\n",
              "      <th>0</th>\n",
              "      <td>1</td>\n",
              "      <td>a</td>\n",
              "      <td>3</td>\n",
              "      <td>2023-01-01</td>\n",
              "    </tr>\n",
              "  </tbody>\n",
              "</table>\n",
              "</div>\n",
              "      <button class=\"colab-df-convert\" onclick=\"convertToInteractive('df-825b0713-e461-4d04-abc4-8a9a6f10f2a9')\"\n",
              "              title=\"Convert this dataframe to an interactive table.\"\n",
              "              style=\"display:none;\">\n",
              "        \n",
              "  <svg xmlns=\"http://www.w3.org/2000/svg\" height=\"24px\"viewBox=\"0 0 24 24\"\n",
              "       width=\"24px\">\n",
              "    <path d=\"M0 0h24v24H0V0z\" fill=\"none\"/>\n",
              "    <path d=\"M18.56 5.44l.94 2.06.94-2.06 2.06-.94-2.06-.94-.94-2.06-.94 2.06-2.06.94zm-11 1L8.5 8.5l.94-2.06 2.06-.94-2.06-.94L8.5 2.5l-.94 2.06-2.06.94zm10 10l.94 2.06.94-2.06 2.06-.94-2.06-.94-.94-2.06-.94 2.06-2.06.94z\"/><path d=\"M17.41 7.96l-1.37-1.37c-.4-.4-.92-.59-1.43-.59-.52 0-1.04.2-1.43.59L10.3 9.45l-7.72 7.72c-.78.78-.78 2.05 0 2.83L4 21.41c.39.39.9.59 1.41.59.51 0 1.02-.2 1.41-.59l7.78-7.78 2.81-2.81c.8-.78.8-2.07 0-2.86zM5.41 20L4 18.59l7.72-7.72 1.47 1.35L5.41 20z\"/>\n",
              "  </svg>\n",
              "      </button>\n",
              "      \n",
              "  <style>\n",
              "    .colab-df-container {\n",
              "      display:flex;\n",
              "      flex-wrap:wrap;\n",
              "      gap: 12px;\n",
              "    }\n",
              "\n",
              "    .colab-df-convert {\n",
              "      background-color: #E8F0FE;\n",
              "      border: none;\n",
              "      border-radius: 50%;\n",
              "      cursor: pointer;\n",
              "      display: none;\n",
              "      fill: #1967D2;\n",
              "      height: 32px;\n",
              "      padding: 0 0 0 0;\n",
              "      width: 32px;\n",
              "    }\n",
              "\n",
              "    .colab-df-convert:hover {\n",
              "      background-color: #E2EBFA;\n",
              "      box-shadow: 0px 1px 2px rgba(60, 64, 67, 0.3), 0px 1px 3px 1px rgba(60, 64, 67, 0.15);\n",
              "      fill: #174EA6;\n",
              "    }\n",
              "\n",
              "    [theme=dark] .colab-df-convert {\n",
              "      background-color: #3B4455;\n",
              "      fill: #D2E3FC;\n",
              "    }\n",
              "\n",
              "    [theme=dark] .colab-df-convert:hover {\n",
              "      background-color: #434B5C;\n",
              "      box-shadow: 0px 1px 3px 1px rgba(0, 0, 0, 0.15);\n",
              "      filter: drop-shadow(0px 1px 2px rgba(0, 0, 0, 0.3));\n",
              "      fill: #FFFFFF;\n",
              "    }\n",
              "  </style>\n",
              "\n",
              "      <script>\n",
              "        const buttonEl =\n",
              "          document.querySelector('#df-825b0713-e461-4d04-abc4-8a9a6f10f2a9 button.colab-df-convert');\n",
              "        buttonEl.style.display =\n",
              "          google.colab.kernel.accessAllowed ? 'block' : 'none';\n",
              "\n",
              "        async function convertToInteractive(key) {\n",
              "          const element = document.querySelector('#df-825b0713-e461-4d04-abc4-8a9a6f10f2a9');\n",
              "          const dataTable =\n",
              "            await google.colab.kernel.invokeFunction('convertToInteractive',\n",
              "                                                     [key], {});\n",
              "          if (!dataTable) return;\n",
              "\n",
              "          const docLinkHtml = 'Like what you see? Visit the ' +\n",
              "            '<a target=\"_blank\" href=https://colab.research.google.com/notebooks/data_table.ipynb>data table notebook</a>'\n",
              "            + ' to learn more about interactive tables.';\n",
              "          element.innerHTML = '';\n",
              "          dataTable['output_type'] = 'display_data';\n",
              "          await google.colab.output.renderOutput(dataTable, element);\n",
              "          const docLink = document.createElement('div');\n",
              "          docLink.innerHTML = docLinkHtml;\n",
              "          element.appendChild(docLink);\n",
              "        }\n",
              "      </script>\n",
              "    </div>\n",
              "  </div>\n",
              "  "
            ]
          },
          "metadata": {},
          "execution_count": 34
        }
      ]
    },
    {
      "cell_type": "code",
      "source": [
        "df.date.dt.year"
      ],
      "metadata": {
        "colab": {
          "base_uri": "https://localhost:8080/"
        },
        "id": "nnv5s-dMYMjM",
        "outputId": "d861ec25-0918-49a7-cdfc-155a725e3a4d"
      },
      "execution_count": null,
      "outputs": [
        {
          "output_type": "execute_result",
          "data": {
            "text/plain": [
              "0    2023\n",
              "1    2023\n",
              "2    2023\n",
              "Name: date, dtype: int64"
            ]
          },
          "metadata": {},
          "execution_count": 29
        }
      ]
    },
    {
      "cell_type": "code",
      "source": [
        "print(f'''{df.int1.unique()} \n",
        "{df.int1.nunique()}''')"
      ],
      "metadata": {
        "colab": {
          "base_uri": "https://localhost:8080/"
        },
        "id": "od1RRAZVY-OO",
        "outputId": "9922fd61-d042-48d3-91f8-9c3b826764cf"
      },
      "execution_count": null,
      "outputs": [
        {
          "output_type": "stream",
          "name": "stdout",
          "text": [
            "[1 4 6]\n",
            "3\n"
          ]
        }
      ]
    },
    {
      "cell_type": "code",
      "source": [
        "datetime.today().strftime('%Y_%m_%d')"
      ],
      "metadata": {
        "colab": {
          "base_uri": "https://localhost:8080/",
          "height": 35
        },
        "id": "549JR5fmoLjv",
        "outputId": "56a09276-8e55-4450-cd8e-95dbddfa11a5"
      },
      "execution_count": null,
      "outputs": [
        {
          "output_type": "execute_result",
          "data": {
            "text/plain": [
              "'2023_03_16'"
            ],
            "application/vnd.google.colaboratory.intrinsic+json": {
              "type": "string"
            }
          },
          "metadata": {},
          "execution_count": 50
        }
      ]
    },
    {
      "cell_type": "markdown",
      "source": [
        "# Task of gradient descent for linear regression\n",
        "## ONE dimentional case"
      ],
      "metadata": {
        "id": "tuK6q1iIzkpb"
      }
    },
    {
      "cell_type": "code",
      "source": [
        "n, m = int(1e4), 4 # размерность x\n",
        "x, y, coef = make_regression(n_samples=n, n_features=m,\n",
        "                       n_informative=m, noise=5, random_state=10, coef=True, bias=False)\n",
        "y = y.reshape(n, 1)\n",
        "\n",
        "fig, ax = plt.subplots(1,1, figsize=(14, 5))\n",
        "ax.plot(x, y, linestyle='', marker='o', markersize=4, c='b', label='y')\n",
        "ax.plot(x, coef*x, linestyle='-', marker='o', markersize=0, c='r', label='y_pred')\n",
        "ax.legend(loc='upper left', fontsize=8);"
      ],
      "metadata": {
        "colab": {
          "base_uri": "https://localhost:8080/",
          "height": 320
        },
        "id": "srItOheQzr59",
        "outputId": "ffced871-88b8-4337-d792-43568df04032"
      },
      "execution_count": 384,
      "outputs": [
        {
          "output_type": "display_data",
          "data": {
            "text/plain": [
              "<Figure size 1008x360 with 1 Axes>"
            ],
            "image/png": "[encoded data removed]"
          },
          "metadata": {
            "needs_background": "light"
          }
        }
      ]
    },
    {
      "cell_type": "code",
      "source": [
        "x"
      ],
      "metadata": {
        "id": "Tdt-2QpedZtt",
        "outputId": "c058f6e2-e013-4c2a-ba0c-8185c6af271f",
        "colab": {
          "base_uri": "https://localhost:8080/"
        }
      },
      "execution_count": 385,
      "outputs": [
        {
          "output_type": "execute_result",
          "data": {
            "text/plain": [
              "array([[-0.54268275,  1.0867454 , -0.31832234,  0.07586306],\n",
              "       [-0.49425273, -0.64543842, -0.08850128, -0.65826274],\n",
              "       [ 0.56179902, -2.11952995,  1.82924581, -1.18460018],\n",
              "       ...,\n",
              "       [-2.01771865, -1.60885036,  0.54054071, -1.44229888],\n",
              "       [ 1.06434365, -0.6690073 ,  0.39746962, -0.93124775],\n",
              "       [-0.10449687,  3.07706791,  0.05813963,  1.15322013]])"
            ]
          },
          "metadata": {},
          "execution_count": 385
        }
      ]
    },
    {
      "cell_type": "code",
      "source": [
        "plt.plot(x[:100,0], y[:100], linestyle='', marker='o', markersize=14)"
      ],
      "metadata": {
        "id": "Nx5Kh65-dR19",
        "outputId": "7e50d581-2f16-43db-8d72-5d36ec45a2a0",
        "colab": {
          "base_uri": "https://localhost:8080/",
          "height": 282
        }
      },
      "execution_count": 386,
      "outputs": [
        {
          "output_type": "execute_result",
          "data": {
            "text/plain": [
              "[<matplotlib.lines.Line2D at 0x7fb6907a6d30>]"
            ]
          },
          "metadata": {},
          "execution_count": 386
        },
        {
          "output_type": "display_data",
          "data": {
            "text/plain": [
              "<Figure size 432x288 with 1 Axes>"
            ],
            "image/png": "[encoded data removed]"
          },
          "metadata": {
            "needs_background": "light"
          }
        }
      ]
    },
    {
      "cell_type": "code",
      "source": [
        "# Добавляем колонку единиц в x для симмуляции bias\n",
        "x_new = np.concatenate((np.ones((x.shape[0],1)), x),axis=1)"
      ],
      "metadata": {
        "id": "uXRr9Zad0cdQ"
      },
      "execution_count": 387,
      "outputs": []
    },
    {
      "cell_type": "markdown",
      "source": [
        "## Normal equastion"
      ],
      "metadata": {
        "id": "GZGPE8AT5ZdT"
      }
    },
    {
      "cell_type": "code",
      "source": [
        "%%time\n",
        "### normal equestion\n",
        "# Matrix multiplication is O(n³), inversion is also O(n³). \n",
        "# This is actually slower than gradient descent for even modest sized datasets\n",
        "theta_best_values  = np.linalg.inv(x_new.T.dot(x_new)).dot(x_new.T).dot(y)\n",
        "theta_best_values"
      ],
      "metadata": {
        "colab": {
          "base_uri": "https://localhost:8080/"
        },
        "id": "aOwcI_984eje",
        "outputId": "514f8be5-009f-40d7-8cc4-977e6e67eea4"
      },
      "execution_count": 388,
      "outputs": [
        {
          "output_type": "stream",
          "name": "stdout",
          "text": [
            "CPU times: user 2.02 ms, sys: 2.1 ms, total: 4.12 ms\n",
            "Wall time: 4.54 ms\n"
          ]
        },
        {
          "output_type": "execute_result",
          "data": {
            "text/plain": [
              "array([[1.49482805e-02],\n",
              "       [1.49823014e+01],\n",
              "       [1.34708655e+00],\n",
              "       [2.18108406e+01],\n",
              "       [4.72664380e+01]])"
            ]
          },
          "metadata": {},
          "execution_count": 388
        }
      ]
    },
    {
      "cell_type": "code",
      "source": [
        "x_new"
      ],
      "metadata": {
        "colab": {
          "base_uri": "https://localhost:8080/"
        },
        "id": "6aSOcI6yRjeS",
        "outputId": "e6438380-d6e2-4749-d329-d0d982770303"
      },
      "execution_count": 389,
      "outputs": [
        {
          "output_type": "execute_result",
          "data": {
            "text/plain": [
              "array([[ 1.        , -0.54268275,  1.0867454 , -0.31832234,  0.07586306],\n",
              "       [ 1.        , -0.49425273, -0.64543842, -0.08850128, -0.65826274],\n",
              "       [ 1.        ,  0.56179902, -2.11952995,  1.82924581, -1.18460018],\n",
              "       ...,\n",
              "       [ 1.        , -2.01771865, -1.60885036,  0.54054071, -1.44229888],\n",
              "       [ 1.        ,  1.06434365, -0.6690073 ,  0.39746962, -0.93124775],\n",
              "       [ 1.        , -0.10449687,  3.07706791,  0.05813963,  1.15322013]])"
            ]
          },
          "metadata": {},
          "execution_count": 389
        }
      ]
    },
    {
      "cell_type": "code",
      "source": [
        "# Считаем для примера \n",
        "x_sample = np.array([[1, 1, 8, 10],\n",
        "                     [2, 4, 18, 20]])\n",
        "x_sample = np.concatenate((np.ones((x_sample.shape[0],1)), x_sample),axis=1)\n",
        "y_sample = x_sample.dot(theta_best_values)\n",
        "y_sample"
      ],
      "metadata": {
        "colab": {
          "base_uri": "https://localhost:8080/"
        },
        "id": "qe68ryaZ4xQE",
        "outputId": "7d8ca06f-b718-43ec-fd90-2e2da1605dd4"
      },
      "execution_count": 390,
      "outputs": [
        {
          "output_type": "execute_result",
          "data": {
            "text/plain": [
              "array([[ 663.49544177],\n",
              "       [1373.29178965]])"
            ]
          },
          "metadata": {},
          "execution_count": 390
        }
      ]
    },
    {
      "cell_type": "markdown",
      "source": [
        "## Gradient descent"
      ],
      "metadata": {
        "id": "Sdac5-nB5SpD"
      }
    },
    {
      "cell_type": "code",
      "source": [
        "%%time\n",
        "b, k, l, loss, theta = 0, 30, 1e-2, [], np.zeros((m+1,1))\n",
        "for i in range(1,1000,1):\n",
        "    y_pred = x_new.dot(theta)\n",
        "    loss.append(1/n*np.sum((y-y_pred)**2))\n",
        "    for i in range(0, m+1):\n",
        "        theta[i] = theta[i]-l*(2/n*np.sum((y_pred-y)*x_new[:,i].reshape(n,1)))    \n",
        "print(theta)\n",
        "plt.plot(np.array(loss))"
      ],
      "metadata": {
        "colab": {
          "base_uri": "https://localhost:8080/",
          "height": 404
        },
        "id": "frmKGlFq5VfO",
        "outputId": "c41969ac-ec3a-4bc6-cfdd-1e8b2f85fe40"
      },
      "execution_count": 391,
      "outputs": [
        {
          "output_type": "stream",
          "name": "stdout",
          "text": [
            "[[1.49482880e-02]\n",
            " [1.49823013e+01]\n",
            " [1.34708655e+00]\n",
            " [2.18108406e+01]\n",
            " [4.72664380e+01]]\n",
            "CPU times: user 248 ms, sys: 345 ms, total: 594 ms\n",
            "Wall time: 654 ms\n"
          ]
        },
        {
          "output_type": "execute_result",
          "data": {
            "text/plain": [
              "[<matplotlib.lines.Line2D at 0x7fb6912df670>]"
            ]
          },
          "metadata": {},
          "execution_count": 391
        },
        {
          "output_type": "display_data",
          "data": {
            "text/plain": [
              "<Figure size 432x288 with 1 Axes>"
            ],
            "image/png": "[encoded data removed]"
          },
          "metadata": {
            "needs_background": "light"
          }
        }
      ]
    },
    {
      "cell_type": "markdown",
      "source": [
        "## Multidimentional case of linear regression"
      ],
      "metadata": {
        "id": "xBzs3E0v5ztQ"
      }
    },
    {
      "cell_type": "code",
      "source": [
        "class LinearRegression:\n",
        "  L=1e-3\n",
        "  def __init__(self, X: np.ndarray, y: np.ndarray):\n",
        "    self.X = X\n",
        "    self.X_new = np.concatenate((np.ones((X.shape[0],1)), X),axis=1)\n",
        "    self.y = y\n",
        "    self.theta = np.zeros((X.shape[1]+1,1))\n",
        "    self.loss = []\n",
        "\n",
        "  def predict(self):\n",
        "    y_pred = self.X_new.dot(self.theta)\n",
        "    return y_pred\n",
        "\n",
        "  def update_coef(self, l=L):\n",
        "    n = len(self.y)\n",
        "    y_pred = self.predict()\n",
        "    # for i in range(len(self.theta)):\n",
        "    #   y_pred = self.predict()\n",
        "    #   self.theta[i] = self.theta[i] - l*((2/n)*np.sum((y_pred-self.y)*self.X_new[:,i].reshape(n,1)))\n",
        "    self.theta = self.theta - l*((2/n)*self.X_new.T.dot(y_pred-self.y))\n",
        "\n",
        "  def train(self, n=100, l=L):\n",
        "    for i in range(n):\n",
        "      self.loss.append(1/n*np.sum((self.predict()-self.y)**2))\n",
        "      self.update_coef(l)\n",
        "\n",
        "  def loss_plot(self):\n",
        "    fig, ax = plt.subplots(1,1, figsize=(10,4))\n",
        "    ax.plot(self.loss, linestyle='-', markersize=0, marker='o', c='b', label='loss')\n",
        "    ax.legend(loc='upper right', fontsize=8);"
      ],
      "metadata": {
        "id": "7286bX-X5_Ht"
      },
      "execution_count": 392,
      "outputs": []
    },
    {
      "cell_type": "code",
      "source": [
        "np.linalg.inv(x_new.T.dot(x_new)).dot(x_new.T).dot(y)"
      ],
      "metadata": {
        "colab": {
          "base_uri": "https://localhost:8080/"
        },
        "id": "zKcsetNOcLZX",
        "outputId": "c42388c8-a8a9-4020-b45d-ab76fdd1a825"
      },
      "execution_count": 393,
      "outputs": [
        {
          "output_type": "execute_result",
          "data": {
            "text/plain": [
              "array([[1.49482805e-02],\n",
              "       [1.49823014e+01],\n",
              "       [1.34708655e+00],\n",
              "       [2.18108406e+01],\n",
              "       [4.72664380e+01]])"
            ]
          },
          "metadata": {},
          "execution_count": 393
        }
      ]
    },
    {
      "cell_type": "code",
      "source": [
        "%%time\n",
        "reg = LinearRegression(x, y)\n",
        "reg.train(10000, 1e-3)\n",
        "print(reg.theta)\n",
        "plt.plot(reg.loss);"
      ],
      "metadata": {
        "colab": {
          "base_uri": "https://localhost:8080/",
          "height": 404
        },
        "id": "DS7Xt2EFcxqN",
        "outputId": "4a4a3ac1-e2db-4458-ec6d-082765e4e1a0"
      },
      "execution_count": 395,
      "outputs": [
        {
          "output_type": "stream",
          "name": "stdout",
          "text": [
            "[[1.49482891e-02]\n",
            " [1.49823013e+01]\n",
            " [1.34708655e+00]\n",
            " [2.18108406e+01]\n",
            " [4.72664380e+01]]\n",
            "CPU times: user 1.93 s, sys: 1.05 s, total: 2.98 s\n",
            "Wall time: 2.15 s\n"
          ]
        },
        {
          "output_type": "execute_result",
          "data": {
            "text/plain": [
              "[<matplotlib.lines.Line2D at 0x7fb6901ae4c0>]"
            ]
          },
          "metadata": {},
          "execution_count": 395
        },
        {
          "output_type": "display_data",
          "data": {
            "text/plain": [
              "<Figure size 432x288 with 1 Axes>"
            ],
            "image/png": "[encoded data removed]"
          },
          "metadata": {
            "needs_background": "light"
          }
        }
      ]
    },
    {
      "cell_type": "markdown",
      "source": [
        "## OWN DATASET, WITHOUT X_new"
      ],
      "metadata": {
        "id": "T4hf1ef5g0Vs"
      }
    },
    {
      "cell_type": "code",
      "source": [
        "x = np.array([[1, np.random.normal(0,1,1)[0], np.random.normal(0,10,1)[0]] for i in range(n)])\n",
        "# x = np.array([[i, 0.002*i**2 + np.random.normal(10,1,1)[0]] for i in range(n)])\n",
        "# x_new = np.concatenate((np.ones((x.shape[0],1)), x), axis=1)\n",
        "y = np.array([[10+i] for i in range(n)])"
      ],
      "metadata": {
        "id": "LaGbTiNog3mE"
      },
      "execution_count": 408,
      "outputs": []
    },
    {
      "cell_type": "code",
      "source": [
        "class LinearRegression:\n",
        "  L=1e-3\n",
        "  def __init__(self, X: np.ndarray, y: np.ndarray):\n",
        "    self.X = X\n",
        "    self.y = y\n",
        "    self.theta = np.zeros((X.shape[1],1))\n",
        "    self.loss = []\n",
        "\n",
        "  def predict(self):\n",
        "    y_pred = self.X.dot(self.theta)\n",
        "    return y_pred\n",
        "\n",
        "  def update_coef(self, l=L):\n",
        "    n = len(self.y)\n",
        "    y_pred = self.predict()\n",
        "    self.theta = self.theta - l*((2/n)*self.X.T.dot(y_pred-self.y))\n",
        "\n",
        "  def train(self, n=100, l=L):\n",
        "    for i in range(n):\n",
        "      self.loss.append(1/n*np.sum((self.predict()-self.y)**2))\n",
        "      self.update_coef(l)\n",
        "\n",
        "  def loss_plot(self):\n",
        "    fig, ax = plt.subplots(1,1, figsize=(10,4))\n",
        "    ax.plot(self.loss, linestyle='-', markersize=0, marker='o', c='b', label='loss')\n",
        "    ax.legend(loc='upper right', fontsize=8);"
      ],
      "metadata": {
        "id": "8sGTiX4_SSl9"
      },
      "execution_count": 409,
      "outputs": []
    },
    {
      "cell_type": "code",
      "source": [
        "x_new"
      ],
      "metadata": {
        "colab": {
          "base_uri": "https://localhost:8080/"
        },
        "id": "eQ_uJdEjjriP",
        "outputId": "b21e1904-6df7-4205-a6a5-a064d1b01498"
      },
      "execution_count": 416,
      "outputs": [
        {
          "output_type": "execute_result",
          "data": {
            "text/plain": [
              "array([[ 1.        , -0.54268275,  1.0867454 , -0.31832234,  0.07586306],\n",
              "       [ 1.        , -0.49425273, -0.64543842, -0.08850128, -0.65826274],\n",
              "       [ 1.        ,  0.56179902, -2.11952995,  1.82924581, -1.18460018],\n",
              "       ...,\n",
              "       [ 1.        , -2.01771865, -1.60885036,  0.54054071, -1.44229888],\n",
              "       [ 1.        ,  1.06434365, -0.6690073 ,  0.39746962, -0.93124775],\n",
              "       [ 1.        , -0.10449687,  3.07706791,  0.05813963,  1.15322013]])"
            ]
          },
          "metadata": {},
          "execution_count": 416
        }
      ]
    },
    {
      "cell_type": "code",
      "source": [
        "%%time\n",
        "### normal equestion\n",
        "# Matrix multiplication is O(n³), inversion is also O(n³). \n",
        "# This is actually slower than gradient descent for even modest sized datasets\n",
        "theta_best_values  = np.linalg.inv(x.T.dot(x)).dot(x.T).dot(y)\n",
        "theta_best_values"
      ],
      "metadata": {
        "id": "_4zINB1XiAbz",
        "outputId": "9ad04378-db1c-4c2e-fc03-3005efa6f600",
        "colab": {
          "base_uri": "https://localhost:8080/"
        }
      },
      "execution_count": 417,
      "outputs": [
        {
          "output_type": "stream",
          "name": "stdout",
          "text": [
            "CPU times: user 3.18 ms, sys: 1.07 ms, total: 4.25 ms\n",
            "Wall time: 14.8 ms\n"
          ]
        },
        {
          "output_type": "execute_result",
          "data": {
            "text/plain": [
              "array([[ 5.00932272e+03],\n",
              "       [ 1.76914655e+01],\n",
              "       [-2.94403503e+00]])"
            ]
          },
          "metadata": {},
          "execution_count": 417
        }
      ]
    },
    {
      "cell_type": "code",
      "source": [
        "reg = LinearRegression(x, y)\n",
        "reg.train(1000, 1e-2)\n",
        "print(reg.theta)\n",
        "reg.loss_plot()"
      ],
      "metadata": {
        "colab": {
          "base_uri": "https://localhost:8080/",
          "height": 328
        },
        "id": "URV4X0Y67hSW",
        "outputId": "f5eaacfe-3b0f-42dc-e291-5a0ec9f63345"
      },
      "execution_count": 418,
      "outputs": [
        {
          "output_type": "stream",
          "name": "stdout",
          "text": [
            "[[ 5.00932271e+03]\n",
            " [ 1.76914674e+01]\n",
            " [-2.94394562e+00]]\n"
          ]
        },
        {
          "output_type": "display_data",
          "data": {
            "text/plain": [
              "<Figure size 720x288 with 1 Axes>"
            ],
            "image/png": "[encoded data removed]"
          },
          "metadata": {
            "needs_background": "light"
          }
        }
      ]
    },
    {
      "cell_type": "code",
      "source": [],
      "metadata": {
        "id": "_nKjRxruh82B"
      },
      "execution_count": 418,
      "outputs": []
    },
    {
      "cell_type": "code",
      "source": [],
      "metadata": {
        "id": "D24fP9pVQe02"
      },
      "execution_count": 401,
      "outputs": []
    }
  ]
}