{
  "nbformat": 4,
  "nbformat_minor": 0,
  "metadata": {
    "colab": {
      "provenance": [],
      "toc_visible": true,
      "authorship_tag": "ABX9TyPK7xh10PklFspmo6nLhOUC",
      "include_colab_link": true
    },
    "kernelspec": {
      "name": "python3",
      "display_name": "Python 3"
    },
    "language_info": {
      "name": "python"
    }
  },
  "cells": [
    {
      "cell_type": "markdown",
      "metadata": {
        "id": "view-in-github",
        "colab_type": "text"
      },
      "source": [
        "<a href=\"https://colab.research.google.com/github/ol3gka/STUDY/blob/main/main_tools.ipynb\" target=\"_parent\"><img src=\"https://colab.research.google.com/assets/colab-badge.svg\" alt=\"Open In Colab\"/></a>"
      ]
    },
    {
      "cell_type": "markdown",
      "source": [
        "# MAIN STRUCTURES\n",
        "свойства python - динамическая типизация и полиморфизм (результат выполнения операторов зависит от типа данных, к которому их применяют); компитяция в байт код; a=3, b=a - разделяемая сылка (2 имени/переменных ссылаются на один объект '3')\n",
        "\n",
        "**Все структуры данных в python представляют из себя объекты**\n",
        "\n",
        "* числовые объекты (целые, дробные, комлексные) `numbers` 1,1.2 Числа\n",
        "\n",
        "* строка `str` 'aao' Последовательности\n",
        "\n",
        "* кортеж `tuple` (1,2,3) Последовательности\n",
        "\n",
        "* множество `set` {1,2,3} ни отоб­ражение, ни последовательность\n",
        "\n",
        "* список `list` [1,'a',2] Последовательности\n",
        "\n",
        "* словарь `dict` {1:'a',2:'e'} Отображения\n",
        "\n",
        "**Изменяемые: список, словарь, множетсво**\n",
        "\n",
        "**Неизменяемы: числа, строки, кортеж**\n",
        "\n",
        "из-за того, что объекты неизменяемые, любая операция над объектом должна быть перепресвоенна, при это ссылка на объект будет уже ссылаться на другой, новый instance, который создался функцией: \n",
        "\n",
        "`a = 'aaa'`\n",
        "\n",
        "`a = a.replace('a','b')`\n",
        "\n",
        "`help(str)`, `dir(str)` или `help(str.append)` - вызвать методы классов, `shift+tab` внутри функции (`pd.read_excel(/shift+tab/)`), чтобы получить справку (можно несеольеко раз жать); `tab` работает так: `pd./tab/` - покажет методы библиотеки\n",
        "\n",
        "* списки, словари и кортежи способны содержать в себе объекты любых видов\n",
        "* множества могут содержать неизменяемые объекты любых видов\n",
        "* списки, словари и кортежи допускают вложение на произвольную глубину\n",
        "* списки, словари и множества способны динамически увеличиваться и умень­ шаться"
      ],
      "metadata": {
        "id": "Zu2zgHUt-D-E"
      }
    },
    {
      "cell_type": "code",
      "source": [
        "from sklearn.datasets import make_regression\n",
        "import matplotlib.pyplot as plt\n",
        "import numpy as np\n",
        "from datetime import datetime\n",
        "import pandas as pd"
      ],
      "metadata": {
        "id": "H5CwBVutCGxB"
      },
      "execution_count": null,
      "outputs": []
    },
    {
      "cell_type": "markdown",
      "source": [
        "## NUMBERS"
      ],
      "metadata": {
        "id": "mp00S4zc-Mdz"
      }
    },
    {
      "cell_type": "code",
      "source": [
        "print(f\"\"\"{5 / 1.7}\n",
        "{5 // 1.7} # целочисленное деление\n",
        "{int(5/1.7)} # деление с округлением в меньшую сторону\n",
        "{round(5/1.7)}\n",
        "{5 % 1.7}\"\"\")"
      ],
      "metadata": {
        "colab": {
          "base_uri": "https://localhost:8080/"
        },
        "id": "kf_3s2zf-Os2",
        "outputId": "a8b4bdc6-fea0-438d-dd36-6e389ac96f2b"
      },
      "execution_count": null,
      "outputs": [
        {
          "output_type": "stream",
          "name": "stdout",
          "text": [
            "2.9411764705882355\n",
            "2.0 # целочисленное деление\n",
            "2\n",
            "3\n",
            "1.6\n"
          ]
        }
      ]
    },
    {
      "cell_type": "code",
      "source": [
        "print(f\"\"\"{12121.22223:,.2f}\n",
        "{12121.22223:,}\n",
        "{12121.22223:.2e}\"\"\")"
      ],
      "metadata": {
        "colab": {
          "base_uri": "https://localhost:8080/"
        },
        "id": "jO4jjKqOR2xc",
        "outputId": "e1e9fbb2-b46a-4c66-d123-c3e86befae2e"
      },
      "execution_count": null,
      "outputs": [
        {
          "output_type": "stream",
          "name": "stdout",
          "text": [
            "12,121.22\n",
            "12,121.22223\n",
            "1.21e+04\n"
          ]
        }
      ]
    },
    {
      "cell_type": "markdown",
      "source": [
        "## SYNTAXIS"
      ],
      "metadata": {
        "id": "MYaQBHCR9u-L"
      }
    },
    {
      "cell_type": "code",
      "source": [
        "# Первый прием, операция ==, предусматривает проверку, имеют ли два ссылаемых объекта одинаковые значения; \n",
        "# такой метод почти всегда используется для проверок на предмет равенства в Python. \n",
        "# Второй прием, операция is, проверяет идентичность — она возвращает True, только если оба имени указывают на точно тот же самый объ­ект, \n",
        "# поэтому операция is является гораздо более строгой формой проверки равенс­тва и редко применяется в большинстве программ.\n",
        "l=[1,2,3]; m=[1,2,3]\n",
        "print(f\"\"\"{l==m}\n",
        "{l is m}\"\"\") # но для чисел оба будет тру - из-за кэширования"
      ],
      "metadata": {
        "colab": {
          "base_uri": "https://localhost:8080/"
        },
        "id": "vxsxotr1TUB9",
        "outputId": "da3f088c-4f1b-4c41-aa4b-ef166dd59409"
      },
      "execution_count": null,
      "outputs": [
        {
          "output_type": "stream",
          "name": "stdout",
          "text": [
            "True\n",
            "False\n"
          ]
        }
      ]
    },
    {
      "cell_type": "code",
      "source": [
        "print(f'aa\\taa\\taa')\n",
        "for x in range(1, 6):\n",
        "    print(f'{x:02}\\t{x*x:3}\\t{x*x*x*x*x:4}')"
      ],
      "metadata": {
        "colab": {
          "base_uri": "https://localhost:8080/"
        },
        "id": "OoFphpv5003K",
        "outputId": "2c755e3a-dca2-4328-8dfd-4497ef0e7a16"
      },
      "execution_count": null,
      "outputs": [
        {
          "output_type": "stream",
          "name": "stdout",
          "text": [
            "aa\taa\taa\n",
            "01\t  1\t   1\n",
            "02\t  4\t  32\n",
            "03\t  9\t 243\n",
            "04\t 16\t1024\n",
            "05\t 25\t3125\n"
          ]
        }
      ]
    },
    {
      "cell_type": "code",
      "source": [
        "# путь через косые черты\n",
        "# open(г’С:\\Python33\\Lib\\pdb.py')\n",
        "# open('С:/Python33/Lib/pdb.py')\n",
        "# open(’C:\\\\Fython33\\\\Lib\\\\pdb.py’) "
      ],
      "metadata": {
        "colab": {
          "base_uri": "https://localhost:8080/"
        },
        "id": "-ZCwPKca99hF",
        "outputId": "9302ae88-5834-499d-d0e8-1fd5ff0dd2fc"
      },
      "execution_count": null,
      "outputs": [
        {
          "output_type": "execute_result",
          "data": {
            "text/plain": [
              "{'ws': 'sds', 'wd': 40}"
            ]
          },
          "metadata": {},
          "execution_count": 46
        }
      ]
    },
    {
      "cell_type": "code",
      "source": [
        "int(' 12 ')"
      ],
      "metadata": {
        "id": "BGlWJw-RFohA",
        "outputId": "5ac590ab-c1ff-4534-e927-5ec8fef77d07",
        "colab": {
          "base_uri": "https://localhost:8080/"
        }
      },
      "execution_count": null,
      "outputs": [
        {
          "output_type": "execute_result",
          "data": {
            "text/plain": [
              "12"
            ]
          },
          "metadata": {},
          "execution_count": 18
        }
      ]
    },
    {
      "cell_type": "code",
      "source": [
        "device = torch.device(\"cuda\" if torch.cuda.is_available() else \"cpu\")\n",
        "print(f\"Using device: {device}\\t\" + (f\"{torch.cuda.get_device_name(0)}\" if torch.cuda.is_available() else \"CPU\"))"
      ],
      "metadata": {
        "id": "P_1BZwSumDnx"
      },
      "execution_count": null,
      "outputs": []
    },
    {
      "cell_type": "code",
      "source": [
        "s = 'aao'\n",
        "try:\n",
        "   int(s)\n",
        "except:\n",
        "  print('write a number!')\n",
        "else:\n",
        "  print(s+2)"
      ],
      "metadata": {
        "colab": {
          "base_uri": "https://localhost:8080/"
        },
        "id": "_HIhFVXSCbH2",
        "outputId": "35abc0c4-267a-44af-9761-c4cf7ca11813"
      },
      "execution_count": null,
      "outputs": [
        {
          "output_type": "stream",
          "name": "stdout",
          "text": [
            "write a number!\n"
          ]
        }
      ]
    },
    {
      "cell_type": "code",
      "source": [
        "(a, b, c) = [1,2,3]\n",
        "print(a,c)\n",
        "(a, b, c) = (1,2,3)\n",
        "print(a,c)\n",
        "a, *b, c = (1,2,4,5,3)\n",
        "print(a,b)"
      ],
      "metadata": {
        "colab": {
          "base_uri": "https://localhost:8080/"
        },
        "id": "dg2d_x9-I9VA",
        "outputId": "3d88b0f7-a7d0-4d17-fe69-31485934e7ec"
      },
      "execution_count": null,
      "outputs": [
        {
          "output_type": "stream",
          "name": "stdout",
          "text": [
            "1 3\n",
            "1 3\n",
            "1 [2, 4, 5]\n"
          ]
        }
      ]
    },
    {
      "cell_type": "code",
      "source": [
        "import numpy as np\n",
        "s = 'smap'\n",
        "s[2:10500]"
      ],
      "metadata": {
        "colab": {
          "base_uri": "https://localhost:8080/",
          "height": 36
        },
        "id": "wsVgzUCjKx63",
        "outputId": "ec4adab3-2ebf-4486-c828-fee2982adcc9"
      },
      "execution_count": null,
      "outputs": [
        {
          "output_type": "execute_result",
          "data": {
            "text/plain": [
              "'ap'"
            ],
            "application/vnd.google.colaboratory.intrinsic+json": {
              "type": "string"
            }
          },
          "metadata": {},
          "execution_count": 13
        }
      ]
    },
    {
      "cell_type": "code",
      "source": [
        "l = [1,2,3,4,5]\n",
        "ll = [list(l)]*4\n",
        "ll[0][1] = 99\n",
        "ll"
      ],
      "metadata": {
        "id": "sLUHzVdtYX-f"
      },
      "execution_count": null,
      "outputs": []
    },
    {
      "cell_type": "code",
      "source": [
        "# дополнительные присваивания. Дополненное присваивание работает на любом типе, который поддерживает подразумеваемую бинарную операцию. Работает быстрее.\n",
        "x = 1; y = 0\n",
        "x |= y # x &= y\n",
        "x"
      ],
      "metadata": {
        "colab": {
          "base_uri": "https://localhost:8080/"
        },
        "id": "cKPdkhQJYYpH",
        "outputId": "cd29188a-8af8-4d76-e5aa-095ff759fe76"
      },
      "execution_count": null,
      "outputs": [
        {
          "output_type": "execute_result",
          "data": {
            "text/plain": [
              "1"
            ]
          },
          "metadata": {},
          "execution_count": 20
        }
      ]
    },
    {
      "cell_type": "markdown",
      "source": [
        "## STRING (строка)\n",
        "Cтроки Python относятся к категории неизменяемых последовательнос­тей, а это означает, что содержащиеся в них символы имеют позиционный порядок слева направо и не могут быть модифицированы на месте. Список, кортеж - тоже последовательности, поэтому операции над ними будет теми"
      ],
      "metadata": {
        "id": "b-1gSoyWOLA2"
      }
    },
    {
      "cell_type": "code",
      "source": [
        "# Список - изменяемый объект:\n",
        "L_1 =[1,2,3]; L_2 = L_1 # l2 ссылается на объект [1,2,3]\n",
        "L_1[0]=100; L_2\n",
        "# Поэтому для того, чтобы избежать модификации нужно скопировать список\n",
        "# есть 3 метода: l2=l1[:] - не будет работать с словарями и множествами (так как не являются последовательностями), l2=l1.copy(), l2=list(l1), dict(), set()"
      ],
      "metadata": {
        "colab": {
          "base_uri": "https://localhost:8080/"
        },
        "id": "l7L_YSdbONV0",
        "outputId": "0de327dd-7ade-475b-aef3-1bdbf5ddf0a5"
      },
      "execution_count": null,
      "outputs": [
        {
          "output_type": "execute_result",
          "data": {
            "text/plain": [
              "[100, 2, 3]"
            ]
          },
          "metadata": {},
          "execution_count": 21
        }
      ]
    },
    {
      "cell_type": "code",
      "source": [
        "# Выражения:\n",
        "# 1) Конкатенация s1+s2 \n",
        "# 2) Нарезание (извлечение частей) s[1:3] \n",
        "# 3) Индексация s[1]\n",
        "# Строковые методы:\n",
        "s = 'a1a2a3'\n",
        "print(f\"\"\"{s.find('a2a')}\n",
        "{s.replace('a3','a4')}\n",
        "{s.split('a')}\n",
        "{s.endswith('a3')}\n",
        "      \"\"\")\n",
        "import re\n",
        "re.match('a(.*)2', s)"
      ],
      "metadata": {
        "colab": {
          "base_uri": "https://localhost:8080/"
        },
        "id": "fyCLs_Nxb7wX",
        "outputId": "ef06173b-0820-4226-8c7a-a1c71cc4431d"
      },
      "execution_count": null,
      "outputs": [
        {
          "output_type": "stream",
          "name": "stdout",
          "text": [
            "2\n",
            "a1a2a4\n",
            "['', '1', '2', '3']\n",
            "True\n",
            "      \n"
          ]
        },
        {
          "output_type": "execute_result",
          "data": {
            "text/plain": [
              "<re.Match object; span=(0, 4), match='a1a2'>"
            ]
          },
          "metadata": {},
          "execution_count": 45
        }
      ]
    },
    {
      "cell_type": "markdown",
      "source": [
        "## LIST (список)"
      ],
      "metadata": {
        "id": "i92RViwTFyMc"
      }
    },
    {
      "cell_type": "code",
      "source": [
        "l = ['a','b','c']\n",
        "l.append('d')\n",
        "l.pop(1)\n",
        "l.pop()\n",
        "l\n",
        "# l[len(f)+1]='f'\n"
      ],
      "metadata": {
        "colab": {
          "base_uri": "https://localhost:8080/"
        },
        "id": "2V3zOClHF1RE",
        "outputId": "17ce11ca-e556-43f0-8fb9-33e449ed58c1"
      },
      "execution_count": null,
      "outputs": [
        {
          "output_type": "execute_result",
          "data": {
            "text/plain": [
              "['a', 'c']"
            ]
          },
          "metadata": {},
          "execution_count": 29
        }
      ]
    },
    {
      "cell_type": "code",
      "source": [
        "l = ['a','a','b']\n",
        "[i for i, x in enumerate(l) if x=='a']"
      ],
      "metadata": {
        "colab": {
          "base_uri": "https://localhost:8080/"
        },
        "id": "IRmbGof5MGZr",
        "outputId": "f9175925-f2c2-4660-aae4-edb90cb2beaf"
      },
      "execution_count": null,
      "outputs": [
        {
          "output_type": "execute_result",
          "data": {
            "text/plain": [
              "[0, 1]"
            ]
          },
          "metadata": {},
          "execution_count": 39
        }
      ]
    },
    {
      "cell_type": "code",
      "source": [
        "L = L + [5, 6] # Конкатенация: медленнее\n",
        "L.extend([7, 8]) # Быстрее, но на месте"
      ],
      "metadata": {
        "id": "73aWPJTJZstd"
      },
      "execution_count": null,
      "outputs": []
    },
    {
      "cell_type": "code",
      "source": [
        "L += [9, 10] # Отображается на L. extend ([9, 10]), т.е. выглядит как долгий формат чз +, но внутренне работает как extend\n",
        "\"\"\"Как правило, описанное поведение является желательным, но обратите внимание: отсюда вытекает, что присваивание += представляет собой изменение на месте для списков; \n",
        "таким образом, оно не в точности похоже на конкатенацию +, которая всегда создает новый объект.\"\"\""
      ],
      "metadata": {
        "id": "dwRjQqLpaOhI"
      },
      "execution_count": null,
      "outputs": []
    },
    {
      "cell_type": "code",
      "source": [
        "l=[1,2,3,4,5]\n",
        "l[2:2]=[20,30]\n",
        "l"
      ],
      "metadata": {
        "id": "WMlH1KRtmPVT"
      },
      "execution_count": null,
      "outputs": []
    },
    {
      "cell_type": "markdown",
      "source": [
        "## DICTIONARY (словарь), кортеж (tuple) \n",
        "* Они поддерживают доступ по ключу, а не по смещению\n",
        "* Они являются неупорядоченными коллекциями произвольных объектов\n",
        "\n",
        "Словари являются отобра­ жениями, не последовательностями"
      ],
      "metadata": {
        "id": "32QClf8cBBRh"
      }
    },
    {
      "cell_type": "code",
      "source": [
        "keylist, valuelist = ['age','high','salary'], [10,20,30]\n",
        "d = dict(zip(keylist, valuelist))\n",
        "d['save'] = 2\n",
        "#############################\n",
        "print(f\"\"\"{'age' in d}\n",
        "{d.get('age')}\n",
        "{d.pop('salary')}\n",
        "{list(d.keys())} # keys(), items(), values(), zip() - это иттератор, поэтому приходится применять list\n",
        "\"\"\")\n",
        "del d['high']"
      ],
      "metadata": {
        "colab": {
          "base_uri": "https://localhost:8080/"
        },
        "id": "eMm0hkvHBGub",
        "outputId": "73b61054-bdb0-4958-dd2e-54b82135ff93"
      },
      "execution_count": null,
      "outputs": [
        {
          "output_type": "stream",
          "name": "stdout",
          "text": [
            "True\n",
            "10\n",
            "30\n",
            "['age', 'high', 'save'] #\n",
            "\n"
          ]
        }
      ]
    },
    {
      "cell_type": "code",
      "source": [
        "help(d.popitem)"
      ],
      "metadata": {
        "colab": {
          "base_uri": "https://localhost:8080/"
        },
        "id": "YrcCC1AlCyqp",
        "outputId": "9c24bbf2-2524-4a2a-8360-ed661e048828"
      },
      "execution_count": null,
      "outputs": [
        {
          "output_type": "stream",
          "name": "stdout",
          "text": [
            "Help on built-in function popitem:\n",
            "\n",
            "popitem() method of builtins.dict instance\n",
            "    Remove and return a (key, value) pair as a 2-tuple.\n",
            "    \n",
            "    Pairs are returned in LIFO (last-in, first-out) order.\n",
            "    Raises KeyError if the dict is empty.\n",
            "\n"
          ]
        }
      ]
    },
    {
      "cell_type": "code",
      "source": [
        "l1, l2 = [1,2,3,4], [5,6,7,8]\n",
        "print(f\"\"\"{dict.fromkeys(l1, l2)}\n",
        "{dict(zip(l1, l2))}\n",
        "{dict.fromkeys(l1, 0)}\n",
        "\"\"\")"
      ],
      "metadata": {
        "colab": {
          "base_uri": "https://localhost:8080/"
        },
        "id": "IxIEEtiY6Sqw",
        "outputId": "ccf1713e-3211-4140-9a97-55bf1ee1404e"
      },
      "execution_count": null,
      "outputs": [
        {
          "output_type": "stream",
          "name": "stdout",
          "text": [
            "{1: [5, 6, 7, 8], 2: [5, 6, 7, 8], 3: [5, 6, 7, 8], 4: [5, 6, 7, 8]}\n",
            "{1: 5, 2: 6, 3: 7, 4: 8}\n",
            "{1: 0, 2: 0, 3: 0, 4: 0}\n",
            "\n",
            "\n"
          ]
        }
      ]
    },
    {
      "cell_type": "code",
      "source": [
        "d = dict([('ws', 'sds'), ('ws', 40)])\n",
        "{'df':'sd', 'df':1}\n",
        "{index : val for (index, val) in zip(l1,l2)}"
      ],
      "metadata": {
        "colab": {
          "base_uri": "https://localhost:8080/"
        },
        "id": "YfJj4M0sGsIE",
        "outputId": "59b33c5d-7dc4-49d3-e51c-fd34e8e9c77a"
      },
      "execution_count": null,
      "outputs": [
        {
          "output_type": "execute_result",
          "data": {
            "text/plain": [
              "{1: 5, 2: 6, 3: 7, 4: 8}"
            ]
          },
          "metadata": {},
          "execution_count": 62
        }
      ]
    },
    {
      "cell_type": "code",
      "source": [
        "# кортеж не изменяемый, но внутренний список - да\n",
        "tuple_ = (1, 2, [3,4,5])\n",
        "tuple_[2].append(6)\n",
        "tuple_"
      ],
      "metadata": {
        "id": "1Sk82PLt4G0O",
        "outputId": "2821623b-9a83-4a96-87f0-3ef3cfba8293",
        "colab": {
          "base_uri": "https://localhost:8080/"
        }
      },
      "execution_count": null,
      "outputs": [
        {
          "output_type": "execute_result",
          "data": {
            "text/plain": [
              "(1, 2, [3, 4, 5, 6])"
            ]
          },
          "metadata": {},
          "execution_count": 2
        }
      ]
    },
    {
      "cell_type": "code",
      "source": [
        "t = (1,2,3)\n",
        "t = t[:2]+(4,)\n",
        "t.index(4)\n",
        "(t[0], *t[0:2])"
      ],
      "metadata": {
        "colab": {
          "base_uri": "https://localhost:8080/"
        },
        "id": "mcVGflCKxrH7",
        "outputId": "0de7cfbb-5a30-44ce-b9fb-c046b32ec0fa"
      },
      "execution_count": null,
      "outputs": [
        {
          "output_type": "execute_result",
          "data": {
            "text/plain": [
              "(1, 1, 2)"
            ]
          },
          "metadata": {},
          "execution_count": 17
        }
      ]
    },
    {
      "cell_type": "code",
      "source": [
        "a, b = 1, 2\n",
        "print(a, b)"
      ],
      "metadata": {
        "id": "31vd2Ufe07Br",
        "outputId": "866aa8fd-07bc-4407-d901-f940f9b1bed6",
        "colab": {
          "base_uri": "https://localhost:8080/",
          "height": 133
        }
      },
      "execution_count": null,
      "outputs": [
        {
          "output_type": "error",
          "ename": "SyntaxError",
          "evalue": "ignored",
          "traceback": [
            "\u001b[0;36m  File \u001b[0;32m\"<ipython-input-23-d8473f1f5376>\"\u001b[0;36m, line \u001b[0;32m2\u001b[0m\n\u001b[0;31m    print(a, /n ,b)\u001b[0m\n\u001b[0m             ^\u001b[0m\n\u001b[0;31mSyntaxError\u001b[0m\u001b[0;31m:\u001b[0m invalid syntax\n"
          ]
        }
      ]
    },
    {
      "cell_type": "markdown",
      "source": [
        "### Множества {1,2,3} (set) и Логические выражения\n",
        "Представления (dict.items()) элементов тоже подобны множествам, если они хешируемы, т.е.\n",
        "если содержат только неизменяемые объекты (т.е. можно применять логические выражения): "
      ],
      "metadata": {
        "id": "lsGboZnkWjVZ"
      }
    },
    {
      "cell_type": "code",
      "source": [
        "{'a','b','c','b','a'}"
      ],
      "metadata": {
        "colab": {
          "base_uri": "https://localhost:8080/"
        },
        "id": "G0Q3UMZkXP-V",
        "outputId": "b0eadf04-b112-4d58-e2c7-c79cf00fec8c"
      },
      "execution_count": null,
      "outputs": [
        {
          "output_type": "execute_result",
          "data": {
            "text/plain": [
              "{'a', 'b', 'c'}"
            ]
          },
          "metadata": {},
          "execution_count": 12
        }
      ]
    },
    {
      "cell_type": "code",
      "source": [
        "dict([('ws', 'sds'), ('ws', 40)]).keys() # множество - словарь без значений (только ключи)"
      ],
      "metadata": {
        "colab": {
          "base_uri": "https://localhost:8080/"
        },
        "id": "EvMFm9zTWpdo",
        "outputId": "8c276a67-d15b-46ce-da1b-2d1995a4a891"
      },
      "execution_count": null,
      "outputs": [
        {
          "output_type": "execute_result",
          "data": {
            "text/plain": [
              "dict_keys(['ws'])"
            ]
          },
          "metadata": {},
          "execution_count": 72
        }
      ]
    },
    {
      "cell_type": "code",
      "source": [
        "set_ = {1,1,1} # у множества должны быть уникальные ключи\n",
        "set_.add(2)\n",
        "set_"
      ],
      "metadata": {
        "id": "vNPh7g6qWr51"
      },
      "execution_count": null,
      "outputs": []
    },
    {
      "cell_type": "code",
      "source": [
        "## Логические выражения\n",
        "print(f\"\"\"{ {'1','2','3'} | {'5', '6', '7'} }\n",
        "{ {'1','2','3'} & {'3', '2', '1'} }\n",
        "\"\"\")"
      ],
      "metadata": {
        "colab": {
          "base_uri": "https://localhost:8080/"
        },
        "id": "5erqzu4UWzeD",
        "outputId": "56b41d23-879a-4559-ba93-3d12b0792263"
      },
      "execution_count": null,
      "outputs": [
        {
          "output_type": "stream",
          "name": "stdout",
          "text": [
            "{'3', '1', '6', '2', '5', '7'}\n",
            "{'2', '3', '1'}\n",
            "\n"
          ]
        }
      ]
    },
    {
      "cell_type": "code",
      "source": [
        "d = {'a':1, 'b':2}\n",
        "set_ = {'a', 'b', 'c'}\n",
        "d.items() | set_"
      ],
      "metadata": {
        "colab": {
          "base_uri": "https://localhost:8080/"
        },
        "id": "01PhBKD_YpuO",
        "outputId": "41ada41a-75f1-4ec9-805d-c0c0c2180ccc"
      },
      "execution_count": null,
      "outputs": [
        {
          "output_type": "execute_result",
          "data": {
            "text/plain": [
              "{('a', 1), ('b', 2), 'a', 'b', 'c'}"
            ]
          },
          "metadata": {},
          "execution_count": 96
        }
      ]
    },
    {
      "cell_type": "code",
      "source": [
        "dict(d.items() | {('c',3), ('d',4)})"
      ],
      "metadata": {
        "colab": {
          "base_uri": "https://localhost:8080/"
        },
        "id": "ebWC8aieZO9G",
        "outputId": "c2836f51-26c1-46a3-996b-9da0b43e39c0"
      },
      "execution_count": null,
      "outputs": [
        {
          "output_type": "execute_result",
          "data": {
            "text/plain": [
              "{'b': 2, 'c': 3, 'a': 1, 'd': 4}"
            ]
          },
          "metadata": {},
          "execution_count": 102
        }
      ]
    },
    {
      "cell_type": "code",
      "source": [
        "for i, k in enumerate(sorted(d)):\n",
        "  print(i,k)"
      ],
      "metadata": {
        "colab": {
          "base_uri": "https://localhost:8080/"
        },
        "id": "9o7J6RqfaokB",
        "outputId": "36152b66-5d22-4604-f62c-094e05f3a671"
      },
      "execution_count": null,
      "outputs": [
        {
          "output_type": "stream",
          "name": "stdout",
          "text": [
            "0 a\n",
            "1 b\n"
          ]
        }
      ]
    },
    {
      "cell_type": "code",
      "source": [
        "for i, k in d.items():\n",
        "  print(i,k)"
      ],
      "metadata": {
        "colab": {
          "base_uri": "https://localhost:8080/"
        },
        "id": "ScAfP93Xby_0",
        "outputId": "252da2e9-7585-4cd8-d199-93ef05a3c6b2"
      },
      "execution_count": null,
      "outputs": [
        {
          "output_type": "stream",
          "name": "stdout",
          "text": [
            "a 1\n",
            "b 2\n"
          ]
        }
      ]
    },
    {
      "cell_type": "code",
      "source": [
        "d.get('a')"
      ],
      "metadata": {
        "colab": {
          "base_uri": "https://localhost:8080/",
          "height": 169
        },
        "id": "nkiQVhQDcLRv",
        "outputId": "bc7b190e-e100-45ac-ef5a-8438f129e9a9"
      },
      "execution_count": null,
      "outputs": [
        {
          "output_type": "error",
          "ename": "NameError",
          "evalue": "ignored",
          "traceback": [
            "\u001b[0;31m---------------------------------------------------------------------------\u001b[0m",
            "\u001b[0;31mNameError\u001b[0m                                 Traceback (most recent call last)",
            "\u001b[0;32m<ipython-input-1-2c0c2d9f50e9>\u001b[0m in \u001b[0;36m<cell line: 1>\u001b[0;34m()\u001b[0m\n\u001b[0;32m----> 1\u001b[0;31m \u001b[0md\u001b[0m\u001b[0;34m.\u001b[0m\u001b[0mget\u001b[0m\u001b[0;34m(\u001b[0m\u001b[0;34m'a'\u001b[0m\u001b[0;34m)\u001b[0m\u001b[0;34m\u001b[0m\u001b[0;34m\u001b[0m\u001b[0m\n\u001b[0m",
            "\u001b[0;31mNameError\u001b[0m: name 'd' is not defined"
          ]
        }
      ]
    },
    {
      "cell_type": "markdown",
      "source": [
        "# Опреаторы и синтаксис\n",
        "(присваивания, выражений и вывода)\n",
        "## Операторы выражений\n",
        "Результат выражения не сохраняется, поступать так имеет смысл, толь­ ко когда выражение делает что-то полезное в виде побочного эффекта. Выражения используются как операторы обычно в:\n",
        "* 1) Для вызова функций `spam(eggs, ham)`, процедур \n",
        "* 2) Вызов метода `spam.ham(eggs)`\n",
        "* 3) `spam` вывод переменных в интерактивном интерпретаторе\n",
        "* 4) `print(a, b, c, sep='')` вывод результатов операций \n",
        "* 5) `yield x ** 2` выдача значений в операторах выражений "
      ],
      "metadata": {
        "id": "wJJ1I3j_Rx1r"
      }
    },
    {
      "cell_type": "markdown",
      "source": [
        "# Итераторы и генераторы\n",
        "`range`, `zip`, `map`, `items` - итерируемые объекты, а вот `dataloader` -  иттератор, `items` - генератор\n",
        "\n",
        " цикл for может работать с любым типом последовательности в Python, включая списки, кортежи и строки. Итераторы работают внутри Python со скоростью скомпилированного кода С, а версия с циклом while запускает байт-код Python че­ рез виртуальную машину Python"
      ],
      "metadata": {
        "id": "Ij3K0_jRsvxY"
      }
    },
    {
      "cell_type": "code",
      "source": [
        "r = range(10) # итерируемый объект # The range object is iterable. However, it's not an iterator.\n",
        "r_ = iter(range(10)) # итератор, Получение объекта итератора из итерируемого объекта\n",
        "next(r_) # Продвижение на следующий результат\n",
        "print(next(iter(r)), next(iter(r)), next(r_), next(r_))"
      ],
      "metadata": {
        "colab": {
          "base_uri": "https://localhost:8080/"
        },
        "id": "iHGlAZgL3PoK",
        "outputId": "a617abc2-fdec-4657-cecc-107e2eac2901"
      },
      "execution_count": null,
      "outputs": [
        {
          "output_type": "stream",
          "name": "stdout",
          "text": [
            "0 0 0 1\n"
          ]
        }
      ]
    },
    {
      "cell_type": "code",
      "source": [
        "k, v = ['a', 'b', 'c'], [1,2,3]\n",
        "d = dict(zip(k, v))\n",
        "d.items()"
      ],
      "metadata": {
        "colab": {
          "base_uri": "https://localhost:8080/"
        },
        "id": "ToLoUFkB7W0d",
        "outputId": "33b8e13b-9a76-428b-98b5-16d09a83e80b"
      },
      "execution_count": null,
      "outputs": [
        {
          "output_type": "execute_result",
          "data": {
            "text/plain": [
              "dict_items([('a', 1), ('b', 2), ('c', 3)])"
            ]
          },
          "metadata": {},
          "execution_count": 10
        }
      ]
    },
    {
      "cell_type": "code",
      "source": [
        "next(iter(d.items()))"
      ],
      "metadata": {
        "colab": {
          "base_uri": "https://localhost:8080/"
        },
        "id": "Js-FKAeX7qgn",
        "outputId": "c689aaed-c041-4c49-d818-0e473c06b8f6"
      },
      "execution_count": null,
      "outputs": [
        {
          "output_type": "execute_result",
          "data": {
            "text/plain": [
              "('a', 1)"
            ]
          },
          "metadata": {},
          "execution_count": 12
        }
      ]
    },
    {
      "cell_type": "code",
      "source": [
        "# встроенная функция range - возвращает итерируемый объект, который генерирует числа в диапазоне по запросу вместо \n",
        "# построения результирующего списка в памяти, range допускает множество итераторов (итератор с множеством проходов), \n",
        "# а zip, map, filter - нет (c одним проходом)\n",
        "r, z = range(10), zip([1,2,3],[4,5,6])\n",
        "r_1, z_1 = iter(r), iter(z)\n",
        "r_2, z_2 = iter(r), iter(z)\n",
        "print(next(r_1), next(r_2), next(z_1), next(z_2))"
      ],
      "metadata": {
        "colab": {
          "base_uri": "https://localhost:8080/"
        },
        "id": "kmsKaMFj0Ic8",
        "outputId": "cd464377-4c27-4642-d931-78f186bf7c4b"
      },
      "execution_count": null,
      "outputs": [
        {
          "output_type": "stream",
          "name": "stdout",
          "text": [
            "0 0 (1, 4) (2, 5)\n"
          ]
        }
      ]
    },
    {
      "cell_type": "markdown",
      "source": [
        "# DataFrame"
      ],
      "metadata": {
        "id": "QtqUKOb7Snmd"
      }
    },
    {
      "cell_type": "code",
      "source": [
        "# import datetime\n",
        "# x = datetime.datetime(2020, 5, 17)\n",
        "df = pd.DataFrame([[1,'a',3,pd.Timestamp(year=2023,month=1,day=1)],\n",
        "                   [4,'B',5,pd.Timestamp(year=2023,month=2,day=1)],\n",
        "                   [6,'c',7,pd.Timestamp.now()]],\n",
        "                  columns=['int1','str1','int2','date'])"
      ],
      "metadata": {
        "id": "a-XhlzH5T_hl"
      },
      "execution_count": null,
      "outputs": []
    },
    {
      "cell_type": "code",
      "source": [
        "df.info()"
      ],
      "metadata": {
        "colab": {
          "base_uri": "https://localhost:8080/"
        },
        "id": "8aXWzx4ESp-P",
        "outputId": "3656ecb3-08cb-434b-d83d-2d3195962a45"
      },
      "execution_count": null,
      "outputs": [
        {
          "output_type": "stream",
          "name": "stdout",
          "text": [
            "<class 'pandas.core.frame.DataFrame'>\n",
            "RangeIndex: 3 entries, 0 to 2\n",
            "Data columns (total 4 columns):\n",
            " #   Column  Non-Null Count  Dtype         \n",
            "---  ------  --------------  -----         \n",
            " 0   int1    3 non-null      int64         \n",
            " 1   str1    3 non-null      object        \n",
            " 2   int2    3 non-null      int64         \n",
            " 3   date    3 non-null      datetime64[ns]\n",
            "dtypes: datetime64[ns](1), int64(2), object(1)\n",
            "memory usage: 224.0+ bytes\n"
          ]
        }
      ]
    },
    {
      "cell_type": "code",
      "source": [
        "df['str1'].str.lower()"
      ],
      "metadata": {
        "colab": {
          "base_uri": "https://localhost:8080/"
        },
        "id": "CbkKoCWQUiGU",
        "outputId": "36134582-77c9-474f-ed8d-b44b77fb85a7"
      },
      "execution_count": null,
      "outputs": [
        {
          "output_type": "execute_result",
          "data": {
            "text/plain": [
              "0    a\n",
              "1    b\n",
              "2    c\n",
              "Name: str1, dtype: object"
            ]
          },
          "metadata": {},
          "execution_count": 24
        }
      ]
    },
    {
      "cell_type": "code",
      "source": [
        "df.rename(columns={'int1':'float1'})"
      ],
      "metadata": {
        "colab": {
          "base_uri": "https://localhost:8080/",
          "height": 143
        },
        "id": "eGCbU8LwUt8L",
        "outputId": "47127eec-f1e4-40f0-b7b9-a350802f9ede"
      },
      "execution_count": null,
      "outputs": [
        {
          "output_type": "execute_result",
          "data": {
            "text/plain": [
              "   float1 str1  int2                       date\n",
              "0       1    a     3 2023-01-01 00:00:00.000000\n",
              "1       4    B     5 2023-02-01 00:00:00.000000\n",
              "2       6    c     7 2023-03-16 07:38:13.945314"
            ],
            "text/html": [
              "\n",
              "  <div id=\"df-454f38cd-eeeb-43b2-9cd6-8317726dbc32\">\n",
              "    <div class=\"colab-df-container\">\n",
              "      <div>\n",
              "<style scoped>\n",
              "    .dataframe tbody tr th:only-of-type {\n",
              "        vertical-align: middle;\n",
              "    }\n",
              "\n",
              "    .dataframe tbody tr th {\n",
              "        vertical-align: top;\n",
              "    }\n",
              "\n",
              "    .dataframe thead th {\n",
              "        text-align: right;\n",
              "    }\n",
              "</style>\n",
              "<table border=\"1\" class=\"dataframe\">\n",
              "  <thead>\n",
              "    <tr style=\"text-align: right;\">\n",
              "      <th></th>\n",
              "      <th>float1</th>\n",
              "      <th>str1</th>\n",
              "      <th>int2</th>\n",
              "      <th>date</th>\n",
              "    </tr>\n",
              "  </thead>\n",
              "  <tbody>\n",
              "    <tr>\n",
              "      <th>0</th>\n",
              "      <td>1</td>\n",
              "      <td>a</td>\n",
              "      <td>3</td>\n",
              "      <td>2023-01-01 00:00:00.000000</td>\n",
              "    </tr>\n",
              "    <tr>\n",
              "      <th>1</th>\n",
              "      <td>4</td>\n",
              "      <td>B</td>\n",
              "      <td>5</td>\n",
              "      <td>2023-02-01 00:00:00.000000</td>\n",
              "    </tr>\n",
              "    <tr>\n",
              "      <th>2</th>\n",
              "      <td>6</td>\n",
              "      <td>c</td>\n",
              "      <td>7</td>\n",
              "      <td>2023-03-16 07:38:13.945314</td>\n",
              "    </tr>\n",
              "  </tbody>\n",
              "</table>\n",
              "</div>\n",
              "      <button class=\"colab-df-convert\" onclick=\"convertToInteractive('df-454f38cd-eeeb-43b2-9cd6-8317726dbc32')\"\n",
              "              title=\"Convert this dataframe to an interactive table.\"\n",
              "              style=\"display:none;\">\n",
              "        \n",
              "  <svg xmlns=\"http://www.w3.org/2000/svg\" height=\"24px\"viewBox=\"0 0 24 24\"\n",
              "       width=\"24px\">\n",
              "    <path d=\"M0 0h24v24H0V0z\" fill=\"none\"/>\n",
              "    <path d=\"M18.56 5.44l.94 2.06.94-2.06 2.06-.94-2.06-.94-.94-2.06-.94 2.06-2.06.94zm-11 1L8.5 8.5l.94-2.06 2.06-.94-2.06-.94L8.5 2.5l-.94 2.06-2.06.94zm10 10l.94 2.06.94-2.06 2.06-.94-2.06-.94-.94-2.06-.94 2.06-2.06.94z\"/><path d=\"M17.41 7.96l-1.37-1.37c-.4-.4-.92-.59-1.43-.59-.52 0-1.04.2-1.43.59L10.3 9.45l-7.72 7.72c-.78.78-.78 2.05 0 2.83L4 21.41c.39.39.9.59 1.41.59.51 0 1.02-.2 1.41-.59l7.78-7.78 2.81-2.81c.8-.78.8-2.07 0-2.86zM5.41 20L4 18.59l7.72-7.72 1.47 1.35L5.41 20z\"/>\n",
              "  </svg>\n",
              "      </button>\n",
              "      \n",
              "  <style>\n",
              "    .colab-df-container {\n",
              "      display:flex;\n",
              "      flex-wrap:wrap;\n",
              "      gap: 12px;\n",
              "    }\n",
              "\n",
              "    .colab-df-convert {\n",
              "      background-color: #E8F0FE;\n",
              "      border: none;\n",
              "      border-radius: 50%;\n",
              "      cursor: pointer;\n",
              "      display: none;\n",
              "      fill: #1967D2;\n",
              "      height: 32px;\n",
              "      padding: 0 0 0 0;\n",
              "      width: 32px;\n",
              "    }\n",
              "\n",
              "    .colab-df-convert:hover {\n",
              "      background-color: #E2EBFA;\n",
              "      box-shadow: 0px 1px 2px rgba(60, 64, 67, 0.3), 0px 1px 3px 1px rgba(60, 64, 67, 0.15);\n",
              "      fill: #174EA6;\n",
              "    }\n",
              "\n",
              "    [theme=dark] .colab-df-convert {\n",
              "      background-color: #3B4455;\n",
              "      fill: #D2E3FC;\n",
              "    }\n",
              "\n",
              "    [theme=dark] .colab-df-convert:hover {\n",
              "      background-color: #434B5C;\n",
              "      box-shadow: 0px 1px 3px 1px rgba(0, 0, 0, 0.15);\n",
              "      filter: drop-shadow(0px 1px 2px rgba(0, 0, 0, 0.3));\n",
              "      fill: #FFFFFF;\n",
              "    }\n",
              "  </style>\n",
              "\n",
              "      <script>\n",
              "        const buttonEl =\n",
              "          document.querySelector('#df-454f38cd-eeeb-43b2-9cd6-8317726dbc32 button.colab-df-convert');\n",
              "        buttonEl.style.display =\n",
              "          google.colab.kernel.accessAllowed ? 'block' : 'none';\n",
              "\n",
              "        async function convertToInteractive(key) {\n",
              "          const element = document.querySelector('#df-454f38cd-eeeb-43b2-9cd6-8317726dbc32');\n",
              "          const dataTable =\n",
              "            await google.colab.kernel.invokeFunction('convertToInteractive',\n",
              "                                                     [key], {});\n",
              "          if (!dataTable) return;\n",
              "\n",
              "          const docLinkHtml = 'Like what you see? Visit the ' +\n",
              "            '<a target=\"_blank\" href=https://colab.research.google.com/notebooks/data_table.ipynb>data table notebook</a>'\n",
              "            + ' to learn more about interactive tables.';\n",
              "          element.innerHTML = '';\n",
              "          dataTable['output_type'] = 'display_data';\n",
              "          await google.colab.output.renderOutput(dataTable, element);\n",
              "          const docLink = document.createElement('div');\n",
              "          docLink.innerHTML = docLinkHtml;\n",
              "          element.appendChild(docLink);\n",
              "        }\n",
              "      </script>\n",
              "    </div>\n",
              "  </div>\n",
              "  "
            ]
          },
          "metadata": {},
          "execution_count": 25
        }
      ]
    },
    {
      "cell_type": "code",
      "source": [
        "df.describe()"
      ],
      "metadata": {
        "colab": {
          "base_uri": "https://localhost:8080/",
          "height": 300
        },
        "id": "pR_OV9BCVQUC",
        "outputId": "eb69dd4f-6a8c-4dae-eb27-0839c2221753"
      },
      "execution_count": null,
      "outputs": [
        {
          "output_type": "execute_result",
          "data": {
            "text/plain": [
              "           int1  int2\n",
              "count  3.000000   3.0\n",
              "mean   3.666667   5.0\n",
              "std    2.516611   2.0\n",
              "min    1.000000   3.0\n",
              "25%    2.500000   4.0\n",
              "50%    4.000000   5.0\n",
              "75%    5.000000   6.0\n",
              "max    6.000000   7.0"
            ],
            "text/html": [
              "\n",
              "  <div id=\"df-e378e5b2-0802-4595-a30d-340d8f477c0a\">\n",
              "    <div class=\"colab-df-container\">\n",
              "      <div>\n",
              "<style scoped>\n",
              "    .dataframe tbody tr th:only-of-type {\n",
              "        vertical-align: middle;\n",
              "    }\n",
              "\n",
              "    .dataframe tbody tr th {\n",
              "        vertical-align: top;\n",
              "    }\n",
              "\n",
              "    .dataframe thead th {\n",
              "        text-align: right;\n",
              "    }\n",
              "</style>\n",
              "<table border=\"1\" class=\"dataframe\">\n",
              "  <thead>\n",
              "    <tr style=\"text-align: right;\">\n",
              "      <th></th>\n",
              "      <th>int1</th>\n",
              "      <th>int2</th>\n",
              "    </tr>\n",
              "  </thead>\n",
              "  <tbody>\n",
              "    <tr>\n",
              "      <th>count</th>\n",
              "      <td>3.000000</td>\n",
              "      <td>3.0</td>\n",
              "    </tr>\n",
              "    <tr>\n",
              "      <th>mean</th>\n",
              "      <td>3.666667</td>\n",
              "      <td>5.0</td>\n",
              "    </tr>\n",
              "    <tr>\n",
              "      <th>std</th>\n",
              "      <td>2.516611</td>\n",
              "      <td>2.0</td>\n",
              "    </tr>\n",
              "    <tr>\n",
              "      <th>min</th>\n",
              "      <td>1.000000</td>\n",
              "      <td>3.0</td>\n",
              "    </tr>\n",
              "    <tr>\n",
              "      <th>25%</th>\n",
              "      <td>2.500000</td>\n",
              "      <td>4.0</td>\n",
              "    </tr>\n",
              "    <tr>\n",
              "      <th>50%</th>\n",
              "      <td>4.000000</td>\n",
              "      <td>5.0</td>\n",
              "    </tr>\n",
              "    <tr>\n",
              "      <th>75%</th>\n",
              "      <td>5.000000</td>\n",
              "      <td>6.0</td>\n",
              "    </tr>\n",
              "    <tr>\n",
              "      <th>max</th>\n",
              "      <td>6.000000</td>\n",
              "      <td>7.0</td>\n",
              "    </tr>\n",
              "  </tbody>\n",
              "</table>\n",
              "</div>\n",
              "      <button class=\"colab-df-convert\" onclick=\"convertToInteractive('df-e378e5b2-0802-4595-a30d-340d8f477c0a')\"\n",
              "              title=\"Convert this dataframe to an interactive table.\"\n",
              "              style=\"display:none;\">\n",
              "        \n",
              "  <svg xmlns=\"http://www.w3.org/2000/svg\" height=\"24px\"viewBox=\"0 0 24 24\"\n",
              "       width=\"24px\">\n",
              "    <path d=\"M0 0h24v24H0V0z\" fill=\"none\"/>\n",
              "    <path d=\"M18.56 5.44l.94 2.06.94-2.06 2.06-.94-2.06-.94-.94-2.06-.94 2.06-2.06.94zm-11 1L8.5 8.5l.94-2.06 2.06-.94-2.06-.94L8.5 2.5l-.94 2.06-2.06.94zm10 10l.94 2.06.94-2.06 2.06-.94-2.06-.94-.94-2.06-.94 2.06-2.06.94z\"/><path d=\"M17.41 7.96l-1.37-1.37c-.4-.4-.92-.59-1.43-.59-.52 0-1.04.2-1.43.59L10.3 9.45l-7.72 7.72c-.78.78-.78 2.05 0 2.83L4 21.41c.39.39.9.59 1.41.59.51 0 1.02-.2 1.41-.59l7.78-7.78 2.81-2.81c.8-.78.8-2.07 0-2.86zM5.41 20L4 18.59l7.72-7.72 1.47 1.35L5.41 20z\"/>\n",
              "  </svg>\n",
              "      </button>\n",
              "      \n",
              "  <style>\n",
              "    .colab-df-container {\n",
              "      display:flex;\n",
              "      flex-wrap:wrap;\n",
              "      gap: 12px;\n",
              "    }\n",
              "\n",
              "    .colab-df-convert {\n",
              "      background-color: #E8F0FE;\n",
              "      border: none;\n",
              "      border-radius: 50%;\n",
              "      cursor: pointer;\n",
              "      display: none;\n",
              "      fill: #1967D2;\n",
              "      height: 32px;\n",
              "      padding: 0 0 0 0;\n",
              "      width: 32px;\n",
              "    }\n",
              "\n",
              "    .colab-df-convert:hover {\n",
              "      background-color: #E2EBFA;\n",
              "      box-shadow: 0px 1px 2px rgba(60, 64, 67, 0.3), 0px 1px 3px 1px rgba(60, 64, 67, 0.15);\n",
              "      fill: #174EA6;\n",
              "    }\n",
              "\n",
              "    [theme=dark] .colab-df-convert {\n",
              "      background-color: #3B4455;\n",
              "      fill: #D2E3FC;\n",
              "    }\n",
              "\n",
              "    [theme=dark] .colab-df-convert:hover {\n",
              "      background-color: #434B5C;\n",
              "      box-shadow: 0px 1px 3px 1px rgba(0, 0, 0, 0.15);\n",
              "      filter: drop-shadow(0px 1px 2px rgba(0, 0, 0, 0.3));\n",
              "      fill: #FFFFFF;\n",
              "    }\n",
              "  </style>\n",
              "\n",
              "      <script>\n",
              "        const buttonEl =\n",
              "          document.querySelector('#df-e378e5b2-0802-4595-a30d-340d8f477c0a button.colab-df-convert');\n",
              "        buttonEl.style.display =\n",
              "          google.colab.kernel.accessAllowed ? 'block' : 'none';\n",
              "\n",
              "        async function convertToInteractive(key) {\n",
              "          const element = document.querySelector('#df-e378e5b2-0802-4595-a30d-340d8f477c0a');\n",
              "          const dataTable =\n",
              "            await google.colab.kernel.invokeFunction('convertToInteractive',\n",
              "                                                     [key], {});\n",
              "          if (!dataTable) return;\n",
              "\n",
              "          const docLinkHtml = 'Like what you see? Visit the ' +\n",
              "            '<a target=\"_blank\" href=https://colab.research.google.com/notebooks/data_table.ipynb>data table notebook</a>'\n",
              "            + ' to learn more about interactive tables.';\n",
              "          element.innerHTML = '';\n",
              "          dataTable['output_type'] = 'display_data';\n",
              "          await google.colab.output.renderOutput(dataTable, element);\n",
              "          const docLink = document.createElement('div');\n",
              "          docLink.innerHTML = docLinkHtml;\n",
              "          element.appendChild(docLink);\n",
              "        }\n",
              "      </script>\n",
              "    </div>\n",
              "  </div>\n",
              "  "
            ]
          },
          "metadata": {},
          "execution_count": 26
        }
      ]
    },
    {
      "cell_type": "code",
      "source": [
        "mask1 = df.int1 == 1\n",
        "mask2 = df.int2 == 3\n",
        "df[mask1 & mask2]"
      ],
      "metadata": {
        "colab": {
          "base_uri": "https://localhost:8080/",
          "height": 81
        },
        "id": "hR_15WaIXNdX",
        "outputId": "6ee04b87-a7d9-4c11-ce68-4162b3219719"
      },
      "execution_count": null,
      "outputs": [
        {
          "output_type": "execute_result",
          "data": {
            "text/plain": [
              "   int1 str1  int2       date\n",
              "0     1    a     3 2023-01-01"
            ],
            "text/html": [
              "\n",
              "  <div id=\"df-825b0713-e461-4d04-abc4-8a9a6f10f2a9\">\n",
              "    <div class=\"colab-df-container\">\n",
              "      <div>\n",
              "<style scoped>\n",
              "    .dataframe tbody tr th:only-of-type {\n",
              "        vertical-align: middle;\n",
              "    }\n",
              "\n",
              "    .dataframe tbody tr th {\n",
              "        vertical-align: top;\n",
              "    }\n",
              "\n",
              "    .dataframe thead th {\n",
              "        text-align: right;\n",
              "    }\n",
              "</style>\n",
              "<table border=\"1\" class=\"dataframe\">\n",
              "  <thead>\n",
              "    <tr style=\"text-align: right;\">\n",
              "      <th></th>\n",
              "      <th>int1</th>\n",
              "      <th>str1</th>\n",
              "      <th>int2</th>\n",
              "      <th>date</th>\n",
              "    </tr>\n",
              "  </thead>\n",
              "  <tbody>\n",
              "    <tr>\n",
              "      <th>0</th>\n",
              "      <td>1</td>\n",
              "      <td>a</td>\n",
              "      <td>3</td>\n",
              "      <td>2023-01-01</td>\n",
              "    </tr>\n",
              "  </tbody>\n",
              "</table>\n",
              "</div>\n",
              "      <button class=\"colab-df-convert\" onclick=\"convertToInteractive('df-825b0713-e461-4d04-abc4-8a9a6f10f2a9')\"\n",
              "              title=\"Convert this dataframe to an interactive table.\"\n",
              "              style=\"display:none;\">\n",
              "        \n",
              "  <svg xmlns=\"http://www.w3.org/2000/svg\" height=\"24px\"viewBox=\"0 0 24 24\"\n",
              "       width=\"24px\">\n",
              "    <path d=\"M0 0h24v24H0V0z\" fill=\"none\"/>\n",
              "    <path d=\"M18.56 5.44l.94 2.06.94-2.06 2.06-.94-2.06-.94-.94-2.06-.94 2.06-2.06.94zm-11 1L8.5 8.5l.94-2.06 2.06-.94-2.06-.94L8.5 2.5l-.94 2.06-2.06.94zm10 10l.94 2.06.94-2.06 2.06-.94-2.06-.94-.94-2.06-.94 2.06-2.06.94z\"/><path d=\"M17.41 7.96l-1.37-1.37c-.4-.4-.92-.59-1.43-.59-.52 0-1.04.2-1.43.59L10.3 9.45l-7.72 7.72c-.78.78-.78 2.05 0 2.83L4 21.41c.39.39.9.59 1.41.59.51 0 1.02-.2 1.41-.59l7.78-7.78 2.81-2.81c.8-.78.8-2.07 0-2.86zM5.41 20L4 18.59l7.72-7.72 1.47 1.35L5.41 20z\"/>\n",
              "  </svg>\n",
              "      </button>\n",
              "      \n",
              "  <style>\n",
              "    .colab-df-container {\n",
              "      display:flex;\n",
              "      flex-wrap:wrap;\n",
              "      gap: 12px;\n",
              "    }\n",
              "\n",
              "    .colab-df-convert {\n",
              "      background-color: #E8F0FE;\n",
              "      border: none;\n",
              "      border-radius: 50%;\n",
              "      cursor: pointer;\n",
              "      display: none;\n",
              "      fill: #1967D2;\n",
              "      height: 32px;\n",
              "      padding: 0 0 0 0;\n",
              "      width: 32px;\n",
              "    }\n",
              "\n",
              "    .colab-df-convert:hover {\n",
              "      background-color: #E2EBFA;\n",
              "      box-shadow: 0px 1px 2px rgba(60, 64, 67, 0.3), 0px 1px 3px 1px rgba(60, 64, 67, 0.15);\n",
              "      fill: #174EA6;\n",
              "    }\n",
              "\n",
              "    [theme=dark] .colab-df-convert {\n",
              "      background-color: #3B4455;\n",
              "      fill: #D2E3FC;\n",
              "    }\n",
              "\n",
              "    [theme=dark] .colab-df-convert:hover {\n",
              "      background-color: #434B5C;\n",
              "      box-shadow: 0px 1px 3px 1px rgba(0, 0, 0, 0.15);\n",
              "      filter: drop-shadow(0px 1px 2px rgba(0, 0, 0, 0.3));\n",
              "      fill: #FFFFFF;\n",
              "    }\n",
              "  </style>\n",
              "\n",
              "      <script>\n",
              "        const buttonEl =\n",
              "          document.querySelector('#df-825b0713-e461-4d04-abc4-8a9a6f10f2a9 button.colab-df-convert');\n",
              "        buttonEl.style.display =\n",
              "          google.colab.kernel.accessAllowed ? 'block' : 'none';\n",
              "\n",
              "        async function convertToInteractive(key) {\n",
              "          const element = document.querySelector('#df-825b0713-e461-4d04-abc4-8a9a6f10f2a9');\n",
              "          const dataTable =\n",
              "            await google.colab.kernel.invokeFunction('convertToInteractive',\n",
              "                                                     [key], {});\n",
              "          if (!dataTable) return;\n",
              "\n",
              "          const docLinkHtml = 'Like what you see? Visit the ' +\n",
              "            '<a target=\"_blank\" href=https://colab.research.google.com/notebooks/data_table.ipynb>data table notebook</a>'\n",
              "            + ' to learn more about interactive tables.';\n",
              "          element.innerHTML = '';\n",
              "          dataTable['output_type'] = 'display_data';\n",
              "          await google.colab.output.renderOutput(dataTable, element);\n",
              "          const docLink = document.createElement('div');\n",
              "          docLink.innerHTML = docLinkHtml;\n",
              "          element.appendChild(docLink);\n",
              "        }\n",
              "      </script>\n",
              "    </div>\n",
              "  </div>\n",
              "  "
            ]
          },
          "metadata": {},
          "execution_count": 34
        }
      ]
    },
    {
      "cell_type": "code",
      "source": [
        "df.date.dt.year"
      ],
      "metadata": {
        "colab": {
          "base_uri": "https://localhost:8080/"
        },
        "id": "nnv5s-dMYMjM",
        "outputId": "d861ec25-0918-49a7-cdfc-155a725e3a4d"
      },
      "execution_count": null,
      "outputs": [
        {
          "output_type": "execute_result",
          "data": {
            "text/plain": [
              "0    2023\n",
              "1    2023\n",
              "2    2023\n",
              "Name: date, dtype: int64"
            ]
          },
          "metadata": {},
          "execution_count": 29
        }
      ]
    },
    {
      "cell_type": "code",
      "source": [
        "print(f'''{df.int1.unique()} \n",
        "{df.int1.nunique()}''')"
      ],
      "metadata": {
        "colab": {
          "base_uri": "https://localhost:8080/"
        },
        "id": "od1RRAZVY-OO",
        "outputId": "9922fd61-d042-48d3-91f8-9c3b826764cf"
      },
      "execution_count": null,
      "outputs": [
        {
          "output_type": "stream",
          "name": "stdout",
          "text": [
            "[1 4 6]\n",
            "3\n"
          ]
        }
      ]
    },
    {
      "cell_type": "code",
      "source": [
        "datetime.today().strftime('%Y_%m_%d')"
      ],
      "metadata": {
        "colab": {
          "base_uri": "https://localhost:8080/",
          "height": 35
        },
        "id": "549JR5fmoLjv",
        "outputId": "56a09276-8e55-4450-cd8e-95dbddfa11a5"
      },
      "execution_count": null,
      "outputs": [
        {
          "output_type": "execute_result",
          "data": {
            "text/plain": [
              "'2023_03_16'"
            ],
            "application/vnd.google.colaboratory.intrinsic+json": {
              "type": "string"
            }
          },
          "metadata": {},
          "execution_count": 50
        }
      ]
    },
    {
      "cell_type": "markdown",
      "source": [
        "# Task of gradient descent for linear regression\n",
        "## ONE dimentional case"
      ],
      "metadata": {
        "id": "tuK6q1iIzkpb"
      }
    },
    {
      "cell_type": "code",
      "source": [
        "n, m = int(1e4), 3 # размерность x\n",
        "x, y, coef = make_regression(n_samples=n, n_features=m,\n",
        "                       n_informative=m, noise=10, random_state=10, coef=True, bias=False)\n",
        "y = y.reshape(n, 1)\n",
        "\n",
        "fig, ax = plt.subplots(1,1, figsize=(14, 5))\n",
        "ax.plot(x, y, linestyle='', marker='o', markersize=4, c='b', label='y')\n",
        "ax.plot(x, coef*x, linestyle='-', marker='o', markersize=0, c='r', label='y_pred')\n",
        "ax.legend(loc='upper left', fontsize=8);"
      ],
      "metadata": {
        "colab": {
          "base_uri": "https://localhost:8080/",
          "height": 320
        },
        "id": "srItOheQzr59",
        "outputId": "0bab4501-d95f-4cf7-b642-f82e6e665186"
      },
      "execution_count": null,
      "outputs": [
        {
          "output_type": "display_data",
          "data": {
            "text/plain": [
              "<Figure size 1008x360 with 1 Axes>"
            ],
            "image/png": "[encoded data removed]"
          },
          "metadata": {
            "needs_background": "light"
          }
        }
      ]
    },
    {
      "cell_type": "code",
      "source": [
        "# Добавляем колонку единиц в x для симмуляции bias\n",
        "x_new = np.concatenate((np.ones((x.shape[0],1)), x),axis=1)"
      ],
      "metadata": {
        "id": "uXRr9Zad0cdQ"
      },
      "execution_count": null,
      "outputs": []
    },
    {
      "cell_type": "markdown",
      "source": [
        "## Normal equastion"
      ],
      "metadata": {
        "id": "GZGPE8AT5ZdT"
      }
    },
    {
      "cell_type": "code",
      "source": [
        "%%time\n",
        "### normal equestion\n",
        "# Matrix multiplication is O(n³), inversion is also O(n³). \n",
        "# This is actually slower than gradient descent for even modest sized datasets\n",
        "theta_best_values  = np.linalg.inv(x_new.T.dot(x_new)).dot(x_new.T).dot(y)\n",
        "theta_best_values"
      ],
      "metadata": {
        "colab": {
          "base_uri": "https://localhost:8080/"
        },
        "id": "aOwcI_984eje",
        "outputId": "cf7fdd05-4ff3-4a0c-8ac5-db2880680f4a"
      },
      "execution_count": null,
      "outputs": [
        {
          "output_type": "stream",
          "name": "stdout",
          "text": [
            "CPU times: user 1.52 ms, sys: 2.96 ms, total: 4.48 ms\n",
            "Wall time: 4.49 ms\n"
          ]
        },
        {
          "output_type": "execute_result",
          "data": {
            "text/plain": [
              "array([[ 0.10420723],\n",
              "       [59.08037742],\n",
              "       [17.41747938],\n",
              "       [93.2164548 ]])"
            ]
          },
          "metadata": {},
          "execution_count": 482
        }
      ]
    },
    {
      "cell_type": "code",
      "source": [
        "# Считаем для примера \n",
        "x_sample = np.array([[1, 1, 8],\n",
        "                     [2, 4, 18]])\n",
        "x_sample = np.concatenate((np.ones((x_sample.shape[0],1)), x_sample),axis=1)\n",
        "y_sample = x_sample.dot(theta_best_values)\n",
        "y_sample"
      ],
      "metadata": {
        "colab": {
          "base_uri": "https://localhost:8080/"
        },
        "id": "qe68ryaZ4xQE",
        "outputId": "9b530016-92ef-4e73-bee9-41b58090c5b7"
      },
      "execution_count": null,
      "outputs": [
        {
          "output_type": "execute_result",
          "data": {
            "text/plain": [
              "array([[ 822.33370246],\n",
              "       [1865.83106605]])"
            ]
          },
          "metadata": {},
          "execution_count": 483
        }
      ]
    },
    {
      "cell_type": "markdown",
      "source": [
        "## Gradient descent"
      ],
      "metadata": {
        "id": "Sdac5-nB5SpD"
      }
    },
    {
      "cell_type": "code",
      "source": [
        "%%time\n",
        "b, k, l, loss, theta = 0, 30, 1e-2, [], np.zeros((m+1,1))\n",
        "for i in range(1,1000,1):\n",
        "    y_pred = x_new.dot(theta)\n",
        "    loss.append(1/n*np.sum((y-y_pred)**2))\n",
        "    for i in range(0, m+1):\n",
        "        theta[i] = theta[i]-l*(2/n*np.sum((y_pred-y)*x_new[:,i].reshape(n,1)))    \n",
        "print(theta)\n",
        "plt.plot(np.array(loss))"
      ],
      "metadata": {
        "colab": {
          "base_uri": "https://localhost:8080/",
          "height": 390
        },
        "id": "frmKGlFq5VfO",
        "outputId": "9888c3e4-18bf-41c5-c7ea-657cdb65ddc0"
      },
      "execution_count": null,
      "outputs": [
        {
          "output_type": "stream",
          "name": "stdout",
          "text": [
            "[[ 0.10420725]\n",
            " [59.08037724]\n",
            " [17.41747932]\n",
            " [93.21645462]]\n",
            "CPU times: user 255 ms, sys: 186 ms, total: 440 ms\n",
            "Wall time: 236 ms\n"
          ]
        },
        {
          "output_type": "execute_result",
          "data": {
            "text/plain": [
              "[<matplotlib.lines.Line2D at 0x7f35c65d6af0>]"
            ]
          },
          "metadata": {},
          "execution_count": 484
        },
        {
          "output_type": "display_data",
          "data": {
            "text/plain": [
              "<Figure size 432x288 with 1 Axes>"
            ],
            "image/png": "[encoded data removed]"
          },
          "metadata": {
            "needs_background": "light"
          }
        }
      ]
    },
    {
      "cell_type": "markdown",
      "source": [
        "## Multidimentional case of linear regro\n",
        "## LINEAR CLASS"
      ],
      "metadata": {
        "id": "xBzs3E0v5ztQ"
      }
    },
    {
      "cell_type": "code",
      "source": [
        "class LinearRegression:\n",
        "  L=1e-3\n",
        "  def __init__(self, X: np.ndarray, y: np.ndarray):\n",
        "    self.X = X\n",
        "    self.X_new = np.concatenate((np.ones((X.shape[0],1)), X),axis=1)\n",
        "    self.y = y\n",
        "    self.theta = np.zeros((X.shape[1]+1,1))\n",
        "    self.loss = []\n",
        "\n",
        "  def predict(self):\n",
        "    y_pred = self.X_new.dot(self.theta)\n",
        "    return y_pred\n",
        "\n",
        "  def update_coef(self, l=L):\n",
        "    n = len(y)\n",
        "    for i in range(len(self.theta)):\n",
        "      y_pred = self.predict()\n",
        "      self.theta[i] = self.theta[i] - l*((2/n)*np.sum((y_pred-self.y)*self.X_new[:,i].reshape(n,1)))\n",
        "\n",
        "  def train(self, n=100, l=L):\n",
        "    for i in range(n):\n",
        "      self.loss.append(1/n*np.sum((self.predict()-self.y)**2))\n",
        "      self.update_coef(l)\n",
        "\n",
        "  def loss_plot(self):\n",
        "    fig, ax = plt.subplots(1,1, figsize=(10,4))\n",
        "    ax.plot(self.loss, linestyle='-', markersize=0, marker='o', c='b', label='loss')\n",
        "    ax.legend(loc='upper right', fontsize=8);"
      ],
      "metadata": {
        "id": "7286bX-X5_Ht"
      },
      "execution_count": null,
      "outputs": []
    },
    {
      "cell_type": "code",
      "source": [
        "np.linalg.inv(x_new.T.dot(x_new)).dot(x_new.T).dot(y)"
      ],
      "metadata": {
        "colab": {
          "base_uri": "https://localhost:8080/"
        },
        "id": "zKcsetNOcLZX",
        "outputId": "6303cf0d-bcf2-470f-f665-c5b36e45e455"
      },
      "execution_count": null,
      "outputs": [
        {
          "output_type": "execute_result",
          "data": {
            "text/plain": [
              "array([[ 0.10420723],\n",
              "       [59.08037742],\n",
              "       [17.41747938],\n",
              "       [93.2164548 ]])"
            ]
          },
          "metadata": {},
          "execution_count": 486
        }
      ]
    },
    {
      "cell_type": "code",
      "source": [
        "reg = LinearRegression(x, y)\n",
        "reg.train(1000, 1e-2)\n",
        "reg.theta"
      ],
      "metadata": {
        "colab": {
          "base_uri": "https://localhost:8080/"
        },
        "id": "DS7Xt2EFcxqN",
        "outputId": "823945a9-dde5-4ec5-a736-2fec9f62461d"
      },
      "execution_count": null,
      "outputs": [
        {
          "output_type": "execute_result",
          "data": {
            "text/plain": [
              "array([[ 0.10420725],\n",
              "       [59.08037724],\n",
              "       [17.41747933],\n",
              "       [93.21645462]])"
            ]
          },
          "metadata": {},
          "execution_count": 487
        }
      ]
    },
    {
      "cell_type": "code",
      "source": [
        "plt.plot(reg.loss)"
      ],
      "metadata": {
        "colab": {
          "base_uri": "https://localhost:8080/",
          "height": 283
        },
        "id": "CwKa65WlWJxR",
        "outputId": "da00c8d7-bd66-48aa-a146-a6ada3576dc1"
      },
      "execution_count": null,
      "outputs": [
        {
          "output_type": "execute_result",
          "data": {
            "text/plain": [
              "[<matplotlib.lines.Line2D at 0x7f35c66d32b0>]"
            ]
          },
          "metadata": {},
          "execution_count": 488
        },
        {
          "output_type": "display_data",
          "data": {
            "text/plain": [
              "<Figure size 432x288 with 1 Axes>"
            ],
            "image/png": "[encoded data removed]"
          },
          "metadata": {
            "needs_background": "light"
          }
        }
      ]
    },
    {
      "cell_type": "markdown",
      "source": [
        "# Сложность алгоритмов\n"
      ],
      "metadata": {
        "id": "LgGfjN2geZVr"
      }
    },
    {
      "cell_type": "markdown",
      "source": [
        "![Скриншот 26-04-2023 11.08.08.png](data:image/png;base64,iVBORw0KGgoAAAANSUhEUgAAAlUAAANoCAYAAADplR91AAAACXBIWXMAABJ0AAASdAHeZh94AAAgAElEQVR4nOzdf3RU9Z34/2cbvrOyHTc41u1YaAhrsBLoKbN0CayxlgCfj2FlJ1FCjUlOTaqE+jGpQkAZNAaU8QcBbUJpYttED4mhBA350iX2Swi1hCWh6056KsFK/CaOoV5XmcI6fklnk/L9Y+7M3Jm58yNhAKuvxzk5J5m5933f933f931f9/1+35svjI6OXkAIIYQQQlyUL17pDAghhBBCfBZIUCWEEEIIkQASVAkhhBBCJIAEVUIIIYQQCSBBlRBCCCFEAkhQJYQQQgiRABJUCSGEEEIkwOUJqsY8uJUBBk57LsvmJrS9y51HIYQQQnymTIp3QeWNdppbWjnSr+D2gCHZzOxvl7HhhxmYdJZ397XSeOA4vX0nUFzeQCX9gSZqpprj2FgvjT9upKNvANd5YLKJtLnZrPx+HlmpRt1VJrK9i8pjpDTf7qB5VzuHfHk3GDGn30JefgHWeRNPVwghhBCfbnEEVW4cO1azcZ+Ctg/Hc07B8cn/oB/igHvoCO1d/ePOkKevnhJbK4p2Y+ddDBxrxn6sgxPPNFA2L3yrE9neRPOoa8xN709WsymknPC4Ufo6qO3roH5eKTWP5ZEWqdCEEEII8Vcr5vCf6+BTakBlwHybjYb9nXR2dnJgXxNN983HEGE9c04NnZ2ddDaVkR53dhQ6fq4GVIZ0imv3eLdVX0q6AcBF+086cCZoexPLoz5nS7k/8DRlllHTdMCb9oE91NmspBnA80Y9NZ3KRW5JCCGEEJ9GMXqqFI78373enpfUAuwPZZGS5P3GYDRjTniPi4erv27F+nUgLZuCWd6BRcMNeRTcWs/Gg8CQwhkgJdGbvhiuDmpf9IZ6hvk26qqyAkOiBhNpWcWs7GzHflz9TGmnvLCWePvIrM90UkYtSx5uD/kmnbKmGqyEpqd+ro42ut/uoP6F5uCh25sLKP1+NmnJgdS8yzVyqM+FBzCYLCwuKaV0aRrGJACF9rJCak+G5OKBJmpyzHC6C/tj1XQ5PRhMBVTvKQ4PViPsu/WZTsrSHdQWrqP9XMjn88LLxPGjJazbH/Lh8q10/tAC7n4aH7XR+qYbkjMoq9tC9nWow8r1tL/hVMshBcvyUsqKMjAn6eRtVil133dTb2/F4fJgMFmwVmygdL4JcFC7ZB2hR0SPv3zGFHpf2EZt5wmUcx7vcVhSxtpV6vbdvdSWb6LdCcbUxVQ8tZbM6/T31Zem++1Wnnq0kV4XGOeWUlNt/XSdG0II8TkSPag6P8AJ3wV0poGBH5VT3tmvXpDSsVbYKF2YyHlCKWQ9UEZWyKeeoVaaX/f+blyeyewEbjERXEc7cABgxHp3ls4cMyNzv7+FLcvBkGKCySnMnmvGqQY5kRkw3Wgh7VqAFCxTTZw47Q14MBgxp87EPNlN94/rA4GAwYj5uulcO9n7p/uNWkoebselSdVzTsFxYBurOwfYeqAMC6AcWEfJdkfwEK/LQUf1anr/sJWGH1owYiTlGxbMHwTmoBlMacz8ihHc3djvs9OlJuBJm65/cZ9sZuaNZpxDvn03YJo6m5RrwflKrSagMmCamoLpav2SuXZmBmnmEzgVtzcATDYze/q1MOak+cFymod8S6Yw/Tr9YWXPOSe9TRtx9JXRsM2KOcmAyWQAdd84Wc/qiuDyaLUV4ny4iS1L9fMV0ZhC+9oSat8MZMBzTsHxykZK/qBu33g9pjHv9+6hDqrKDWxtKOPa6RbMyd5ADDRlrrRje7CefjVJt+laZNaeEEJcOdGH/86dwT9YdbAe+4F+fxDgOddP62Ml2F93X5qcKe2UL1nCkiVLWHZvPf0eA+Zb11LzgCXikOOV8u7/6wtp5jP7Bv1lTDdkkLEwA8tUAyRbKK2upti/rJWtnd5h1c7OTrYu932ezYadW8hOBVKtbH1pA9m+r24opnpnGRl/aqehSxMp3FBM9UtryUwGzndT85gaUM0qoGZPJ52/OkBdoRru+FZzdVG7wxtQGeYUq8vtoabQ28/k2r+Rmm4PYMSyaitND/tzQfbDdZQthO4aNaAypFPa2EnnE1n68+2SMyjbqd33bDa8tBXrl7tpelk7sJvNhpfqKLhRvzxTlm2hrrqYNPXvtKJqtuak4GyponEIwITVvo/OPaWkj/XT+IwaUF2Xhe2lA3T+6gBND3vz6HmzFtsrTrgum6o9BzTlbyLL1sSBX3Vy4CUbWcneQuuta6V/zLdMOmVNIUPIy7eGHEdwvmJTAyoT1ie8w9p7nrBiAjxv1lP3uhtIoaChk307C7xpfdjOU7v6ScnZSnVRmj8tb5l76KpRAypDBmubOul8OPNTd24IIcTnSdyvVDDckMfWPeo8oUbfHCcPXQ3tunOcLgX3GQX3+cu0sQm5mi9Nvpzbc9H1QnPE8vcc/43ac2TAek8x6SYgyUDaYiuWqWbMUw0wBu43DtGrLpddVKAuZyK9qBir7zj/5jiROtXcr9dg90ZUpP/ARt7XgKTx7Un/yzV0Re21i8NQM1XqMKwpZwOl843efLx9hI4PvYukf7eErKkGSDJgXlpC8Szv585/O6JTjreQnWXGkASGqVkU5qr9QOeO4HhvOtlPbGHLE8VkJIetCMD027ew5YktFP/TJxz5NzX1G/LIW+jtyzQttGKdCuCh+/envN8ngfHGYiru8Qa+rj3Vml63APfxRmqOe8s846G1ZJsZd5kLIYRIrLhfqZCWbcViUu+Dv5bH6pxmyve44XQvDqWAlESPO5it1HRaAfC810X1g3a63mym4lETDc9bP6XDHB/zyXngMgVWnjeaqTnuwZBVTN77jTSHzHVy/cnXz5hGylTNF1+zsvUlq/9P5wfv6i+XdD0pNwAngffP4IKwcm9/eElgXtGsYmzLJnBklHbq9rggtZjimxppfG38SfTvKGSJ74/kbNbeE+jR9PzXGXz9qTO/ps2fmZQ0vPt32hVzrl7KrAygHVBwnTGRtjDD31PGufDlTTdkkHEDgIPu0+qH79RTuKQ+fOFBJy4s/qHjlDvLsLato/2ck8Z7l9CoWTS4zEspW6r3UhMhhBCXW9w9Vc7/cgX9bfr7yzcd1vC1QC+B581D9H542TYdl+n/4Bv4Oc6Jd/SXcb3TS++xXhwJe7mok/YX23GTTmnJYt13hV12Hym8P+6exI/p/kUj/Rix/iCP9P8rAfk4/y6KTpDzqTZGcE/gB/044tmHd04wcIlG4IUQQoxP9KDKnMJM9Xbf/c67QZOd3393QP3taq5OVM/Mhx1Ufa+Qwu8VsvFAlFcPjEX+6kow3ZyNBQA37S934Qpbwk3fzzey8bGNNP42/NsJOdlO+0kwLi/2Dv3o5esa3xcDOE9rvhjqonZHLbU7WnGcA9NXpusvN/Y+Tl+QeP21uoGb5Z4tgZ6SD9vZVNfL+K7xXbTvd8OsYvLmTXxGkHnZWmz56d7eKU8/tU+3oqj1xPD31/rnd516T1uvFJy+ajzVxLUxtqG8pw7RYcTwt+PJ3bWYfD2AN5TSpJk/5/+p1fa+KrQ/7xvWNZL1gy2s1fQAWu7Zgm2lGsh7uqged5kLIYS4FGL0VFlYnKNeMN+opeoVJ54xcL/dSON+9Umk+YuZG2FOybhdN53r3QrKaYXeXXV0vOPdhueddurb1Ith8mxmXpeg7SWKKZsydQ6M57id1VXt9PseMzuvMNDVyJ6+S7BdQwblRZEn7hvmf5ssdU5Ux65m+l3AmELXL+po39dO+75TfGIA47zFZIQt56K/pZEOda5V1rf130mWMisDa/kGrOoxcb+2iZpxP7xgIu/+ixvSNf2Dhazv2yido+byZD22FnUe0423eF+pAPT/ooGu0x4Y86B0NfiHTFP+5Radob8jdHQpeMYApYuGX6gPJBjmMzt1PLlL4ZZ/UVN/pxF7Uz8uNeDzKAN07etGG+q5DtZS73tKcF4pq+/MwPIPgZA2ZVYGWd9fTZ6/zLeFDf0KIYS4/L4wOjp6IeoS7n7q11bQ+o7OsNVkC2V1W7FOBWVfOYU7+vG/I2mkg43PNvPuf7txqY+9M9mE2WTg+pvX8vgqC8Y3Au9e8r2PSO8VAAEmrOob1SeyPXeC8hihoHTfPK9l8L1RfayX2g21HNK+VuDGbNY+Vcz//HQ11V3Brxso2LQVK+2se7w58EoFIOWeBhqWv0/thm10vK191cJiyp4qIyNZ/1UJam5If6DB+/4koi0Hpqwq6myZmHDj2FPDy3u7cfheqZCSQUH5BqyeegptHd4eE4OR9MzF5NxdRlZqSGLnQvcdDFlV7LGlcKjCRmO/zr6HpgE4D26j/hdHcAz5XqmQTubqCmzpvZR/z/eKCQMpCxeTfWcpVprD39TvK4kbiqnZWUCaOtFb9x1Y2nL7YQM1ywMhoPtYLRU/PuR/vQOTTZi/XoBd+84onVcqaNPMqtqHbVo3tS/v41C37ylbE3m1e8getlNd103/ueAyz/7wKQqfUd8jNzmFjEXZrPh+HpZE3eQIIYQYl9hzqozplO5sYEthBinJai/AZBNpWWXUNW1Vn17ScWaA3rcVFN+FBuC8C+W0guP3zojDFcZ5Zexp2kLBwjRMvmHFySbSFhawpWmP7r+omfD2JpjHCDnH8kATe3auJU+bd4MR89xsyp5p4sAz6r+oOa9w6m3tO6o8uN4+hXLezZl3Qz4/7cB5BjjjxKEJqDBkUZKToqal+dzjRnn7FIo6t8m8bCt7dpaRdaNJ7WkyYEzNoOCJQEAVWG4t2XNN/h4pg8lCdkUdDQ9nqkN/bpxHuvwBFYDH2UvvkBvj/GLK5xv8eejvaufEGZ1iCtv3FAruzsTIGZx9EfZdx5n+DnqHAsfNc66frv4zMDWP1StN/jScxzo4MuTGMLeUpoYtFCxMwahm05CcQkbhFho0AVWwbGzVBf4HNAzJ6WTb6oICKgD3B6cYCK1DfU6Csp5kxrrNex6lmfwljOnGDApsdZQvNMCZE7R39WuCzXIKZsGZ/i5/QAWBMjdllVKQ6tumk94DR3B+qp+OFUKIz7bYPVVCfM4EeqqsbO0sU+fLCSGEENHF/fSfEEIIIYSITHqqhPDrp/7OClo1Q20YjOQ9u4/SOVcuV0IIIf46SE+VEH5/xnMuZCK5x43nz1cmN0IIIf66SE+VEEIIIUQCSE+VEEIIIUQCSFAlhBBCCJEAElQJIYQQQiSABFVCCCGEEAkgQZUQQgghRAJIUCWEEEIIkQASVAkhhBBCJIAEVUIIIYQQCSBBlRBCCCFEAkhQJYQQQgiRABJUCSGEEEIkgARVQgghhBAJIEGVEEIIIUQCSFAlhBBCCJEAElQJIYQQQiSABFVCCCGEEAkgQZUQQgghRAJIUCWEEEIIkQASVAkhhBBCJIAEVUIIIYQQCSBBlRBCCCFEAkhQJYQQQgiRABJUCSGEEEIkgARVQgghhBAJIEGVEEIIIUQCSFAlhBBCCJEAElQJIYQQItiH3dgLy2kd8iQuzTGF9gcLsb/uSlyanzKTrnQGhBBCCHGJjLlxvt5O04EO+pxgmOzB5YKUudkU/59iMsw667gd1JbbYfUe8lINwd+5Oli3chsOzUcpqxpoWJkS+ODtRlbe30xQ6GTIZsu+tVifXM2JlaupNTZQNs+YuP38lPjC6OjohSudCSGEEEIklvvtVp7a0IjjK1Ye31hMxlQ1QDo3QPPj5TS+bcL6RF1IcOOmt7qQTa5ymuxZmCIl/kYtyx5uxwOQnEfNnlLSk4IX6X9hJeXHF7N1WymW5MDnroMbKXzuS9j22MiMJ676UMFlMmNKir3olRazp8pz2oHDGaH7b/J0LHPNGPS/FeKycb/n4NQXZ2OZaoDzCo4+N9MXpkVuEMSldd5B/douZj+7Nr5GUwiRUMr+dZT8yIFx+Rb2PJCBURuQJKdR8KSNd1dW0W5vJLOpDMtk9buhdupfA+vzUQIqoP+NQzA/A8vxXhzn2tl3rJj0TG004MH1kYu0bGtQQAVgyirAWldOzcs5ZK5Kj7EnLrqeK2HPvAZqFrwfOR5RGVIs3utAHDxuN8p7J3j/LHzygcI1i8LzOl4xgyrXbxvZuGMA01RTePCUVkDN3Gy5cIkrznWslo0DhTQ9nIWhr5lNNSaqJai6Ylyvv0z7dCvFElAJcdm5X7dT8iMHzCmjJjSg8jHO59uZ0NXVTsfxUiy3GgAP3b9oxjm1gKo50bagcOr3bjJXrOXbyYU4Dnro2n+I1ZnaeGCAE28YseTqjC8mpZOda6b15X10F6WTOTl8Eb83W6npy6TiMTPu1+uobRnwf+VxKbjGjJivCzQ0afk1WKbGaPlPd2F/rJouNUAzJJsxGS2sXhR9tXjEOacqmw0vlWG5+O0JcUmk3FnNlv3tND5jh7+bzoaaAtKudKY+t5wc2nsK64OZ0ostxOXm6uKpZ7rwkELxg1bMEYfMDHzpS97fun9/Am61wPnj/OZ1D8YcCymRVgM4P8CJk+nMTjeRea0V48FW3G90cETJxuqLoU6fwHHuFopv1E8iZd4tGF9s5TfHK8i8NVJL4aH739ohp9obeN1WRdNtgW8dP1rCuoFiqmut6E0N0+Xuxn5fNc5lj9Pw4wxSogV0E5D4iern3bg9gMGIMUJmPefchHbgGYxGDEnAmAe3G4zJEQrZ48btMWA0GjQfufEkBW/Pc84NvjQjGfPgHjPgS8rjduMxGDEG9WCGb8+/rndH/Xn1uN14xiJsK0lNw+PGfT7ks0h5C0k/Jv86mvLU7opOuasLhx8r33GcHFIe2jLzbS/SsY6yD7rH57wbN5HrTdD6bg8GbcaSTFhyirHkRFlGT4wyS+hx0B77ELrbDk1TU1d9/HVOe5winEMetxsmB29Hd33td6HnQ8g+6ub7zQ6aKaDGd6cb4RwKqwOx6q/meHrrsuaYaNbVY9DdTsgx9bhxj4XUv0hlGTHvOnV9ouUYQ1B5TGQb0ep2pHZPr10YT9nriXbN0E1bJ78JPqbjuhbEcc27qOuF3jYj8tD902p6PcC8PLJToy3r5k8fqGv58vEHB90esMyIGlJ5l5uaQeF1wHXZFKS2Uj/UT/tvnFjVCevu/j4G5i9mdqRj/9WZzAaO/2EAbo0wBDh2AsfrBrK3xRoiDF0vclviPNBAd6bNOyQaKx3fsdXSaSu1EhdUjTnpsNuofV2BZCOc82CYX0y1LY+0oJw7qL9zHe1BK6dT1lTjjXD76sl5GLZ26veMKQdsFB5aTJM/MlXo2FBIbdpWOn/oW8O7DZ7ppGwe8EYtS0LTdDuovW8dp77bRE2O2Z/OocW+vyNtz83AvmqqXujGNdmM0aPgTs6k4pnVfPx0IbUnI5TPrDKaaq1wwEbhC05vd+WYG5cL0lbasd+T7j/AzteqsNV0oyQZMY658UzOoPipDeTdGLkKuPsaqXismYExI8YkN25SyK6oZu2tvm5QvXJXLdeUnXuA9ueqqD/mxnSdEfeHLswrq6n25a+vnpwaI1tKXNQ+04HiATBgztlC3QMW7zJjbhy7bGza0++vkIYbi6neVkD6ZJ3j48vhCzmsI/g41i4JXc6N40clrBsoUI+JQnuZznHbV07JjplsiVCPAFzH67E90coAJswGN4onhYKnqimeY5zwcYiWpnLARuGOfp21NPU/rroKfNhL/eObaH0bTGYDbsVDSqF6nHTOof4XVlJ+eDE1TaWkA5xz0LhhI81vgzEZ3OcgZZmN6h9mqpNB1fPqj1a2audbqMeg+5mVVHWlBfKt4TjUzswVTf473fBzyEWXrZBqKvwTYeOqvznbMD6xGteP7XQoaoNptrKlrgzLH+rJeVi3dgNgVeuQ7/g4J5sx4cJlmE/FM1VkTQU+PITtvmZmPqF5KimsLMMn8UZN8yLK0bff8ZwD491G9DzrHLMxhS57BdWvKzDZgOc8mG+toNqWhbkvvrIP42trXndhMBvxKG5MvjR9F8EPO7AV1hJ81liD6nbU83RCxzTOa0Fc17wEXC+Czp0YznXTcdB7bmQsuSXG9Acnp/7g/S1t2vXefRw6hQdD0HCa7ppv9sI/rlXP8RQWr7BQX+3A+YsO+u/0Tlg/1e/AnF4aOXBJvgazAXr7T+EiXT+v7/XT67mFsgi9Xbp5e81O1Y+7cKo3sAZzJhXVVWSZARR6DzlZ/P35uI818tSuQ7z7iZHpi4opK8oI69VzvJDDuv3Bn6U/4KsX+udmnEGVg707aukGwETaPAuz56Zrus3cdD+zmm3/lUfdK8WkJQNjTlrXrqbcfm3wEwRjHjzai4jSTnnhoXjLK0Hc9NZtov1DGGf8i/v1Gsp39JNt30fZfG91Ud7oxZ1sJq22E6u6nLdbsizsZFAAbtB0V55upfx7dtq/00RBqncsfHW1i7yd+yhWL97OV8pZ/eBTXNu0hSy9mjfUTHlFO2kPN1G3VA39jtdSYltN/d/voXRWYNHQBs7xoyWs05RLd0059WeKqdufR0oS6gW9gqemNrFlqbrx063U/v5xavavxZTk29YmGhfuoWyeATynOP7ObDY01Hgf13X3su17G6nef0vwY7cT4D5ez6b9LpgVZaHTrdh39ONhZuRlhpqpsLVj/EEDnXeqd1Zv93LqGm+ZT/Q4REsT8DeW/joRs/7r1NUxJ80bNtJuLKXhV+pxOjdA76BJvwE7WU/VHsirVZ/OGXPSvHYd7f9go6lWvYCd66V29UZW/7yGPZqJo4bzHTy1a3HQZ56+RmreMOhv63w3Hb+ykH1P5ObcdXAb1X0WKprUdiHu+qvQ+mMHj9ccYK0pkOdNP89kzw/L6Ows05RpLTNDL+ZDzVTYDmGx76POd+7uK6ekoh5zUynpU63YVh2ipLqRzJ+WYdHZQffrNWzqmh2U96hpJk2wHKOIdA7EvY0486zV//Ny7P23sOWVMjKS8Zd9+c/N7FkVR9mH7wXdNeXU9mcH0hxTcBx3B8//GfPg0QZR6k2HP5VY5+lEjmlc4rvmJeR6MR5/cNALQBpz02PUrCEHR84BGLGkq7c7/+UE0kiJGsG5cPyHQmbubP8nplutZNU46PJPWB/g+G8M3PJktPb+elJuAN5TUEC/7M+4UG5IYXrcvbgKJ/4TrNv2Yb3RCGMKrQ8WUv1SN5kPZ2LgfZR30nDtK6HqqwWUb6jD5DlO67ObKOnMo/ql4qD67/kfbRCl3sBH2br7eH28L/9UOPXbXnp/20vvbztorq6gZPky1u1XD/mHh9jTBdZ71MoFkJRC3r1WDMcb6BjSJPWhwrsAV/DRSGW/jU3Di7FGuzDrcnGorQuWb/CfIADmeRkhvXHjkHwtJqZz/TXa9Iv9DQRASs5qrJN7aTjg1E3C8ctmnLOKKVkaOBOM8wsonueita1bf8hPj3KIPV0mCh5UL9QARgt5K1LoPdyH279gNmsfyPA/3mqcn0feDW46jp3wfjDZQukTpYH3nxgzyPo2ON8/E29OIuSvHdsT77J4eZRQ+LyD2opWZuZkRU3KW2al2O4MnPTGGzOwXAcXdxwipTkxunX19+00D6VT+ojmOCWnkTFXp1ka66d+cyvGe6oDwYm6fnGJpkcgOYOC71lw7dlHt2aI0pJjxbynjtbTvvSctO7oYOb/ztadc+F6vZ3uW7PJjPQEjauLbc85yHx4gz8wHU/9zX6ojAzfbiZnkLciDfevujkRYXNajvZmnFnllGrP3eUFLP6wgyNvq3/n2Cj9SgdP/dyhqe8qdzc1z3QH5z2ONGH85RhRlHMg3m3Em2fNGhza58LyvQJv8APesv9uOq59h3BEGsKKxnfNqCgLpJlkxrIwLTgAVBQGIg61xHeejveYjiv/Ua95l+B6EYPyx3fV32bGCIygv6PVG7SlFpCttg1/Ph9WQuHO93PizXRmf11zYCZnkrPcCHgnrLuUU5w4N5/ZqXFk+pyHP0f4SnnvFBjGMzPTTLbN5g2oAJLM3LI4Hc/wGe87sz50cooBHMbVVD+QTfrXjJhvyKLsqTJmK800d2n3X0F5F0iKc/vquTnBiepq9/OPaun69haynE76SWPx1JDVvjaT2bTiOgOk+jbsZICZFEe90LSzbom3O9lgSsOyrJi1RRmJeUfF6XbsL0/n8Z/moWxo51TI1wO7Kihs03zgdsFXF6t/vIvzTUj7zvUXl4c/HqJ5hxMDH3Oqx8lsezVZyVHST0ph5teh9cwZCGuCFZx/8EBaSkj3sInpNxjh997KFFfX8Wkn/Sj037uExtDv5nwcJTgzk5YOngEnLiyBO47zTvr73ufdoeN0/w74ZjyZiGBMof3pZqY/1kDeH220D+gt5MbxwlOcWlFDTWor7fsiJRapzHwSeRwuQoS66u2ij9VoenuXO/o7OJ5SRl1+IL+R1jdNT8PICc6cA9Re6I//3krFPb2s/nEXi+1ZeA5U00wBdf9ipHpPaCgTZYL6Hw/RvGMAV88h3l22hbpbfVeVi6u/5tTZ4DmF80NiBK8KzgEPnKxiWVfodwas/lbdjPXJLTjv20jFf2cz2+N9xeHeHdvYq5f3uNIcbzlGEOMciG8b8efZ306NnOKQBxZfFxx1mL82M1D24630ka4ZIVx/PAU3LEa/xY33PB3PMQ2Iei2I65qXoOvFyVoKl9QCBozm2dxSWErpbWm6PZyBuUOG6PPYXF0073cDRrJXjTOwHzrB8eTZ5IQc8/TbC0h5pR7nG600772e/jnz1ekeV4DHxUD/KZxD/Th+rbkJNl6LGbj6n+YGl5/JQuYsqO0/BUt9kc77ON+BmV+NI9rWnJsTnFNlxJJ5C+zv4MQgROwT8HzMxwQ3iMo7J/DMyWZ61PSzsL1SznyA/z5OzfqNVPxtw0UPHTHmpPnxZmZWNJBhdOvOL0pZUUX1Mu04egWr//3iNhvmyxlYi6yY/9vJibRDND6zifaarVgjNjAePv7/xr+ZP3vG+e8FksBAOqUtNVjH2bvi+R/gb6/2XmaoRCIAACAASURBVEzdA7TaK2hWZnPL0kwyU+eTfl272i09Mc4WG80zNtAw34g7QrDkfr2GjYMFNDxghr6L2FhEEzsOExJHXY3uWtLnzef6vz9D3wvNtPYtjv324j97dAPnlDvLyG7bSN1B4CdOsp+oJiWpI3zB0AnqWsbppM/LBE7hONDIoVxLlPruy04c9XfMA1zN1TFvJg3e+p2zlQMPRH+O2Xmgng7mU3zzfFL+6KT9GKTPy+T6ye9S/Yo27/GnCeMox0j5iuMciL2NceTZOJ30efMx/clD72t6cwEvvVN/6Mfw9eJx3qiEn6fxH9OACV0LdK55F+2GYuqe9Q4Luv/Yjn1tOTXGfdgywyu9KW02Rvpxo/Cnc4Buj7Gb3oYaej1gWv54UI/l30yO3YXmfOMInm+vDZ8687XF5M2rZ9sbTtr3OTHfUxrfcGqygb+J8JU3cB/HdWzMRfePKqg+amT+ssUsSE8nPeUQHYPq95O/xNUG+CSetE4PcMKTTnYcYYf23Jzw//5znzsDpJEyFUibTQb9nPhDyM5/oOAk3buMd9Mc6Rgg5Z8tMQr7aq5JNmJMNmL8WhY5i4wXP3TEx3T/pIJD36mOenExTFa36/uZrK24M5k9H/r7B+IfUtPdiG/f0sm4rYzihQ7q2xyR0x9TUN6D9Ol6dzxmZn7DCP/ZT/CglAvlPQ+G8fSczJiNhYHw4xjLWD99x8Cc7r17ch6wU/9xAXU/3cLa/GwyFmaQ/tXxJan18bFaKn69mGrfRHg977Ziqwbbk9EeIfaJVGY+iTwOExG9rpq/PhsjvfQPRUsjhfSFGWStrKJqJbRXN+I4H319l+LEY5hJSmhAPdlCwWoL3c/Y6c6soHieXgTjffR55orF+ne9f5eGZWEG2Q/YqZg7QP3WdnW+yMXV3/43jsDU9MAQTEQmZqYb8fQNRD8+Q81UvaCw+KEK8rIyyJiVgr8sv2/HlqnNe5xp+sRVjvriOgfi2sY48qwes4xl2dySDM4Pg/9fm/LeKUiezcyJRBCRrhla57s51GUgc+7sCAvEeZ6O65gGRL0WxHXNS/D1ItmIeVY22d/woHwU4X/n3ZhNXipALx3H9JZxM9BkY9NrbkyZNmpC6pP5+hRgAGfEyVxuBvoVLOl681VNLF6epfZSG8iYEysa8fYE8VVz5HjgWhPmd5y8G+cQs+dYHfajs9nwUg2271vJWpiB5R+0qc/GkgknBkJq/5g3L9q23Xm0g4HUW2JO3wg9N+MMqj7mT+fcuM+5cZ9z0v9aLRXV3ZiWF7P4OiA5kxU5Jrrqquk6rVYfl4P67a14slayWD3pnK9U0/jHDAqXjKPHydXLocNuLF+P3rcVWxcdAwXY8y+mt8tI5korpq4aqrsU72OoYy4cL26kvm+Cp43SxaFjYPn6zMjpv1BN6/ksVi7Rb73S/7WY9A+bqW7qxzUGjHlw7t9G/RspFFjH8Xax5ExW5Bjp+rGdjnfU/fEoOF7ciL1Le4J20PiK05+//pY62s9nULJMnZx91gXnA70e7rdbeblzfMWi1XXgFAWbCgLzh3T07z/CzKryuN/erVtmr9mxH1BI6HHwpzmuPY5eV2dZKZ7jovn5ZvrVw+IZ6sBu79Cd2JpetAEr7Tz1c4f3mOiu3862nzpIuduKRaecTUvLKFuYQVlJZoQJ6sf5TXcm1ltj3ZuayCovJe3teuzqnMzx1N+OXa34XqjsOtlM3X4PGYXxDV+k/2sx6X9sxP6CA5cvjXc62FbRTP8Y3kmt2xpRsiqC7t4DjGSursASmvdoaYbufaxyjCCecyDebYw3z5BOdm4Kjpfq/O27Z6gV+wsDpN9jHffDPkDEa0bjY/Xe4H/MTe8LNXQlW8lZGCn4jOM8ncAxvZj8B1/zEn+98AwdouP3RmanRYhkk1Io2OR9AtRRU0Xz25o5Qq5+2p9YTfnLLuY/UEdDVVbYDai3p8uD8qH+3CrPUAf7jsOXjPq117AwB2syQCaWr8fYmXN/QvGA4etRbpy+lk6G4Qh9unP9dPJ3/hM85//M//g+ULpo3qsdJzeQmZuHYX9doGzG3DheqKU92Uqxr21/r5XqFxUyvhvhJlEj9NyMc/ivC/udgQF4gymNzFV1VC/3jesasPygji1JVTx13zLs6mP2acuqaPhhJkb10cN2gxnrE/Y4JgQG5lQx2YRl2RY2LNWs5B9j1ji5jiUhjz5atX8Y0il9JJ5ejOgMc8uoefhjbM8VsswOYCAlqxTbinFMptPmf3IKGXdvZUOW0Z9+nd1A1TMlLLOrj43fmE3VT6P8uw+zFfvzUPN0BStf9D1qnkHB8zUUpI5r7wLHsWwZ29TjmLKwgLJc7UGbj2WsnpXLe3F7vI+slj5f4T+u6f9aTuZvqinJacds8GBcsoGK8kzKQ0YQ2h9eojOstY4l+zVPh2Ig/Qe2mENFppwNlI7nn3OardifdWF73FdmBoxzrGzY6D2pJnwcoqQZt5h11Yz1yWpcj9qoWNmIBzAkp2N9uEq/cZpsobjCypGHn6Jx8R5KZ5mxPlkDNXb/+hjMZBTVUBPxpsNM9hNbImbZ9Xo73ZlWKuKZQ2FWn8j6SS1dN28haxz1d/5cqM9fRu85DxjMZK6qoWJpnDOM/dvZyMo9vjcpp7P4/1SQngTKPjuNQ5lUbIoS8JiyKPvBPp2866epk4mo5agvvnMg7m2MO8+Qkl/D1lEbm3ztu6/sl090oMuA5Qc12P7bRvX3lmEHmJxC1vdt5J3zPkHYP9lCWZ3+04j+VGKcpxM6pnFVp1jXvED+Enm9MCSnkLmqmoJobzufamVri4WuvfXseXQlzZgwGYC/m84t/2stDQ9bMEfafOps5tPK8UEnQc/G99WyrKLdf6Pc/9gSugxWth4IeWVNUjrZ302h9chs0mK1BX88xQmi9UQCSbOx3Oqh+tf9lM6KHb4bMwsobqugamUOZiPwjWKqHsqj90XNQrNKqauqp2rDShrPBdrpLTWlWIzqk5j7va8JssdsW8LPzUvyD5U95z0YJocctTGu6BN/l4THM84nE8afvicpxoTDUGMePLEmKca7eb3jGPIepWhFoPeyyZjUVwwsjvjenksg1nGcyHG41HXDJwHH23MeDBc1oVShw97A33zP5n/P0YRF3J+Qd8JcbPkm8Dy5pGleahPIs267cJHCDudErhcTOU8TJK4yuVxtwkXx0P1MDlX9BTS8VDC+Cezj5GwqpOTldKpescX4NzX15Kw/Q0Ws5bTOe1/eGrMu6NUZX2/tBOvRhOdURaNbuf6aGpp4XeoTxDCBBiKBjUo8DWe0IpjIW6KviFjHcSLH4XI1ngk43hcXUIHvMeaLDqgg/v252PK9FBffK3RBvygTyHOiAyrQOZwTKceJnKcJEleZfOoDKgADmf9qxXS6lY43L+FmxvrpaFNIubswdqA0J4/yud00jWcaRbw383p1JomLilcuSVAlPsP+xoh5qjHi0xoXLcmAaep0rr1Sj+KKT6m/wTjVjPGSVTwhBACzCijP8tD+chcRpsNfNFdXM+1kU5oTT1+YiSzbHqpD3+HwKXVJhv+EEEII8VfK7aD2vo18vHoPNp13eF1c2t3YV9ZwtfZfB32GSE+VEEIIIQKMFspqbPBTG61DF/VCiGBjCu2P1sHDdZ/JgAqkp0oIIYQQIiGkp0oIIYQQIgEkqBJCCCGESAAJqoQQQgghEkCCKiGEEEKIBJCgSgghhBAiASSoEkIIIYRIAAmqhBBCCCESQIIqIYQQQogEkKBKCCGEECIBJKgSQgghhEgACaqEEEIIIRJAgiohhBBCiASQoEoIIYQQIgEkqBJCCCGESAAJqoQQQgghEkCCKiGEEEKIBJCgSgghhBAiASSoEkIIIYRIAAmqhBBCCCESQIIqIYQQQogEkKBKCCGEECIBJKgSQgghhEgACaqEEEIIIRJAgiohhBBCiASQoEoIIYQQIgEkqBJCCCGESAAJqoQQQgghEkCCKiGEEEKIBJCgSgghhBAiASSoEkIIIYRIAAmqhBBCCCESQIIqIYQQQogEkKBKCCGEECIBJKgSQgghhEgACaqEEEIIIRJAgiohhBBCiASQoEoIIYQQIgEkqBJCCCGESAAJqoQQQgghEkCCKiGEEEKIBJCgSgghhBAiASSoEkIIIYRIAAmqhBBCCCESQIKqz4NeO5MmTYr882TPxNKIZ70rYbiFPH8+82gZjm+1nifjX5bhFvISuP89T3rzm7dbSViaQnymaM/ru1qQM0V8GklQ9XmQYWN0dNT7M7SLXHLZNTQa+OzRBdHXH24h77kZDI9q1olnvSthuIW81Fe5w7d/Ry0UVcRugJXdeWRWWZgxLZ6N9GBPLYK01IvPL8BwC9uqcsldAW0DQ4lJU4jPmmn5tKptz3DOq0z7tN7Uic81Cao+b04P0kZ48KDszgvqhbL3Br7refFVLHNeZVqEu0RfL4vu+sMt5OktrzaIPU8Gb8t7N6rtMVJouUubtp3ITalCS0URNNWS79u/DBuju/MxR1ynB/ukSUwrbIMVM0iNuJy6hd15TJqUSSVgmRE51fh589xWtZbanFx4czAkAPTmz7f/2p6sqGXn61kMufB4j5WvDEPLNmQbvvR6Az0E9l6Cei2De9ZC0tNue5xpKbvzQtL2loO9F506pdByV5Q6E3rxDep11azXa9cs60vDW1Yx62lQ72jIsmFilVPIMQnbV7111c99ywaVkW+dPFqGQ8tKp6wjlU+MvPvOa397cFcLStDy2nO3B3vIuazszovaA6VtZ8q4g81VXYH1o/ak69XzaO1IhHNO79iE1oEobV30YxdSDzXbjdY265VRtHp6MW111G35ysa3bJTzwbuetoy1x8JbRnm7ewJl9WQPQccktI5EO5812w7Kb2j7GFJ/LmbEQIKqzxll0BEWPCi785i2745AT9TRzVTerFb04Ra2VbVR+Wbg++45RUzTNNiDb8Lmo74erGF2rchlxlQ18dODtM2ZoQlq1OWXLlB/1yzrW94f9Cm03DWNV3OG/b1j3VWVZEa6Q+1toGjvZiwD0+I8OXqwT8qEo959zs1ZFCX40pbTMLtWbCYrI8rC8eptoGhvLrvuWYB5hgX2DjIUkj9H07C/l5HCMrXRiFB2K+5g0TTvcc6t2kyuNkgbbmFbFZrjP8Tg3s10a3ofu6s0weLpQdpWWBg8CLX+ejGJSQezAvnZd1hNvwf7JO2xGmbXm5mB8h9XWjA00BYctA4P4kAt87A6NcTgXl+diZGPXjuTbnb4e2qHm/D3ZCqDDnLV3seeJ6dRNKeb0VEbC2KUNb12Jml7R4d24bg50lCyt0570x5ldLSbzVWZgcb+9CBtK3YFnYv49zXavpnJ3z3MLl7l8HBwGSm7y9TttZI/TVtW4WWt7M5j0s0E6sRRC0Wp2iA8Ut7V85ouupaqeaOIaZPKoDpw7nb5L8KDOELaoaGBtgjnoPdCm0m3f7/v2FdEpXaJQQdUdfvr8XBTrs6x1PTWR7yBinLOnR6kTbON0dFuNmtvUGO0dZHLTnNMhlvIU+tn613m6G2zTjlFracX1VZH25a3595yVB29iHo+eNOsvLmLLG2b7r+eDDG4NxfLQJdab7zlNGmSb3lNHSdGfc2wecvrYE94fn1tgC+/2jSC2tnxk6Dqc0Xh8L7whst8V2twb87UGeTiYHAYlO5XaWMz3ZrvF9yzi1z/xd97EgRO5OBGW3uhImz5IQbxnfCB5QMXfTP5u72Ni09qml5vjmZdKnGkDfsboLaoJ8cCbKOj2DKg52BlzJ4nfzkNH+ZVYvdqxabQ8lwlub6eNU25Ayi7t1G5Yhe1vv2ftog7VrTxardCaDmDuv9qozg00IZlaRYWzdZ6XizCUqW5SIdd2IIbZWXQAXsdzLhH29O3mW7tsK9aD8LyiplFObm0qYHSeNKKfHHw5jWsTvV2Uen7Lmo+QsobMGfeQe5ebyPtCy68Q8HavEUr6/A0g49TCDXwD6S9gKwq1IY/+Bj6/vbta6wyBjMz5ni361+v1860Qktge1GPeQ8NhW1sPmrDf1QystiMGgxFzfsQg3uhkixsmpuNoHIBHIOaIFvnAq57DoZt10z+Q5uDFhkaaAuqE4FAUScwCNt2QLRzLqzehZRl1LYuWtn501GnFWjrZ5S2OVz0NuHi2upI21JouSuTyqpu9bjHOh+8ae4aCtSxoOvJ8CAO2nCklQTVm6A6SRuDpyFmffWVV1UXPSH5dYSOZoxq0pg2A4t/G+MnQdXnirfh02u4grqFU4v8vUVDA21QlaWp0D7qiT08iEN7txbU0Cgc3gd3ZGq219tFpW/53i4qQxq38LvV4K74aYVtQRcdQtalqjsQhGWUsCvSxS2IzkU8miiN8ngou8so2ruZtf4GXHsy6wXAmiCzt4vKoOOiLp+WGrw//saqhW1v7iIrTdNwRu3x8ZXnWn/j4+0N0GzTH+hECNZnBEK6+NMChg/zakiw3XOwMuJxVwYd6ra9+WBvUWCo2ldnfOnuzQ2uj9PyaR1tJX+a7w56ktozoGlko5X18GFe3QtthdM0wwfTKNqrk1HffoScTwseDcxPjBYcxCpjb1rD3LFvGtMK27x5em5G8L6cHqQtqHymUbRXcz4S2gObyowVceR9eBAH3h5XNecMBpV1cNDUc7AyONBRj43eOai3XUBz8xUakIWfz/5gDr3gwf9N1HMurPc06PyJ3tZFLTv/MfH2mmtvIiFy2xwmapvAxbXVoYYHcVBJpq/n1B+065xjmJkxR7vN4HM7yOlB2tC0idoeaiA4UO2iEu85Gzj3MoN6MJmWT+tRyJyUSaWa38GHwss4eIg1k0rGcT0IIUHV54na8AVVFnXse1vacFDXOerFcvBNwhsg7RCd9mLo+y7ozkjnzilSjwM9dFURPBQxaRszhrTd1Tr58S6tn9e4hOczmsiNMpp8x5oD4b3LgkoyQxoE7wUgcgCsnwft8r798V0QvfO2LA/lg3aoJ+qdd/gd/tBAW9DfgWBGP6/ensPxpkXEXgxfXs13rcWiCWKmFbZp9ls7vKH52Z2POcJ8wkD5baZbHbYq2x3tIqzZX/Ui0B26vdHwhjt2HY0WHMQqY/ANDw4+5B3W2TWkDsFphsuVQUdw+WiGwvSmBvi2GzPvQcNM6Fw8veWblRG6X5r1dY+N/nbj74Exk1+9C3TrS6ho51x4noPrRbS2LnrZKYMOcpuGw4f2orbNEdKJ2CZwUW11GN9QaOhQme5x9O5/+DY1n2nrYOjNlvZvTb3y5m9X+ANU6ugDqG3xczMYPrrZOzx8dDOVQUPz6pzagbWB9Y9uhojtRGwSVH2e6FR4pftV2oKGFNRehSg9Mdq7rtAehKATW2eoQXsnGHbn19uluUNQlw0aPojW6Gnuhnx075p0hN3hRaNzRxeak7tadU/woFTUYYbQBqG7KsoTgL12/yRN/bJTL1pB5e5gcHcDRXO6sWUEXxii33mHXqjCLyph6wfxBo2BoCv+tMKDvdDj6B221Z0XMk49T6rz7vxl5h1aaits8F/copb1xRpuIc83UTestyZWsK8tY9+wxjC2DN966jCZZkL30ADhwUyUc13ZvS3yvmryHjpsGZZuUJ0M36+IvVH6ueLwPk1QHtqjojNfC/8Tz+OsL/5zLvpctFhtXRhN2fnTyShh14pKtvkmqI+zbY5VTy+mrQ7lX3daPmur2ih6McqTmOq80TsyzTqBnzpcqLkmaL8PW348owS+oe/d+eBLJ3T0Qi0j7TSEqMFkHCSo+hzRa7hCJ0d755P47qrUORuaC4z3e183f/gdWNCJfXqQNv836kTNSEHRcAt5N1cSuEPwBkmBAEMdu4/SLbtgqfZiGHiqLj/GHUesnqdg4+vV0jXcQllhG5sfCn8qMTBnLHiuja98vOto7vxAnWhZGWgI/A2Pd45NUaFDPV7aOWwx7rxDhwrC9lu7vprX5wJP5fQ8mRmYmzKutNQLh6as8qINeQSlFZ4P71M96p1pyHwL39yptXeZgxvroOVilLW67LaQpzL1n2ILnQPlm0NT4j0nQ296gi500ctY2V1GEZryDslfYF/CeyP8PYCZd5C7t4gGzRNdZf45K9HzPq6L4fAgQf1rT07StDkRyiyoDfLua4mvNyL0Ihh04fVNom5V24Fo52+Ucy7G/MPobV20stOmE7xc9LY5VIx6msi2OmTdBUs1gXvY+dCD/WbfHCtvoBZ2LP1TIMLn1YUGilHrq+/pSt/TgjdX+udbBdIJORahc9R67VGnmMRldHT0gvx8Hn6GL+xawYXcpuGw77qruADqT1X3he6q4OWCvmfzhe7R0QujQ7su5Gr/9m8j98KuoeBtetfLvbBrqPvCZjTf+9PgAit2XRge7b6w2b/s6IVR/9/en81HQ9bX+Rluyg3kdcWuC8Oj2m1p8xq8/5uPhn+mV1ajQ7su5GrTneBxIFIaRzdrylRbfiF5PLo56JgNN+VeoKrbXwa+Zbur8H8+enRz4PfR7gubQ/IQVA5HN4eXX9Dy3Rc2h5RnUD3RLjvetELrRej6UY9HcJkResy1aWu+05aZbrlFKOvwNAn+LkJ98y3rq2O+z4LqXNDxilLGRzdrzpnw9QL7EuOY6+yL3nkRmndfmYeWn/bv4abciG3K5qPh60dto/z7EDjW+ttS24/QYxX1/I1wzh3dHNIehNb/GG1dxLILOSZDuy7kataL1TaHtx069TQRbXVYGWnT8pZz4BgEt9tB+0ruhV1NmnwSmk5onsLLMGI76N+Wui/+4x6STkgZh14zukPP73H+fGF0dPTCBGIxIS6N4RbyKqA26rulhBBC/FX5nLTtMvwnPl0S9GSdEEKIT5HPSds+6UpnQIggGTZGEzEBWAghxKeGdz5UyZXOxiUnw39CCCGEEAkgw39CCCGEEAkgQZUQQgghRAJIUCWEEEIIkQASVAkhhBBCJIAEVUIIIYQQCSBBlRBCCCFEAkhQJYQQQgiRABJUCSGEEEIkgARVQgghhBAJIEGVEEIIIUQCSFAlhBBCCJEAEf+h8ujoKABf/KLEXSIx/vKXv/CXv/yFSZPk/3iL+Em9EUL8tYjYSp0fGeFj9yeXMy9CCKErKSmJsbGxK50NIYSIKmJQlZSUxBe/+EWuu9Z0OfMjPsNG/vxn3J98wpdNUqdE/P507hyTJk3i6i996UpnRQghoooYVPmG/ZKSki5bZsRnm7dOfUHqlBiXL/AFkr6YJPVGCPGpJxOmhBCfbl+40hkQQoj4SFAlhPh0u3ClMyCEEPGRoEoIIYQQIgEkqBJCCCGESAAJqoQQQgghEkCCKiGEEEKIBJCgSgghhBAiASSoEkIIIYRIgMv7z7SUw+x8cidtR45x+ITCjIxcsvNLeKgwmxlTLmtOxGeF0kPLzxpoaD0gdUpE98ZOlm5si7qI5YFdPHu7+TJlSAjxWXPZeqoGf1lO5rSllNe1MWScxaIli0h1H2Png8uZOWc52383crmyIj4jRnrtLP1WJkVVDeF1asV2+qRKCa3RsxzuPMzhofPh371/ksOdhxl0X/5sCSE+Oy5PT9XvtlOUs5Mecz4v/KqWktmBLgTltUpW3G5n/b9UYnnrWRYZL0uOxF+7jzpYf2clh5UFbH79l9hu1tSpXzdw+Jq7mXvVFcyf+PQqrObgowuCPlJ25zGtMHovlhBCxHIZgqqzdPx0PT2YWfPiTymZHXylM9+2mR1PH+Bbj2xn+94fsOieGQz+cjttb+mlNYvcimxmAHzUR0vdThq6B2HaIkp+cD/587wX1rO9DTQcuZ7c1an0Pf8cO7sHmZKWz8YnS5irXnvPDnTw8vMNtA2chSkWSh6zka8Ge97tT+Gf7y1hwRTvPvS82MC/fxTYfvgyvu0S+OzsIB372jj5UWAPptxSQkmGjEtdrL6mx9ipQHbdrqCACsD8nRLytR+c7aHhZ//O2aClNHUJbyC2vakFxzDMmJtP/oMlLDLD2aMNNBw7y/VL7yf/m1ehVxcYPszO3Q5GpmVRclcyx6rbOPnlf6bkngVM0W7/plzW3K5uUTlMw/MttPQNwjQL+YVrKPmOZthpVKFnbwMNLx5mkCnMuv1+bKtTcTzfxskIZTIrZw03vbWdtreC902M3+Avt9P20T9Tcju8XLWNtoGzzMhcw4ZHspkxyXeun2VWzhqy07zrjAx00LDvJDNy1pCd1sfO29ZxOC2fjU+XMFd7s/hWC+VVDZyctoZd1dmYIUp7NkhHaH0a6GD7vpOBtiSorsCMJTY2P7gIc4R8BrddOun76jiaz6K0t0KIgMsw/PcWjjqAu8nO1O86mLv0buYCHb/uQwE+6FvP+kdexuG/Cp7F0bKe9Y84+ABgqIWiud9i3a9h4ZJsFk46zLqMOZT/0rvCyGAH6x+5j//1rZU0KGYWpsKxulV8q7CBQYBeO/9003KeG7qehUssTOnbTtE3i2gY8G7Nu/0OzVDACIOvabavt8xQC2V3rgp8NtJD5YKZLH/0MArAWQcvP7KejkEZk7p4Cid7+oBF5H4njtDhD12semQ9P2nroKOzg8bntcdyhJ4nM5m2pJKOEQvZSyz8ad8qlk7LxP7GCFNu/kdoW09RyXZ6RrzLB9eFEQ7vKKL8kWNcv2AuU/gAxyPrWf/aIP4j7R6k45H1rO9T1+i1kzltKZUd57EsycbibmPVkmlkPt2nrjNIy73fIrNwJ4OpC8lecD2DO5ZyX907gX1S69P6Xw8F7aq3XgbqqZiYD/rWs/7eIv5p8X0cMy7EMmWIhqrl3PLoYUbwtTHrcZxRV3D3sP17yyn3fzbC2c7DtNWt4oGf9WlSVmipKmLn3sMcHlYbuKjtmU59OuNgvb8tUWgpnEZmRQvn52azMBUOPLKUb1VFyCehbVd4+oO7y1hxr+azGO2tECLg0vdUDQ/iAGAKZVnXcQAAIABJREFUkyMNx1x7PTOAvhFtwDGDZavXkD8NQKHlP+y0/A5ghMM/W0eLUkJr3wvkfhmgBMvol8mre5WHbi9hMt51sp8foOa2q4ARFn05jaVPV9LyRgm2DBtHBkowp6o9A0vNfGveelp+PUhJ2kTu7wdpeaSIFkXz0e+6sA9A7os1PFs4A4ZbOPZ0ywTSFuEU3u+DqHVKa3QEmMsPdh5kzTcVWu6aRtFe9buBl9lS1YO54iC/fXoRVwHcs5BV5jwqt7ZRsjuf+2s282pGJRV1y+h+MHgS80jvdtZVK2TXPUt+ajx5H+TlJyrpMa/h4FHfcHcJC+/9MnmPbqGtsJXcgUbWNSlk151i/73e+rjm0WcZmXQVV7GEbPDXp74Fd7OmIjCU1RNPFkScUnnoFwe5/yaAXG66fSarqhvoeHARC4OWG6Gn+gEqe8NTmPvNufRUbKFlRSv502Ckczvr9poxmxXvzVbM9iw9Rh7N5NcNswgz5imadZ/u4Niji5g13l0eamF9YQuBpix2eys9okIEXPqgatoMZgFtROmhOfO+twfpqniukG9x7EUFzMfYWbiUneqn54eAAYUPgFT1M/M1vvSuYtachUAbjlMKzDN7Ayr3WQbfcTB06izXAIeVD2ACTcTgz8opeu9Znn10PeufVD+8wcL9Zti5u4XDmfdj+URncqyYIDPXzwUGznI+jo6/wcGTwCxmfCX8O6XvMB1A/rdm4a99X17IohXQsNfByZF8Fs1bQ/WTh1lR8QCrzmZx/hTAMV6urqShzc65e1ppvTek3nTbKbqtwfv7qBIYslP6OPwaULiQWf4hoSksXJILL7bheGuEWf/RgIKZhRZNmpOuIv4pYo1U3HaYycCUtGzufuB+cm+SCWbjN4Vr/MdoBukLgNdaOPnurqCgaqSzkhU/+2eefXoG6x8JmZeVfz/Psop1Ow6T+/Q17Hx8O1S8gG1oFeVA7PbsH7nqm8DeVznwVjZ3mGHkfSV4G1PMmBnhrDLIW28pvD8JYBDlI/xBVeOapRy+WpO2rkEaHiji/epnsVWsxx5X/ibSYgrx2XUZ5lTdhOUe4MUDdPXaWJAR3rgP/vYwfcDcuTMwA0NR0xsBBViSy/2PLCIwqm+DyanMBWJ2Srv72Lm6CPvuP3HNd2ZhRok4TyWW8z12ilZfxa6BNcxoWh/44svZ1Lz5e2564BssTav0f5w7we0ILTMz5phh72HaumP1Lo4w9GYbmDczQ+9J+VFvVHb9FL35ISOMjABXvc/gWydRmMz7H40E6pz7LO+fgcHuDvqGc5kxTbPqV+Z6h5YBzjr4069Peu/+R0e8txfmKehucWSEkVEFmMtVEz47F3H3I/nMGhmko7qSvCVnOTiwmUV/rXHVF650BqIYbOO+ii5KftHN3e8VsT7k676RdDo33c/2nO1sN15PZW8uu36xDCp8S8Rqz2aQ+lgJP1nRwKo5bazSy8Iv11NesZ0OFrAodbJu0HSTJZtFqd7fh359mJ6B0CXOc+zpIlYZd3HqwRm0xJ0/IYTWZZhTNYXs+zYzlz4q12ynJyTiGXmrgcqqDjDns3FFPKfoTVhWA50KzFnEou9ofjJmRLybV4YHATOWmVM4/PTtlO++ic0Dw/y+8yAHX7SFdOfHa5CdT+1kRpP+0M/IiRYadpvJbzrF6NAuCagSaMHyNSwAOh6tpGUo5MuPeuh4Q61o7mN0NAGFC7lJJx3zTAtmoKtP+2TEEIPdwDdTuX4KnP3lc+pw3P/D/h1rWDYTYCF3V9Ww/xfPsmCggbIdh4P7Ymcu4/6KNaypWMOa1csCd/PTZmExAwcdBG1x4Bgwl9SvTSE1LRfo463Bic5ZSeUfv7OIRbeV8OymElDsHPvdBJP6NLhwpTMAcJb3hwDymTXd99ksXt1axuDqHdhujhyxTrn9ITbf1kFlVQMLqjeqUxp8Yrdn5pwXOOX+iI8+8v64X98cWH2ggfKc7bx/10E+equbg68dpLowPA8Li9S6WLGGuxeEf8+pnWzZMYNdT+eH9DxNrL0V4vPqsrxS4aqMNfys+hi3V1SSOaeF7JxcFqVOQelr5OXdJ1FYgO21WnKnxU4LprCoeDML6iopuzcVHlzIFM7iqFvPq3N20al5VPpASwMW0rlm8AAVj/TBbS+QP2+EtxrV7vORs5xVhuio/jHhD1Of5WTPYQ5/Wf39LMAQ//nrwyTPWaQu04fyjVZ+eZdOT8lHHaz/rh2lcBetd82AYZntklDfXMOuJge3FLZQlNbDj/9/9u4+Lsoqf/z/i4BZENRAg0FDUckVWkN/oZA330XdMm/CjDRL3U1NxTapzHYTd81sxf2Y2YaVpqH18abMJYVFXWtV9uNNQ9GHJlf0o3gHGQMJKA4ODoz8/pgBBpjhdobh5v18PHzIXNe5znnPcDHznnPOda5np/LEICXXLx9l776DnGEW77z/FB5HV7NeM4RVUx+y/AHw4NO8NesDZr/2AivufZMxylIu7VvNCo2Sp//2DEO0Kla8/gGakFUsn9UPqDX0EjKX5dHreWzdn/ng6eMsCWko8CE8ve5pPpj1B174kx9v/kZJ6eW9rF6pQTlrA8+EgHLA8yxR7mX9C7MJ4E0m9rvEkTUryHg8me2WzrU6jOepjlLOfLwVlM8z9JeNeVHbKIf1VH3Nrh176TfGj6Jv32fxx6BcOpcJysre8DN877aK9KXhDSQX/XjmjVVs/V7D8llDqHkONfx+5gbgdjd3VzZi/q5dcp1c04+l169z6fsPWL2pGU9VrSHosxQLXw4bGZ8QAmi1FdXdGPLSP0gf8gFx697hg01xHASgH+HPrmXLn55nQkDj/zTdHowl5d9uLH5+PdN+Yxxa6/foElY9OaTGH7ifVkXMyAXGy4yfXMvx94yTKv3mxzP1XzHG7vTACSz563Lisx4zzXGodJS4GUdN8woqbSXmN1tZdaKcsQCBsWx/byp1R5Uu8enS+XzgOZc9K2t/8xO20m/GdtKVDxnPqY/XmyZpG8+p438dwRHlKF6mH1P/toclFoadTbXw9HtfgfIPrJj1sPH3HTiBJTu2sOpJJd//7Uni1P14PuV5wi1WcTcTlr7F0/tm84c1nzL1s4Z/2/1mbOEr/PjDytk8/FdjDBOWbmfLn0znkucY1h7fAy/8gRVPhrIC4/m9NryxZ5LxPAXoFzaX+P1rmdCer353WE9VEHdnfcCTfzqKBiVjXtpO/J/GVL/HKKey+ZPYRq2H5vZgLMd/tL6vMe9nFoU8w5svHWT+Xx7m3r8oCZoRS/zflpAx41Ijn6NRv9e2s+VJyyvJtyg+IToZp/LycotvWaW3b3P9RjFKn3vs0Gwp16/D3Xfb4E+ytJRSt5qTeCsX8lt1opzYsFJKS90szoEvvV6KW1NiSIvDZeQKU70tjrzT0ZWWUnxTi+89PW1feXkp17W1zqnS0kZe/GB2iBbcWnMBWm0peNYTo4Xzu7MpKCpC4aqgq6dHq7Wp+osLo1ZOZfvlPTytLKUUtxbMcWuC5v6+S69T6nK3/WOU81GIerXuvf+quGFxXnCzqmroD9xyQgU0LaESbZuLhXOqiQkVtHJCBfUnVNCI87sTcPScqiZdedlCzf19u93dOjHK+ShEvRyUVNmXW78JrP3rQwT1sHHFPYay9q/xDO1t43qFENY5YE6V75C1rP3r3fST22YJIZrAQcN/ojOy6/Cf6LAKCotQKFp3+E8IIZqjFZZUEEIIIYTo+CSpEkIIIYSwAUmqhBBCCCFsQJIqIYQQQggbkKRKCCGEEMIGJKkSQgghhLABSaqEEEIIIWxAkiohhBBCCBuwuvjnTa2Wm9oS7rpL8i5hGxUVFVRUVMg5JZrkzp07cs4IIdoFq7epKTcYcHF2xs3dvTXjER3Y7du3uWMw4N6li6NDEe2ITncLKpxw7yLvRUKIts1qUuXu5sbt23oUCtfWjEd0aBXcuqWTc0o0ye3bzri4uMh5I4Ro86RPXQghhBDCBiSpEkIIIYSwAUmqhBBCCCFsQJIqIYQQQggbkKRKCCGEEMIGJKkSQgghhLABq0sq2ELFnTv2rL7NcpKFCtsHQxEX0jV4Dg3CV9FwcX3eGX4oVhJ6n5f9YxNCCNHu2DepAq5fv2HPJtocFxcXunXr6ugwOqW8jBR27/4CdR7gDNqim/j/+jkWPTueAd1qFTZoSFmxmNTQ9awLa1z9ip5eaNbNYenoTayLVNo6fCGEEO2cXZOqSr39OscHkK60lOKbWkeH0fkUq9n+59fZWzyGmFWbiPE3dTsVf8umF17nxZNnWZnwIqEe1YfkfP46W52fIyHSv259RRf48uPVbFK8yBe/D6ne7qxkcuxLpM9ZTMKAPcy7375PSwghRPvSKkmVk5MTTk5OrdGU6Gx+SiXutbWk+/6Wt96dUbNHqtswov/4BEdf/YK3tkewO9qUIOWl8O52mPrueLycq4uf/Xgub311Gz0lFBXp4WF93fa8Ipj31Kcs2vgFk997Al97PjchhBDtikz+Ee2XTs2m19ZysjiIuS/PqDvEBzAohJFASXIq6QbjprPJn3C27xgi+tcq+uxWEnbuZPvSR+pt1n/UePwvfsreH2zyLIQQQnQQklSJduvsp2tJuQYej/6Wyb2sFHJWYBwMzCInD+AMJw6X4DtiGP7OVo5piP8wInqVcDTtTDMrEEII0RE5OKk6hToqHFVUOOkHCmxS48XN4ajVLag/P5n0Zcnk1tqce2CJzWIUNqA7QcrfiwAlk8eFWC93LYcsABS4OgNX1JwshgH+LZnn54v/QCj53zPktKAWIYQQHYuDk6rBhCSq6DtvhG2qU8eTzxZCqj5jbVe/38T1eP84ySxhE45U8vWXpAJ0G8Gw/tbL6c9kchagWxCBPYHCQvLwwPceD+sHNUiBd08PuJJDnqEF1QghhOhQWmWienPkHljClYSTALjM20/oxB6gjif9agCuCXHoAMZvIXzBYNMRp1CvAp/EwdaqtFp/ZT0XN4eTf8i46UpUHFcA9xWqqiSt/+OxpL+TTG5IJH62eqKiWbLOmbLbXwXWM4ynJz3N+Dv2iBjGIGfIy7kAKPFu4VJTXj37UDmkGGpt6FEIIUSn0jaTqvxkrv44h/DE9UABmctWkxm6nmCgPCGVLhtVhPicQh11lIsLBtMfQH0U3fgx1DMQVLP+YxH0TVxfIznqv0BF/8eTSX8Heq+xkDj5ROLdL5x8dSR+jWpI2I3BdGWehwdW+5yKjrL/iB4IYkak/MKEEELYV5tMqnLTUyk/FIfqUOWWEVRd2DV+DsE+AL1wHXiZ0nzAB3KvXsY9rHG9VPiMpAuTuBJ1GV1iDPWMHtXhfu8ICq8WQEiPJhwlbK1PQBBwBqwOv5WQ/vFHqFEwaP5LTJXeJCGEEHbWJpMqMBvyM1d79ngtZY1OdnoQvEZF1UT2gbH0tdQzZYVrb0moHM0rdAyDOMPZtG9RG4YRUmsIMC95BXFfleA16Q3eMFvg09d/AHCUwiKgBYlW0bVsYBT+slCVEEIIkza5pIJf7wDKj51oKIeqe8yPPzWxpcGEJG7B/dxl4xwtAJ9+uJo/rkX3I7jKhCrH853Mq9FBKEpSiN+ipqSyx8pQxNm/L2PRJg2h0RvYFD0MD/OEy1fJAErI+7mkBY3rKbxWAr28kLsACiGEqOTYnqr8ZNIXxVEOwCRUCSPotnE9wSEx+KSFV00Wh2fwaWiYLmQM7qvM5ljVVz/m242T0avrHkzX8fPJj9pFPjUnqsMpbl6KwMfHNk9ftIxv5NtsDzpEQsJaZk8HL69fgMED/7FRvLUzggGWMp5eQTzQDVJzNMCAGruKvlrN0t0X0BdpjBu+Ws1TP3jjOfAp1i0bb5ZA5ZFzDjzChjGguWtdCSGE6HCcysvLKyztKL19m+s3irn77u7NrvzOnTtcv36De3v5tcptanIPLOHKj3PMrgi0rYubw7kZZp5k1VRy6xbFN7VyQ2Ur9Ho9t27pWnRO2cLZLdNYmhbFxo9mYOHOfw3L+YJFCz8l5K97iH7A1tGJ2m7e1OLi4oK7u5ujQxFCiHq1yeG/5vKbuB4f5ttlLancA0sovHe/1YRKtB+DIn/HoJ++JPV8847POX6InEFPM1VuqCyEEMJMh0qqwLgsgj0SH7+J6+tOnBftk+9knnvyNrs/PkRRU48tSiVhNzy16Al8ZehPCCGEmVZLqioqKjr8P9F+DPrd20SzkdV7NY0/yKAhJe59yub+idn32S82IYQQ7VOrzKnqTFxcXGROlRVtZU5VFUMRF9Kz8XwgBF/3hovr887wQ5EXoYNact9A0VQyp0oI0V7YNanqrL03rTEpvz1qc0mVaBckqRJCtBd2XVJBkgshhBBCdBYdbqK6EEIIIYQjSFIlhBBCCGEDklQJIYQQQtiAJFVCCCGEEDYgSZUQQgghhA1IUiWEEEIIYQNWl1QoKyvD2fkuysrKWjMe0YEZDAbucpJzSjRNRUUFZWVluLjIfYGEEG2b1cU/daW3uX6jc62GLuzPycmp0y4KK5rP2dkZg8Hg6DCEEKJeVnuqnJyMH4BKn3taMx7RgelKSym+qZVzSjRJQWERCoWCrp4ejg5FCCHqJXOqhBBCCCFsQJIqIYQQQggbkKRKCCGEEMIGJKkSQgghhLABSaqEEEIIIWxAkiohhBBCCBuQpEoIIYQQwgasrlNlC+Xl5ZTevm3PJoQZZ2dn3N3cHB2GEEII0SnZNakCKL6pxU0+6O2uvLxcFkdsKkMhWd9o8HwwGKWi4eJ6TSYZxUrCBnrbPzYhhBDtjt2TKoCe3l44OTm1RlOdVm5evqNDcDjNd0ns/HQPGRrAGbSFWvqMWUjMvAkEdq9V2KAhKTaaw8PjiX+ocfUr7vFG89dZxERsJf5xpa3DF0II0c7JnCrR/t3IYNvzE5n7ThZDX9zKjh072PHJDvbtWMZ9375N9Ny3SdPWPCT701g+dF7Iysf71K2vMIuD62Yx8d2MmtudlUxZsZSum6P58D/2ezpCCCHaJ0mqRPt29Qgro19lj2Im8e+/wlh/s3G87mEsXj4NzxsHWfOxWYKkSWLdxzDt2Ql4O1dvzkyYxazp05keHcPb/9SgL9PXbc97LAuf8WbPhj1o7PakhBBCtEcOTqpOoY4KRxUVTvqBgsYdoo5HtfmUfcOyqQIyly0hs9boXO6BJY17zvnJpC9LJtc+wbVvugw2LI3j+I1gFr46s+4QH0DQEEYD2n1HSDMYN2Xu3UZmwDjGDahZNHjeDnZ8/jmf/3FCvc32+fUE+lzYyZ7vbfIshBBCdBAOTqoGE5Koou+8EY4No7XlJ3P1WAS9J/YwbahOLo3/4rlYWdYnktAZl7nSrhLJ1pG5fQ1JP4PnxDlM6W2lkLMCY9/VebI1AJkc+5cW5agw+jhbOaYh/mGM663l8NeZzaxACCFER9QqE9WbI/fAEq4knDQ+GL+F8AW9yFw2ieJzALtQHQIYQbeN6wn2sVbLKdRR89GZHrnM20/oxB6gjif9agCuCXHozLfnJ5O+D7pcijO2M34L4QsGGw9Wx6NatcssnsF1yw+Mpe+aSPxql2cE3apiKiDznVS6vLzeWK7KM/gkxtDf0tMImUm3z1aTmV/fc+1kdMfZ93khoGTKI0Otl/s5m/MAKFA4A5czOHYDAvu0ZKK5kr6/BO13p8kmGAuzsoQQQnRCbXNOlaknp2+iivBElSmx6UHwGhXhK54xJjWJKsITG0oyjD1hxrJbcE3YWdUDVJ6QiuvGyu2rq4fnDsVRNkNFeOJ+ul2aj1oNcAr1ZwFV8fhQub1WeVIpyjfGn74KfBJN2weaP7cT3CICryYlRz0InhFA8T7praqkPX6QIwDdRxM2wHo5feZpMgG638999wAFhWjwxM/HswWtK/Du6QmXs8k1tKAaIYQQHUrb7KnyGUkXJnEl6jI6a703jXRxczj5hyofPUPXyh/HzzElZIPpOv4kN3MBP2BgLD4hAD3wGj2Cq1cLgKPozu3iSlQcV0yHu4eZfjAr79bPVA+XYd5My3HnXobRM2v1UgHsIj9qF/lQs4eskl8ALpcukctgC8d2Puf/zzTxfPB99Qzj6flGdRwAzzHDCXYGTc55QIm3V8va9/bpQ+WQYpi1oUchhBCdSttMqky9UlVzjcyH1ZpCHU/+pVj6JkbixynUUUetFByBq5XKXXub5j1ZSnSsLA2Ve/VyvWGV//gT0MNsi7FHzaiAzGWTUKtVhITUOrBfP0moKhlMV+Z5emC1z6nwMElf6YFgZk6tZ4hQCCGEsIG2OfxXZTAhiVtwP3e5al5UdY9NbaYErPaE7spERH20ug5z+ckUHgrArc5w3CnyEzAmW34BuBw6Wj15vAF+vQMoP3aCXCD3wGrTPLCG4q/0E2XnLCR5uZfh3l6NjKDj69s/2PiD1eE3LWlbPyQDBcGLljJNepOEEELYmWN7qvKTSV8URzkAk1AlmCaeY74d3FeoqofSqoYG47jS0ET1kDG4r5pvnNQ+PpZuAy9X7zs0v8Zk96r6z8VVDfO5r1CZ6o6k97wlXIkKN3VOVcZprd0YfNLCuRIVB+O34DN+G6U14l9NUX4kflVx15xQX91utYtpl+nyeA+EkfewcQSTSebX35BhCGNorSFAzb5Y3vinFu/HVhNntsCn0v8+4DCFRUALEq3C/GxgNC2a7y6EEKJDcWxS5RNJaGKkhR3WtkP10GBt5kNo9W0zsTScBzWv4DPjN3E9fhMtxLmm+lH/BaoaP/dfUPlofc34ZwSgeieZ3Kp26okTjMOYzCFcrvyrppxC7AuHmfteEm9vHMWmRUPxdAYMhWQmrmHpZg3DX9jE0scCjdurjlMSiJbcfC1YHzhsgJ7Ca1ro7Y2kuUIIISq10TlVHVxIDH2vLuHqgZH4TWzgYzk/mfTPAui7xkIC2MkpH4/n8+CDfLh5DdMfB29vBRg86fub6cR/PpZAS/c97n0/Q7vD4WwNEFhjV+E/VxLzaRb6QtNa6f98g8e/98bzlzOJ//MEqqvTcOX/wDM8jMDmrnUlhBCiw3EqLy+vsLSj9PZtrt8oRulzT7MrLy8vJ/9aAff28pMbKttZbl4+XT09cHdzc3QoVulKSym+qcX3np4OjSNz4+PEqKax9ZOZzVtjKmcPc+fsZOi6fSweYuvoRG0FhUUoFAq6eno4OhQhhKhXG5+oLoTtBU+dQ/DVgxw+13BZS7L/fZDsoJlMk85DIYQQZlpl+K/k1q3WaEaIxlFOIXr6TmISDjLlv8yH9Rqh8Agf7oKZf5uGUob+hBBCmLF7UqVwdaWkRJIqe7tLhlebJHhePItj57IycSjxUY28hM+gIWlVPPoF8cwZ2HBxIYQQnYtd51QJYa6tzKmqYigk65sreA4ZitK94eJ6TSYZRd6EBck6Cq1J5lQJIdoLufpPdF7O3gQ+1PjBP4UymDDJp4QQQlghE9WFEEIIIWxAkiohhBBCCBuQpEoIIYQQwgYkqRJCCCGEsAFJqoQQQgghbECSKiGEEEIIG7C6TtVNrZbbt/U4O8uy0cI2DAYDFRUVuLjISh6i8QwGA3cqKnCV80YI0cbV/y7l5CQ3QhY24+TkREVFhZxTokkqqJDzRgjRLlhNqlxdXSm5pcNTVjEWNqLX67l1S0dXdzdHhyLakbKb5SgUrrjJeSOEaONkTpUQQgghhA1IUiWEEEIIYQOSVAkhhBBC2IAkVUIIIYQQNiBJlRBCCCGEDUhSJYQQQghhA5JUCSGEEELYgF2XKL5z5w43b2rt2US70r17N0eHIIQQLVZWVs6tW7ccHUa7JZ8FHZfd7/tgMBjo4e1l72bavMKi644OQdRmKOJCugbPoUH4Khours87ww/FSkLvk/NZiLvuuotuXT0dHUa7I58FHVur3EzL3c2tU99iovT2bUeH0CnkZaSwe/cXqPMAZ9AW3cT/18+x6NnxDKj9xdCgIWXFYlJD17MurHH1K3p6oVk3h6WjN7EuUmnr8IVod7q4uzs6hHZFPgs6PplTJdq/YjXbX3ycRfEXeOD3m0jYtpWEj7aye9sfCEx/lxcXvEt6Sc1Dcj5/na3Oz7E80r9ufUUX+PKduTzxvrrmdmclk2NfwnPrYhJO2+/piFZw9jNefG4um9L0jo5ECNGBSFIl2refUol7YRl7FTN4690XifA3G8frNozoPz6BR/Eh3tpuliDlpfDudpg6ezxeztWbz348l3kzZzL7hVeI/0qDXm/hA9crgnlPebN34xfk2e1JCfvSczLlM3KuFZKSfJQiR4cjhOgwHJxUnUIdFY4qKpz0AwWNO0Qdj2rzKfuGVY/cA0tqxFr7sWhFOjWbXlvLyeIg5r48o+4QH8CgEEYCJcmppBuMm84mf8LZvmOI6F+r6LNbSdi5k+1LH6m3Wf9R4/G/+Cl7f7DJsxCtTfctJ4+7Mun3v2VQxhek5jg6oI4n98ASVFHhqKLiudjIYy5uDketbricfZxC3YRYLXFs/KKtcHBSNZiQRBV9541wbBiNlZ/M1WMR9J7Yo2qT38T1eP84Sf6YHODsp2tJuQYej/6Wyb2sFHJWYOy7yiInD+AMJw6X4DtiGP7OVo5piP8wInqVcDTtTDMrEI5UdDyFVL+neeThMTwyNIfP/lnz95hz5AM2Hcmpd1vJ+UNsj3+dF198nYSvLlBiqNXIlVQ2bfqgxr+9P5iNQRs0pH/+AeteW8zK+P/my/Nm+4rV7K117Ka/qykpVrN30xeoi80bKuFs8gekXgHIIXVT5c/mcaSSU1VvreMtbKt6bq+tZdPn35JX+7k1gt/E9YQnbqG9zLi6uHk+rIihf8NFjV/so8LrfLnvv2A/rp8tITPfLiGKdqLNDv9Vf9OpPHkLyFwWjmrVLjg037SvgRNYHU/6gWSLvWEXN4dX1V+1PT+Z9M3Jxnbq/NEUkPlOKl2dWyrTAAAgAElEQVRejsSvVjP9H4+l7LNkcm303EUj6E6Q8vciQMnkcSHWy13LIQsABa7OwBU1J4thgH9LJpr74j8QSv73DNLJ0d7kkPqFGv9xw/DHi4hHIyg5fIKzZolD4ZkUUs4U1jjKfFve/leYHXcSgiYze2oIedsXE/1JrQS7MJOU9DL6Dx1G6NAB6NNTOHH5pnFfiZpNc6LZeEFJ6NTfMjlIz/7XZrI0WWPcr8vhRHI6+oBhhA41/Rvoi6suhxPJJ8jRVTeTt38FsZtSOFsIUMjZ5MqfzeJIzqSwqt6ax9felpf8CrNfS0EfNJnZU4fje2Eji+Z8gLrWnMTmK6h+f40y9ezkJ5MeFU7+IdCtMu1bVv/76cXNS8g8EG/hc6B69MN8u/XygDqefLYQUs/biHlZVdoYKx0BPQieEUDxPseNpAjHa5Wr/5rM1CPUN3F9jQQmeI2q6qQOXzC4UVWVJ6TSZaOKEJ9TqKNWkxm6nuBc4x9ReOJgjH+Epu0Ah+IoW6EiPKSAzGWTUKtVxj+2/BPcIoLePhYa8YnEu184+epI/BrzhylarOTrL0kF6DaCYfV8vdSfyeQsQLcgAnsCPxSShwcj7vFoQesKvHt6QGoOeQaa3+MlWt/pQ3x2JYR544wXKChCRxJR+hYpab9l0IhGrKsB+D76Nl88CjgDDOMB5yyeeP8EZ+cGMchUJi/nAgx8goiwYSjQoNkN2aZ9Z3f/hZSez5GwbDK+GOsI7QVPvbqR1Ig3iADAy5iQ+Zo1XHsS308pvPV36N+z6S+DRcWpbNyUzSOrdzJvqPG1CA0LwWP5TOJ2j2H33KAWN5F7YDW3Ru8nfE0Ps62RhCZGcnFzODfDVI1LbjhJ8bEI+iaq8FPHo3onmdw1keg2z4cVKsJDMH5WmLZbK+8HXEzbhXtYTOOeQEgM4SGQe8Da/pl0+2w1mfnrCbb0WSE6vLbZU+Uzki7EcaWFY9wAjJ9jOrkH03X8ScpyK/+IKpOywfjMg7LKr0UDY/EJAeiB1+gRlF019WLlXobRI+v0UlVyv9esrLC7rHOm8dZfBdaT1OhJTzsJgEfEMAY5mz7sUNLSpdO8evahekhRtA96Th5MoSRiMhGVv3/3kUye5Erq/loT1n/4otbQndk+Z9M/g56S4hLKDECxHvOL5YuuZaPo5kndNE1D1n9KGDA6FPN8yTj371vOXmjkUzHksPvNTwn64wwCr5ltV0DWZY3ZU669+HI2qbvMhhV3Ha3ubb2QSTqjCH3APGovQkIHUPKfCza5MMMvNAISJtlkXqz7DNOoQcgY3M9dRscpbh56hq6VSVnITLpxGZ3V8gAFlF4yO6bFeuDW72T154nodNpmTxU9jL1SlV25A2Ppu6busFvTjcC1iZW49q7+RlX+409Aj0aVFXZmMF2Z5+GB1T6noqPsP6IHgpgRKV2InZ7uW04e14N+NU+k1t75Bak545laucJGzyBChw6o2nshJ4X0ygfXvmX7+x/x5bky+oSE4q+7AJifXyVoLpfwQESg1VBca38RqJr71xglqDe9zrcT3mbdoDw2VW0PYWrMSGLj5zJ5C4ACj24A5hdedKVP0DBCK5PKojK+/SrbbL+rxdhsxsfYK2WclzQfl3n7CZ1og/fNgQG4AzebWN7oMqX5QK2epYubjUOSQBPjbPrnjOg42mhSVWkwIYlbUEcdrfq2gV8ALpcukcvgWknWKdRR89GN32J5aDA/mcJDAXgvMPYq5aedghDj8F9+ArhurH1Are1W2zXS/QiuoS15rqIp+gQEAWfA6iTaEtI//gg1CgbNf4mp1iayi06j6HgKqW5PsC7xOQbVSBxy2LtoIZ/98wxT55uGuHoFERpWnSi5ppuV/fPrqB/ZyvbXTfPyMj4gJa1GQ3yVHsRDv7eU7nvjrYSLOXmA2by+vByyUDLMuxHPI+0T9l5+grjfK6k9Jug7djkJY0GvB4XCGNvk5eYlag0r5uXhVTkw6e2NL9+SkwchZt1ompwLoHwCm95HICSG8BWgSqv+oup+7wgKrxZASK3kRR2PatUu3FdYHhrMPbANXb85+NGLooG7uKmOMea46p0UE4AXoLNYHip7lm7mUiep6r9ARf8FTX1iBZReCsBNhv46LccO/5kmKF5JOEl5wqTqCYSm7cZJhbWuyqgaGmzERHWontS+KJUuG431+E1cjw/zzeo3G/8+V1l3re0+I+lCKkUW2zvFzUsReMkfUqvxCh1jnL+S9i1qC4lVXvIK4r4qwWvSct4wW+DT138AoKGwhYsTFV3LBgLx922wqGgTjBPUPR4ZWSuhAvAn4omQOhPWLSskLxe8vboaHxo0pB4+Ub3bUEL6rv/mTOhjjLR4bigIfXQyHvv/m+2VV/wZNKRu/5SL9z9BRN+G2j/D7r9DzMrJ1HfqKZrTudQ3gqn3X2D7J6lVV/yVnP+M7V95MPnRYU3oSau8EGg+OnaRb3bRT40LkFaBj9kX4KqhwUZMVIfqSe1XjkXQd8FgjCMcW2CVWf1mIxx1yxv1D3sGXVojhyPNPrOMny21PoPyT3Cr35jGXUUoOiTH9lRVdgXXYW07VA8N1mZcnqEOKz1XVr+FWB1qNF7ZYT7BsdLFzfNhhsoGw5Oi0Xwn82r0URZtSiF+y0ji54fg4QwYiji7dy2xWzWERm/gxUkDjNurjlMygBLyfi4B6wOHDdBTeK0EennZ9tu7sJ/Th/jsij8zYi1PtvYKG8+I9/9GysmnebjeikKYOj+ERWtnMnuHNwrXQTy16GlCj2RDXgpL53zARd+RxKyOsHpuKB54nvhVH7H6zzPZXawHFPiOfo63GkiUTJEy+eXfEdKS6yysUjJ55dvw/loWPbYWPYD7AKb+6T3mPdC0LM3a+6vfxPX4TbRykLXPg5AYwhPrTiS33HNl5XPAanlMk8vNLkqqj9XPLDC/Qlx0Xk7l5eUVlnaU3r7N9RvF3H1392ZXfufOHa5fv8G9vfwcc++/Jl4pSH4y6e9A73rmb+UeWMJVlleNr9d+bEnp7dtcKyjEy+vuJj6BjkWv13Prlq5F51RtJecPkZDw36SeBy+vX4DBA/+xUcyeHMEAi59qZ0iY8QqpkzawffaAGnuKvlrN0t0X0BdpKNIBKPDw9cZz4FOsWzbe7EMyh93PLeSLsLfZPb/lV0SJ+t28qcXFxQV3dzdHh1LNoKdEr8CjpQsxVY3TtT31hVZWVk5paSlKn3taNyiTpl0p2Jjyp1BHHaVrYiPXqmpmTPJZ0PF17KSqjZA/JCN7JFXNcXbLNJamRbHxoxlYuPNfw3K+YNHCTwn56x6iH7B1dKK2NplUdXKOTqraK/ks6Pja5pIKQtjRoMjfMeinL0k937zjc44fImfQ00y937ZxCSGEaN9aZU5V/s/XGi4kRGvxncxzT37K0o8PMXn1+KbNiypKJWE3PPXWE/jKop+ik8vL/9nRIQjRptg9qera1dPeTbQLv+AXjg5BmBn0u7eJXhHN6r0hrJvayFvWGDSkxL1P2dz1zL7PvvEJ0da5ucl7WnPIZ0HHZtc5VUKYaytzqqoYiriQno3nAyH4NmLCsT7vDD8UeRE6qCX3DRRNJXOqhBDtRRtf/FMIO3L2YkBY4wf/FL5BNe/FJoQQQpiRiepCCCGEEDYgSZUQQgghhA1IUiWEEEIIYQOSVAkhhBBC2IAkVUIIIYQQNiBJlRBCCCGEDUhSJYQQQghhA1YX/ywp0VGiu0XnvQ2ysLUKKqCCTn1zbdF0FRUVON3lBBbfqYQQou2wuvjnnQoDd93lhLtbI5aaFqIRysrKKCsvp4u7nFOi8XSlpVTcuUOXLl0cHYoQQtTLalLl6upKyS0dHl3kA1DYhq7Uidt6vZxToklKS0v5hZubnDdCiDZP5lQJIYQQQtiAJFVCCCGEEDYgSZUQQgghhA1IUiWEEEIIYQOSVAkhhBBC2IDVq/9soby8nDt3ZHGZ5rrrLidcXOz6KxJCiCbT68scHYJDKBSujg5BtHF2/8S+Vlgoiz02Q0VFBT49ezg6jI7NUEjWNxo8HwxGqWi4uF6TSUaxkrCB3vaPTYg2rNxQzo3im44Oo1W5u7lJUiUa1CrdIL39lJJYNcGdO3e4mqtxdBjtjua7JHZ+uocMDeAM2kItfcYsJGbeBAK71yps0JAUG83h4fHEP9S4+hX3eKP56yxiIrYS/7jS1uEL0a64uLig9LnH0WG0iqLrN7hz546jwxDtgMypEu3fjQy2PT+Rue9kMfTFrezYsYMdn+xg345l3Pft20TPfZs0bc1Dsj+N5UPnhax8vE/d+gqzOLhuFhPfzai53VnJlBVL6bo5mg//Y7+nI1rBmZ1E/24WG77WOzoSIUQHIkmVaN+uHmFl9KvsUcwk/v1XGOtvNo7XPYzFy6fheeMgaz42S5A0Saz7GKY9OwFv5+rNmQmzmDV9OtOjY3j7nxr0ZRY+cL3HsvAZb/Zs2IP0JbZXeo4n7yT750KS9h2m0NHhCCE6DEmqRPuly2DD0jiO3whm4asz6w7xAQQNYTSg3XeENINxU+bebWQGjGPcgJpFg+ftYMfnn/P5HyfU22yfX0+gz4Wd7PneJs9CtDbdN/zPvxVMiZlD8Hd7OJzj6ICEEB2Fgy8tO4U6aj46wGXefkInNmJitjoeVdoYwhcMbt12myn3wBKusryqjdqPRfNlbl9D0s/g+fgcpvS2UshZgbHv6jzZGgjrncmxf2lRPhZGH2crxzTEP4xxvT9kz9eZLB4S3MxKhKMU/juJI71msvXRcfQ5+iEfpmQybVH17zH7qw0kMYXFD/exuk177iB7Uo6TlgVDI+cw8+FAPM3Pp8tH2JByuka7ylFzmDbE0/jAoCHt8z0c/u40Jb3CGDV5GhMGmvbdyGDP9uM1e0J9RjFnPBzcnkXg7GkMrfoCoSVz3zY0QxYzNiCbI+8lweTFjA0wjwOmvDCWPjcy2FP7eAvbqp7bTx7c/+A4pk0PQ9nEv5XcA0u4knASeAafxBj6N+KYi5vDuRmmIiSkaW011sXN4eQfok5M1dtH0G3jeoJ97NO+6Bwc3FM1mJBEFX3njeiY7eYnc/VYBL3NEii/ievx/nESarV9m+7wdMfZ93khoGTKI0Otl/s5m/MAKFA4A5czOHYDAvu0ZKK5kr6/BO13p8luQS3CEbI5/PcM+jwSRh+8GTdxLNp/HSPTUF2iIDOJpMyCGkeZb9P8I4bpq45DcCRznhxC7ifRzE3IrNlMwWmSvtUT+OBwhj8YiP7bJI5dNk3s02awYdZcNmQpCY+aQ2SwnqRXphOzz5RG6bI5ti8Nff/hDH/Q9G+gHwpdNsf2HSNbV92M5h+xLH0vidMFAAWc3lf5s1kc+05TUFVvzeNrb9Psi2H6K0nogyOZExWOMmsDc2dtIKPWnMSG+E1cT3jiFtraLbDdV6gIr5Xk9V+gIjxxP90GOiws0YG02UWQqr/pAOO3EL6gF5nLJlF8DmAXqsZ+s8hPJn1RHOUAA2PpuyYSv/oaVsejWrXLrN3BQIFZ2+bbT6GOOorrvMsUJ5ysFU8Bme+k0uXl9XXa6/94LOnvJJMb0kAswirt8YMcAeg+mrAB1svpM0+TCdD9fu67B/i+EA2ejPbxbEHrCrx7esKRbHINNL/HS7S+/xxk5+WhLPyNscdJMfz/MVYXx76v5xA8qhHragDKifEcmAg4A4Qx1Pk8E+OPkbkgmMr+Lk3OefjldMY9FIYCDZpdcMW0L3PXGyT1XMiOP0/BmNqHEXYvPP7SBo6MWc1YALwJ/P/CCDPP/WtP4ruaRNxuCLTVBXg3jrDhvWwm/NfnLHzQ+FqEPTQEzz9O541d49i3wBa9sjXfS91XqAjxM3uPPhSOChr3Xi1EG9Q2kypTD0/fxJoJSfAaVROH/06hXpRKl42qRnbpnkL9WQB9E1X4YewWVqtVhIT0MLYNGN8UVpOZX5k87eIW+wlP7GEc2ksvgIk9IP8Et4igt6V2fSLx7hdOvjoSPzt1dXd05//PNPF88H31JDV6vlEdB8BzzHCCnU0fdijx9mpZ+94+fageUmxZXaK16Dm+Pwnt2FjGVS415j6Kxx9TEPOPw0SPmkDVCmTqv7PhveNVR2rUQOXfauX5ZtCj1erBANzQc9uspcL8bBTdPKibpmk4f0pLYEQYNfpKg4Ywmj2czoKxjTmfDNnsfH0n9y9/Bf3i5dXbFXD+sgYeNNWuvwl0NTswm8M7NpDtZnpYer66tzXrNGmMZvUQ86i9GTo8EG3qeTQE09KFRHIPrObW6P2ErzGf/hBJaGKk3Yf/hGgNbTOp8hlJFyZxJeoyukaOx1ukPopu/BxCGjtGrj6K7twurkTFVX2rdA8z/l+j54wRdKs66Bm8TcN7fhPNksDcyzB6ptVvWu73jqDwagGEyNyqZjGYrszz9MBqn1PhYZK+0gPBzJxazxCh6Bx03/A//9aDfiUTj9TeuYfDOROY5m96eE8wwx8MrNqblZNEWuWDn9PYFv8hB/9PT98hYfTRZQHm55cWzWUtQ8fcZzUURe0vAlVz/xpDS8Z7saRNjic+KJcNVduHMu3lUSx9Zxa/2QigwLM7gPmFF570DR7O8MovFUV60v55xWy/wmJstuIXGsHVRZNQ/bilBfNia40cgPRsiTajbSZVVPYMnUIdFY6qNf9gxlv4Y89P5mpCAD6J6+lv6qlqjPIffwKsJ02uvSWhaq6+/YOBTGMvgUVa0rZ+SAYKghctZZr0JnV6hf9O4oj7NOL/sZDgGolDNnuem8tO8wnrvYIJe6g6UVJ8Y1Z22XIyJuzg8zdN/TbfbSDpa/OGjnHwm2BGxVhK973p4QdZV3LBvN9Hk815lIQ14i2hULWNPZemse5FJZBbY5/y4ZXseBj0elAojLH95o81268xrKjRsLPyK2QPb5Skka2BoWah5V7JAr/p2OQ+Aj7GXinU8aii5jfzQiHzkQMh2pY2vqTCYEISt+B+7jJVcyv9AnC5dKnWWwlUJWCbT1VvChmD+6FtZOY3sjm/AFwOHeWipX0DA4yTLvNPcOucpQIW6rIYp5HuR3CVr1XN5j1snHH+ytffkGEhsdLsi+WNf2rxfux14swW+FT63wdoKCxqWfuF+dnAfbRovrtoRcYJ6p7jR9dKqAD6MO7JoXUmrFtWgOYn8PaqvorvyL+OVe82aEnbvo3Twx9ntMVzQ8HwiVPw/Mc2tp3TVtfxyU6yfjWNcQENtZ/Jzt3wyl+m1DsUp2hO51LAOKb9KottW4+gMb0O2nM72XbIkykThzehJ60RQmIIX/GM6Yunkfu9Iyi7WlDPQZUKyFwWjirK7N+yZKvvtUK0Jsf2VJlPImcSqgTTRG/MtxsnM1YNAVYNDcZxpcGJ6oMJWRGAalGtyY/W2vWJpPe8JVyJCseYh1VuN2tzYCzdxjfiufmMpAurKcqPxK9OfKe4eSkCH7l0t/mUU4h94TBz30vi7Y2j2LRoqPGSdkMhmYlrWLpZw/AXNrH0sVqXuiuVBKIlN18L1gcOG6Cn8JoWenvX0w8p2pT/HGTn5T7MfN3yZGvvhyYwKn4d+47PpP5VyoYybdFQ5sZNZ/on3ihcg5n5wkzCvsoGTRIxszaQpRzF0v8aa7VnRzFkMZviPmTlsunsvKEHFCh/vZD4BhIlU6RMWTqHoS25zsIqJVP+Eg/xccwdH4cewD2QaSs3sXBI01Kq6mUKQBe1i3zTCEDNaRTP4JNYPSpQNTSYQAPDedJTJdoup/Ly8gpLO0pv3+b6jeIW3dupvLyc/GsF3NvLr3Pe+08dj+qzgDpvDg1NyKy8959Pzx64uLTREdpm0JWWUnxTi+89PW1Wp/bcQT7cvI3D/wfe3goweNL3N9OZEzmWQIufapl8GBXD4cc28fmzgTX2FP5zJTGfZqEv1FCoA1DgqfTG85czif+z2SRmstn5u7nsCY9n3yJZp8reCgqLUCgUdPX0cHQo1Qx6tHoFni1dM6BqnK7tqS+0WzodJbd07eref/W/75qmdbxs+Ut65b3/7u7ere5OIcx0nE/stigkhr5Xl3D1wEj8zBb/LLx3P6FyhYtNeA6cwCvrJvBKo48IZvRvPNlzNI3sZwMxv/Of96Mr2fFoI6rISePwVU/GPSQJVaflbIOECtpsQgVtOrRm060KR1Xf4p8OjE10DJJU2VmNKwItPBatL3jqHIIT93D43EzmNGPBv+x/HyQ7aCZxLVnUXwjRqvovUNF/QeO3C9EcbXyiuhB2oJxC9HQ9OxMONv1muoVH+HAXzFw8rcm37hBCCNGxSVIlOqXgefEsZgMrE2svU10Pg4akVfHoF6xsVg+XEEKIjq1Vhv+u5jbhg0uI1uCsZErcDu7/5goanRJlI+bH6H8uRLlwE28FyToKQpSXl/PjT51nIQN3N7eGC4lOz+5JVU9vmywZJ4TtOXsT+FDjz0+FMrjmvdiE6KRcnF3o4dXCez0J0QHZNanqSMsBCCGEMFIoXB0dghBtksypEkIIIYSwAUmqhBBCCCFsQJIqIYQQQggbkKRKCCGEEMIGJKkSQgghhLABSaqEEEIIIWzA6poHBoOBu5yc0JeVtWY8ogMrLy8HkHNKNElFRQXl5WVy3ggh2jyn8vLyCks7Sm/fprDoemvHIzq4u+66izt37jg6DNHOuLi4VCXlQgjRVlntqaqoqOCuu+6ie/durRmP6MD0ej06XSleXnc7OhTRjmi1Jbi4ONO1q6ejQxFCiHpZTaqcnJxq/C9ES8k5JZrPSc4bIUSbJxPVhRBCCCFsQJIqIYQQQggbkKRKCCGEEMIGJKkSQgghhLABSaqEEEIIIWzA6tV/tnDnzh1u375tzybaJHd3d0eHIIQQQohWZtekCkCnK8XTw8PezbQZpbdvIzlVO2Eo4kK6Bs+hQfgqHB2Mdfq8M/xQrCT0Pi9HhyKEEKIedk+qAO7u3q1TrDFTcusWpZ2wZ66tyMtIYffuL1DnAc6gLbqJ/6+fY9Gz4xlQew1bg4aUFYtJDV3PujCAIr5c+xe+zNZw8WIRQS/vZPXDbSOJUfT0QrNuDktHb2JdpNLR4QghhLBC5lSJ9q9YzfYXH2dR/AUe+P0mErZtJeGjreze9gcC09/lxQXvkl5S85Ccz19nq/NzLI/0N23x4pE/vM3sX5WgR8mggLaRUAHgrGRy7Et4bl1MwmlHByOEEMIaSapE+/ZTKnEvLGOvYgZvvfsiEf5m43jdhhH9xyfwKD7EW9vV1dvzUnh3O0ydPR4vZ/PKNFz8jx4YRFD/1gm/0bwimPeUN3s3fkGeo2MRQghhkYOTqlOoo8JRRYWTfqCgcYeo41FtPmV5u6kutbru7kbJTyZ9WTK5FnblHljS8vqFbenUbHptLSeLg5j78oy6Q3wAg0IYCZQkp5JuMG46m/wJZ/uOIaJ24lR8FvVFYFAw/s60Of6jxuN/8VP2/uDoSIQQQlji4KRqMCGJKvrOG2Gb6sZvITxRRUiIbaoz5zdxPeGJKnzG275u0TxnP11LyjXwePS3TO5lpZCzAmPfVRY5eQBnOHG4BN8Rw+omTpcz+QHwHRqEr/3Cbj7/YUT0KuFo2hlHRyKEEMKCVpmo3hy5B5ZwJeGk8cH4LYQv6EXmskkUnwPYheoQwAi6bVxPsI+1Wk6hjpqPzvTIZd5+Qif2MD0qIHPZJG6NNt9mVLQ5nCuHgIGx9F0TiZ9tn5qwBd0JUv5eBCiZPK6eLPpaDlkAKHB1Bq6oOVkMA/zrTvjOOZ2OHtAf/4BFZz3xvZaFdtSfeGN2EPa+fjUv7SPiN32La5CSvJ/9iRimp8hrPNEPDzAr5Yv/QCj53zPkEIS/1dqEEEI4QttMqvKTuXosgr6J62skNMFrVMZhvrQxhC8Y3IiKjD1hRqdQR+3k4sQY6p0ucy6OshkqwhfAxc3h5Ksj8bNDz5domZKvvyQVoNsIhtXzC9WfyeQsQLcgAnsCPxSShwcj7qmdJpVw4YwGUOD76Eusm+oPVz5j3qJX2Biwj6Wj7bfmQl7yKyzaCrM3fMhUfyj6ahmz31GjmDSS6IfNSyrw7ukBqTnkGWiTQ5RCCNGZtc2J6j4j6UIcV6LiudjCqi5uDjfNharusTLqQfAaVZ1eKgbG4mNKotzvHUHZ1UbO9RKtKuucaWLbrwLrSS70pKcZezs9IoYxyBnyci4ASrxrX9xnyOSHdGDQb3m18opAN0+8gNQf7DjcdvYjlm46g+ujv2WqqVmFszGBC70/sE5xr559qB7KFEII0Za0zZ4qU8JTNZG9ucNw6njyL8XSNzESP06hjjpqh1iFQxj0xv89PKwPzRUdZf8RPRDEjMgGuht/vIAa8AgKwteUpOnPGXu5PBQWeqlKThD/YgKNu2YhhHnvvsiIOoHqOZmSQhEKHgmtji/rjBoI4oGgzrNorhBCdARtNKmqNJiQxC2oo45W9zL5BeBy6RK5DG5cktWvn7Gc2lhH16od1udUVe4vOgZdXra0Tzhan4Ag4AwYrJUoIf3jj1CjYND8l5hqbSJ7ZekLZ8hDwSNDg6q2XTz/LaBg2KA+dQ/wGEnMRyObGX2lC5xJ1wMjeaCq2RzOZuihVwhBPVtYvRBCiFbl2OG//GTSo8K5knCS8oRJqKKWkJlfvb1y2I4VZvOgqoYGw6vLWxMyBvdD8431pAXQbWAjYjpXWfckbo1eXs8keOFIXqFjGASQ9i1qC4lVXvIK4r4qwWvSct6IrJ7S7es/ANBQWFSzvF6nBfzxr0y+DGc48WUJ9H2CqXW7mGxET1kp0D+IAW6Vgav59idQDA1hwPnPeDH+BObrlhZdywYC8W+TlycKIUTn5tieKp9IQhMjLeywth2qhwYbw3yieiPqsRqPaHN8J/Nq9FEWbUohfstI4ueH4OEMGIo4u3ctsVs1hEZv4MVJA4zbq45TMoAS8n4uAbOBQ68HRuJPImLMYyUAACAASURBVFpTBpO3/yP2l4UQHftbBthtQngQD4xSkPKDFr0zxlvnrPuIs8CAXt6cPZaI54DNZlHqKbxWAr28aEPrvQshhDBp48N/TXRoPqpD4L7C9mtVmS/x4B5m27pF8/hGvs32oEMkJKxl9nTw8voFGDzwHxvFWzsjGGAp8+gVxAPdIDVHA5gtV+A/mdjfZxEX9woXemnRdn+MuI8mM8iu2YuCEQve4Kk3/0LcaxdQ3tDT/9k3iHb/C1v3vsa7/r8jdq55AHnknAOPsGF2TPSEEEI0l1N5eXmFpR2lt29z/UYxd9/dvdmV37lzh+vXb3BvL79Oc0Pl4ptaunXr2nDhTkiv13Prlq5F55QtnN0yjaVpUWz8aEb7Wusp5wsWLfyUkL/uIfoBRwfTem7e1OLi4oK7u1vDhYUQwoHa5pIKQtjRoMjfMeinL0k97+hImibn+CFyBj3N1PsdHYkQQghLJKkSnY/vZJ578ja7Pz5EUcOl24aiVBJ2w1OLnqha8kEIIUTb0ipzqnSlpa3RjBCNNuh3bxO9IprVe0NYN7XuLWvaFIOGlLj3KZu7ntn3OToYIYQQ1th9TtXNm9pmH98eOTk5yZwqK9rKnKoqhiIupGfj+UAIvu6ODsY6fd4ZfijyInRQG0/+7ETmVAkh2gu7JlVCmGtzSZVoFySpEkK0FzKnSgghhBDCBiSpEkIIIYSwAUmqhBBCCCFsQJIqIYQQQggbkKRKCCGEEMIGJKkSQgghhLABSaqEEEIIIWzA6orqZWVluLi4UKqT1dCFbZQbDNx1111yTokm0+v1dPxbsgsh2rv6b1NTUUFFhcW1QYVouooKnEDOKdEkThjvVCDnjRCirbOaVLm6ulJyS0fPHt6tGY/owHSlpRTf1OIlK6qLJigoLML9F7+gq6eHo0MRQoh6yZwqIYQQQggbkKRKCCGEEMIGJKkSQgghhLABSaqEEEIIIWxAkiohhBBCCBuQpEoIIYQQwgYkqRJCCCGEsIH6F/9sofLycq7fKLZnE6IFFAoF3bp6OjoMB9KS/f1p6BdGn1ZfOqsV29ZryPxOi3J4IN7OTdgnhBCiSeyaVAHoy8rw6i6LPbY1t/V6R4dge5oMknbtYs//5oIzoC1E6z+Ohc8vZMLA2smjloz3onnbsJhNg02bcpJ49U97uFKooVA3ith9Kxlrl5zTQtv2pFDinRfDrFfGsfXtKSidG7lPCCFEk9g9qQLw8OiCk5PcuastuV3YgZIqg5aM7UtZ/rmWcUvj2PpiHxTOxu1p781l+fPHyIzbwSvDqzMk7b/jWX5iNOt2hOFZmUj4T+GtrUrixi/nSND9BLvbJ1yLbduZ8vGVLP1mFtGb72PfouBG7xNCCNF4MqdKtG8GDUfenMurnyuY+bdNvDLWlFABOHsS9sJKpnXXcjBuGxkG03ZdBtvijzNq/kyCayc1OVlkAp7B99un16a+tu3Km7ELZuKdGM+eq03Z14EYNGTs+5Dlz89i1u9mMev55Ww7ko3W0PChQgjRGJJUiXZMT8bGGOKOawleEMvMOkN8gHMwQx4CtEkc+c64qfDfu0jSjeL/Da9bvvBUGhoUjH7QPj029bVtdwGjmRCQxc69GU3b1yHoyUxYyvK/ZxMYuZjF0YuZ+4g3aevmMndjBh2o31YI4UAOTqpOoY4KRxUVTvqBgsYdoo5HtfmU/ULKTyZ9WTK5NquwgMxlS8jMr7k198CSxj/nprB5/G3YmW2s2VcI3Scw5zGl1WIKV+P/53M0gJbv/ycDhoczpE5eoyfzVCZwP8GB9gi4vrZbQx/CIpRo//UNmU3a1xEoCJ63lX2frGbOo2GEPRTG2MdfYd3SURTuO85pR4cnhOgQWmVOlXWDCUlUkXtgCR151KGO/GSuHoug95oetq/bJ5LQGcbE029Ba8yCdhQ9x/fuoRBQPjaBoVaH0grJvmT8SeEM6L5H9Q0oZ/Whbl5zmozjQNBwhta6tkJ77iAfbk7ivHsf+tzMRDMklrhng/G8eoSVb+0g65wGz2fWETswja27slD4FPD9910Z98dlLHzQ21hJvW23DqV/MGjTOJ2zkGD/xu/rEJwVKGptUjgrqLHxRhYH/57E8e/Ow+ApzHlmAoHdAbI58l5SdfLl3ofh48YRFmD8TWZ/tYEkprD44T7VdV09zrYTHkybPrTq9635eid7jn7PaZ2S0WOmMeXXffDUZrBnexaBs6eZnXdaMvdtQzNkMcOv72HbcY3l5/TLWm3WeR4aPIKHMO7JmYQpQft9M+qqfH7/Z75Fyaga8dZXxvjaMXkxYwOq92r+vY1j3acxbYinMa5zgcwxe61qbLth6TWq1Xbt17+SQUPa53s4/F0aRd4TeHKu8bWoauPnMBYP13Nw1zaSTsHQyDnMfDgQT2fLr5dy1ET6fH+ArOCZzBzuXaOd4x8ncTNiDvdf/JCk7KFMe3ZUnWkEmn9vY0/ekOrnWhVfNgRU/66sPa+qbfdlsSHFytcBn1Gm183a+Szspc0O/+UeWILK1Itl7JkqIHNZOKpVu+DQfNO+uj1A9dVT2TOUe2AJqqreHGNvmVoNFzeHo1oUR/m5OK6YjlGrTRWp42vFg7FXaHOyMa6ocLM6zctPoviceUQFZL6TSpeXI/GzzUtVV8hMul3a1uBr067dOM7BIwCejA6tp1tJl8np/xjL3R+ohBsFaAA/pXfdspczSdPXnk+lJXNzNNNfOkifF+LZ9GYssWuiUe7YxGFNIQfj4+nx7CYWj9WT9XEMS78OJubt1cTGrmSaVwZ73txT3fNTX9utROHTA0+yybbQlVnfvo5Er9Wizckk7Z8fErPuOMELpjEU4GoSMbNWctw5mMjZ0xmSt43o6A/JNAAUcHpfEjeD5zBn9hTG9Stk5/Nz2fC9ceCwIDOJpEyznmddBhuWrmTnsWy0AGjJeHc6c98/jzL8SeZMDEb/r3XsPKMHXTbH9h0jW1d9uOYfsSx9L4nTBaC4J5DhDw5n+IPDCdSnkfStnkDT4+H9LaTnV5OIeTqGJH0wkbOfJNznPBvmTmfDd9qm12WMhozkJLLvriynJ61WvJWvQZo+0EIZ42t32uzl0X+/gZg3d3LssunVuXyMpKrXirrbLLxGtduu8fpXNZTBhulz2Zbbh/CoxYztdow35i7nSKFZG5timft6EvpfRjLnySHkfhJdNSSsvXys5mv04HAC7/HHr0sG2zYfJtu8qa+3EncA+gYojPF8GseGyoYqXd5J7Js7q5+XNoMNs+ayreB+pi99henBhWybH0PSVevPq2pbtz5VMQ2/O5ukfdl4Vz4e6Iei3vNZ2IuDe6qsMPXk9E1cXyPxCF6jMiYraWMIb0wvTH4yV3+cQ3jieoxJ2WoyQ9cTPHE9uh/DyVdHwtVtlM3bT2gIEKKi/+PJpL8DvdeYJz2nUH8WQN9EFX4Yky+1WkWIH3AojrIVKsJDjPUX/f/s3X1YlFX++PG3IlME4YLGgwaaqF/AbOQXCCFuKKWrkviwpmnuXj7k0zdoU2sL95varrhbZC1uhZraZprpksmipq1GqQRKi5MJrIIipA6uQuJM6AD6+2MGGGBmeBqeP6/r6gruc+accw+3zIfPOfe5r07EnUTSXweXhFQGGPqtHtNxfiaUvi7WeatM64XvjP6kfn4aOmu26sIZ9Kt/hjGov/lquu++4RhAzzCG+wCn8skExjnXDWwq11ONM1pPpTsWx/JdObg9G8+0/vqUhiYzg1MPDGGSXSYHbkYwbmgOR/8I9Izg1ecDDfs96dDdAjycca5Av8XDJfN9txonNzwxTIUOd2t4Waeh5sCrz7I+y/Bt33GsGWE4174RxH0eof9ZAYHDFJx7KpajZxfi66M/dn9PBxx6OuA7eg6z/r2d7QUaGFb756khY+NbnOttFOyf3c3af7qx8ONVRBi6C3xsXOWQarq0l5hPYeAD+m8Vff0I7GuoWrgdLgzE77FATP+ENBx5dz35Y99k12I/fRLusUCGOb7E0zHbCUtY2Ii2qul04OkTSOCjgFrNdi7WqqEmPwd8fx1G4GMKM3Uqh5jBhthzuHnV06k1KPyI3LW/6mfKY+4UnZzL4e80jH7SEEQ6hBH91hwG2gAE4qc4x6RVBzgxz4+BAI4m3qMnniXwwzgO/DCNhQ8DFHH4n0dwm74FXxvIAJxDhnPz7XiOPRZNiIO+zpGN23F42BcMgU3mjtUcGBrNrudD9Fkrt0iir81l0T8yiHjBz/K5OQ8k8DHDNaY4AYDvY4FUv6r+61lYX/sMqlxGcB8TuDg1j9KEKAY0sZkr6cmUH4wh9WDlkWAcDV8NWLAJ1dQgLg6Opl9903Cqryg9u4OLU2Oqfk3YBRq+GByNixKgF/c+lMLNKwB5MG+W6XFfyYORs1ouS1XJvT89LlzgCkNbvq+2UIFhcfH92Jvd+kD/i04H+M6cZmGKEKrXU/kZrafScGy//vW6swdY/7ebqP+j5uYv/Fj29hx8e4LveyGQt52YG6B4KqS6D3UGaZfAbZSf7P3UrrgRsf5fRABUaMj5JJqoqPWs2RKJnx1VH0A6jQZdhQ7QoPu5+tX5WWmk6YAbJ9j+4ywWLaobIGu+jmNF4Vxiwz4n6rD+mDozgyKvkVXTOmZV5LN95XaGrFiGLnJFE87vHGdOwMgYvxqzms5DhzPwxlHOqcG30fHyFdS5vnj2tVSnCPVlBff3rD3BWpuGY3ErUP82lrDEKA4bF10+zPa/5VeNW5eTX+u1+Rz+eD3591Jn+tWiyn9/pRo0Oh3cCze1GqicaHR0rrG1iWLgEAaym4uFYDYH7jyaWU/FsTzxGLMeDsGh4DC7v/Nj2u+rp+mKnMaxatJbRG/OYPgLfui+jif26iziFxQxdxuAmnOnNShs0tj6N6MbRApB91M+6srwSPUP1v/tWFWxWgUo6z9t43M3dz0L62ufQRW99FmpyoXsg6Ppt7Zp02U95u3Df7yZoGlwcMPfgLGb6mbHzEyvXbmUZ7Gp8h8vAy2wnqq2hx7qnAEVgKcnvkAmt81W0ZzYyobvQPHwQpZPqueTpMJ4PZUOjQYcHPQfUCgiWPbHSLNBmeZcJmogZOigqmPq1MNk4sas4BZZ8S6swcaBgc/MIuzDFRzLjMRvWBFp295iw/5z6DyHEdhfSw5gnC+4/p8TnPgJ4CZcU3PmsgZf47tOL+0letP9rIkfjfO/Pq/Zn6L+gCPjb9GkhccR53OF9c04NUXta9XEerIGu5TDGfox/AELdW6oyb/hR9hDlptSfx5NvP0a4p905nBirUKHfvg+OpzKMLVIl8aBCzUq0M93OMOdgBsn2LpkLqfe2sVCi1kXDTlfbCBuSxpFvQfh5+vMxWuWx1j5Oo2ZqcZKvuGzcJuzhQOzQxiStB31k8sJqxFjK/CdGcXwp9eyNWwVxJ9g3PLleLKhRjtugRHMGW/8+2kOc2wUOIB+OckDvgx/tPr3SE7BXtIacgoV9V/Pwvra7ZoqvaEoEzZhdzaPquu7KgNTmyEAM7oz0L1vf8qPHjdR9zqZr27F9sV19B2ZzCXju/BcHsLWuL/KPg9+xfkGjtq43yv719RcU2V2/IY1Yybu3NOvCzN9B6HZdWVX8uDBPg0ccQf0QCBhPgAnOGHqZtBLe4ledQDNAxGsXD0Nz8oPmb76YExdVGutQ0H1eiqHY7E8HZ8B3IOiJ+DhhnvtD6lSDboKAB2nTqYBvgz5n8oP13yOJmVC/3GEeeWzd3mMfg2Hub4NdBrLN/Y3txyAYjX5wCAPE0GmpbLOwNRTBEq13MQBxX2Qn7CcFd8NI+aTXXwcG03k87+u8wHkNymSyOcjiXw+mpjfwob3DlP10yzLYe+buxm0fCF+tRIozk5ukHuGHAsf1EWpW3nrwjSi6/sDwKJeOPetvNPVyKV8cnCjVxMWKRedPkHOcD+GWMi4Fn17gDSf4fhaaF+Xt5eYfwxi2QI/0zdqGKbZAg3/+Q2onQV0ZuD/M5T/KpKFY4tIO107m1Wrz2NxRG2CWVt28fF7a1j2/CzC6vu1eE1NPkMYVF89jzCmPZrP9qTtHP2XgoiJIXUDV4cQFr04iL0vL2fvQ1HMetS4hhueAxXkX72Jg2Faueo/B6N6fXyr3pPAxwLxbeCv9YZcz8L62jaouppI+tQgLm5OoXzzhOoAwXBcv9D7OXjNaArQZQT3UbmQvJ6F6sooXB6qXnSeOjWO88D5jRMoeWgOvi7gPn4OtpsnGG1vMJT7x+7gqvFCdZeJ9J2XV3WsMf1e/HEOLmONylxGcB/JFLfwIvLzaXnc598K2bA240bEK5H4KjTsfXs9GTeqS4qydvPSovWoh0cSHx9JoPEv+gfc6AdcVNcKbAx/yTv/4iaH958i4leBgC8jxzpDoZorRos71d+uZ9FzW8nQAORw5jug5xCGVH4WqjM4mgduIYE4f7eb7Qo/hvW00Dc6jv1lPOMnjefZj019SDS33Kjm1etocMP5F40r6/B0abw1aRKLYveSUaBBc0ODpiCD3bHxHPOZRcRguH5VDb16VU0FqY8c4Ki59io0nFGdQeHeqzpA+GIrh0NjiRxWNyekGD6OiJ5HiNuYVrXZqPrb7ez9oXJpdibbP4Vlf4qod32TZZ6E/dqXnG1bOFIZV93IYfu2AzhMGsfwxj4l4EYa2/9+joipIebvWL2Rxva/nyFw4kiLYz+w+TBhfzFMszaXLp+cHAWevS2vT9QUq9E5ONPL0Kfm7GEO59aqlHuYw2c1Ve3u/mAvuifHEVJvAOpM2NMRkLCV3QPnMM1Mxsx59ELm+PoRGTWa2qP1GxOBwz/Xsv5bw++ECl2t66LpGnU9C6tp2+k/l4n4J0w0UWDuOFRPDdam356htgELUhmwoNbBBalG653qvs7Ua9zHr8N9vIlxrq35OtNtrKs5/hn9SX07kSs1pjTNnZe5vs0fRxXHVeYQ1KKL4duBvhHEfTKEA5s3sPbZ8eDsjKICHB4K4+l3djHay8QvXJsh+A2HA3n5aBhY/UHhMY2YP+rYsj8R9dhY5hh+QfrOi2OV5i3eilyB30B71BeKcQubyaotfrgpgP9eJKdUgd+CcdU7pLsFMmn0XuK/iWX5D4G8+n/jDIvXzfSNAmdXZxQUMdDV1EdXc8urqQsyoedIAk0sErZU1uEpAln4TiQb3tvAijnrDevxFHiOXkj8Wv0zD90mL8RvUQxPP70FZ4UC32cjmTX8SI07vPb+/gn2Vr72sVnE/r46O6F4eCHR5vZLs/MjMjaam/+3mkljdYACh4cjeHWFg2HRsjMRy+fUyXA1hdtTMcRVxBHz3BPElOrHOnDqSuIX+DVuCvC79Tzxe/3Z8vvxhvOulvnsE3zxy0Gc++Yibo8vJ3a0pQBHge+CaCIsrsuqTybrn31CPy1q54zf1DWsfNzyG+Y8ag4Rn64g6unDONuB8xPLmPWUA9uNK3n0Q/PpIsZ/rUaHArfHFxL3vyayTiYoHg1jnMMBrj8VVidgqmLjybTYNabLfBYSHwOr/vIsT9yodV00k18Drmdhfd3Ky8vvmiq4dfs2P90owc3F0kS6ZeXl5Vy9dp0H+7jLs/9q0e/NtcL8eq+mumrq7sW6rhcV0717dxzvb70dk0pv3aLkpgbXB3q3Wp+mFH3xEk/HOrHqn9GEtNDz/dpj35DP7vlz2T7sTT5/vvZEgKWytnW9qBiFQsH9DvZWa1NXqkNhZ/pjU3dDh6LeBdfN6VyHzkZRd91TC/VV/1ouM75bzxMfevLxetPZs4y/PsHWfh8T16zpytah02jAzqHOe67+PIpnD4fpz7FCh45G/lx+2MCklRCza2HzHzvVnJ+VpWZb+noWNbTzNVWdl/v4ddYPqECf/Wviov6uwvnxmUT0PMK/vm1+ir0j9U3eUQ7k+TJrsomgyVJZJ2QuoAJa/gNI0UoBlaEvAQqHugFVHY0OdIs4smMvztPHWec5ni30s5KAqnVJUCW6Hjs/Zi0K5MS721t/I7w261u/Rw7PRjGtzhSMpTLRZfUaQsRI87v/9/KNIOx/2nDPNStw6D/S4jlaVHSOK30Wsny86V3oRdfUKtN/dvfe2+Q2RMuxsbHpktN/ehoy/raItbci2bI8sJUfG9P6fas/j2LRt2HExURU3wnZgLL2oCWm/4QQoiW0eFBVesv8PkKi7bXmB1X7CqoANOSfOoPOM5CBrf4Hdyv2rVOT+V0RzsN9625EaqmsnZCgSgjRUbRoUCWEsfYXVImOQIIqIURHIWuqhBBCCCGsQIIqIYQQQggrkKBKCCGEEMIKJKgSQgghhLACCaqEEEIIIaxAgiohhBBCCCuQoEoIIYQQwgrM7lNVeusWN26UgDwIWVjL3bt0696du3dNXnJCmHb3Lj169KC8orWfKSSEEI3Tw1xBeXk5Nj16YGdn15rjEZ1YWVkZZboy7GUTR9EIP//8M3cBB4fWfZiQEEI0ltmgytbWFu3PpfTo0U6fXSE6nDt3Krh9945cU6JRunXrRo8ePeS6EUK0e7KmSgghhBDCCiSoEkIIIYSwAgmqhBBCCCGsQIIqIYQQQggrkKBKCCGEEMIKJKgSQgghhLACs1sqWINs8lhTN9lIVQghhOi0Wjyo+umnGy3ZRYfRrVs3nJx+0dbDEDVoKfg+E/oH4OHYifvWqcnO0OLq74VT7a2eLJUJIYRolBYNqir17ePeGt20WzqdjmvXi9p6GJ1foYqkT3eyJ6MQbABNERqPUcxbMJ8xg2rv4q5FFR9JXMVi4oYYDhUksWL1Z+QXqykuHcHy3SsIbZHN30303ZIUbjgVLmPeK6N4/8/huNo0sEwIIUSjtEpQ1Q2Z+hItqEKLascrrE7QEvq71bz/vx4obPTH0+MXsOqFY2S//iFR/tURkvbou6xOCSZmawD2lYGERzhrNrgS+9RKkr198Lm3ZYZrsu8W5jrxD0SlzyFqixefPufT4LJOpUKNal8Sew6nUKAF7D0InTyfKSM9Wu3nIITo3GShuujYKtQkr13AigQF099cT1SoIaACsLHHf9EfmOyo5dBf/o6q8nm8pSq2vZtC8Nxn8K79YfpjLlmAvY9Py2RtLPXdopwInTcD5z3vsedyY8o6Cx3Zf49m9Z4CvMIXs/i5xcwOcyb9nYUs2qRC19bDE0J0ChJUiQ5Mh2rTMmJTtHjPfYnpdab4ABsflIGANomvM/SHio/tJOlWMMEBdesX/3CSQhSM8GuZjI2lvltcvxGM6ZfLzkRV48o6BQXev41n5wermf1kAP6BAYROfIGY342gOPE4WW09PCFEp9Aq03/mnUY19TlKgR7z9uE/vlfdsrGbCFowtP6mVHGkpo0yW/f8xiBuBqaiVFpl4FWu7F/KJVbUGrtoFdkfEZtYDI7hzJ7gZraarUL//9wCNfjfj+qoCvxfRlknrtGRdSYLUOLt1RID1lrouzV44P9LNzZ/dpLsRUq8G1zWSdgoUNQ6ZGtjS42DJbkc+iyJlIwceDic2dPH4uUIUEBy/D/Jrqx3ryf+o0bh30//gyw48h77eIpFoz2q27p8nG0pDkz5tZLKH3dh2k72fK0iq9SN4MenED7SA3utij07chkwcwrKqpsWtGQn/h21cgkBNz5jW4ra9DkNrtVnnfNQ4+CjJHTyDPxdQft9E9qqPL+zxkfceKzGeC3V0b93jFtCaL/q0sKjH5HScyqTH7HXj+usF7ON3qsax0pMvUe1+q79/leqUJOe8BnJ/06n2HkMk3+rfy+q+rgWwCJ/HYc+/Yh9P8Aj4b9hxmgv7G1Mv1+uwePwUB0g1+cZpvs71egnZVsSml/+Bp+8D9iXr2Ty7BF1Mt6FRz9iT6Gy+lyrxlcA/at/VubOq+qYVy7xBzLrni9A7xGG983c9SxaShtnqoaiTEil37xgs2UNCqjqo4rjKpusHlABuI9fh/OPE1B11j/w2y0dKYmfUQy4ThiL0uxUWjEFefqvbG2A0lOkp4NrPw/qxjVZfJ8CeAfU+cWtPXeQuFcieWH1G8S+NJfl27LQAlxOJualhcybNIkXPsmiIP0jYl5aSewbkcye9SqbM4qrG7HYd+twfdAbtCfJKmhcWWei02rRFmSR/uUHvPROCt5zp6AEuJzE8jlrSLHxJnzmVJSFH/HC8x+QXQFQRHZiEhrv3zJ75lOE9i9i5wsLiP9eP3FYlJVEUpbRzSilKuJfWcOnKQVoANCiencWi+NzcR0+hdm/8kZ35B12ZuugtIDjiccpKK1+eeG+14iOTyK7CGx7e+HvF4C/XwADdOkkpZcxwPC9f3+Huid4OYnlv1nGvjJvwmdOwb93Lu8vnEV8hrbxbQGgRpWUREHPynplnKw13sr34KTOy0Qd/XuXbfT26L5/j+Vrd3I87yYAmrzjJFW9V9Q9ZuI9qt13jfe/qiMV8bMWsU3tif/kxTzueJyYhStJLjbqY+NKFv8xCd2gcGZPVlK4LbJqSliTd7zme+QXwIDefXG1U7Ft81cY/1PRpX1E7Bfg2U+hH8+uN3n/6+Ka47m4k1Vrd1afl1ZF/JxFbCvyZfKLLzDZu4htS5aRdNn8eVUdc/SoGpN/zwKSEgtwqvx+sCu2Fq9n0VLaOFNljvkM1pX9S7m4OUX/zdhNBC3oQ+arEyg5C7CD1IMAwTi+vw5fF0Nbr4NLghWCMzMGTIom/e1Erign0rXvc2xFJSkcSgawJ/j/WUgrlWaSfUZfz8fLDUrSUQNubs51617M4qSu9noqLdlbXiE6UcHsv75FVD8FlB4nduoHfDXmDyjefRfn2dsZc3gSq7YtI3rCauL+/BucbNTseX4um2MSGLF7vj7zU1Jsvu9WonjAGXuSKSgEPBpe1nmoOfR/c4mvTDn1GcuqYEOWs084sbvC9XeOAv6P2JI79R2On5uPtyF159DTHntHe7xDf8OMjJ3sLNDCI7XzX1pUW/5KPyOMVgAAIABJREFUTm+j6/JcArH73Ji7dQXhhiyEf+BY/ReFtV5+OYk3/wEDeuu/VfRR4t/HULVwJ+R5oQwMwNXk+WlJjn+PgifXsu05pT4JFxiAsuerzP7LJ4TunN+ItqqV6cDDOwB/P6CwECfya9VQU5ALPpNH4R+oMFOncogqtrydi+uAejq1BoWSRds/r/qZEuhGcfpCkjO0hI42/GnjEMryP/8GLxuAAB5R5DDjTwdJ/60SLwBHE+9R2DP4f/wuh85MYd4QgGKS9yXj+usNeNuACnAKDkATt4mUwJcJtjfU2bwT+yE+YAhssj/9E4cefolti0bo/9ByXcLyawt5YY+K8P+tJwvg5IV/oOEaU5wEwDswgOpX1X89C+trp0GVPkuln1ozcjWRS0dD6Zewrkbw4rs21fz0n+orSseOogWSVNVcJuL8UBBXVRNxb9GORJW8TL4HYBhe/c1X02UcJwXAcRT+3sD3+WQDY5yc6tStXE81xmg9lS7lXaL/kYvrM+uZ3E//4anNVqHq7UO4XSaHNE8xZkgux2MAx3CWLwow7PdUhu4W4OGMUwX6X2yXzffdapzc8KByKtSt4WWdhhvh6/YTDlChJXfXa7y09D1WbliC0o6qDyCdVktZRRmgpcwoO1KQfZJ0HVBykp2XZzB/Qd2fpfbou6wu/A0xof9kebL+WGGWiuIBIwioL3qpKODTP36Cz+9/R9nSlU04vxyy02HE68oas5pOQwLwKjlOTiF41zeGOgopPO/Dg30s1Smm8LICh561A8zatKS8uxL17LWEJi0j2bjo8ld8Gp9fNW5dbu2gLJ/kHe/xox11pl8tqgyoSrVoy3RwL2g0N6EyX+zojINRplvh5csAPqPgKpj9c80plBkT3iV633FmDBmBfcFX7MlQMnl59V8jxU5jWDHxHVZ+qML/f5WUHd1E3H9n8Nd5RSzeAaAm5wcttjbpbIs3muooBN2NAgorP7W+/4z4+ONVxervgUfqP23jczd3PQvra6dBlRkuI7iPCVycmkdpQhQN+UPnyqU87AJbLktVye7BYIouXQelrK1qFRUY7thywMHs1gf6vx51gPf0KRamCMH0eiotKV/oX687d5D4eA3qs4Voeip54c3f4O0I3n8dARd38mYJKCaMqO6jUMXJy+D6uFL2fmqvbOzxenoGodtW8m32EpSPFJO+4x02f5GDzkNJQH8tuVDjD7KisydJvwGggWuFZF3W4m18g8TlJFZucWDl30JxOvzPmv0p6g84VPErOTnuLWK9C4lvxqkpal9zNgpsm9rY5Vyy8MS/t4U6JYUUlCgJ7W+5qcLE19hsv5q40U58lVSr0METb78AKvO4Rbp0DuUZV7gfT58A/J2AkpNse2EBqj9vZ57FrIuW3C8/4P0PT1DceyBKH2fyr1keo95NNPUEH96/egbXhR9x6JkR+HzxCYWjf0dojRhbgff0JQTMeoNtoX+ATScZ8+Lv8OCDGu24BYQz+1c1/4iZbWOLPaAG6O2Dv191eJdbkER6Q06hov7rWVhfxwqq6KXPSnEa1dQgUgdH029t/VNuZa0U7Nj2lYCq1Xh44g1kc9tsFW36R2zOAMWQ+bwwsZ7MS4XxeiodWi3Y2+v/6kcRTtTKJWaDMm1uFoVA8JCBVccK074iGzemB7XIinfRFDpd3cDmlhYN9rjaQcGeV1iVMZbNH602BMIq4hNP1qiunLiERX76r7WDVzJ941eEvhluaD+XpLeTGPhiPEr7mrN6Tk6ucD6T3NJwXO1MD6847e/syZtCzP+6UXdOsKGcceoDJwvU4Gd0zV/O5zyuTGnCIuXiMyfJ9R+Lj4U/DorTDpLuPYLFFtrX5SXxZqIXUe8pscfEYvla02z66UnjCk76tU2uAAHYnk0i/ocC5nmbn6vWpbzLS5vvIXrzdvTb1KlJOnuwZoastmtqCvAlvA9w1kI9j1FM9vuAzV/sZMxhBRNWjahzIwT2I5gXdYh5K16FR37HZj8FZFQWuuHhpaDgvxrsHS1k3Pr44B9YHQrZNiiiatj1LKyvg26pMBRlwibszuZR9ceEe396XLjAlVo13fv2p/xHU5vvGAKzjadrHb9O5qtBpL6aWKstc8f1Sn8EW1lQ1Xp6+xPqDXCS9DMmyi8nsfJPB9H2Dif6/6bgUfmB0EcfjBUW11pA+mP1eiqHlHeYvVEFKLB1BB50w632B0qpFl0FgA5V+knAB5/Blb8YC0g5kAX9xhA6oICkV97QL4w117eBTmt5t6TmlgNQrKYA8PIwEWRaKuvodCeJe/ppXng7CVWBFm2JFm2Bij1vbyLF+xnCB0HRtUJwrp4KKkw+yHFz7VVoyVJlonB1qr7p4MuPSB4Zw6I6a6xA4T+WcMdk3t9yEq1hPU1h2k6SzmgNNbL49B8QtSq83vVNlnkQOtmH8zs+IrkyLivJ5dMdh7CfOBZ/MwGdWSUn+XRbDuGTg83fXFFykk+3ZeEfPsLi2A/9/StC1ximWZtLV8D5XAUevS2vT9QWF6JzcMLJkM3Wnksm+XytSue/IvmctqrdPR8mUTZ6DMH1BqBOhP46HPZ8xB6v3zDFTMbM6fH5zPZWsuh/Q6k9WawMC8d+3xvEpxl+J1Toal0XTdeo61lYTdtmqq4mkr44hnIAJpC62bDAnIYcB7vXUqunAKumBmO4aLxQXTkKu9e/4vyCoQ2aLmya09y8EIqLS4t1IOpwI3z5EpKXvEdS3Hs8tm5J1R17xdmfEbviAwr9l/DXqPCatxD3dsUTOKkuAuNfcd31t9s799Tw1RcqJsx8GYARY5zYc0CNuoKqabzCtPeIiYfZf12Cv2MuWf8GHH3wqfoTW8Xxi+D6TADOGZ/xqUJJnCOAmb7RkRL7NDFHdLjO3sDmZ2r/5d3ccqOa/y1CixtOPRtX1uEpApj35mI2b/yA1QvfM0wdK/AInc9f/6h/PI/rxPkoI99g9qyPcFLY4jNzCdP9k/nRqJmkFeNJqnxt4AxilldnJxRD5vOSua097JQs+vPLaFavYfpTOkCB/ZBwXvq9vWHRshPhL/7WKlttuE54nTcr3iV2yXhiS/Vj9Zq8gri5yrqZFEsy3iN8hWGObsUkas/WZc8Zz5chXuQeK8B15O+IedzSWkEF3nNf0md/miyL+Dnj9dOidk4oJ60meqTlN8wp9DeE/2MlL81KxskOnEa/wIwJ9uw0rvSgJ5p/RDLlqBodClxHzufNxSayTiYo/EYxxv4QxRNG1QmYqth4MPnPq02Xec8n7nVYEzuH8JJa10UzKRtwPQvr61ZeXn7XVMGt27f56UYJv/hF03/D3rlzh59+usGDfdzb9DE1V/Yv5eKPc6yzPYMJ9e2Bdev2ba5dL+ryD1TW6XT8/HNps66pOkpyOfThB2z7OgucnFFUgEP/UCbPforQAaZ+zWlJfm0asYqX+fQPoTX++i5M28m2L7L0f1mOrHzUjZqUd//K5lwFSi97CvOKcQ2dwfRfKXFVANcOsmL++zB3PWsmVgYzapLfWMnmXAXOTgHMjf6NIeAz33f2trlEf1KE//KtRI+uO+7mllcq+GQui/cGE7t9fp0d3S2VtaWbNzX06NEDOzvrPTdIV6pDYWf6Y1NXokPh2Kjwo5Gd69DZKOque2qhvupfy2VGxnuEb/Nk8zrT2TPVu+PZ5rGF2Pqm1tsBnVYL99rXec8LE5cxL3mU/hwrdOho5M/lzAdM/yOstsa/meb8rCw129LXs6ihg62pahr38eso3RiEStUym38WPbgPf1n91zYcvRgTtZYxUQ19gT3KkUp4+wSq0lCCjaYiXANnsDywVnUbN4Kj1mJqJzUAeo9lzedjax10I/TlDYQ2om/v2Vv4bLb5UTe3XK+A9G/U2IcGmPgAsFTW+ZgLqICW/wBS1N2EtCX7EqCwb8hdgo39uRST/GkSzr9eb51/My30s5KAqnV10DVVjTdggfUDKtAHbLKbesfiFDKDcMdkktOav26hI/XNxeMcuujDjIkm/iFYKhNdk7Mv4cEemNsS1NknnNDBbbfnmjU49B9h8RwtKs6hsM98XhjXaTd1E03QKtN/fd3bf3q4JenKymT6jxaa/mui4iMrmbfRg5g2mOpqm76LSX5tDp8Oeov3Z9e+I9FSWdtriek/IYRoCa0y/XfpiplnTXUhbbmmTNTlNPplVp6NZE2ckvgXA1r1sTFt0Xdh4p94v2I+sTPrBk2WyoQQQjRci2aq7t650+TXdkbduneZ2VaT2lOmSk9LwfeZ6DwC8Gr1Tc5bsW+dmuyMYpz8fepuRGqprJ2QTJUQoqNo0aBKCGPtL6gSHYEEVUKIjqJrp06EEEIIIaxEgiohhBBCCCuQoEoIIYQQwgokqBJCCCGEsAIJqoQQQgghrECCKiGEEEIIKzC7+WdZWRk9bGzQ6cpaczyiEysvr6B7t+5yTYlGuXv3LmVlZdjYtNONtIQQwsDsPlWlt25xo+QmmCwVoom6IdeUaJxu0L17d+5UyGbCQoj2zWymqvKxKm6uD7TaYETnVnrrFiU3Nbi69G7roYgO5HpRMQqFgvsdWvNhQkII0XiypkoI0b7JYzOFEB2EBFVCiPZNpouFEB2EBFVCiPZNMlVCiA5CgiohRPsmmSohRAchQZUQQgghhBVIUCWEEEIIYQUSVAkhhBBCWIHZfaqsoby8nNJbt1qyiy7pHsU9KBS2bT0MIYQQQhhp0aAK4KZGi53dvS3dTZdx69Zt7lHc09bD6CQ05J86Aw8F4tmzmS3lpXHOZgh+Hg7WGZoQQogOp8WDKoBeTk5VO7SL5vnx8pW2HkL7pc5g744d7P73FbABNEVoPMJYuGQh4wbXDnY0ZPxtEW9VRBI/tGZJ0ZcxRH2ciea/ajQ6YPQq9keHoKgs/2IVUZtOoL6hAxQ4uHkybelCit6cy7HlW4h8VAIrIYToisw+++/W7dv8dKMEN5emP6amvLycq9eu82AfdwmqrOTHy1fo5eTUIaf/qh5T84CVH1NToSFj23JW7NIQtjyGyMc9Udjoj6f9bS4r/qljXMzHLBteHexovo7h6fhexH68EF+Tz+nNZMPUKHbfAPAl8pM4Ioz/KVSk8dbY9Tiv38IcH0O4lbWBpyNzmLPrTcY5W/cUuzJ5TI0QoqOQheqiY6tQc+SPc3lpl4JZ78SzbLQhoAKwcSDw+VVM66nhQMxWMioMx0sz2Bp3jJDnZpkJqIBLZ8hgHBGjFUAmh1OLapar8znXcySBgxXVx3xmETX6DBu2pKGz7lkKIYToANo4qDqNamoQqVODSN9/vWEvUcWRuvF0yw6rwa6T+ap+/A0e09VE0l9NRCbxrEFHxvtRxBzT4Lsgmll1pvgAG1+GPQZo9nLkO/2hoq93sLc0hF8ONz9Np8s5R85QP+ZMjMAByPzHAfKNyjWZp8gZOgjPGkGZA8N/GYLui+0c+G/zz04IIUTH0sZB1VCUCan0mxfc/KZUcY0LbqyiF75rUwl6bWbzm7qaSLohwEyVoKthsray9vMi6DmOOU+5ma1WOVN6rkANaDj1TQYMD2KYhaVPZ04fw3eYLw4Pj2RcT+DSbvaeqi4/958MfXntvh79JSFkcuy7WpktIYQQnV67nf67sn+pPsCoCpQMWaHXd8DB5wxlS8m8ij6gShtlneDMWiqDPKMg6fzGIFIXx1B+NoaLhjKVSl/9/OfJ3Pd+KkEJ+3AkhquqNh19B6Dj2J7dFAFuT43Dz9w0HkXkX9B/pbABSk+RegLc+nvWCYiq5ZN5UsGQgW6AL+OmewIa9u4/ZpjWyyfzpDN+viYCOTtP+vWFDNW5pp+aEEKIDqlV7v5rtKuJXDoaSr+EdbgbHfZdm1oVQAUtMLplyyWKICVc2d/qIzXjNKrXwSUhlQHGhxekMmBSIulvQ9+1E2uc24AF6wxf9eLeh6Cs9QbbMd04xoEjAA6M9B9ovl5pJmd+0NcbMtANbqShBtzdLKwkv5FD5qXhTPTRf+v5xDT8Nr5FxpFdHHguhAhFDpn/9WOil6kXO+PeFzifj5pAzOfPhBBCdDbtM1PlMoL7iOHi1DjOt0T7xlkk44yRueONNpT7x+7gamUmrTGuJlJ0IRoXZVP67UIunCEDgGEM6m++mu67bzgG0DOM4T7ApXwyATdnC0HVfzJIe9SPQZXZL+cwIp7UL1g/8I1aXz7Ut7q8BgecXIHcfC5WmCoXQgjRWbXPTJVhrVLVQvbB0fSrldlpFmUUQQlRJgrMHW+8AQtSGbDAMGV5diYuCVE1s1amXE0kfXEezglR1jvXzqoCw1Tc/djbmatUxOF/HkEH+M6cZmGKsKb8sxm4+URQHXYpCHliHIov95KTeJi9I44y8NFpyK4JrUR2YxFCdBDtM1NVZSjKhE3Ync2jtPKQe396XLjQvIXcLZ6pqtQL37X7cBycx63KjJXLQ9gan4/xmAwBVb3BlwBPT3wBuG22iubEVjZ8B4qHF7J8UkMn4orISC8icGitKcVhYUT0BC5tZf0u8PP1bNq4ReOZ3ElPCCHan7bNVF1NJH1xDOUATCB1czCO76/DF+PjYPea0doklxHcxwQuTo3hIqbqp5B60HDcxUy/VstUnUY19TlDgLSD1IP6sSqVxsehx7x9+FeNZSj3j32Oq1N3cJXK+tfJ3LlD/5YYjmPt7Fxn80AgYT7rycw6wYnTEDisVvmlvUSvOoDmgQjWrJ5WvfVBX30wpi4qAlO5ptJMzvwwnKD/qXXcRr9gfffGfCxPOWooLgS8POnXwMyYqIdkqoQQHUTbBlUuE/FPmGiiwNxxqJ4abGj9lqTfEqLhx/X0U4PGR0ydk7DMjYhXIjn83Hr2vr2ekLhI/AzP7yvK2s3alzegHh5J/IsRDDR+rt8DbvQD0tSmgyrNt99w7IF+PG1iSrFqwbqPH75mbx0s4sol4KFeFu4uFI0imSohRAfRTtdUCdEAfSOI+2QIBzZvYO2z48HZGUUFODwUxtPv7GK0l4lMlM0Q/IbDgbx8NAysCnx0JzYwN3Yv6iL9Sq1Fkw4w7vdbWBZiFBo5hxHx5HquuA4xf1dfaT4XL4HfM8MkqLIWyVQJIToICapEx9ZzIOOWvsm4pQ19gQPDfukHsamcKh1NiCEjpRi+kI93LazntQpCfr+fEAs19Hcb+rHwUVnGbjWSqRJCdBDtfKG6ENbn/PhMInoe4V/faqzcsoYT3xxD8atfE9b055ALIYTooFolU6XRalujGyEaxs6PWYsCefbd7WQ+vtD8Q5UbK2s7ccdCiPokUKb+hBCiC2rxoEqhUPBz6a2W7qbLsLW1beshdArOT77Kmv8sYtXbw9iy3ApBkCaD9WuOMnJVPKN71l9dCCFE59OtvLzc5IqFW7dv89ONEtxcZB5DWEfprVuU3NTg+kDvth6KgYb8U2fQeQYysJlLoDR5aZxjCH79JUdlbdeLilEoFNzvYN/WQxFCCItkobrowhzwHBZonZb6B+JnlZaEEEJ0VLJQXQghhBDCCiSoEkIIIYSwAgmqhBBCCCGsQIIqIYQQQggrkKBKCCGEEMIKJKgSQgghhLACs/tU3dRouH1bR3cbibuEddypuMPdu3ex6WGtLcxFV3Cn4g537t6lh1w3Qoh2zvI+Vd260b27BFXCOu7eucudu3flmhKNUlFxh7t379C9uzxNQAjRvpkNqmxtbdH+XIqD7GIsrESn01H2cyn33ntvWw9FdCBlZRoUinvkuhFCtHuSMhBCCCGEsAIJqoQQQgghrECCKiGEEEIIK5CgSgghhBDCCiSoEkIIIYSwAgmqhBBCCCGsQIIqIYQQQggrsLz5ZzPduXOHkpKbLdmFaID77rNDoVC09TCEEEKITq1FgyrQB1a9ezm3dDfCjJsaTVsPoR3TUvB9JvQPwMOxmS1dPElOd1+UHrJZrhBCdFUtHlQB3HvPPXTr1q01uhK1dKmgqlBF0qc72ZNRCDaApgiNxyjmLZjPmEG1gx0tqvhI4ioWEzekZknxkTdYviMbzTU1Wh0QuoLPXh5BZa6v+Ms1LN98ksISHaDA3tWDKVHzKX57Ad++uJFFfhJYCSFEV2T2gcq3bt/mpxsl/OIXPZvc+J07d/jppxs82Mddgqo2cvXaNWxtbdvF9J9Op+Pnn0ubdU2ZVKFFteMVVidoCf3dahaN9EBhoz+eHr+AVft0jHn9Q6L8q4Md7dE3mL3JmZit8/E2+ZzeLDbPWMaeEgAfFn30FuG9jfs8SdxT7+O0Lp7Z3ob3NvsDZi/NZfb2tYxxsu4pdmU3b2ro0aMHdnbymBohRPsmC9VFx1ahJnntAlYkKJj+5nqiQg0BFYCNPf6L/sBkRy2H/vJ3VBWG46Uqtr2bQvDcZ8wEVMDlLL5nLOGhCiCL5LTimuWFBeQ6BhMwyChY9X6GxaFZbP7wJDrrnqUQQogOoI2DqtOopgaROjWI9P3XG/YSVRypG0+bPm5oS6Vq4nCuJpL+aiJXTBRd2b+0+e0LK9Oh2rSM2BQt3nNfYnqdKT7AxgdlIKBN4usM/aHiYztJuhVMcID5aTpdbg65DyuZPSEceyB7z0EKjMq12SpyHx6IR42gzB7/kGDKvtzJoWvNPzshhBAdSxsHVUNRJqTSb16wdZobu4mghFSUSus0Z8x9/DqCElJxGWv9tkUTZX9EbGIxOI5h9gQ3s9VsDcmk3AI1oEV1VAX+w1FaWPqUdSYF70e8sR8ygjGOwOUE9n1fXZ5zVqUvr/U6hd8Igsni24xamS0hhBCdXrud/jPODOkzU9fJfDWI1Nd3wMHnDGVLybxqqZXqTFjdbJi+PVMZsuKNhteYyVqJ9kBHSuJnFAOuE8aiNDeNRzEFefqvbG2A0lOkp4NrP486AVG1ArLTbfHxcgN8GPNrD0BL0hfHDdN6BWSnO6P0MRHI2Xni0QdUqpwmn5kQQoiOqVXu/mu0q4lcOhpKv4R1uBsd9l2bqp/mSxtF0IKhDWhInwnTO41q6nbOj49igKWXnI2hbEYqQQvg/MYgrqom4t4CmS/RTCUpHEoGsCf4/3mZr1eaSfYZfT0fLzcoSUcNuLlZ2OajJJesywGEe+u/9QibgnLLX1Elf8ahuSMIV+SSdU1JuMkLyRnXPkBeAYUE4NqkkxNCCNERtc+gymUE9zGBi1PzKE2oJwiqx/mNQVw9WPndTO6vKumlD9JqGxyNiyGIsnswmKJL10HZq3GdquL0GTUjdq+1zLRkl5WXiX42bhhe/c1X02UcJwXAcRT+3sD3+WQDY5ws3J53VkW6n5IXKrNfTqOYMPp9VEey+PKomnAPFelDvKvLa7DHyRVIL6CgAlzNZtCEEEJ0Nu0zqKoKeAzTd4Oj6bd2Yo2sVYOo4rh6IZp+CRNx5zSqqV+1wFhNUEYRlBDVOn11VRUYpuIccDB7p30xyfuS0QHe06dYmCKsqeCcClfvcKrDLgXBYWNQHEkid18yScHH8PKbguyaIIQQwli7XVOlNxRlwibszuZRWnnIvT89Llxo+Fqnhx7SB2Oqr6rbACytqaosLz4K9/k3MksFNe5EbMwdg/p1ZHXXiTX2eJfg4Yl+du622Sra9I/YnAGKIfN5YaL5hew1FaP6dxEBD9eaUnxkFBMcgcsfEf8PeMTHo2njFkII0Wm1babqaiLpi2MoB2ACqZuDcXx/Hb4YH9dPnVVNAVZNDcZwEUN9FzPtK0dh9/pzpB4ExkbjODiv/jGdjTG0DT3m7cPfXNuWSKaq5fX2J9QbsrNPkn4G/B+pVX45iZV/Ooi2dzir/m9K9dYHffTBWGFxMZjKNZVmkn0mAP/BtY7b6Bes79lSgOUpRy3FhcAAj1rbLQghhOjs2jaocpmIf8JEEwXmjoPZtVAmGS9Ub0A7ZsfTOtzHr8N9fPOPdw1uhC9fQvKS90iKe4/H1i1BaXh+X3H2Z8Su+IBC/yX8NSocL+Pn+vV2xRM4qS7CVFClTTtOSm8PJpuYUqxasO6txMfsrYNFFF4G+jvj0KzzE0II0dG00zVVTXRQn5VqiUXhV/Yv5eLmFADsAq3btmiiPuHEfuTDoQ8/IHbOJHByRlEBDv1DmfzmdkIHmMhE2fjyiD8culiAFq+qbRV06R+w+O0kCov1K7VeePogY5ZtJCrYKHoyLFhXu/qYv6uvNJ+Cy6CcrrSwZYMQQojOSJ7918l1iWf/NVLxl68y+20nohNeJtjOum3rUt5gxp+KmfvR2prPChRNJs/+E0J0FO18oboQ1ucUMoNwx2SS07RWbllL+rEUbJ+cwigJqIQQosuRoEp0PXZKpi8IID3+E7Ir6q/eYNmf8H5KMIvnBcjUnxBCdEGtsqbqpxs3WqMbIRrMafTLrDwbyZo4JfEvWiEI0qqI/0sKI/6wnlDH+qsLIYTofFp8TZXutq7JrxfW0d2mu6ypMklLwfeZ6DwC8GrmTp7aiyfJwRdlP8lRWZusqRJCdBQtGlQJYaz9BVWiI5CgSgjRUciaKiGEEEIIK5CgSgghhBDCCiSoEkIIIYSwAgmqhBBCCCGsQIIqIYQQQggrkKBKCCGEEMIKJKgSQgghhLACs/tU/fxzKTe1WnkQsrCau3f1l5pcU6Ix7t69S/fu3bhr8jeVEEK0H2YfU1NxpwIbGxvukw33hJXoysooKyvD/r772nooogP5ubSUu3fv4mAv140Qon0zG1TZ2tqi/bmU++zsWnM8ohPr1q0bt2/r5JoSjVJaeot77rlHrhshRLsna6qEEEIIIaxAgiohhBBCCCuQoEoIIYQQwgokqBJCCCGEsAIJqoQQQgghrMDs3X/WUF5eTsWdOy3ZRaegsLWVvZuEEEKIDq5FgyqA60XFdO8uCTFz7ty5g7urS1sPo4vSkH/qDDwUiGfPZraUl8Y5myH4eThYZ2hCCCE6nBYPqgD6uLlKJsaEsrJy1FevtvUwOg91Bnt37GD3v6+ADaApQuMRxsJ8SADXAAAgAElEQVQlCxk3uHawoyHjb4t4qyKS+KE1S4q+jCHq40w0/1Wj0QGjV7E/OgRFZfkXq4jadAL1DR2gwMHNk2lLF1L05lyOLd9C5KMSWAkhRFdk9jE1t27f5qcbJbi5PNDkxsvLy7l67ToP9nGXoMqEyqDK3dWlS7w/pbduUXJTg+sDva3bcIWGjG3LWbFLQ9jyGCIf90Rhoz+e9re5rPinjnExH7NseHWwo/k6hqfjexH78UJ8bUw1msmGqVHsvgHgS+QncUQY/1OoSOOtsetxXr+FOT6GcCtrA09H5jBn15uMc7buKXZl14uKUSgU3O9g39ZDEUIIi2ReTnRsFWqO/HEuL+1SMOudeJaNNgRUADYOBD6/imk9NRyI2UpGheF4aQZb444R8twsMwEVcOkMGYwjYrQCyORwalHNcnU+53qOJHCwovqYzyyiRp9hw5Y0dNY9SyGEEB2ABFWiA9OR8X4UMcc0+C6IZladKT7AxpdhjwGavRz5Tn+o6Osd7C0N4ZfDzU/T6XLOkTPUjzkTI3AAMv9xgHyjck3mKXKGDsKzRlDmwPBfhqD7YjsH/tv8sxNCCNGxtKOg6jSqqXGcr7dOEKlTg0jff72BbTamPnA1kfRXE7li6rjJtq6T+WoQqbVec2X/UlIN9VWqhnUtGilrK2s/L4Ke45jzlJvZagpb/f/PFagBDae+yYDhQQyzsPTpzOlj+A7zxeHhkYzrCVzazd5T1eXn/pOhL6/d16O/JIRMjn1XK7MlhBCi02tHQVVDDEWZkEq/ecEtVL8eg6Ppl5CK//heRgd74bs2laC1E3E3Ouo+fh1BCam4jLVO16I2Hcf27KYIcHtqHH7mpvEoIv+C/iuFDVB6itQT4Nbfs05AVC2fzJMKhgx0A3wZN90T0LB3/zHDtF4+mSed8fM1EcjZedKvL2SozjX91IQQQnRIbR5UVWd0nqPU5PFGZJkaQxVX1X5llun8xiBSF8dQfjaGiw3KMhmyVFODSN142vpjFObdOMaBIwAOjPQfaL5eaSZnftDXGzLQDW5cRw24u1lYSX4jh8xLwxnmo//W84lp+AEc2aWf1ruRQ+Z//fD1MvViZ9z7AufzUTfhtIQQQnRcbRtUqeK4eDSUfgmpBCVswq7y+NVELv04h6CEVIIS9nHf0TVkWnXngdOoXgeXhFR9H4Ys04AFqQS9H00PQ0YqKCEVpdJSO4Ys1WszrTk40RAXzpABwDAG9TdfTffdNxwD6BnGcB/gUj6ZgJuzhaDqPxmkPerHoMrsl3MYEU/qF6wf+EatLx/qW11egwNOrkBuPhcrTJULIYTorNo0qLpyKQ+7GTWnzQCupCdTfvA5QyZpAiVnrd3zUO4fu4OrU5daOVgTraYCw1Tc/djbmatUxOF/HkEH+M6cZmGKsKb8sxm4+QyiOuxSEPLEOBRATuJh9p46ysBHhyC7JgghhDDWKpt/mlP6Ywr0NV3WY96+WmuXrGvAglQGLDBM352diUtCFANarDdhdZ6e+AKZ3DZbRXNiKxu+A8XDC1k+yfxC9pqKyEgvInB2rSnFYWFE9NzL7ktbWb/LgWnveDZ56EIIITqnNs1U2T0YTGmafi3S+Y3Va6rc+/an/OjxunfgWV0vfNfuw3FwHrcqM1YuD2F7Nq/G+i7RDj0QSJgPwAlOmFrOdmkv0asOoHkggpWrp1VvfdBXH4ypi8zcnVeayZkfhjPkf2odt6lcsA6Wpxw1FBcCXp70a2BmTAghROfQpkGV+/gVOF7QT/MVPbgJx8GGAmUULg9VLxZPrdxqwbCtwcXNKZRvnkBqfdN3ZutXb7WQOnUCP49cgW/V4/cqpwYbslDd0M7rO8AwXSnbJ7QWNyJeicRXoWHv2+vJuFFdUpS1m5cWrUc9PJL4+EgCjZ/r94Ab/YCLatNBlebbbzj2QD88TUwpVi1Y9/HD1+ytg0VcuQS497Jwd6EQQojOqE2n/yoXelcZX/0QNv30XK3qLhPxT5jY8ObN1tdvtWCOyb5NstyOaGF9I4j7ZAgHNm9g7bPjwdkZRQU4PBTG0+/sYrSXiVVPNkPwGw4H8vLRMLAq8NGd2MDc2L2oi/QrtRZNOsC4329hWYhRaOQcRsST67niOgSzk4ml+Vy8BH7PDJOgSgghupg2Dqo6mLMxXJwaw6UGrPe6sn8pFzenAGAX2BqD66J6DmTc0jcZt7ShL3Bg2C/9IDaVU6WjCTFkpBTDF/LxroX1vFZByO/3E2Khhv5uQz8WPirL2IUQoquRoKqhGpklcx+/DvfxLTge0WTOj88kYtNL/OvbKEJGWzOfpOHEN8dQ/GolYU1/DrkQQogOqs03/xSi1dn5MWtRICfe3U6mNfeSytpO3LEQop4LlKk/IYTogiSoEl2S85OvsmbUUVa9nYbGGg1qMli/5igjV0Uxumf91YUQQnQ+rTL9d+mKPLBDtDcO+D0fT+ypM6iLYGAzl0BprukI+VM8fv0lRyWEEF1ViwdVvXvJgl3RXjngOcw6dxE49A/Ub7cghBCiy2rRoKpHD1kHL4QQQoiuQdZUCSGEEEJYgQRVQgghhBBWIEGVEEIIIYQVSFAlhBBCCGEFElQJIYQQQliBBFVCCCGEEFZgds+D8vIKunfvzm2drjXHIzqx8vJyuoFcU6JR7ty9i66sTK4bIUS71628vPyuqYJbt29TVPxTa49HdHLdu3fnzp07bT0M0cH06NGD8vLyth6GEEJYZHF3zu7du/OLX8iDzIR16HQ6fv65FGdnp7YeiuhAbt7U0KNHDxwd72/roQghhEWypkoIIYQQwgokqBJCCCGEsAIJqoQQQgghrECCKiGEEEIIK5CgSgghhBDCCiSoEkIIIYSwAgmqhBBCCCGswOI+Vc11584dKsorWrIL0Uy2Ctu2HkIb0lLwfSb0D8DDsZktXTxJTndflB721hmaEEKIDqdFgyqAmxoNCoWipbsRTdCjhw22dKKgqlBF0qc72ZNRCDaApgiNxyjmLZjPmEG1gx0tqvhI4ioWEzekZknxkTdYviMbzTU1Wh0QuoLPXh5B5VVc/OUalm8+SWGJDlBg7+rBlKj5FL+9gG9f3MgiPwmshBCiK7L4mJqfbpQ0a0f1O3fu8NNPN3iwjzvdunVrcjvC+q4XFUM3uPfee1utz8od1a2+S3+FFtWOV1idoCX0d6tZNNIDhY3+eHr8Albt0zHm9Q+J8q8OdrRH32D2Jmdits7H28ZUo1lsnrGMPSUAPiz66C3Cexv3eZK4p97HaV08s70N4Vb2B8xemsvs7WsZI5vGW03ljup2dq13rQohRFPImirRsVWoSV67gBUJCqa/uZ6oUENABWBjj/+iPzDZUcuhv/wdVeVMdKmKbe+mEDz3GTMBFXA5i+8ZS3ioAsgiOa24ZnlhAbmOwQQMMsrCej/D4tAsNn94Enn0rxBCdD0SVIkOTIdq0zJiU7R4z32J6XWm+AAbH5SBgDaJrzP0h4qP7STpVjDBAean6XS5OeQ+rGT2hHDsgew9BykwKtdmq8h9eCAeNYIye/xDgin7cieHrjX/7IQQQnQsElSJjiv7I2ITi8FxDLMnuJmtZmtIJuUWqAEtqqMq8B+O0sLSp6wzKXg/4o39kBGMcQQuJ7Dv++rynLMqfXmt1yn8RhBMFt9m1MpsCSGE6PTaOKg6jWpqEKlTg0jff71hL1HFkbrxdMsOqxVc2b+04efcGFcTSX81kSvWb7md0ZGS+BnFgOuEsSjNTeNRTEGe/itbG6D0FOnp4NrPo05AVK2A7HRbfLzcAB/G/NoD0JL0xXHDtF4B2enOKH1MBHJ2nnj0AZUqp8lnJoQQomNq46BqKMqEVPrNC27bYbS2q4lcOhpK3/G9rN+2y0T8Z+RxsRMEnhaVpHAoGcCe4P/nZb5eaSbZZ/T1fLzcoKQYNeDm5myh7VyyLgeg9NZ/6xE2BSVA8mf6ab2SXLKuKfEZYOrFzrj2AfIKKGz8WQkhhOjA2u3035X9S0k1ZLH0manrZL4aROrrO+Dgc4aypWRetdCIIWuTudHQztQ4zptovzJjdGX/UlQb40idGoRqfyLptcpqjqdutqnG96q4OvX1rpP5djL3vTgRd+u8VXUpZ+F4Yavl96ajy8tEPxs3DK/+5qvpMo6TAuA4Cn9v4HI+2YCrk4Xb886qSPdT4lWZ/XIaxYTR+gXrXx5V68uHeFeX12CPkytwvoAC2aJNCCG6lPYZVBkyOf0SUglKSCVowVCgF75rUwl6bSaM3aQ/nrAOX5d62jobQ1mgvh2XsTu4qTK0/+McQxv7uO/omqoApPRCf/q9NpPSzXk4vzaT8h8v1xrPPhwvPIdKBe7+oXD0uGGq7TrFR+E+/17AaVQ7+1eN3wV9ff25HednQnGqb9zN0gvfGf0p+bwTZ6sqMEzFOeBg9k77YpL3JaMDvKdPsTBFWFPBORWu3gOpDrsUBIeNQQHk7ksm6ftjePn5IrsmCCGEMNY+gyqXEdxHDBeNMktNNjgaF6X+ywELUlEq4Up6MuVV2a4J/H/27j0uqutc/P9HkWlR1IIJgoaLl3hkjBn5ikBQWsREixoxoZo0xnOOGm85hZ4Y01ZsE5tW/DUx2kIaUaP2JNEYLUkgXmJSDY3EDkqKE8toFW8QZCRhiDo4OoD+/piBuTgzIgxXn/frxSuy15611yYb5plnPXvtyyetu/eIG0sQ0GPeLBpmdyoK88Cy3RywPEVteZVlnHlUV2IfLGk+w3gynfOWTFXlPpvxVJyz6asVBYXR4+zZrltbFRyCeXbuustdagrfYlMRKEY8w8+nuS5kt1eN5p96xjzgMKX44Him9AEuvEXWX+HB8ODmjVsIIUSX1eorqjePOSvVWMg+LI3QVZ6dLusxbzeRDjVNdx6A9MMvDsoLq2DgOYibZR3jpI2WDNut6r6+ALRCPZWjQYNaP3hrL/dEEj8cTpw4QmExRD7o0H5hFy/9fh8190xlxW8ety59MMAcjF2srgZnuSajlhPFY4gc5rDdy1yw/sHmMtxPOdZQfREYHOyw3IIQQoiurmNmqhqNRJW9EZ+T5zA2bHKZgbEEYE0o0A4aGEZd47Td7dnvX4V2+za8B5qDoqDJc/D++gJnCsC/IUgLCqPHvs+cZ9lcjt9SM+bkzj1zPdet9WOutpsbz8F9A5p4hp1RIFOXPstwRQ27Mt5Ac9naUn3ifZanvMHFyGf50+vPEmn7XL97+hMClOr0TnutKfiCQ/cEE+xkSrGxYH24inCXtw7quXgBCPTHtzmnJYQQotNq30xVZS6Fi9OpA2AK6k2x9Fm3BiW228HnRXXjVJx5ym0K55PTOY9l/zutT1KlElAQY+kD4CkCslPxcbN/aPmSxv17zNtNpKqhcSS9iaGSjcQ0jnEaA+ct4XxyDOZ4x2acAWPpyUqqK6cR1Ip1VWcKztFzehtkw9rTgKmsfiucT/7yJqvnTAc/fxT14BsWz2OvbiV+sJNMlJeSByPhk/Nl1DCkcVkFU+GbLF67i4vV5kqtn8/cx8TnN5AaaxM9+Y1nSsI6dP3D6e9qTMZSyi6A6gmVmyUbhBBCdEXy7L/2oMlAvT3M41Oadv0XjHc5/Qhd7Nl/d6j602XMXutHWvYviHUZSTeP6dArPPn7aua+tcr+WYGi2eTZf0KIzqKDT/91UapUQuPyKG+txT+3hxHqJqC62/mNe5KpffLIK6jxcM81FOYfwvuRxxkvAZUQQtx1JKhqJ0GT19xSKO8RAdOIbK0MWFfho+KJBWMozHqXE55cS+rEu6w7FMvieWNk6k8IIe5CbVJTZbx2rS0OI0ST+SX8gpdOprAyQ0XWcx4Igmo0ZP3hEGN/nUl8n9vvLoQQoutp9ZoqwxVDs18vWpfie4q7sqbKqoayr7SYgscwpIUredacP0IJSlShkqPyNKmpEkJ0Fq0aVAlhq+MFVaIzkKBKCNFZSE2VEEIIIYQHSFAlhBBCCOEBElQJIYQQQniABFVCCCGEEB4gQZUQQgghhAdIUCWEEEII4QESVAkhhBBCeIDLdaquGAxcN5no1k3iLuEZN27c4ObNm3h5ebX3UEQncuPGDW7cqKdHD+/2HooQQrjl/jE1N6FbtzYaibg73AS5pMSduHnzJtBNrhshRIfnMqjy9vam5qqRwH7+bTke0YUZr13j8hUD/n4/aO+hiE6kSl+NQqGgt688AkgI0bHJ3J4QomOTFJUQopOQoEoI0bE5rfoUQoiOR4IqIUTHJpkqIUQnIUGVEKJjk0yVEKKTkKBKCCGEEMIDJKgSQgghhPAACaqEEEIIITzA/eKfLVRXV0f1pUuteQjRAt9TfI8+vX3bexjtyEDp0WIYFE1I3xb2dK6AU14jiAi+m3+eQghxd2vVoAqgtrYOvx/IYo8dzfXr19t7CJ6nKyJn2zZ2/rMCvACDHkPwBBY+u5DEYY7BjoGi1xfxWn0KWSPtW/SfppP6jhbDNzoMJiBhBXvSxqFoaP94BakbD6O7ZAIU+AaGMGPJQvSvziV/6WZSRktgJYQQdyOXz/67dv063126TGDAvc3uvK6ujspvq7hvQBDd5Hk3HUqVvpru3bu3aaaqYUX1/vfe49mO6w0Uvb2U5TsMTFiaTsqPQlB4mbcXvD6X5R+ZSEx/h+ejrOdq+Hs6M7P6sfqdhSidPopQy/rkVHZeAlCS8m4GSba/CvUFvDYpE//MzcwJt4Rbx9czM6WEOTteJVEeROAxsqK6EKKzaPVMlRCtql7Hgd+lkn44kDl/zGKWbUbKy5fon61gxuep7EzfQkJ2ChFegLGILRn5jPufHS4CKqC8mCISSUrYT84BLfvVepIetYmUdKWc6htH6jCFdVv4LFITZrJ6cwETlkajuLVX0Z6+2cuKpVspcbnDUGatXkFi8z9HCiHuclKoLjoxE0XrUknPN6BckGYfUDXwUjLqIcCQw4EvzZv0f99GjnEcP4xynaUzlZyiZGQEc6Yl4Qto/7qXUpt2g/YoJSPvJ8QuKPMl6ofjMH28lb3ftPzshIfVm9CX6wh6JIWURQ5fjwShK9djqm/vQQohOrNOGFQdQ5Mcg3rDsTt/3bJcKpp72MpcCu/o9VVol8WgbskxgYo9S1Anx6BOzuBMk4+7BG1lCw7aWRzfwqoP9dA3kTmPBrrcTeFt/u+pMh1g4OjnRRAVwyg3M5/Fx/JRjlLi+0AciX2B8p3kHLW2n/p3kbnd8Vijf8g4tOR/qW/uWYlWFhIeTfRDDl/hIe09LCFEF9AJp/9GospW3/GrKvZsoTZuOUGtMCLn+qFcdefjdBQ0eQ1Bk4+hSf7MA2PqSkzkf7ATPRD4aKJ5Ws8pPaVnzf9SeAHGo6gPQ+DTIbcERFalaI8oGBEfCASS+EQIOzeUkrMnn4WjxqGgFO0RfyImOgnkfEIIHQgHNKfgx9EtO0XRrgwn97JzVz4FF3oxYvQEZsyMJtBynZV+mkkOSaQ8YhOMleez5YtezJgZ0Xht6f6xlZ2fHaXYGEjc+Bkk/SgEX0MRO98uYejsGURY7jo1nTvA1k+uE/ffiQy1mzcu5cDrORQ3fOsTQtSECUSHub56bccdPS6RxEcjCPRy6MfGiKkpJIS1/jk1jEtb7Y9ybBIzHhmKr8vfWyE6p3bNVFXsWWKTyTFnoDQad6+wZKmSYyjcU2XdrMmgcE9uY9utWawqqg+G4T+5n/nbylwKN+SaM0nJ9tkka2bI2s+ZDTGoF6dTdzKd85Y29+OssvZtOxY3x71z1p+FOtmSmdJkoE6ewuWTh7i82NXPoou4lM/eAwC+xEUOdb2fUUvxv8z7jRgaCJeq0AFBgW4qyS+VoC2PYlS4+duQh2cQAXBgh3la71IJ2m8iUA5x9mJ/ggYCZ0rRNeO0RMeg+zCVmc/nYFJOY05yDIElmcx9OpMig7m9SptDjtbmb5CxiMylK9h6sBTzLgaK/jSTuX8+RWDMT5gzWYnpb6vZetwExlIOfniQUqP1teuXraYoKMIhoAKoovjDHK4o5zBndhITBunZ+uxcMo+amjRu/zNbyNynb+yn9AdRRI1u+PKn9MMciqta/5x0H6Yy86UCfH+0kJcWJOCrTmPu60WWfoXoOto1UxU0eQ3Gr2Oo1EyD8i3UzttNpMrdK8xZqoo9Syh3aKnblEfPdWpUAeaszpkFIxnc0KjZyuVB41HavmBfOrUvqolRVaFdtpLqymkEkUv5wXhCs9cQRBXaZVPQaNSoFqgZPD2XwrUwcNW0JmS7LFkqTQbqAocmZ8cNuG2HtzizYT68qCbG9ucVkEpM9iy0y1bCc2tQNqPfTuNsMUUAjOL+MNe7mb78nHyAvhOICgeOlqIFEv3dBFX/LqJgdATPN3yK9p9A0iOZFH2qZe/nOpKCiygYqbS22/HFrz9wuJTz9TRmNkQncukAma+XkviHHSwcbY5yoh8ahe8vZ/LbbRP4cIHS4QUGija8xql7bIL7kztZ9VEgC99ZQZIloRn9UKL5HzrH165i76ClvONmCrt3X198+/qiTJjDrH9uZWuZAUY5XMOXDpC1oZTE31nHzUMJJAFwHrBMfY5ueIGCwy6P6MFzunSAzNcNzHozgxlhACHM+GUqp5K3sP+JiMa+hOgK2r2mavCCjfByDOcPxjOwIZPUHJPmWIKIAXgPO8c1m5qiMwXn6DPdYTGiYWkEqAD68f1Bh6itgIrCPIgbawma+qF88ilqy6vwKCfHbY7B0U9hfNkhY3c3qQfzZ/Xe9PJxtZOe/R8dwAQon5rhZorQXunJIgLD78f6lqVg3MOJKICS3P3kHD3I0NEjkFUTuqiSYgqII2qUbdrIn4iooRiOnbolA2n4ewbLL85l0QTr/jptEfohcUS7DBj0lPyzgIIPM1iljmNlWoLb66n0eAEF/yig4ONMtn49i0XjnexdUky+yXHczePRcyoppgDQ7sok83XL16YCdD5aSh0/HQvRyXWMmqphsa03kMpc9GfjGdjVsjaqVGKyUy3TlYfweVGNym2Wr4sJCUEJaHG9iKnh8BbWfwmKBxaydHpTPw7rKSrUEz3bYUpx1ASS+uaws3wLmTt8mfFHKWxuM+2yxJ3CXINny8tJsFKeQ9rG3qzMSsD/bx86dOEuuDFwXnsYhbEUg6kfpZcgws2NE1X/Pszh7wCuwLc6ii8YUDq729XZuO9Uq5zTUCbMnkOU7e6zF6KQdXJFF9POmaoqtMu24P3cGgbG5VHeClmXisI8vJ9sypQdBA0Mo+7gF5Y6pyq027fhPdCSPQsYhPfJcxjdvL49BE1eQ+i8WJuMWssyYJ3GvdFMCAc4zGFnZWPlOaSt2Ivh3iRe+u0M69IHA83BmE7v4u48o5bif0Ux4j8ctnspSXyiIZByN+VooPoiMCSEUJn68wynyxO3on7+BHKKUoeUVMX5EgjqZ80o1ZaQ8+pO7l+68JaAyN8vEE4XU+LyD0YIE55OIeU3q3npoWLWv5rjtgYvYnoKKT9LIeVnaaT/F6x/Yz+3XMH9/AmkiJKyJp6nM61xTgNDUKLjitE8hWn71eIAUIgOpl2DqjMbpnB5kHnaLmjyHLw3TXE/nVWZS2FyDOc3HaJu0xRrgbZLx6jcFEbvpmZwVKmExuVZitGncDVut032ZyS9J22jskmF6pYi8pe3wb75TdjftTMbYlAnz8eI5di2xfOWsThOnTZMDXbpQnUCSfpVCkqFgZy1mRTZPGJSf3wnLyzKRBeVQlZWCtG2z/W7N5BQ4LzOeVBl+Mfn5N8bSoiTKcXGgvXwCJQuP2HrqSgHgvq5ubtQ3JG2zlSFTWDGAyVs2XwAnWXdKsPJrWzZ50vS5Cjroq4fb2F//GpSnEy3KaISSep7gIwNBRgsfej+sZWcfzmWZvsSvWgp406uJ/2jJtzaUG+gWFOMwtn1FTaBGQ/o2PLaTkobx72XrX+/g1smWuOcAuOYHlXC+v9vJ6UN9fV6LXvfzW/8+QrRVbTr9N/gBWprMXlTlkoImEZk9jQn21NtCrb7oVy1xvxPzWfUzptlcwybflbZj6OBeQkDN+Nd4H6IZq7OxfVxXXF1TLdjsUwNdnkDk8h4dwR7N61n1dOTwd8fRT34DprAzD/uIGGIk7oTrxFERMHec6UYGNr4xmQ6vJ65q3PQ6c1/9RdN30viLzfz/Dibty5LwXpF/xG4nEw0lnK+HCJ+OkqCKk9p60wVgST9PgMy0pk7Kd1cu+czlBkrslhoE2woHlhImqvicp8IUlanceU3v2X6JMszIh9IYtlyX3AMJHzHsWhpFE+vzuTA2JUkOLlsc375MDnmoxLy0CxW/3KckxX7A0n6/Wr0v05j0aT1mABFSAILfxXX5DNvtXNKy+BKRjqLJq+3/DxDSJiXRpxkqkQXI8/+u0t1qWf/3SH9xy8wc7UfKz5KY5zLIvfmMeWnM31FNQvffdX+WYGi2aqqq1F4t9+z/0ym25QSNaEDk5cHap3uRL0Jkyfqq1xpwTm1+OcpRAfW7nf/CdHW/H/0FEl9D/C3f3h6lRwDhz/PR/HjnzBBAirPafNMlb0WBwCKNg6oAFo7iGvBOUlAJboyCarE3ccnglmLojn8561oPVnTcXwrGfnjSJ0fLVN/QghxF2qTmqpvq+Q5aB1R9+53b0zt/8gyVv57ESvWjmLzUg8EQYYiMlceJG5FFgl9b7+7EEKIrqfVa6quXXe9jpBof7692q5OpaPUVFkZKD1ajCkkmqEtXMnTcK6AU4wgws0z2UTzVOmrUSjar6ZKCCGaqlUzVT169MC3R8dYX1SIW/kSMsozDz32DYs2L7cghBDirnX3zv8IIYQQQniQBFVCCCGEEB4gQZUQQgghhAdIUCWEEEII4QESVAkhhBBCeIAEVUIIIYQQHiBBlRBCCCGEB7he/PPadaovXWrr8Ygurnv37ty4caO9hyE6GW/vHtTW1rX3MIQQwi2XK3PW1pRyxi4AACAASURBVNfRw8uLnr16tuV4RBdWW1uL6Xotffr0bu+hiE6kpuYqgFw3QogOz2VQ5d2jBzU3buDl1daPVxddVX19PTduyjUl7ky3bt3w8uoh140QosOTmiohhBBCCA+QoEoIIYQQwgMkqBJCCCGE8AAJqoQQQgghPECCKiGEEEIID5CgSgghhBDCA1wuqeAJsshj03Tv1g26dWvvYQghRJN0lb/t3btLXkF4VqsGVQDffSerst+Ov98P2nsId6kayr7SQtgYgvu0sKfzRyjprkQV3MszQxOiA6uvv8GVK1faexgt0tvXl+4KCaqEZ7V6UAVw34CgtjhMp1NXV4+usrK9h9F1XNSw673tfFB0EbwAgx5D8HjmLXiGifc7Bjs1aLJSyKhfTMYI+5bqA6+wdNsJDN/qqDEB8ct5/xdjUTS0f7qSpZuOcPGyCVDQq38wj6c+Q/XaBfzjuQ0sipDASnR93t7e9L/3nvYeRrNUflvV3kMQXZTrZ/9dv853ly7zgx/0bXbnN27c4LvvLnHfgCC6yfTWLWpr69BVVpozVXfBz8dkMnH1qrFF15RT9TVotv2K32bXEP+/v2VRXDAKL/P2wqwFrNhtYuLLfyE10hrs1Bx8hdkb/Unf8gzDnS7UfZxNTz7PB5cBwln01mtMtX3/qD9CxqPr8FuTxezhlnDrxJvMXnKa2VtXMdHPs6d4N7tyxUCPHj3w8fm+5zo9sZ2fr/6E8PlZLIpW3H5/Yae2to5r164RGHBvew+lWS5+8y3fUyjwVni391BEFyO5T9G51evIW7WA5dkKnng1k9R4S0AF4NWLyEW/5rE+NXzyh/9DU2/ZbtTw9p8PETv3py4CKuDCcb5iElPjFcBx8gqq7dsvlnG6Tyxj7rd5Qx7+UxbHH2fTX45g8uxZCo8ycWjXdsq+1bMr9zOqb/8CIYRoEgmqRCdmQrPxeVYfqmH43Bd44pYpPsArHFU0ULOLvxeZN1Xnb2fXtVhix7iepjOdLuH0AypmT5lKL+DEB/sos2mvOaHh9ANDCbYLynoROS6W2k+388m3LT870UqMRziU782U//lPhhe9T17Z7V8ihBBN0c5B1TE0yTGok2Mo3NPEOW5NBuoNx1p3WM1QsWeJ3Tk4fi9awYm3WJ1bDX0mMntKoMvdvC3JpNNlOqAGzUENREahclP6dLz4EMMfHE6vEWOZ2Ae4kM3ur6ztJSc15naH1ykixhLLcf5RJPmPjqo6fxd5QT9l4iPjmRhRxvaPj9u1lx14g6wDZW631Zzax9sZL/Hzn7/Epk9PU1OPvfN5ZGW9Yff1wVc11vZ6HYU73mD1r1JYkfEWn5yyabus4QOH12b9VUPNZQ0fZL2P5rLtgWo4kfsGeecBysjLavi37TjyzB8InL3eybbGc/vVK2TtOMJFx3Nrgoo9S1Anx6BOzuBME19zZkMMGo3z7U3vy/qeol6WS8WdDVuIFmvnoGokqmw1ofNi23cYLVWZS/nBeAZO7te4KWjyGvy/nuL0j4TwBBOHct+nGug/ZRIqV9N4VFN2zvwvby/AeJTCQugfGnxLQGRVxolCb8KHBALhTPxJMFDDro+/sEzrlXGi0B9VuJNAzieE4AGg0ZQ0+8xEayoj730NwRPGEIwf8T+Op2b/F5ywCRz0x3ex67je7lW22y7ufp7Z6YcgfCqzH1Nx8e0UFv2ffWCGXsuuwloGR4whMmIIpsJdfHHOcrdcjYasOYtYdzqQyMf+k6nhJnb/ahZLc3XmdmMZX+QWYgobQ2SE5WtYf7yNZXyR+wVlRuthLu5+kbSsXZzQA+g5kdvwb5tx5GrRN/Zr/3rHbRdzn2f2r3ZhCp/K7Mei6H96HYvnvIHGJuZriqDJa4jJ3ojPnb3MJZ8X1cRkpzL4tnua31Ni1qW1zV1YQjjosNddxZ4lnN90yPzNpI3ELBiAdtkULp8E2IZ6H0AsfdatQRngpqPKXAoXp1MHMCyN0FXTCML86adyn3mXHvN2Ezm5n3nfD6Hn2XTzcSZtJGbBSPNYvp5DzIKRjWMrZ7n5NVShXZtHz+fW4HiP4+DpaRSuzaVCNe2WNtFClw/xSR5AL2L/3xDX+xm1nCg27xc+JBAuF6IDAgP93fR9muMXxjB1uPnb4AmPo9r8JzR57/PJ3LFMVZzm+Lcqpjr9C+9P/wHAuTIuMob+zTo50WqK97H9vIp5E4IBUESOJf7aq+wq+E+GxzatYL3/j1/j/R9jvsOUMTzoVcLjf/6CE3PDsVwyXCw7DcMeJz56DAp06N6DUkvbifd+z657nmHTsqmW62MMkQPgiRfWkRf/W+IB8DMHZLYX0EWHgVzYxat/hcGeugHvch7rskqZuHIr8yLMP4vIaBW9ls8i/b3xvDc33AMHqbL5O24OllRBNn+j98WgBru/1S5V5lK4OI+et3sPEKINdcygypL5Cc22D1SUq9Tm6b+C8Y0BjnvH0CzOo+c6tf0vnSaDSjYSkz3SvE/ySrSRa1AC7Eun9kU1MSrzL79Go0Y1eQ6VyZ9xZsFIBlNF9cEw/FdZslKVX3CVeAY6+6UOmIb/oBgqNdMIUjXzZyGcO6fFPBs3iiFhrnczFX3BIYA+44kcDnxVyglgop+b2/NOaiiMUPHzhuyX33imJKxDc+A4nx7UMTVYQ+GI4dZ2O73w6w8UllFWD/1dZtBE2zNxaO8uauJfIL7hf7/PWKZO+SNLd3/GvNhJNF4VX71PVtYXja/UfQU8aPmm4f9pvYmamlqoBy6buG5zpOpvS1H08eXWME1Hyb9qGBIXaR9wD1cxlvc5cRriBzThVOrLeO937xL+y/+ldslL1u0KKDmngwhLFtVkAHxtXlhK3rY3+LohhWQ8ba0VPK2lkHGseNB21H6oIodQc/A0Fwlv8YeEij0ruRq3m5hV/Wy2TiMyexpnNsRwJVqNSv5Wik6sYwZVAWPpyRTOJ5/D2KSUrwuazzBOmoPKIeA5U7ANn+hUy3cjCZgHlRVAEDAsjQAVQD/84mIpL68C1Uh6T9rCtUqAL7g6aLw5AAOoOAdxs1x+ovK5LxZ9eRWo+rnYQzRLPZapOF98Xd5pX03e7jxMwPAnHnczRWiv7JSG/sOnWt9gURA7YSKKA7s4vTuPXbH5DIl4HFk1oZMxHuFQvglMK3k8z7HxffLKJvFYsOXbe8KJjLBmQE+X7aKw4Ztvj/D2n9/kk5O1hKgiCTaeBmwjgRp052p4MH6oy6F4O16LXgonAZgrNWiyXuJI4musHn6RrMbtKh5LHUtaxlymbgRQ0KsPwESb1/YmJHwMkQ0Xb3UtRz4ttWn3djo2TwmKjKd88RTUX29s4gdjNwLMwZgQHUnHDKroZ85KNRQdNiUV3Eq8B5qDocHRYRQWVlHBOXpOt/9Frvv6AuA6aGroQ3hQcAjDgRN2+QF7NYVvsakIFCOe4efTXBey26tG8089Y55ymFJ8cDxT+uzigwtvkfXXXjz2arDzl4sOqzp/F3nff5zV2Y5rk5XxweKFbP/4OI/Nt0xxDQgnMtoaKHkX2uz7m5fQTNzM2y9ZrqmiN9hVYHcgPi0M56H/cVa1549/IJwpuwjYXJMXyyghkDFuZqUbuy/4Pz449zjp/xOI45xg/4TlbEoAkwkUCvPYpi633cNhWvHiRfwaJib9/enPEcougsomJaUrOw2BHvoQ0RAIaTJQJ8+3ll4I0UV08CUVRqLK3ojPyXM01lYGhdHj7Fknd3VYAjDbOwNV4/HZtwWtw6LlPvfFYiw41vi6yk3gfUvE5rBdNR7vg1up/DoMP9vMl8vxmBm/dta3aLF7IokfDnCEwmIn7Rd28dLv91Fzz1TSfvO4demDAeZg7GK1i7vzjFpOFI9h+DCH7V4NBevgfsqxhuqLwOBgh+UWRPsyF6j3mjjWydpkwcQ/rrqlYN05PRcrwN+vt/nbeh15+63ThNTXULjtLY5HPspYp3NlCiJ/PJVeu9/i7YY7/up15L39LmdGPE586O2Of5z3/gqpK6a6nYpTNCe5FBrPYyNO8/b/5TXe8Vdzajtvf9qLqT8ecweZtCZQpRLz4lOWD6RmPvfFUlt+B3dMV+ZSmLzklr/vQrSn9s1U2RaRMwX1JkvhObbbzcWMjVOAjVOD6Zy/baH6SFQvhqFe7FD8OHkNxg0xqJOt/SsDgErgZLqlb5vtlr56D5qP/r7d9hmzgLH0ZCXVldMIumUcx7hyNp4AKaJsBYFMXfosec++wa6MN3hozbOoLM/vqz7xPquXv8nFyGf5U+pUhtg+1++e/oQAR3R6cPLZu6bgCw7dE8xjTqYUGwvWh6sId3nroJ6LF4Awf7tKFtHOivex/XwwT6Y5L7b2i55E7J//yK5DP+URtx2peGy+isWvzGL2O/4ovIfzxOKfEnmgFC7uYumcNzjTfyypK+NdZnYUDz5LxstvsvI3s3jP8qij/nHP8OptAiXLSJn63H+5XQ6k+QKZuuI1+PMrLH70FfP0us8QHvv168x78M5CKtsbgYzJ26i0vemn4QYkniIg2zoF2Dg1uImmFaoL0QHJY2psVeZSuBYGOv1lrkK7bCvfX+WkxkuTgXp72C1/BG5XeCmPqfGAy6f55C9v8vbfj4OfP4p68A2L57HZjxI/2NnbWg15L85gteIXvPfr+MZlFUyFb7J47S4uVlvWQvfxY+LzG0iNtX33MnFo9Uw29X+NTbNd3HFo/ILVySupfm4rKx+RqitPaJXH1LRUvYkak4JeLV0zoHGeruNxN7S2fExNswrY3f4tl8fUiNbTQWuqOpaGT10+L6qtBeq2VKmEli+hfM9Ygiz1ARV7lqC/bzeRcidL6+ozhImpq5iYevtdzXqhilPB2sNojPHEWt4UFZHPsGnrM7d5rYLYpR/iblU1892GKuZGSEDVpXl5IKCCDhtQQccamvHlGNQ8RcBtb1w6hiZ5vrlcZFham4xNCFuSqWpHkqlqJ0YNWXOWoV+0k7R4T86j1HDolVn8yXs5m58b42ZxUXEnOmSm6i4nD1QWwrk2yVTduHGjLQ4jRNP4qHhiwRjmZb3LiTjHO8Fa4MS7rDsUy+K3JKASd4f6+mY8w0aILqxNgqoLOselgIVoX34Jv+ClkymszFCR5YmsUo2GrD8cYuyvM4nvc/vdhejsamtrO/Xf9u91pPlN0WW06vTfzZtOuxYOuoFM/7WLGsq+0mIKHsOQFpZA1Zw/QglKVKGSo/I0mf7reLrK33YpSxGe1qqZKrlgRcfWi+AHx3imp9AxyD0J4m4hf9uFcK6DL/4phBBCCNE5SFAlhBBCCOEBElQJIYQQQniABFVCCCGEEB4gQZUQQgghhAdIUCWEEEII4QEul1Sora3Fy8sLk8nUluMRXVhdXR3du3WXa0rcmZs3LX+P5DOgEKJjc7n451WjkStXDHSNJd6EEJ1Z9+7d5XFXQogOz2Wmqnv37tyETvvATNHxGK9d4/IVA/3vvae9hyI6kSp9NQqFgt6+slq9EKJjk3y6EEIIIYQHSFAlhBBCCOEBElQJIYQQQniABFVCCCGEEB4gQZUQQgghhAdIUCWEEEII4QESVAkhhBBCeIDLdao8oa6ujqvGa615iC6ht28vunXr1t7DEEIIIUQLtGpQBWCoqaGnj09rH6bTumo0yqKG7cZA6dFiGBRNSN8W9nSugFNeI4gI9vXM0IRoZYayIorr7yc6rGXXrFz7Qli1elAF4O/3A8nEOFFbW8dVo7G9h9F16IrI2baNnf+sAC/AoMcQPIGFzy4kcZjjH3wDRa8v4rX6FLJG2rfoP00n9R0thm90GExAwgr2pI1D0dD+8QpSNx5Gd8kEKPANDGHGkoXoX51L/tLNpIyWNxfRxi6VcuCD9ez423kMXoBRj943ghnzU5jzUOAtuxu+zGTRWkj5c4R9g/4A6c9tRmvQW67vBFZ8lMa4hs/F3+xlxXPrOawzYAIUfQMJmfITRnz6mlz7QuDm2X/Xrl/nu0uXW/SYmrq6Oiq/reK+AUESVDlRW1uHrrKSoP4Bd8XPp9UeU1NvoOjtpSzfYWDC0nRSfhSCwsu8veD1uSz/yERi+js8H2X9g2/4ezozs/qx+p2FKL2cdaplfXIqOy8BKEl5N4Mk21+F+gJem5SJf+Zm5oRbwq3j65mZUsKcHa+S6O/ZU7ybyWNq3Cv9eAVpGYcJ+u/VLJuuxN9yOZZmp7JonZahi98hI9kmsDLkkz4zg36v7GDhA8771G6YTuoOAwDKn+8g41H7C7pg9cNk+mWw+b+V5t81ufaFAKRQXXR29ToO/G4uL+xQMOuPWTyfYAmoALx8if7ZCmb0NbA3fQtF9ZbtxiK2ZOQzbv4sFwEVUF5MEYkkJSgALfvVevt2XSmn+sYRPUxh3RY+i9SEYtZvLsDk2bMULfWvLTz9X0+7+VrB3m/ae5B3yoB2wyIWrdaiXLqZV2daAyqAkOQVpIwG7bp0chrPzUTRptXkj1vErHBX/eoo/hISH01AAWj3H0Tv0F56ype4aKX1d02ufSGAdg+qjqFJjkGdHEPhnqqmvUSTgXrDsdYdlhsVe5Y4jLUK7bIY1MtyqXC7n/A8E0XrUknPN6BckMasW6b4AC8lox4CDDkc+NK8Sf/3beQYx/HDKNdTFaaSU5SMjGDOtCR8Ae1f91Jq027QHqVk5P2E2AVlvkT9cBymj7d2wjfoLm5AHCmLUixfs4hAhy4w0WZbEhGdbOZK91EaS3eU4PvoMlITbp3iA38iooYCWvZ+rjNv0u9n20cmxo2NwtfVBwpjCadOjyLiv6eT1Bf41072nrNpv6Tl6OlR3B9m+yK59oWAdg+qRqLKVhM6L7Z9h9FUlbmUH4xn4OR+Nhv7oVylJmbVNIJstgZNXoP/11PQaNp6kHeR41tY9aEe+iYy51FnbypmCm/zf0+V6QADRz8vgqgYRrl5Ey0+lo9ylBLfB+JI7AuU7yTnqLX91L+LzO2Oxxr9Q8ahJf9Lh8yWaF/+Q4l+KNryFcHQPsAApd22wM50P43+AJnrtJiIYNZTEbdch428zKmrkrPnATB8mU8RUcS4q336dxH54REo+yqJm+QL6Ni5q8jafraYovAIlA5dyLUvRLsHVa5V7FmC2pLFMmemLBmhl7fBvvmWtiVoK910osmgcE+u02zYmQ0xjf03bq/MpXBDrvk4jcdtUIV2bR49n7MNnqpc7Gs2eHoatdvtM1jCU0zkf7ATPRD4aCIRrj51o6f0rPlfCi/AeBT1YQgMC3H9RkQp2iMKRgwNBJQkPhECGMjZk2+Z2ihFe8SfCKWTQM4nhNCBUKQ51fxTE+3jUgl7N73G8mdfIP31rRToGhoMFO3IZOdRg82+Rex8fSdFl8zfln6aSeanpXbd3bKtXkfBu5mkL3Xs3+H4S5fz2qa9lFxyPdTSPZspMAHjEpngpuy14usSABTeCsDE0SMFMDCUEDcBZOm/ClAo7ycQUCbOIgQwfLiXfKO13X/0CG65+uXaF6KDBlWWjFBotpqYbDUxC0bSmBF68SmYtNG8PXsNygD3XdVtysN7nZqY7I14b1ppDsI0GVTS0IfNdoB96dQ+qSYmezd9zs63Zpoqv+Aq8fjZHc9mTM4ETMN/UDqVkq3yvEv57D0A4Etc5FDX+xm1FP/LvN+IoYFwqQodEBToppr2Ugna8ihGWWpOQh6eQQTAgR3mqY1LJWi/iUA5xNmL/QkaCJwpxfE9U3Rg5Tmk/jSVHJOSabN/QkzAKTLnziTzSwNgoPRgDgfP2QRVxlIOfniQUkugUaXNIUdrP91vt81QRObTc9lSNYKZS59nplLPlvmp5JTbHj+Ngt4JLPzNQhJ6F5C2KJMiA05o2fuB+eqKiBl1mw8H5o8BI/4jFNBTVQEEBuLv8kOIgRKtjqhRSvO3wROYMRrgADv+pre064lQOvudk2tfiI4ZVAWMpSfpnE/O4ExL+5o0xxJ4jaT3pEPUVsCZgm34RDfcRz+SgHlQ25BOGpZGgAqgH35xsdSWW/4oVpyDuLF2U3xN4XOfTR/Cc84WY56QcKztsGf68nPyAfpOICocKC9FCwT6uwmq/l1EwegI7m944/GfQNIj5oL1vZ/rzO0jldZ2O7749QdOl3K+3lm76HgMHPhzJqWTVpKxOJHoh6JJmLmCjNRQctK3ovXAEbTbfsvekWms/lkCQwMDGZqQQtpsA+v/WtR4fMNTq1kxM4KQviFEzEwjddRetvzNSXjyzSmKLwEEohzs5jouK2B/OUAE40b7AxWUHgfu9cflq+qLKTocQcR/NGzwZ0JDwfqu/ejqiyk6PAKnMZVc+0K0zTpVd86cAWosZB+WRqhDzVLzxOJ9h514D7TWT9V9fQHo53rnJvQhPKQey1Rcb3q5nMrQs/+jA5gA5VMz3EwR2is9WURgeJLNG4+CcQ8novg0h5Lc/eSMPcjQ0TNcvzGJTuYUxYchLj0Cm5vn8B8ZxdBLBzmlmwFeUFpyHgOB5sxQrenWu9w0fyXz9fzGb3UaQAWg49QxAwqvAra8blObdBFM35mzOsWHAa8cMl+3NpsqFGi/XwGOE22NAYsv7laZ0O7aSing++OfuJ0itFNWQtFApblA3ULxUCKJigPknM5h/0dxHBwSxYwWLpYrRFfVQYOqBiNRZW9Ek/wZjUtkBoXR4+xZKhjpEGQdQ5M8H+OkjZbpQgeVuej3heG/wJw9qiw4BqqRwDEqN4H3OscXOGx3eVz3jF+Dd+QdvEA0TUgISkDLdZe7GA5vYf2XoHhgIUunuy5kt6enqFBP9GyHj+KjJpDUN4ed5VvI3OHLjD+GNHvoomNSOAbdXgpLkOXPhGdmsXfZcqZ/bNm3ry/gcA3cqyRqtPW6KSnLocCmOTA6iTmTba/DOczxUuBLMQBDx89hzmjs2hcqnEzuBYZwvwK0JhPccHEy5TvJyjbAvUksmx/tZorQnv5YAfr/N4ehtj8LrwgmPOpLTraOLa/vxDc5w+GuVyFEg/YNqipzKVycTh0AU1BviqXPujUosd0OPi+qGdzwmoCx9GQK55PTOY9lf3d1Vfvmo94HWPYdDDB5DcYNMaiTrf0rA4BK4GS6pW+b7Y3HXUl15TSCGo9nCeQA2IZ6n/k1KpW1/crZeAJuU/clmuHeaCaEZ6I9fpjDxyB6lEN7eQ5pK/ZiuDeJlb+dYX0TGGgOxnR6PTjLNRm1FP8ripj/cNjuZS5Y37mhFPdTjgaqLwJDQgiVN55Ooh/+A6GgTAejbYKe8lJKCGRmX/ANnEPWR3PAZAKFAnQ5pD69376bAUqiH7KuUK443PCvQEKGKiitvIJvX2fzZkGEhMP+ywZ8+zYl+B/BuEm+5HxUysGjemYEO1zHhiIyl65Hq1Cy8JUUohuzSubj8I0e51e/Ce0xLVEx99/Sopw6i5Ds9ZQCo/7D1QcKufaFaN+gKmAakdnTnDS42g7WqUFH5uUZbuEiczV4gZrBC5x043KqsR/KJ8NQr82lorHdxTEtzmyYD0+qPTBtKW4VSNKvUtg/P5OctZmMy0ghwvLmoT++k1W/WI8uKoWs55IYajtVcW8goUCBzvnbiuEfn5N/bygznUwphjw8g4gNrzm9ndxKT0U5MKhfk7MDor2FMOEnSrb+ZTMHYtJICAQulbD17b34Tl9JlO21oFC46sStiIlJ+KasIjMqi5SH/KHehO7wTgp6J5H0QCBx06JZvzadnaNWMyNMAfV6tJ/uRT9yFuMGOvamIGLeSySpXyBn0ypyRr1KUrC5xVR+gMxfrmZ/nyRWrk0h2i5GCyQwFPhS5zyoupTP5/n+hP7EyZUbPIEZo9fz2pdKIlxe/HLtC9HBp/86GFUqoeVLKN8zlqDJ7uukKvYsQX/fbiJVbncTLTEwiYx3R7B303pWPT0Z/P1R1IPvoAnM/OMOEoY4yUR5jSAiCvaeK8XA0MY//qbD65m7Oged3lwps2j6XhJ/uZnnx9m8PfhPIOmRTCr6O7mdvIGxlPPlEPFTd3dliY4m8NF0MuozSJ//MOlGAAVDk18ia4F9nVWzhS8kKx1W/OFpHm54ZuQDSSxbbr5K/B9ZRkZNBukpk1lvOX5IwkLSxrnozzeClHfeIertTNb/72S2+Pibr7fACGY8t5mUUYG3TmcCI1TR8PF5Sg0wtPHiL2D9/NfIKdeb68SenczeyWlsXjLO5ho2F6xn6oIY4ao+S659IeTZf+1Jnv3XPvQfv8DM1X72D4r1EFN+OtNXVLPw3VftnxUomq3Nn/3XMMXXXv235vH1e3lh5mv4/WYPaT/y7DHk2heioy6pIEQr8v/RUyT1PcDf/uF0EaAWMHD483wUd3K3leh4WjOgakr/rXl8/wk89agvBz7Lx7NXv1z7QkAbTf9dMdS0xWGEaBqfCGYtiubpP29F+6OFrh+qfKeObyUjfxyp7zb9bish2paCiNmpRD+dwdZ/JbDwAQ91K9e+EEAbBFXf+56Ca9evtfZhOq3vfa+VPxULp/wfWcbKfy9ixdpRbF7qgTcCQxGZKw8StyKLBFnDR3Rk/gks+10xi1a+xqiNzxPd0otfrn0hGrVqTZUQtjpKTZWVgdKjxZhCohnawpU8DecKOMUIIsLkc7qntXlN1V3CUFZEsSmUaGc3dNxJP3LtC9FIgirRZjpeUCU6AwmqhBCdhRSqCyGEEEJ4gARVQgghhBAeIEGVEEIIIYQHSFAlhBBCCOEBElQJIYQQQniABFVCCCGEEB4gQZUQQgghhAe4XFG9traWHj16cOnKlbYcj+jC6urq6d6tm1xT4o7cuHmTq0YjN27eaO+hCCGEWy6Dqm7dunHz5g1MJlNbjkd0YTdv3oSb3eSaEnfkpmV5YrluhBAdncugqkePHtTX3+AHP5CHOQnPMJlMXL1q5Ae95ZoSTXfligFvb298fL7f3kMRQgi3pKZKCCGEEMIDJKgSQgghhPAACaqEEEIIcwtehgAAIABJREFUITxAgiohhBBCCA+QoEoIIYQQwgMkqBJCCCGE8ACXSyp4wo0bN7h8+XJrHkK0oR5ePfDt7dvewxBCCCE6pFYNqgBu3LjJvf36tfZhRCurravj6tWr7T0MD6uh7CsthI0huE8Lezp/hJLuSlTBvTwzNCGEEJ1OqwdVAN/7noJu3bq1xaFEK6k11LX3EG7vooZd723ng6KL4AUY9BiCxzNvwTNMvN8x2KlBk5VCRv1iMkbYt1QfeIWl205g+FZHjQmIX877vxiLoqH905Us3XSEi5dNgIJe/YN5PPUZqtcu4B/PbWBRhARWQghxN+pWV1d301nDtevX+e7S5RatqH7jxg2+++4S9w0IkqCqk7tiqOHq1astmv5rXFHd06v019eg2fYrfptdQ/z//pZFccEovMzbC7MWsGK3iYkv/4XUSGuwU3PwFWZv9Cd9yzMM93LW6XE2Pfk8H1wGCGfRW68x9R7bYx4h49F1+K3JYvZwS7h14k1mLznN7K2rmOjn2VO8m125YqBHjx6yoroQosOTQnXRudXryFu1gOXZCp54NZPUeEtABeDVi8hFv+axPjV88of/Q1Nv2W7U8PafDxE796cuAirgwnG+YhJT4xXAcfIKqu3bL5Zxuk8sY+5XWLcN/ymL44+z6S9HkKfUCSHE3acDB1XH0CTHoN5w7I5edWZDDBqNQx/JMRTuqWpaB5W5FC7LpcJhc8WeJbfpowrtsgzO3NFo74DDuCr2LEGdHIM6uanHrEK7bAnaSvf9di4mNBufZ/WhGobPfYEnbpniA7zCUUUDNbv4e5F5U3X+dnZdiyV2jOtpOtPpEk4/oGL2lKn0Ak58sI8ym/aaExpOPzCUYLugrBeR42Kp/XQ7n3zb8rMTQgjRuXTgoGokqmw1MQtGNv0lmgwq2YhKZd9H6LzYFo8maPIa/L+eYhOwOR57K5cHjWdwi4/kTBXatXn0fG4aQTbjicneiE9Luw6YRuST5zh/h8Frh3DiLVbnVkOficyeEuhyN29LMul0mQ6oQXNQA5FRqNyUPh0vPsTwB4fTa8RYJvYBLmSz+ytre8lJjbnd4XWKiLHEcpx/FDlktoQQQnR57RpUndmwBM2GJaiTl6Ddk4E6uSHL5CLDpMmgcE9uY5t9FusYmpchoIlBmDXTY+3nzIYY1IvTqTuZznlLm20QNXh6GrXbnWd1zhSco8/0kY19azZYzmdPLoWN51GFdlnMLcdFk2GTcTLvY3veFXtWcjVuOcqAppyZ9WenTrZkpjQZqJOncPnkIS4vdvKzU82iz9ktt2axOjQTh3LfpxroP2USKlfTeFRTds78L28vwHiUwkLoHxp8S0BkVcaJQm/ChwQC4Uz8STBQw66Pv7BM65VxotAfVbiTQM4nhOABoNGUNPvMhBBCdE7tnKk6hJE5hM6DywfDCJgXS215Fe4yTHWb8vBepzZnafZ9Zp360nyGcVITM0WVuZQfjCc0W02MTTZs8AI1MevS6DEsrbHNmvUCAqbhPyidSsdsVWUu+rPx+NkEPcazYYS++BTGTefwf/Ep6r6+APRDucpyzOzd1kBGlUrovHPo91RZMl4biZzcsAxFFdUHoWdk05alOLNhPrzYcIw15kBMlWo+3rBY+qyzP2ezfiifDOPyh50oW3X5EJ/kAfQi9v8Ncb2fUcuJYvN+4UMC4XI1OiAw0N9N36c5fmEMquHmb4MnPI4KIO9987Te5dMc/1ZFuNOLzZ/+A4BzZVy887MSQgjRibX79J9PtPnN3efJaU2bypo0x5KxGYD3sHNcs2RXKsrPNfZ1WwFj6Uk655tcj2Qz3vsaAj+risI8vJ+0Ts0B9IgbSxDQY94su0DPmiGbwuWT1u1Bk5fT8+AU1Ldk2y5Qi33A5s7g6KcwvnwHNWSNAwijx9mznae26pwW82zcKIaEud7NVPQFhwD6jCdyOHChlBNAfz83t+ed1FAYoWJIQ/bLbzxTEswF658e1JnbRwy3ttvphV9/4EwZZfXO2oUQQnRV7R5UeZJjsONaQ8ZoPFeSY1DfYaG290DbrNExKjeF0VvlcnerylzKN4UR0JCpGua4Qyw9btkGnDyHsamDU6USk61mICtvmb68rUGD7ALDDq0ey1ScL74u77SvJm93HiZg+BOPu5kitFd2SkP/4UOxhl0KYidMRAGc3p3Hrq/yGRKhRFZNEEIIYavLBFVBA8MsU2x3YiSq7I342AYtAYPwdhPEGL8Gb9vIQ/MZtQ7ZKLeGhZkzcpVfcNUmU3VmwxRqn1xD5JNQaVcrZp+Ra6qgyWsInWebVevH9wcdotZV9FhxDu4bcGcHaU/BIZhn56673KWm8C02FYFixDP8fJrrQnZ71Wj+qWfMAw5Tig+OZ0of4MJbZP0VHgwPbt64hRBCdFkdM6iqNBd3n990iLpNU6wF1+6oxtvXWLnrx7LdPA03H15MtQmKRtJ70jYqnRSqwzGu2NVOVaHdfq7J9U7WaccY1Guh5yTz5oo9S6g8m0aACkvR+HybQvJ++MXB1UL7LNyZDeaxG7GM1bbY3jL28wfjGTjZOraGqcFbi/zNhfZNPo+O4J5I4ocDHKGw2En7hV289Pt91NwzlbTfPG5d+mCAORi7WO3i7jyjlhPFYxjumDH0aihYB/dTjjVUXwQGBzsstyCEEKKr61IrqlfsWcL5r+fc2TIMd+DMhhiuRNsUr1fmUvjhICJb6XhWx9Akb8F73Zom3gF4hzQZqAvGu/25dcgV1S/sYumzb3DinqmsXPMsKsvz+6pPvM/q5W9SGvEsK1KnMsT2uX71R8h49CWO/DSTt2ffWuBek/cKszcH8uqW/7y1Zqp6H8tn/QnN8GfZtGYq/Z0Oqoz3nlnI22G/4L1fx7u5w1A0layoLoToLNrk2X9tJWjyGowbYtBoHO7a84CKPUvQ37ebSIe7ASMXePY4zo1EtS6ewrW5VKya5tm6p8pcCreHEbqqtQPDVjBgKqvfCueTv7zJ6jnTwc8fRT34hsXz2KtbiR/spOrJS8mDkfDJ+TJqGNIY9JgK32Tx2l1crDZXav185j4mPr+B1FibsMhvPFMS1qHrH+4ioAKMpZRdANUTKgmohBDiLtOlMlWi9XTITFUzVX+6jNlr/UjL/gWxLV491Z7p0Cs8+ftq5r61yv5ZgaLZJFMlhOgsOmZNlRCtyG/ck0ztk0deQY2He66hMP8Q3o88zngJqIQQ4q4jQZW4+/ioeGLBGAqz3uWEJ9eSOvEu6w7FsnjeGJn6E0KIu1Cb1FRVf3epLQ4jRJP5JfyCl06msDJDRdZzHgiCajRk/eEQY3+dSXyf2+8uhBCi62n1mirTdVOzXy86nu+3oK6lo9RUWdVQ9pUWU/AYhrRwJc+a80coQYkqVHJUniY1VUKIzqJVgyohbHW8oEp0BhJUCSE6C6mpEkIIIYTwAAmqhBBCCCE8QIIqIYQQQggPkKBKCCGEEMIDJKgSQgghhPAACaqEEEIIITxAgiohhBBCCA9wuU7VVaORKwZPPxtNiJuAPFxb3ImbdO/uxY0bN9p7IEII4ZbLx9TU19fj5dWdXj4923I8ogsz1dZiMpnw7SWrjoumq7l6FYA+vr7tPBIhhHDPZVDl7e1NzVWjrGIsPKebeaV+uabEnbhqNKJQKOS6EUJ0eFJTJYTo2GS2WAjRSUhQJYQQQgjhARJUCSGEEEJ4gARVQoiOzen9yUII0fFIUCWEEEII4QESVAkhhBBCeIDLJRU8QRbra3vdu0uc3HQGSo8Ww6BoQvq2sKdzBZzyGkFEsKyl5HFy958QopNo9aCq8tuq1jyEsOH3g774fP8uXstHV0TOtm3s/GcFeAEGPYbgCSx8diGJwxyDHQNFry/itfoUskbat+g/TSf1HS2Gb3QYTEDCCvakjUPR0P7xClI3HkZ3yQQo8A0MYcaShehfnUv+0s2kjJbAyqOkpkoI0Um4fEzNtevX+e7SZQID7m1253V1dVR+W0VQYP9m9yGa5ptvq+jt26tDB1XGa9e4fMVA/3vv8WzH9QaK3l7K8h0GJixNJ+VHISi8zNsLXp/L8o9MJKa/w/NR1mDH8Pd0Zmb1Y/U7C1F6OetUy/rkVHZeAlCS8m4GSba/CvUFvDYpE//MzcwJt4Rbx9czM6WEOTteJdHfs6d4N6vSV6NQKOjtKyvxCyE6tjaZK/Lq3p0eXl7y1Ypfd616HQd+N5cXdiiY9ccsnk+wBFQAXr5E/2wFM/oa2Ju+haJ6y3ZjEVsy8hk3f5aLgAooL6aIRJISFICW/Wq9fbuulFN944geprBuC59FakIx6zcXYPLsWd7dZPpPCNFJSAGO6MRMFK1LJT3fgHJBGrNumeIDvJSMeggw5HDgS/Mm/d+3kWMcxw+jXE/TmUpOUTIygjnTkvAFtH/dS6lNu0F7lJKR9xNiF5T5EvXDcZg+3sreb1p+dkIIIToXCapE53V8C6s+1EPfROY8GuhyN4W3+b+nynSAgaOfF0FUDKPclD4VH8tHOUqJ7wNxJPYFyneSc9TafurfReZ2x2ON/iHj0JL/pUNmSwghRJfXzkHVMTTJMaiTYyjc08SCdk0G6g3HWndY7ahizxL7n0VlLoXLcqlovyF1UCbyP9iJHgh8NJEIlzOgekrPmv+l8AKMR1EfhsCwkFsCIqtStEcUjBgaCChJfCIEMJCzJ98yrVeK9og/EUongZxPCKEDoUhzqvmnJuxJoboQopNo56BqJKpsNaHzYtt3GB1FZS7lB+MZOLmfdVvANCKfPMf5LhxINsulfPYeAPAlLnKo6/2MWor/Zd5vxNBAuFSFDggKdFNJfqkEbXkUo8LN34Y8PIMIgAM7zNN6l0rQfhOBcoizF/sTNBA4U4quGaclhBCi8+qw038Ve5agtmSxzJmpKrTLYlC/vA32zbe0LUFb6aYTS5ZHu8HST3IGZ5z035AZcswS2X2vyXAYD5gzbRloG/uyGY/t/raZJqf9YD6/tXn0fG4aQY7noZpFn7Nb3J/r3eZsMUUAjOL+MNe7mb78nHyAvhOICgfKS9ECgf5ugqp/F1EwOoL7G7Jf/hNIesRcsL73c525faTS2m7HF7/+wOlSztc7axdCCNFVteo6Vc1mydiEZq+xCzCUq9TmoKRgPDELRrp8uZ2T6dQ+qSZmAZzZEMMVTSoE5VL+9RxistdgDtZWoo1cgzIynvK1X1AxeRpBVFF9EHo+1w84hmZ7GKHZaoIw96PRqFGpALZxld3EZPejYs8SygurYPIFNC9DQLaawXaDcdNP5RdcJZ6BAc5Ooh/KJ8NQf3gMmnreXV09lqm43vTycbWTnv0fHcAEKJ+a4WaK0F7pySICw5Owhl0Kxj2ciOLTHEpy95Mz9iBDR89AVk0QQghhq2NmqgLG0pN0zttklpptWBoBKvM/By8wBzAVhXnUNWa7pnD5pO1x86iupDHI8QsANJ9hPJnOeUuGqXKf7QGewt8yXRc0eQ2Rk/sBI+k9aRuVjpk0d/1UnIO4sbdmqRoEhdHj7FmprWoQEoISgOsudzEc3sL6L0HxwEKWTnddyG5PT1GhnuiRDlOKoyaQ1Bco30LmDohQhjRv3EIIIbqsjpmpop85K9VQyD4sjdBVTqbFWqDHvN2WAMj+uH5xmLNNA89B3CzrMSdtbHp2DHMAN3iBZcry5FMEZKeas1Zu+qn7+gLgOCYbgwZ59GfQqf3/7d17XJRl3vjxj6HTEpPGWDhqoKvYypjhrApk+FuFTnjCltBKfXbB8rBP0LbS7op7oHbFp7LawN3QUjqIlWSBa5GVxvNIyhgtTS6DKRoOq46UQ+oQNoL9/pgBBpgZQAYY9Pt+vXrl3Ifrvu7DMN/7ur73dd8QTnRIJoby/ew/AOETWs0/nk9qWgGWG2JZ/Xh889AHw23BmMlsBmdtTXUGyv4dRsRPWk33sSWs524w4r7L0ULNKWB0ECOu4OHDhBDiSuSdLVVNxhO67UV8D1VS1zjJZYuNPQDrQEL30OEjqd/zidNWn6EzEhjwnxMc1dHUAsXQkfTf+fEltJoNRrPmXQbeVMn56nbKaa8l6mQl3Dis0zW4fKmJ/X0SGoWF/OcyKT3TPMdcnstjyzIxhSWRlZVEuON7/W5QMwI4ZnI+5IFl3/9RdMMIgpx0KTYlrIdo0bh8dNDMyePA0MFuni4UQghxOerdlqrq7ZQsT6cegJkUb5zCwBeeRYPjdPD9k0NuUsBtXMNMjsWlcwz78k7zkNwITSZAF2EvA8ChJYnxXEsE1bxIRNM25zB88W84FheBrTevve0eQB/3UFMg2H/xu0wKAHBTTsBtXMNqaqrnMNRJuUd1lVwz100r1pVoeCwZr4+jYON61iycASoVigZQ/jiaeX/bStRoJy1RPuPQhkFBpRELwU2Bj3X/ehLX5mMy2zK1ls0tIOZ3m1gR6RAaqaKJvSOTk0PG4bIzsc7IseOgvX+CBFVCCHGF6ZF3/904bCj9+sm7Jtqlz6D4jZFtuzo7kJx/8lT1lfvuv04yv/8Y89b6k/bPVCJdJrlfGmtROnPTalj6+tMt3xUoLtnpmhoUA+Tdf0II7+fl3X9XmNBkRkwt5HjrwT/fGMkIeerPY1Q/e4DYQbv5aJ/FwyVb2P9/RSjuvpdoCag8Rwb/FEL0ERJUeZnmJwjtAuYwycNJ+lc8Xy0LloWz/+85GDw5llR5DhlFkSQ/FC5df0IIcQWSoEpckVR3rGT19D2kPafDI+1VllIyV+9haloyUYPaX1wIIcTlp0cS1f9zQkZXEt5GifbhLNZ+XobJDMFdHMnT8o2VyL9moR0pbVRCCHGl6vag6obr5Yk14a2UBE0I90xJI8Ntwy0IIYS4YnVrUNW/v5eOLSqEEEII4WGSUyWEEEII4QESVAkhvJsMcSeE6CMkqBJCeDcZp0oI0UdIUCWEEEII4QESVAkhhBBCeIAEVUIIIYQQHuByzIP6+np8fK7ivNXak/URl7ELF+rpRz+5pkSnXPzhB6wXrJy3DujtqgghhFv96uvrnaaBnv/+e8w13/Z0fcRl7qqrruLixYu9XQ3Rx/Tv35/6+vreroYQQrjldnTOq666iuuukxeZCc+wWq18910dKpV/b1dF9CHnzlno378/Awde29tVEUIItySnSgghhBDCAySoEkIIIYTwAAmqhBBCCCE8QIIqIYQQQggPkKBKCCGEEMIDJKgSQgghhPAACaqEEEIIITzA7ThVXXXx4kUZsK8HXdXvKvoP6NZTepmppeoLA4ycTODALpZ07FMqrtIQGujnmaoJIYToc7r9F9hiqeXqqxXdvZkrXkPDRa7x9e3tavSuU3p2vPkG75SeAh/AYsYSOJ3FSx7kzjGtg51a9FlJZDQsJ2Ncyzk1u58iZctBLN+YqLUC01bx9m9vo/EqrvlwNSkbP+XUWSugwG9IID9PfpCa55aw79ENLNNKYCWEEFcit6+p+fbM2S6NqH7x4kW+/fYMNw4bSr9+/S65HNG+k6equcbX16tbqhpHVPf4KP0Ntei3/J7Ht9Uy7dePs2xqIAof2/SSrCWkvWvlzideJnlSc7BTu+cpFr2oIj37Qcb6OCu0nI33reCdswAhLHv1GWZd77jNT8mY/QL+z2axaKw93Dr4Eot+c4RFOWu4UwaN95jGEdV9fX/U21URQgi3JKdK9G0NJgrXLGHVNgXzn84keZo9oALw8WPSsj9wz8BaPnjyFfQN9ul1el77+16mJN7vIqACTpTzBXcxa5oCKKdQV9Ny/qkqjgycwuQxDq2wY+9n+bRyNr78KfLKaCGEuPJIUCX6MCv6F1ewdm8tYxMfY36bLj7AJ4TQcKB2B/9baptUU/QGO85PYcpk19101iMVHLk5lEUzZ+EHHHxnJ1UO82sP6jlyczCBLYIyPyZFTuHCh2/wwTdd3zshhBB9iwRVou86+Cprt9fAwDtZNFPtcrEB9sakI1UmoBb9Hj1MCiPUTepTedlext4yFr9xt3HnQODENt79onl+xSG9bX6r9RTa25hCOftKW7VsCSGEuOx5R1Clz6A4LoLiuAhK3jvdy5U5jWFlBMUrt3Oyq2XERVC84UAn1vkNhupL3ugVxsre7W9TAwyZeRehrrrxqKGq0vavAT5A3eeUlMCQEYFtAqJmVRwsGUDIaDUQwp33BgK17Hj/E3u3XhUHS1SEhjgJ5HyDCBwGen3FJe+ZEEKIvskLgqrTGN6oZOALxURsK2bSjMG9XJ/BaNYUE7FmDkO7WsafHvBgvUQLZ/fyQSGAH1N+Otr1cnUGDpbZlgsZrYazNZgAtVrlpuwjlJ+YTOhY28fA6J8TClD4tq1b7+wRyr8JJWSUs5VVDBkGVFZxqvN7JYQQog/zgqDqBBcOjeRHAS2nHt0Q0bb1qno7JSu3Y2ial8FRNyUf3RCBXu/6c1suWpiqt1OyYXvzvC61Yh1AH9dYf3vLlD6D4riZnD20l7PLnWxfn9Huvl5xKg3YeuMmMHqk68WspZ+wF2DgdCaNBU4YOQgM8XfzeN4hPSXaUEY3tn75T2dmlC1h/cM9Jtv8cWOb57fgh/8Q4GgVVQ3O5gshhLhc9WpQZQucHqKOLVQ7Bkn6DKp5kYhtxURse5EBG1c3d4sdSudCuK1VK+CuLZxzEySNCn+AOl1jcHKAczsf4NpQdzVy08K0M50L9xUTse1dBlJIzSV20x3d8BD8qdi+b8+iCQBCk23l3jSlqcUuYsn4S9vAlaIBe1ecEqXLJ+1rKHy3ECswdv7P3XQRtlR1WM+QscE0h10KpkTfiQI48m4hO74oYrRWg4yaIIQQwlGvBlWjltiCJl8eIGBbMRHbkhkFHNVtwTe8MagYT8BiuNDYNHRTKgGhzeuHuguSQqfju/Nje6D2MXV3Tcdpj01HNG13MD/68d7m+nTSqPAHqHuik7ljoclNx0bYBQZh65373uUitSWvsrEUFOMe5JE5rhPZW6pB/y8zk29u1aV4y3RmDgROvErWW3BLSOCl1VsIIcRlywu6/7rTeK61t2adPF7pEKj1otBkIrYVM5zVFMe11x0pXLp+EtPGAnxKSZmT+Sd28Oe/7qT2+lmk/vHnzUMfDLMFY6dqXDydV2fgYNlkxt7UarpPY8I6uO9yrKXmFDAqsNVwC0IIIS53XhlU+d44pUW3XfVGGHCJWeOj5qbC8QPU/GdaUwuXNxg641lGLJ7CheONLVZuWsAkp8oJNbNSfsVYRS07Mv6B/mzznJqDb7Mq6R+cmvQrnl/3KyY5vtfv+iEEAUaT2WmptbpP2Ht9IIFOuhSbEtbHhhLi8tFBM6dOAGoVykvZLSGEEH2WV77TZOiMZ6nbEEFxnO2z75+KbblHl5LHFHAbA/bM5Lup76Jpd+ED6OMeog6ALRTvtG07tNMBnYtyQm15ZNU77YvdlMqINc1PO44Kf4DiJyIoBrjrRcmras+wWax9NYQPXn6JtQlzwV+FogGUI6dxz9M5TBvlJOvJR8Mtk+CDY1XUMrppWAVryUssf24Hp2psmVqPzNvJnSs2kDzFIXryn87MqBcwDQlhiKs61RmpOgGh80PdDNkghBDiciTv/rtMXNHv/uukmg9Xsug5f1K3/ZYpHn4HtXXvU9z31xoSX13T8l2B4pLJu/+EEH2FV3b/CdGd/CPvY9bAQgp1tR4uuZaSor0MuOPnTJeASgghrjgSVIkrj28o85dMpiTrdQ56ciypg6/zwt4pLF88Wbr+hBDiCtQjfUXf1dX1xGaE6DD/qN/y50NJrM4IJetRDwRBtXqyntzLbX/IZNrA9hcXQghx+en2nCqLxdNdLMIVyanqrFqqvjBgDZzM6C6O5Fl77FMq0BA6QtqoPE1yqoQQfUW3BlVCOPK+oEr0BRJUCSH6CsmpEkIIIYTwAAmqhBBCCCE8QIIqIYQQQggPkKBKCCGEEMIDJKgSQgghhPAACaqEEEIIITxAgiohhBBCCA9wOU7VOYuF761W+vWTuEt4xsWLDfzwA/j4+PR2VUQfcvFiAxcvXqR//wG9XRUhhHCr3eG3+/XriWqIK0M/4Ae5psQl6CfXjRDC67kMqgYMGEDtd3WoA1Q9WR9xGas7f56z5yyorruut6si+pDT5hp+5KvgWqW8AkgI4d2kb08IIYQQwgMkqBJCCCGE8AAJqoQQQgghPECCKiGEEEIID5CgSgghhBDCAySoEkIIIYTwAAmqhBBCCCE8oN3BP7uivr6emm/PdOcmLgvXD1bRT0Y2FEIIIfq0bg2qAC7U16Pyl8EeXTHXfNvbVbhyNZip2G9COVGDWtHblelBVhOGzyyow4JRyRuDhBDCY7o9qAK4xtdXWmKcuHChvrercFkxfZZPzuu5lJoAH7CYLQRNX0ry4hiCB7VauMFEfuoydoVlkHFry1mGzYmkf2jBfNyMFVD/chObFwY1z9+4kLQ8E+Y6AAWq4ZEsey6VKBWY309j2d+LbPPuXs1HKeHdus9gIOfBdArOmjGZrYCahJc2s2Bk8/zsX6SRa98XfFWob13GHzR5LFwRzaZnYlFLYCWEEB4hOVWi7ztTSvavZpD4XAXaRzaxefNmNr+ymbzNKxnz6TMsS3wGnaXlKsbXU1nvs5S0uUFtitMs3MTmjGVo7Z9Nb+VT2uAwf/FmtmYtJZhIVmx9j62v2AIqANXdafZ5PUXDgpc2k/VQU23J3VHaYn7CK1vZtDwYIlewNW8rm1OjGDs3jZRr1rNsg6HHatrrvi4g7RcLyf63s5lmCv6ykLT3zT1dKyHEZUSCKtG3Hd9N2rLHyFUsIOPvK4gKdOjHGxRO0qp4lGcKWPOyQ6BhymftyxD/yxjX3V9flqKbGEvsSMCyi6IDrbdrpGJiOOHOXo3po6CnexPL9Dq0s2MJAiwfFbUIAgGOfVWBNiLcYX9VRC1ZgGpbBrnHe7iyvaXBivm4Ccv3zmZasVabMJ+39nTDxLZOAAAgAElEQVSthBCXkV4Oqg6gj4ugOC6CkvdOd2wVfQbFG1r/wvWA6u2UrNzOSRezT773mxb70Pqz6AZ1pWSmpFN0RsPSxxa07eIDCJnAVMCStxudPdAwvJONYWQ00aNdF208VIo6JIYF92oBC/nvFeH4c2v4fA/qkDF4x+vGjVQcUKOJWUD8RMCST0FRi9ry+T41mlGtajtyKjEjK8h5pxQhhBBd1yM5Va6NJ3RbMSff+w19+ma5ejvH90xj+JrBTZOGzniWug0R6PXFhIb2Yt0uY4bX1pD/NSjnJhA73MVCTa1GhzGaIHy4gT0fWVDPDifIZS6RmdISM+GLglEFxxBOKbrdWyl4KJLYG2zzDxushC/quU4+t74uRfd1OAmjVYy5PZxnPtOx+50Clv0s1hb0fX2YsrpwEtoEkUGET1Oz/q39GB7Woun5mns1y6ECcncUoasA7ZwEFtwRjNIHOFNK7mtFmNqsoSZyUTzaQUZ2r9PhvyieoYYcNm0roEYVw72JCwhXNy9t2pdD7sefozP7ExOXyIJbbTMtn+eSXdRcuio4mug7NC1z3yp3k7mjrOXWIxOIn6C0fThTQcFb+RSVm1GFRBJ7b2NeoZHd6/JhVhJRIxvXbDnN+GEm+cSSdIdD1/jxIrI/8SN+nhZlq/obCWLC9Pim+jvVWJ/PTPhNjCRmZixadavjfMKPcROjiZ8X3rSvxg8z0d2QQLy6jJxNb1HgcKxaH6cWfhJLUthpcl+rIHhRPNqmGy4LhrxsTBOa99VV+U0aTOi25rLrszJqh4UTOSuemJsaj3Ora2FwMNHTY9CoXRxrcyk5WwwEP7CAccZcsg8Fk+BwTLEYyH/ZhPbhKNokJpwpbbs/TqY1Hk9DjQrNbbHEN163rVg+b2/7tvq3vMrGEftwMBVduL5bHlMjjJxA9L0LCFdbKN2aTVG1k/MJjGtxzdp0+fw5lJP/peMUx+9y6+8LmP43mz2D4pu/bw68tvvv5Hu/odjeimVrmTqNYWUExU9sgZ0P2ef9BoOLE+C6HJujGyKapje3KB1AH5eBoWkdW/lHN0RQvDyd+kPpHLOvo9c3lnQaw3OFXPPoHIa22vaoualceMN165bogroi8raaATWxd2pdL/e1kcMAKFD4AJWl7DkDwUFufgDqDJT9exzBPwYGRRJzhwIwkLvT6DA/jHE/6VyVTfuyWZWUyGPp6SQvTGTVyzpMjt10X+vI/uMyFqasYtWDC3ns2WyeSVnIvNm3M+PX+U5+xG2shjIM44MZ4QPKyBiiFMC/cymodJgfNo4xTv6wqgM1YNFRVtW5fbncmf6ZzLwnikAzh4R7J3DylWUkbrTnn9UZ2ZOnwzoqjLCJ9v9GWdHl7cFYB3Casrz1rPnvZDK/VBEdl0TUwD08nphMvgnASunzc0l8zURQxL0k3X4te/6SyKoPbflclso95B9QEbMogfiYSJT6NBJXtDr/p8vI/9RK8MQwwiYGY/00nz2V9sTB4/kk35+K7toolv5xKVHX6khdlkmppbFu+ZS1aERvOe20IZ98g8MCdaVkpqSRs8eIbQsWSp+fR+LLZsbNX8GK+eMwv5xIcp6LK/R4Psn3J5Nv1TBn0b1EDK4g++8FmAFTXjLzVuRj1cwhIS4CdUUmiQsb62qry/onl5GcYUA1vflYJf/ThOKG4KbjH2zVORyPMMJGKe3nqfGcNJ7XVFLWtdxXV+XbdrWUzIWJZFaoiYhLYI7GSv6Kec37WmdkT14ZqjsTSLg3hkjfUtKaznPrY20i/4lV5KNBq7Kf56Zjap//hxQy88pw2sfhZH9aTzPlJTPvzzqUP1vKn5dEoSxOJXFdKRYnxbW/fVv9jdc5XOcTg1B28fpuPKbZp8cxL2UF8zRmsh9KJv+4gqE3NW7Hdk3rrM3nOGhg233o8vlzKKdpW22+yy2/L9bPM0n+S07z962VXm6pcsHe8jNi27MtAhXNmmJb959uOhFLxl9yOegzqOZFIraNxxZIrcYw6Vk0AQBb+I53idg22NaCVnIazZJiRs3dTslzMHxNq+Cp+hO+YxrDA5xsP2AOqh9HUK2fw1BprfIoS1EBuwEGTSXcTTee1VCGAWDQOMbcAHxuxoSSqQFt7zCaVJaxf3QYCwcBKIicGYvyw1xbwvr9SWgry9gfMo5E347X15SXTOIGSFi/ifhAbE8frkhk4WcJbP5bPGoMrE9eRW5QElufjEWFgfXzkskdn8qmtJPkVwWhbACcBEYVX+4neOJCW6uUbyRzZyvZvc2WsL7gYS0VX+5HMz4RZ3usCBiMkt0YTwKBHd+fviz/d7eT72KeJtr2f/WMDN6bgf14h6P1OcyMjD0YlmjsLXoqgn8a3nxnbjKRw7GWZSWmkxZlP+q3DsXyeSK5HxmJXRiE9uE83ms6l+EM/UZH4sefY7kjyjZJoUQ5SIl6kJbYhfEUPGTkJNC0uarD8JN5RN8ajgITpi3Yt25h998zsTywiYx5traOoHmpJH81l+yP4tHO7ezRslC64RkOX+/QKluew+M7J5C6NYlIJYCapD+cJnFpLqWzk9D6tFx/94vrMd61mq3LtfZW43Ci5gJndrNqnZGYJ7eydKJ9zq0TUP5uHo9viSZvib3t9CeJpKdF2a/fcIaeLSXxrV2YZi8g3N5CbTqVA18Fo701vOkYtbkLOZ5P+psQfEOr6S7KN85egGXL4+Rfv5TNf4y1lxtO+I0w99eZ7J6+GtvZUqAcqESpDkY7N5H4gkSMJppPVmN18tJZfyqWtc9oneZcmvLSyW0IvvSUgjO7yVxnYcFLGcSPBAgi/nfJHI7LZtd8LbFu7iPdbT8oJJzwiY5TbOkCl3p9G7c8TsH4VLY+HGk75uokUr9JZNlbZcQ+0nj+7Nf0KC3h7lpAoWvnb5BtW8YK0NwbTfitCqff5SaWUtavPYzazW+OdwZVAbdxDTM5FldJ3bZkRnm4nKO6LfiGJ9s/jSdgMVSfBAIAHkA1w9aNN3TGs21an9o4WQlTF7hczvfGKZiPn4bQwS6WEJfi8Jf2PKDxY9x041nZX1wEgHJ6GBof+48RalT+rss2GUphQnJzuTfHsGBkLusr89n9WRJDq0pBk9zxoQjMBTyzzoA1MpWYxsDFR03sA9Fkpq4n/b1oMgJ3kf81MFFtTyZXoR4GFBVQlvw0SRNdFW6i7DPQJjV3FmhmLSBo23qMebvRLR+K8TMYl+TiD5O/miDgcJUJwtr543WZiErNI7nN8TSR/9tl6Bo/Np7bBisWixUagDNWnOa4uzB4kGMYG0TweDAZjVgJsrWaOpRv9VHCuXPNrQZnKyjdp0NFLcaP9qB+NBXH9lhztRHFQD8nP86HKdsP+OSTua55qvWkAsOPmtvMS/MyydzXvO+lgLP2Xsv/ZrDqVCJro/NI3mVf+ssyLL6gezmT5mw8E1jPYfyapm69pvoUWZma7iSQqChDx1RWT3Cco0IbFoyl8DCmxg5pf/8WNwRBo7Vw/BjGOgjq6I1Ng5GcP+cwbtUKrEmrWs5zWb6J0wcsBE8LbxkfhUxgKrmUVUDUcAAzFf/SofOH2qoC9tyYQqrDPb+xXIfujIGcjbA0aykaZ383KnNIfXMcqY9aSU51tyNGdm3OxPgj+8fzhzE2zqoos12/OzLJbFreisnXwLXHaRPkXdr2m13a9W3i8AELCh8d2esccjlPgfVbIya0bqvpVFfO30QAM6YTCq4d1N7jRRaKMlZh+sVaorcns8vFUt4ZVDHY1irVmMh+UyojWrcQdaEcT6v/zwnAddA0YLgEVB7XYE/EVvo5bYEBwLyL/A+tgIYF97jpImzBSsWXFUyIcMxoCGLqLA3r1xko+CifYEsFYbM7noFk+azI9uPTuq4+ti+x4bPPsYxXoaLtzTX4cbW773pdBYePTCBipMO0wKnEhqwns7yAXf8MpvZIGHNCOlzdy961g5Qo2zzUoETpeJy/1pGdsZ6CL62MmBBOUF0FzsOOTrJYsQLWQwWs/0c2um9UjPnpOFTGVmfecgzDZ7Z8QGudBeOBCsxRjQG3BVOlBe30MS43Ezw9gYQWgWMCSxVKGlsZBv8kjLCmu+0KjHk62jieT+qL17I6KwrVR3kt510fTuyi2BY/VgmLQOHiy6hweQOiaDvPpyPPztZitQIdCqoslK5LRTcrg4yQkw4BRwfKx0nd2zzda+GYYT+KHwHWC1iOlVJhjkJtbxE7/eV+9lcbMWHBZLLA8FYHyVJK5h90xK7NQGNqr3ZKRmjCCGu8KayxonvfsVUlmOhFCYQ5rrJoqcvz0vntt6OD17c6PJaEGS2uHhJ8FK7/lndaJ87fGRPGM1qif+y+RFNeKll+q8m6Q8Wu7a6X89KgqtF4Qre9iD7uY5q6kYeOpP9XX3GS8a2CrAPo4x6i7q4XnXQNtizH98YpVOsOQKit+696Iwx4oZ2qBPyYAYcc6tFufWzq/gMDJnVsb0XHjRilAQy2FgSnLOg2racUBZrlKcS7SmRvo4zSIg3axJZfb/X/i0G7zkDp7kwy0bIipeN1tZ4/536Buu+xjowhMSyH9KJdFD0UTuTZPewqB1XcPKLc/aX5spSiEC0tq6tm6kwtmeWl7F6XCRNXsEIG+OwEI7krV1Eas5mtf7H/4f8sk/x97tdyz4zpBChHq1HWFZH+6/VcnbaZrWG2E2fKO0yB463vsGgWPNwYtBhYH5dCTtR7JE0AzHso2K8hMtnZhTGUoBDYddaCcpDre/6WXToK9rde4EIF+U/nMyZlE1ply2BfHTgGRZWZc0olwe1eV4NRDYddR4wwsVXq9WAVanQYTS1bt04eq4Ch81CB03xU89dGGBSM2tnTvs6WL84m96t41j6idlGiq/JVKIZCxTHHjlfAZOQwasKb7pWDiF6Y1NS9Ztgwl5Q3o3jvYdtn7dwkkiZC/IhkFq7NJmxTEtqmYNCMbmMuh+evJWk4zu6qWnHT7Tw8CA27OFenRNnh5p7Obt91OR27vtUEBSswVp9DOah7HvTp7Pkz7ytAFxJJkpvryVqZT/o7Y1jxohZlOwepdxPVq7dTEhfBsY17qd84sznx3D7dliz+EPzJoQsw4DauoTFhvJ1EdRflDJ3xLAE85DC9MZ/KnfFce9cWqlsnqgfcxjUUUuO0Hgc499U0/NstW3SWanK0rXNg3/42YzKB7a7i8fctqGb/mXSHAT7VgWMAE+YaFwVXGtDdoGVc67wLVTSxd9jvb4ZrGNPBP+gAqglTbU/yfG3GcWhJq8UWbAWNH4cKK+fOqYi5dygFKxey8PnDhKduYtMS9y1ixn/rUE0c16bJXPWzWFvCOrgf+qHGhBEYE3hldP11zGlMJ0Dlbw9aGkzs/mhPp0vZ89HupgcRzPtyyP4siAUxGrCcxmRVorqu+Um9XYUVrguqKqPsjBr1YKDBgu61bMrC5jLV6SlTM3VOOBUb0smttN+qN5gxvJ9DUWcesX4/m13T1pI0wUmr0YRoYgfls2adDrN9/6zHdeTkGZwkRAcRfa8G08tryW18GOJMBQWvF2EKjCb+5gqyNzUfJ8uhHLJ3KomdEdbcmlBcwO7G3zGzjpxXSgmaH9PBp1UN5LwJK/4a67pbyWX5CsJmxKL8ZzbZh+x71mBi9ys5VNwcT/RIJ2U1GCk7YEEd0LZ3Qj03hQS/fNZsLG0enqU8hxxWkD7bA98/9VTmhlWw/n9yMTZuwGywHWtXN59d2P6lXt/aO2NR/nMNmfvsfw0brJj25ZD/b+eJ3+3qyvk7oyPnlTLC50x12+1YsHEX0U86BsOu9W5LVcAcJm1z1h3najo0d+m1ZhueoWPlw6glxYxa4qwM1wnwztcZjOa+kRQ/t52Trbooj254CO4rvoRuS9EudSypD+8icV0+z7wQSdZyre2x4QYzhm1rSNlgIuzhLFJmt3qcWK0mGAsnqy3gpLG5onAXpqCFTvKlmhPWrT+d0IE7dAeB8aQszCdlcz4FlTG2V8g0mMh/azcKdSxJc4MAA6YTJo59N4IFi5IAuPZGFbjr4mioYFehiRHznfw5aEpYtxI+3vUdobX6NBbUqOT1nA60xC/Xkpg+j3mvqFAM0LDg4QWEf2hsf1UHmoHHSJt7OxV1gG8w8elrbQ8pEE3C3FxW/Xouu25Qgn80K+bHotzisHJ5Jgtvt3XFKAZpiP5jOvED8km+K5MKdSQpT0a5DJRVd6wkozaD9KQZrLe/SikoaimpkR2vu+LmpaS6+qH10bA0YzWsXsPCuyxY7XWM/V2a0+4b9ex01p5OJXXp7ay3Ar5BRC1OZaqPmti/ZkBGOol3pdtfoxRMfFoWSx2DuZ8M5tgTM7j9kBVQEBy3mrVxbd+E4JyK2JQEtO5ae92Ur5iQRFb6etJWziPnjG2++mdLyWgRpBnIXHi7rVtRoURzexrpcUHQ+hk+nyAWrFhAwYo1ZEdvJRbghlhWLtZ6qNtLRVRqBucy0lk2Y739eDYeaxerdGH7l3x9hywlKx3SnlzI7fZjqrw5lpWrLvEoXOL5Iy+Z29dVoP5ZCmuj3D0eoECzJNX1sD2t9Kuvr//B2Yzz33/Pt2fOog5ofcvecfX19VR/c5obhw297N/9ZxtraxWT7EnurT87c+FCPabqaoYOCbjsjw9A3fnznD1nYcgN13usTMuhAtZvyGbXl6BSKaBByYjb55EwJ4pgp98TA+vjktk1O4utv2wONkz/XEXKy6WYzthu8RSDgkl4Kov4Fk95GMl9MJGyB/Kan3ppxfx+Gsmb9tvfw6dANTyetFcS0ACmfetJX5uP0VeF0mpFFbGMlIejCLL/fhhfTyRxY9sfbsVNC1j7VAKapk2ayE9NIftzExYrgALlTQms/Ud8y9fjVOWSmFDGwrw0l12Ixs0LSXxnKhlbXSTQeoHT5hoUCgXXKv16dsMNVixWBcpOPOVpU0rm7Y/Bkx+RNBGsVlA4SxOyWrC0zuXyNJcb95AGK1ZneVGuqlMHChfH01lVS5+/ncd4mo8e0XbLvnSq/O4+lh7WfdX14PXdxUp64/nz8pyqvqP1k4IdenJQdJnyphhWrI1hRYfX0DD1diW5H+sw/jK4aYA99ezVbJ7d3rpBxL/0EfFullDdncbmu53PU9+6lIxtS53Osxals2yjkqUvvUf8SPsXv8GM4Z8ZpK3LIWNnDFlxjffGamLTN9vudN0JjGfTR+5qa0RXaGp6MlK04nMpAVVbLv+OK5QeTMzt7MY9pJOvZHIVUEEHqtrd+9Je+X0ooIKeq26Xrm9PVtJLzp/XDv4pRHfR3JOA5ngBuw71dk2alX22G+voqUwd6fDF91GhmbuM+NFQ8ZWLcVO6onIPBZWdeTJSdMxgxs2NZZw89NtlgzWxxGq670B2d/mXJ++5vr3x/PVI99/Vbp8Jv7J9/71Vuv96gWHDPJKPJLD1yRiveH+f9fNMFqbsIvwvm1lxa/P9nfH9NFLWGpj65CaSJnqyXcPM7tSFbL4pg02/9JLX7bjQa91/QgjRSd0eVJ3/Xt763h6/a3wlqOppDSbyUxPZFbaJjDjvePKtMT9sz1cKlEqgzoriJzEsXbKA8EDP3piY8pJZti+ajPRYN4OnegcJqoQQfUW3BlVCOPKqoAqgwUzF/mMoJ2hReyB3ps+wmjB8ZkYVpun4qPC9SIIqIURfIYnq4srloyL4Vm/o/OthCjWa9t6nJYQQotMkUV0IIYQQwgMkqBJCCCGE8AAJqoQQQgghPECCKiGEEEIID5CgSgghhBDCAySoEkIIIYTwALfjVJlrvu3p+ojLnI+PDw0NDb1dDdHHKBQKrFYZSFgI4d1cjlNVX1/PgAH9ueaaa3qyPuIyduHCBazfWxk0aGBvV0X0IbW13wE/yHUjhPB6LoOq/v3709BwER+fPjDksugTGhoauPjDD3JNiU7p168fPj795boRQng9yakSQgghhPAACaqEEEIIITxAgiohhBBCCA+QoEoIIYQQwgMkqBJCCCGE8AAJqoQQQgghPMDlkAqecPHixe4svtdddZXEpEIIIYSw6dagCuDbb8909yZ6xdVXK/Dz8+vtaoguqaXqCwOMnEygl44rWXvsUyqu0hAaKNeaEEJ4u24PqgBuHDaUfv369cSmesTZcxbOf3++t6shWjlVuoM333wb/SnAByw15wj82YMs/+VdjG4TNNWiz0oio2E5GeMap5Xz5sP/YO95E1Unapn021xSp3kwmKkpZO1jr1JuMXPqrBWYRuq23zLF1z7/m52kP/YSJadqsQKKgWoCY+4hZNff2PfoBpZpJbASQghvJv1Xou87q+e1R+ayPOMIt/x3FhuzN7HxpU28mf1bgkue55Elz1NS23KV2j1/5/G9U3hs2WT8mgbqDmH+umeYf1MtVkYTMtrDQYz/NFJe2sRjdw6wTyjk7d01zfOvv4vU7FxS74Ah857hjZxNPP+L2SxLnc4nq/7KBzVOSxVCCOElJKgSfduJQtIfXsk7ivt4+vlHmBaoaJ43cDLLfvdz/M7u5OnX9M3T6/S89ve9TEm8n7Ft3nxyhPJ/AYoQRg3rjgqbKP8X3DlzGgrgYOEn1LSaX3XEjymTQ1A01m3s/SyfVs7Glz9FXikshBDeS4Iq0XfV6cn6/VPsPRtC4qP3OeniA8aGchtQu72QkgbbpJqiN9hxfgpTJjtpiTpRzhdngXGjCeqOV83VHeHI0Qncsmg2MwcCZW/zwTGH+WcPoj86gdEjHVfyY1LkFC58+AYffNMNdRJCCOERvRtUVW+nZOV2TnZytZPvZWCo7siSB9DHRVAcF0HJe6e7tU6i5x18/Sl2fAN+d/8Xs1y1KvkosLVdVVB1CqAW/R49TAoj1ElMVXtQzxFgyNhg/Luj0of17B0bSsjAEG670w8w8XaBQytapYEvxoYS0qpuCu1tTKGcfaXSByiEEN6qb7VUVW+nJC6DuuEjoSSD4naDn/GEbitmxOIpPVM/0XPqPmHHWzWAmlnRoa6X+6aKCgAUDPAB6j6npASGjAjEWcZURbke8GPKT0dDQw0lL64kZVUSix/bwSkPVLuqrIQBIaMZAoy9434CgdrtO9lb1zzfXxvCkNYr+gYROAz0+goP1EIIIUR38J6gqno7JXER6PVulgmYw6Rt0zn3RDpn/zOdiDVzGHqp29NnUGxvxWoMzo5uiKB4eTr1h9I5Zp/ntj6i19Tu+4BCgIFTmDzK9XLWcgMHAQaGEHw9cLYGE6BWq5wsXU7JHiswgdGBJgqf+ht67SxCvqniVNnHfNrlqKqWI+UmJt8SYvsYOJ17tNCcsF7LkXIzoSGjnayrYsgwoLLKI8GdEEIIz+uRIRXadwD98kKueaEYTYCbxaq3U7K8EtWfUhlw/GOKV37FiEsKrA6gfwICthXT4vd4STGj5m6n5DkY3pWATXS7ikP2aPfmYAJd5j5ZKdHtBcBv2mRbUvoJIweBO/2ddO6dOkL5WWDEAA6ufYEhi1exOOAIb/qrCI38L6Zf72IzdbXU+vjhp3Axv1GDgS9KQrnl0cYJ/kybOY2s0kIOFnzMqbsD+aIkhLGPOlvZD/8hQEkVVQ0wpDvyvYQQQnRJ77dUHUrnWFw2A1541n1ABfaWqmR8j1fCpOQutFSN59q7tlAd95sO5mYJr9Ngfw7Oz89pNx4ANR/z7m4rEMJ9c9x0EdpZD9lbtY4V8okilEAugG8I8/9nE6sXhToMveCg6m2Wx8Uzf+5TTV14Lv3nCPphIS0S6hXhd3GnAji6g8J39XwyajIhXjoQqRBCCPd6P6i66QF8b9rLhU5khg+dkdx+ANaOUUuKidi2Cp6LoDgug6NdK070sKCR9i60BldL1FLy8kvoUTD2oV9zTweGRygv2wv4cc/qHFaN/oT05fGs+rCdxHClikBfUAxRoWqnparm359Sow1ltGNw5hPKtJm2hPXXst6G0BA3LW9CCCG8We8HVYwkYM2L8ERvtBoNRrPmXQbeVMn5xm0H/JgBhyppr9FB9C7/SdMZC6D7FL2TwOrU9j+R/mEt/jNX8ficwOYZw4IYC5yqaR0sVXGwxAqKSEJv8Wds1HRGAeWHjEAVO37/FIXO4iv/aaRue4+3sx90MuaVIyvlZeVMGhfcZs7Yu20J6wChY4JcrF9LzSlgVKAEXUII4aW8IKgCGE/oC9P4brmHE8Ptye/HNu6lfuNMipu6+5qHWiiOm8l3U1c5tHw1dg1KorpXGzKLx5aFoKjdQcaLemobA6uGGg6+tZLlWSYmLcskq8WI6cD1QwgCjCZzy/LOHqH8BDAplBAfwL5O4LAhULaT13w0hHalW+7sXvbu9SdwuJPOyqaE9RBuaT2WQhMzp04AahXKLlRDCCFE9+ndRPWAOUxa4/DvbXM8X77TMm1DLbgyakkxo5Z4tirC84bMeYbXQnayceNTLJoH/v5XQ4MfgVFxPJ0zjdHOBpry0XDLJPjgWBW1jG7Oxzph5IhCwZQpobZp109n0T07WVu4mlWFgSxOeRD/S2khsn7Kxl/9jXdP1NhGQ39kLh/c/RhZybc55ILZE9ZPqQlxmQxvpOoEhM4PdZ1DJoQQolf1q6+v/8HZjPPff8+3Z85y3XWDLrnwixcv8u23Zy7bFyr7+cnPW2dYrVa++66uS9eUJ9R8uJJFz/m3fJmxl7PufYr7/lpD4qtrmOUq8LpMnTtnoX///vj6/qi3qyKEEG55SfefED3HP/I+Zg0spFBX2/7CXqGWkqK9DLjj566HdRBCCNHreqT7r+HixZ7YjBAd4xvK/CWTWZz1Ogentpdg7gUOvs4Le6ew/NXJ0vUnhBBerEeCqpOmy28M6Kuvbm+kR+HN/KN+y58PJbE6I5SsR704WKnVk/XkXm77QybTZPwqIYTwat2aU/XDD06LvmxcTnliPcFbcqqa1VL1hQFr4GTnSe1eoPbYp1SgIXSE14Z93U5yqoQQfUzWbj4AAAA1SURBVEW3tlRJ0CG8mx+Bt0zu7Uq45TdiMu2PBS+EEMIbSKK6EEIIIYQHSFAlhBBCCOEB/x9cxa9G95QIxAAAAABJRU5ErkJggg==)"
      ],
      "metadata": {
        "id": "N_BC4-VXfA8k"
      }
    },
    {
      "cell_type": "markdown",
      "source": [
        "![Скриншот 26-04-2023 11.08.22.png](data:image/png;base64,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)"
      ],
      "metadata": {
        "id": "vRHg9fV0nIlK"
      }
    },
    {
      "cell_type": "markdown",
      "source": [
        "![Скриншот 26-04-2023 11.08.32.png](data:image/png;base64,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)"
      ],
      "metadata": {
        "id": "VoKDLoCDnI0s"
      }
    },
    {
      "cell_type": "markdown",
      "source": [
        "## EXPERIMENTS"
      ],
      "metadata": {
        "id": "T4hf1ef5g0Vs"
      }
    },
    {
      "cell_type": "code",
      "source": [
        "x = np.array([[4*i + np.random.normal(i,10,1)[0]] for i in range(n)])\n",
        "x_new = np.concatenate((np.ones((x.shape[0],1)), x),axis=1)\n",
        "y = np.array([[10+4*i] for i in range(n)])"
      ],
      "metadata": {
        "id": "LaGbTiNog3mE"
      },
      "execution_count": null,
      "outputs": []
    },
    {
      "cell_type": "code",
      "source": [
        "class LinearRegression:\n",
        "  L=1e-3\n",
        "  def __init__(self, X: np.ndarray, y: np.ndarray):\n",
        "    self.X = X\n",
        "    self.X_new = np.concatenate((np.ones((X.shape[0],1)), X),axis=1)\n",
        "    self.y = y\n",
        "    self.theta = np.ones((X.shape[1]+1,1))\n",
        "    self.loss = []\n",
        "\n",
        "  def predict(self):\n",
        "    y_pred = self.X_new.dot(self.theta)\n",
        "    return y_pred\n",
        "\n",
        "  def update_coef(self, l=L):\n",
        "    n = len(y)\n",
        "    y_pred = self.predict()\n",
        "    for i in range(len(self.theta)):\n",
        "      self.theta[i] = self.theta[i] - l*((2/n)*np.sum((y_pred-self.y)*self.X_new[:,i].reshape(n,1)))\n",
        "\n",
        "  def train(self, n=100, l=L):\n",
        "    for i in range(n):\n",
        "      self.loss.append(1/n*np.sum((self.predict()-self.y)**2))\n",
        "      self.update_coef(l)\n",
        "\n",
        "  def loss_plot(self):\n",
        "    fig, ax = plt.subplots(1,1, figsize=(10,4))\n",
        "    ax.plot(self.loss, linestyle='-', markersize=0, marker='o', c='b', label='loss')\n",
        "    ax.legend(loc='upper right', fontsize=8);"
      ],
      "metadata": {
        "id": "8sGTiX4_SSl9"
      },
      "execution_count": null,
      "outputs": []
    },
    {
      "cell_type": "code",
      "source": [
        "x_new"
      ],
      "metadata": {
        "colab": {
          "base_uri": "https://localhost:8080/"
        },
        "id": "eQ_uJdEjjriP",
        "outputId": "825841db-5d5c-43d2-fd4b-8fd3ff04f2ec"
      },
      "execution_count": null,
      "outputs": [
        {
          "output_type": "execute_result",
          "data": {
            "text/plain": [
              "array([[ 1.00000000e+00, -2.24236441e+00],\n",
              "       [ 1.00000000e+00,  4.00044985e+00],\n",
              "       [ 1.00000000e+00,  1.29057390e+01],\n",
              "       ...,\n",
              "       [ 1.00000000e+00,  4.99897877e+04],\n",
              "       [ 1.00000000e+00,  4.99904382e+04],\n",
              "       [ 1.00000000e+00,  4.99932818e+04]])"
            ]
          },
          "metadata": {},
          "execution_count": 537
        }
      ]
    },
    {
      "cell_type": "code",
      "source": [
        "np.linalg.inv(x_new.T.dot(x_new)).dot(x_new.T).dot(y)"
      ],
      "metadata": {
        "colab": {
          "base_uri": "https://localhost:8080/"
        },
        "id": "5qeJTuif7x4_",
        "outputId": "ec7d502f-890a-4cac-abb1-614b19924665"
      },
      "execution_count": null,
      "outputs": [
        {
          "output_type": "execute_result",
          "data": {
            "text/plain": [
              "array([[9.90117442],\n",
              "       [0.80000599]])"
            ]
          },
          "metadata": {},
          "execution_count": 532
        }
      ]
    },
    {
      "cell_type": "code",
      "source": [
        "reg = LinearRegression(x, y)\n",
        "reg.train(10, 1e-8)\n",
        "reg.theta"
      ],
      "metadata": {
        "colab": {
          "base_uri": "https://localhost:8080/"
        },
        "id": "URV4X0Y67hSW",
        "outputId": "0d713863-dd85-410a-a898-85b0cd4b5966"
      },
      "execution_count": null,
      "outputs": [
        {
          "output_type": "execute_result",
          "data": {
            "text/plain": [
              "array([[5.32867722e+06],\n",
              "       [1.77612746e+11]])"
            ]
          },
          "metadata": {},
          "execution_count": 538
        }
      ]
    },
    {
      "cell_type": "code",
      "source": [
        "reg.loss_plot()"
      ],
      "metadata": {
        "colab": {
          "base_uri": "https://localhost:8080/",
          "height": 276
        },
        "id": "_nKjRxruh82B",
        "outputId": "5c2e3491-0234-4187-bc47-98bd9f32ddbc"
      },
      "execution_count": null,
      "outputs": [
        {
          "output_type": "display_data",
          "data": {
            "text/plain": [
              "<Figure size 720x288 with 1 Axes>"
            ],
            "image/png": "[encoded data removed]"
          },
          "metadata": {
            "needs_background": "light"
          }
        }
      ]
    },
    {
      "cell_type": "code",
      "source": [
        "l=[1,2,3,4,5]\n",
        "l[2:2]=[20,30]\n",
        "l"
      ],
      "metadata": {
        "colab": {
          "base_uri": "https://localhost:8080/"
        },
        "id": "uNNn7xzIj0dI",
        "outputId": "10316118-9650-4475-a738-69b2812e46da"
      },
      "execution_count": 13,
      "outputs": [
        {
          "output_type": "execute_result",
          "data": {
            "text/plain": [
              "[1, 2, 20, 30, 3, 4, 5]"
            ]
          },
          "metadata": {},
          "execution_count": 13
        }
      ]
    },
    {
      "cell_type": "code",
      "source": [
        "l[2:2]"
      ],
      "metadata": {
        "colab": {
          "base_uri": "https://localhost:8080/"
        },
        "id": "A0uCeIrekZCY",
        "outputId": "1034d7bf-625f-4352-851c-a8cb179c3018"
      },
      "execution_count": 14,
      "outputs": [
        {
          "output_type": "execute_result",
          "data": {
            "text/plain": [
              "[]"
            ]
          },
          "metadata": {},
          "execution_count": 14
        }
      ]
    },
    {
      "cell_type": "code",
      "source": [
        "help(list)"
      ],
      "metadata": {
        "id": "D24fP9pVQe02",
        "colab": {
          "base_uri": "https://localhost:8080/"
        },
        "outputId": "2f5ddb9a-460d-49de-d994-9ad9928fb3e1"
      },
      "execution_count": 1,
      "outputs": [
        {
          "output_type": "stream",
          "name": "stdout",
          "text": [
            "Help on class list in module builtins:\n",
            "\n",
            "class list(object)\n",
            " |  list(iterable=(), /)\n",
            " |  \n",
            " |  Built-in mutable sequence.\n",
            " |  \n",
            " |  If no argument is given, the constructor creates a new empty list.\n",
            " |  The argument must be an iterable if specified.\n",
            " |  \n",
            " |  Methods defined here:\n",
            " |  \n",
            " |  __add__(self, value, /)\n",
            " |      Return self+value.\n",
            " |  \n",
            " |  __contains__(self, key, /)\n",
            " |      Return key in self.\n",
            " |  \n",
            " |  __delitem__(self, key, /)\n",
            " |      Delete self[key].\n",
            " |  \n",
            " |  __eq__(self, value, /)\n",
            " |      Return self==value.\n",
            " |  \n",
            " |  __ge__(self, value, /)\n",
            " |      Return self>=value.\n",
            " |  \n",
            " |  __getattribute__(self, name, /)\n",
            " |      Return getattr(self, name).\n",
            " |  \n",
            " |  __getitem__(...)\n",
            " |      x.__getitem__(y) <==> x[y]\n",
            " |  \n",
            " |  __gt__(self, value, /)\n",
            " |      Return self>value.\n",
            " |  \n",
            " |  __iadd__(self, value, /)\n",
            " |      Implement self+=value.\n",
            " |  \n",
            " |  __imul__(self, value, /)\n",
            " |      Implement self*=value.\n",
            " |  \n",
            " |  __init__(self, /, *args, **kwargs)\n",
            " |      Initialize self.  See help(type(self)) for accurate signature.\n",
            " |  \n",
            " |  __iter__(self, /)\n",
            " |      Implement iter(self).\n",
            " |  \n",
            " |  __le__(self, value, /)\n",
            " |      Return self<=value.\n",
            " |  \n",
            " |  __len__(self, /)\n",
            " |      Return len(self).\n",
            " |  \n",
            " |  __lt__(self, value, /)\n",
            " |      Return self<value.\n",
            " |  \n",
            " |  __mul__(self, value, /)\n",
            " |      Return self*value.\n",
            " |  \n",
            " |  __ne__(self, value, /)\n",
            " |      Return self!=value.\n",
            " |  \n",
            " |  __repr__(self, /)\n",
            " |      Return repr(self).\n",
            " |  \n",
            " |  __reversed__(self, /)\n",
            " |      Return a reverse iterator over the list.\n",
            " |  \n",
            " |  __rmul__(self, value, /)\n",
            " |      Return value*self.\n",
            " |  \n",
            " |  __setitem__(self, key, value, /)\n",
            " |      Set self[key] to value.\n",
            " |  \n",
            " |  __sizeof__(self, /)\n",
            " |      Return the size of the list in memory, in bytes.\n",
            " |  \n",
            " |  append(self, object, /)\n",
            " |      Append object to the end of the list.\n",
            " |  \n",
            " |  clear(self, /)\n",
            " |      Remove all items from list.\n",
            " |  \n",
            " |  copy(self, /)\n",
            " |      Return a shallow copy of the list.\n",
            " |  \n",
            " |  count(self, value, /)\n",
            " |      Return number of occurrences of value.\n",
            " |  \n",
            " |  extend(self, iterable, /)\n",
            " |      Extend list by appending elements from the iterable.\n",
            " |  \n",
            " |  index(self, value, start=0, stop=9223372036854775807, /)\n",
            " |      Return first index of value.\n",
            " |      \n",
            " |      Raises ValueError if the value is not present.\n",
            " |  \n",
            " |  insert(self, index, object, /)\n",
            " |      Insert object before index.\n",
            " |  \n",
            " |  pop(self, index=-1, /)\n",
            " |      Remove and return item at index (default last).\n",
            " |      \n",
            " |      Raises IndexError if list is empty or index is out of range.\n",
            " |  \n",
            " |  remove(self, value, /)\n",
            " |      Remove first occurrence of value.\n",
            " |      \n",
            " |      Raises ValueError if the value is not present.\n",
            " |  \n",
            " |  reverse(self, /)\n",
            " |      Reverse *IN PLACE*.\n",
            " |  \n",
            " |  sort(self, /, *, key=None, reverse=False)\n",
            " |      Sort the list in ascending order and return None.\n",
            " |      \n",
            " |      The sort is in-place (i.e. the list itself is modified) and stable (i.e. the\n",
            " |      order of two equal elements is maintained).\n",
            " |      \n",
            " |      If a key function is given, apply it once to each list item and sort them,\n",
            " |      ascending or descending, according to their function values.\n",
            " |      \n",
            " |      The reverse flag can be set to sort in descending order.\n",
            " |  \n",
            " |  ----------------------------------------------------------------------\n",
            " |  Class methods defined here:\n",
            " |  \n",
            " |  __class_getitem__(...) from builtins.type\n",
            " |      See PEP 585\n",
            " |  \n",
            " |  ----------------------------------------------------------------------\n",
            " |  Static methods defined here:\n",
            " |  \n",
            " |  __new__(*args, **kwargs) from builtins.type\n",
            " |      Create and return a new object.  See help(type) for accurate signature.\n",
            " |  \n",
            " |  ----------------------------------------------------------------------\n",
            " |  Data and other attributes defined here:\n",
            " |  \n",
            " |  __hash__ = None\n",
            "\n"
          ]
        }
      ]
    },
    {
      "cell_type": "code",
      "source": [],
      "metadata": {
        "id": "p98xAnV-jSba"
      },
      "execution_count": null,
      "outputs": []
    }
  ]
}